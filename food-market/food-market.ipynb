{
 "cells": [
  {
   "cell_type": "markdown",
   "metadata": {},
   "source": [
    "# Принятие решений в бизнесе."
   ]
  },
  {
   "cell_type": "markdown",
   "metadata": {},
   "source": [
    "**Для крупного интернет магазина совместно с отделом маркетинга было выдвинуто несколько гипотез для увеличения выручки. Нужно про-ранжировать гипотезы в порядке приоритизации и провести анализ А/В теста. \n",
    "Предоставлен файл из 9 гипотез с оценёнными по 10-и бальной шкале параметрами. Результаты А/В теста храниться в файлах заказы и посетители.**\n",
    "\n",
    "   **Цель исследования:**\n",
    "       \n",
    "   • Выделить приоритеные направления которые положительно повлияют на увеличение прибыли интернет магазина.\n",
    "   \n",
    "   • Приминять решение по результатам теста\n",
    "   1. Остановить тест, зафиксировать победу одной из групп.\n",
    "   2. Остановить тест, зафиксировать отсутствие различий между группами.\n",
    "   3. Продолжить тест.\n",
    "    \n",
    "\n",
    "   **Ход исследования**\n",
    "1. Приоритизация гипотез.\n",
    "* Применить фреймворк ICE для приоритизации гипотез. Отсортирова по убыванию приоритета.\n",
    "* Применить фреймворк RICE для приоритизации гипотез. Отсортирова по убыванию приоритета.\n",
    "* Зафиксировать изменения приоритизации гипотез при применении RICE вместо ICE. Объясните, почему так произошло.\n",
    "\n",
    "2. Анализ A/B-теста\n",
    "* Построить график кумулятивной выручки по группам. Сделать выводы и предположения.\n",
    "* Построить график кумулятивного среднего чека по группам. Сделать выводы и предположения.\n",
    "* Построить график относительного изменения кумулятивного      среднего чека группы B к группе A. Сделать выводы и  предположения.\n",
    "* Построить график кумулятивного сред него количества заказов на посетителя по группам. Сделать выводы и предположения.\n",
    "* Построить график относительного изменения кумулятивного среднего количества заказов на посетителя группы B к группе A. Сделать выводы и предположения.\n",
    "* Построить точечный график количества заказов по пользователям. Сделать выводы и предположения.\n",
    "* Посчитать 95-й и 99-й перцентили количества заказов на пользователя. Выбрать границу для определения аномальных пользователей.\n",
    "* Построить точечный график стоимостей заказов. Сделать выводы и предположения.\n",
    "* Посчитать 95-й и 99-й перцентили стоимости заказов. Выбрать границу для определения аномальных заказов.\n",
    "* Посчитать статистическую значимость различий в среднем количестве заказов на посетителя между группами по «сырым» данным. Сделать выводы и предположения.\n",
    "* Посчитать статистическую значимость различий в среднем чеке заказа между группами по «сырым» данным. Сделать выводы и предположения.\n",
    "* Посчитать статистическую значимость различий в среднем количестве заказов на посетителя между группами по «очищенным» данным. Сделать выводы и предположения.\n",
    "* Посчитать статистическую значимость различий в среднем чеке заказа между группами по «очищенным» данным. Сделать выводы и предположения.\n",
    "*Принять решение по результатам теста и объяснить его. Варианты решений:\n",
    "1. Остановить тест, зафиксировать победу одной из групп. \n",
    "2. Остановить тест, зафиксировать отсутствие различий между группами. \n",
    "3. Продолжить тест.\n"
   ]
  },
  {
   "cell_type": "markdown",
   "metadata": {},
   "source": [
    "Импорт библиотек и предобработка данных"
   ]
  },
  {
   "cell_type": "code",
   "execution_count": 1,
   "metadata": {},
   "outputs": [],
   "source": [
    "import pandas as pd\n",
    "import scipy.stats as stats\n",
    "import datetime as dt\n",
    "import numpy as np\n",
    "import matplotlib.pyplot as plt\n",
    "import seaborn as sns\n",
    "import math as mth"
   ]
  },
  {
   "cell_type": "code",
   "execution_count": 2,
   "metadata": {},
   "outputs": [],
   "source": [
    "try:\n",
    "    hypothesis,orders,visitors = (\n",
    "        pd.read_csv('/datasets/hypothesis.csv', sep=','),\n",
    "        pd.read_csv('/datasets/orders.csv', sep=','),\n",
    "        pd.read_csv('/datasets/visitors.csv', sep=','),\n",
    "    )    \n",
    "except:\n",
    "    hypothesis,orders,visitors = (\n",
    "        pd.read_csv('https://code.s3.yandex.net/datasets/hypothesis.csv', sep=','),\n",
    "        pd.read_csv('https://code.s3.yandex.net/datasets/orders.csv', sep=','),\n",
    "        pd.read_csv('https://code.s3.yandex.net/datasets/visitors.csv', sep=','),\n",
    "    )    "
   ]
  },
  {
   "cell_type": "markdown",
   "metadata": {},
   "source": [
    "Предобработка данных"
   ]
  },
  {
   "cell_type": "code",
   "execution_count": 3,
   "metadata": {},
   "outputs": [],
   "source": [
    "orders['date'] = orders['date'].map(lambda x: dt.datetime.strptime(x, '%Y-%m-%d'))"
   ]
  },
  {
   "cell_type": "code",
   "execution_count": 4,
   "metadata": {},
   "outputs": [],
   "source": [
    "visitors['date'] = visitors['date'].map(lambda x: dt.datetime.strptime(x, '%Y-%m-%d'))"
   ]
  },
  {
   "cell_type": "code",
   "execution_count": 5,
   "metadata": {},
   "outputs": [
    {
     "name": "stdout",
     "output_type": "stream",
     "text": [
      "<class 'pandas.core.frame.DataFrame'>\n",
      "RangeIndex: 1197 entries, 0 to 1196\n",
      "Data columns (total 5 columns):\n",
      " #   Column         Non-Null Count  Dtype         \n",
      "---  ------         --------------  -----         \n",
      " 0   transactionId  1197 non-null   int64         \n",
      " 1   visitorId      1197 non-null   int64         \n",
      " 2   date           1197 non-null   datetime64[ns]\n",
      " 3   revenue        1197 non-null   int64         \n",
      " 4   group          1197 non-null   object        \n",
      "dtypes: datetime64[ns](1), int64(3), object(1)\n",
      "memory usage: 46.9+ KB\n"
     ]
    },
    {
     "data": {
      "text/html": [
       "<div>\n",
       "<style scoped>\n",
       "    .dataframe tbody tr th:only-of-type {\n",
       "        vertical-align: middle;\n",
       "    }\n",
       "\n",
       "    .dataframe tbody tr th {\n",
       "        vertical-align: top;\n",
       "    }\n",
       "\n",
       "    .dataframe thead th {\n",
       "        text-align: right;\n",
       "    }\n",
       "</style>\n",
       "<table border=\"1\" class=\"dataframe\">\n",
       "  <thead>\n",
       "    <tr style=\"text-align: right;\">\n",
       "      <th></th>\n",
       "      <th>transactionId</th>\n",
       "      <th>visitorId</th>\n",
       "      <th>date</th>\n",
       "      <th>revenue</th>\n",
       "      <th>group</th>\n",
       "    </tr>\n",
       "  </thead>\n",
       "  <tbody>\n",
       "  </tbody>\n",
       "</table>\n",
       "</div>"
      ],
      "text/plain": [
       "Empty DataFrame\n",
       "Columns: [transactionId, visitorId, date, revenue, group]\n",
       "Index: []"
      ]
     },
     "execution_count": 5,
     "metadata": {},
     "output_type": "execute_result"
    }
   ],
   "source": [
    "orders.info()\n",
    "orders[orders.duplicated()]"
   ]
  },
  {
   "cell_type": "code",
   "execution_count": 6,
   "metadata": {},
   "outputs": [
    {
     "data": {
      "text/plain": [
       "transactionId    0\n",
       "visitorId        0\n",
       "date             0\n",
       "revenue          0\n",
       "group            0\n",
       "dtype: int64"
      ]
     },
     "execution_count": 6,
     "metadata": {},
     "output_type": "execute_result"
    }
   ],
   "source": [
    "orders.duplicated().sum()\n",
    "orders.isnull().sum()"
   ]
  },
  {
   "cell_type": "code",
   "execution_count": 7,
   "metadata": {
    "scrolled": true
   },
   "outputs": [
    {
     "name": "stdout",
     "output_type": "stream",
     "text": [
      "<class 'pandas.core.frame.DataFrame'>\n",
      "RangeIndex: 62 entries, 0 to 61\n",
      "Data columns (total 3 columns):\n",
      " #   Column    Non-Null Count  Dtype         \n",
      "---  ------    --------------  -----         \n",
      " 0   date      62 non-null     datetime64[ns]\n",
      " 1   group     62 non-null     object        \n",
      " 2   visitors  62 non-null     int64         \n",
      "dtypes: datetime64[ns](1), int64(1), object(1)\n",
      "memory usage: 1.6+ KB\n"
     ]
    }
   ],
   "source": [
    "visitors.info()"
   ]
  },
  {
   "cell_type": "code",
   "execution_count": 8,
   "metadata": {},
   "outputs": [
    {
     "name": "stdout",
     "output_type": "stream",
     "text": [
      "0\n"
     ]
    },
    {
     "data": {
      "text/plain": [
       "date        0\n",
       "group       0\n",
       "visitors    0\n",
       "dtype: int64"
      ]
     },
     "execution_count": 8,
     "metadata": {},
     "output_type": "execute_result"
    }
   ],
   "source": [
    "print(visitors.duplicated().sum())\n",
    "visitors.isnull().sum()"
   ]
  },
  {
   "cell_type": "code",
   "execution_count": 9,
   "metadata": {},
   "outputs": [
    {
     "name": "stdout",
     "output_type": "stream",
     "text": [
      "Начальная дата 2019-08-01 00:00:00\n",
      "Конечная  дата 2019-08-31 00:00:00\n"
     ]
    },
    {
     "data": {
      "text/html": [
       "<div>\n",
       "<style scoped>\n",
       "    .dataframe tbody tr th:only-of-type {\n",
       "        vertical-align: middle;\n",
       "    }\n",
       "\n",
       "    .dataframe tbody tr th {\n",
       "        vertical-align: top;\n",
       "    }\n",
       "\n",
       "    .dataframe thead th {\n",
       "        text-align: right;\n",
       "    }\n",
       "</style>\n",
       "<table border=\"1\" class=\"dataframe\">\n",
       "  <thead>\n",
       "    <tr style=\"text-align: right;\">\n",
       "      <th></th>\n",
       "      <th>transactionId</th>\n",
       "      <th>visitorId</th>\n",
       "      <th>date</th>\n",
       "      <th>revenue</th>\n",
       "      <th>group</th>\n",
       "    </tr>\n",
       "  </thead>\n",
       "  <tbody>\n",
       "    <tr>\n",
       "      <th>168</th>\n",
       "      <td>2065527789</td>\n",
       "      <td>1581167209</td>\n",
       "      <td>2019-08-01</td>\n",
       "      <td>1780</td>\n",
       "      <td>A</td>\n",
       "    </tr>\n",
       "    <tr>\n",
       "      <th>73</th>\n",
       "      <td>1295850747</td>\n",
       "      <td>2947100995</td>\n",
       "      <td>2019-08-01</td>\n",
       "      <td>29499</td>\n",
       "      <td>A</td>\n",
       "    </tr>\n",
       "    <tr>\n",
       "      <th>72</th>\n",
       "      <td>477940151</td>\n",
       "      <td>1422773200</td>\n",
       "      <td>2019-08-01</td>\n",
       "      <td>700</td>\n",
       "      <td>A</td>\n",
       "    </tr>\n",
       "    <tr>\n",
       "      <th>71</th>\n",
       "      <td>3679129301</td>\n",
       "      <td>8300375</td>\n",
       "      <td>2019-08-01</td>\n",
       "      <td>10510</td>\n",
       "      <td>B</td>\n",
       "    </tr>\n",
       "    <tr>\n",
       "      <th>70</th>\n",
       "      <td>3574407166</td>\n",
       "      <td>2328378067</td>\n",
       "      <td>2019-08-01</td>\n",
       "      <td>8999</td>\n",
       "      <td>B</td>\n",
       "    </tr>\n",
       "    <tr>\n",
       "      <th>...</th>\n",
       "      <td>...</td>\n",
       "      <td>...</td>\n",
       "      <td>...</td>\n",
       "      <td>...</td>\n",
       "      <td>...</td>\n",
       "    </tr>\n",
       "    <tr>\n",
       "      <th>1021</th>\n",
       "      <td>969750843</td>\n",
       "      <td>4120364173</td>\n",
       "      <td>2019-08-31</td>\n",
       "      <td>15500</td>\n",
       "      <td>B</td>\n",
       "    </tr>\n",
       "    <tr>\n",
       "      <th>1022</th>\n",
       "      <td>2411823395</td>\n",
       "      <td>3788724847</td>\n",
       "      <td>2019-08-31</td>\n",
       "      <td>2610</td>\n",
       "      <td>A</td>\n",
       "    </tr>\n",
       "    <tr>\n",
       "      <th>1023</th>\n",
       "      <td>2886170101</td>\n",
       "      <td>930758570</td>\n",
       "      <td>2019-08-31</td>\n",
       "      <td>6674</td>\n",
       "      <td>B</td>\n",
       "    </tr>\n",
       "    <tr>\n",
       "      <th>995</th>\n",
       "      <td>3465107905</td>\n",
       "      <td>2075883701</td>\n",
       "      <td>2019-08-31</td>\n",
       "      <td>2610</td>\n",
       "      <td>B</td>\n",
       "    </tr>\n",
       "    <tr>\n",
       "      <th>959</th>\n",
       "      <td>3027277658</td>\n",
       "      <td>2973964255</td>\n",
       "      <td>2019-08-31</td>\n",
       "      <td>1850</td>\n",
       "      <td>B</td>\n",
       "    </tr>\n",
       "  </tbody>\n",
       "</table>\n",
       "<p>1197 rows × 5 columns</p>\n",
       "</div>"
      ],
      "text/plain": [
       "      transactionId   visitorId       date  revenue group\n",
       "168      2065527789  1581167209 2019-08-01     1780     A\n",
       "73       1295850747  2947100995 2019-08-01    29499     A\n",
       "72        477940151  1422773200 2019-08-01      700     A\n",
       "71       3679129301     8300375 2019-08-01    10510     B\n",
       "70       3574407166  2328378067 2019-08-01     8999     B\n",
       "...             ...         ...        ...      ...   ...\n",
       "1021      969750843  4120364173 2019-08-31    15500     B\n",
       "1022     2411823395  3788724847 2019-08-31     2610     A\n",
       "1023     2886170101   930758570 2019-08-31     6674     B\n",
       "995      3465107905  2075883701 2019-08-31     2610     B\n",
       "959      3027277658  2973964255 2019-08-31     1850     B\n",
       "\n",
       "[1197 rows x 5 columns]"
      ]
     },
     "execution_count": 9,
     "metadata": {},
     "output_type": "execute_result"
    }
   ],
   "source": [
    "print(f\"Начальная дата {orders['date'].min()}\\nКонечная  дата {orders['date'].max()}\")\n",
    "orders.sort_values(by='date')"
   ]
  },
  {
   "cell_type": "code",
   "execution_count": 10,
   "metadata": {},
   "outputs": [
    {
     "name": "stdout",
     "output_type": "stream",
     "text": [
      "Начальная дата 2019-08-01 00:00:00\n",
      "Конечная  дата 2019-08-31 00:00:00\n"
     ]
    },
    {
     "data": {
      "text/html": [
       "<div>\n",
       "<style scoped>\n",
       "    .dataframe tbody tr th:only-of-type {\n",
       "        vertical-align: middle;\n",
       "    }\n",
       "\n",
       "    .dataframe tbody tr th {\n",
       "        vertical-align: top;\n",
       "    }\n",
       "\n",
       "    .dataframe thead th {\n",
       "        text-align: right;\n",
       "    }\n",
       "</style>\n",
       "<table border=\"1\" class=\"dataframe\">\n",
       "  <thead>\n",
       "    <tr style=\"text-align: right;\">\n",
       "      <th></th>\n",
       "      <th>date</th>\n",
       "      <th>group</th>\n",
       "      <th>visitors</th>\n",
       "    </tr>\n",
       "  </thead>\n",
       "  <tbody>\n",
       "    <tr>\n",
       "      <th>0</th>\n",
       "      <td>2019-08-01</td>\n",
       "      <td>A</td>\n",
       "      <td>719</td>\n",
       "    </tr>\n",
       "    <tr>\n",
       "      <th>1</th>\n",
       "      <td>2019-08-02</td>\n",
       "      <td>A</td>\n",
       "      <td>619</td>\n",
       "    </tr>\n",
       "    <tr>\n",
       "      <th>2</th>\n",
       "      <td>2019-08-03</td>\n",
       "      <td>A</td>\n",
       "      <td>507</td>\n",
       "    </tr>\n",
       "    <tr>\n",
       "      <th>3</th>\n",
       "      <td>2019-08-04</td>\n",
       "      <td>A</td>\n",
       "      <td>717</td>\n",
       "    </tr>\n",
       "    <tr>\n",
       "      <th>4</th>\n",
       "      <td>2019-08-05</td>\n",
       "      <td>A</td>\n",
       "      <td>756</td>\n",
       "    </tr>\n",
       "  </tbody>\n",
       "</table>\n",
       "</div>"
      ],
      "text/plain": [
       "        date group  visitors\n",
       "0 2019-08-01     A       719\n",
       "1 2019-08-02     A       619\n",
       "2 2019-08-03     A       507\n",
       "3 2019-08-04     A       717\n",
       "4 2019-08-05     A       756"
      ]
     },
     "execution_count": 10,
     "metadata": {},
     "output_type": "execute_result"
    }
   ],
   "source": [
    "print(f\"Начальная дата {visitors['date'].min()}\\nКонечная  дата {visitors['date'].max()}\")\n",
    "visitors.head()"
   ]
  },
  {
   "cell_type": "markdown",
   "metadata": {},
   "source": [
    "Для вывода всех символов в записях"
   ]
  },
  {
   "cell_type": "code",
   "execution_count": 11,
   "metadata": {},
   "outputs": [],
   "source": [
    "pd.set_option('display.float_format', '{:.2f}'.format)\n",
    "pd.set_option('display.max_colwidth', None)\n"
   ]
  },
  {
   "cell_type": "code",
   "execution_count": 12,
   "metadata": {
    "scrolled": true
   },
   "outputs": [
    {
     "name": "stdout",
     "output_type": "stream",
     "text": [
      "<class 'pandas.core.frame.DataFrame'>\n",
      "RangeIndex: 9 entries, 0 to 8\n",
      "Data columns (total 5 columns):\n",
      " #   Column      Non-Null Count  Dtype \n",
      "---  ------      --------------  ----- \n",
      " 0   Hypothesis  9 non-null      object\n",
      " 1   Reach       9 non-null      int64 \n",
      " 2   Impact      9 non-null      int64 \n",
      " 3   Confidence  9 non-null      int64 \n",
      " 4   Efforts     9 non-null      int64 \n",
      "dtypes: int64(4), object(1)\n",
      "memory usage: 488.0+ bytes\n"
     ]
    }
   ],
   "source": [
    "hypothesis.info()"
   ]
  },
  {
   "cell_type": "code",
   "execution_count": 13,
   "metadata": {},
   "outputs": [],
   "source": [
    "hypothesis.columns = [c.lower() for c in hypothesis.columns]"
   ]
  },
  {
   "cell_type": "markdown",
   "metadata": {},
   "source": [
    "## Часть  Приоритизация гипотез."
   ]
  },
  {
   "cell_type": "markdown",
   "metadata": {},
   "source": [
    "Применить фреймворк ICE для приоритизации гипотез. Отсортировать по убыванию приоритета.\n",
    "Применить фреймворк RICE для приоритизации гипотез. Отсортировать по убыванию приоритета.\n",
    "Зафиксировать изменения приоритизации гипотез при применении RICE вместо ICE. "
   ]
  },
  {
   "cell_type": "code",
   "execution_count": 14,
   "metadata": {},
   "outputs": [],
   "source": [
    "hypothesis['ICE'] = (hypothesis['impact'] * hypothesis['confidence']) / hypothesis['efforts']"
   ]
  },
  {
   "cell_type": "code",
   "execution_count": 15,
   "metadata": {},
   "outputs": [
    {
     "data": {
      "text/html": [
       "<style  type=\"text/css\" >\n",
       "#T_99eae_row0_col1{\n",
       "            background-color:  #08306b;\n",
       "            color:  #f1f1f1;\n",
       "        }#T_99eae_row1_col1{\n",
       "            background-color:  #1561a9;\n",
       "            color:  #f1f1f1;\n",
       "        }#T_99eae_row2_col1{\n",
       "            background-color:  #3686c0;\n",
       "            color:  #000000;\n",
       "        }#T_99eae_row3_col1{\n",
       "            background-color:  #7cb7da;\n",
       "            color:  #000000;\n",
       "        }#T_99eae_row4_col1{\n",
       "            background-color:  #95c5df;\n",
       "            color:  #000000;\n",
       "        }#T_99eae_row5_col1{\n",
       "            background-color:  #eaf3fb;\n",
       "            color:  #000000;\n",
       "        }#T_99eae_row6_col1{\n",
       "            background-color:  #f3f8fe;\n",
       "            color:  #000000;\n",
       "        }#T_99eae_row7_col1{\n",
       "            background-color:  #f5fafe;\n",
       "            color:  #000000;\n",
       "        }#T_99eae_row8_col1{\n",
       "            background-color:  #f7fbff;\n",
       "            color:  #000000;\n",
       "        }</style><table id=\"T_99eae_\" ><thead>    <tr>        <th class=\"blank level0\" ></th>        <th class=\"col_heading level0 col0\" >hypothesis</th>        <th class=\"col_heading level0 col1\" >ICE</th>    </tr></thead><tbody>\n",
       "                <tr>\n",
       "                        <th id=\"T_99eae_level0_row0\" class=\"row_heading level0 row0\" >8</th>\n",
       "                        <td id=\"T_99eae_row0_col0\" class=\"data row0 col0\" >Запустить акцию, дающую скидку на товар в день рождения</td>\n",
       "                        <td id=\"T_99eae_row0_col1\" class=\"data row0 col1\" >16.200000</td>\n",
       "            </tr>\n",
       "            <tr>\n",
       "                        <th id=\"T_99eae_level0_row1\" class=\"row_heading level0 row1\" >0</th>\n",
       "                        <td id=\"T_99eae_row1_col0\" class=\"data row1 col0\" >Добавить два новых канала привлечения трафика, что позволит привлекать на 30% больше пользователей</td>\n",
       "                        <td id=\"T_99eae_row1_col1\" class=\"data row1 col1\" >13.333333</td>\n",
       "            </tr>\n",
       "            <tr>\n",
       "                        <th id=\"T_99eae_level0_row2\" class=\"row_heading level0 row2\" >7</th>\n",
       "                        <td id=\"T_99eae_row2_col0\" class=\"data row2 col0\" >Добавить форму подписки на все основные страницы, чтобы собрать базу клиентов для email-рассылок</td>\n",
       "                        <td id=\"T_99eae_row2_col1\" class=\"data row2 col1\" >11.200000</td>\n",
       "            </tr>\n",
       "            <tr>\n",
       "                        <th id=\"T_99eae_level0_row3\" class=\"row_heading level0 row3\" >6</th>\n",
       "                        <td id=\"T_99eae_row3_col0\" class=\"data row3 col0\" >Показать на главной странице баннеры с актуальными акциями и распродажами, чтобы увеличить конверсию</td>\n",
       "                        <td id=\"T_99eae_row3_col1\" class=\"data row3 col1\" >8.000000</td>\n",
       "            </tr>\n",
       "            <tr>\n",
       "                        <th id=\"T_99eae_level0_row4\" class=\"row_heading level0 row4\" >2</th>\n",
       "                        <td id=\"T_99eae_row4_col0\" class=\"data row4 col0\" >Добавить блоки рекомендаций товаров на сайт интернет магазина, чтобы повысить конверсию и средний чек заказа</td>\n",
       "                        <td id=\"T_99eae_row4_col1\" class=\"data row4 col1\" >7.000000</td>\n",
       "            </tr>\n",
       "            <tr>\n",
       "                        <th id=\"T_99eae_level0_row5\" class=\"row_heading level0 row5\" >1</th>\n",
       "                        <td id=\"T_99eae_row5_col0\" class=\"data row5 col0\" >Запустить собственную службу доставки, что сократит срок доставки заказов</td>\n",
       "                        <td id=\"T_99eae_row5_col1\" class=\"data row5 col1\" >2.000000</td>\n",
       "            </tr>\n",
       "            <tr>\n",
       "                        <th id=\"T_99eae_level0_row6\" class=\"row_heading level0 row6\" >5</th>\n",
       "                        <td id=\"T_99eae_row6_col0\" class=\"data row6 col0\" >Добавить страницу отзывов клиентов о магазине, что позволит увеличить количество заказов</td>\n",
       "                        <td id=\"T_99eae_row6_col1\" class=\"data row6 col1\" >1.333333</td>\n",
       "            </tr>\n",
       "            <tr>\n",
       "                        <th id=\"T_99eae_level0_row7\" class=\"row_heading level0 row7\" >3</th>\n",
       "                        <td id=\"T_99eae_row7_col0\" class=\"data row7 col0\" >Изменить структура категорий, что увеличит конверсию, т.к. пользователи быстрее найдут нужный товар</td>\n",
       "                        <td id=\"T_99eae_row7_col1\" class=\"data row7 col1\" >1.125000</td>\n",
       "            </tr>\n",
       "            <tr>\n",
       "                        <th id=\"T_99eae_level0_row8\" class=\"row_heading level0 row8\" >4</th>\n",
       "                        <td id=\"T_99eae_row8_col0\" class=\"data row8 col0\" >Изменить цвет фона главной страницы, чтобы увеличить вовлеченность пользователей</td>\n",
       "                        <td id=\"T_99eae_row8_col1\" class=\"data row8 col1\" >1.000000</td>\n",
       "            </tr>\n",
       "    </tbody></table>"
      ],
      "text/plain": [
       "<pandas.io.formats.style.Styler at 0x7fc7293f29d0>"
      ]
     },
     "execution_count": 15,
     "metadata": {},
     "output_type": "execute_result"
    }
   ],
   "source": [
    "hypothesis[['hypothesis','ICE']].sort_values(by='ICE', ascending=False).style.background_gradient(cmap='Blues', axis=0)"
   ]
  },
  {
   "cell_type": "code",
   "execution_count": 16,
   "metadata": {},
   "outputs": [],
   "source": [
    "hypothesis['RICE'] =\\\n",
    "(hypothesis['reach'] * hypothesis['impact'] * hypothesis['confidence']) / hypothesis['efforts']"
   ]
  },
  {
   "cell_type": "code",
   "execution_count": 17,
   "metadata": {},
   "outputs": [
    {
     "data": {
      "text/html": [
       "<style  type=\"text/css\" >\n",
       "#T_c4bb9_row0_col1{\n",
       "            background-color:  #08306b;\n",
       "            color:  #f1f1f1;\n",
       "        }#T_c4bb9_row1_col1{\n",
       "            background-color:  #71b1d7;\n",
       "            color:  #000000;\n",
       "        }#T_c4bb9_row2_col1,#T_c4bb9_row3_col1{\n",
       "            background-color:  #aacfe5;\n",
       "            color:  #000000;\n",
       "        }#T_c4bb9_row4_col1{\n",
       "            background-color:  #dfebf7;\n",
       "            color:  #000000;\n",
       "        }#T_c4bb9_row5_col1{\n",
       "            background-color:  #ecf4fb;\n",
       "            color:  #000000;\n",
       "        }#T_c4bb9_row6_col1,#T_c4bb9_row7_col1{\n",
       "            background-color:  #f5fafe;\n",
       "            color:  #000000;\n",
       "        }#T_c4bb9_row8_col1{\n",
       "            background-color:  #f7fbff;\n",
       "            color:  #000000;\n",
       "        }</style><table id=\"T_c4bb9_\" ><thead>    <tr>        <th class=\"blank level0\" ></th>        <th class=\"col_heading level0 col0\" >hypothesis</th>        <th class=\"col_heading level0 col1\" >RICE</th>    </tr></thead><tbody>\n",
       "                <tr>\n",
       "                        <th id=\"T_c4bb9_level0_row0\" class=\"row_heading level0 row0\" >7</th>\n",
       "                        <td id=\"T_c4bb9_row0_col0\" class=\"data row0 col0\" >Добавить форму подписки на все основные страницы, чтобы собрать базу клиентов для email-рассылок</td>\n",
       "                        <td id=\"T_c4bb9_row0_col1\" class=\"data row0 col1\" >112.000000</td>\n",
       "            </tr>\n",
       "            <tr>\n",
       "                        <th id=\"T_c4bb9_level0_row1\" class=\"row_heading level0 row1\" >2</th>\n",
       "                        <td id=\"T_c4bb9_row1_col0\" class=\"data row1 col0\" >Добавить блоки рекомендаций товаров на сайт интернет магазина, чтобы повысить конверсию и средний чек заказа</td>\n",
       "                        <td id=\"T_c4bb9_row1_col1\" class=\"data row1 col1\" >56.000000</td>\n",
       "            </tr>\n",
       "            <tr>\n",
       "                        <th id=\"T_c4bb9_level0_row2\" class=\"row_heading level0 row2\" >0</th>\n",
       "                        <td id=\"T_c4bb9_row2_col0\" class=\"data row2 col0\" >Добавить два новых канала привлечения трафика, что позволит привлекать на 30% больше пользователей</td>\n",
       "                        <td id=\"T_c4bb9_row2_col1\" class=\"data row2 col1\" >40.000000</td>\n",
       "            </tr>\n",
       "            <tr>\n",
       "                        <th id=\"T_c4bb9_level0_row3\" class=\"row_heading level0 row3\" >6</th>\n",
       "                        <td id=\"T_c4bb9_row3_col0\" class=\"data row3 col0\" >Показать на главной странице баннеры с актуальными акциями и распродажами, чтобы увеличить конверсию</td>\n",
       "                        <td id=\"T_c4bb9_row3_col1\" class=\"data row3 col1\" >40.000000</td>\n",
       "            </tr>\n",
       "            <tr>\n",
       "                        <th id=\"T_c4bb9_level0_row4\" class=\"row_heading level0 row4\" >8</th>\n",
       "                        <td id=\"T_c4bb9_row4_col0\" class=\"data row4 col0\" >Запустить акцию, дающую скидку на товар в день рождения</td>\n",
       "                        <td id=\"T_c4bb9_row4_col1\" class=\"data row4 col1\" >16.200000</td>\n",
       "            </tr>\n",
       "            <tr>\n",
       "                        <th id=\"T_c4bb9_level0_row5\" class=\"row_heading level0 row5\" >3</th>\n",
       "                        <td id=\"T_c4bb9_row5_col0\" class=\"data row5 col0\" >Изменить структура категорий, что увеличит конверсию, т.к. пользователи быстрее найдут нужный товар</td>\n",
       "                        <td id=\"T_c4bb9_row5_col1\" class=\"data row5 col1\" >9.000000</td>\n",
       "            </tr>\n",
       "            <tr>\n",
       "                        <th id=\"T_c4bb9_level0_row6\" class=\"row_heading level0 row6\" >1</th>\n",
       "                        <td id=\"T_c4bb9_row6_col0\" class=\"data row6 col0\" >Запустить собственную службу доставки, что сократит срок доставки заказов</td>\n",
       "                        <td id=\"T_c4bb9_row6_col1\" class=\"data row6 col1\" >4.000000</td>\n",
       "            </tr>\n",
       "            <tr>\n",
       "                        <th id=\"T_c4bb9_level0_row7\" class=\"row_heading level0 row7\" >5</th>\n",
       "                        <td id=\"T_c4bb9_row7_col0\" class=\"data row7 col0\" >Добавить страницу отзывов клиентов о магазине, что позволит увеличить количество заказов</td>\n",
       "                        <td id=\"T_c4bb9_row7_col1\" class=\"data row7 col1\" >4.000000</td>\n",
       "            </tr>\n",
       "            <tr>\n",
       "                        <th id=\"T_c4bb9_level0_row8\" class=\"row_heading level0 row8\" >4</th>\n",
       "                        <td id=\"T_c4bb9_row8_col0\" class=\"data row8 col0\" >Изменить цвет фона главной страницы, чтобы увеличить вовлеченность пользователей</td>\n",
       "                        <td id=\"T_c4bb9_row8_col1\" class=\"data row8 col1\" >3.000000</td>\n",
       "            </tr>\n",
       "    </tbody></table>"
      ],
      "text/plain": [
       "<pandas.io.formats.style.Styler at 0x7fc729233280>"
      ]
     },
     "execution_count": 17,
     "metadata": {},
     "output_type": "execute_result"
    }
   ],
   "source": [
    "hypothesis[['hypothesis', 'RICE']].sort_values(by='RICE', ascending=False)\\\n",
    ".style.background_gradient(cmap='Blues', axis=0)"
   ]
  },
  {
   "cell_type": "code",
   "execution_count": 18,
   "metadata": {},
   "outputs": [
    {
     "data": {
      "text/html": [
       "<div>\n",
       "<style scoped>\n",
       "    .dataframe tbody tr th:only-of-type {\n",
       "        vertical-align: middle;\n",
       "    }\n",
       "\n",
       "    .dataframe tbody tr th {\n",
       "        vertical-align: top;\n",
       "    }\n",
       "\n",
       "    .dataframe thead th {\n",
       "        text-align: right;\n",
       "    }\n",
       "</style>\n",
       "<table border=\"1\" class=\"dataframe\">\n",
       "  <thead>\n",
       "    <tr style=\"text-align: right;\">\n",
       "      <th></th>\n",
       "      <th>hypothesis</th>\n",
       "      <th>reach</th>\n",
       "      <th>impact</th>\n",
       "      <th>confidence</th>\n",
       "      <th>efforts</th>\n",
       "      <th>ICE</th>\n",
       "      <th>RICE</th>\n",
       "    </tr>\n",
       "  </thead>\n",
       "  <tbody>\n",
       "    <tr>\n",
       "      <th>7</th>\n",
       "      <td>Добавить форму подписки на все основные страницы, чтобы собрать базу клиентов для email-рассылок</td>\n",
       "      <td>10</td>\n",
       "      <td>7</td>\n",
       "      <td>8</td>\n",
       "      <td>5</td>\n",
       "      <td>11.20</td>\n",
       "      <td>112.00</td>\n",
       "    </tr>\n",
       "    <tr>\n",
       "      <th>2</th>\n",
       "      <td>Добавить блоки рекомендаций товаров на сайт интернет магазина, чтобы повысить конверсию и средний чек заказа</td>\n",
       "      <td>8</td>\n",
       "      <td>3</td>\n",
       "      <td>7</td>\n",
       "      <td>3</td>\n",
       "      <td>7.00</td>\n",
       "      <td>56.00</td>\n",
       "    </tr>\n",
       "    <tr>\n",
       "      <th>0</th>\n",
       "      <td>Добавить два новых канала привлечения трафика, что позволит привлекать на 30% больше пользователей</td>\n",
       "      <td>3</td>\n",
       "      <td>10</td>\n",
       "      <td>8</td>\n",
       "      <td>6</td>\n",
       "      <td>13.33</td>\n",
       "      <td>40.00</td>\n",
       "    </tr>\n",
       "    <tr>\n",
       "      <th>6</th>\n",
       "      <td>Показать на главной странице баннеры с актуальными акциями и распродажами, чтобы увеличить конверсию</td>\n",
       "      <td>5</td>\n",
       "      <td>3</td>\n",
       "      <td>8</td>\n",
       "      <td>3</td>\n",
       "      <td>8.00</td>\n",
       "      <td>40.00</td>\n",
       "    </tr>\n",
       "    <tr>\n",
       "      <th>8</th>\n",
       "      <td>Запустить акцию, дающую скидку на товар в день рождения</td>\n",
       "      <td>1</td>\n",
       "      <td>9</td>\n",
       "      <td>9</td>\n",
       "      <td>5</td>\n",
       "      <td>16.20</td>\n",
       "      <td>16.20</td>\n",
       "    </tr>\n",
       "    <tr>\n",
       "      <th>3</th>\n",
       "      <td>Изменить структура категорий, что увеличит конверсию, т.к. пользователи быстрее найдут нужный товар</td>\n",
       "      <td>8</td>\n",
       "      <td>3</td>\n",
       "      <td>3</td>\n",
       "      <td>8</td>\n",
       "      <td>1.12</td>\n",
       "      <td>9.00</td>\n",
       "    </tr>\n",
       "    <tr>\n",
       "      <th>1</th>\n",
       "      <td>Запустить собственную службу доставки, что сократит срок доставки заказов</td>\n",
       "      <td>2</td>\n",
       "      <td>5</td>\n",
       "      <td>4</td>\n",
       "      <td>10</td>\n",
       "      <td>2.00</td>\n",
       "      <td>4.00</td>\n",
       "    </tr>\n",
       "    <tr>\n",
       "      <th>5</th>\n",
       "      <td>Добавить страницу отзывов клиентов о магазине, что позволит увеличить количество заказов</td>\n",
       "      <td>3</td>\n",
       "      <td>2</td>\n",
       "      <td>2</td>\n",
       "      <td>3</td>\n",
       "      <td>1.33</td>\n",
       "      <td>4.00</td>\n",
       "    </tr>\n",
       "    <tr>\n",
       "      <th>4</th>\n",
       "      <td>Изменить цвет фона главной страницы, чтобы увеличить вовлеченность пользователей</td>\n",
       "      <td>3</td>\n",
       "      <td>1</td>\n",
       "      <td>1</td>\n",
       "      <td>1</td>\n",
       "      <td>1.00</td>\n",
       "      <td>3.00</td>\n",
       "    </tr>\n",
       "  </tbody>\n",
       "</table>\n",
       "</div>"
      ],
      "text/plain": [
       "                                                                                                     hypothesis  \\\n",
       "7              Добавить форму подписки на все основные страницы, чтобы собрать базу клиентов для email-рассылок   \n",
       "2  Добавить блоки рекомендаций товаров на сайт интернет магазина, чтобы повысить конверсию и средний чек заказа   \n",
       "0            Добавить два новых канала привлечения трафика, что позволит привлекать на 30% больше пользователей   \n",
       "6          Показать на главной странице баннеры с актуальными акциями и распродажами, чтобы увеличить конверсию   \n",
       "8                                                       Запустить акцию, дающую скидку на товар в день рождения   \n",
       "3           Изменить структура категорий, что увеличит конверсию, т.к. пользователи быстрее найдут нужный товар   \n",
       "1                                     Запустить собственную службу доставки, что сократит срок доставки заказов   \n",
       "5                      Добавить страницу отзывов клиентов о магазине, что позволит увеличить количество заказов   \n",
       "4                              Изменить цвет фона главной страницы, чтобы увеличить вовлеченность пользователей   \n",
       "\n",
       "   reach  impact  confidence  efforts   ICE   RICE  \n",
       "7     10       7           8        5 11.20 112.00  \n",
       "2      8       3           7        3  7.00  56.00  \n",
       "0      3      10           8        6 13.33  40.00  \n",
       "6      5       3           8        3  8.00  40.00  \n",
       "8      1       9           9        5 16.20  16.20  \n",
       "3      8       3           3        8  1.12   9.00  \n",
       "1      2       5           4       10  2.00   4.00  \n",
       "5      3       2           2        3  1.33   4.00  \n",
       "4      3       1           1        1  1.00   3.00  "
      ]
     },
     "execution_count": 18,
     "metadata": {},
     "output_type": "execute_result"
    }
   ],
   "source": [
    "hypothesis.sort_values(by='RICE', ascending =False)\n"
   ]
  },
  {
   "cell_type": "markdown",
   "metadata": {},
   "source": [
    "***При применении  Фреймворка ICE для приоритизации гипотез***\n",
    "* первое место заняла гипотеза 8 \n",
    "* на втором гипотеза 0 \n",
    "* и на третьем гипотеза 7\n",
    "\n",
    "***При применении Фреймворка RICE*** \n",
    "* на первом месте оказалась гипотеза  7 \n",
    "* на втором гипотеза 2 \n",
    "* на третьем гипотезы 0 и 6  \n",
    "\n",
    "*Это связано с тем, что добавился еще один оценочный показатель, reach-количество пользователей которых затронут изменения.* \n",
    "\n",
    "**У гипотезы 7 этот показатель (reach) затронет 100% пользователей. Показатель точности прогноза (confidence) тоже высок 70%, затраты на внедрение изменений средние (efforts) 50%. Поэтому гипотеза 7 первая в списке.** \n",
    "\n",
    "**На втором месте в списке приоритизации гипотеза 2\n",
    "Изменения затронут 80% пользователей, точно оценить влияние (impact) этого показателя сложно, поэтому оценка низкая 30% но и затраты на реализую (efforts) этой гипотезы тоже не велики 30%**\n",
    "\n",
    "**На третьем месте гипотезы 0 и 6\n",
    "У гипотезы 0 высокий показатель влияния изменений (impact), здесь с уверенностью 80% можно утверждать, что 30% новых пользователей удастся заполучить. \n",
    "У гипотезы 6 высокий показатель точности прогноза (confidence) можно сказать, что 50% пользователей  затронут изменения (reach) но они положительно повлияют, лишь в 30% случаях(impact).**   \n"
   ]
  },
  {
   "cell_type": "markdown",
   "metadata": {},
   "source": [
    "# Часть 2. Анализ A/B-теста"
   ]
  },
  {
   "cell_type": "markdown",
   "metadata": {},
   "source": [
    "Проверим корректность распределения на группы \n"
   ]
  },
  {
   "cell_type": "code",
   "execution_count": 19,
   "metadata": {
    "scrolled": false
   },
   "outputs": [
    {
     "name": "stdout",
     "output_type": "stream",
     "text": [
      "Кол-во посетителей в группе А:18736\n",
      "Кол-во посетителей в группе B:18916\n"
     ]
    }
   ],
   "source": [
    "print(f\"Кол-во посетителей в группе А:\\\n",
    "{visitors[visitors['group']=='A']['visitors'].sum()}\\nКол-во посетителей в группе B:\\\n",
    "{visitors[visitors['group']=='B']['visitors'].sum()}\")"
   ]
  },
  {
   "cell_type": "code",
   "execution_count": 20,
   "metadata": {
    "scrolled": true
   },
   "outputs": [
    {
     "name": "stdout",
     "output_type": "stream",
     "text": [
      "Кол-во покупок в группе А:557\n",
      "Кол-во покупок в группе B:640\n"
     ]
    }
   ],
   "source": [
    "print(f\"Кол-во покупок в группе А:\\\n",
    "{len(orders[orders['group']=='A'])}\\nКол-во покупок в группе B:\\\n",
    "{len(orders[orders['group']=='B'])}\")"
   ]
  },
  {
   "cell_type": "code",
   "execution_count": 21,
   "metadata": {
    "scrolled": false
   },
   "outputs": [
    {
     "name": "stdout",
     "output_type": "stream",
     "text": [
      "Кол-во посетителей в группе А:503\n",
      "Кол-во посетителей в группе B:586\n"
     ]
    }
   ],
   "source": [
    "print(f\"Кол-во посетителей в группе А:\\\n",
    "{orders[orders['group']=='A']['visitorId'].nunique()}\\nКол-во посетителей в группе B:\\\n",
    "{orders[orders['group']=='B']['visitorId'].nunique()}\")"
   ]
  },
  {
   "cell_type": "code",
   "execution_count": 22,
   "metadata": {
    "scrolled": true
   },
   "outputs": [],
   "source": [
    "\n",
    "double_users = orders.groupby('visitorId').agg({'group' : 'nunique'}).query('group > 1').count()"
   ]
  },
  {
   "cell_type": "code",
   "execution_count": 23,
   "metadata": {
    "scrolled": true
   },
   "outputs": [],
   "source": [
    "double_users = orders.groupby('visitorId').agg({'group' : 'nunique'}).reset_index().query('group>1')['visitorId'].unique()\n"
   ]
  },
  {
   "cell_type": "code",
   "execution_count": 24,
   "metadata": {
    "scrolled": false
   },
   "outputs": [
    {
     "name": "stdout",
     "output_type": "stream",
     "text": [
      "Кол-во пересечений в группах:\n",
      "group    58\n",
      "dtype: int64\n"
     ]
    }
   ],
   "source": [
    "print(f\"Кол-во пересечений в группах:\\n{orders.groupby('visitorId').agg({'group' : 'nunique'}).query('group > 1').count()}\")\n"
   ]
  },
  {
   "cell_type": "markdown",
   "metadata": {},
   "source": [
    "\n",
    "\n",
    "Можно удалить пересечения по пользователям,  но  это существенно не повлияет на результаты, поэтому  оставлю так, как есть, разницу я проверила.\n",
    "Код  orders = orders.query('visitorId not in @double_users')\n"
   ]
  },
  {
   "cell_type": "code",
   "execution_count": 25,
   "metadata": {},
   "outputs": [
    {
     "name": "stdout",
     "output_type": "stream",
     "text": [
      "P-value:0.7301376549390499\n",
      "Не получилось отвергнуть нулевую гипотезу, нет оснований считать группы разными\n",
      "\n"
     ]
    }
   ],
   "source": [
    "results = stats.mannwhitneyu(visitors[visitors['group']=='A']['visitors'], visitors[visitors['group']=='B']['visitors'])\n",
    "alpha = 0.05\n",
    "print('P-value:{}'.format(results.pvalue))\n",
    "if results.pvalue < alpha:\n",
    "    print('Отвергаем нулевую гипотезу: между группами есть значимая разница\\n')\n",
    "else:\n",
    "    print('Не получилось отвергнуть нулевую гипотезу, нет оснований считать группы разными\\n')"
   ]
  },
  {
   "cell_type": "markdown",
   "metadata": {},
   "source": [
    "***В контрольной группе А и тестовой группе В разница в распределении не более 1% 54 пользоавтеля попали в попали в обе группы.Выборки имеют нормальное распределение.*** "
   ]
  },
  {
   "cell_type": "markdown",
   "metadata": {},
   "source": [
    "Построить график кумулятивной выручки по группам. Сделать выводы и предположения."
   ]
  },
  {
   "cell_type": "markdown",
   "metadata": {},
   "source": [
    "Получаем уникальные значения по группам и датам"
   ]
  },
  {
   "cell_type": "code",
   "execution_count": 26,
   "metadata": {},
   "outputs": [],
   "source": [
    "datesGroups = orders[['date', 'group']].drop_duplicates().sort_values(by=['date', 'group'])"
   ]
  },
  {
   "cell_type": "markdown",
   "metadata": {},
   "source": [
    "Получаем агрегированные кумулятивные по дням данные о заказах "
   ]
  },
  {
   "cell_type": "code",
   "execution_count": 27,
   "metadata": {},
   "outputs": [],
   "source": [
    "ordersAggregated = datesGroups \\\n",
    ".apply(lambda x: orders[np.logical_and(orders['date'] <= x['date'] , orders['group'] == x['group'])] \\\n",
    ".agg({'date' : 'max', 'group' : 'max', 'transactionId' : 'nunique', 'visitorId' : 'nunique' \\\n",
    "      , 'revenue' : 'sum'}), axis=1).sort_values(by=['date','group'])"
   ]
  },
  {
   "cell_type": "markdown",
   "metadata": {},
   "source": [
    " Получаем агрегированные кумулятивные по дням данные о посетителях интернет-магазина "
   ]
  },
  {
   "cell_type": "code",
   "execution_count": 28,
   "metadata": {},
   "outputs": [],
   "source": [
    "visitorsAggregated = datesGroups\\\n",
    ".apply(lambda x: visitors[np.logical_and(visitors['date'] <= x['date']\\\n",
    "                                         , visitors['group'] == x['group'])]\\\n",
    "       .agg({'date' : 'max', 'group' : 'max', 'visitors' : 'sum'}), axis=1)\\\n",
    ".sort_values(by=['date','group'])"
   ]
  },
  {
   "cell_type": "markdown",
   "metadata": {},
   "source": [
    "Объединяем кумулятивные данные в одной таблице и присваиваем ее столбцам понятные названия"
   ]
  },
  {
   "cell_type": "code",
   "execution_count": 29,
   "metadata": {},
   "outputs": [],
   "source": [
    "cumulativeData = ordersAggregated.merge(visitorsAggregated, left_on=['date', 'group']\\\n",
    "                                        , right_on=['date', 'group'])\n"
   ]
  },
  {
   "cell_type": "code",
   "execution_count": 30,
   "metadata": {},
   "outputs": [],
   "source": [
    "cumulativeData.columns = ['date', 'group', 'orders', 'buyers', 'revenue', 'visitors']"
   ]
  },
  {
   "cell_type": "code",
   "execution_count": 31,
   "metadata": {},
   "outputs": [
    {
     "data": {
      "text/html": [
       "<div>\n",
       "<style scoped>\n",
       "    .dataframe tbody tr th:only-of-type {\n",
       "        vertical-align: middle;\n",
       "    }\n",
       "\n",
       "    .dataframe tbody tr th {\n",
       "        vertical-align: top;\n",
       "    }\n",
       "\n",
       "    .dataframe thead th {\n",
       "        text-align: right;\n",
       "    }\n",
       "</style>\n",
       "<table border=\"1\" class=\"dataframe\">\n",
       "  <thead>\n",
       "    <tr style=\"text-align: right;\">\n",
       "      <th></th>\n",
       "      <th>date</th>\n",
       "      <th>group</th>\n",
       "      <th>orders</th>\n",
       "      <th>buyers</th>\n",
       "      <th>revenue</th>\n",
       "      <th>visitors</th>\n",
       "    </tr>\n",
       "  </thead>\n",
       "  <tbody>\n",
       "    <tr>\n",
       "      <th>0</th>\n",
       "      <td>2019-08-01</td>\n",
       "      <td>A</td>\n",
       "      <td>24</td>\n",
       "      <td>20</td>\n",
       "      <td>148579</td>\n",
       "      <td>719</td>\n",
       "    </tr>\n",
       "    <tr>\n",
       "      <th>1</th>\n",
       "      <td>2019-08-01</td>\n",
       "      <td>B</td>\n",
       "      <td>21</td>\n",
       "      <td>20</td>\n",
       "      <td>101217</td>\n",
       "      <td>713</td>\n",
       "    </tr>\n",
       "    <tr>\n",
       "      <th>2</th>\n",
       "      <td>2019-08-02</td>\n",
       "      <td>A</td>\n",
       "      <td>44</td>\n",
       "      <td>38</td>\n",
       "      <td>242401</td>\n",
       "      <td>1338</td>\n",
       "    </tr>\n",
       "    <tr>\n",
       "      <th>3</th>\n",
       "      <td>2019-08-02</td>\n",
       "      <td>B</td>\n",
       "      <td>45</td>\n",
       "      <td>43</td>\n",
       "      <td>266748</td>\n",
       "      <td>1294</td>\n",
       "    </tr>\n",
       "    <tr>\n",
       "      <th>4</th>\n",
       "      <td>2019-08-03</td>\n",
       "      <td>A</td>\n",
       "      <td>68</td>\n",
       "      <td>62</td>\n",
       "      <td>354874</td>\n",
       "      <td>1845</td>\n",
       "    </tr>\n",
       "    <tr>\n",
       "      <th>5</th>\n",
       "      <td>2019-08-03</td>\n",
       "      <td>B</td>\n",
       "      <td>61</td>\n",
       "      <td>59</td>\n",
       "      <td>380996</td>\n",
       "      <td>1803</td>\n",
       "    </tr>\n",
       "    <tr>\n",
       "      <th>6</th>\n",
       "      <td>2019-08-04</td>\n",
       "      <td>A</td>\n",
       "      <td>84</td>\n",
       "      <td>77</td>\n",
       "      <td>425699</td>\n",
       "      <td>2562</td>\n",
       "    </tr>\n",
       "    <tr>\n",
       "      <th>7</th>\n",
       "      <td>2019-08-04</td>\n",
       "      <td>B</td>\n",
       "      <td>78</td>\n",
       "      <td>75</td>\n",
       "      <td>489567</td>\n",
       "      <td>2573</td>\n",
       "    </tr>\n",
       "    <tr>\n",
       "      <th>8</th>\n",
       "      <td>2019-08-05</td>\n",
       "      <td>A</td>\n",
       "      <td>109</td>\n",
       "      <td>100</td>\n",
       "      <td>549917</td>\n",
       "      <td>3318</td>\n",
       "    </tr>\n",
       "    <tr>\n",
       "      <th>9</th>\n",
       "      <td>2019-08-05</td>\n",
       "      <td>B</td>\n",
       "      <td>101</td>\n",
       "      <td>98</td>\n",
       "      <td>581995</td>\n",
       "      <td>3280</td>\n",
       "    </tr>\n",
       "    <tr>\n",
       "      <th>10</th>\n",
       "      <td>2019-08-06</td>\n",
       "      <td>A</td>\n",
       "      <td>127</td>\n",
       "      <td>114</td>\n",
       "      <td>598401</td>\n",
       "      <td>3985</td>\n",
       "    </tr>\n",
       "    <tr>\n",
       "      <th>11</th>\n",
       "      <td>2019-08-06</td>\n",
       "      <td>B</td>\n",
       "      <td>129</td>\n",
       "      <td>123</td>\n",
       "      <td>824337</td>\n",
       "      <td>3935</td>\n",
       "    </tr>\n",
       "    <tr>\n",
       "      <th>12</th>\n",
       "      <td>2019-08-07</td>\n",
       "      <td>A</td>\n",
       "      <td>145</td>\n",
       "      <td>131</td>\n",
       "      <td>740818</td>\n",
       "      <td>4629</td>\n",
       "    </tr>\n",
       "    <tr>\n",
       "      <th>13</th>\n",
       "      <td>2019-08-07</td>\n",
       "      <td>B</td>\n",
       "      <td>153</td>\n",
       "      <td>146</td>\n",
       "      <td>1049671</td>\n",
       "      <td>4644</td>\n",
       "    </tr>\n",
       "    <tr>\n",
       "      <th>14</th>\n",
       "      <td>2019-08-08</td>\n",
       "      <td>A</td>\n",
       "      <td>161</td>\n",
       "      <td>146</td>\n",
       "      <td>837097</td>\n",
       "      <td>5239</td>\n",
       "    </tr>\n",
       "    <tr>\n",
       "      <th>15</th>\n",
       "      <td>2019-08-08</td>\n",
       "      <td>B</td>\n",
       "      <td>180</td>\n",
       "      <td>171</td>\n",
       "      <td>1270589</td>\n",
       "      <td>5298</td>\n",
       "    </tr>\n",
       "    <tr>\n",
       "      <th>16</th>\n",
       "      <td>2019-08-09</td>\n",
       "      <td>A</td>\n",
       "      <td>177</td>\n",
       "      <td>159</td>\n",
       "      <td>1025603</td>\n",
       "      <td>5856</td>\n",
       "    </tr>\n",
       "    <tr>\n",
       "      <th>17</th>\n",
       "      <td>2019-08-09</td>\n",
       "      <td>B</td>\n",
       "      <td>205</td>\n",
       "      <td>193</td>\n",
       "      <td>1431401</td>\n",
       "      <td>5908</td>\n",
       "    </tr>\n",
       "    <tr>\n",
       "      <th>18</th>\n",
       "      <td>2019-08-10</td>\n",
       "      <td>A</td>\n",
       "      <td>193</td>\n",
       "      <td>175</td>\n",
       "      <td>1236098</td>\n",
       "      <td>6262</td>\n",
       "    </tr>\n",
       "    <tr>\n",
       "      <th>19</th>\n",
       "      <td>2019-08-10</td>\n",
       "      <td>B</td>\n",
       "      <td>228</td>\n",
       "      <td>215</td>\n",
       "      <td>1539203</td>\n",
       "      <td>6277</td>\n",
       "    </tr>\n",
       "  </tbody>\n",
       "</table>\n",
       "</div>"
      ],
      "text/plain": [
       "         date group  orders  buyers  revenue  visitors\n",
       "0  2019-08-01     A      24      20   148579       719\n",
       "1  2019-08-01     B      21      20   101217       713\n",
       "2  2019-08-02     A      44      38   242401      1338\n",
       "3  2019-08-02     B      45      43   266748      1294\n",
       "4  2019-08-03     A      68      62   354874      1845\n",
       "5  2019-08-03     B      61      59   380996      1803\n",
       "6  2019-08-04     A      84      77   425699      2562\n",
       "7  2019-08-04     B      78      75   489567      2573\n",
       "8  2019-08-05     A     109     100   549917      3318\n",
       "9  2019-08-05     B     101      98   581995      3280\n",
       "10 2019-08-06     A     127     114   598401      3985\n",
       "11 2019-08-06     B     129     123   824337      3935\n",
       "12 2019-08-07     A     145     131   740818      4629\n",
       "13 2019-08-07     B     153     146  1049671      4644\n",
       "14 2019-08-08     A     161     146   837097      5239\n",
       "15 2019-08-08     B     180     171  1270589      5298\n",
       "16 2019-08-09     A     177     159  1025603      5856\n",
       "17 2019-08-09     B     205     193  1431401      5908\n",
       "18 2019-08-10     A     193     175  1236098      6262\n",
       "19 2019-08-10     B     228     215  1539203      6277"
      ]
     },
     "execution_count": 31,
     "metadata": {},
     "output_type": "execute_result"
    }
   ],
   "source": [
    "cumulativeData.head(20)"
   ]
  },
  {
   "cell_type": "markdown",
   "metadata": {},
   "source": [
    "датафрейм с кумулятивным количеством заказов и кумулятивной выручкой по дням в группе А, B"
   ]
  },
  {
   "cell_type": "code",
   "execution_count": 32,
   "metadata": {},
   "outputs": [],
   "source": [
    "cumulativeRevenueA = cumulativeData[cumulativeData['group']=='A'][['date','revenue', 'orders']]"
   ]
  },
  {
   "cell_type": "code",
   "execution_count": 33,
   "metadata": {},
   "outputs": [],
   "source": [
    "cumulativeRevenueB = cumulativeData[cumulativeData['group']=='B'][['date','revenue', 'orders']]"
   ]
  },
  {
   "cell_type": "code",
   "execution_count": 34,
   "metadata": {},
   "outputs": [
    {
     "data": {
      "image/png": "[encoded data removed]",
      "text/plain": [
       "<Figure size 1080x504 with 1 Axes>"
      ]
     },
     "metadata": {
      "needs_background": "light"
     },
     "output_type": "display_data"
    }
   ],
   "source": [
    "plt.figure(figsize=(15, 7))\n",
    "plt.plot(cumulativeRevenueA['date'], cumulativeRevenueA['revenue'], label='A')\n",
    "plt.plot(cumulativeRevenueB['date'], cumulativeRevenueB['revenue'], label='B')\n",
    "\n",
    "plt.legend()\n",
    "plt.xlabel('День')\n",
    "plt.ylabel('Выручка')\n",
    "plt.title('Кумулятивная выручка по группам')\n",
    "\n",
    "plt.show() "
   ]
  },
  {
   "cell_type": "markdown",
   "metadata": {},
   "source": [
    "***Кумулятивная выручка по группам показывает стабильный рост, при этом в группе В рост выше, чем в группе А. Так же есть резкий скачек показателя в середине наблюдений. Это может сигнализировать о всплеске числа заказов, либо о появлении очень дорогих заказов в выборке. Нужна проверка на аномалии.***"
   ]
  },
  {
   "cell_type": "markdown",
   "metadata": {},
   "source": [
    "Постройте график кумулятивного среднего чека по группам. Сделайте выводы и предположения."
   ]
  },
  {
   "cell_type": "code",
   "execution_count": 35,
   "metadata": {},
   "outputs": [
    {
     "data": {
      "image/png": "[encoded data removed]",
      "text/plain": [
       "<Figure size 1080x504 with 1 Axes>"
      ]
     },
     "metadata": {
      "needs_background": "light"
     },
     "output_type": "display_data"
    }
   ],
   "source": [
    "plt.figure(figsize=(15, 7))\n",
    "plt.plot(cumulativeRevenueA['date'], cumulativeRevenueA['revenue']/cumulativeRevenueA['orders'], label='A')\n",
    "plt.plot(cumulativeRevenueB['date'], cumulativeRevenueB['revenue']/cumulativeRevenueB['orders'], label='B')\n",
    "plt.xlabel('День')\n",
    "plt.ylabel('Средний чек')\n",
    "plt.title('График кумулятивного среднего чека по группам')\n",
    "plt.legend() \n",
    "plt.show()"
   ]
  },
  {
   "cell_type": "markdown",
   "metadata": {},
   "source": [
    "\n",
    "***Кумулятивный средний чек по группам так же показывает резкий скачек в тестовой группе в тех же днях наблюдения.***\n"
   ]
  },
  {
   "cell_type": "markdown",
   "metadata": {},
   "source": [
    "Постройте график относительного изменения кумулятивного среднего чека группы B к группе A. Сделайте выводы и предположения."
   ]
  },
  {
   "cell_type": "code",
   "execution_count": 36,
   "metadata": {},
   "outputs": [],
   "source": [
    "mergedCumulativeRevenue = cumulativeRevenueA\\\n",
    ".merge(cumulativeRevenueB, left_on='date', right_on='date', how='left', suffixes=['A', 'B'])\n",
    "\n",
    "\n"
   ]
  },
  {
   "cell_type": "code",
   "execution_count": 37,
   "metadata": {},
   "outputs": [
    {
     "data": {
      "image/png": "[encoded data removed]",
      "text/plain": [
       "<Figure size 1080x504 with 1 Axes>"
      ]
     },
     "metadata": {
      "needs_background": "light"
     },
     "output_type": "display_data"
    }
   ],
   "source": [
    "plt.figure(figsize=(15, 7))\n",
    "plt.plot(mergedCumulativeRevenue['date'],\\\n",
    "         (mergedCumulativeRevenue['revenueB']/mergedCumulativeRevenue['ordersB'])\\\n",
    "         /(mergedCumulativeRevenue['revenueA']/mergedCumulativeRevenue['ordersA'])-1)\n",
    "plt.axhline(y=0, color='black', linestyle='--') \n",
    "plt.xlabel('День')\n",
    "plt.ylabel('Средний чек')\n",
    "plt.title('График относительного изменения кумулятивного среднего чека группы B к группе A')\n",
    "plt.show()"
   ]
  },
  {
   "cell_type": "markdown",
   "metadata": {},
   "source": [
    "**На графике видно, что кумулятивное среднее группы В почти всегда выше, чем в А это может так же указывать что эксперимент удачный.**"
   ]
  },
  {
   "cell_type": "markdown",
   "metadata": {},
   "source": [
    "Постройте график кумулятивного среднего количества заказов на посетителя по группам. Сделайте выводы и предположения."
   ]
  },
  {
   "cell_type": "code",
   "execution_count": 38,
   "metadata": {},
   "outputs": [],
   "source": [
    "cumulativeData['average_order'] = cumulativeData['orders']/cumulativeData['visitors']"
   ]
  },
  {
   "cell_type": "code",
   "execution_count": 39,
   "metadata": {},
   "outputs": [],
   "source": [
    "cumulativeDataA = cumulativeData[cumulativeData['group']=='A']\n",
    "cumulativeDataB = cumulativeData[cumulativeData['group']=='B']"
   ]
  },
  {
   "cell_type": "code",
   "execution_count": 40,
   "metadata": {
    "scrolled": true
   },
   "outputs": [
    {
     "data": {
      "image/png": "[encoded data removed]",
      "text/plain": [
       "<Figure size 1080x360 with 1 Axes>"
      ]
     },
     "metadata": {
      "needs_background": "light"
     },
     "output_type": "display_data"
    }
   ],
   "source": [
    "plt.figure(figsize=(15, 5))\n",
    "plt.plot(cumulativeDataA['date'], cumulativeDataA['average_order'], label='A')\n",
    "plt.plot(cumulativeDataB['date'], cumulativeDataB['average_order'], label='B')\n",
    "plt.xlabel('День')\n",
    "plt.ylabel('Средний чек')\n",
    "plt.title('График кумулятивного среднего количества заказов на посетителя по группам')\n",
    "plt.legend() \n",
    "\n",
    "plt.show()"
   ]
  },
  {
   "cell_type": "markdown",
   "metadata": {},
   "source": [
    "***Кумулятивное среднее количество заказов на посетителя в группе В, больше чем в контрольной А , тоже свидетельствует о приросте метрики***"
   ]
  },
  {
   "cell_type": "markdown",
   "metadata": {},
   "source": [
    "Постройте график относительного изменения кумулятивного среднего количества заказов на посетителя группы B к группе A. Сделайте выводы и предположения."
   ]
  },
  {
   "cell_type": "code",
   "execution_count": 41,
   "metadata": {},
   "outputs": [],
   "source": [
    "mergedCumulativeAvg = cumulativeDataA[['date','average_order']].merge(cumulativeDataB[['date','average_order']], left_on='date', right_on='date', how='left', suffixes=['A', 'B'])"
   ]
  },
  {
   "cell_type": "code",
   "execution_count": 42,
   "metadata": {},
   "outputs": [
    {
     "data": {
      "image/png": "[encoded data removed]",
      "text/plain": [
       "<Figure size 1080x360 with 1 Axes>"
      ]
     },
     "metadata": {
      "needs_background": "light"
     },
     "output_type": "display_data"
    }
   ],
   "source": [
    "plt.figure(figsize=(15, 5))\n",
    "plt.plot(mergedCumulativeAvg['date'], mergedCumulativeAvg['average_orderB']/mergedCumulativeAvg['average_orderA']-1)\n",
    "plt.axhline(y=0, color='black', linestyle='--')\n",
    "plt.axhline(y=0.1, color='grey', linestyle='--')\n",
    "plt.xlabel('День')\n",
    "plt.ylabel('Средний чек')\n",
    "plt.title('График относительного изменения кумулятивного среднего количества заказов на посетителя группы B к группе A')\n",
    "plt.show()\n"
   ]
  },
  {
   "cell_type": "markdown",
   "metadata": {},
   "source": [
    "***Среднее количество заказов на посетителя в группе В выше на 10%***"
   ]
  },
  {
   "cell_type": "markdown",
   "metadata": {},
   "source": [
    "Построим точечный график количества заказов по пользователям. "
   ]
  },
  {
   "cell_type": "code",
   "execution_count": 43,
   "metadata": {},
   "outputs": [],
   "source": [
    "ordersByUsers = orders.groupby('visitorId', as_index=False).agg({'transactionId': 'nunique'}).sort_values(by='transactionId', ascending = False)\n",
    "ordersByUsers.columns = ['userId', 'orders']"
   ]
  },
  {
   "cell_type": "code",
   "execution_count": 44,
   "metadata": {},
   "outputs": [],
   "source": [
    "x_values = pd.Series(range(0,len(ordersByUsers)))"
   ]
  },
  {
   "cell_type": "code",
   "execution_count": 45,
   "metadata": {
    "scrolled": false
   },
   "outputs": [
    {
     "data": {
      "image/png": "[encoded data removed]",
      "text/plain": [
       "<Figure size 1080x360 with 1 Axes>"
      ]
     },
     "metadata": {
      "needs_background": "light"
     },
     "output_type": "display_data"
    }
   ],
   "source": [
    "plt.figure(figsize=(15, 5))\n",
    "plt.scatter(x_values, ordersByUsers['orders']) \n",
    "plt.xlabel('Пользователи')\n",
    "plt.ylabel('Количество заказов')\n",
    "plt.title('Точечный график количества заказов по пользователям')\n",
    "\n",
    "plt.show()"
   ]
  },
  {
   "cell_type": "markdown",
   "metadata": {},
   "source": [
    "***Количество заказов на одного пользователя в среднем 1-2***"
   ]
  },
  {
   "cell_type": "markdown",
   "metadata": {},
   "source": [
    "Посчитаем 95-й и 99-й перцентили количества заказов на пользователя что бы выбрать границу для определения аномальных пользователей."
   ]
  },
  {
   "cell_type": "code",
   "execution_count": 46,
   "metadata": {},
   "outputs": [
    {
     "name": "stdout",
     "output_type": "stream",
     "text": [
      "Перцентили:\n",
      "95-й: 2.0 заказа \n",
      "99-й: 4.0 заказа\n"
     ]
    }
   ],
   "source": [
    "percentiles = np.percentile(ordersByUsers['orders'], [95, 99])\n",
    "print(f'Перцентили:\\n95-й: {percentiles[0]} заказа \\n99-й: {percentiles[1]} заказа')"
   ]
  },
  {
   "cell_type": "markdown",
   "metadata": {},
   "source": [
    "***Не более 5% пользователей оформляли больше чем 2 заказа. И 1% пользователей заказывали не более 5 раз. \n",
    "Разумно выбрать 2 заказа на одного пользователя за верхнюю границу числа заказов, и отсеять аномальных пользователей по ней.***\n"
   ]
  },
  {
   "cell_type": "markdown",
   "metadata": {},
   "source": [
    "Построим точечный график стоимостей заказов. "
   ]
  },
  {
   "cell_type": "code",
   "execution_count": 47,
   "metadata": {},
   "outputs": [
    {
     "data": {
      "text/html": [
       "<div>\n",
       "<style scoped>\n",
       "    .dataframe tbody tr th:only-of-type {\n",
       "        vertical-align: middle;\n",
       "    }\n",
       "\n",
       "    .dataframe tbody tr th {\n",
       "        vertical-align: top;\n",
       "    }\n",
       "\n",
       "    .dataframe thead th {\n",
       "        text-align: right;\n",
       "    }\n",
       "</style>\n",
       "<table border=\"1\" class=\"dataframe\">\n",
       "  <thead>\n",
       "    <tr style=\"text-align: right;\">\n",
       "      <th></th>\n",
       "      <th>transactionId</th>\n",
       "      <th>visitorId</th>\n",
       "      <th>date</th>\n",
       "      <th>revenue</th>\n",
       "      <th>group</th>\n",
       "    </tr>\n",
       "  </thead>\n",
       "  <tbody>\n",
       "    <tr>\n",
       "      <th>425</th>\n",
       "      <td>590470918</td>\n",
       "      <td>1920142716</td>\n",
       "      <td>2019-08-19</td>\n",
       "      <td>1294500</td>\n",
       "      <td>B</td>\n",
       "    </tr>\n",
       "    <tr>\n",
       "      <th>1196</th>\n",
       "      <td>3936777065</td>\n",
       "      <td>2108080724</td>\n",
       "      <td>2019-08-15</td>\n",
       "      <td>202740</td>\n",
       "      <td>B</td>\n",
       "    </tr>\n",
       "    <tr>\n",
       "      <th>858</th>\n",
       "      <td>192721366</td>\n",
       "      <td>1316129916</td>\n",
       "      <td>2019-08-27</td>\n",
       "      <td>93940</td>\n",
       "      <td>A</td>\n",
       "    </tr>\n",
       "    <tr>\n",
       "      <th>1136</th>\n",
       "      <td>666610489</td>\n",
       "      <td>1307669133</td>\n",
       "      <td>2019-08-13</td>\n",
       "      <td>92550</td>\n",
       "      <td>A</td>\n",
       "    </tr>\n",
       "    <tr>\n",
       "      <th>744</th>\n",
       "      <td>3668308183</td>\n",
       "      <td>888512513</td>\n",
       "      <td>2019-08-27</td>\n",
       "      <td>86620</td>\n",
       "      <td>B</td>\n",
       "    </tr>\n",
       "    <tr>\n",
       "      <th>682</th>\n",
       "      <td>1216533772</td>\n",
       "      <td>4266935830</td>\n",
       "      <td>2019-08-29</td>\n",
       "      <td>78990</td>\n",
       "      <td>B</td>\n",
       "    </tr>\n",
       "    <tr>\n",
       "      <th>662</th>\n",
       "      <td>1811671147</td>\n",
       "      <td>4266935830</td>\n",
       "      <td>2019-08-29</td>\n",
       "      <td>78990</td>\n",
       "      <td>A</td>\n",
       "    </tr>\n",
       "    <tr>\n",
       "      <th>743</th>\n",
       "      <td>3603576309</td>\n",
       "      <td>4133034833</td>\n",
       "      <td>2019-08-09</td>\n",
       "      <td>67990</td>\n",
       "      <td>A</td>\n",
       "    </tr>\n",
       "    <tr>\n",
       "      <th>1103</th>\n",
       "      <td>1348774318</td>\n",
       "      <td>1164614297</td>\n",
       "      <td>2019-08-12</td>\n",
       "      <td>66350</td>\n",
       "      <td>A</td>\n",
       "    </tr>\n",
       "    <tr>\n",
       "      <th>1099</th>\n",
       "      <td>316924019</td>\n",
       "      <td>148427295</td>\n",
       "      <td>2019-08-12</td>\n",
       "      <td>65710</td>\n",
       "      <td>A</td>\n",
       "    </tr>\n",
       "  </tbody>\n",
       "</table>\n",
       "</div>"
      ],
      "text/plain": [
       "      transactionId   visitorId       date  revenue group\n",
       "425       590470918  1920142716 2019-08-19  1294500     B\n",
       "1196     3936777065  2108080724 2019-08-15   202740     B\n",
       "858       192721366  1316129916 2019-08-27    93940     A\n",
       "1136      666610489  1307669133 2019-08-13    92550     A\n",
       "744      3668308183   888512513 2019-08-27    86620     B\n",
       "682      1216533772  4266935830 2019-08-29    78990     B\n",
       "662      1811671147  4266935830 2019-08-29    78990     A\n",
       "743      3603576309  4133034833 2019-08-09    67990     A\n",
       "1103     1348774318  1164614297 2019-08-12    66350     A\n",
       "1099      316924019   148427295 2019-08-12    65710     A"
      ]
     },
     "execution_count": 47,
     "metadata": {},
     "output_type": "execute_result"
    }
   ],
   "source": [
    "\n",
    "orders.sort_values(by='revenue', ascending=False).head(10)"
   ]
  },
  {
   "cell_type": "code",
   "execution_count": 48,
   "metadata": {},
   "outputs": [
    {
     "data": {
      "image/png": "[encoded data removed]",
      "text/plain": [
       "<Figure size 1080x504 with 1 Axes>"
      ]
     },
     "metadata": {
      "needs_background": "light"
     },
     "output_type": "display_data"
    }
   ],
   "source": [
    "x_values = pd.Series(range(0, len(orders)))\n",
    "plt.figure(figsize=(15, 7))\n",
    "plt.scatter(x_values, orders['revenue'])\n",
    "plt.title('Точечный график стоимостей заказов')\n",
    "plt.xlabel('Пользователи')\n",
    "plt.ylabel('Количество заказов')\n",
    "plt.axis([0, 1200, 0, 100000])\n",
    "plt.show()"
   ]
  },
  {
   "cell_type": "markdown",
   "metadata": {},
   "source": [
    "***Здесь есть два аномальных значения на 1 290 000 и 202 000. Их убрали из графика, что бы лучше рассмотреть распределение по сумме. Больше всего заказов  до 25 000. Реже встречаются от 25 000 до 60 000. От 60 000 до 100 000 редкие заказы похожие на выбросы.*** "
   ]
  },
  {
   "cell_type": "markdown",
   "metadata": {},
   "source": [
    "Посчитаем 95-й и 99-й перцентили стоимости заказов. Что бы выбрать границу для определения аномальных заказов."
   ]
  },
  {
   "cell_type": "code",
   "execution_count": 49,
   "metadata": {},
   "outputs": [
    {
     "name": "stdout",
     "output_type": "stream",
     "text": [
      "Перцентили:\n",
      "95-й: 28000 заказа \n",
      "99-й: 58233 заказа\n"
     ]
    }
   ],
   "source": [
    "percentiles = np.percentile(orders['revenue'], [95, 99])\n",
    "print(f'Перцентили:\\n95-й: {percentiles[0]:.0f} заказа \\n99-й: {percentiles[1]:.0f} заказа')"
   ]
  },
  {
   "cell_type": "markdown",
   "metadata": {},
   "source": [
    "***Всего лишь 5% заказов  более 28 000. И 1% более 58 000. Разумно выбрать  за верхнюю границу суммы заказов 28 000, и отсеять аномальных пользователей по ней.***"
   ]
  },
  {
   "cell_type": "markdown",
   "metadata": {},
   "source": [
    "Посчитаем статистическую значимость различий в среднем количестве заказов на посетителя между группами по «сырым» данным.\n",
    "\n",
    "<span style=\"color:blue\">\n",
    "    \n",
    "Мы будем проверять, есть ли изменения в количестве заказов и среднего чека  на пользователя.\n",
    "    \n",
    "Уровень значимости установим 5% \n",
    "    \n",
    "Критерий непараметрический тест Манна - Утни\n",
    "    \n",
    "Контрольная группа А, тестова группа В.\n",
    "\n",
    "Сформулируем гипотезы. \n",
    "\n",
    "* **Нулевая гипотеза: различий в среднем количестве заказов между группами А и В нет.** \n",
    "    \n",
    "* **Альтернативная гипотеза: различия в среднем количестве заказов между группами А и В есть.**\n",
    "\n",
    "* **Нулевая гипотеза: различий в среднем чеке между группами А и В  нет.** \n",
    "    \n",
    "* **Альтернативная гипотеза: различия в среднем чеке между группами А и В есть**\n",
    "\n",
    "Отберем пользователей, которые заказывали хотя бы 1 раз, укажем число совершённых заказов.\n",
    "\n",
    "</span>"
   ]
  },
  {
   "cell_type": "code",
   "execution_count": 50,
   "metadata": {},
   "outputs": [],
   "source": [
    "ordersByUsersA = orders[orders['group'] == 'A']\\\n",
    ".groupby('visitorId', as_index=False).agg({'transactionId': pd.Series.nunique})\n",
    "ordersByUsersA.columns = ['userId', 'orders']"
   ]
  },
  {
   "cell_type": "code",
   "execution_count": 51,
   "metadata": {},
   "outputs": [],
   "source": [
    "ordersByUsersB = orders[orders['group'] == 'B']\\\n",
    ".groupby('visitorId', as_index=False).agg({'transactionId': pd.Series.nunique})\n",
    "ordersByUsersB.columns = ['userId', 'orders']"
   ]
  },
  {
   "cell_type": "code",
   "execution_count": 52,
   "metadata": {
    "scrolled": false
   },
   "outputs": [
    {
     "name": "stdout",
     "output_type": "stream",
     "text": [
      "Кол-во покупателей в группе A: 503\n",
      "Кол-во покупок в группе А: 557\n",
      "Кол-во посетителей в группе A: 18736\n",
      "\n",
      "Кол-во покупателей в группе B: 586\n",
      "Кол-во покупок в группе B: 640\n",
      "Кол-во посетителей в группе B: 18916\n"
     ]
    }
   ],
   "source": [
    "print(f'Кол-во покупателей в группе A: {len(ordersByUsersA)}')\n",
    "print(f\"Кол-во покупок в группе А: {ordersByUsersA['orders'].sum()}\")\n",
    "print(f\"Кол-во посетителей в группе A: {visitors[visitors['group']=='A']['visitors'].sum()}\\n\")\n",
    "print(f\"Кол-во покупателей в группе B: {len(ordersByUsersB)}\")\n",
    "print(f\"Кол-во покупок в группе B: {ordersByUsersB['orders'].sum()}\")\n",
    "print(f\"Кол-во посетителей в группе B: {visitors[visitors['group']=='B']['visitors'].sum()}\")\n"
   ]
  },
  {
   "cell_type": "markdown",
   "metadata": {},
   "source": [
    "Подготовим данные\n",
    "\n",
    "Количество пользователей в выбранную дату в группе A и В"
   ]
  },
  {
   "cell_type": "code",
   "execution_count": 53,
   "metadata": {},
   "outputs": [],
   "source": [
    "visitorsADaily = visitors[visitors['group'] == 'A'][['date', 'visitors']]\n",
    "visitorsADaily.columns = ['date', 'visitorsPerDateA']\n",
    "visitorsBDaily = visitors[visitors['group'] == 'B'][['date', 'visitors']]\n",
    "visitorsBDaily.columns = ['date', 'visitorsPerDateB']"
   ]
  },
  {
   "cell_type": "markdown",
   "metadata": {},
   "source": [
    "Количество пользователей до выбранной даты включительно в группе A и В"
   ]
  },
  {
   "cell_type": "code",
   "execution_count": 54,
   "metadata": {},
   "outputs": [],
   "source": [
    "visitorsACummulative = visitorsADaily\\\n",
    ".apply(lambda x: visitorsADaily[visitorsADaily['date'] <= x['date']]\\\n",
    "       .agg({'date': 'max', 'visitorsPerDateA': 'sum'}),axis=1)\n",
    "visitorsACummulative.columns = ['date', 'visitorsCummulativeA']"
   ]
  },
  {
   "cell_type": "code",
   "execution_count": 55,
   "metadata": {
    "scrolled": true
   },
   "outputs": [],
   "source": [
    "visitorsBCummulative = visitorsBDaily\\\n",
    ".apply(lambda x: visitorsBDaily[visitorsBDaily['date'] <= x['date']]\\\n",
    "       .agg({'date': 'max', 'visitorsPerDateB': 'sum'}),axis=1)\n",
    "visitorsBCummulative.columns = ['date', 'visitorsCummulativeB']"
   ]
  },
  {
   "cell_type": "markdown",
   "metadata": {},
   "source": [
    "Количество заказов в выбранную дату в группе A и В"
   ]
  },
  {
   "cell_type": "code",
   "execution_count": 56,
   "metadata": {},
   "outputs": [],
   "source": [
    "ordersADaily = (orders[orders['group'] == 'A'][['date', 'transactionId', 'visitorId', 'revenue']]\\\n",
    "                .groupby('date', as_index=False)\\\n",
    "                .agg({'transactionId': pd.Series.nunique, 'revenue': 'sum'}))\n",
    "ordersADaily.columns = ['date', 'ordersPerDateA', 'revenuePerDateA']\n",
    "ordersBDaily = (orders[orders['group'] == 'B'][['date', 'transactionId', 'visitorId', 'revenue']]\\\n",
    "                .groupby('date', as_index=False)\\\n",
    "                .agg({'transactionId': pd.Series.nunique, 'revenue': 'sum'}))\n",
    "ordersBDaily.columns = ['date', 'ordersPerDateB', 'revenuePerDateB']"
   ]
  },
  {
   "cell_type": "markdown",
   "metadata": {},
   "source": [
    "Суммарное число заказов до выбранной даты включительно в группе A и В"
   ]
  },
  {
   "cell_type": "code",
   "execution_count": 57,
   "metadata": {},
   "outputs": [],
   "source": [
    "ordersACummulative = ordersADaily\\\n",
    ".apply(lambda x: ordersADaily[ordersADaily['date'] <= x['date']]\\\n",
    "       .agg({'date': 'max', 'ordersPerDateA': 'sum', 'revenuePerDateA': 'sum'}),axis=1)\\\n",
    ".sort_values(by=['date'])\n",
    "ordersACummulative.columns = ['date','ordersCummulativeA','revenueCummulativeA']\n",
    "ordersBCummulative = ordersBDaily\\\n",
    ".apply(lambda x: ordersBDaily[ordersBDaily['date'] <= x['date']]\\\n",
    "       .agg({'date': 'max', 'ordersPerDateB': 'sum', 'revenuePerDateB': 'sum'}),axis=1)\\\n",
    ".sort_values(by=['date'])\n",
    "ordersBCummulative.columns = ['date','ordersCummulativeB','revenueCummulativeB']"
   ]
  },
  {
   "cell_type": "markdown",
   "metadata": {},
   "source": [
    "Соберем все в одну таблицу"
   ]
  },
  {
   "cell_type": "code",
   "execution_count": 58,
   "metadata": {},
   "outputs": [],
   "source": [
    "data = (ordersADaily.merge(ordersBDaily, left_on='date', right_on='date', how='left')\\\n",
    "        .merge(ordersACummulative, left_on='date', right_on='date', how='left')\\\n",
    "        .merge(ordersBCummulative, left_on='date', right_on='date', how='left')\\\n",
    "        .merge(visitorsADaily, left_on='date', right_on='date', how='left')\\\n",
    "        .merge(visitorsBDaily, left_on='date', right_on='date', how='left')\\\n",
    "        .merge(visitorsACummulative, left_on='date', right_on='date', how='left')\\\n",
    "        .merge(visitorsBCummulative, left_on='date', right_on='date', how='left'))"
   ]
  },
  {
   "cell_type": "markdown",
   "metadata": {},
   "source": [
    "Объединим  количество пользователей, с суммой всех элементов — количество заказов по группам."
   ]
  },
  {
   "cell_type": "code",
   "execution_count": 59,
   "metadata": {},
   "outputs": [],
   "source": [
    "sampleA = pd.concat\\\n",
    "([ordersByUsersA['orders'],pd.Series\\\n",
    "  (0,index=np.arange(data['visitorsPerDateA'].sum() - len(ordersByUsersA['orders'])), name='orders')]\\\n",
    " ,axis=0)\n",
    "sampleB = pd.concat\\\n",
    "([ordersByUsersB['orders'],pd.Series\\\n",
    "  (0,index=np.arange(data['visitorsPerDateB'].sum() - len(ordersByUsersB['orders'])), name='orders')]\\\n",
    " ,axis=0)"
   ]
  },
  {
   "cell_type": "code",
   "execution_count": 60,
   "metadata": {
    "scrolled": true
   },
   "outputs": [
    {
     "name": "stdout",
     "output_type": "stream",
     "text": [
      "Относительный прирост группы B по отношению к группе A: 0.138\n"
     ]
    }
   ],
   "source": [
    "print(f\"Относительный прирост группы B по отношению к группе A: {sampleB.mean() / sampleA.mean()- 1:.3f}\")"
   ]
  },
  {
   "cell_type": "code",
   "execution_count": 61,
   "metadata": {
    "scrolled": true
   },
   "outputs": [
    {
     "name": "stdout",
     "output_type": "stream",
     "text": [
      "статистическая значимость различий в среднем количестве заказов на посетителя между группами А и В по «сырым» данным:0.017\n"
     ]
    }
   ],
   "source": [
    "print(\"статистическая значимость различий в среднем количестве заказов на посетителя между группами А и В по «сырым» данным:{0:.3f}\"\\\n",
    "      .format(stats.mannwhitneyu(sampleA, sampleB)[1]))"
   ]
  },
  {
   "cell_type": "markdown",
   "metadata": {},
   "source": [
    "***p-value = 0.017 меньше 0.05. Значит, отвергаем нулевую гипотезу: разница статистически значима. Анализ сырых данных показал, что в среднем количестве заказов между группами есть статистически значимые различия. Относительный прирост среднего группы B к группе А 13.8%.***"
   ]
  },
  {
   "cell_type": "markdown",
   "metadata": {},
   "source": [
    "Посчитайте статистическую значимость различий в среднем чеке заказа между группами по «сырым» данным. Сделайте выводы и предположения."
   ]
  },
  {
   "cell_type": "code",
   "execution_count": 62,
   "metadata": {},
   "outputs": [
    {
     "name": "stdout",
     "output_type": "stream",
     "text": [
      "P-value:0.729\n",
      "Относительное изменение среднего чека в группе B по отношению к группе A:0.259\n"
     ]
    }
   ],
   "source": [
    "print('P-value:{0:.3f}'.format(stats.mannwhitneyu(orders[orders['group']=='A']['revenue'], orders[orders['group']=='B']['revenue'])[1]))\n",
    "print('Относительное изменение среднего чека в группе B по отношению к группе A:{0:.3f}'.format(orders[orders['group']=='B']['revenue'].mean()/orders[orders['group']=='A']['revenue'].mean()-1)) "
   ]
  },
  {
   "cell_type": "markdown",
   "metadata": {},
   "source": [
    "***P-value значительно больше 0.05. Не получилось отвергнуть нулевую гипотезу, вывод о различии в среднем чеке сделать нельзя. Однако относительное различие среднего чека между группами 25,9%***"
   ]
  },
  {
   "cell_type": "markdown",
   "metadata": {},
   "source": [
    "Посчитайте статистическую значимость различий в среднем количестве заказов на посетителя между группами по «очищенным» данным. Сделайте выводы и предположения."
   ]
  },
  {
   "cell_type": "code",
   "execution_count": 63,
   "metadata": {},
   "outputs": [],
   "source": [
    "usersWithManyOrders =\\\n",
    "pd.concat([ordersByUsersA[ordersByUsersA['orders'] > int(np.percentile(orders['revenue'], [95])) ]['userId']\\\n",
    "           ,ordersByUsersB[ordersByUsersB['orders'] > int(np.percentile(orders['revenue'], [95])) ]['userId']],axis=0)"
   ]
  },
  {
   "cell_type": "code",
   "execution_count": 64,
   "metadata": {},
   "outputs": [],
   "source": [
    "usersWithExpensiveOrders = orders[orders['revenue'] > int(np.percentile(orders['revenue'], [95])) ]['visitorId']\n",
    "abnormalUsers =pd.concat([usersWithManyOrders, usersWithExpensiveOrders], axis=0)\\\n",
    ".drop_duplicates().sort_values()"
   ]
  },
  {
   "cell_type": "code",
   "execution_count": 65,
   "metadata": {
    "scrolled": false
   },
   "outputs": [
    {
     "name": "stdout",
     "output_type": "stream",
     "text": [
      "Кол-во аномальных пользователей: 57\n"
     ]
    }
   ],
   "source": [
    "print(f'Кол-во аномальных пользователей: {abnormalUsers.shape[0]}')"
   ]
  },
  {
   "cell_type": "code",
   "execution_count": 66,
   "metadata": {},
   "outputs": [],
   "source": [
    "sampleAFiltered =\\\n",
    "pd.concat([ordersByUsersA[np.logical_not(ordersByUsersA['userId'].isin(abnormalUsers))]['orders'],\\\n",
    "           pd.Series(0,index=np.arange(data['visitorsPerDateA'].sum() - len(ordersByUsersA['orders']))\\\n",
    "                     ,name='orders')],axis=0)"
   ]
  },
  {
   "cell_type": "code",
   "execution_count": 67,
   "metadata": {},
   "outputs": [],
   "source": [
    "sampleBFiltered =\\\n",
    "pd.concat([ordersByUsersB[np.logical_not(ordersByUsersB['userId'].isin(abnormalUsers))]['orders'],\\\n",
    "           pd.Series(0,index=np.arange(data['visitorsPerDateB'].sum() - len(ordersByUsersB['orders']))\\\n",
    "                     ,name='orders')],axis=0) "
   ]
  },
  {
   "cell_type": "code",
   "execution_count": 68,
   "metadata": {
    "scrolled": true
   },
   "outputs": [
    {
     "name": "stdout",
     "output_type": "stream",
     "text": [
      "\n",
      "Относительный прирост заказов группы B по отношению к группе A после очистки данных: 0.140\n",
      "P-value: 0.018724715014185562\n",
      "По очищенным данным Отвергаем нулевую гипотезу: разница статистически значима!\n"
     ]
    }
   ],
   "source": [
    "print('\\nОтносительный прирост заказов группы B по отношению к группе A после очистки данных: {:.3f}'.format(sampleBFiltered.mean()/sampleAFiltered.mean()-1))\n",
    "results = stats.mannwhitneyu(sampleAFiltered, sampleBFiltered)\n",
    "print('P-value: {}'.format(results.pvalue))\n",
    "if results.pvalue < alpha:\n",
    "    print('По очищенным данным Отвергаем нулевую гипотезу: разница статистически значима!')\n",
    "else:\n",
    "    print('По очищенным данным Не получилось отвергнуть нулевую гипотезу, вывод о различии сделать нельзя!')"
   ]
  },
  {
   "cell_type": "markdown",
   "metadata": {},
   "source": [
    "***Как и в случае с сырыми данными статистическая значимость среднего количества заказов группы В 17.3%  значительно лучше группы А*** "
   ]
  },
  {
   "cell_type": "markdown",
   "metadata": {},
   "source": [
    "Посчитайте статистическую значимость различий в среднем чеке заказа между группами по «очищенным» данным. Сделайте выводы и предположения."
   ]
  },
  {
   "cell_type": "code",
   "execution_count": 69,
   "metadata": {},
   "outputs": [
    {
     "name": "stdout",
     "output_type": "stream",
     "text": [
      "'Относительное изменение среднего чека в группе B по отношению группы A после очистки данных: -0.013\n"
     ]
    }
   ],
   "source": [
    "print(\"'Относительное изменение среднего чека в группе B по отношению группы A после очистки данных: {0:.3f}\"\\\n",
    "      .format(orders[np.logical_and(orders['group'] == 'B', np.\\\n",
    "                                    logical_not(orders['visitorId'].isin(abnormalUsers)))]\\\n",
    "              ['revenue'].mean() / orders[np.logical_and(orders['group'] == 'A', np.logical_not\\\n",
    "                                                         (orders['visitorId'].isin(abnormalUsers)))]\\\n",
    "              ['revenue'].mean()- 1))"
   ]
  },
  {
   "cell_type": "code",
   "execution_count": 70,
   "metadata": {
    "scrolled": true
   },
   "outputs": [
    {
     "name": "stdout",
     "output_type": "stream",
     "text": [
      "P-value: 0.8634729640077236\n",
      "По очищенным данным Не получилось отвергнуть нулевую гипотезу, вывод о различии сделать нельзя!\n"
     ]
    }
   ],
   "source": [
    "results = stats.mannwhitneyu(orders[np.logical_and(orders['group']=='A', np.logical_not(orders['visitorId'].isin(abnormalUsers)))]['revenue'],\n",
    "                             orders[np.logical_and(orders['group']=='B', np.logical_not(orders['visitorId'].isin(abnormalUsers)))]['revenue'])\n",
    "print('P-value: {}'.format(results.pvalue))\n",
    "if results.pvalue < alpha:\n",
    "    print('По очищенным данным Отвергаем нулевую гипотезу: разница статистически значима!')\n",
    "else:\n",
    "    print('По очищенным данным Не получилось отвергнуть нулевую гипотезу, вывод о различии сделать нельзя!')"
   ]
  },
  {
   "cell_type": "markdown",
   "metadata": {},
   "source": [
    "\n",
    "    \n",
    "После очистки значимых отличий по среднему чеку не появилось."
   ]
  },
  {
   "cell_type": "markdown",
   "metadata": {},
   "source": [
    "Принять решение по результатам теста и объясните его. Варианты решений:\n",
    "1. Остановить тест, зафиксировать победу одной из групп.\n",
    "2. Остановить тест, зафиксировать отсутствие различий между группами.\n",
    "3. Продолжить тест."
   ]
  },
  {
   "cell_type": "markdown",
   "metadata": {},
   "source": [
    "*Были проанализированы 9 гипотез и А/В тест. \n",
    "Перед проведением исследования были поставлены несколько задач\n",
    "• Выделить приоритетные направления, которые положительно повлияют на увеличение прибыли интернет магазина.\n",
    "• Принять решение по А/В  результатам теста*\n",
    "1.\tОстановить тест, зафиксировать победу одной из групп.\n",
    "2.\tОстановить тест, зафиксировать отсутствие различий между группами.\n",
    "3.\tПродолжить тест.\n",
    "\n",
    "\n",
    "\n",
    "При применении Фреймворка RICE удалось отобрать приоритетные гипотезы в следующем порядке\n",
    "\n",
    "    Гипотеза 7 - Добавить форму подписки на все основные страницы, чтобы собрать базу клиентов для email-рассылок\n",
    "    \n",
    "    Гипотеза 2 - Добавить блоки рекомендаций товаров на сайт интернет магазина, чтобы повысить конверсию и средний чек заказа\n",
    "    \n",
    "    Гипотеза 0 - Добавить два новых канала привлечения трафика, что позволит привлекать на 30% больше пользователей\n",
    "    \n",
    "    Гипотеза 6 - Показать на главной странице баннеры с актуальными акциями и распродажами, чтобы увеличить конверсию\n",
    "    \n",
    " Принять решение по А/В  результатам теста\n",
    "1.\tОстановить тест, зафиксировать победу одной из групп.\n",
    "2.\tОстановить тест, зафиксировать отсутствие различий между группами.\n",
    "3.\tПродолжить тест.\n",
    "\n",
    "**По результатам. А/В  теста**\n",
    "\n",
    "**Проверялись гипотезы:**\n",
    "\n",
    "**Н0  Нет статистической разницы**\n",
    "\n",
    "**Н1 Разница статистически значима**\n",
    "\n",
    "**По средствам непараметрического теста Уилкоксона-Манна-Уитни  по очищенным данным, удалось  зафиксировать статистическую значимость среднего количества заказов группы В, 17.3% к контрольной группе А. \n",
    "А разницу в изменении среднего чека выявить не удалось, хотя изначально, этот параметр был очень оптимистичен после очистки аномалий, которые возможно могли быть спровоцированы сезонным скачком, стало понятно, что статистической разницы в среднем чеке нет. \n",
    "Нужно остановить тест и признать победу группы В.** \n"
   ]
  }
 ],
 "metadata": {
  "ExecuteTimeLog": [
   {
    "duration": 1330,
    "start_time": "2023-05-12T08:20:39.279Z"
   },
   {
    "duration": 64,
    "start_time": "2023-05-12T08:29:21.259Z"
   },
   {
    "duration": 22,
    "start_time": "2023-05-12T08:34:33.341Z"
   },
   {
    "duration": 14,
    "start_time": "2023-05-12T08:34:45.557Z"
   },
   {
    "duration": 13,
    "start_time": "2023-05-12T08:35:21.846Z"
   },
   {
    "duration": 16,
    "start_time": "2023-05-12T08:35:28.552Z"
   },
   {
    "duration": 101,
    "start_time": "2023-05-12T08:41:55.104Z"
   },
   {
    "duration": 2,
    "start_time": "2023-05-12T08:44:08.623Z"
   },
   {
    "duration": 2,
    "start_time": "2023-05-12T08:44:29.235Z"
   },
   {
    "duration": 3,
    "start_time": "2023-05-12T08:44:36.848Z"
   },
   {
    "duration": 2,
    "start_time": "2023-05-12T08:44:54.323Z"
   },
   {
    "duration": 1110,
    "start_time": "2023-05-12T08:45:11.123Z"
   },
   {
    "duration": 23,
    "start_time": "2023-05-12T08:45:12.235Z"
   },
   {
    "duration": 3,
    "start_time": "2023-05-12T08:45:12.259Z"
   },
   {
    "duration": 4,
    "start_time": "2023-05-12T08:45:12.264Z"
   },
   {
    "duration": 100,
    "start_time": "2023-05-12T08:45:12.270Z"
   },
   {
    "duration": 1234,
    "start_time": "2023-05-12T08:45:41.150Z"
   },
   {
    "duration": 26,
    "start_time": "2023-05-12T08:45:42.386Z"
   },
   {
    "duration": 16,
    "start_time": "2023-05-12T08:45:42.413Z"
   },
   {
    "duration": 11,
    "start_time": "2023-05-12T08:45:42.432Z"
   },
   {
    "duration": 3,
    "start_time": "2023-05-12T08:48:29.203Z"
   },
   {
    "duration": 8,
    "start_time": "2023-05-12T08:48:30.850Z"
   },
   {
    "duration": 98,
    "start_time": "2023-05-12T09:05:06.064Z"
   },
   {
    "duration": 3,
    "start_time": "2023-05-12T09:05:37.168Z"
   },
   {
    "duration": 5,
    "start_time": "2023-05-12T09:05:57.290Z"
   },
   {
    "duration": 8,
    "start_time": "2023-05-12T09:06:07.313Z"
   },
   {
    "duration": 8,
    "start_time": "2023-05-12T09:07:57.792Z"
   },
   {
    "duration": 11,
    "start_time": "2023-05-12T09:08:23.303Z"
   },
   {
    "duration": 50,
    "start_time": "2023-05-12T09:43:00.155Z"
   },
   {
    "duration": 11,
    "start_time": "2023-05-12T09:43:45.851Z"
   },
   {
    "duration": 11,
    "start_time": "2023-05-12T09:44:31.247Z"
   },
   {
    "duration": 10,
    "start_time": "2023-05-12T09:44:46.343Z"
   },
   {
    "duration": 10,
    "start_time": "2023-05-12T09:45:09.592Z"
   },
   {
    "duration": 11,
    "start_time": "2023-05-12T09:46:58.173Z"
   },
   {
    "duration": 8,
    "start_time": "2023-05-12T09:48:00.688Z"
   },
   {
    "duration": 8,
    "start_time": "2023-05-12T09:48:21.223Z"
   },
   {
    "duration": 11,
    "start_time": "2023-05-12T10:06:53.818Z"
   },
   {
    "duration": 11,
    "start_time": "2023-05-12T10:08:02.048Z"
   },
   {
    "duration": 9,
    "start_time": "2023-05-12T10:08:17.322Z"
   },
   {
    "duration": 17,
    "start_time": "2023-05-12T10:08:51.775Z"
   },
   {
    "duration": 14,
    "start_time": "2023-05-12T10:10:16.023Z"
   },
   {
    "duration": 9,
    "start_time": "2023-05-12T10:14:57.860Z"
   },
   {
    "duration": 13,
    "start_time": "2023-05-12T10:15:04.094Z"
   },
   {
    "duration": 3,
    "start_time": "2023-05-12T10:24:27.509Z"
   },
   {
    "duration": 8,
    "start_time": "2023-05-12T10:24:30.745Z"
   },
   {
    "duration": 2,
    "start_time": "2023-05-12T10:25:09.910Z"
   },
   {
    "duration": 3,
    "start_time": "2023-05-12T10:26:09.063Z"
   },
   {
    "duration": 725,
    "start_time": "2023-05-12T10:27:25.832Z"
   },
   {
    "duration": 810,
    "start_time": "2023-05-12T10:27:59.639Z"
   },
   {
    "duration": 24,
    "start_time": "2023-05-12T10:29:53.114Z"
   },
   {
    "duration": 99,
    "start_time": "2023-05-12T10:36:41.340Z"
   },
   {
    "duration": 12,
    "start_time": "2023-05-12T10:37:33.359Z"
   },
   {
    "duration": 11,
    "start_time": "2023-05-12T10:38:29.006Z"
   },
   {
    "duration": 14,
    "start_time": "2023-05-12T10:38:49.668Z"
   },
   {
    "duration": 28,
    "start_time": "2023-05-12T10:40:39.403Z"
   },
   {
    "duration": 22,
    "start_time": "2023-05-12T10:41:10.986Z"
   },
   {
    "duration": 18,
    "start_time": "2023-05-12T10:41:21.159Z"
   },
   {
    "duration": 20,
    "start_time": "2023-05-12T10:42:35.428Z"
   },
   {
    "duration": 1214,
    "start_time": "2023-05-12T10:42:53.931Z"
   },
   {
    "duration": 24,
    "start_time": "2023-05-12T10:42:55.147Z"
   },
   {
    "duration": 3,
    "start_time": "2023-05-12T10:42:55.173Z"
   },
   {
    "duration": 76,
    "start_time": "2023-05-12T10:42:55.178Z"
   },
   {
    "duration": 23,
    "start_time": "2023-05-12T10:42:55.256Z"
   },
   {
    "duration": 19,
    "start_time": "2023-05-12T10:42:55.281Z"
   },
   {
    "duration": 13,
    "start_time": "2023-05-12T10:42:55.301Z"
   },
   {
    "duration": 47,
    "start_time": "2023-05-12T10:42:55.316Z"
   },
   {
    "duration": 30,
    "start_time": "2023-05-12T10:43:45.795Z"
   },
   {
    "duration": 25,
    "start_time": "2023-05-12T10:44:04.025Z"
   },
   {
    "duration": 24,
    "start_time": "2023-05-12T10:44:25.370Z"
   },
   {
    "duration": 21,
    "start_time": "2023-05-12T10:45:55.957Z"
   },
   {
    "duration": 18,
    "start_time": "2023-05-12T10:46:31.422Z"
   },
   {
    "duration": 21,
    "start_time": "2023-05-12T10:48:07.435Z"
   },
   {
    "duration": 110,
    "start_time": "2023-05-12T10:48:24.391Z"
   },
   {
    "duration": 15,
    "start_time": "2023-05-12T10:48:40.912Z"
   },
   {
    "duration": 3,
    "start_time": "2023-05-12T10:49:39.352Z"
   },
   {
    "duration": 28,
    "start_time": "2023-05-12T10:49:40.876Z"
   },
   {
    "duration": 11,
    "start_time": "2023-05-12T10:49:42.404Z"
   },
   {
    "duration": 3,
    "start_time": "2023-05-12T10:49:43.323Z"
   },
   {
    "duration": 4,
    "start_time": "2023-05-12T10:49:44.068Z"
   },
   {
    "duration": 17,
    "start_time": "2023-05-12T10:49:44.837Z"
   },
   {
    "duration": 13,
    "start_time": "2023-05-12T10:50:12.647Z"
   },
   {
    "duration": 14,
    "start_time": "2023-05-12T10:51:04.692Z"
   },
   {
    "duration": 15,
    "start_time": "2023-05-12T10:51:21.993Z"
   },
   {
    "duration": 13,
    "start_time": "2023-05-12T10:52:13.127Z"
   },
   {
    "duration": 1196,
    "start_time": "2023-05-12T10:52:24.112Z"
   },
   {
    "duration": 23,
    "start_time": "2023-05-12T10:52:25.311Z"
   },
   {
    "duration": 3,
    "start_time": "2023-05-12T10:52:25.336Z"
   },
   {
    "duration": 67,
    "start_time": "2023-05-12T10:52:25.340Z"
   },
   {
    "duration": 11,
    "start_time": "2023-05-12T10:52:25.410Z"
   },
   {
    "duration": 4,
    "start_time": "2023-05-12T10:52:25.424Z"
   },
   {
    "duration": 10,
    "start_time": "2023-05-12T10:52:25.430Z"
   },
   {
    "duration": 46,
    "start_time": "2023-05-12T10:52:25.442Z"
   },
   {
    "duration": 110,
    "start_time": "2023-05-12T10:53:19.391Z"
   },
   {
    "duration": 14,
    "start_time": "2023-05-12T10:53:50.452Z"
   },
   {
    "duration": 11,
    "start_time": "2023-05-12T10:54:08.024Z"
   },
   {
    "duration": 19,
    "start_time": "2023-05-12T10:57:39.520Z"
   },
   {
    "duration": 14,
    "start_time": "2023-05-12T10:58:17.939Z"
   },
   {
    "duration": 23,
    "start_time": "2023-05-12T11:00:11.804Z"
   },
   {
    "duration": 24,
    "start_time": "2023-05-12T11:00:38.707Z"
   },
   {
    "duration": 16,
    "start_time": "2023-05-12T11:02:01.618Z"
   },
   {
    "duration": 4,
    "start_time": "2023-05-12T11:03:34.652Z"
   },
   {
    "duration": 4,
    "start_time": "2023-05-12T11:04:13.858Z"
   },
   {
    "duration": 10,
    "start_time": "2023-05-12T11:04:21.921Z"
   },
   {
    "duration": 1217,
    "start_time": "2023-05-12T11:05:50.643Z"
   },
   {
    "duration": 13,
    "start_time": "2023-05-12T11:06:25.586Z"
   },
   {
    "duration": 24,
    "start_time": "2023-05-12T11:12:31.348Z"
   },
   {
    "duration": 13,
    "start_time": "2023-05-12T11:15:24.390Z"
   },
   {
    "duration": 1266,
    "start_time": "2023-05-12T11:16:06.439Z"
   },
   {
    "duration": 74,
    "start_time": "2023-05-12T11:16:31.298Z"
   },
   {
    "duration": 87,
    "start_time": "2023-05-12T11:16:41.437Z"
   },
   {
    "duration": 10,
    "start_time": "2023-05-12T11:16:51.081Z"
   },
   {
    "duration": 10,
    "start_time": "2023-05-12T11:19:30.477Z"
   },
   {
    "duration": 1157,
    "start_time": "2023-05-12T11:19:59.020Z"
   },
   {
    "duration": 23,
    "start_time": "2023-05-12T11:20:00.179Z"
   },
   {
    "duration": 3,
    "start_time": "2023-05-12T11:20:00.203Z"
   },
   {
    "duration": 62,
    "start_time": "2023-05-12T11:20:00.208Z"
   },
   {
    "duration": 12,
    "start_time": "2023-05-12T11:20:00.271Z"
   },
   {
    "duration": 14,
    "start_time": "2023-05-12T11:20:00.285Z"
   },
   {
    "duration": 17,
    "start_time": "2023-05-12T11:20:00.301Z"
   },
   {
    "duration": 27,
    "start_time": "2023-05-12T11:20:00.320Z"
   },
   {
    "duration": 11,
    "start_time": "2023-05-12T11:20:00.350Z"
   },
   {
    "duration": 38,
    "start_time": "2023-05-12T11:20:00.363Z"
   },
   {
    "duration": 43,
    "start_time": "2023-05-12T11:20:00.403Z"
   },
   {
    "duration": 107,
    "start_time": "2023-05-12T11:22:11.062Z"
   },
   {
    "duration": 13,
    "start_time": "2023-05-12T11:22:37.491Z"
   },
   {
    "duration": 16,
    "start_time": "2023-05-12T11:23:14.994Z"
   },
   {
    "duration": 13,
    "start_time": "2023-05-12T11:23:54.289Z"
   },
   {
    "duration": 17,
    "start_time": "2023-05-12T11:24:34.025Z"
   },
   {
    "duration": 1120,
    "start_time": "2023-05-12T11:24:44.726Z"
   },
   {
    "duration": 23,
    "start_time": "2023-05-12T11:24:45.848Z"
   },
   {
    "duration": 3,
    "start_time": "2023-05-12T11:24:45.873Z"
   },
   {
    "duration": 63,
    "start_time": "2023-05-12T11:24:45.878Z"
   },
   {
    "duration": 12,
    "start_time": "2023-05-12T11:24:45.943Z"
   },
   {
    "duration": 23,
    "start_time": "2023-05-12T11:24:45.957Z"
   },
   {
    "duration": 10,
    "start_time": "2023-05-12T11:24:45.981Z"
   },
   {
    "duration": 17,
    "start_time": "2023-05-12T11:24:45.993Z"
   },
   {
    "duration": 6,
    "start_time": "2023-05-12T11:24:46.012Z"
   },
   {
    "duration": 20,
    "start_time": "2023-05-12T11:24:46.021Z"
   },
   {
    "duration": 53,
    "start_time": "2023-05-12T11:24:46.046Z"
   },
   {
    "duration": 22,
    "start_time": "2023-05-12T11:25:12.780Z"
   },
   {
    "duration": 25,
    "start_time": "2023-05-12T11:26:19.261Z"
   },
   {
    "duration": 1270,
    "start_time": "2023-05-12T11:28:56.583Z"
   },
   {
    "duration": 9,
    "start_time": "2023-05-12T11:29:50.683Z"
   },
   {
    "duration": 27,
    "start_time": "2023-05-12T11:30:11.136Z"
   },
   {
    "duration": 24,
    "start_time": "2023-05-12T11:30:32.813Z"
   },
   {
    "duration": 1226,
    "start_time": "2023-05-12T11:31:06.795Z"
   },
   {
    "duration": 23,
    "start_time": "2023-05-12T11:31:08.023Z"
   },
   {
    "duration": 3,
    "start_time": "2023-05-12T11:31:08.048Z"
   },
   {
    "duration": 13,
    "start_time": "2023-05-12T11:31:08.053Z"
   },
   {
    "duration": 5,
    "start_time": "2023-05-12T11:31:08.068Z"
   },
   {
    "duration": 5,
    "start_time": "2023-05-12T11:31:08.078Z"
   },
   {
    "duration": 55,
    "start_time": "2023-05-12T11:31:08.084Z"
   },
   {
    "duration": 5,
    "start_time": "2023-05-12T11:31:08.140Z"
   },
   {
    "duration": 36,
    "start_time": "2023-05-12T11:31:08.146Z"
   },
   {
    "duration": 23,
    "start_time": "2023-05-12T11:31:08.185Z"
   },
   {
    "duration": 108,
    "start_time": "2023-05-12T11:31:45.040Z"
   },
   {
    "duration": 14,
    "start_time": "2023-05-12T11:32:06.109Z"
   },
   {
    "duration": 22,
    "start_time": "2023-05-12T11:36:06.773Z"
   },
   {
    "duration": 11,
    "start_time": "2023-05-12T11:36:10.492Z"
   },
   {
    "duration": 1212,
    "start_time": "2023-05-12T11:36:22.618Z"
   },
   {
    "duration": 23,
    "start_time": "2023-05-12T11:36:23.832Z"
   },
   {
    "duration": 3,
    "start_time": "2023-05-12T11:36:23.857Z"
   },
   {
    "duration": 12,
    "start_time": "2023-05-12T11:36:23.862Z"
   },
   {
    "duration": 5,
    "start_time": "2023-05-12T11:36:23.877Z"
   },
   {
    "duration": 7,
    "start_time": "2023-05-12T11:36:23.886Z"
   },
   {
    "duration": 56,
    "start_time": "2023-05-12T11:36:23.895Z"
   },
   {
    "duration": 5,
    "start_time": "2023-05-12T11:36:23.952Z"
   },
   {
    "duration": 18,
    "start_time": "2023-05-12T11:36:23.977Z"
   },
   {
    "duration": 34,
    "start_time": "2023-05-12T11:36:23.997Z"
   },
   {
    "duration": 24,
    "start_time": "2023-05-12T11:38:09.631Z"
   },
   {
    "duration": 1193,
    "start_time": "2023-05-12T11:38:27.134Z"
   },
   {
    "duration": 23,
    "start_time": "2023-05-12T11:38:28.329Z"
   },
   {
    "duration": 3,
    "start_time": "2023-05-12T11:38:28.353Z"
   },
   {
    "duration": 17,
    "start_time": "2023-05-12T11:38:28.358Z"
   },
   {
    "duration": 14,
    "start_time": "2023-05-12T11:38:28.377Z"
   },
   {
    "duration": 7,
    "start_time": "2023-05-12T11:38:28.392Z"
   },
   {
    "duration": 53,
    "start_time": "2023-05-12T11:38:28.401Z"
   },
   {
    "duration": 4,
    "start_time": "2023-05-12T11:38:28.456Z"
   },
   {
    "duration": 19,
    "start_time": "2023-05-12T11:38:28.462Z"
   },
   {
    "duration": 28,
    "start_time": "2023-05-12T11:38:28.484Z"
   },
   {
    "duration": 12,
    "start_time": "2023-05-12T11:39:08.662Z"
   },
   {
    "duration": 10,
    "start_time": "2023-05-12T11:42:48.191Z"
   },
   {
    "duration": 106,
    "start_time": "2023-05-12T11:43:17.002Z"
   },
   {
    "duration": 10,
    "start_time": "2023-05-12T11:43:33.197Z"
   },
   {
    "duration": 1312,
    "start_time": "2023-05-12T11:45:30.700Z"
   },
   {
    "duration": 27,
    "start_time": "2023-05-12T11:46:11.303Z"
   },
   {
    "duration": 25,
    "start_time": "2023-05-12T11:46:50.550Z"
   },
   {
    "duration": 28,
    "start_time": "2023-05-12T11:47:25.342Z"
   },
   {
    "duration": 1472,
    "start_time": "2023-05-12T11:48:02.173Z"
   },
   {
    "duration": 29,
    "start_time": "2023-05-12T11:48:33.131Z"
   },
   {
    "duration": 12,
    "start_time": "2023-05-12T11:49:20.851Z"
   },
   {
    "duration": 1374,
    "start_time": "2023-05-12T11:49:57.234Z"
   },
   {
    "duration": 1432,
    "start_time": "2023-05-12T11:53:04.653Z"
   },
   {
    "duration": 26,
    "start_time": "2023-05-12T11:53:20.349Z"
   },
   {
    "duration": 38,
    "start_time": "2023-05-12T11:54:04.275Z"
   },
   {
    "duration": 44,
    "start_time": "2023-05-12T11:55:12.570Z"
   },
   {
    "duration": 1274,
    "start_time": "2023-05-12T11:56:04.725Z"
   },
   {
    "duration": 1402,
    "start_time": "2023-05-12T11:56:36.810Z"
   },
   {
    "duration": 34,
    "start_time": "2023-05-12T11:57:14.859Z"
   },
   {
    "duration": 1372,
    "start_time": "2023-05-13T09:06:14.527Z"
   },
   {
    "duration": 117,
    "start_time": "2023-05-13T09:06:15.909Z"
   },
   {
    "duration": 5,
    "start_time": "2023-05-13T09:06:16.027Z"
   },
   {
    "duration": 21,
    "start_time": "2023-05-13T09:06:16.033Z"
   },
   {
    "duration": 5,
    "start_time": "2023-05-13T09:06:16.056Z"
   },
   {
    "duration": 8,
    "start_time": "2023-05-13T09:06:16.062Z"
   },
   {
    "duration": 63,
    "start_time": "2023-05-13T09:06:16.071Z"
   },
   {
    "duration": 6,
    "start_time": "2023-05-13T09:06:16.136Z"
   },
   {
    "duration": 20,
    "start_time": "2023-05-13T09:06:16.145Z"
   },
   {
    "duration": 23,
    "start_time": "2023-05-13T09:06:16.166Z"
   },
   {
    "duration": 240,
    "start_time": "2023-05-13T09:35:54.174Z"
   },
   {
    "duration": 1295,
    "start_time": "2023-05-13T09:36:06.465Z"
   },
   {
    "duration": 94,
    "start_time": "2023-05-13T09:36:07.762Z"
   },
   {
    "duration": 3,
    "start_time": "2023-05-13T09:36:07.857Z"
   },
   {
    "duration": 12,
    "start_time": "2023-05-13T09:36:07.863Z"
   },
   {
    "duration": 3,
    "start_time": "2023-05-13T09:36:07.877Z"
   },
   {
    "duration": 8,
    "start_time": "2023-05-13T09:36:07.882Z"
   },
   {
    "duration": 75,
    "start_time": "2023-05-13T09:36:07.891Z"
   },
   {
    "duration": 5,
    "start_time": "2023-05-13T09:36:07.967Z"
   },
   {
    "duration": 18,
    "start_time": "2023-05-13T09:36:07.973Z"
   },
   {
    "duration": 42,
    "start_time": "2023-05-13T09:36:07.994Z"
   },
   {
    "duration": 10,
    "start_time": "2023-05-13T10:58:01.735Z"
   },
   {
    "duration": 19,
    "start_time": "2023-05-13T10:58:05.419Z"
   },
   {
    "duration": 13,
    "start_time": "2023-05-13T10:58:54.325Z"
   },
   {
    "duration": 21,
    "start_time": "2023-05-13T10:59:27.788Z"
   },
   {
    "duration": 13,
    "start_time": "2023-05-13T11:00:02.240Z"
   },
   {
    "duration": 48,
    "start_time": "2023-05-14T11:11:21.900Z"
   },
   {
    "duration": 1420,
    "start_time": "2023-05-14T11:11:34.045Z"
   },
   {
    "duration": 203,
    "start_time": "2023-05-14T11:11:35.468Z"
   },
   {
    "duration": 12,
    "start_time": "2023-05-14T11:11:35.673Z"
   },
   {
    "duration": 38,
    "start_time": "2023-05-14T11:11:35.687Z"
   },
   {
    "duration": 16,
    "start_time": "2023-05-14T11:11:35.727Z"
   },
   {
    "duration": 24,
    "start_time": "2023-05-14T11:11:35.745Z"
   },
   {
    "duration": 88,
    "start_time": "2023-05-14T11:11:35.771Z"
   },
   {
    "duration": 5,
    "start_time": "2023-05-14T11:11:35.861Z"
   },
   {
    "duration": 29,
    "start_time": "2023-05-14T11:11:35.868Z"
   },
   {
    "duration": 27,
    "start_time": "2023-05-14T11:11:35.899Z"
   },
   {
    "duration": 10,
    "start_time": "2023-05-14T11:11:35.928Z"
   },
   {
    "duration": 11,
    "start_time": "2023-05-14T11:11:35.940Z"
   },
   {
    "duration": 12,
    "start_time": "2023-05-14T11:11:35.952Z"
   },
   {
    "duration": 20,
    "start_time": "2023-05-14T11:11:35.979Z"
   },
   {
    "duration": 405,
    "start_time": "2023-05-14T11:11:36.001Z"
   },
   {
    "duration": 63,
    "start_time": "2023-05-14T11:14:04.138Z"
   },
   {
    "duration": 5,
    "start_time": "2023-05-14T11:14:16.876Z"
   },
   {
    "duration": 11,
    "start_time": "2023-05-14T11:14:20.793Z"
   },
   {
    "duration": 3,
    "start_time": "2023-05-14T11:14:30.332Z"
   },
   {
    "duration": 4,
    "start_time": "2023-05-14T11:14:34.147Z"
   },
   {
    "duration": 15,
    "start_time": "2023-05-14T11:14:39.635Z"
   },
   {
    "duration": 1142,
    "start_time": "2023-05-14T11:14:49.932Z"
   },
   {
    "duration": 63,
    "start_time": "2023-05-14T11:14:51.078Z"
   },
   {
    "duration": 2,
    "start_time": "2023-05-14T11:14:51.143Z"
   },
   {
    "duration": 36,
    "start_time": "2023-05-14T11:14:51.147Z"
   },
   {
    "duration": 26,
    "start_time": "2023-05-14T11:14:51.185Z"
   },
   {
    "duration": 26,
    "start_time": "2023-05-14T11:14:51.213Z"
   },
   {
    "duration": 69,
    "start_time": "2023-05-14T11:14:51.241Z"
   },
   {
    "duration": 5,
    "start_time": "2023-05-14T11:14:51.311Z"
   },
   {
    "duration": 20,
    "start_time": "2023-05-14T11:14:51.317Z"
   },
   {
    "duration": 29,
    "start_time": "2023-05-14T11:14:51.339Z"
   },
   {
    "duration": 34,
    "start_time": "2023-05-14T11:14:51.377Z"
   },
   {
    "duration": 24,
    "start_time": "2023-05-14T11:14:51.413Z"
   },
   {
    "duration": 23,
    "start_time": "2023-05-14T11:14:51.439Z"
   },
   {
    "duration": 14,
    "start_time": "2023-05-14T11:14:51.465Z"
   },
   {
    "duration": 20,
    "start_time": "2023-05-14T11:14:51.481Z"
   },
   {
    "duration": 413,
    "start_time": "2023-05-14T11:15:58.592Z"
   },
   {
    "duration": 6,
    "start_time": "2023-05-14T11:17:49.798Z"
   },
   {
    "duration": 14,
    "start_time": "2023-05-14T11:18:11.332Z"
   },
   {
    "duration": 76,
    "start_time": "2023-05-14T11:19:38.291Z"
   },
   {
    "duration": 6,
    "start_time": "2023-05-14T11:19:48.333Z"
   },
   {
    "duration": 79,
    "start_time": "2023-05-14T11:20:09.246Z"
   },
   {
    "duration": 6,
    "start_time": "2023-05-14T11:20:14.941Z"
   },
   {
    "duration": 6,
    "start_time": "2023-05-14T11:20:45.228Z"
   },
   {
    "duration": 13,
    "start_time": "2023-05-14T11:21:05.503Z"
   },
   {
    "duration": 10,
    "start_time": "2023-05-14T11:21:54.683Z"
   },
   {
    "duration": 6,
    "start_time": "2023-05-14T11:24:58.739Z"
   },
   {
    "duration": 197,
    "start_time": "2023-05-14T11:58:01.497Z"
   },
   {
    "duration": 173,
    "start_time": "2023-05-14T12:01:03.139Z"
   },
   {
    "duration": 11,
    "start_time": "2023-05-14T12:01:12.350Z"
   },
   {
    "duration": 113,
    "start_time": "2023-05-14T12:23:36.852Z"
   },
   {
    "duration": 226,
    "start_time": "2023-05-14T12:26:41.823Z"
   },
   {
    "duration": 151,
    "start_time": "2023-05-14T12:27:10.992Z"
   },
   {
    "duration": 6,
    "start_time": "2023-05-14T12:30:51.431Z"
   },
   {
    "duration": 3,
    "start_time": "2023-05-14T12:30:53.896Z"
   },
   {
    "duration": 13,
    "start_time": "2023-05-14T12:31:19.705Z"
   },
   {
    "duration": 13,
    "start_time": "2023-05-14T12:32:32.728Z"
   },
   {
    "duration": 12,
    "start_time": "2023-05-14T12:32:46.042Z"
   },
   {
    "duration": 16,
    "start_time": "2023-05-14T12:33:30.447Z"
   },
   {
    "duration": 6,
    "start_time": "2023-05-14T12:36:45.592Z"
   },
   {
    "duration": 6,
    "start_time": "2023-05-14T12:37:27.134Z"
   },
   {
    "duration": 6,
    "start_time": "2023-05-14T12:39:20.988Z"
   },
   {
    "duration": 5,
    "start_time": "2023-05-14T12:40:11.512Z"
   },
   {
    "duration": 194,
    "start_time": "2023-05-14T12:41:56.981Z"
   },
   {
    "duration": 175,
    "start_time": "2023-05-14T12:44:16.718Z"
   },
   {
    "duration": 185,
    "start_time": "2023-05-14T12:57:39.954Z"
   },
   {
    "duration": 269,
    "start_time": "2023-05-14T12:58:34.971Z"
   },
   {
    "duration": 292,
    "start_time": "2023-05-14T13:00:47.291Z"
   },
   {
    "duration": 231,
    "start_time": "2023-05-14T13:00:57.851Z"
   },
   {
    "duration": 259,
    "start_time": "2023-05-14T13:01:48.543Z"
   },
   {
    "duration": 360,
    "start_time": "2023-05-14T13:06:43.149Z"
   },
   {
    "duration": 220,
    "start_time": "2023-05-14T13:07:18.355Z"
   },
   {
    "duration": 203,
    "start_time": "2023-05-14T13:13:08.552Z"
   },
   {
    "duration": 200,
    "start_time": "2023-05-14T13:13:35.313Z"
   },
   {
    "duration": 177,
    "start_time": "2023-05-14T13:15:00.892Z"
   },
   {
    "duration": 222,
    "start_time": "2023-05-14T13:15:33.854Z"
   },
   {
    "duration": 260,
    "start_time": "2023-05-14T13:29:22.796Z"
   },
   {
    "duration": 247,
    "start_time": "2023-05-14T13:29:38.781Z"
   },
   {
    "duration": 324,
    "start_time": "2023-05-14T13:30:12.025Z"
   },
   {
    "duration": 229,
    "start_time": "2023-05-14T13:30:21.378Z"
   },
   {
    "duration": 216,
    "start_time": "2023-05-14T13:30:39.608Z"
   },
   {
    "duration": 209,
    "start_time": "2023-05-14T13:31:12.391Z"
   },
   {
    "duration": 227,
    "start_time": "2023-05-14T13:31:25.607Z"
   },
   {
    "duration": 68,
    "start_time": "2023-05-14T16:06:41.906Z"
   },
   {
    "duration": 1715,
    "start_time": "2023-05-14T16:06:51.780Z"
   },
   {
    "duration": 246,
    "start_time": "2023-05-14T16:06:53.500Z"
   },
   {
    "duration": 4,
    "start_time": "2023-05-14T16:06:53.749Z"
   },
   {
    "duration": 28,
    "start_time": "2023-05-14T16:06:53.756Z"
   },
   {
    "duration": 5,
    "start_time": "2023-05-14T16:06:53.786Z"
   },
   {
    "duration": 84,
    "start_time": "2023-05-14T16:06:53.796Z"
   },
   {
    "duration": 109,
    "start_time": "2023-05-14T16:06:53.883Z"
   },
   {
    "duration": 9,
    "start_time": "2023-05-14T16:06:53.995Z"
   },
   {
    "duration": 35,
    "start_time": "2023-05-14T16:06:54.010Z"
   },
   {
    "duration": 44,
    "start_time": "2023-05-14T16:06:54.054Z"
   },
   {
    "duration": 18,
    "start_time": "2023-05-14T16:06:54.100Z"
   },
   {
    "duration": 25,
    "start_time": "2023-05-14T16:06:54.122Z"
   },
   {
    "duration": 40,
    "start_time": "2023-05-14T16:06:54.150Z"
   },
   {
    "duration": 414,
    "start_time": "2023-05-14T16:06:54.193Z"
   },
   {
    "duration": 0,
    "start_time": "2023-05-14T16:06:54.609Z"
   },
   {
    "duration": 0,
    "start_time": "2023-05-14T16:06:54.611Z"
   },
   {
    "duration": 0,
    "start_time": "2023-05-14T16:06:54.612Z"
   },
   {
    "duration": 0,
    "start_time": "2023-05-14T16:06:54.614Z"
   },
   {
    "duration": 0,
    "start_time": "2023-05-14T16:06:54.616Z"
   },
   {
    "duration": 0,
    "start_time": "2023-05-14T16:06:54.618Z"
   },
   {
    "duration": 0,
    "start_time": "2023-05-14T16:06:54.619Z"
   },
   {
    "duration": 0,
    "start_time": "2023-05-14T16:06:54.621Z"
   },
   {
    "duration": 0,
    "start_time": "2023-05-14T16:06:54.622Z"
   },
   {
    "duration": 1,
    "start_time": "2023-05-14T16:06:54.623Z"
   },
   {
    "duration": 0,
    "start_time": "2023-05-14T16:06:54.625Z"
   },
   {
    "duration": 5,
    "start_time": "2023-05-14T16:07:34.074Z"
   },
   {
    "duration": 18,
    "start_time": "2023-05-14T16:07:40.184Z"
   },
   {
    "duration": 17,
    "start_time": "2023-05-14T16:07:41.431Z"
   },
   {
    "duration": 9,
    "start_time": "2023-05-14T16:07:43.574Z"
   },
   {
    "duration": 213,
    "start_time": "2023-05-14T16:07:45.073Z"
   },
   {
    "duration": 154,
    "start_time": "2023-05-14T16:07:46.823Z"
   },
   {
    "duration": 7,
    "start_time": "2023-05-14T16:07:48.528Z"
   },
   {
    "duration": 4,
    "start_time": "2023-05-14T16:07:49.503Z"
   },
   {
    "duration": 16,
    "start_time": "2023-05-14T16:07:50.182Z"
   },
   {
    "duration": 7,
    "start_time": "2023-05-14T16:07:53.054Z"
   },
   {
    "duration": 6,
    "start_time": "2023-05-14T16:07:53.888Z"
   },
   {
    "duration": 336,
    "start_time": "2023-05-14T16:07:54.664Z"
   },
   {
    "duration": 236,
    "start_time": "2023-05-14T16:32:33.932Z"
   },
   {
    "duration": 193,
    "start_time": "2023-05-14T16:33:00.578Z"
   },
   {
    "duration": 311,
    "start_time": "2023-05-14T16:33:28.730Z"
   },
   {
    "duration": 345,
    "start_time": "2023-05-14T16:34:00.386Z"
   },
   {
    "duration": 435,
    "start_time": "2023-05-14T16:34:21.248Z"
   },
   {
    "duration": 387,
    "start_time": "2023-05-14T16:34:39.021Z"
   },
   {
    "duration": 224,
    "start_time": "2023-05-14T16:35:10.770Z"
   },
   {
    "duration": 235,
    "start_time": "2023-05-14T16:37:50.915Z"
   },
   {
    "duration": 7,
    "start_time": "2023-05-14T17:07:44.934Z"
   },
   {
    "duration": 315,
    "start_time": "2023-05-14T17:09:53.120Z"
   },
   {
    "duration": 343,
    "start_time": "2023-05-14T17:10:44.412Z"
   },
   {
    "duration": 347,
    "start_time": "2023-05-14T17:11:29.950Z"
   },
   {
    "duration": 352,
    "start_time": "2023-05-14T17:12:33.230Z"
   },
   {
    "duration": 12,
    "start_time": "2023-05-14T17:31:28.626Z"
   },
   {
    "duration": 5,
    "start_time": "2023-05-14T17:32:54.185Z"
   },
   {
    "duration": 4,
    "start_time": "2023-05-14T17:43:01.664Z"
   },
   {
    "duration": 211,
    "start_time": "2023-05-14T17:43:02.888Z"
   },
   {
    "duration": 219,
    "start_time": "2023-05-14T18:50:18.640Z"
   },
   {
    "duration": 1254,
    "start_time": "2023-05-14T18:51:12.248Z"
   },
   {
    "duration": 79,
    "start_time": "2023-05-14T18:51:13.504Z"
   },
   {
    "duration": 4,
    "start_time": "2023-05-14T18:51:13.585Z"
   },
   {
    "duration": 16,
    "start_time": "2023-05-14T18:51:13.591Z"
   },
   {
    "duration": 29,
    "start_time": "2023-05-14T18:51:13.609Z"
   },
   {
    "duration": 9,
    "start_time": "2023-05-14T18:51:13.639Z"
   },
   {
    "duration": 71,
    "start_time": "2023-05-14T18:51:13.650Z"
   },
   {
    "duration": 5,
    "start_time": "2023-05-14T18:51:13.724Z"
   },
   {
    "duration": 22,
    "start_time": "2023-05-14T18:51:13.731Z"
   },
   {
    "duration": 37,
    "start_time": "2023-05-14T18:51:13.756Z"
   },
   {
    "duration": 12,
    "start_time": "2023-05-14T18:51:13.794Z"
   },
   {
    "duration": 13,
    "start_time": "2023-05-14T18:51:13.808Z"
   },
   {
    "duration": 15,
    "start_time": "2023-05-14T18:51:13.823Z"
   },
   {
    "duration": 38,
    "start_time": "2023-05-14T18:51:13.840Z"
   },
   {
    "duration": 17,
    "start_time": "2023-05-14T18:51:13.880Z"
   },
   {
    "duration": 11,
    "start_time": "2023-05-14T18:51:13.899Z"
   },
   {
    "duration": 8,
    "start_time": "2023-05-14T18:51:13.912Z"
   },
   {
    "duration": 193,
    "start_time": "2023-05-14T18:51:13.922Z"
   },
   {
    "duration": 132,
    "start_time": "2023-05-14T18:51:14.117Z"
   },
   {
    "duration": 33,
    "start_time": "2023-05-14T18:51:14.250Z"
   },
   {
    "duration": 34,
    "start_time": "2023-05-14T18:51:14.285Z"
   },
   {
    "duration": 38,
    "start_time": "2023-05-14T18:51:14.321Z"
   },
   {
    "duration": 63,
    "start_time": "2023-05-14T18:51:14.361Z"
   },
   {
    "duration": 54,
    "start_time": "2023-05-14T18:51:14.427Z"
   },
   {
    "duration": 23,
    "start_time": "2023-05-14T18:51:14.483Z"
   },
   {
    "duration": 313,
    "start_time": "2023-05-14T18:51:14.508Z"
   },
   {
    "duration": 261,
    "start_time": "2023-05-14T18:51:14.824Z"
   },
   {
    "duration": 8,
    "start_time": "2023-05-14T18:51:15.089Z"
   },
   {
    "duration": 319,
    "start_time": "2023-05-14T18:51:15.099Z"
   },
   {
    "duration": 955,
    "start_time": "2023-05-14T18:51:15.420Z"
   },
   {
    "duration": 0,
    "start_time": "2023-05-14T18:51:16.382Z"
   },
   {
    "duration": 5,
    "start_time": "2023-05-14T19:02:17.732Z"
   },
   {
    "duration": 1124,
    "start_time": "2023-05-14T19:03:53.760Z"
   },
   {
    "duration": 243,
    "start_time": "2023-05-14T19:05:41.907Z"
   },
   {
    "duration": 273,
    "start_time": "2023-05-14T19:06:02.793Z"
   },
   {
    "duration": 9,
    "start_time": "2023-05-14T19:06:26.531Z"
   },
   {
    "duration": 6,
    "start_time": "2023-05-14T19:07:03.445Z"
   },
   {
    "duration": 398,
    "start_time": "2023-05-14T19:07:09.111Z"
   },
   {
    "duration": 255,
    "start_time": "2023-05-14T19:09:18.989Z"
   },
   {
    "duration": 1400,
    "start_time": "2023-05-14T19:11:46.640Z"
   },
   {
    "duration": 81,
    "start_time": "2023-05-14T19:11:48.042Z"
   },
   {
    "duration": 3,
    "start_time": "2023-05-14T19:11:48.126Z"
   },
   {
    "duration": 16,
    "start_time": "2023-05-14T19:11:48.131Z"
   },
   {
    "duration": 11,
    "start_time": "2023-05-14T19:11:48.151Z"
   },
   {
    "duration": 11,
    "start_time": "2023-05-14T19:11:48.165Z"
   },
   {
    "duration": 93,
    "start_time": "2023-05-14T19:11:48.178Z"
   },
   {
    "duration": 5,
    "start_time": "2023-05-14T19:11:48.273Z"
   },
   {
    "duration": 34,
    "start_time": "2023-05-14T19:11:48.281Z"
   },
   {
    "duration": 43,
    "start_time": "2023-05-14T19:11:48.318Z"
   },
   {
    "duration": 27,
    "start_time": "2023-05-14T19:11:48.365Z"
   },
   {
    "duration": 32,
    "start_time": "2023-05-14T19:11:48.394Z"
   },
   {
    "duration": 46,
    "start_time": "2023-05-14T19:11:48.429Z"
   },
   {
    "duration": 41,
    "start_time": "2023-05-14T19:11:48.478Z"
   },
   {
    "duration": 23,
    "start_time": "2023-05-14T19:11:48.522Z"
   },
   {
    "duration": 14,
    "start_time": "2023-05-14T19:11:48.547Z"
   },
   {
    "duration": 7,
    "start_time": "2023-05-14T19:11:48.563Z"
   },
   {
    "duration": 197,
    "start_time": "2023-05-14T19:11:48.572Z"
   },
   {
    "duration": 184,
    "start_time": "2023-05-14T19:11:48.772Z"
   },
   {
    "duration": 21,
    "start_time": "2023-05-14T19:11:48.957Z"
   },
   {
    "duration": 14,
    "start_time": "2023-05-14T19:11:48.980Z"
   },
   {
    "duration": 27,
    "start_time": "2023-05-14T19:11:48.997Z"
   },
   {
    "duration": 14,
    "start_time": "2023-05-14T19:11:49.027Z"
   },
   {
    "duration": 21,
    "start_time": "2023-05-14T19:11:49.043Z"
   },
   {
    "duration": 408,
    "start_time": "2023-05-14T19:11:49.073Z"
   },
   {
    "duration": 277,
    "start_time": "2023-05-14T19:11:49.483Z"
   },
   {
    "duration": 14,
    "start_time": "2023-05-14T19:11:49.763Z"
   },
   {
    "duration": 399,
    "start_time": "2023-05-14T19:11:49.778Z"
   },
   {
    "duration": 7,
    "start_time": "2023-05-14T19:11:50.180Z"
   },
   {
    "duration": 13,
    "start_time": "2023-05-14T19:11:50.189Z"
   },
   {
    "duration": 326,
    "start_time": "2023-05-14T19:11:50.204Z"
   },
   {
    "duration": 13,
    "start_time": "2023-05-14T19:26:09.783Z"
   },
   {
    "duration": 44,
    "start_time": "2023-05-14T19:33:30.928Z"
   },
   {
    "duration": 278,
    "start_time": "2023-05-14T19:33:58.129Z"
   },
   {
    "duration": 53,
    "start_time": "2023-05-15T10:15:42.697Z"
   },
   {
    "duration": 8,
    "start_time": "2023-05-15T10:15:43.971Z"
   },
   {
    "duration": 1605,
    "start_time": "2023-05-15T10:16:01.096Z"
   },
   {
    "duration": 247,
    "start_time": "2023-05-15T10:16:02.704Z"
   },
   {
    "duration": 4,
    "start_time": "2023-05-15T10:16:02.953Z"
   },
   {
    "duration": 17,
    "start_time": "2023-05-15T10:16:02.960Z"
   },
   {
    "duration": 21,
    "start_time": "2023-05-15T10:16:02.979Z"
   },
   {
    "duration": 36,
    "start_time": "2023-05-15T10:16:03.003Z"
   },
   {
    "duration": 68,
    "start_time": "2023-05-15T10:16:03.041Z"
   },
   {
    "duration": 5,
    "start_time": "2023-05-15T10:16:03.111Z"
   },
   {
    "duration": 25,
    "start_time": "2023-05-15T10:16:03.118Z"
   },
   {
    "duration": 55,
    "start_time": "2023-05-15T10:16:03.146Z"
   },
   {
    "duration": 21,
    "start_time": "2023-05-15T10:16:03.203Z"
   },
   {
    "duration": 28,
    "start_time": "2023-05-15T10:16:03.225Z"
   },
   {
    "duration": 22,
    "start_time": "2023-05-15T10:16:03.255Z"
   },
   {
    "duration": 19,
    "start_time": "2023-05-15T10:16:03.279Z"
   },
   {
    "duration": 25,
    "start_time": "2023-05-15T10:16:03.300Z"
   },
   {
    "duration": 14,
    "start_time": "2023-05-15T10:16:03.327Z"
   },
   {
    "duration": 18,
    "start_time": "2023-05-15T10:16:03.343Z"
   },
   {
    "duration": 210,
    "start_time": "2023-05-15T10:16:03.363Z"
   },
   {
    "duration": 163,
    "start_time": "2023-05-15T10:16:03.575Z"
   },
   {
    "duration": 12,
    "start_time": "2023-05-15T10:16:03.740Z"
   },
   {
    "duration": 14,
    "start_time": "2023-05-15T10:16:03.754Z"
   },
   {
    "duration": 30,
    "start_time": "2023-05-15T10:16:03.771Z"
   },
   {
    "duration": 11,
    "start_time": "2023-05-15T10:16:03.803Z"
   },
   {
    "duration": 10,
    "start_time": "2023-05-15T10:16:03.817Z"
   },
   {
    "duration": 360,
    "start_time": "2023-05-15T10:16:03.829Z"
   },
   {
    "duration": 275,
    "start_time": "2023-05-15T10:16:04.191Z"
   },
   {
    "duration": 9,
    "start_time": "2023-05-15T10:16:04.469Z"
   },
   {
    "duration": 403,
    "start_time": "2023-05-15T10:16:04.497Z"
   },
   {
    "duration": 6,
    "start_time": "2023-05-15T10:16:04.902Z"
   },
   {
    "duration": 20,
    "start_time": "2023-05-15T10:16:04.910Z"
   },
   {
    "duration": 261,
    "start_time": "2023-05-15T10:16:04.932Z"
   },
   {
    "duration": 349,
    "start_time": "2023-05-15T10:16:05.197Z"
   },
   {
    "duration": 8,
    "start_time": "2023-05-15T10:16:05.549Z"
   },
   {
    "duration": 417,
    "start_time": "2023-05-15T10:16:05.559Z"
   },
   {
    "duration": 520,
    "start_time": "2023-05-15T10:18:01.283Z"
   },
   {
    "duration": 66,
    "start_time": "2023-05-15T15:58:32.638Z"
   },
   {
    "duration": 1673,
    "start_time": "2023-05-15T15:58:48.526Z"
   },
   {
    "duration": 223,
    "start_time": "2023-05-15T15:58:50.202Z"
   },
   {
    "duration": 3,
    "start_time": "2023-05-15T15:58:50.427Z"
   },
   {
    "duration": 27,
    "start_time": "2023-05-15T15:58:50.432Z"
   },
   {
    "duration": 11,
    "start_time": "2023-05-15T15:58:50.461Z"
   },
   {
    "duration": 15,
    "start_time": "2023-05-15T15:58:50.475Z"
   },
   {
    "duration": 104,
    "start_time": "2023-05-15T15:58:50.492Z"
   },
   {
    "duration": 9,
    "start_time": "2023-05-15T15:58:50.599Z"
   },
   {
    "duration": 25,
    "start_time": "2023-05-15T15:58:50.610Z"
   },
   {
    "duration": 38,
    "start_time": "2023-05-15T15:58:50.639Z"
   },
   {
    "duration": 14,
    "start_time": "2023-05-15T15:58:50.679Z"
   },
   {
    "duration": 44,
    "start_time": "2023-05-15T15:58:50.696Z"
   },
   {
    "duration": 24,
    "start_time": "2023-05-15T15:58:50.742Z"
   },
   {
    "duration": 37,
    "start_time": "2023-05-15T15:58:50.769Z"
   },
   {
    "duration": 28,
    "start_time": "2023-05-15T15:58:50.808Z"
   },
   {
    "duration": 13,
    "start_time": "2023-05-15T15:58:50.838Z"
   },
   {
    "duration": 36,
    "start_time": "2023-05-15T15:58:50.854Z"
   },
   {
    "duration": 194,
    "start_time": "2023-05-15T15:58:50.893Z"
   },
   {
    "duration": 170,
    "start_time": "2023-05-15T15:58:51.089Z"
   },
   {
    "duration": 8,
    "start_time": "2023-05-15T15:58:51.261Z"
   },
   {
    "duration": 11,
    "start_time": "2023-05-15T15:58:51.271Z"
   },
   {
    "duration": 16,
    "start_time": "2023-05-15T15:58:51.284Z"
   },
   {
    "duration": 13,
    "start_time": "2023-05-15T15:58:51.302Z"
   },
   {
    "duration": 16,
    "start_time": "2023-05-15T15:58:51.317Z"
   },
   {
    "duration": 406,
    "start_time": "2023-05-15T15:58:51.358Z"
   },
   {
    "duration": 256,
    "start_time": "2023-05-15T15:58:51.766Z"
   },
   {
    "duration": 10,
    "start_time": "2023-05-15T15:58:52.024Z"
   },
   {
    "duration": 389,
    "start_time": "2023-05-15T15:58:52.037Z"
   },
   {
    "duration": 5,
    "start_time": "2023-05-15T15:58:52.428Z"
   },
   {
    "duration": 22,
    "start_time": "2023-05-15T15:58:52.435Z"
   },
   {
    "duration": 271,
    "start_time": "2023-05-15T15:58:52.460Z"
   },
   {
    "duration": 261,
    "start_time": "2023-05-15T15:58:52.734Z"
   },
   {
    "duration": 8,
    "start_time": "2023-05-15T15:58:52.997Z"
   },
   {
    "duration": 465,
    "start_time": "2023-05-15T15:58:53.008Z"
   },
   {
    "duration": 11,
    "start_time": "2023-05-15T15:58:53.476Z"
   },
   {
    "duration": 88,
    "start_time": "2023-05-15T15:58:53.490Z"
   },
   {
    "duration": 11,
    "start_time": "2023-05-15T16:00:07.222Z"
   },
   {
    "duration": 12,
    "start_time": "2023-05-15T16:00:46.605Z"
   },
   {
    "duration": 13,
    "start_time": "2023-05-15T16:01:35.832Z"
   },
   {
    "duration": 4,
    "start_time": "2023-05-15T16:04:02.945Z"
   },
   {
    "duration": 287,
    "start_time": "2023-05-15T16:04:29.760Z"
   },
   {
    "duration": 224,
    "start_time": "2023-05-15T16:05:52.873Z"
   },
   {
    "duration": 244,
    "start_time": "2023-05-15T16:06:16.822Z"
   },
   {
    "duration": 282,
    "start_time": "2023-05-15T16:09:42.638Z"
   },
   {
    "duration": 7,
    "start_time": "2023-05-15T17:23:38.514Z"
   },
   {
    "duration": 6,
    "start_time": "2023-05-15T17:24:04.008Z"
   },
   {
    "duration": 4,
    "start_time": "2023-05-15T17:36:32.633Z"
   },
   {
    "duration": 145,
    "start_time": "2023-05-15T17:52:02.584Z"
   },
   {
    "duration": 16,
    "start_time": "2023-05-15T17:52:39.647Z"
   },
   {
    "duration": 7,
    "start_time": "2023-05-15T17:53:50.094Z"
   },
   {
    "duration": 8,
    "start_time": "2023-05-15T17:56:13.012Z"
   },
   {
    "duration": 12,
    "start_time": "2023-05-15T17:56:33.222Z"
   },
   {
    "duration": 9,
    "start_time": "2023-05-15T17:56:55.388Z"
   },
   {
    "duration": 91,
    "start_time": "2023-05-15T17:57:54.718Z"
   },
   {
    "duration": 6,
    "start_time": "2023-05-15T18:00:54.848Z"
   },
   {
    "duration": 8,
    "start_time": "2023-05-15T18:01:41.765Z"
   },
   {
    "duration": 1101,
    "start_time": "2023-05-15T18:01:55.061Z"
   },
   {
    "duration": 140,
    "start_time": "2023-05-15T18:03:45.990Z"
   },
   {
    "duration": 8,
    "start_time": "2023-05-15T18:04:01.930Z"
   },
   {
    "duration": 7,
    "start_time": "2023-05-15T18:04:53.262Z"
   },
   {
    "duration": 5,
    "start_time": "2023-05-15T18:07:02.094Z"
   },
   {
    "duration": 6,
    "start_time": "2023-05-15T18:07:30.230Z"
   },
   {
    "duration": 391,
    "start_time": "2023-05-15T18:29:43.471Z"
   },
   {
    "duration": 239,
    "start_time": "2023-05-15T18:32:21.216Z"
   },
   {
    "duration": 93,
    "start_time": "2023-05-15T18:49:18.320Z"
   },
   {
    "duration": 171,
    "start_time": "2023-05-15T18:54:37.710Z"
   },
   {
    "duration": 9,
    "start_time": "2023-05-15T19:06:28.782Z"
   },
   {
    "duration": 10,
    "start_time": "2023-05-15T19:06:30.419Z"
   },
   {
    "duration": 9,
    "start_time": "2023-05-15T19:07:05.627Z"
   },
   {
    "duration": 13,
    "start_time": "2023-05-15T19:07:08.084Z"
   },
   {
    "duration": 25,
    "start_time": "2023-05-15T19:09:47.151Z"
   },
   {
    "duration": 9,
    "start_time": "2023-05-15T19:10:12.901Z"
   },
   {
    "duration": 16,
    "start_time": "2023-05-15T19:13:30.130Z"
   },
   {
    "duration": 16,
    "start_time": "2023-05-15T19:14:32.874Z"
   },
   {
    "duration": 14,
    "start_time": "2023-05-15T19:17:15.901Z"
   },
   {
    "duration": 8,
    "start_time": "2023-05-15T19:17:45.784Z"
   },
   {
    "duration": 12,
    "start_time": "2023-05-15T19:17:48.723Z"
   },
   {
    "duration": 9,
    "start_time": "2023-05-15T19:18:51.837Z"
   },
   {
    "duration": 13,
    "start_time": "2023-05-15T19:18:53.078Z"
   },
   {
    "duration": 15,
    "start_time": "2023-05-15T19:23:11.351Z"
   },
   {
    "duration": 10,
    "start_time": "2023-05-15T19:25:42.680Z"
   },
   {
    "duration": 36,
    "start_time": "2023-05-15T19:25:57.257Z"
   },
   {
    "duration": 19,
    "start_time": "2023-05-15T19:30:12.636Z"
   },
   {
    "duration": 211,
    "start_time": "2023-05-15T19:35:43.827Z"
   },
   {
    "duration": 180,
    "start_time": "2023-05-15T19:36:06.739Z"
   },
   {
    "duration": 181,
    "start_time": "2023-05-15T19:37:38.879Z"
   },
   {
    "duration": 118,
    "start_time": "2023-05-15T19:38:01.429Z"
   },
   {
    "duration": 1420,
    "start_time": "2023-05-15T19:38:35.430Z"
   },
   {
    "duration": 175,
    "start_time": "2023-05-15T19:39:23.183Z"
   },
   {
    "duration": 6,
    "start_time": "2023-05-15T19:40:06.746Z"
   },
   {
    "duration": 195,
    "start_time": "2023-05-15T19:40:11.512Z"
   },
   {
    "duration": 322,
    "start_time": "2023-05-15T19:41:46.429Z"
   },
   {
    "duration": 211,
    "start_time": "2023-05-15T19:42:08.726Z"
   },
   {
    "duration": 4,
    "start_time": "2023-05-15T19:50:10.709Z"
   },
   {
    "duration": 170,
    "start_time": "2023-05-15T19:50:15.028Z"
   },
   {
    "duration": 13,
    "start_time": "2023-05-15T19:50:33.078Z"
   },
   {
    "duration": 4,
    "start_time": "2023-05-15T19:50:35.033Z"
   },
   {
    "duration": 157,
    "start_time": "2023-05-15T19:50:38.174Z"
   },
   {
    "duration": 125,
    "start_time": "2023-05-15T19:51:35.990Z"
   },
   {
    "duration": 159,
    "start_time": "2023-05-15T19:56:44.216Z"
   },
   {
    "duration": 188,
    "start_time": "2023-05-15T19:57:31.664Z"
   },
   {
    "duration": 150,
    "start_time": "2023-05-15T19:57:56.648Z"
   },
   {
    "duration": 8,
    "start_time": "2023-05-15T19:59:41.832Z"
   },
   {
    "duration": 8,
    "start_time": "2023-05-15T19:59:43.198Z"
   },
   {
    "duration": 4,
    "start_time": "2023-05-15T19:59:50.645Z"
   },
   {
    "duration": 158,
    "start_time": "2023-05-15T19:59:53.574Z"
   },
   {
    "duration": 167,
    "start_time": "2023-05-15T20:00:08.421Z"
   },
   {
    "duration": 5,
    "start_time": "2023-05-15T20:00:52.016Z"
   },
   {
    "duration": 21,
    "start_time": "2023-05-15T20:01:47.684Z"
   },
   {
    "duration": 34,
    "start_time": "2023-05-15T20:02:36.754Z"
   },
   {
    "duration": 148,
    "start_time": "2023-05-15T20:02:43.990Z"
   },
   {
    "duration": 123,
    "start_time": "2023-05-15T20:05:30.076Z"
   },
   {
    "duration": 175,
    "start_time": "2023-05-15T20:05:44.529Z"
   },
   {
    "duration": 151,
    "start_time": "2023-05-15T20:07:04.974Z"
   },
   {
    "duration": 275,
    "start_time": "2023-05-15T20:07:30.000Z"
   },
   {
    "duration": 180,
    "start_time": "2023-05-15T20:07:45.466Z"
   },
   {
    "duration": 167,
    "start_time": "2023-05-15T20:08:35.843Z"
   },
   {
    "duration": 153,
    "start_time": "2023-05-15T20:09:40.090Z"
   },
   {
    "duration": 175,
    "start_time": "2023-05-15T20:10:51.445Z"
   },
   {
    "duration": 164,
    "start_time": "2023-05-15T20:11:06.315Z"
   },
   {
    "duration": 204,
    "start_time": "2023-05-15T20:11:58.486Z"
   },
   {
    "duration": 260,
    "start_time": "2023-05-15T20:13:30.828Z"
   },
   {
    "duration": 205,
    "start_time": "2023-05-15T20:15:01.419Z"
   },
   {
    "duration": 185,
    "start_time": "2023-05-15T20:15:30.308Z"
   },
   {
    "duration": 171,
    "start_time": "2023-05-15T20:15:57.160Z"
   },
   {
    "duration": 207,
    "start_time": "2023-05-15T20:16:08.144Z"
   },
   {
    "duration": 56,
    "start_time": "2023-05-16T13:36:28.491Z"
   },
   {
    "duration": 1594,
    "start_time": "2023-05-16T13:36:39.889Z"
   },
   {
    "duration": 221,
    "start_time": "2023-05-16T13:36:41.486Z"
   },
   {
    "duration": 3,
    "start_time": "2023-05-16T13:36:41.710Z"
   },
   {
    "duration": 81,
    "start_time": "2023-05-16T13:36:41.715Z"
   },
   {
    "duration": 14,
    "start_time": "2023-05-16T13:36:41.798Z"
   },
   {
    "duration": 21,
    "start_time": "2023-05-16T13:36:41.815Z"
   },
   {
    "duration": 109,
    "start_time": "2023-05-16T13:36:41.838Z"
   },
   {
    "duration": 5,
    "start_time": "2023-05-16T13:36:41.949Z"
   },
   {
    "duration": 65,
    "start_time": "2023-05-16T13:36:41.956Z"
   },
   {
    "duration": 56,
    "start_time": "2023-05-16T13:36:42.023Z"
   },
   {
    "duration": 42,
    "start_time": "2023-05-16T13:36:42.081Z"
   },
   {
    "duration": 29,
    "start_time": "2023-05-16T13:36:42.125Z"
   },
   {
    "duration": 61,
    "start_time": "2023-05-16T13:36:42.157Z"
   },
   {
    "duration": 24,
    "start_time": "2023-05-16T13:36:42.222Z"
   },
   {
    "duration": 57,
    "start_time": "2023-05-16T13:36:42.249Z"
   },
   {
    "duration": 20,
    "start_time": "2023-05-16T13:36:42.308Z"
   },
   {
    "duration": 22,
    "start_time": "2023-05-16T13:36:42.330Z"
   },
   {
    "duration": 218,
    "start_time": "2023-05-16T13:36:42.354Z"
   },
   {
    "duration": 148,
    "start_time": "2023-05-16T13:36:42.575Z"
   },
   {
    "duration": 10,
    "start_time": "2023-05-16T13:36:42.725Z"
   },
   {
    "duration": 15,
    "start_time": "2023-05-16T13:36:42.738Z"
   },
   {
    "duration": 45,
    "start_time": "2023-05-16T13:36:42.756Z"
   },
   {
    "duration": 13,
    "start_time": "2023-05-16T13:36:42.803Z"
   },
   {
    "duration": 12,
    "start_time": "2023-05-16T13:36:42.818Z"
   },
   {
    "duration": 382,
    "start_time": "2023-05-16T13:36:42.832Z"
   },
   {
    "duration": 290,
    "start_time": "2023-05-16T13:36:43.216Z"
   },
   {
    "duration": 7,
    "start_time": "2023-05-16T13:36:43.508Z"
   },
   {
    "duration": 447,
    "start_time": "2023-05-16T13:36:43.517Z"
   },
   {
    "duration": 137,
    "start_time": "2023-05-16T13:36:43.966Z"
   },
   {
    "duration": 0,
    "start_time": "2023-05-16T13:36:44.105Z"
   },
   {
    "duration": 0,
    "start_time": "2023-05-16T13:36:44.107Z"
   },
   {
    "duration": 0,
    "start_time": "2023-05-16T13:36:44.109Z"
   },
   {
    "duration": 0,
    "start_time": "2023-05-16T13:36:44.110Z"
   },
   {
    "duration": 0,
    "start_time": "2023-05-16T13:36:44.112Z"
   },
   {
    "duration": 0,
    "start_time": "2023-05-16T13:36:44.114Z"
   },
   {
    "duration": 0,
    "start_time": "2023-05-16T13:36:44.115Z"
   },
   {
    "duration": 0,
    "start_time": "2023-05-16T13:36:44.117Z"
   },
   {
    "duration": 0,
    "start_time": "2023-05-16T13:36:44.119Z"
   },
   {
    "duration": 0,
    "start_time": "2023-05-16T13:36:44.120Z"
   },
   {
    "duration": 6,
    "start_time": "2023-05-16T13:38:07.122Z"
   },
   {
    "duration": 6,
    "start_time": "2023-05-16T13:38:08.087Z"
   },
   {
    "duration": 282,
    "start_time": "2023-05-16T13:38:12.518Z"
   },
   {
    "duration": 9,
    "start_time": "2023-05-16T13:38:20.419Z"
   },
   {
    "duration": 327,
    "start_time": "2023-05-16T13:38:21.502Z"
   },
   {
    "duration": 13,
    "start_time": "2023-05-16T13:38:26.322Z"
   },
   {
    "duration": 9,
    "start_time": "2023-05-16T13:38:28.549Z"
   },
   {
    "duration": 12,
    "start_time": "2023-05-16T13:38:32.003Z"
   },
   {
    "duration": 4,
    "start_time": "2023-05-16T13:38:38.561Z"
   },
   {
    "duration": 277,
    "start_time": "2023-05-16T13:38:39.518Z"
   },
   {
    "duration": 6,
    "start_time": "2023-05-16T13:38:42.790Z"
   },
   {
    "duration": 14,
    "start_time": "2023-05-16T13:38:45.558Z"
   },
   {
    "duration": 189,
    "start_time": "2023-05-16T13:38:51.345Z"
   },
   {
    "duration": 212,
    "start_time": "2023-05-16T13:39:24.997Z"
   },
   {
    "duration": 186,
    "start_time": "2023-05-16T13:39:49.644Z"
   },
   {
    "duration": 18,
    "start_time": "2023-05-16T13:44:56.050Z"
   },
   {
    "duration": 21,
    "start_time": "2023-05-16T13:45:17.307Z"
   },
   {
    "duration": 200,
    "start_time": "2023-05-16T13:48:15.413Z"
   },
   {
    "duration": 19,
    "start_time": "2023-05-16T13:48:24.192Z"
   },
   {
    "duration": 216,
    "start_time": "2023-05-16T13:50:35.847Z"
   },
   {
    "duration": 269,
    "start_time": "2023-05-16T13:51:51.227Z"
   },
   {
    "duration": 274,
    "start_time": "2023-05-16T13:53:46.153Z"
   },
   {
    "duration": 14,
    "start_time": "2023-05-16T14:04:17.251Z"
   },
   {
    "duration": 268,
    "start_time": "2023-05-16T14:04:18.901Z"
   },
   {
    "duration": 291,
    "start_time": "2023-05-16T14:04:27.268Z"
   },
   {
    "duration": 298,
    "start_time": "2023-05-16T14:05:04.262Z"
   },
   {
    "duration": 302,
    "start_time": "2023-05-16T14:06:35.059Z"
   },
   {
    "duration": 7,
    "start_time": "2023-05-16T14:08:06.656Z"
   },
   {
    "duration": 158,
    "start_time": "2023-05-16T14:10:15.217Z"
   },
   {
    "duration": 6,
    "start_time": "2023-05-16T14:10:58.562Z"
   },
   {
    "duration": 8,
    "start_time": "2023-05-16T14:11:13.854Z"
   },
   {
    "duration": 8,
    "start_time": "2023-05-16T14:38:34.100Z"
   },
   {
    "duration": 435,
    "start_time": "2023-05-16T14:41:44.348Z"
   },
   {
    "duration": 100,
    "start_time": "2023-05-16T14:42:06.060Z"
   },
   {
    "duration": 85,
    "start_time": "2023-05-16T14:44:06.220Z"
   },
   {
    "duration": 7,
    "start_time": "2023-05-16T14:45:14.338Z"
   },
   {
    "duration": 114,
    "start_time": "2023-05-16T14:46:35.448Z"
   },
   {
    "duration": 100,
    "start_time": "2023-05-16T14:46:57.837Z"
   },
   {
    "duration": 70,
    "start_time": "2023-05-16T14:55:01.983Z"
   },
   {
    "duration": 27,
    "start_time": "2023-05-16T14:55:41.701Z"
   },
   {
    "duration": 33,
    "start_time": "2023-05-16T14:56:33.953Z"
   },
   {
    "duration": 20,
    "start_time": "2023-05-16T14:59:43.146Z"
   },
   {
    "duration": 254,
    "start_time": "2023-05-16T15:02:38.596Z"
   },
   {
    "duration": 67,
    "start_time": "2023-05-16T15:03:09.746Z"
   },
   {
    "duration": 25,
    "start_time": "2023-05-16T15:04:58.204Z"
   },
   {
    "duration": 5,
    "start_time": "2023-05-16T15:05:10.741Z"
   },
   {
    "duration": 25,
    "start_time": "2023-05-16T15:05:39.011Z"
   },
   {
    "duration": 38,
    "start_time": "2023-05-16T15:07:14.067Z"
   },
   {
    "duration": 85,
    "start_time": "2023-05-16T15:10:32.497Z"
   },
   {
    "duration": 37,
    "start_time": "2023-05-16T15:12:39.349Z"
   },
   {
    "duration": 18,
    "start_time": "2023-05-16T15:12:50.199Z"
   },
   {
    "duration": 17,
    "start_time": "2023-05-16T15:13:51.727Z"
   },
   {
    "duration": 20,
    "start_time": "2023-05-16T15:21:13.933Z"
   },
   {
    "duration": 894,
    "start_time": "2023-05-16T15:21:32.946Z"
   },
   {
    "duration": 1707,
    "start_time": "2023-05-16T15:21:55.895Z"
   },
   {
    "duration": 99,
    "start_time": "2023-05-16T15:21:57.605Z"
   },
   {
    "duration": 3,
    "start_time": "2023-05-16T15:21:57.707Z"
   },
   {
    "duration": 34,
    "start_time": "2023-05-16T15:21:57.713Z"
   },
   {
    "duration": 54,
    "start_time": "2023-05-16T15:21:57.750Z"
   },
   {
    "duration": 27,
    "start_time": "2023-05-16T15:21:57.807Z"
   },
   {
    "duration": 110,
    "start_time": "2023-05-16T15:21:57.837Z"
   },
   {
    "duration": 8,
    "start_time": "2023-05-16T15:21:57.949Z"
   },
   {
    "duration": 51,
    "start_time": "2023-05-16T15:21:57.960Z"
   },
   {
    "duration": 29,
    "start_time": "2023-05-16T15:21:58.014Z"
   },
   {
    "duration": 33,
    "start_time": "2023-05-16T15:21:58.045Z"
   },
   {
    "duration": 31,
    "start_time": "2023-05-16T15:21:58.082Z"
   },
   {
    "duration": 30,
    "start_time": "2023-05-16T15:21:58.115Z"
   },
   {
    "duration": 60,
    "start_time": "2023-05-16T15:21:58.147Z"
   },
   {
    "duration": 33,
    "start_time": "2023-05-16T15:21:58.210Z"
   },
   {
    "duration": 56,
    "start_time": "2023-05-16T15:21:58.246Z"
   },
   {
    "duration": 13,
    "start_time": "2023-05-16T15:21:58.304Z"
   },
   {
    "duration": 246,
    "start_time": "2023-05-16T15:21:58.319Z"
   },
   {
    "duration": 153,
    "start_time": "2023-05-16T15:21:58.567Z"
   },
   {
    "duration": 8,
    "start_time": "2023-05-16T15:21:58.722Z"
   },
   {
    "duration": 11,
    "start_time": "2023-05-16T15:21:58.732Z"
   },
   {
    "duration": 38,
    "start_time": "2023-05-16T15:21:58.745Z"
   },
   {
    "duration": 25,
    "start_time": "2023-05-16T15:21:58.784Z"
   },
   {
    "duration": 23,
    "start_time": "2023-05-16T15:21:58.812Z"
   },
   {
    "duration": 432,
    "start_time": "2023-05-16T15:21:58.837Z"
   },
   {
    "duration": 344,
    "start_time": "2023-05-16T15:21:59.272Z"
   },
   {
    "duration": 10,
    "start_time": "2023-05-16T15:21:59.618Z"
   },
   {
    "duration": 464,
    "start_time": "2023-05-16T15:21:59.635Z"
   },
   {
    "duration": 7,
    "start_time": "2023-05-16T15:22:00.101Z"
   },
   {
    "duration": 119,
    "start_time": "2023-05-16T15:22:00.111Z"
   },
   {
    "duration": 422,
    "start_time": "2023-05-16T15:22:00.232Z"
   },
   {
    "duration": 22,
    "start_time": "2023-05-16T15:22:00.657Z"
   },
   {
    "duration": 509,
    "start_time": "2023-05-16T15:22:00.692Z"
   },
   {
    "duration": 15,
    "start_time": "2023-05-16T15:22:01.204Z"
   },
   {
    "duration": 142,
    "start_time": "2023-05-16T15:22:01.220Z"
   },
   {
    "duration": 350,
    "start_time": "2023-05-16T15:22:01.365Z"
   },
   {
    "duration": 263,
    "start_time": "2023-05-16T15:22:01.718Z"
   },
   {
    "duration": 331,
    "start_time": "2023-05-16T15:22:01.983Z"
   },
   {
    "duration": 7,
    "start_time": "2023-05-16T15:22:02.316Z"
   },
   {
    "duration": 102,
    "start_time": "2023-05-16T15:22:02.325Z"
   },
   {
    "duration": 417,
    "start_time": "2023-05-16T15:22:02.433Z"
   },
   {
    "duration": 9,
    "start_time": "2023-05-16T15:22:02.852Z"
   },
   {
    "duration": 1057,
    "start_time": "2023-05-16T15:22:02.877Z"
   },
   {
    "duration": 0,
    "start_time": "2023-05-16T15:22:03.936Z"
   },
   {
    "duration": 0,
    "start_time": "2023-05-16T15:22:03.938Z"
   },
   {
    "duration": 0,
    "start_time": "2023-05-16T15:22:03.942Z"
   },
   {
    "duration": 0,
    "start_time": "2023-05-16T15:22:03.948Z"
   },
   {
    "duration": 0,
    "start_time": "2023-05-16T15:22:03.951Z"
   },
   {
    "duration": 0,
    "start_time": "2023-05-16T15:22:03.954Z"
   },
   {
    "duration": 0,
    "start_time": "2023-05-16T15:22:03.957Z"
   },
   {
    "duration": 0,
    "start_time": "2023-05-16T15:22:03.958Z"
   },
   {
    "duration": 0,
    "start_time": "2023-05-16T15:22:03.960Z"
   },
   {
    "duration": 0,
    "start_time": "2023-05-16T15:22:03.961Z"
   },
   {
    "duration": 0,
    "start_time": "2023-05-16T15:22:03.969Z"
   },
   {
    "duration": 122,
    "start_time": "2023-05-16T15:25:01.046Z"
   },
   {
    "duration": 102,
    "start_time": "2023-05-16T15:25:34.204Z"
   },
   {
    "duration": 139,
    "start_time": "2023-05-16T15:32:39.991Z"
   },
   {
    "duration": 15,
    "start_time": "2023-05-16T15:32:56.550Z"
   },
   {
    "duration": 20,
    "start_time": "2023-05-16T15:37:52.800Z"
   },
   {
    "duration": 16,
    "start_time": "2023-05-16T15:38:38.617Z"
   },
   {
    "duration": 78,
    "start_time": "2023-05-16T15:39:10.551Z"
   },
   {
    "duration": 140,
    "start_time": "2023-05-16T15:40:14.495Z"
   },
   {
    "duration": 12,
    "start_time": "2023-05-16T15:41:30.447Z"
   },
   {
    "duration": 21,
    "start_time": "2023-05-16T15:42:04.468Z"
   },
   {
    "duration": 1686,
    "start_time": "2023-05-16T15:42:24.353Z"
   },
   {
    "duration": 89,
    "start_time": "2023-05-16T15:42:26.042Z"
   },
   {
    "duration": 4,
    "start_time": "2023-05-16T15:42:26.133Z"
   },
   {
    "duration": 26,
    "start_time": "2023-05-16T15:42:26.140Z"
   },
   {
    "duration": 83,
    "start_time": "2023-05-16T15:42:26.168Z"
   },
   {
    "duration": 60,
    "start_time": "2023-05-16T15:42:26.253Z"
   },
   {
    "duration": 88,
    "start_time": "2023-05-16T15:42:26.315Z"
   },
   {
    "duration": 5,
    "start_time": "2023-05-16T15:42:26.405Z"
   },
   {
    "duration": 47,
    "start_time": "2023-05-16T15:42:26.412Z"
   },
   {
    "duration": 66,
    "start_time": "2023-05-16T15:42:26.462Z"
   },
   {
    "duration": 25,
    "start_time": "2023-05-16T15:42:26.529Z"
   },
   {
    "duration": 16,
    "start_time": "2023-05-16T15:42:26.556Z"
   },
   {
    "duration": 44,
    "start_time": "2023-05-16T15:42:26.584Z"
   },
   {
    "duration": 13,
    "start_time": "2023-05-16T15:42:26.631Z"
   },
   {
    "duration": 27,
    "start_time": "2023-05-16T15:42:26.646Z"
   },
   {
    "duration": 31,
    "start_time": "2023-05-16T15:42:26.678Z"
   },
   {
    "duration": 13,
    "start_time": "2023-05-16T15:42:26.711Z"
   },
   {
    "duration": 204,
    "start_time": "2023-05-16T15:42:26.726Z"
   },
   {
    "duration": 146,
    "start_time": "2023-05-16T15:42:26.932Z"
   },
   {
    "duration": 7,
    "start_time": "2023-05-16T15:42:27.080Z"
   },
   {
    "duration": 27,
    "start_time": "2023-05-16T15:42:27.093Z"
   },
   {
    "duration": 15,
    "start_time": "2023-05-16T15:42:27.122Z"
   },
   {
    "duration": 8,
    "start_time": "2023-05-16T15:42:27.140Z"
   },
   {
    "duration": 7,
    "start_time": "2023-05-16T15:42:27.150Z"
   },
   {
    "duration": 360,
    "start_time": "2023-05-16T15:42:27.159Z"
   },
   {
    "duration": 282,
    "start_time": "2023-05-16T15:42:27.521Z"
   },
   {
    "duration": 7,
    "start_time": "2023-05-16T15:42:27.805Z"
   },
   {
    "duration": 370,
    "start_time": "2023-05-16T15:42:27.817Z"
   },
   {
    "duration": 8,
    "start_time": "2023-05-16T15:42:28.191Z"
   },
   {
    "duration": 14,
    "start_time": "2023-05-16T15:42:28.201Z"
   },
   {
    "duration": 294,
    "start_time": "2023-05-16T15:42:28.217Z"
   },
   {
    "duration": 6,
    "start_time": "2023-05-16T15:42:28.513Z"
   },
   {
    "duration": 326,
    "start_time": "2023-05-16T15:42:28.521Z"
   },
   {
    "duration": 29,
    "start_time": "2023-05-16T15:42:28.850Z"
   },
   {
    "duration": 84,
    "start_time": "2023-05-16T15:42:28.880Z"
   },
   {
    "duration": 56,
    "start_time": "2023-05-16T15:42:28.965Z"
   },
   {
    "duration": 60,
    "start_time": "2023-05-16T15:42:29.023Z"
   },
   {
    "duration": 203,
    "start_time": "2023-05-16T15:42:29.085Z"
   },
   {
    "duration": 4,
    "start_time": "2023-05-16T15:42:29.290Z"
   },
   {
    "duration": 12,
    "start_time": "2023-05-16T15:42:29.296Z"
   },
   {
    "duration": 313,
    "start_time": "2023-05-16T15:42:29.310Z"
   },
   {
    "duration": 4,
    "start_time": "2023-05-16T15:42:29.625Z"
   },
   {
    "duration": 8,
    "start_time": "2023-05-16T15:42:29.631Z"
   },
   {
    "duration": 70,
    "start_time": "2023-05-16T15:42:29.641Z"
   },
   {
    "duration": 5,
    "start_time": "2023-05-16T15:42:29.713Z"
   },
   {
    "duration": 62,
    "start_time": "2023-05-16T15:42:29.720Z"
   },
   {
    "duration": 40,
    "start_time": "2023-05-16T15:42:29.786Z"
   },
   {
    "duration": 69,
    "start_time": "2023-05-16T15:42:29.828Z"
   },
   {
    "duration": 27,
    "start_time": "2023-05-16T15:42:29.903Z"
   },
   {
    "duration": 76,
    "start_time": "2023-05-16T15:42:29.932Z"
   },
   {
    "duration": 56,
    "start_time": "2023-05-16T15:42:30.010Z"
   },
   {
    "duration": 123,
    "start_time": "2023-05-16T15:42:30.068Z"
   },
   {
    "duration": 132,
    "start_time": "2023-05-16T15:42:30.192Z"
   },
   {
    "duration": 89,
    "start_time": "2023-05-16T15:42:30.326Z"
   },
   {
    "duration": 7,
    "start_time": "2023-05-16T15:42:30.417Z"
   },
   {
    "duration": 6,
    "start_time": "2023-05-16T15:43:37.351Z"
   },
   {
    "duration": 11,
    "start_time": "2023-05-17T07:42:41.277Z"
   },
   {
    "duration": 42,
    "start_time": "2023-05-17T07:43:30.752Z"
   },
   {
    "duration": 1326,
    "start_time": "2023-05-17T07:43:41.599Z"
   },
   {
    "duration": 193,
    "start_time": "2023-05-17T07:43:42.927Z"
   },
   {
    "duration": 3,
    "start_time": "2023-05-17T07:43:43.122Z"
   },
   {
    "duration": 21,
    "start_time": "2023-05-17T07:43:43.126Z"
   },
   {
    "duration": 5,
    "start_time": "2023-05-17T07:43:43.149Z"
   },
   {
    "duration": 10,
    "start_time": "2023-05-17T07:43:43.156Z"
   },
   {
    "duration": 62,
    "start_time": "2023-05-17T07:43:43.168Z"
   },
   {
    "duration": 5,
    "start_time": "2023-05-17T07:43:43.231Z"
   },
   {
    "duration": 31,
    "start_time": "2023-05-17T07:43:43.238Z"
   },
   {
    "duration": 26,
    "start_time": "2023-05-17T07:43:43.273Z"
   },
   {
    "duration": 12,
    "start_time": "2023-05-17T07:43:43.301Z"
   },
   {
    "duration": 11,
    "start_time": "2023-05-17T07:43:43.315Z"
   },
   {
    "duration": 16,
    "start_time": "2023-05-17T07:43:43.328Z"
   },
   {
    "duration": 34,
    "start_time": "2023-05-17T07:43:43.346Z"
   },
   {
    "duration": 15,
    "start_time": "2023-05-17T07:43:43.382Z"
   },
   {
    "duration": 11,
    "start_time": "2023-05-17T07:43:43.399Z"
   },
   {
    "duration": 7,
    "start_time": "2023-05-17T07:43:43.412Z"
   },
   {
    "duration": 184,
    "start_time": "2023-05-17T07:43:43.420Z"
   },
   {
    "duration": 128,
    "start_time": "2023-05-17T07:43:43.606Z"
   },
   {
    "duration": 7,
    "start_time": "2023-05-17T07:43:43.735Z"
   },
   {
    "duration": 5,
    "start_time": "2023-05-17T07:43:43.744Z"
   },
   {
    "duration": 11,
    "start_time": "2023-05-17T07:43:43.750Z"
   },
   {
    "duration": 5,
    "start_time": "2023-05-17T07:43:43.778Z"
   },
   {
    "duration": 6,
    "start_time": "2023-05-17T07:43:43.785Z"
   },
   {
    "duration": 311,
    "start_time": "2023-05-17T07:43:43.792Z"
   },
   {
    "duration": 246,
    "start_time": "2023-05-17T07:43:44.105Z"
   },
   {
    "duration": 6,
    "start_time": "2023-05-17T07:43:44.353Z"
   },
   {
    "duration": 384,
    "start_time": "2023-05-17T07:43:44.363Z"
   },
   {
    "duration": 5,
    "start_time": "2023-05-17T07:43:44.748Z"
   },
   {
    "duration": 6,
    "start_time": "2023-05-17T07:43:44.755Z"
   },
   {
    "duration": 242,
    "start_time": "2023-05-17T07:43:44.762Z"
   },
   {
    "duration": 7,
    "start_time": "2023-05-17T07:43:45.006Z"
   },
   {
    "duration": 310,
    "start_time": "2023-05-17T07:43:45.015Z"
   },
   {
    "duration": 13,
    "start_time": "2023-05-17T07:43:45.326Z"
   },
   {
    "duration": 10,
    "start_time": "2023-05-17T07:43:45.340Z"
   },
   {
    "duration": 11,
    "start_time": "2023-05-17T07:43:45.352Z"
   },
   {
    "duration": 4,
    "start_time": "2023-05-17T07:43:45.378Z"
   },
   {
    "duration": 156,
    "start_time": "2023-05-17T07:43:45.384Z"
   },
   {
    "duration": 5,
    "start_time": "2023-05-17T07:43:45.542Z"
   },
   {
    "duration": 14,
    "start_time": "2023-05-17T07:43:45.548Z"
   },
   {
    "duration": 283,
    "start_time": "2023-05-17T07:43:45.564Z"
   },
   {
    "duration": 5,
    "start_time": "2023-05-17T07:43:45.849Z"
   },
   {
    "duration": 21,
    "start_time": "2023-05-17T07:43:45.857Z"
   },
   {
    "duration": 48,
    "start_time": "2023-05-17T07:43:45.880Z"
   },
   {
    "duration": 6,
    "start_time": "2023-05-17T07:43:45.930Z"
   },
   {
    "duration": 63,
    "start_time": "2023-05-17T07:43:45.938Z"
   },
   {
    "duration": 16,
    "start_time": "2023-05-17T07:43:46.003Z"
   },
   {
    "duration": 62,
    "start_time": "2023-05-17T07:43:46.021Z"
   },
   {
    "duration": 14,
    "start_time": "2023-05-17T07:43:46.085Z"
   },
   {
    "duration": 50,
    "start_time": "2023-05-17T07:43:46.101Z"
   },
   {
    "duration": 45,
    "start_time": "2023-05-17T07:43:46.153Z"
   },
   {
    "duration": 11,
    "start_time": "2023-05-17T07:43:46.200Z"
   },
   {
    "duration": 92,
    "start_time": "2023-05-17T07:43:46.212Z"
   },
   {
    "duration": 108,
    "start_time": "2023-05-17T07:43:46.306Z"
   },
   {
    "duration": 5,
    "start_time": "2023-05-17T07:43:46.416Z"
   },
   {
    "duration": 5,
    "start_time": "2023-05-17T07:43:46.423Z"
   },
   {
    "duration": 128,
    "start_time": "2023-05-17T07:43:46.430Z"
   },
   {
    "duration": 21,
    "start_time": "2023-05-17T07:45:36.438Z"
   },
   {
    "duration": 5,
    "start_time": "2023-05-17T08:09:31.107Z"
   },
   {
    "duration": 1205,
    "start_time": "2023-05-17T08:24:23.548Z"
   },
   {
    "duration": 91,
    "start_time": "2023-05-17T08:24:24.755Z"
   },
   {
    "duration": 3,
    "start_time": "2023-05-17T08:24:24.847Z"
   },
   {
    "duration": 12,
    "start_time": "2023-05-17T08:24:24.852Z"
   },
   {
    "duration": 5,
    "start_time": "2023-05-17T08:24:24.865Z"
   },
   {
    "duration": 22,
    "start_time": "2023-05-17T08:24:24.872Z"
   },
   {
    "duration": 56,
    "start_time": "2023-05-17T08:24:24.897Z"
   },
   {
    "duration": 4,
    "start_time": "2023-05-17T08:24:24.955Z"
   },
   {
    "duration": 36,
    "start_time": "2023-05-17T08:24:24.961Z"
   },
   {
    "duration": 32,
    "start_time": "2023-05-17T08:24:25.000Z"
   },
   {
    "duration": 19,
    "start_time": "2023-05-17T08:24:25.034Z"
   },
   {
    "duration": 28,
    "start_time": "2023-05-17T08:24:25.055Z"
   },
   {
    "duration": 19,
    "start_time": "2023-05-17T08:24:25.084Z"
   },
   {
    "duration": 5,
    "start_time": "2023-05-17T08:24:25.105Z"
   },
   {
    "duration": 17,
    "start_time": "2023-05-17T08:24:25.111Z"
   },
   {
    "duration": 11,
    "start_time": "2023-05-17T08:24:25.130Z"
   },
   {
    "duration": 32,
    "start_time": "2023-05-17T08:24:25.143Z"
   },
   {
    "duration": 184,
    "start_time": "2023-05-17T08:24:25.179Z"
   },
   {
    "duration": 135,
    "start_time": "2023-05-17T08:24:25.365Z"
   },
   {
    "duration": 7,
    "start_time": "2023-05-17T08:24:25.502Z"
   },
   {
    "duration": 5,
    "start_time": "2023-05-17T08:24:25.511Z"
   },
   {
    "duration": 14,
    "start_time": "2023-05-17T08:24:25.517Z"
   },
   {
    "duration": 6,
    "start_time": "2023-05-17T08:24:25.533Z"
   },
   {
    "duration": 6,
    "start_time": "2023-05-17T08:24:25.541Z"
   },
   {
    "duration": 369,
    "start_time": "2023-05-17T08:24:25.549Z"
   },
   {
    "duration": 245,
    "start_time": "2023-05-17T08:24:25.920Z"
   },
   {
    "duration": 14,
    "start_time": "2023-05-17T08:24:26.167Z"
   },
   {
    "duration": 384,
    "start_time": "2023-05-17T08:24:26.186Z"
   },
   {
    "duration": 14,
    "start_time": "2023-05-17T08:24:26.572Z"
   },
   {
    "duration": 10,
    "start_time": "2023-05-17T08:24:26.594Z"
   },
   {
    "duration": 267,
    "start_time": "2023-05-17T08:24:26.606Z"
   },
   {
    "duration": 12,
    "start_time": "2023-05-17T08:24:26.881Z"
   },
   {
    "duration": 335,
    "start_time": "2023-05-17T08:24:26.894Z"
   },
   {
    "duration": 13,
    "start_time": "2023-05-17T08:24:27.231Z"
   },
   {
    "duration": 10,
    "start_time": "2023-05-17T08:24:27.246Z"
   },
   {
    "duration": 40,
    "start_time": "2023-05-17T08:24:27.258Z"
   },
   {
    "duration": 6,
    "start_time": "2023-05-17T08:24:27.301Z"
   },
   {
    "duration": 224,
    "start_time": "2023-05-17T08:24:27.309Z"
   },
   {
    "duration": 6,
    "start_time": "2023-05-17T08:24:27.535Z"
   },
   {
    "duration": 13,
    "start_time": "2023-05-17T08:24:27.543Z"
   },
   {
    "duration": 315,
    "start_time": "2023-05-17T08:24:27.582Z"
   },
   {
    "duration": 4,
    "start_time": "2023-05-17T08:24:27.902Z"
   },
   {
    "duration": 92,
    "start_time": "2023-05-17T08:24:27.907Z"
   },
   {
    "duration": 96,
    "start_time": "2023-05-17T08:24:28.001Z"
   },
   {
    "duration": 110,
    "start_time": "2023-05-17T08:24:28.099Z"
   },
   {
    "duration": 0,
    "start_time": "2023-05-17T08:24:28.211Z"
   },
   {
    "duration": 0,
    "start_time": "2023-05-17T08:24:28.213Z"
   },
   {
    "duration": 0,
    "start_time": "2023-05-17T08:24:28.214Z"
   },
   {
    "duration": 84,
    "start_time": "2023-05-17T08:35:21.076Z"
   },
   {
    "duration": 8,
    "start_time": "2023-05-17T08:35:57.906Z"
   },
   {
    "duration": 13,
    "start_time": "2023-05-17T08:36:55.276Z"
   },
   {
    "duration": 10,
    "start_time": "2023-05-17T08:37:10.157Z"
   },
   {
    "duration": 16,
    "start_time": "2023-05-17T08:37:24.571Z"
   },
   {
    "duration": 8,
    "start_time": "2023-05-17T08:37:30.002Z"
   },
   {
    "duration": 13,
    "start_time": "2023-05-17T08:37:42.872Z"
   },
   {
    "duration": 103,
    "start_time": "2023-05-17T08:39:05.050Z"
   },
   {
    "duration": 265,
    "start_time": "2023-05-17T08:39:39.839Z"
   },
   {
    "duration": 217,
    "start_time": "2023-05-17T08:41:29.276Z"
   },
   {
    "duration": 8,
    "start_time": "2023-05-17T08:42:11.219Z"
   },
   {
    "duration": 10,
    "start_time": "2023-05-17T08:43:49.023Z"
   },
   {
    "duration": 8,
    "start_time": "2023-05-17T08:44:35.417Z"
   },
   {
    "duration": 112,
    "start_time": "2023-05-17T08:45:34.422Z"
   },
   {
    "duration": 8,
    "start_time": "2023-05-17T08:46:43.399Z"
   },
   {
    "duration": 10,
    "start_time": "2023-05-17T08:48:16.161Z"
   },
   {
    "duration": 42,
    "start_time": "2023-05-17T10:07:03.201Z"
   },
   {
    "duration": 38,
    "start_time": "2023-05-17T10:07:24.294Z"
   },
   {
    "duration": 71,
    "start_time": "2023-05-17T10:08:41.758Z"
   },
   {
    "duration": 38,
    "start_time": "2023-05-17T10:09:06.999Z"
   },
   {
    "duration": 29,
    "start_time": "2023-05-17T10:13:33.745Z"
   },
   {
    "duration": 47,
    "start_time": "2023-05-17T10:13:42.810Z"
   },
   {
    "duration": 10,
    "start_time": "2023-05-17T10:18:30.128Z"
   },
   {
    "duration": 10,
    "start_time": "2023-05-17T10:21:03.722Z"
   },
   {
    "duration": 148,
    "start_time": "2023-05-17T10:21:33.215Z"
   },
   {
    "duration": 117,
    "start_time": "2023-05-17T10:21:40.766Z"
   },
   {
    "duration": 9,
    "start_time": "2023-05-17T10:21:48.904Z"
   },
   {
    "duration": 21,
    "start_time": "2023-05-17T10:22:26.912Z"
   },
   {
    "duration": 9,
    "start_time": "2023-05-17T10:22:45.103Z"
   },
   {
    "duration": 8,
    "start_time": "2023-05-17T10:22:56.352Z"
   },
   {
    "duration": 7,
    "start_time": "2023-05-17T10:24:58.344Z"
   },
   {
    "duration": 157,
    "start_time": "2023-05-17T16:00:14.036Z"
   },
   {
    "duration": 82,
    "start_time": "2023-05-17T16:00:39.532Z"
   },
   {
    "duration": 87,
    "start_time": "2023-05-17T16:01:21.698Z"
   },
   {
    "duration": 96,
    "start_time": "2023-05-17T16:01:50.753Z"
   },
   {
    "duration": 85,
    "start_time": "2023-05-17T16:04:08.221Z"
   },
   {
    "duration": 78,
    "start_time": "2023-05-17T16:04:25.683Z"
   },
   {
    "duration": 127,
    "start_time": "2023-05-17T16:04:49.586Z"
   },
   {
    "duration": 338,
    "start_time": "2023-05-17T16:05:22.346Z"
   },
   {
    "duration": 63,
    "start_time": "2023-05-17T16:05:47.278Z"
   },
   {
    "duration": 1855,
    "start_time": "2023-05-17T16:05:59.814Z"
   },
   {
    "duration": 281,
    "start_time": "2023-05-17T16:06:01.674Z"
   },
   {
    "duration": 6,
    "start_time": "2023-05-17T16:06:01.958Z"
   },
   {
    "duration": 69,
    "start_time": "2023-05-17T16:06:01.967Z"
   },
   {
    "duration": 19,
    "start_time": "2023-05-17T16:06:02.037Z"
   },
   {
    "duration": 19,
    "start_time": "2023-05-17T16:06:02.058Z"
   },
   {
    "duration": 94,
    "start_time": "2023-05-17T16:06:02.079Z"
   },
   {
    "duration": 6,
    "start_time": "2023-05-17T16:06:02.175Z"
   },
   {
    "duration": 30,
    "start_time": "2023-05-17T16:06:02.183Z"
   },
   {
    "duration": 41,
    "start_time": "2023-05-17T16:06:02.217Z"
   },
   {
    "duration": 15,
    "start_time": "2023-05-17T16:06:02.260Z"
   },
   {
    "duration": 38,
    "start_time": "2023-05-17T16:06:02.277Z"
   },
   {
    "duration": 26,
    "start_time": "2023-05-17T16:06:02.318Z"
   },
   {
    "duration": 6,
    "start_time": "2023-05-17T16:06:02.347Z"
   },
   {
    "duration": 44,
    "start_time": "2023-05-17T16:06:02.355Z"
   },
   {
    "duration": 22,
    "start_time": "2023-05-17T16:06:02.402Z"
   },
   {
    "duration": 15,
    "start_time": "2023-05-17T16:06:02.427Z"
   },
   {
    "duration": 226,
    "start_time": "2023-05-17T16:06:02.445Z"
   },
   {
    "duration": 176,
    "start_time": "2023-05-17T16:06:02.673Z"
   },
   {
    "duration": 13,
    "start_time": "2023-05-17T16:06:02.852Z"
   },
   {
    "duration": 21,
    "start_time": "2023-05-17T16:06:02.867Z"
   },
   {
    "duration": 14,
    "start_time": "2023-05-17T16:06:02.890Z"
   },
   {
    "duration": 22,
    "start_time": "2023-05-17T16:06:02.906Z"
   },
   {
    "duration": 32,
    "start_time": "2023-05-17T16:06:02.930Z"
   },
   {
    "duration": 479,
    "start_time": "2023-05-17T16:06:02.964Z"
   },
   {
    "duration": 355,
    "start_time": "2023-05-17T16:06:03.445Z"
   },
   {
    "duration": 23,
    "start_time": "2023-05-17T16:06:03.802Z"
   },
   {
    "duration": 466,
    "start_time": "2023-05-17T16:06:03.832Z"
   },
   {
    "duration": 6,
    "start_time": "2023-05-17T16:06:04.302Z"
   },
   {
    "duration": 7,
    "start_time": "2023-05-17T16:06:04.310Z"
   },
   {
    "duration": 315,
    "start_time": "2023-05-17T16:06:04.319Z"
   },
   {
    "duration": 7,
    "start_time": "2023-05-17T16:06:04.637Z"
   },
   {
    "duration": 399,
    "start_time": "2023-05-17T16:06:04.646Z"
   },
   {
    "duration": 12,
    "start_time": "2023-05-17T16:06:05.048Z"
   },
   {
    "duration": 29,
    "start_time": "2023-05-17T16:06:05.063Z"
   },
   {
    "duration": 22,
    "start_time": "2023-05-17T16:06:05.096Z"
   },
   {
    "duration": 7,
    "start_time": "2023-05-17T16:06:05.120Z"
   },
   {
    "duration": 202,
    "start_time": "2023-05-17T16:06:05.129Z"
   },
   {
    "duration": 5,
    "start_time": "2023-05-17T16:06:05.336Z"
   },
   {
    "duration": 17,
    "start_time": "2023-05-17T16:06:05.344Z"
   },
   {
    "duration": 306,
    "start_time": "2023-05-17T16:06:05.363Z"
   },
   {
    "duration": 23,
    "start_time": "2023-05-17T16:06:05.672Z"
   },
   {
    "duration": 90,
    "start_time": "2023-05-17T16:06:05.702Z"
   },
   {
    "duration": 109,
    "start_time": "2023-05-17T16:06:05.799Z"
   },
   {
    "duration": 10,
    "start_time": "2023-05-17T16:06:05.912Z"
   },
   {
    "duration": 105,
    "start_time": "2023-05-17T16:06:05.924Z"
   },
   {
    "duration": 0,
    "start_time": "2023-05-17T16:06:06.031Z"
   },
   {
    "duration": 0,
    "start_time": "2023-05-17T16:06:06.033Z"
   },
   {
    "duration": 1,
    "start_time": "2023-05-17T16:06:06.034Z"
   },
   {
    "duration": 80,
    "start_time": "2023-05-17T16:07:54.150Z"
   },
   {
    "duration": 162,
    "start_time": "2023-05-17T16:09:26.657Z"
   },
   {
    "duration": 49,
    "start_time": "2023-05-17T16:09:42.799Z"
   },
   {
    "duration": 43,
    "start_time": "2023-05-17T16:10:08.104Z"
   },
   {
    "duration": 61,
    "start_time": "2023-05-17T16:10:37.076Z"
   },
   {
    "duration": 53,
    "start_time": "2023-05-17T16:11:06.285Z"
   },
   {
    "duration": 520,
    "start_time": "2023-05-17T16:29:41.777Z"
   },
   {
    "duration": 14,
    "start_time": "2023-05-17T16:48:13.927Z"
   },
   {
    "duration": 1661,
    "start_time": "2023-05-17T16:48:27.889Z"
   },
   {
    "duration": 2230,
    "start_time": "2023-05-17T16:49:34.155Z"
   },
   {
    "duration": 2091,
    "start_time": "2023-05-17T16:50:03.844Z"
   },
   {
    "duration": 2006,
    "start_time": "2023-05-17T16:50:37.547Z"
   },
   {
    "duration": 1881,
    "start_time": "2023-05-17T16:56:02.592Z"
   },
   {
    "duration": 27,
    "start_time": "2023-05-17T16:56:29.222Z"
   },
   {
    "duration": 6,
    "start_time": "2023-05-17T17:21:32.920Z"
   },
   {
    "duration": 6,
    "start_time": "2023-05-17T17:22:37.290Z"
   },
   {
    "duration": 327,
    "start_time": "2023-05-17T17:24:20.457Z"
   },
   {
    "duration": 323,
    "start_time": "2023-05-17T17:28:06.462Z"
   },
   {
    "duration": 415,
    "start_time": "2023-05-17T17:28:51.212Z"
   },
   {
    "duration": 126,
    "start_time": "2023-05-17T17:34:15.812Z"
   },
   {
    "duration": 16,
    "start_time": "2023-05-17T17:34:39.532Z"
   },
   {
    "duration": 31,
    "start_time": "2023-05-17T17:38:31.268Z"
   },
   {
    "duration": 16,
    "start_time": "2023-05-17T17:38:49.846Z"
   },
   {
    "duration": 15,
    "start_time": "2023-05-17T17:56:42.516Z"
   },
   {
    "duration": 435,
    "start_time": "2023-05-17T17:58:44.113Z"
   },
   {
    "duration": 368,
    "start_time": "2023-05-17T17:59:04.816Z"
   },
   {
    "duration": 393,
    "start_time": "2023-05-17T18:01:20.404Z"
   },
   {
    "duration": 389,
    "start_time": "2023-05-17T18:01:44.188Z"
   },
   {
    "duration": 423,
    "start_time": "2023-05-17T18:02:14.028Z"
   },
   {
    "duration": 1725,
    "start_time": "2023-05-17T18:08:31.024Z"
   },
   {
    "duration": 107,
    "start_time": "2023-05-17T18:08:32.752Z"
   },
   {
    "duration": 3,
    "start_time": "2023-05-17T18:08:32.861Z"
   },
   {
    "duration": 66,
    "start_time": "2023-05-17T18:08:32.868Z"
   },
   {
    "duration": 17,
    "start_time": "2023-05-17T18:08:32.937Z"
   },
   {
    "duration": 25,
    "start_time": "2023-05-17T18:08:32.956Z"
   },
   {
    "duration": 139,
    "start_time": "2023-05-17T18:08:32.984Z"
   },
   {
    "duration": 13,
    "start_time": "2023-05-17T18:08:33.126Z"
   },
   {
    "duration": 35,
    "start_time": "2023-05-17T18:08:33.142Z"
   },
   {
    "duration": 53,
    "start_time": "2023-05-17T18:08:33.181Z"
   },
   {
    "duration": 30,
    "start_time": "2023-05-17T18:08:33.236Z"
   },
   {
    "duration": 14,
    "start_time": "2023-05-17T18:08:33.270Z"
   },
   {
    "duration": 42,
    "start_time": "2023-05-17T18:08:33.286Z"
   },
   {
    "duration": 7,
    "start_time": "2023-05-17T18:08:33.330Z"
   },
   {
    "duration": 23,
    "start_time": "2023-05-17T18:08:33.340Z"
   },
   {
    "duration": 37,
    "start_time": "2023-05-17T18:08:33.366Z"
   },
   {
    "duration": 10,
    "start_time": "2023-05-17T18:08:33.413Z"
   },
   {
    "duration": 302,
    "start_time": "2023-05-17T18:08:33.429Z"
   },
   {
    "duration": 221,
    "start_time": "2023-05-17T18:08:33.733Z"
   },
   {
    "duration": 8,
    "start_time": "2023-05-17T18:08:33.957Z"
   },
   {
    "duration": 6,
    "start_time": "2023-05-17T18:08:33.968Z"
   },
   {
    "duration": 40,
    "start_time": "2023-05-17T18:08:33.977Z"
   },
   {
    "duration": 7,
    "start_time": "2023-05-17T18:08:34.020Z"
   },
   {
    "duration": 7,
    "start_time": "2023-05-17T18:08:34.029Z"
   },
   {
    "duration": 521,
    "start_time": "2023-05-17T18:08:34.039Z"
   },
   {
    "duration": 283,
    "start_time": "2023-05-17T18:08:34.563Z"
   },
   {
    "duration": 8,
    "start_time": "2023-05-17T18:08:34.848Z"
   },
   {
    "duration": 481,
    "start_time": "2023-05-17T18:08:34.861Z"
   },
   {
    "duration": 7,
    "start_time": "2023-05-17T18:08:35.345Z"
   },
   {
    "duration": 13,
    "start_time": "2023-05-17T18:08:35.354Z"
   },
   {
    "duration": 327,
    "start_time": "2023-05-17T18:08:35.369Z"
   },
   {
    "duration": 17,
    "start_time": "2023-05-17T18:08:35.703Z"
   },
   {
    "duration": 360,
    "start_time": "2023-05-17T18:08:35.722Z"
   },
   {
    "duration": 35,
    "start_time": "2023-05-17T18:08:36.084Z"
   },
   {
    "duration": 13,
    "start_time": "2023-05-17T18:08:36.121Z"
   },
   {
    "duration": 9,
    "start_time": "2023-05-17T18:08:36.136Z"
   },
   {
    "duration": 9,
    "start_time": "2023-05-17T18:08:36.147Z"
   },
   {
    "duration": 276,
    "start_time": "2023-05-17T18:08:36.158Z"
   },
   {
    "duration": 7,
    "start_time": "2023-05-17T18:08:36.437Z"
   },
   {
    "duration": 16,
    "start_time": "2023-05-17T18:08:36.448Z"
   },
   {
    "duration": 401,
    "start_time": "2023-05-17T18:08:36.466Z"
   },
   {
    "duration": 5,
    "start_time": "2023-05-17T18:08:36.870Z"
   },
   {
    "duration": 175,
    "start_time": "2023-05-17T18:08:36.877Z"
   },
   {
    "duration": 140,
    "start_time": "2023-05-17T18:08:37.056Z"
   },
   {
    "duration": 21,
    "start_time": "2023-05-17T18:08:37.199Z"
   },
   {
    "duration": 81,
    "start_time": "2023-05-17T18:08:37.225Z"
   },
   {
    "duration": 173,
    "start_time": "2023-05-17T18:08:37.308Z"
   },
   {
    "duration": 0,
    "start_time": "2023-05-17T18:08:37.483Z"
   },
   {
    "duration": 0,
    "start_time": "2023-05-17T18:08:37.496Z"
   },
   {
    "duration": 12,
    "start_time": "2023-05-17T18:48:40.458Z"
   },
   {
    "duration": 299,
    "start_time": "2023-05-17T18:48:44.920Z"
   },
   {
    "duration": 200,
    "start_time": "2023-05-17T18:48:47.353Z"
   },
   {
    "duration": 10,
    "start_time": "2023-05-17T18:48:55.631Z"
   },
   {
    "duration": 5,
    "start_time": "2023-05-17T18:48:58.117Z"
   },
   {
    "duration": 25,
    "start_time": "2023-05-17T18:49:01.591Z"
   },
   {
    "duration": 11,
    "start_time": "2023-05-17T18:49:08.932Z"
   },
   {
    "duration": 7,
    "start_time": "2023-05-17T18:49:09.737Z"
   },
   {
    "duration": 327,
    "start_time": "2023-05-17T18:49:11.521Z"
   },
   {
    "duration": 412,
    "start_time": "2023-05-17T18:49:25.512Z"
   },
   {
    "duration": 9,
    "start_time": "2023-05-17T18:49:39.021Z"
   },
   {
    "duration": 463,
    "start_time": "2023-05-17T18:49:40.936Z"
   },
   {
    "duration": 7,
    "start_time": "2023-05-17T18:49:47.337Z"
   },
   {
    "duration": 7,
    "start_time": "2023-05-17T18:49:48.717Z"
   },
   {
    "duration": 390,
    "start_time": "2023-05-17T18:49:50.383Z"
   },
   {
    "duration": 15,
    "start_time": "2023-05-17T18:49:54.309Z"
   },
   {
    "duration": 474,
    "start_time": "2023-05-17T18:49:55.986Z"
   },
   {
    "duration": 35,
    "start_time": "2023-05-17T18:50:00.420Z"
   },
   {
    "duration": 29,
    "start_time": "2023-05-17T18:50:02.202Z"
   },
   {
    "duration": 22,
    "start_time": "2023-05-17T18:50:03.628Z"
   },
   {
    "duration": 6,
    "start_time": "2023-05-17T18:50:05.022Z"
   },
   {
    "duration": 271,
    "start_time": "2023-05-17T18:50:06.235Z"
   },
   {
    "duration": 8,
    "start_time": "2023-05-17T18:50:09.615Z"
   },
   {
    "duration": 24,
    "start_time": "2023-05-17T18:50:13.124Z"
   },
   {
    "duration": 270,
    "start_time": "2023-05-17T18:50:15.742Z"
   },
   {
    "duration": 7,
    "start_time": "2023-05-17T18:50:19.128Z"
   },
   {
    "duration": 130,
    "start_time": "2023-05-17T18:50:22.145Z"
   },
   {
    "duration": 152,
    "start_time": "2023-05-17T18:50:23.723Z"
   },
   {
    "duration": 12,
    "start_time": "2023-05-17T18:50:25.594Z"
   },
   {
    "duration": 104,
    "start_time": "2023-05-17T18:50:27.311Z"
   },
   {
    "duration": 27,
    "start_time": "2023-05-17T18:59:41.197Z"
   },
   {
    "duration": 21,
    "start_time": "2023-05-17T18:59:55.982Z"
   },
   {
    "duration": 90,
    "start_time": "2023-05-17T19:00:18.505Z"
   },
   {
    "duration": 17,
    "start_time": "2023-05-17T19:01:16.215Z"
   },
   {
    "duration": 90,
    "start_time": "2023-05-17T19:02:24.129Z"
   },
   {
    "duration": 24,
    "start_time": "2023-05-17T19:05:02.858Z"
   },
   {
    "duration": 19,
    "start_time": "2023-05-17T19:05:44.917Z"
   },
   {
    "duration": 29,
    "start_time": "2023-05-17T19:06:43.776Z"
   },
   {
    "duration": 75,
    "start_time": "2023-05-17T19:08:39.792Z"
   },
   {
    "duration": 41,
    "start_time": "2023-05-17T19:11:19.413Z"
   },
   {
    "duration": 186,
    "start_time": "2023-05-17T19:13:14.187Z"
   },
   {
    "duration": 186,
    "start_time": "2023-05-17T19:13:22.313Z"
   },
   {
    "duration": 37,
    "start_time": "2023-05-17T19:15:06.816Z"
   },
   {
    "duration": 9,
    "start_time": "2023-05-17T19:16:14.417Z"
   },
   {
    "duration": 10,
    "start_time": "2023-05-17T19:16:55.377Z"
   },
   {
    "duration": 43,
    "start_time": "2023-05-17T19:17:07.497Z"
   },
   {
    "duration": 95,
    "start_time": "2023-05-17T19:17:33.717Z"
   },
   {
    "duration": 80,
    "start_time": "2023-05-17T19:23:22.580Z"
   },
   {
    "duration": 17,
    "start_time": "2023-05-17T19:24:15.580Z"
   },
   {
    "duration": 23,
    "start_time": "2023-05-17T19:24:29.535Z"
   },
   {
    "duration": 10,
    "start_time": "2023-05-17T19:27:35.812Z"
   },
   {
    "duration": 27,
    "start_time": "2023-05-17T19:27:38.523Z"
   },
   {
    "duration": 4,
    "start_time": "2023-05-17T19:29:42.636Z"
   },
   {
    "duration": 1560,
    "start_time": "2023-05-17T19:29:51.720Z"
   },
   {
    "duration": 101,
    "start_time": "2023-05-17T19:29:53.282Z"
   },
   {
    "duration": 17,
    "start_time": "2023-05-17T19:29:53.386Z"
   },
   {
    "duration": 19,
    "start_time": "2023-05-17T19:29:53.412Z"
   },
   {
    "duration": 5,
    "start_time": "2023-05-17T19:29:53.437Z"
   },
   {
    "duration": 9,
    "start_time": "2023-05-17T19:29:53.444Z"
   },
   {
    "duration": 104,
    "start_time": "2023-05-17T19:29:53.455Z"
   },
   {
    "duration": 6,
    "start_time": "2023-05-17T19:29:53.561Z"
   },
   {
    "duration": 58,
    "start_time": "2023-05-17T19:29:53.568Z"
   },
   {
    "duration": 33,
    "start_time": "2023-05-17T19:29:53.631Z"
   },
   {
    "duration": 15,
    "start_time": "2023-05-17T19:29:53.667Z"
   },
   {
    "duration": 41,
    "start_time": "2023-05-17T19:29:53.684Z"
   },
   {
    "duration": 30,
    "start_time": "2023-05-17T19:29:53.728Z"
   },
   {
    "duration": 5,
    "start_time": "2023-05-17T19:29:53.763Z"
   },
   {
    "duration": 39,
    "start_time": "2023-05-17T19:29:53.770Z"
   },
   {
    "duration": 18,
    "start_time": "2023-05-17T19:29:53.811Z"
   },
   {
    "duration": 10,
    "start_time": "2023-05-17T19:29:53.831Z"
   },
   {
    "duration": 222,
    "start_time": "2023-05-17T19:29:53.843Z"
   },
   {
    "duration": 176,
    "start_time": "2023-05-17T19:29:54.067Z"
   },
   {
    "duration": 8,
    "start_time": "2023-05-17T19:29:54.245Z"
   },
   {
    "duration": 15,
    "start_time": "2023-05-17T19:29:54.254Z"
   },
   {
    "duration": 34,
    "start_time": "2023-05-17T19:29:54.271Z"
   },
   {
    "duration": 16,
    "start_time": "2023-05-17T19:29:54.315Z"
   },
   {
    "duration": 20,
    "start_time": "2023-05-17T19:29:54.333Z"
   },
   {
    "duration": 463,
    "start_time": "2023-05-17T19:29:54.356Z"
   },
   {
    "duration": 299,
    "start_time": "2023-05-17T19:29:54.822Z"
   },
   {
    "duration": 13,
    "start_time": "2023-05-17T19:29:55.128Z"
   },
   {
    "duration": 438,
    "start_time": "2023-05-17T19:29:55.144Z"
   },
   {
    "duration": 23,
    "start_time": "2023-05-17T19:29:55.584Z"
   },
   {
    "duration": 9,
    "start_time": "2023-05-17T19:29:55.620Z"
   },
   {
    "duration": 339,
    "start_time": "2023-05-17T19:29:55.634Z"
   },
   {
    "duration": 20,
    "start_time": "2023-05-17T19:29:55.975Z"
   },
   {
    "duration": 434,
    "start_time": "2023-05-17T19:29:55.997Z"
   },
   {
    "duration": 16,
    "start_time": "2023-05-17T19:29:56.435Z"
   },
   {
    "duration": 11,
    "start_time": "2023-05-17T19:29:56.453Z"
   },
   {
    "duration": 10,
    "start_time": "2023-05-17T19:29:56.466Z"
   },
   {
    "duration": 10,
    "start_time": "2023-05-17T19:29:56.495Z"
   },
   {
    "duration": 206,
    "start_time": "2023-05-17T19:29:56.521Z"
   },
   {
    "duration": 6,
    "start_time": "2023-05-17T19:29:56.734Z"
   },
   {
    "duration": 18,
    "start_time": "2023-05-17T19:29:56.743Z"
   },
   {
    "duration": 217,
    "start_time": "2023-05-17T19:29:56.765Z"
   },
   {
    "duration": 16,
    "start_time": "2023-05-17T19:29:56.984Z"
   },
   {
    "duration": 125,
    "start_time": "2023-05-17T19:29:57.002Z"
   },
   {
    "duration": 147,
    "start_time": "2023-05-17T19:29:57.129Z"
   },
   {
    "duration": 17,
    "start_time": "2023-05-17T19:29:57.278Z"
   },
   {
    "duration": 23,
    "start_time": "2023-05-17T19:29:57.304Z"
   },
   {
    "duration": 198,
    "start_time": "2023-05-17T19:29:57.329Z"
   },
   {
    "duration": 74,
    "start_time": "2023-05-17T19:29:57.529Z"
   },
   {
    "duration": 19,
    "start_time": "2023-05-17T19:29:57.605Z"
   },
   {
    "duration": 44,
    "start_time": "2023-05-17T19:29:57.625Z"
   },
   {
    "duration": 162,
    "start_time": "2023-05-17T19:29:57.671Z"
   },
   {
    "duration": 31,
    "start_time": "2023-05-17T19:29:57.839Z"
   },
   {
    "duration": 25,
    "start_time": "2023-05-17T19:29:57.876Z"
   },
   {
    "duration": 16,
    "start_time": "2023-05-17T19:29:57.903Z"
   },
   {
    "duration": 161,
    "start_time": "2023-05-17T19:29:57.921Z"
   },
   {
    "duration": 33,
    "start_time": "2023-05-17T19:30:11.740Z"
   },
   {
    "duration": 36,
    "start_time": "2023-05-17T19:53:42.920Z"
   },
   {
    "duration": 24,
    "start_time": "2023-05-17T19:54:53.711Z"
   },
   {
    "duration": 22,
    "start_time": "2023-05-17T20:02:16.623Z"
   },
   {
    "duration": 30,
    "start_time": "2023-05-17T20:11:46.856Z"
   },
   {
    "duration": 26,
    "start_time": "2023-05-17T20:12:11.796Z"
   },
   {
    "duration": 5,
    "start_time": "2023-05-17T20:31:41.527Z"
   },
   {
    "duration": 5,
    "start_time": "2023-05-17T20:32:01.009Z"
   },
   {
    "duration": 70,
    "start_time": "2023-05-18T06:56:03.487Z"
   },
   {
    "duration": 20,
    "start_time": "2023-05-18T06:56:14.049Z"
   },
   {
    "duration": 1668,
    "start_time": "2023-05-18T06:56:22.087Z"
   },
   {
    "duration": 252,
    "start_time": "2023-05-18T06:56:23.758Z"
   },
   {
    "duration": 4,
    "start_time": "2023-05-18T06:56:24.012Z"
   },
   {
    "duration": 9,
    "start_time": "2023-05-18T06:56:24.019Z"
   },
   {
    "duration": 13,
    "start_time": "2023-05-18T06:56:24.030Z"
   },
   {
    "duration": 14,
    "start_time": "2023-05-18T06:56:24.045Z"
   },
   {
    "duration": 130,
    "start_time": "2023-05-18T06:56:24.062Z"
   },
   {
    "duration": 13,
    "start_time": "2023-05-18T06:56:24.194Z"
   },
   {
    "duration": 17,
    "start_time": "2023-05-18T06:56:24.215Z"
   },
   {
    "duration": 44,
    "start_time": "2023-05-18T06:56:24.236Z"
   },
   {
    "duration": 22,
    "start_time": "2023-05-18T06:56:24.282Z"
   },
   {
    "duration": 19,
    "start_time": "2023-05-18T06:56:24.307Z"
   },
   {
    "duration": 26,
    "start_time": "2023-05-18T06:56:24.328Z"
   },
   {
    "duration": 5,
    "start_time": "2023-05-18T06:56:24.357Z"
   },
   {
    "duration": 31,
    "start_time": "2023-05-18T06:56:24.364Z"
   },
   {
    "duration": 18,
    "start_time": "2023-05-18T06:56:24.398Z"
   },
   {
    "duration": 12,
    "start_time": "2023-05-18T06:56:24.421Z"
   },
   {
    "duration": 308,
    "start_time": "2023-05-18T06:56:24.435Z"
   },
   {
    "duration": 179,
    "start_time": "2023-05-18T06:56:24.745Z"
   },
   {
    "duration": 7,
    "start_time": "2023-05-18T06:56:24.926Z"
   },
   {
    "duration": 15,
    "start_time": "2023-05-18T06:56:24.935Z"
   },
   {
    "duration": 30,
    "start_time": "2023-05-18T06:56:24.953Z"
   },
   {
    "duration": 7,
    "start_time": "2023-05-18T06:56:24.986Z"
   },
   {
    "duration": 6,
    "start_time": "2023-05-18T06:56:24.995Z"
   },
   {
    "duration": 474,
    "start_time": "2023-05-18T06:56:25.004Z"
   },
   {
    "duration": 338,
    "start_time": "2023-05-18T06:56:25.480Z"
   },
   {
    "duration": 9,
    "start_time": "2023-05-18T06:56:25.820Z"
   },
   {
    "duration": 493,
    "start_time": "2023-05-18T06:56:25.834Z"
   },
   {
    "duration": 6,
    "start_time": "2023-05-18T06:56:26.329Z"
   },
   {
    "duration": 30,
    "start_time": "2023-05-18T06:56:26.337Z"
   },
   {
    "duration": 309,
    "start_time": "2023-05-18T06:56:26.369Z"
   },
   {
    "duration": 11,
    "start_time": "2023-05-18T06:56:26.680Z"
   },
   {
    "duration": 413,
    "start_time": "2023-05-18T06:56:26.693Z"
   },
   {
    "duration": 13,
    "start_time": "2023-05-18T06:56:27.108Z"
   },
   {
    "duration": 7,
    "start_time": "2023-05-18T06:56:27.123Z"
   },
   {
    "duration": 9,
    "start_time": "2023-05-18T06:56:27.132Z"
   },
   {
    "duration": 5,
    "start_time": "2023-05-18T06:56:27.143Z"
   },
   {
    "duration": 224,
    "start_time": "2023-05-18T06:56:27.151Z"
   },
   {
    "duration": 22,
    "start_time": "2023-05-18T06:56:27.377Z"
   },
   {
    "duration": 16,
    "start_time": "2023-05-18T06:56:27.403Z"
   },
   {
    "duration": 271,
    "start_time": "2023-05-18T06:56:27.421Z"
   },
   {
    "duration": 5,
    "start_time": "2023-05-18T06:56:27.696Z"
   },
   {
    "duration": 155,
    "start_time": "2023-05-18T06:56:27.703Z"
   },
   {
    "duration": 164,
    "start_time": "2023-05-18T06:56:27.860Z"
   },
   {
    "duration": 36,
    "start_time": "2023-05-18T06:56:28.028Z"
   },
   {
    "duration": 13,
    "start_time": "2023-05-18T06:56:28.067Z"
   },
   {
    "duration": 165,
    "start_time": "2023-05-18T06:56:28.082Z"
   },
   {
    "duration": 81,
    "start_time": "2023-05-18T06:56:28.249Z"
   },
   {
    "duration": 21,
    "start_time": "2023-05-18T06:56:28.332Z"
   },
   {
    "duration": 44,
    "start_time": "2023-05-18T06:56:28.365Z"
   },
   {
    "duration": 159,
    "start_time": "2023-05-18T06:56:28.411Z"
   },
   {
    "duration": 42,
    "start_time": "2023-05-18T06:56:28.586Z"
   },
   {
    "duration": 7,
    "start_time": "2023-05-18T06:56:28.630Z"
   },
   {
    "duration": 6,
    "start_time": "2023-05-18T06:56:28.640Z"
   },
   {
    "duration": 53,
    "start_time": "2023-05-18T06:56:28.648Z"
   },
   {
    "duration": 33,
    "start_time": "2023-05-18T06:56:28.704Z"
   },
   {
    "duration": 29,
    "start_time": "2023-05-18T06:59:07.268Z"
   },
   {
    "duration": 21,
    "start_time": "2023-05-18T06:59:25.692Z"
   },
   {
    "duration": 34,
    "start_time": "2023-05-18T06:59:47.774Z"
   },
   {
    "duration": 114,
    "start_time": "2023-05-18T07:11:59.832Z"
   },
   {
    "duration": 6,
    "start_time": "2023-05-18T07:12:14.186Z"
   },
   {
    "duration": 15,
    "start_time": "2023-05-18T07:14:48.995Z"
   },
   {
    "duration": 16,
    "start_time": "2023-05-18T07:17:39.275Z"
   },
   {
    "duration": 14,
    "start_time": "2023-05-18T07:18:10.110Z"
   },
   {
    "duration": 15,
    "start_time": "2023-05-18T07:49:26.168Z"
   },
   {
    "duration": 6,
    "start_time": "2023-05-18T07:50:37.445Z"
   },
   {
    "duration": 199,
    "start_time": "2023-05-18T07:52:14.603Z"
   },
   {
    "duration": 2044,
    "start_time": "2023-05-18T07:53:30.508Z"
   },
   {
    "duration": 22,
    "start_time": "2023-05-18T07:54:10.107Z"
   },
   {
    "duration": 7,
    "start_time": "2023-05-18T07:54:59.520Z"
   },
   {
    "duration": 5,
    "start_time": "2023-05-18T07:55:34.206Z"
   },
   {
    "duration": 5,
    "start_time": "2023-05-18T07:56:11.692Z"
   },
   {
    "duration": 177,
    "start_time": "2023-05-18T07:59:14.253Z"
   },
   {
    "duration": 101,
    "start_time": "2023-05-18T07:59:23.524Z"
   },
   {
    "duration": 14,
    "start_time": "2023-05-18T08:00:36.800Z"
   },
   {
    "duration": 15,
    "start_time": "2023-05-18T08:06:17.715Z"
   },
   {
    "duration": 21,
    "start_time": "2023-05-18T08:08:22.731Z"
   },
   {
    "duration": 46,
    "start_time": "2023-05-18T08:09:18.587Z"
   },
   {
    "duration": 49,
    "start_time": "2023-05-18T08:11:07.224Z"
   },
   {
    "duration": 38,
    "start_time": "2023-05-18T08:12:19.335Z"
   },
   {
    "duration": 49,
    "start_time": "2023-05-18T08:12:50.571Z"
   },
   {
    "duration": 663,
    "start_time": "2023-05-18T08:36:28.675Z"
   },
   {
    "duration": 242,
    "start_time": "2023-05-18T08:37:02.723Z"
   },
   {
    "duration": 227,
    "start_time": "2023-05-18T08:37:51.711Z"
   },
   {
    "duration": 569,
    "start_time": "2023-05-18T08:38:07.159Z"
   },
   {
    "duration": 396,
    "start_time": "2023-05-18T08:38:37.537Z"
   },
   {
    "duration": 4327,
    "start_time": "2023-05-18T08:40:07.227Z"
   },
   {
    "duration": 2151,
    "start_time": "2023-05-18T08:47:10.811Z"
   },
   {
    "duration": 1996,
    "start_time": "2023-05-18T08:48:20.802Z"
   },
   {
    "duration": 13,
    "start_time": "2023-05-18T08:48:36.475Z"
   },
   {
    "duration": 2108,
    "start_time": "2023-05-18T08:54:03.712Z"
   },
   {
    "duration": 13,
    "start_time": "2023-05-18T08:54:32.355Z"
   },
   {
    "duration": 77,
    "start_time": "2023-05-18T20:44:12.502Z"
   },
   {
    "duration": 59,
    "start_time": "2023-05-18T20:44:38.357Z"
   },
   {
    "duration": 63,
    "start_time": "2023-05-18T20:44:55.237Z"
   },
   {
    "duration": 0,
    "start_time": "2023-05-18T20:44:55.302Z"
   },
   {
    "duration": 0,
    "start_time": "2023-05-18T20:44:55.303Z"
   },
   {
    "duration": 0,
    "start_time": "2023-05-18T20:44:55.304Z"
   },
   {
    "duration": 0,
    "start_time": "2023-05-18T20:44:55.305Z"
   },
   {
    "duration": 0,
    "start_time": "2023-05-18T20:44:55.306Z"
   },
   {
    "duration": 50,
    "start_time": "2023-05-18T20:44:55.308Z"
   },
   {
    "duration": 0,
    "start_time": "2023-05-18T20:44:55.360Z"
   },
   {
    "duration": 0,
    "start_time": "2023-05-18T20:44:55.361Z"
   },
   {
    "duration": 0,
    "start_time": "2023-05-18T20:44:55.362Z"
   },
   {
    "duration": 0,
    "start_time": "2023-05-18T20:44:55.363Z"
   },
   {
    "duration": 0,
    "start_time": "2023-05-18T20:44:55.364Z"
   },
   {
    "duration": 0,
    "start_time": "2023-05-18T20:44:55.365Z"
   },
   {
    "duration": 0,
    "start_time": "2023-05-18T20:44:55.366Z"
   },
   {
    "duration": 0,
    "start_time": "2023-05-18T20:44:55.367Z"
   },
   {
    "duration": 6,
    "start_time": "2023-05-18T20:44:55.398Z"
   },
   {
    "duration": 0,
    "start_time": "2023-05-18T20:44:55.406Z"
   },
   {
    "duration": 0,
    "start_time": "2023-05-18T20:44:55.407Z"
   },
   {
    "duration": 0,
    "start_time": "2023-05-18T20:44:55.425Z"
   },
   {
    "duration": 0,
    "start_time": "2023-05-18T20:44:55.427Z"
   },
   {
    "duration": 15,
    "start_time": "2023-05-18T20:44:55.432Z"
   },
   {
    "duration": 0,
    "start_time": "2023-05-18T20:44:55.449Z"
   },
   {
    "duration": 0,
    "start_time": "2023-05-18T20:44:55.450Z"
   },
   {
    "duration": 0,
    "start_time": "2023-05-18T20:44:55.452Z"
   },
   {
    "duration": 0,
    "start_time": "2023-05-18T20:44:55.453Z"
   },
   {
    "duration": 10,
    "start_time": "2023-05-18T20:44:55.455Z"
   },
   {
    "duration": 9,
    "start_time": "2023-05-18T20:44:55.485Z"
   },
   {
    "duration": 0,
    "start_time": "2023-05-18T20:44:55.496Z"
   },
   {
    "duration": 0,
    "start_time": "2023-05-18T20:44:55.497Z"
   },
   {
    "duration": 10,
    "start_time": "2023-05-18T20:44:55.537Z"
   },
   {
    "duration": 0,
    "start_time": "2023-05-18T20:44:55.549Z"
   },
   {
    "duration": 1,
    "start_time": "2023-05-18T20:44:55.550Z"
   },
   {
    "duration": 0,
    "start_time": "2023-05-18T20:44:55.552Z"
   },
   {
    "duration": 0,
    "start_time": "2023-05-18T20:44:55.553Z"
   },
   {
    "duration": 0,
    "start_time": "2023-05-18T20:44:55.554Z"
   },
   {
    "duration": 0,
    "start_time": "2023-05-18T20:44:55.556Z"
   },
   {
    "duration": 21,
    "start_time": "2023-05-18T20:44:55.557Z"
   },
   {
    "duration": 0,
    "start_time": "2023-05-18T20:44:55.579Z"
   },
   {
    "duration": 9,
    "start_time": "2023-05-18T20:44:55.598Z"
   },
   {
    "duration": 0,
    "start_time": "2023-05-18T20:44:55.609Z"
   },
   {
    "duration": 0,
    "start_time": "2023-05-18T20:44:55.610Z"
   },
   {
    "duration": 0,
    "start_time": "2023-05-18T20:44:55.611Z"
   },
   {
    "duration": 0,
    "start_time": "2023-05-18T20:44:55.612Z"
   },
   {
    "duration": 17,
    "start_time": "2023-05-18T20:44:55.638Z"
   },
   {
    "duration": 0,
    "start_time": "2023-05-18T20:44:55.657Z"
   },
   {
    "duration": 0,
    "start_time": "2023-05-18T20:44:55.658Z"
   },
   {
    "duration": 0,
    "start_time": "2023-05-18T20:44:55.659Z"
   },
   {
    "duration": 0,
    "start_time": "2023-05-18T20:44:55.660Z"
   },
   {
    "duration": 0,
    "start_time": "2023-05-18T20:44:55.661Z"
   },
   {
    "duration": 0,
    "start_time": "2023-05-18T20:44:55.663Z"
   },
   {
    "duration": 10,
    "start_time": "2023-05-18T20:44:55.690Z"
   },
   {
    "duration": 0,
    "start_time": "2023-05-18T20:44:55.702Z"
   },
   {
    "duration": 0,
    "start_time": "2023-05-18T20:44:55.704Z"
   },
   {
    "duration": 0,
    "start_time": "2023-05-18T20:44:55.705Z"
   },
   {
    "duration": 35,
    "start_time": "2023-05-18T20:44:55.707Z"
   },
   {
    "duration": 0,
    "start_time": "2023-05-18T20:44:55.744Z"
   },
   {
    "duration": 0,
    "start_time": "2023-05-18T20:44:55.745Z"
   },
   {
    "duration": 0,
    "start_time": "2023-05-18T20:44:55.746Z"
   },
   {
    "duration": 0,
    "start_time": "2023-05-18T20:44:55.748Z"
   },
   {
    "duration": 8,
    "start_time": "2023-05-18T20:44:55.750Z"
   },
   {
    "duration": 0,
    "start_time": "2023-05-18T20:44:55.760Z"
   },
   {
    "duration": 7,
    "start_time": "2023-05-18T20:44:55.790Z"
   },
   {
    "duration": 0,
    "start_time": "2023-05-18T20:44:55.799Z"
   },
   {
    "duration": 12,
    "start_time": "2023-05-18T20:44:55.804Z"
   },
   {
    "duration": 0,
    "start_time": "2023-05-18T20:44:55.817Z"
   },
   {
    "duration": 1317,
    "start_time": "2023-05-18T20:51:14.858Z"
   },
   {
    "duration": 273,
    "start_time": "2023-05-18T20:51:31.113Z"
   },
   {
    "duration": 1189,
    "start_time": "2023-05-18T20:54:30.046Z"
   },
   {
    "duration": 78,
    "start_time": "2023-05-18T20:54:31.241Z"
   },
   {
    "duration": 2,
    "start_time": "2023-05-18T20:54:31.321Z"
   },
   {
    "duration": 41,
    "start_time": "2023-05-18T20:54:31.325Z"
   },
   {
    "duration": 30,
    "start_time": "2023-05-18T20:54:31.367Z"
   },
   {
    "duration": 42,
    "start_time": "2023-05-18T20:54:31.399Z"
   },
   {
    "duration": 80,
    "start_time": "2023-05-18T20:54:31.443Z"
   },
   {
    "duration": 8,
    "start_time": "2023-05-18T20:54:31.525Z"
   },
   {
    "duration": 38,
    "start_time": "2023-05-18T20:54:31.536Z"
   },
   {
    "duration": 32,
    "start_time": "2023-05-18T20:54:31.576Z"
   },
   {
    "duration": 12,
    "start_time": "2023-05-18T20:54:31.609Z"
   },
   {
    "duration": 36,
    "start_time": "2023-05-18T20:54:31.623Z"
   },
   {
    "duration": 28,
    "start_time": "2023-05-18T20:54:31.661Z"
   },
   {
    "duration": 36,
    "start_time": "2023-05-18T20:54:31.692Z"
   },
   {
    "duration": 81,
    "start_time": "2023-05-18T20:54:31.730Z"
   },
   {
    "duration": 44,
    "start_time": "2023-05-18T20:54:31.812Z"
   },
   {
    "duration": 13,
    "start_time": "2023-05-18T20:54:31.858Z"
   },
   {
    "duration": 180,
    "start_time": "2023-05-18T20:54:31.873Z"
   },
   {
    "duration": 126,
    "start_time": "2023-05-18T20:54:32.054Z"
   },
   {
    "duration": 5,
    "start_time": "2023-05-18T20:54:32.181Z"
   },
   {
    "duration": 11,
    "start_time": "2023-05-18T20:54:32.188Z"
   },
   {
    "duration": 15,
    "start_time": "2023-05-18T20:54:32.200Z"
   },
   {
    "duration": 33,
    "start_time": "2023-05-18T20:54:32.217Z"
   },
   {
    "duration": 12,
    "start_time": "2023-05-18T20:54:32.252Z"
   },
   {
    "duration": 311,
    "start_time": "2023-05-18T20:54:32.265Z"
   },
   {
    "duration": 226,
    "start_time": "2023-05-18T20:54:32.578Z"
   },
   {
    "duration": 6,
    "start_time": "2023-05-18T20:54:32.806Z"
   },
   {
    "duration": 368,
    "start_time": "2023-05-18T20:54:32.815Z"
   },
   {
    "duration": 5,
    "start_time": "2023-05-18T20:54:33.185Z"
   },
   {
    "duration": 24,
    "start_time": "2023-05-18T20:54:33.192Z"
   },
   {
    "duration": 267,
    "start_time": "2023-05-18T20:54:33.218Z"
   },
   {
    "duration": 9,
    "start_time": "2023-05-18T20:54:33.488Z"
   },
   {
    "duration": 356,
    "start_time": "2023-05-18T20:54:33.498Z"
   },
   {
    "duration": 12,
    "start_time": "2023-05-18T20:54:33.856Z"
   },
   {
    "duration": 18,
    "start_time": "2023-05-18T20:54:33.870Z"
   },
   {
    "duration": 14,
    "start_time": "2023-05-18T20:54:33.889Z"
   },
   {
    "duration": 12,
    "start_time": "2023-05-18T20:54:33.905Z"
   },
   {
    "duration": 146,
    "start_time": "2023-05-18T20:54:33.924Z"
   },
   {
    "duration": 4,
    "start_time": "2023-05-18T20:54:34.072Z"
   },
   {
    "duration": 12,
    "start_time": "2023-05-18T20:54:34.078Z"
   },
   {
    "duration": 182,
    "start_time": "2023-05-18T20:54:34.092Z"
   },
   {
    "duration": 4,
    "start_time": "2023-05-18T20:54:34.276Z"
   },
   {
    "duration": 77,
    "start_time": "2023-05-18T20:54:34.282Z"
   },
   {
    "duration": 81,
    "start_time": "2023-05-18T20:54:34.360Z"
   },
   {
    "duration": 11,
    "start_time": "2023-05-18T20:54:34.443Z"
   },
   {
    "duration": 9,
    "start_time": "2023-05-18T20:54:34.456Z"
   },
   {
    "duration": 132,
    "start_time": "2023-05-18T20:54:34.466Z"
   },
   {
    "duration": 59,
    "start_time": "2023-05-18T20:54:34.599Z"
   },
   {
    "duration": 22,
    "start_time": "2023-05-18T20:54:34.659Z"
   },
   {
    "duration": 24,
    "start_time": "2023-05-18T20:54:34.683Z"
   },
   {
    "duration": 96,
    "start_time": "2023-05-18T20:54:34.709Z"
   },
   {
    "duration": 49,
    "start_time": "2023-05-18T20:54:34.807Z"
   },
   {
    "duration": 26,
    "start_time": "2023-05-18T20:54:34.858Z"
   },
   {
    "duration": 17,
    "start_time": "2023-05-18T20:54:34.885Z"
   },
   {
    "duration": 59,
    "start_time": "2023-05-18T20:54:34.904Z"
   },
   {
    "duration": 12,
    "start_time": "2023-05-18T20:54:34.965Z"
   },
   {
    "duration": 6,
    "start_time": "2023-05-18T20:54:34.979Z"
   },
   {
    "duration": 9,
    "start_time": "2023-05-18T20:54:34.987Z"
   },
   {
    "duration": 18,
    "start_time": "2023-05-18T20:54:34.998Z"
   },
   {
    "duration": 26,
    "start_time": "2023-05-18T20:54:35.018Z"
   },
   {
    "duration": 13,
    "start_time": "2023-05-18T20:54:35.046Z"
   },
   {
    "duration": 46,
    "start_time": "2023-05-18T20:54:35.060Z"
   },
   {
    "duration": 11,
    "start_time": "2023-05-18T20:54:35.108Z"
   },
   {
    "duration": 17,
    "start_time": "2023-05-18T20:54:35.120Z"
   },
   {
    "duration": 49,
    "start_time": "2023-05-19T13:59:28.181Z"
   },
   {
    "duration": 1413,
    "start_time": "2023-05-19T13:59:46.442Z"
   },
   {
    "duration": 215,
    "start_time": "2023-05-19T13:59:47.857Z"
   },
   {
    "duration": 12,
    "start_time": "2023-05-19T13:59:48.074Z"
   },
   {
    "duration": 40,
    "start_time": "2023-05-19T13:59:48.088Z"
   },
   {
    "duration": 28,
    "start_time": "2023-05-19T13:59:48.130Z"
   },
   {
    "duration": 29,
    "start_time": "2023-05-19T13:59:48.160Z"
   },
   {
    "duration": 33,
    "start_time": "2023-05-19T13:59:48.191Z"
   },
   {
    "duration": 13,
    "start_time": "2023-05-19T13:59:48.226Z"
   },
   {
    "duration": 17,
    "start_time": "2023-05-19T13:59:48.241Z"
   },
   {
    "duration": 27,
    "start_time": "2023-05-19T13:59:48.259Z"
   },
   {
    "duration": 25,
    "start_time": "2023-05-19T13:59:48.287Z"
   },
   {
    "duration": 32,
    "start_time": "2023-05-19T13:59:48.314Z"
   },
   {
    "duration": 63,
    "start_time": "2023-05-19T13:59:48.348Z"
   },
   {
    "duration": 4,
    "start_time": "2023-05-19T13:59:48.414Z"
   },
   {
    "duration": 28,
    "start_time": "2023-05-19T13:59:48.419Z"
   },
   {
    "duration": 55,
    "start_time": "2023-05-19T13:59:48.449Z"
   },
   {
    "duration": 41,
    "start_time": "2023-05-19T13:59:48.505Z"
   },
   {
    "duration": 0,
    "start_time": "2023-05-19T13:59:48.548Z"
   },
   {
    "duration": 0,
    "start_time": "2023-05-19T13:59:48.550Z"
   },
   {
    "duration": 0,
    "start_time": "2023-05-19T13:59:48.551Z"
   },
   {
    "duration": 0,
    "start_time": "2023-05-19T13:59:48.552Z"
   },
   {
    "duration": 0,
    "start_time": "2023-05-19T13:59:48.553Z"
   },
   {
    "duration": 0,
    "start_time": "2023-05-19T13:59:48.554Z"
   },
   {
    "duration": 0,
    "start_time": "2023-05-19T13:59:48.554Z"
   },
   {
    "duration": 0,
    "start_time": "2023-05-19T13:59:48.555Z"
   },
   {
    "duration": 0,
    "start_time": "2023-05-19T13:59:48.556Z"
   },
   {
    "duration": 0,
    "start_time": "2023-05-19T13:59:48.557Z"
   },
   {
    "duration": 0,
    "start_time": "2023-05-19T13:59:48.558Z"
   },
   {
    "duration": 0,
    "start_time": "2023-05-19T13:59:48.559Z"
   },
   {
    "duration": 0,
    "start_time": "2023-05-19T13:59:48.561Z"
   },
   {
    "duration": 0,
    "start_time": "2023-05-19T13:59:48.562Z"
   },
   {
    "duration": 0,
    "start_time": "2023-05-19T13:59:48.563Z"
   },
   {
    "duration": 0,
    "start_time": "2023-05-19T13:59:48.564Z"
   },
   {
    "duration": 0,
    "start_time": "2023-05-19T13:59:48.565Z"
   },
   {
    "duration": 0,
    "start_time": "2023-05-19T13:59:48.565Z"
   },
   {
    "duration": 0,
    "start_time": "2023-05-19T13:59:48.567Z"
   },
   {
    "duration": 0,
    "start_time": "2023-05-19T13:59:48.567Z"
   },
   {
    "duration": 0,
    "start_time": "2023-05-19T13:59:48.568Z"
   },
   {
    "duration": 0,
    "start_time": "2023-05-19T13:59:48.570Z"
   },
   {
    "duration": 0,
    "start_time": "2023-05-19T13:59:48.571Z"
   },
   {
    "duration": 0,
    "start_time": "2023-05-19T13:59:48.572Z"
   },
   {
    "duration": 0,
    "start_time": "2023-05-19T13:59:48.573Z"
   },
   {
    "duration": 0,
    "start_time": "2023-05-19T13:59:48.574Z"
   },
   {
    "duration": 0,
    "start_time": "2023-05-19T13:59:48.575Z"
   },
   {
    "duration": 0,
    "start_time": "2023-05-19T13:59:48.575Z"
   },
   {
    "duration": 0,
    "start_time": "2023-05-19T13:59:48.576Z"
   },
   {
    "duration": 0,
    "start_time": "2023-05-19T13:59:48.577Z"
   },
   {
    "duration": 0,
    "start_time": "2023-05-19T13:59:48.578Z"
   },
   {
    "duration": 0,
    "start_time": "2023-05-19T13:59:48.579Z"
   },
   {
    "duration": 0,
    "start_time": "2023-05-19T13:59:48.581Z"
   },
   {
    "duration": 1,
    "start_time": "2023-05-19T13:59:48.581Z"
   },
   {
    "duration": 0,
    "start_time": "2023-05-19T13:59:48.583Z"
   },
   {
    "duration": 0,
    "start_time": "2023-05-19T13:59:48.583Z"
   },
   {
    "duration": 0,
    "start_time": "2023-05-19T13:59:48.624Z"
   },
   {
    "duration": 0,
    "start_time": "2023-05-19T13:59:48.625Z"
   },
   {
    "duration": 0,
    "start_time": "2023-05-19T13:59:48.626Z"
   },
   {
    "duration": 0,
    "start_time": "2023-05-19T13:59:48.627Z"
   },
   {
    "duration": 0,
    "start_time": "2023-05-19T13:59:48.629Z"
   },
   {
    "duration": 0,
    "start_time": "2023-05-19T13:59:48.630Z"
   },
   {
    "duration": 0,
    "start_time": "2023-05-19T13:59:48.630Z"
   },
   {
    "duration": 0,
    "start_time": "2023-05-19T13:59:48.631Z"
   },
   {
    "duration": 0,
    "start_time": "2023-05-19T13:59:48.632Z"
   },
   {
    "duration": 0,
    "start_time": "2023-05-19T13:59:48.633Z"
   },
   {
    "duration": 0,
    "start_time": "2023-05-19T13:59:48.635Z"
   },
   {
    "duration": 0,
    "start_time": "2023-05-19T13:59:48.635Z"
   },
   {
    "duration": 0,
    "start_time": "2023-05-19T13:59:48.636Z"
   },
   {
    "duration": 0,
    "start_time": "2023-05-19T13:59:48.637Z"
   },
   {
    "duration": 0,
    "start_time": "2023-05-19T13:59:48.638Z"
   },
   {
    "duration": 6,
    "start_time": "2023-05-19T14:00:32.546Z"
   },
   {
    "duration": 12,
    "start_time": "2023-05-19T14:00:33.474Z"
   },
   {
    "duration": 8,
    "start_time": "2023-05-19T14:00:34.506Z"
   },
   {
    "duration": 3,
    "start_time": "2023-05-19T14:06:18.847Z"
   },
   {
    "duration": 106,
    "start_time": "2023-05-19T14:06:27.752Z"
   },
   {
    "duration": 18,
    "start_time": "2023-05-19T14:10:31.743Z"
   },
   {
    "duration": 6,
    "start_time": "2023-05-19T14:11:56.434Z"
   },
   {
    "duration": 8,
    "start_time": "2023-05-19T14:14:09.648Z"
   },
   {
    "duration": 12,
    "start_time": "2023-05-19T14:14:56.416Z"
   },
   {
    "duration": 7,
    "start_time": "2023-05-19T14:17:00.869Z"
   },
   {
    "duration": 8,
    "start_time": "2023-05-19T14:17:23.069Z"
   },
   {
    "duration": 8,
    "start_time": "2023-05-19T14:19:01.436Z"
   },
   {
    "duration": 7,
    "start_time": "2023-05-19T14:19:18.314Z"
   },
   {
    "duration": 9,
    "start_time": "2023-05-19T14:20:35.038Z"
   },
   {
    "duration": 9,
    "start_time": "2023-05-19T14:21:31.100Z"
   },
   {
    "duration": 7,
    "start_time": "2023-05-19T14:23:12.474Z"
   },
   {
    "duration": 8,
    "start_time": "2023-05-19T14:27:48.431Z"
   },
   {
    "duration": 154,
    "start_time": "2023-05-19T14:27:52.550Z"
   },
   {
    "duration": 4,
    "start_time": "2023-05-19T14:33:00.110Z"
   },
   {
    "duration": 7,
    "start_time": "2023-05-19T14:33:14.168Z"
   },
   {
    "duration": 7,
    "start_time": "2023-05-19T14:33:57.014Z"
   },
   {
    "duration": 9,
    "start_time": "2023-05-19T14:34:40.942Z"
   },
   {
    "duration": 3,
    "start_time": "2023-05-19T14:37:38.114Z"
   },
   {
    "duration": 5,
    "start_time": "2023-05-19T14:39:45.911Z"
   },
   {
    "duration": 704,
    "start_time": "2023-05-19T14:40:24.234Z"
   },
   {
    "duration": 7,
    "start_time": "2023-05-19T14:40:53.482Z"
   },
   {
    "duration": 11,
    "start_time": "2023-05-19T14:42:30.689Z"
   },
   {
    "duration": 4,
    "start_time": "2023-05-19T14:43:57.877Z"
   },
   {
    "duration": 845,
    "start_time": "2023-05-19T14:44:30.242Z"
   },
   {
    "duration": 3,
    "start_time": "2023-05-19T14:45:31.567Z"
   },
   {
    "duration": 64,
    "start_time": "2023-05-19T14:47:03.053Z"
   },
   {
    "duration": 10,
    "start_time": "2023-05-19T14:47:24.522Z"
   },
   {
    "duration": 10,
    "start_time": "2023-05-19T14:47:58.038Z"
   },
   {
    "duration": 9,
    "start_time": "2023-05-19T14:48:15.575Z"
   },
   {
    "duration": 5,
    "start_time": "2023-05-19T14:51:14.566Z"
   },
   {
    "duration": 540,
    "start_time": "2023-05-19T14:51:53.234Z"
   },
   {
    "duration": 685,
    "start_time": "2023-05-19T14:52:22.210Z"
   },
   {
    "duration": 532,
    "start_time": "2023-05-19T15:02:01.491Z"
   },
   {
    "duration": 1137,
    "start_time": "2023-05-19T15:02:19.172Z"
   },
   {
    "duration": 69,
    "start_time": "2023-05-19T15:02:20.310Z"
   },
   {
    "duration": 13,
    "start_time": "2023-05-19T15:02:20.381Z"
   },
   {
    "duration": 8,
    "start_time": "2023-05-19T15:02:20.396Z"
   },
   {
    "duration": 36,
    "start_time": "2023-05-19T15:02:20.406Z"
   },
   {
    "duration": 16,
    "start_time": "2023-05-19T15:02:20.444Z"
   },
   {
    "duration": 33,
    "start_time": "2023-05-19T15:02:20.462Z"
   },
   {
    "duration": 22,
    "start_time": "2023-05-19T15:02:20.497Z"
   },
   {
    "duration": 10,
    "start_time": "2023-05-19T15:02:20.521Z"
   },
   {
    "duration": 23,
    "start_time": "2023-05-19T15:02:20.533Z"
   },
   {
    "duration": 6,
    "start_time": "2023-05-19T15:02:20.557Z"
   },
   {
    "duration": 12,
    "start_time": "2023-05-19T15:02:20.564Z"
   },
   {
    "duration": 65,
    "start_time": "2023-05-19T15:02:20.577Z"
   },
   {
    "duration": 4,
    "start_time": "2023-05-19T15:02:20.644Z"
   },
   {
    "duration": 24,
    "start_time": "2023-05-19T15:02:20.650Z"
   },
   {
    "duration": 52,
    "start_time": "2023-05-19T15:02:20.676Z"
   },
   {
    "duration": 10,
    "start_time": "2023-05-19T15:02:20.730Z"
   },
   {
    "duration": 9,
    "start_time": "2023-05-19T15:02:20.742Z"
   },
   {
    "duration": 20,
    "start_time": "2023-05-19T15:02:20.752Z"
   },
   {
    "duration": 21,
    "start_time": "2023-05-19T15:02:20.774Z"
   },
   {
    "duration": 21,
    "start_time": "2023-05-19T15:02:20.797Z"
   },
   {
    "duration": 25,
    "start_time": "2023-05-19T15:02:20.820Z"
   },
   {
    "duration": 25,
    "start_time": "2023-05-19T15:02:20.847Z"
   },
   {
    "duration": 206,
    "start_time": "2023-05-19T15:02:20.874Z"
   },
   {
    "duration": 136,
    "start_time": "2023-05-19T15:02:21.082Z"
   },
   {
    "duration": 9,
    "start_time": "2023-05-19T15:02:21.219Z"
   },
   {
    "duration": 19,
    "start_time": "2023-05-19T15:02:21.230Z"
   },
   {
    "duration": 26,
    "start_time": "2023-05-19T15:02:21.255Z"
   },
   {
    "duration": 20,
    "start_time": "2023-05-19T15:02:21.283Z"
   },
   {
    "duration": 44,
    "start_time": "2023-05-19T15:02:21.305Z"
   },
   {
    "duration": 352,
    "start_time": "2023-05-19T15:02:21.351Z"
   },
   {
    "duration": 242,
    "start_time": "2023-05-19T15:02:21.705Z"
   },
   {
    "duration": 6,
    "start_time": "2023-05-19T15:02:21.950Z"
   },
   {
    "duration": 352,
    "start_time": "2023-05-19T15:02:21.957Z"
   },
   {
    "duration": 4,
    "start_time": "2023-05-19T15:02:22.310Z"
   },
   {
    "duration": 51,
    "start_time": "2023-05-19T15:02:22.316Z"
   },
   {
    "duration": 254,
    "start_time": "2023-05-19T15:02:22.368Z"
   },
   {
    "duration": 8,
    "start_time": "2023-05-19T15:02:22.624Z"
   },
   {
    "duration": 325,
    "start_time": "2023-05-19T15:02:22.633Z"
   },
   {
    "duration": 13,
    "start_time": "2023-05-19T15:02:22.961Z"
   },
   {
    "duration": 16,
    "start_time": "2023-05-19T15:02:22.975Z"
   },
   {
    "duration": 13,
    "start_time": "2023-05-19T15:02:22.993Z"
   },
   {
    "duration": 13,
    "start_time": "2023-05-19T15:02:23.008Z"
   },
   {
    "duration": 162,
    "start_time": "2023-05-19T15:02:23.025Z"
   },
   {
    "duration": 5,
    "start_time": "2023-05-19T15:02:23.189Z"
   },
   {
    "duration": 15,
    "start_time": "2023-05-19T15:02:23.195Z"
   },
   {
    "duration": 171,
    "start_time": "2023-05-19T15:02:23.224Z"
   },
   {
    "duration": 4,
    "start_time": "2023-05-19T15:02:23.397Z"
   },
   {
    "duration": 85,
    "start_time": "2023-05-19T15:02:23.403Z"
   },
   {
    "duration": 83,
    "start_time": "2023-05-19T15:02:23.489Z"
   },
   {
    "duration": 6,
    "start_time": "2023-05-19T15:02:23.574Z"
   },
   {
    "duration": 11,
    "start_time": "2023-05-19T15:02:23.582Z"
   },
   {
    "duration": 134,
    "start_time": "2023-05-19T15:02:23.595Z"
   },
   {
    "duration": 56,
    "start_time": "2023-05-19T15:02:23.731Z"
   },
   {
    "duration": 22,
    "start_time": "2023-05-19T15:02:23.789Z"
   },
   {
    "duration": 25,
    "start_time": "2023-05-19T15:02:23.813Z"
   },
   {
    "duration": 104,
    "start_time": "2023-05-19T15:02:23.839Z"
   },
   {
    "duration": 21,
    "start_time": "2023-05-19T15:02:23.945Z"
   },
   {
    "duration": 6,
    "start_time": "2023-05-19T15:02:23.968Z"
   },
   {
    "duration": 11,
    "start_time": "2023-05-19T15:02:23.976Z"
   },
   {
    "duration": 41,
    "start_time": "2023-05-19T15:02:23.988Z"
   },
   {
    "duration": 9,
    "start_time": "2023-05-19T15:02:24.031Z"
   },
   {
    "duration": 4,
    "start_time": "2023-05-19T15:02:24.042Z"
   },
   {
    "duration": 9,
    "start_time": "2023-05-19T15:02:24.048Z"
   },
   {
    "duration": 41,
    "start_time": "2023-05-19T15:02:24.058Z"
   },
   {
    "duration": 14,
    "start_time": "2023-05-19T15:02:24.101Z"
   },
   {
    "duration": 14,
    "start_time": "2023-05-19T15:02:24.116Z"
   },
   {
    "duration": 29,
    "start_time": "2023-05-19T15:02:24.132Z"
   },
   {
    "duration": 8,
    "start_time": "2023-05-19T15:02:24.163Z"
   },
   {
    "duration": 18,
    "start_time": "2023-05-19T15:02:24.173Z"
   },
   {
    "duration": 6,
    "start_time": "2023-05-19T15:02:57.432Z"
   },
   {
    "duration": 5,
    "start_time": "2023-05-19T15:03:38.570Z"
   },
   {
    "duration": 4,
    "start_time": "2023-05-19T15:04:04.735Z"
   },
   {
    "duration": 753,
    "start_time": "2023-05-19T15:04:27.476Z"
   },
   {
    "duration": 1066,
    "start_time": "2023-05-19T15:04:57.578Z"
   },
   {
    "duration": 70,
    "start_time": "2023-05-19T15:04:58.645Z"
   },
   {
    "duration": 13,
    "start_time": "2023-05-19T15:04:58.717Z"
   },
   {
    "duration": 7,
    "start_time": "2023-05-19T15:04:58.732Z"
   },
   {
    "duration": 18,
    "start_time": "2023-05-19T15:04:58.740Z"
   },
   {
    "duration": 12,
    "start_time": "2023-05-19T15:04:58.759Z"
   },
   {
    "duration": 25,
    "start_time": "2023-05-19T15:04:58.773Z"
   },
   {
    "duration": 8,
    "start_time": "2023-05-19T15:04:58.800Z"
   },
   {
    "duration": 3,
    "start_time": "2023-05-19T15:04:58.825Z"
   },
   {
    "duration": 13,
    "start_time": "2023-05-19T15:04:58.830Z"
   },
   {
    "duration": 5,
    "start_time": "2023-05-19T15:04:58.845Z"
   },
   {
    "duration": 8,
    "start_time": "2023-05-19T15:04:58.851Z"
   },
   {
    "duration": 65,
    "start_time": "2023-05-19T15:04:58.861Z"
   },
   {
    "duration": 4,
    "start_time": "2023-05-19T15:04:58.927Z"
   },
   {
    "duration": 15,
    "start_time": "2023-05-19T15:04:58.933Z"
   },
   {
    "duration": 26,
    "start_time": "2023-05-19T15:04:58.950Z"
   },
   {
    "duration": 5,
    "start_time": "2023-05-19T15:04:58.977Z"
   },
   {
    "duration": 10,
    "start_time": "2023-05-19T15:04:58.984Z"
   },
   {
    "duration": 30,
    "start_time": "2023-05-19T15:04:58.996Z"
   },
   {
    "duration": 10,
    "start_time": "2023-05-19T15:04:59.028Z"
   },
   {
    "duration": 11,
    "start_time": "2023-05-19T15:04:59.040Z"
   },
   {
    "duration": 5,
    "start_time": "2023-05-19T15:04:59.052Z"
   },
   {
    "duration": 9,
    "start_time": "2023-05-19T15:04:59.059Z"
   },
   {
    "duration": 130,
    "start_time": "2023-05-19T15:04:59.069Z"
   },
   {
    "duration": 0,
    "start_time": "2023-05-19T15:04:59.202Z"
   },
   {
    "duration": 0,
    "start_time": "2023-05-19T15:04:59.203Z"
   },
   {
    "duration": 0,
    "start_time": "2023-05-19T15:04:59.204Z"
   },
   {
    "duration": 0,
    "start_time": "2023-05-19T15:04:59.205Z"
   },
   {
    "duration": 0,
    "start_time": "2023-05-19T15:04:59.206Z"
   },
   {
    "duration": 0,
    "start_time": "2023-05-19T15:04:59.207Z"
   },
   {
    "duration": 0,
    "start_time": "2023-05-19T15:04:59.208Z"
   },
   {
    "duration": 0,
    "start_time": "2023-05-19T15:04:59.209Z"
   },
   {
    "duration": 0,
    "start_time": "2023-05-19T15:04:59.224Z"
   },
   {
    "duration": 0,
    "start_time": "2023-05-19T15:04:59.226Z"
   },
   {
    "duration": 0,
    "start_time": "2023-05-19T15:04:59.227Z"
   },
   {
    "duration": 0,
    "start_time": "2023-05-19T15:04:59.228Z"
   },
   {
    "duration": 0,
    "start_time": "2023-05-19T15:04:59.229Z"
   },
   {
    "duration": 0,
    "start_time": "2023-05-19T15:04:59.230Z"
   },
   {
    "duration": 0,
    "start_time": "2023-05-19T15:04:59.231Z"
   },
   {
    "duration": 0,
    "start_time": "2023-05-19T15:04:59.232Z"
   },
   {
    "duration": 0,
    "start_time": "2023-05-19T15:04:59.233Z"
   },
   {
    "duration": 0,
    "start_time": "2023-05-19T15:04:59.234Z"
   },
   {
    "duration": 0,
    "start_time": "2023-05-19T15:04:59.235Z"
   },
   {
    "duration": 0,
    "start_time": "2023-05-19T15:04:59.236Z"
   },
   {
    "duration": 0,
    "start_time": "2023-05-19T15:04:59.237Z"
   },
   {
    "duration": 0,
    "start_time": "2023-05-19T15:04:59.238Z"
   },
   {
    "duration": 0,
    "start_time": "2023-05-19T15:04:59.239Z"
   },
   {
    "duration": 0,
    "start_time": "2023-05-19T15:04:59.240Z"
   },
   {
    "duration": 0,
    "start_time": "2023-05-19T15:04:59.241Z"
   },
   {
    "duration": 0,
    "start_time": "2023-05-19T15:04:59.242Z"
   },
   {
    "duration": 0,
    "start_time": "2023-05-19T15:04:59.243Z"
   },
   {
    "duration": 1,
    "start_time": "2023-05-19T15:04:59.244Z"
   },
   {
    "duration": 0,
    "start_time": "2023-05-19T15:04:59.246Z"
   },
   {
    "duration": 0,
    "start_time": "2023-05-19T15:04:59.247Z"
   },
   {
    "duration": 0,
    "start_time": "2023-05-19T15:04:59.248Z"
   },
   {
    "duration": 0,
    "start_time": "2023-05-19T15:04:59.249Z"
   },
   {
    "duration": 0,
    "start_time": "2023-05-19T15:04:59.250Z"
   },
   {
    "duration": 0,
    "start_time": "2023-05-19T15:04:59.251Z"
   },
   {
    "duration": 0,
    "start_time": "2023-05-19T15:04:59.253Z"
   },
   {
    "duration": 0,
    "start_time": "2023-05-19T15:04:59.254Z"
   },
   {
    "duration": 0,
    "start_time": "2023-05-19T15:04:59.255Z"
   },
   {
    "duration": 0,
    "start_time": "2023-05-19T15:04:59.256Z"
   },
   {
    "duration": 0,
    "start_time": "2023-05-19T15:04:59.257Z"
   },
   {
    "duration": 0,
    "start_time": "2023-05-19T15:04:59.259Z"
   },
   {
    "duration": 0,
    "start_time": "2023-05-19T15:04:59.260Z"
   },
   {
    "duration": 0,
    "start_time": "2023-05-19T15:04:59.261Z"
   },
   {
    "duration": 0,
    "start_time": "2023-05-19T15:04:59.262Z"
   },
   {
    "duration": 0,
    "start_time": "2023-05-19T15:04:59.263Z"
   },
   {
    "duration": 0,
    "start_time": "2023-05-19T15:04:59.325Z"
   },
   {
    "duration": 0,
    "start_time": "2023-05-19T15:04:59.326Z"
   },
   {
    "duration": 0,
    "start_time": "2023-05-19T15:04:59.327Z"
   },
   {
    "duration": 570,
    "start_time": "2023-05-19T15:06:28.499Z"
   },
   {
    "duration": 1146,
    "start_time": "2023-05-19T15:06:58.641Z"
   },
   {
    "duration": 70,
    "start_time": "2023-05-19T15:06:59.790Z"
   },
   {
    "duration": 12,
    "start_time": "2023-05-19T15:06:59.862Z"
   },
   {
    "duration": 28,
    "start_time": "2023-05-19T15:06:59.876Z"
   },
   {
    "duration": 28,
    "start_time": "2023-05-19T15:06:59.905Z"
   },
   {
    "duration": 26,
    "start_time": "2023-05-19T15:06:59.934Z"
   },
   {
    "duration": 31,
    "start_time": "2023-05-19T15:06:59.962Z"
   },
   {
    "duration": 10,
    "start_time": "2023-05-19T15:06:59.995Z"
   },
   {
    "duration": 16,
    "start_time": "2023-05-19T15:07:00.007Z"
   },
   {
    "duration": 25,
    "start_time": "2023-05-19T15:07:00.026Z"
   },
   {
    "duration": 26,
    "start_time": "2023-05-19T15:07:00.053Z"
   },
   {
    "duration": 41,
    "start_time": "2023-05-19T15:07:00.081Z"
   },
   {
    "duration": 69,
    "start_time": "2023-05-19T15:07:00.124Z"
   },
   {
    "duration": 5,
    "start_time": "2023-05-19T15:07:00.195Z"
   },
   {
    "duration": 43,
    "start_time": "2023-05-19T15:07:00.201Z"
   },
   {
    "duration": 71,
    "start_time": "2023-05-19T15:07:00.246Z"
   },
   {
    "duration": 63,
    "start_time": "2023-05-19T15:07:00.319Z"
   },
   {
    "duration": 84,
    "start_time": "2023-05-19T15:07:00.383Z"
   },
   {
    "duration": 54,
    "start_time": "2023-05-19T15:07:00.469Z"
   },
   {
    "duration": 49,
    "start_time": "2023-05-19T15:07:00.525Z"
   },
   {
    "duration": 45,
    "start_time": "2023-05-19T15:07:00.576Z"
   },
   {
    "duration": 946,
    "start_time": "2023-05-19T15:07:00.623Z"
   },
   {
    "duration": 0,
    "start_time": "2023-05-19T15:07:01.572Z"
   },
   {
    "duration": 0,
    "start_time": "2023-05-19T15:07:01.573Z"
   },
   {
    "duration": 0,
    "start_time": "2023-05-19T15:07:01.574Z"
   },
   {
    "duration": 0,
    "start_time": "2023-05-19T15:07:01.576Z"
   },
   {
    "duration": 0,
    "start_time": "2023-05-19T15:07:01.577Z"
   },
   {
    "duration": 0,
    "start_time": "2023-05-19T15:07:01.578Z"
   },
   {
    "duration": 0,
    "start_time": "2023-05-19T15:07:01.579Z"
   },
   {
    "duration": 0,
    "start_time": "2023-05-19T15:07:01.580Z"
   },
   {
    "duration": 0,
    "start_time": "2023-05-19T15:07:01.582Z"
   },
   {
    "duration": 0,
    "start_time": "2023-05-19T15:07:01.583Z"
   },
   {
    "duration": 0,
    "start_time": "2023-05-19T15:07:01.584Z"
   },
   {
    "duration": 0,
    "start_time": "2023-05-19T15:07:01.585Z"
   },
   {
    "duration": 0,
    "start_time": "2023-05-19T15:07:01.586Z"
   },
   {
    "duration": 0,
    "start_time": "2023-05-19T15:07:01.587Z"
   },
   {
    "duration": 0,
    "start_time": "2023-05-19T15:07:01.588Z"
   },
   {
    "duration": 0,
    "start_time": "2023-05-19T15:07:01.589Z"
   },
   {
    "duration": 0,
    "start_time": "2023-05-19T15:07:01.590Z"
   },
   {
    "duration": 0,
    "start_time": "2023-05-19T15:07:01.592Z"
   },
   {
    "duration": 0,
    "start_time": "2023-05-19T15:07:01.593Z"
   },
   {
    "duration": 0,
    "start_time": "2023-05-19T15:07:01.594Z"
   },
   {
    "duration": 0,
    "start_time": "2023-05-19T15:07:01.595Z"
   },
   {
    "duration": 0,
    "start_time": "2023-05-19T15:07:01.595Z"
   },
   {
    "duration": 0,
    "start_time": "2023-05-19T15:07:01.596Z"
   },
   {
    "duration": 0,
    "start_time": "2023-05-19T15:07:01.597Z"
   },
   {
    "duration": 0,
    "start_time": "2023-05-19T15:07:01.599Z"
   },
   {
    "duration": 0,
    "start_time": "2023-05-19T15:07:01.600Z"
   },
   {
    "duration": 0,
    "start_time": "2023-05-19T15:07:01.602Z"
   },
   {
    "duration": 0,
    "start_time": "2023-05-19T15:07:01.603Z"
   },
   {
    "duration": 0,
    "start_time": "2023-05-19T15:07:01.604Z"
   },
   {
    "duration": 0,
    "start_time": "2023-05-19T15:07:01.605Z"
   },
   {
    "duration": 0,
    "start_time": "2023-05-19T15:07:01.606Z"
   },
   {
    "duration": 0,
    "start_time": "2023-05-19T15:07:01.607Z"
   },
   {
    "duration": 0,
    "start_time": "2023-05-19T15:07:01.608Z"
   },
   {
    "duration": 0,
    "start_time": "2023-05-19T15:07:01.609Z"
   },
   {
    "duration": 0,
    "start_time": "2023-05-19T15:07:01.610Z"
   },
   {
    "duration": 0,
    "start_time": "2023-05-19T15:07:01.611Z"
   },
   {
    "duration": 0,
    "start_time": "2023-05-19T15:07:01.624Z"
   },
   {
    "duration": 0,
    "start_time": "2023-05-19T15:07:01.626Z"
   },
   {
    "duration": 0,
    "start_time": "2023-05-19T15:07:01.627Z"
   },
   {
    "duration": 0,
    "start_time": "2023-05-19T15:07:01.628Z"
   },
   {
    "duration": 0,
    "start_time": "2023-05-19T15:07:01.629Z"
   },
   {
    "duration": 0,
    "start_time": "2023-05-19T15:07:01.631Z"
   },
   {
    "duration": 0,
    "start_time": "2023-05-19T15:07:01.632Z"
   },
   {
    "duration": 0,
    "start_time": "2023-05-19T15:07:01.633Z"
   },
   {
    "duration": 0,
    "start_time": "2023-05-19T15:07:01.634Z"
   },
   {
    "duration": 0,
    "start_time": "2023-05-19T15:07:01.635Z"
   },
   {
    "duration": 0,
    "start_time": "2023-05-19T15:07:01.637Z"
   },
   {
    "duration": 0,
    "start_time": "2023-05-19T15:07:01.638Z"
   },
   {
    "duration": 0,
    "start_time": "2023-05-19T15:07:01.639Z"
   },
   {
    "duration": 4,
    "start_time": "2023-05-19T15:07:54.337Z"
   },
   {
    "duration": 636,
    "start_time": "2023-05-19T15:08:42.679Z"
   },
   {
    "duration": 598,
    "start_time": "2023-05-19T15:09:28.355Z"
   },
   {
    "duration": 16,
    "start_time": "2023-05-19T15:26:36.039Z"
   },
   {
    "duration": 617,
    "start_time": "2023-05-19T15:31:47.290Z"
   },
   {
    "duration": 1173,
    "start_time": "2023-05-19T15:32:08.243Z"
   },
   {
    "duration": 74,
    "start_time": "2023-05-19T15:32:09.418Z"
   },
   {
    "duration": 13,
    "start_time": "2023-05-19T15:32:09.493Z"
   },
   {
    "duration": 7,
    "start_time": "2023-05-19T15:32:09.508Z"
   },
   {
    "duration": 16,
    "start_time": "2023-05-19T15:32:09.517Z"
   },
   {
    "duration": 13,
    "start_time": "2023-05-19T15:32:09.535Z"
   },
   {
    "duration": 19,
    "start_time": "2023-05-19T15:32:09.549Z"
   },
   {
    "duration": 8,
    "start_time": "2023-05-19T15:32:09.569Z"
   },
   {
    "duration": 6,
    "start_time": "2023-05-19T15:32:09.579Z"
   },
   {
    "duration": 12,
    "start_time": "2023-05-19T15:32:09.588Z"
   },
   {
    "duration": 3,
    "start_time": "2023-05-19T15:32:09.625Z"
   },
   {
    "duration": 8,
    "start_time": "2023-05-19T15:32:09.630Z"
   },
   {
    "duration": 56,
    "start_time": "2023-05-19T15:32:09.640Z"
   },
   {
    "duration": 4,
    "start_time": "2023-05-19T15:32:09.698Z"
   },
   {
    "duration": 32,
    "start_time": "2023-05-19T15:32:09.704Z"
   },
   {
    "duration": 26,
    "start_time": "2023-05-19T15:32:09.738Z"
   },
   {
    "duration": 12,
    "start_time": "2023-05-19T15:32:09.766Z"
   },
   {
    "duration": 13,
    "start_time": "2023-05-19T15:32:09.779Z"
   },
   {
    "duration": 10,
    "start_time": "2023-05-19T15:32:09.794Z"
   },
   {
    "duration": 14,
    "start_time": "2023-05-19T15:32:09.825Z"
   },
   {
    "duration": 165,
    "start_time": "2023-05-19T15:32:09.840Z"
   },
   {
    "duration": 126,
    "start_time": "2023-05-19T15:32:10.007Z"
   },
   {
    "duration": 7,
    "start_time": "2023-05-19T15:32:10.135Z"
   },
   {
    "duration": 6,
    "start_time": "2023-05-19T15:32:10.144Z"
   },
   {
    "duration": 14,
    "start_time": "2023-05-19T15:32:10.151Z"
   },
   {
    "duration": 7,
    "start_time": "2023-05-19T15:32:10.167Z"
   },
   {
    "duration": 9,
    "start_time": "2023-05-19T15:32:10.175Z"
   },
   {
    "duration": 337,
    "start_time": "2023-05-19T15:32:10.189Z"
   },
   {
    "duration": 250,
    "start_time": "2023-05-19T15:32:10.528Z"
   },
   {
    "duration": 7,
    "start_time": "2023-05-19T15:32:10.780Z"
   },
   {
    "duration": 423,
    "start_time": "2023-05-19T15:32:10.789Z"
   },
   {
    "duration": 10,
    "start_time": "2023-05-19T15:32:11.214Z"
   },
   {
    "duration": 4,
    "start_time": "2023-05-19T15:32:11.226Z"
   },
   {
    "duration": 250,
    "start_time": "2023-05-19T15:32:11.231Z"
   },
   {
    "duration": 8,
    "start_time": "2023-05-19T15:32:11.483Z"
   },
   {
    "duration": 368,
    "start_time": "2023-05-19T15:32:11.493Z"
   },
   {
    "duration": 16,
    "start_time": "2023-05-19T15:32:11.863Z"
   },
   {
    "duration": 9,
    "start_time": "2023-05-19T15:32:11.881Z"
   },
   {
    "duration": 33,
    "start_time": "2023-05-19T15:32:11.892Z"
   },
   {
    "duration": 6,
    "start_time": "2023-05-19T15:32:11.926Z"
   },
   {
    "duration": 172,
    "start_time": "2023-05-19T15:32:11.934Z"
   },
   {
    "duration": 5,
    "start_time": "2023-05-19T15:32:12.108Z"
   },
   {
    "duration": 14,
    "start_time": "2023-05-19T15:32:12.125Z"
   },
   {
    "duration": 189,
    "start_time": "2023-05-19T15:32:12.141Z"
   },
   {
    "duration": 5,
    "start_time": "2023-05-19T15:32:12.332Z"
   },
   {
    "duration": 93,
    "start_time": "2023-05-19T15:32:12.339Z"
   },
   {
    "duration": 99,
    "start_time": "2023-05-19T15:32:12.434Z"
   },
   {
    "duration": 8,
    "start_time": "2023-05-19T15:32:12.536Z"
   },
   {
    "duration": 14,
    "start_time": "2023-05-19T15:32:12.546Z"
   },
   {
    "duration": 162,
    "start_time": "2023-05-19T15:32:12.562Z"
   },
   {
    "duration": 62,
    "start_time": "2023-05-19T15:32:12.726Z"
   },
   {
    "duration": 39,
    "start_time": "2023-05-19T15:32:12.790Z"
   },
   {
    "duration": 45,
    "start_time": "2023-05-19T15:32:12.831Z"
   },
   {
    "duration": 97,
    "start_time": "2023-05-19T15:32:12.878Z"
   },
   {
    "duration": 23,
    "start_time": "2023-05-19T15:32:12.977Z"
   },
   {
    "duration": 25,
    "start_time": "2023-05-19T15:32:13.002Z"
   },
   {
    "duration": 7,
    "start_time": "2023-05-19T15:32:13.029Z"
   },
   {
    "duration": 32,
    "start_time": "2023-05-19T15:32:13.038Z"
   },
   {
    "duration": 14,
    "start_time": "2023-05-19T15:32:13.072Z"
   },
   {
    "duration": 5,
    "start_time": "2023-05-19T15:32:13.088Z"
   },
   {
    "duration": 31,
    "start_time": "2023-05-19T15:32:13.095Z"
   },
   {
    "duration": 9,
    "start_time": "2023-05-19T15:32:13.128Z"
   },
   {
    "duration": 8,
    "start_time": "2023-05-19T15:32:13.139Z"
   },
   {
    "duration": 8,
    "start_time": "2023-05-19T15:32:13.149Z"
   },
   {
    "duration": 28,
    "start_time": "2023-05-19T15:32:13.158Z"
   },
   {
    "duration": 13,
    "start_time": "2023-05-19T15:32:13.188Z"
   },
   {
    "duration": 29,
    "start_time": "2023-05-19T15:32:13.203Z"
   },
   {
    "duration": 48,
    "start_time": "2023-05-19T15:33:37.719Z"
   },
   {
    "duration": 1174,
    "start_time": "2023-05-19T15:34:30.040Z"
   },
   {
    "duration": 77,
    "start_time": "2023-05-19T15:34:31.216Z"
   },
   {
    "duration": 12,
    "start_time": "2023-05-19T15:34:31.295Z"
   },
   {
    "duration": 13,
    "start_time": "2023-05-19T15:34:31.309Z"
   },
   {
    "duration": 27,
    "start_time": "2023-05-19T15:34:31.323Z"
   },
   {
    "duration": 23,
    "start_time": "2023-05-19T15:34:31.354Z"
   },
   {
    "duration": 28,
    "start_time": "2023-05-19T15:34:31.379Z"
   },
   {
    "duration": 45,
    "start_time": "2023-05-19T15:34:31.409Z"
   },
   {
    "duration": 25,
    "start_time": "2023-05-19T15:34:31.456Z"
   },
   {
    "duration": 24,
    "start_time": "2023-05-19T15:34:31.485Z"
   },
   {
    "duration": 17,
    "start_time": "2023-05-19T15:34:31.511Z"
   },
   {
    "duration": 18,
    "start_time": "2023-05-19T15:34:31.530Z"
   },
   {
    "duration": 61,
    "start_time": "2023-05-19T15:34:31.550Z"
   },
   {
    "duration": 5,
    "start_time": "2023-05-19T15:34:31.613Z"
   },
   {
    "duration": 23,
    "start_time": "2023-05-19T15:34:31.619Z"
   },
   {
    "duration": 36,
    "start_time": "2023-05-19T15:34:31.644Z"
   },
   {
    "duration": 6,
    "start_time": "2023-05-19T15:34:31.683Z"
   },
   {
    "duration": 58,
    "start_time": "2023-05-19T15:34:31.691Z"
   },
   {
    "duration": 0,
    "start_time": "2023-05-19T15:34:31.752Z"
   },
   {
    "duration": 0,
    "start_time": "2023-05-19T15:34:31.754Z"
   },
   {
    "duration": 0,
    "start_time": "2023-05-19T15:34:31.755Z"
   },
   {
    "duration": 0,
    "start_time": "2023-05-19T15:34:31.756Z"
   },
   {
    "duration": 0,
    "start_time": "2023-05-19T15:34:31.758Z"
   },
   {
    "duration": 0,
    "start_time": "2023-05-19T15:34:31.760Z"
   },
   {
    "duration": 0,
    "start_time": "2023-05-19T15:34:31.761Z"
   },
   {
    "duration": 0,
    "start_time": "2023-05-19T15:34:31.763Z"
   },
   {
    "duration": 0,
    "start_time": "2023-05-19T15:34:31.765Z"
   },
   {
    "duration": 0,
    "start_time": "2023-05-19T15:34:31.766Z"
   },
   {
    "duration": 0,
    "start_time": "2023-05-19T15:34:31.768Z"
   },
   {
    "duration": 0,
    "start_time": "2023-05-19T15:34:31.769Z"
   },
   {
    "duration": 0,
    "start_time": "2023-05-19T15:34:31.770Z"
   },
   {
    "duration": 0,
    "start_time": "2023-05-19T15:34:31.772Z"
   },
   {
    "duration": 0,
    "start_time": "2023-05-19T15:34:31.773Z"
   },
   {
    "duration": 0,
    "start_time": "2023-05-19T15:34:31.775Z"
   },
   {
    "duration": 0,
    "start_time": "2023-05-19T15:34:31.776Z"
   },
   {
    "duration": 0,
    "start_time": "2023-05-19T15:34:31.778Z"
   },
   {
    "duration": 0,
    "start_time": "2023-05-19T15:34:31.779Z"
   },
   {
    "duration": 0,
    "start_time": "2023-05-19T15:34:31.780Z"
   },
   {
    "duration": 0,
    "start_time": "2023-05-19T15:34:31.781Z"
   },
   {
    "duration": 0,
    "start_time": "2023-05-19T15:34:31.783Z"
   },
   {
    "duration": 0,
    "start_time": "2023-05-19T15:34:31.784Z"
   },
   {
    "duration": 0,
    "start_time": "2023-05-19T15:34:31.785Z"
   },
   {
    "duration": 0,
    "start_time": "2023-05-19T15:34:31.786Z"
   },
   {
    "duration": 0,
    "start_time": "2023-05-19T15:34:31.825Z"
   },
   {
    "duration": 0,
    "start_time": "2023-05-19T15:34:31.826Z"
   },
   {
    "duration": 0,
    "start_time": "2023-05-19T15:34:31.827Z"
   },
   {
    "duration": 0,
    "start_time": "2023-05-19T15:34:31.829Z"
   },
   {
    "duration": 0,
    "start_time": "2023-05-19T15:34:31.830Z"
   },
   {
    "duration": 0,
    "start_time": "2023-05-19T15:34:31.832Z"
   },
   {
    "duration": 0,
    "start_time": "2023-05-19T15:34:31.833Z"
   },
   {
    "duration": 0,
    "start_time": "2023-05-19T15:34:31.834Z"
   },
   {
    "duration": 0,
    "start_time": "2023-05-19T15:34:31.836Z"
   },
   {
    "duration": 0,
    "start_time": "2023-05-19T15:34:31.837Z"
   },
   {
    "duration": 0,
    "start_time": "2023-05-19T15:34:31.838Z"
   },
   {
    "duration": 0,
    "start_time": "2023-05-19T15:34:31.840Z"
   },
   {
    "duration": 0,
    "start_time": "2023-05-19T15:34:31.841Z"
   },
   {
    "duration": 0,
    "start_time": "2023-05-19T15:34:31.843Z"
   },
   {
    "duration": 0,
    "start_time": "2023-05-19T15:34:31.844Z"
   },
   {
    "duration": 0,
    "start_time": "2023-05-19T15:34:31.846Z"
   },
   {
    "duration": 0,
    "start_time": "2023-05-19T15:34:31.847Z"
   },
   {
    "duration": 0,
    "start_time": "2023-05-19T15:34:31.848Z"
   },
   {
    "duration": 0,
    "start_time": "2023-05-19T15:34:31.850Z"
   },
   {
    "duration": 0,
    "start_time": "2023-05-19T15:34:31.851Z"
   },
   {
    "duration": 0,
    "start_time": "2023-05-19T15:34:31.852Z"
   },
   {
    "duration": 0,
    "start_time": "2023-05-19T15:34:31.853Z"
   },
   {
    "duration": 0,
    "start_time": "2023-05-19T15:34:31.854Z"
   },
   {
    "duration": 0,
    "start_time": "2023-05-19T15:34:31.855Z"
   },
   {
    "duration": 7,
    "start_time": "2023-05-19T15:35:52.369Z"
   },
   {
    "duration": 6,
    "start_time": "2023-05-19T15:37:33.106Z"
   },
   {
    "duration": 9,
    "start_time": "2023-05-19T15:38:19.252Z"
   },
   {
    "duration": 5,
    "start_time": "2023-05-19T15:44:05.205Z"
   },
   {
    "duration": 4,
    "start_time": "2023-05-19T15:45:40.301Z"
   },
   {
    "duration": 826,
    "start_time": "2023-05-19T15:46:31.813Z"
   },
   {
    "duration": 546,
    "start_time": "2023-05-19T15:47:27.214Z"
   },
   {
    "duration": 1072,
    "start_time": "2023-05-19T19:24:01.973Z"
   },
   {
    "duration": 78,
    "start_time": "2023-05-19T19:24:03.047Z"
   },
   {
    "duration": 12,
    "start_time": "2023-05-19T19:24:03.126Z"
   },
   {
    "duration": 12,
    "start_time": "2023-05-19T19:24:03.140Z"
   },
   {
    "duration": 14,
    "start_time": "2023-05-19T19:24:03.153Z"
   },
   {
    "duration": 14,
    "start_time": "2023-05-19T19:24:03.169Z"
   },
   {
    "duration": 21,
    "start_time": "2023-05-19T19:24:03.185Z"
   },
   {
    "duration": 20,
    "start_time": "2023-05-19T19:24:03.207Z"
   },
   {
    "duration": 5,
    "start_time": "2023-05-19T19:24:03.229Z"
   },
   {
    "duration": 12,
    "start_time": "2023-05-19T19:24:03.236Z"
   },
   {
    "duration": 5,
    "start_time": "2023-05-19T19:24:03.249Z"
   },
   {
    "duration": 7,
    "start_time": "2023-05-19T19:24:03.255Z"
   },
   {
    "duration": 72,
    "start_time": "2023-05-19T19:24:03.264Z"
   },
   {
    "duration": 4,
    "start_time": "2023-05-19T19:24:03.337Z"
   },
   {
    "duration": 14,
    "start_time": "2023-05-19T19:24:03.343Z"
   },
   {
    "duration": 22,
    "start_time": "2023-05-19T19:24:03.359Z"
   },
   {
    "duration": 5,
    "start_time": "2023-05-19T19:24:03.383Z"
   },
   {
    "duration": 36,
    "start_time": "2023-05-19T19:24:03.390Z"
   },
   {
    "duration": 8,
    "start_time": "2023-05-19T19:24:03.428Z"
   },
   {
    "duration": 12,
    "start_time": "2023-05-19T19:24:03.437Z"
   },
   {
    "duration": 166,
    "start_time": "2023-05-19T19:24:03.450Z"
   },
   {
    "duration": 128,
    "start_time": "2023-05-19T19:24:03.617Z"
   },
   {
    "duration": 6,
    "start_time": "2023-05-19T19:24:03.747Z"
   },
   {
    "duration": 15,
    "start_time": "2023-05-19T19:24:03.755Z"
   },
   {
    "duration": 14,
    "start_time": "2023-05-19T19:24:03.772Z"
   },
   {
    "duration": 7,
    "start_time": "2023-05-19T19:24:03.787Z"
   },
   {
    "duration": 8,
    "start_time": "2023-05-19T19:24:03.796Z"
   },
   {
    "duration": 289,
    "start_time": "2023-05-19T19:24:03.809Z"
   },
   {
    "duration": 204,
    "start_time": "2023-05-19T19:24:04.100Z"
   },
   {
    "duration": 6,
    "start_time": "2023-05-19T19:24:04.305Z"
   },
   {
    "duration": 329,
    "start_time": "2023-05-19T19:24:04.312Z"
   },
   {
    "duration": 4,
    "start_time": "2023-05-19T19:24:04.642Z"
   },
   {
    "duration": 7,
    "start_time": "2023-05-19T19:24:04.648Z"
   },
   {
    "duration": 236,
    "start_time": "2023-05-19T19:24:04.657Z"
   },
   {
    "duration": 8,
    "start_time": "2023-05-19T19:24:04.894Z"
   },
   {
    "duration": 323,
    "start_time": "2023-05-19T19:24:04.904Z"
   },
   {
    "duration": 11,
    "start_time": "2023-05-19T19:24:05.229Z"
   },
   {
    "duration": 36,
    "start_time": "2023-05-19T19:24:05.241Z"
   },
   {
    "duration": 10,
    "start_time": "2023-05-19T19:24:05.278Z"
   },
   {
    "duration": 25,
    "start_time": "2023-05-19T19:24:05.289Z"
   },
   {
    "duration": 135,
    "start_time": "2023-05-19T19:24:05.316Z"
   },
   {
    "duration": 3,
    "start_time": "2023-05-19T19:24:05.453Z"
   },
   {
    "duration": 28,
    "start_time": "2023-05-19T19:24:05.458Z"
   },
   {
    "duration": 178,
    "start_time": "2023-05-19T19:24:05.487Z"
   },
   {
    "duration": 4,
    "start_time": "2023-05-19T19:24:05.667Z"
   },
   {
    "duration": 80,
    "start_time": "2023-05-19T19:24:05.672Z"
   },
   {
    "duration": 78,
    "start_time": "2023-05-19T19:24:05.754Z"
   },
   {
    "duration": 6,
    "start_time": "2023-05-19T19:24:05.834Z"
   },
   {
    "duration": 22,
    "start_time": "2023-05-19T19:24:05.842Z"
   },
   {
    "duration": 128,
    "start_time": "2023-05-19T19:24:05.866Z"
   },
   {
    "duration": 49,
    "start_time": "2023-05-19T19:24:05.996Z"
   },
   {
    "duration": 35,
    "start_time": "2023-05-19T19:24:06.046Z"
   },
   {
    "duration": 41,
    "start_time": "2023-05-19T19:24:06.083Z"
   },
   {
    "duration": 87,
    "start_time": "2023-05-19T19:24:06.125Z"
   },
   {
    "duration": 27,
    "start_time": "2023-05-19T19:24:06.214Z"
   },
   {
    "duration": 7,
    "start_time": "2023-05-19T19:24:06.242Z"
   },
   {
    "duration": 27,
    "start_time": "2023-05-19T19:24:06.250Z"
   },
   {
    "duration": 32,
    "start_time": "2023-05-19T19:24:06.279Z"
   },
   {
    "duration": 10,
    "start_time": "2023-05-19T19:24:06.313Z"
   },
   {
    "duration": 22,
    "start_time": "2023-05-19T19:24:06.324Z"
   },
   {
    "duration": 19,
    "start_time": "2023-05-19T19:24:06.347Z"
   },
   {
    "duration": 18,
    "start_time": "2023-05-19T19:24:06.368Z"
   },
   {
    "duration": 20,
    "start_time": "2023-05-19T19:24:06.387Z"
   },
   {
    "duration": 19,
    "start_time": "2023-05-19T19:24:06.408Z"
   },
   {
    "duration": 42,
    "start_time": "2023-05-19T19:24:06.428Z"
   },
   {
    "duration": 8,
    "start_time": "2023-05-19T19:24:06.471Z"
   },
   {
    "duration": 28,
    "start_time": "2023-05-19T19:24:06.481Z"
   },
   {
    "duration": 7,
    "start_time": "2023-05-19T19:41:27.551Z"
   },
   {
    "duration": 46,
    "start_time": "2023-05-19T19:46:14.166Z"
   },
   {
    "duration": 53,
    "start_time": "2023-05-19T20:33:21.265Z"
   },
   {
    "duration": 52,
    "start_time": "2023-05-19T20:36:49.980Z"
   },
   {
    "duration": 51,
    "start_time": "2023-05-19T20:39:12.653Z"
   },
   {
    "duration": 5,
    "start_time": "2023-05-19T20:46:02.541Z"
   },
   {
    "duration": 5,
    "start_time": "2023-05-19T20:46:20.430Z"
   },
   {
    "duration": 5,
    "start_time": "2023-05-19T20:46:41.113Z"
   },
   {
    "duration": 45,
    "start_time": "2023-05-19T20:52:16.194Z"
   },
   {
    "duration": 6,
    "start_time": "2023-05-19T20:55:46.503Z"
   },
   {
    "duration": 4,
    "start_time": "2023-05-19T20:55:50.640Z"
   },
   {
    "duration": 22,
    "start_time": "2023-05-19T20:55:52.264Z"
   },
   {
    "duration": 55,
    "start_time": "2023-05-20T08:37:27.219Z"
   },
   {
    "duration": 1647,
    "start_time": "2023-05-20T08:37:36.234Z"
   },
   {
    "duration": 278,
    "start_time": "2023-05-20T08:37:37.883Z"
   },
   {
    "duration": 18,
    "start_time": "2023-05-20T08:37:38.163Z"
   },
   {
    "duration": 8,
    "start_time": "2023-05-20T08:37:38.183Z"
   },
   {
    "duration": 45,
    "start_time": "2023-05-20T08:37:38.194Z"
   },
   {
    "duration": 16,
    "start_time": "2023-05-20T08:37:38.241Z"
   },
   {
    "duration": 21,
    "start_time": "2023-05-20T08:37:38.259Z"
   },
   {
    "duration": 9,
    "start_time": "2023-05-20T08:37:38.282Z"
   },
   {
    "duration": 47,
    "start_time": "2023-05-20T08:37:38.292Z"
   },
   {
    "duration": 14,
    "start_time": "2023-05-20T08:37:38.341Z"
   },
   {
    "duration": 5,
    "start_time": "2023-05-20T08:37:38.357Z"
   },
   {
    "duration": 11,
    "start_time": "2023-05-20T08:37:38.364Z"
   },
   {
    "duration": 71,
    "start_time": "2023-05-20T08:37:38.377Z"
   },
   {
    "duration": 4,
    "start_time": "2023-05-20T08:37:38.454Z"
   },
   {
    "duration": 18,
    "start_time": "2023-05-20T08:37:38.460Z"
   },
   {
    "duration": 45,
    "start_time": "2023-05-20T08:37:38.480Z"
   },
   {
    "duration": 25,
    "start_time": "2023-05-20T08:37:38.527Z"
   },
   {
    "duration": 10,
    "start_time": "2023-05-20T08:37:38.554Z"
   },
   {
    "duration": 7,
    "start_time": "2023-05-20T08:37:38.566Z"
   },
   {
    "duration": 95,
    "start_time": "2023-05-20T08:37:38.575Z"
   },
   {
    "duration": 0,
    "start_time": "2023-05-20T08:37:38.673Z"
   },
   {
    "duration": 0,
    "start_time": "2023-05-20T08:37:38.675Z"
   },
   {
    "duration": 0,
    "start_time": "2023-05-20T08:37:38.677Z"
   },
   {
    "duration": 0,
    "start_time": "2023-05-20T08:37:38.678Z"
   },
   {
    "duration": 0,
    "start_time": "2023-05-20T08:37:38.680Z"
   },
   {
    "duration": 0,
    "start_time": "2023-05-20T08:37:38.681Z"
   },
   {
    "duration": 0,
    "start_time": "2023-05-20T08:37:38.684Z"
   },
   {
    "duration": 0,
    "start_time": "2023-05-20T08:37:38.685Z"
   },
   {
    "duration": 0,
    "start_time": "2023-05-20T08:37:38.687Z"
   },
   {
    "duration": 0,
    "start_time": "2023-05-20T08:37:38.688Z"
   },
   {
    "duration": 0,
    "start_time": "2023-05-20T08:37:38.689Z"
   },
   {
    "duration": 0,
    "start_time": "2023-05-20T08:37:38.691Z"
   },
   {
    "duration": 0,
    "start_time": "2023-05-20T08:37:38.692Z"
   },
   {
    "duration": 0,
    "start_time": "2023-05-20T08:37:38.694Z"
   },
   {
    "duration": 0,
    "start_time": "2023-05-20T08:37:38.697Z"
   },
   {
    "duration": 0,
    "start_time": "2023-05-20T08:37:38.698Z"
   },
   {
    "duration": 0,
    "start_time": "2023-05-20T08:37:38.699Z"
   },
   {
    "duration": 0,
    "start_time": "2023-05-20T08:37:38.700Z"
   },
   {
    "duration": 0,
    "start_time": "2023-05-20T08:37:38.701Z"
   },
   {
    "duration": 0,
    "start_time": "2023-05-20T08:37:38.705Z"
   },
   {
    "duration": 0,
    "start_time": "2023-05-20T08:37:38.706Z"
   },
   {
    "duration": 0,
    "start_time": "2023-05-20T08:37:38.707Z"
   },
   {
    "duration": 0,
    "start_time": "2023-05-20T08:37:38.708Z"
   },
   {
    "duration": 0,
    "start_time": "2023-05-20T08:37:38.709Z"
   },
   {
    "duration": 0,
    "start_time": "2023-05-20T08:37:38.710Z"
   },
   {
    "duration": 0,
    "start_time": "2023-05-20T08:37:38.714Z"
   },
   {
    "duration": 0,
    "start_time": "2023-05-20T08:37:38.715Z"
   },
   {
    "duration": 0,
    "start_time": "2023-05-20T08:37:38.718Z"
   },
   {
    "duration": 0,
    "start_time": "2023-05-20T08:37:38.719Z"
   },
   {
    "duration": 0,
    "start_time": "2023-05-20T08:37:38.719Z"
   },
   {
    "duration": 0,
    "start_time": "2023-05-20T08:37:38.720Z"
   },
   {
    "duration": 0,
    "start_time": "2023-05-20T08:37:38.721Z"
   },
   {
    "duration": 0,
    "start_time": "2023-05-20T08:37:38.722Z"
   },
   {
    "duration": 0,
    "start_time": "2023-05-20T08:37:38.724Z"
   },
   {
    "duration": 0,
    "start_time": "2023-05-20T08:37:38.727Z"
   },
   {
    "duration": 0,
    "start_time": "2023-05-20T08:37:38.728Z"
   },
   {
    "duration": 0,
    "start_time": "2023-05-20T08:37:38.729Z"
   },
   {
    "duration": 0,
    "start_time": "2023-05-20T08:37:38.730Z"
   },
   {
    "duration": 0,
    "start_time": "2023-05-20T08:37:38.731Z"
   },
   {
    "duration": 0,
    "start_time": "2023-05-20T08:37:38.732Z"
   },
   {
    "duration": 0,
    "start_time": "2023-05-20T08:37:38.739Z"
   },
   {
    "duration": 0,
    "start_time": "2023-05-20T08:37:38.739Z"
   },
   {
    "duration": 0,
    "start_time": "2023-05-20T08:37:38.740Z"
   },
   {
    "duration": 0,
    "start_time": "2023-05-20T08:37:38.741Z"
   },
   {
    "duration": 0,
    "start_time": "2023-05-20T08:37:38.742Z"
   },
   {
    "duration": 0,
    "start_time": "2023-05-20T08:37:38.750Z"
   },
   {
    "duration": 0,
    "start_time": "2023-05-20T08:37:38.751Z"
   },
   {
    "duration": 7,
    "start_time": "2023-05-20T08:44:27.468Z"
   },
   {
    "duration": 11,
    "start_time": "2023-05-20T08:45:48.278Z"
   },
   {
    "duration": 7,
    "start_time": "2023-05-20T08:46:14.155Z"
   },
   {
    "duration": 13,
    "start_time": "2023-05-20T08:55:45.421Z"
   },
   {
    "duration": 153,
    "start_time": "2023-05-20T09:16:40.950Z"
   },
   {
    "duration": 1350,
    "start_time": "2023-05-20T09:17:33.319Z"
   },
   {
    "duration": 16,
    "start_time": "2023-05-20T09:20:46.450Z"
   },
   {
    "duration": 10,
    "start_time": "2023-05-20T09:21:04.860Z"
   },
   {
    "duration": 1503,
    "start_time": "2023-05-20T10:56:26.580Z"
   },
   {
    "duration": 135,
    "start_time": "2023-05-20T10:56:28.089Z"
   },
   {
    "duration": 22,
    "start_time": "2023-05-20T10:56:28.226Z"
   },
   {
    "duration": 15,
    "start_time": "2023-05-20T10:56:28.256Z"
   },
   {
    "duration": 15,
    "start_time": "2023-05-20T10:56:28.273Z"
   },
   {
    "duration": 82,
    "start_time": "2023-05-20T10:56:28.290Z"
   },
   {
    "duration": 18,
    "start_time": "2023-05-20T10:56:28.375Z"
   },
   {
    "duration": 14,
    "start_time": "2023-05-20T10:56:28.400Z"
   },
   {
    "duration": 49,
    "start_time": "2023-05-20T10:56:28.416Z"
   },
   {
    "duration": 18,
    "start_time": "2023-05-20T10:56:28.467Z"
   },
   {
    "duration": 27,
    "start_time": "2023-05-20T10:56:28.486Z"
   },
   {
    "duration": 39,
    "start_time": "2023-05-20T10:56:28.516Z"
   },
   {
    "duration": 68,
    "start_time": "2023-05-20T10:56:28.557Z"
   },
   {
    "duration": 8,
    "start_time": "2023-05-20T10:56:28.628Z"
   },
   {
    "duration": 31,
    "start_time": "2023-05-20T10:56:28.638Z"
   },
   {
    "duration": 22,
    "start_time": "2023-05-20T10:56:28.671Z"
   },
   {
    "duration": 52,
    "start_time": "2023-05-20T10:56:28.699Z"
   },
   {
    "duration": 5,
    "start_time": "2023-05-20T10:56:28.753Z"
   },
   {
    "duration": 6,
    "start_time": "2023-05-20T10:56:28.760Z"
   },
   {
    "duration": 6,
    "start_time": "2023-05-20T10:56:28.768Z"
   },
   {
    "duration": 11,
    "start_time": "2023-05-20T10:56:28.775Z"
   },
   {
    "duration": 12,
    "start_time": "2023-05-20T10:56:28.788Z"
   },
   {
    "duration": 290,
    "start_time": "2023-05-20T10:56:28.802Z"
   },
   {
    "duration": 129,
    "start_time": "2023-05-20T10:56:29.094Z"
   },
   {
    "duration": 7,
    "start_time": "2023-05-20T10:56:29.225Z"
   },
   {
    "duration": 23,
    "start_time": "2023-05-20T10:56:29.233Z"
   },
   {
    "duration": 11,
    "start_time": "2023-05-20T10:56:29.258Z"
   },
   {
    "duration": 4,
    "start_time": "2023-05-20T10:56:29.274Z"
   },
   {
    "duration": 17,
    "start_time": "2023-05-20T10:56:29.280Z"
   },
   {
    "duration": 390,
    "start_time": "2023-05-20T10:56:29.301Z"
   },
   {
    "duration": 296,
    "start_time": "2023-05-20T10:56:29.693Z"
   },
   {
    "duration": 11,
    "start_time": "2023-05-20T10:56:29.990Z"
   },
   {
    "duration": 475,
    "start_time": "2023-05-20T10:56:30.003Z"
   },
   {
    "duration": 5,
    "start_time": "2023-05-20T10:56:30.481Z"
   },
   {
    "duration": 99,
    "start_time": "2023-05-20T10:56:30.488Z"
   },
   {
    "duration": 387,
    "start_time": "2023-05-20T10:56:30.589Z"
   },
   {
    "duration": 8,
    "start_time": "2023-05-20T10:56:30.978Z"
   },
   {
    "duration": 407,
    "start_time": "2023-05-20T10:56:30.988Z"
   },
   {
    "duration": 24,
    "start_time": "2023-05-20T10:56:31.397Z"
   },
   {
    "duration": 47,
    "start_time": "2023-05-20T10:56:31.423Z"
   },
   {
    "duration": 11,
    "start_time": "2023-05-20T10:56:31.472Z"
   },
   {
    "duration": 287,
    "start_time": "2023-05-20T10:56:31.485Z"
   },
   {
    "duration": 5,
    "start_time": "2023-05-20T10:56:31.775Z"
   },
   {
    "duration": 74,
    "start_time": "2023-05-20T10:56:31.782Z"
   },
   {
    "duration": 385,
    "start_time": "2023-05-20T10:56:31.858Z"
   },
   {
    "duration": 15,
    "start_time": "2023-05-20T10:56:32.247Z"
   },
   {
    "duration": 102,
    "start_time": "2023-05-20T10:56:32.264Z"
   },
   {
    "duration": 110,
    "start_time": "2023-05-20T10:56:32.368Z"
   },
   {
    "duration": 9,
    "start_time": "2023-05-20T10:56:32.479Z"
   },
   {
    "duration": 73,
    "start_time": "2023-05-20T10:56:32.489Z"
   },
   {
    "duration": 197,
    "start_time": "2023-05-20T10:56:32.564Z"
   },
   {
    "duration": 54,
    "start_time": "2023-05-20T10:56:32.763Z"
   },
   {
    "duration": 50,
    "start_time": "2023-05-20T10:56:32.825Z"
   },
   {
    "duration": 130,
    "start_time": "2023-05-20T10:56:32.877Z"
   },
   {
    "duration": 31,
    "start_time": "2023-05-20T10:56:33.012Z"
   },
   {
    "duration": 10,
    "start_time": "2023-05-20T10:56:33.050Z"
   },
   {
    "duration": 9,
    "start_time": "2023-05-20T10:56:33.062Z"
   },
   {
    "duration": 44,
    "start_time": "2023-05-20T10:56:33.073Z"
   },
   {
    "duration": 13,
    "start_time": "2023-05-20T10:56:33.119Z"
   },
   {
    "duration": 24,
    "start_time": "2023-05-20T10:56:33.134Z"
   },
   {
    "duration": 7,
    "start_time": "2023-05-20T10:56:33.160Z"
   },
   {
    "duration": 6,
    "start_time": "2023-05-20T10:56:33.168Z"
   },
   {
    "duration": 8,
    "start_time": "2023-05-20T10:56:33.176Z"
   },
   {
    "duration": 8,
    "start_time": "2023-05-20T10:56:33.186Z"
   },
   {
    "duration": 91,
    "start_time": "2023-05-20T10:56:33.195Z"
   },
   {
    "duration": 92,
    "start_time": "2023-05-20T10:56:33.288Z"
   },
   {
    "duration": 77,
    "start_time": "2023-05-20T10:56:33.382Z"
   },
   {
    "duration": 17,
    "start_time": "2023-05-20T11:16:57.117Z"
   },
   {
    "duration": 6,
    "start_time": "2023-05-20T11:20:46.147Z"
   },
   {
    "duration": 9,
    "start_time": "2023-05-20T11:20:48.815Z"
   },
   {
    "duration": 11,
    "start_time": "2023-05-20T11:21:00.937Z"
   },
   {
    "duration": 6,
    "start_time": "2023-05-20T11:21:02.856Z"
   },
   {
    "duration": 51,
    "start_time": "2023-05-20T11:21:04.588Z"
   },
   {
    "duration": 10,
    "start_time": "2023-05-20T11:21:18.680Z"
   },
   {
    "duration": 17,
    "start_time": "2023-05-20T11:21:20.733Z"
   },
   {
    "duration": 20,
    "start_time": "2023-05-20T11:28:59.861Z"
   },
   {
    "duration": 38,
    "start_time": "2023-05-20T11:31:02.943Z"
   },
   {
    "duration": 84,
    "start_time": "2023-05-20T11:33:00.409Z"
   },
   {
    "duration": 59,
    "start_time": "2023-05-20T11:33:53.614Z"
   },
   {
    "duration": 81,
    "start_time": "2023-05-20T11:36:39.792Z"
   },
   {
    "duration": 12,
    "start_time": "2023-05-20T11:39:09.551Z"
   },
   {
    "duration": 25,
    "start_time": "2023-05-20T11:40:26.527Z"
   },
   {
    "duration": 15,
    "start_time": "2023-05-20T11:42:03.415Z"
   },
   {
    "duration": 246,
    "start_time": "2023-05-20T12:00:23.841Z"
   },
   {
    "duration": 262,
    "start_time": "2023-05-20T12:02:32.817Z"
   },
   {
    "duration": 109,
    "start_time": "2023-05-20T12:10:41.445Z"
   },
   {
    "duration": 79,
    "start_time": "2023-05-20T12:11:08.410Z"
   },
   {
    "duration": 238,
    "start_time": "2023-05-20T12:16:19.734Z"
   },
   {
    "duration": 207,
    "start_time": "2023-05-20T12:19:43.913Z"
   },
   {
    "duration": 280,
    "start_time": "2023-05-20T12:20:15.054Z"
   },
   {
    "duration": 231,
    "start_time": "2023-05-20T12:20:41.052Z"
   },
   {
    "duration": 219,
    "start_time": "2023-05-20T12:23:02.923Z"
   },
   {
    "duration": 271,
    "start_time": "2023-05-20T12:26:21.952Z"
   },
   {
    "duration": 225,
    "start_time": "2023-05-20T12:26:46.243Z"
   },
   {
    "duration": 158,
    "start_time": "2023-05-20T12:27:18.419Z"
   },
   {
    "duration": 69,
    "start_time": "2023-05-20T12:30:25.321Z"
   },
   {
    "duration": 165,
    "start_time": "2023-05-20T12:30:53.733Z"
   },
   {
    "duration": 225,
    "start_time": "2023-05-20T12:31:21.150Z"
   },
   {
    "duration": 34,
    "start_time": "2023-05-20T12:42:15.868Z"
   },
   {
    "duration": 33,
    "start_time": "2023-05-20T12:42:54.443Z"
   },
   {
    "duration": 13,
    "start_time": "2023-05-20T13:13:43.743Z"
   },
   {
    "duration": 1230,
    "start_time": "2023-05-20T16:05:19.409Z"
   },
   {
    "duration": 73,
    "start_time": "2023-05-20T16:05:20.641Z"
   },
   {
    "duration": 11,
    "start_time": "2023-05-20T16:05:20.716Z"
   },
   {
    "duration": 7,
    "start_time": "2023-05-20T16:05:20.729Z"
   },
   {
    "duration": 16,
    "start_time": "2023-05-20T16:05:20.738Z"
   },
   {
    "duration": 13,
    "start_time": "2023-05-20T16:05:20.755Z"
   },
   {
    "duration": 37,
    "start_time": "2023-05-20T16:05:20.769Z"
   },
   {
    "duration": 8,
    "start_time": "2023-05-20T16:05:20.807Z"
   },
   {
    "duration": 7,
    "start_time": "2023-05-20T16:05:20.817Z"
   },
   {
    "duration": 12,
    "start_time": "2023-05-20T16:05:20.827Z"
   },
   {
    "duration": 6,
    "start_time": "2023-05-20T16:05:20.840Z"
   },
   {
    "duration": 9,
    "start_time": "2023-05-20T16:05:20.847Z"
   },
   {
    "duration": 66,
    "start_time": "2023-05-20T16:05:20.857Z"
   },
   {
    "duration": 3,
    "start_time": "2023-05-20T16:05:20.925Z"
   },
   {
    "duration": 25,
    "start_time": "2023-05-20T16:05:20.929Z"
   },
   {
    "duration": 30,
    "start_time": "2023-05-20T16:05:20.955Z"
   },
   {
    "duration": 17,
    "start_time": "2023-05-20T16:05:20.987Z"
   },
   {
    "duration": 8,
    "start_time": "2023-05-20T16:05:21.005Z"
   },
   {
    "duration": 6,
    "start_time": "2023-05-20T16:05:21.014Z"
   },
   {
    "duration": 12,
    "start_time": "2023-05-20T16:05:21.022Z"
   },
   {
    "duration": 7,
    "start_time": "2023-05-20T16:05:21.036Z"
   },
   {
    "duration": 9,
    "start_time": "2023-05-20T16:05:21.045Z"
   },
   {
    "duration": 174,
    "start_time": "2023-05-20T16:05:21.056Z"
   },
   {
    "duration": 134,
    "start_time": "2023-05-20T16:05:21.232Z"
   },
   {
    "duration": 6,
    "start_time": "2023-05-20T16:05:21.368Z"
   },
   {
    "duration": 6,
    "start_time": "2023-05-20T16:05:21.376Z"
   },
   {
    "duration": 18,
    "start_time": "2023-05-20T16:05:21.383Z"
   },
   {
    "duration": 5,
    "start_time": "2023-05-20T16:05:21.404Z"
   },
   {
    "duration": 11,
    "start_time": "2023-05-20T16:05:21.410Z"
   },
   {
    "duration": 313,
    "start_time": "2023-05-20T16:05:21.422Z"
   },
   {
    "duration": 232,
    "start_time": "2023-05-20T16:05:21.737Z"
   },
   {
    "duration": 6,
    "start_time": "2023-05-20T16:05:21.970Z"
   },
   {
    "duration": 370,
    "start_time": "2023-05-20T16:05:21.977Z"
   },
   {
    "duration": 4,
    "start_time": "2023-05-20T16:05:22.348Z"
   },
   {
    "duration": 11,
    "start_time": "2023-05-20T16:05:22.354Z"
   },
   {
    "duration": 249,
    "start_time": "2023-05-20T16:05:22.366Z"
   },
   {
    "duration": 9,
    "start_time": "2023-05-20T16:05:22.616Z"
   },
   {
    "duration": 304,
    "start_time": "2023-05-20T16:05:22.626Z"
   },
   {
    "duration": 8,
    "start_time": "2023-05-20T16:05:22.932Z"
   },
   {
    "duration": 3,
    "start_time": "2023-05-20T16:05:22.942Z"
   },
   {
    "duration": 159,
    "start_time": "2023-05-20T16:05:22.947Z"
   },
   {
    "duration": 4,
    "start_time": "2023-05-20T16:05:23.108Z"
   },
   {
    "duration": 10,
    "start_time": "2023-05-20T16:05:23.114Z"
   },
   {
    "duration": 183,
    "start_time": "2023-05-20T16:05:23.126Z"
   },
   {
    "duration": 4,
    "start_time": "2023-05-20T16:05:23.311Z"
   },
   {
    "duration": 80,
    "start_time": "2023-05-20T16:05:23.317Z"
   },
   {
    "duration": 71,
    "start_time": "2023-05-20T16:05:23.398Z"
   },
   {
    "duration": 7,
    "start_time": "2023-05-20T16:05:23.470Z"
   },
   {
    "duration": 21,
    "start_time": "2023-05-20T16:05:23.478Z"
   },
   {
    "duration": 121,
    "start_time": "2023-05-20T16:05:23.501Z"
   },
   {
    "duration": 43,
    "start_time": "2023-05-20T16:05:23.624Z"
   },
   {
    "duration": 31,
    "start_time": "2023-05-20T16:05:23.669Z"
   },
   {
    "duration": 93,
    "start_time": "2023-05-20T16:05:23.702Z"
   },
   {
    "duration": 18,
    "start_time": "2023-05-20T16:05:23.797Z"
   },
   {
    "duration": 5,
    "start_time": "2023-05-20T16:05:23.817Z"
   },
   {
    "duration": 4,
    "start_time": "2023-05-20T16:05:23.823Z"
   },
   {
    "duration": 25,
    "start_time": "2023-05-20T16:05:23.829Z"
   },
   {
    "duration": 9,
    "start_time": "2023-05-20T16:05:23.855Z"
   },
   {
    "duration": 30,
    "start_time": "2023-05-20T16:05:23.866Z"
   },
   {
    "duration": 4,
    "start_time": "2023-05-20T16:05:23.897Z"
   },
   {
    "duration": 22,
    "start_time": "2023-05-20T16:05:23.903Z"
   },
   {
    "duration": 15,
    "start_time": "2023-05-20T16:05:23.927Z"
   },
   {
    "duration": 9,
    "start_time": "2023-05-20T16:05:23.944Z"
   },
   {
    "duration": 27,
    "start_time": "2023-05-20T16:05:23.954Z"
   },
   {
    "duration": 6,
    "start_time": "2023-05-20T16:05:23.983Z"
   },
   {
    "duration": 9,
    "start_time": "2023-05-20T16:05:23.991Z"
   },
   {
    "duration": 1137,
    "start_time": "2023-05-20T16:17:46.269Z"
   },
   {
    "duration": 73,
    "start_time": "2023-05-20T16:17:47.409Z"
   },
   {
    "duration": 22,
    "start_time": "2023-05-20T16:17:47.484Z"
   },
   {
    "duration": 6,
    "start_time": "2023-05-20T16:17:47.509Z"
   },
   {
    "duration": 15,
    "start_time": "2023-05-20T16:17:47.517Z"
   },
   {
    "duration": 11,
    "start_time": "2023-05-20T16:17:47.533Z"
   },
   {
    "duration": 19,
    "start_time": "2023-05-20T16:17:47.545Z"
   },
   {
    "duration": 9,
    "start_time": "2023-05-20T16:17:47.566Z"
   },
   {
    "duration": 7,
    "start_time": "2023-05-20T16:17:47.596Z"
   },
   {
    "duration": 14,
    "start_time": "2023-05-20T16:17:47.613Z"
   },
   {
    "duration": 4,
    "start_time": "2023-05-20T16:17:47.629Z"
   },
   {
    "duration": 7,
    "start_time": "2023-05-20T16:17:47.634Z"
   },
   {
    "duration": 66,
    "start_time": "2023-05-20T16:17:47.642Z"
   },
   {
    "duration": 4,
    "start_time": "2023-05-20T16:17:47.710Z"
   },
   {
    "duration": 15,
    "start_time": "2023-05-20T16:17:47.716Z"
   },
   {
    "duration": 25,
    "start_time": "2023-05-20T16:17:47.732Z"
   },
   {
    "duration": 8,
    "start_time": "2023-05-20T16:17:47.759Z"
   },
   {
    "duration": 38,
    "start_time": "2023-05-20T16:17:47.769Z"
   },
   {
    "duration": 8,
    "start_time": "2023-05-20T16:17:47.808Z"
   },
   {
    "duration": 8,
    "start_time": "2023-05-20T16:17:47.817Z"
   },
   {
    "duration": 12,
    "start_time": "2023-05-20T16:17:47.827Z"
   },
   {
    "duration": 8,
    "start_time": "2023-05-20T16:17:47.840Z"
   },
   {
    "duration": 176,
    "start_time": "2023-05-20T16:17:47.850Z"
   },
   {
    "duration": 129,
    "start_time": "2023-05-20T16:17:48.027Z"
   },
   {
    "duration": 6,
    "start_time": "2023-05-20T16:17:48.158Z"
   },
   {
    "duration": 20,
    "start_time": "2023-05-20T16:17:48.165Z"
   },
   {
    "duration": 46,
    "start_time": "2023-05-20T16:17:48.186Z"
   },
   {
    "duration": 15,
    "start_time": "2023-05-20T16:17:48.236Z"
   },
   {
    "duration": 15,
    "start_time": "2023-05-20T16:17:48.253Z"
   },
   {
    "duration": 303,
    "start_time": "2023-05-20T16:17:48.269Z"
   },
   {
    "duration": 217,
    "start_time": "2023-05-20T16:17:48.573Z"
   },
   {
    "duration": 18,
    "start_time": "2023-05-20T16:17:48.791Z"
   },
   {
    "duration": 324,
    "start_time": "2023-05-20T16:17:48.810Z"
   },
   {
    "duration": 4,
    "start_time": "2023-05-20T16:17:49.136Z"
   },
   {
    "duration": 6,
    "start_time": "2023-05-20T16:17:49.142Z"
   },
   {
    "duration": 220,
    "start_time": "2023-05-20T16:17:49.149Z"
   },
   {
    "duration": 7,
    "start_time": "2023-05-20T16:17:49.371Z"
   },
   {
    "duration": 336,
    "start_time": "2023-05-20T16:17:49.379Z"
   },
   {
    "duration": 8,
    "start_time": "2023-05-20T16:17:49.716Z"
   },
   {
    "duration": 12,
    "start_time": "2023-05-20T16:17:49.725Z"
   },
   {
    "duration": 146,
    "start_time": "2023-05-20T16:17:49.739Z"
   },
   {
    "duration": 4,
    "start_time": "2023-05-20T16:17:49.886Z"
   },
   {
    "duration": 21,
    "start_time": "2023-05-20T16:17:49.899Z"
   },
   {
    "duration": 161,
    "start_time": "2023-05-20T16:17:49.921Z"
   },
   {
    "duration": 5,
    "start_time": "2023-05-20T16:17:50.083Z"
   },
   {
    "duration": 78,
    "start_time": "2023-05-20T16:17:50.090Z"
   },
   {
    "duration": 90,
    "start_time": "2023-05-20T16:17:50.170Z"
   },
   {
    "duration": 7,
    "start_time": "2023-05-20T16:17:50.261Z"
   },
   {
    "duration": 17,
    "start_time": "2023-05-20T16:17:50.269Z"
   },
   {
    "duration": 158,
    "start_time": "2023-05-20T16:17:50.287Z"
   },
   {
    "duration": 60,
    "start_time": "2023-05-20T16:17:50.447Z"
   },
   {
    "duration": 28,
    "start_time": "2023-05-20T16:17:50.508Z"
   },
   {
    "duration": 90,
    "start_time": "2023-05-20T16:17:50.537Z"
   },
   {
    "duration": 26,
    "start_time": "2023-05-20T16:17:50.629Z"
   },
   {
    "duration": 5,
    "start_time": "2023-05-20T16:17:50.657Z"
   },
   {
    "duration": 5,
    "start_time": "2023-05-20T16:17:50.664Z"
   },
   {
    "duration": 37,
    "start_time": "2023-05-20T16:17:50.671Z"
   },
   {
    "duration": 10,
    "start_time": "2023-05-20T16:17:50.710Z"
   },
   {
    "duration": 5,
    "start_time": "2023-05-20T16:17:50.721Z"
   },
   {
    "duration": 18,
    "start_time": "2023-05-20T16:17:50.728Z"
   },
   {
    "duration": 20,
    "start_time": "2023-05-20T16:17:50.747Z"
   },
   {
    "duration": 21,
    "start_time": "2023-05-20T16:17:50.768Z"
   },
   {
    "duration": 31,
    "start_time": "2023-05-20T16:17:50.791Z"
   },
   {
    "duration": 32,
    "start_time": "2023-05-20T16:17:50.824Z"
   },
   {
    "duration": 8,
    "start_time": "2023-05-20T16:17:50.858Z"
   },
   {
    "duration": 30,
    "start_time": "2023-05-20T16:17:50.868Z"
   },
   {
    "duration": 7,
    "start_time": "2023-05-21T07:18:23.819Z"
   },
   {
    "duration": 8,
    "start_time": "2023-05-21T07:18:28.567Z"
   },
   {
    "duration": 103,
    "start_time": "2023-05-21T07:18:44.762Z"
   },
   {
    "duration": 12,
    "start_time": "2023-05-21T07:18:59.686Z"
   },
   {
    "duration": 10,
    "start_time": "2023-05-21T07:19:04.396Z"
   },
   {
    "duration": 8,
    "start_time": "2023-05-21T07:19:15.090Z"
   },
   {
    "duration": 14,
    "start_time": "2023-05-21T07:19:21.736Z"
   },
   {
    "duration": 7,
    "start_time": "2023-05-21T07:19:28.288Z"
   },
   {
    "duration": 6,
    "start_time": "2023-05-21T07:19:40.158Z"
   },
   {
    "duration": 7,
    "start_time": "2023-05-21T07:19:45.374Z"
   },
   {
    "duration": 1162,
    "start_time": "2023-05-21T07:38:39.174Z"
   },
   {
    "duration": 86,
    "start_time": "2023-05-21T07:38:40.338Z"
   },
   {
    "duration": 11,
    "start_time": "2023-05-21T07:38:40.426Z"
   },
   {
    "duration": 10,
    "start_time": "2023-05-21T07:38:40.439Z"
   },
   {
    "duration": 34,
    "start_time": "2023-05-21T07:38:40.451Z"
   },
   {
    "duration": 13,
    "start_time": "2023-05-21T07:38:40.487Z"
   },
   {
    "duration": 18,
    "start_time": "2023-05-21T07:38:40.501Z"
   },
   {
    "duration": 7,
    "start_time": "2023-05-21T07:38:40.521Z"
   },
   {
    "duration": 4,
    "start_time": "2023-05-21T07:38:40.529Z"
   },
   {
    "duration": 10,
    "start_time": "2023-05-21T07:38:40.534Z"
   },
   {
    "duration": 4,
    "start_time": "2023-05-21T07:38:40.546Z"
   },
   {
    "duration": 28,
    "start_time": "2023-05-21T07:38:40.551Z"
   },
   {
    "duration": 47,
    "start_time": "2023-05-21T07:38:40.581Z"
   },
   {
    "duration": 3,
    "start_time": "2023-05-21T07:38:40.631Z"
   },
   {
    "duration": 12,
    "start_time": "2023-05-21T07:38:40.636Z"
   },
   {
    "duration": 42,
    "start_time": "2023-05-21T07:38:40.649Z"
   },
   {
    "duration": 5,
    "start_time": "2023-05-21T07:38:40.693Z"
   },
   {
    "duration": 5,
    "start_time": "2023-05-21T07:38:40.699Z"
   },
   {
    "duration": 6,
    "start_time": "2023-05-21T07:38:40.706Z"
   },
   {
    "duration": 5,
    "start_time": "2023-05-21T07:38:40.713Z"
   },
   {
    "duration": 7,
    "start_time": "2023-05-21T07:38:40.719Z"
   },
   {
    "duration": 8,
    "start_time": "2023-05-21T07:38:40.727Z"
   },
   {
    "duration": 218,
    "start_time": "2023-05-21T07:38:40.737Z"
   },
   {
    "duration": 129,
    "start_time": "2023-05-21T07:38:40.956Z"
   },
   {
    "duration": 6,
    "start_time": "2023-05-21T07:38:41.087Z"
   },
   {
    "duration": 4,
    "start_time": "2023-05-21T07:38:41.095Z"
   },
   {
    "duration": 11,
    "start_time": "2023-05-21T07:38:41.101Z"
   },
   {
    "duration": 6,
    "start_time": "2023-05-21T07:38:41.113Z"
   },
   {
    "duration": 5,
    "start_time": "2023-05-21T07:38:41.120Z"
   },
   {
    "duration": 339,
    "start_time": "2023-05-21T07:38:41.127Z"
   },
   {
    "duration": 222,
    "start_time": "2023-05-21T07:38:41.467Z"
   },
   {
    "duration": 6,
    "start_time": "2023-05-21T07:38:41.691Z"
   },
   {
    "duration": 427,
    "start_time": "2023-05-21T07:38:41.698Z"
   },
   {
    "duration": 5,
    "start_time": "2023-05-21T07:38:42.127Z"
   },
   {
    "duration": 11,
    "start_time": "2023-05-21T07:38:42.134Z"
   },
   {
    "duration": 276,
    "start_time": "2023-05-21T07:38:42.146Z"
   },
   {
    "duration": 8,
    "start_time": "2023-05-21T07:38:42.423Z"
   },
   {
    "duration": 314,
    "start_time": "2023-05-21T07:38:42.432Z"
   },
   {
    "duration": 6,
    "start_time": "2023-05-21T07:38:42.748Z"
   },
   {
    "duration": 11,
    "start_time": "2023-05-21T07:38:42.756Z"
   },
   {
    "duration": 141,
    "start_time": "2023-05-21T07:38:42.774Z"
   },
   {
    "duration": 4,
    "start_time": "2023-05-21T07:38:42.916Z"
   },
   {
    "duration": 22,
    "start_time": "2023-05-21T07:38:42.921Z"
   },
   {
    "duration": 170,
    "start_time": "2023-05-21T07:38:42.944Z"
   },
   {
    "duration": 4,
    "start_time": "2023-05-21T07:38:43.115Z"
   },
   {
    "duration": 74,
    "start_time": "2023-05-21T07:38:43.121Z"
   },
   {
    "duration": 80,
    "start_time": "2023-05-21T07:38:43.197Z"
   },
   {
    "duration": 6,
    "start_time": "2023-05-21T07:38:43.279Z"
   },
   {
    "duration": 7,
    "start_time": "2023-05-21T07:38:43.287Z"
   },
   {
    "duration": 130,
    "start_time": "2023-05-21T07:38:43.296Z"
   },
   {
    "duration": 53,
    "start_time": "2023-05-21T07:38:43.428Z"
   },
   {
    "duration": 35,
    "start_time": "2023-05-21T07:38:43.483Z"
   },
   {
    "duration": 91,
    "start_time": "2023-05-21T07:38:43.520Z"
   },
   {
    "duration": 20,
    "start_time": "2023-05-21T07:38:43.613Z"
   },
   {
    "duration": 6,
    "start_time": "2023-05-21T07:38:43.634Z"
   },
   {
    "duration": 5,
    "start_time": "2023-05-21T07:38:43.642Z"
   },
   {
    "duration": 43,
    "start_time": "2023-05-21T07:38:43.648Z"
   },
   {
    "duration": 10,
    "start_time": "2023-05-21T07:38:43.692Z"
   },
   {
    "duration": 5,
    "start_time": "2023-05-21T07:38:43.703Z"
   },
   {
    "duration": 14,
    "start_time": "2023-05-21T07:38:43.709Z"
   },
   {
    "duration": 6,
    "start_time": "2023-05-21T07:38:43.725Z"
   },
   {
    "duration": 5,
    "start_time": "2023-05-21T07:38:43.732Z"
   },
   {
    "duration": 12,
    "start_time": "2023-05-21T07:38:43.738Z"
   },
   {
    "duration": 41,
    "start_time": "2023-05-21T07:38:43.752Z"
   },
   {
    "duration": 8,
    "start_time": "2023-05-21T07:38:43.794Z"
   },
   {
    "duration": 11,
    "start_time": "2023-05-21T07:38:43.804Z"
   },
   {
    "duration": 50,
    "start_time": "2023-05-21T08:15:18.564Z"
   },
   {
    "duration": 1273,
    "start_time": "2023-05-21T08:15:27.460Z"
   },
   {
    "duration": 193,
    "start_time": "2023-05-21T08:15:28.734Z"
   },
   {
    "duration": 13,
    "start_time": "2023-05-21T08:15:28.928Z"
   },
   {
    "duration": 8,
    "start_time": "2023-05-21T08:15:28.942Z"
   },
   {
    "duration": 35,
    "start_time": "2023-05-21T08:15:28.952Z"
   },
   {
    "duration": 7,
    "start_time": "2023-05-21T08:15:28.989Z"
   },
   {
    "duration": 9,
    "start_time": "2023-05-21T08:15:28.998Z"
   },
   {
    "duration": 29,
    "start_time": "2023-05-21T08:15:29.008Z"
   },
   {
    "duration": 9,
    "start_time": "2023-05-21T08:15:29.038Z"
   },
   {
    "duration": 13,
    "start_time": "2023-05-21T08:15:29.048Z"
   },
   {
    "duration": 14,
    "start_time": "2023-05-21T08:15:29.063Z"
   },
   {
    "duration": 8,
    "start_time": "2023-05-21T08:15:29.078Z"
   },
   {
    "duration": 6,
    "start_time": "2023-05-21T08:15:29.088Z"
   },
   {
    "duration": 49,
    "start_time": "2023-05-21T08:15:29.097Z"
   },
   {
    "duration": 3,
    "start_time": "2023-05-21T08:15:29.147Z"
   },
   {
    "duration": 13,
    "start_time": "2023-05-21T08:15:29.152Z"
   },
   {
    "duration": 22,
    "start_time": "2023-05-21T08:15:29.167Z"
   },
   {
    "duration": 5,
    "start_time": "2023-05-21T08:15:29.191Z"
   },
   {
    "duration": 4,
    "start_time": "2023-05-21T08:15:29.218Z"
   },
   {
    "duration": 12,
    "start_time": "2023-05-21T08:15:29.224Z"
   },
   {
    "duration": 7,
    "start_time": "2023-05-21T08:15:29.237Z"
   },
   {
    "duration": 10,
    "start_time": "2023-05-21T08:15:29.246Z"
   },
   {
    "duration": 7,
    "start_time": "2023-05-21T08:15:29.258Z"
   },
   {
    "duration": 180,
    "start_time": "2023-05-21T08:15:29.267Z"
   },
   {
    "duration": 123,
    "start_time": "2023-05-21T08:15:29.449Z"
   },
   {
    "duration": 7,
    "start_time": "2023-05-21T08:15:29.574Z"
   },
   {
    "duration": 5,
    "start_time": "2023-05-21T08:15:29.583Z"
   },
   {
    "duration": 15,
    "start_time": "2023-05-21T08:15:29.589Z"
   },
   {
    "duration": 8,
    "start_time": "2023-05-21T08:15:29.618Z"
   },
   {
    "duration": 12,
    "start_time": "2023-05-21T08:15:29.627Z"
   },
   {
    "duration": 285,
    "start_time": "2023-05-21T08:15:29.641Z"
   },
   {
    "duration": 221,
    "start_time": "2023-05-21T08:15:29.928Z"
   },
   {
    "duration": 6,
    "start_time": "2023-05-21T08:15:30.151Z"
   },
   {
    "duration": 423,
    "start_time": "2023-05-21T08:15:30.159Z"
   },
   {
    "duration": 4,
    "start_time": "2023-05-21T08:15:30.584Z"
   },
   {
    "duration": 41,
    "start_time": "2023-05-21T08:15:30.590Z"
   },
   {
    "duration": 248,
    "start_time": "2023-05-21T08:15:30.633Z"
   },
   {
    "duration": 10,
    "start_time": "2023-05-21T08:15:30.883Z"
   },
   {
    "duration": 343,
    "start_time": "2023-05-21T08:15:30.895Z"
   },
   {
    "duration": 7,
    "start_time": "2023-05-21T08:15:31.240Z"
   },
   {
    "duration": 43,
    "start_time": "2023-05-21T08:15:31.251Z"
   },
   {
    "duration": 169,
    "start_time": "2023-05-21T08:15:31.296Z"
   },
   {
    "duration": 4,
    "start_time": "2023-05-21T08:15:31.466Z"
   },
   {
    "duration": 32,
    "start_time": "2023-05-21T08:15:31.471Z"
   },
   {
    "duration": 212,
    "start_time": "2023-05-21T08:15:31.505Z"
   },
   {
    "duration": 4,
    "start_time": "2023-05-21T08:15:31.718Z"
   },
   {
    "duration": 106,
    "start_time": "2023-05-21T08:15:31.724Z"
   },
   {
    "duration": 96,
    "start_time": "2023-05-21T08:15:31.832Z"
   },
   {
    "duration": 7,
    "start_time": "2023-05-21T08:15:31.930Z"
   },
   {
    "duration": 40,
    "start_time": "2023-05-21T08:15:31.938Z"
   },
   {
    "duration": 115,
    "start_time": "2023-05-21T08:15:31.980Z"
   },
   {
    "duration": 55,
    "start_time": "2023-05-21T08:15:32.096Z"
   },
   {
    "duration": 28,
    "start_time": "2023-05-21T08:15:32.152Z"
   },
   {
    "duration": 106,
    "start_time": "2023-05-21T08:15:32.182Z"
   },
   {
    "duration": 38,
    "start_time": "2023-05-21T08:15:32.290Z"
   },
   {
    "duration": 11,
    "start_time": "2023-05-21T08:15:32.330Z"
   },
   {
    "duration": 15,
    "start_time": "2023-05-21T08:15:32.343Z"
   },
   {
    "duration": 37,
    "start_time": "2023-05-21T08:15:32.360Z"
   },
   {
    "duration": 12,
    "start_time": "2023-05-21T08:15:32.400Z"
   },
   {
    "duration": 21,
    "start_time": "2023-05-21T08:15:32.414Z"
   },
   {
    "duration": 24,
    "start_time": "2023-05-21T08:15:32.436Z"
   },
   {
    "duration": 12,
    "start_time": "2023-05-21T08:15:32.462Z"
   },
   {
    "duration": 10,
    "start_time": "2023-05-21T08:15:32.476Z"
   },
   {
    "duration": 8,
    "start_time": "2023-05-21T08:15:32.488Z"
   },
   {
    "duration": 24,
    "start_time": "2023-05-21T08:15:32.498Z"
   },
   {
    "duration": 9,
    "start_time": "2023-05-21T08:15:32.524Z"
   },
   {
    "duration": 10,
    "start_time": "2023-05-21T08:15:32.534Z"
   },
   {
    "duration": 5,
    "start_time": "2023-05-21T08:16:46.668Z"
   },
   {
    "duration": 110,
    "start_time": "2023-05-21T08:17:00.902Z"
   },
   {
    "duration": 49,
    "start_time": "2023-05-21T08:19:01.083Z"
   },
   {
    "duration": 95,
    "start_time": "2023-05-21T08:19:09.268Z"
   },
   {
    "duration": 9,
    "start_time": "2023-05-21T08:19:18.513Z"
   },
   {
    "duration": 7,
    "start_time": "2023-05-21T08:19:40.976Z"
   },
   {
    "duration": 7,
    "start_time": "2023-05-21T08:21:47.779Z"
   },
   {
    "duration": 7,
    "start_time": "2023-05-21T08:22:13.056Z"
   },
   {
    "duration": 13,
    "start_time": "2023-05-21T08:23:52.664Z"
   },
   {
    "duration": 13,
    "start_time": "2023-05-21T08:25:42.468Z"
   },
   {
    "duration": 14,
    "start_time": "2023-05-21T08:26:35.153Z"
   },
   {
    "duration": 17,
    "start_time": "2023-05-21T08:27:00.952Z"
   },
   {
    "duration": 13,
    "start_time": "2023-05-21T08:27:11.464Z"
   },
   {
    "duration": 12,
    "start_time": "2023-05-21T08:28:12.382Z"
   },
   {
    "duration": 12,
    "start_time": "2023-05-21T08:30:48.376Z"
   },
   {
    "duration": 12,
    "start_time": "2023-05-21T08:31:09.780Z"
   },
   {
    "duration": 13,
    "start_time": "2023-05-21T08:35:16.397Z"
   },
   {
    "duration": 10,
    "start_time": "2023-05-21T08:39:42.860Z"
   },
   {
    "duration": 11,
    "start_time": "2023-05-21T08:40:56.226Z"
   },
   {
    "duration": 12,
    "start_time": "2023-05-21T08:46:41.680Z"
   },
   {
    "duration": 12,
    "start_time": "2023-05-21T08:47:11.967Z"
   },
   {
    "duration": 11,
    "start_time": "2023-05-21T08:47:36.868Z"
   },
   {
    "duration": 13,
    "start_time": "2023-05-21T08:49:21.398Z"
   },
   {
    "duration": 12,
    "start_time": "2023-05-21T08:49:36.767Z"
   },
   {
    "duration": 12,
    "start_time": "2023-05-21T08:50:25.864Z"
   },
   {
    "duration": 12,
    "start_time": "2023-05-21T08:54:49.681Z"
   },
   {
    "duration": 11,
    "start_time": "2023-05-21T08:55:57.670Z"
   },
   {
    "duration": 21,
    "start_time": "2023-05-21T08:58:55.720Z"
   },
   {
    "duration": 12,
    "start_time": "2023-05-21T09:01:47.710Z"
   },
   {
    "duration": 12,
    "start_time": "2023-05-21T09:03:25.860Z"
   },
   {
    "duration": 12,
    "start_time": "2023-05-21T09:04:32.719Z"
   },
   {
    "duration": 11,
    "start_time": "2023-05-21T09:04:58.558Z"
   },
   {
    "duration": 3,
    "start_time": "2023-05-21T09:05:42.978Z"
   },
   {
    "duration": 4,
    "start_time": "2023-05-21T09:05:54.277Z"
   },
   {
    "duration": 13,
    "start_time": "2023-05-21T09:06:11.273Z"
   },
   {
    "duration": 11,
    "start_time": "2023-05-21T09:06:27.260Z"
   },
   {
    "duration": 8,
    "start_time": "2023-05-21T09:07:24.363Z"
   },
   {
    "duration": 9,
    "start_time": "2023-05-21T09:07:51.504Z"
   },
   {
    "duration": 54,
    "start_time": "2023-05-21T09:08:15.573Z"
   },
   {
    "duration": 20,
    "start_time": "2023-05-21T09:08:27.189Z"
   },
   {
    "duration": 9,
    "start_time": "2023-05-21T09:09:00.952Z"
   },
   {
    "duration": 1083,
    "start_time": "2023-05-21T09:09:32.054Z"
   },
   {
    "duration": 76,
    "start_time": "2023-05-21T09:09:33.139Z"
   },
   {
    "duration": 12,
    "start_time": "2023-05-21T09:09:33.217Z"
   },
   {
    "duration": 12,
    "start_time": "2023-05-21T09:09:33.231Z"
   },
   {
    "duration": 20,
    "start_time": "2023-05-21T09:09:33.245Z"
   },
   {
    "duration": 6,
    "start_time": "2023-05-21T09:09:33.267Z"
   },
   {
    "duration": 8,
    "start_time": "2023-05-21T09:09:33.274Z"
   },
   {
    "duration": 7,
    "start_time": "2023-05-21T09:09:33.283Z"
   },
   {
    "duration": 35,
    "start_time": "2023-05-21T09:09:33.292Z"
   },
   {
    "duration": 8,
    "start_time": "2023-05-21T09:09:33.330Z"
   },
   {
    "duration": 8,
    "start_time": "2023-05-21T09:09:33.339Z"
   },
   {
    "duration": 17,
    "start_time": "2023-05-21T09:09:33.348Z"
   },
   {
    "duration": 8,
    "start_time": "2023-05-21T09:09:33.366Z"
   },
   {
    "duration": 7,
    "start_time": "2023-05-21T09:09:33.376Z"
   },
   {
    "duration": 68,
    "start_time": "2023-05-21T09:09:33.384Z"
   },
   {
    "duration": 4,
    "start_time": "2023-05-21T09:09:33.453Z"
   },
   {
    "duration": 20,
    "start_time": "2023-05-21T09:09:33.458Z"
   },
   {
    "duration": 9,
    "start_time": "2023-05-21T09:09:33.480Z"
   },
   {
    "duration": 10,
    "start_time": "2023-05-21T09:09:33.491Z"
   },
   {
    "duration": 18,
    "start_time": "2023-05-21T09:09:33.503Z"
   },
   {
    "duration": 10,
    "start_time": "2023-05-21T09:09:33.522Z"
   },
   {
    "duration": 21,
    "start_time": "2023-05-21T09:09:33.533Z"
   },
   {
    "duration": 9,
    "start_time": "2023-05-21T09:09:33.556Z"
   },
   {
    "duration": 6,
    "start_time": "2023-05-21T09:09:33.566Z"
   },
   {
    "duration": 158,
    "start_time": "2023-05-21T09:09:33.574Z"
   },
   {
    "duration": 119,
    "start_time": "2023-05-21T09:09:33.734Z"
   },
   {
    "duration": 5,
    "start_time": "2023-05-21T09:09:33.854Z"
   },
   {
    "duration": 7,
    "start_time": "2023-05-21T09:09:33.863Z"
   },
   {
    "duration": 12,
    "start_time": "2023-05-21T09:09:33.871Z"
   },
   {
    "duration": 5,
    "start_time": "2023-05-21T09:09:33.885Z"
   },
   {
    "duration": 6,
    "start_time": "2023-05-21T09:09:33.891Z"
   },
   {
    "duration": 309,
    "start_time": "2023-05-21T09:09:33.899Z"
   },
   {
    "duration": 208,
    "start_time": "2023-05-21T09:09:34.216Z"
   },
   {
    "duration": 7,
    "start_time": "2023-05-21T09:09:34.425Z"
   },
   {
    "duration": 350,
    "start_time": "2023-05-21T09:09:34.433Z"
   },
   {
    "duration": 4,
    "start_time": "2023-05-21T09:09:34.785Z"
   },
   {
    "duration": 6,
    "start_time": "2023-05-21T09:09:34.790Z"
   },
   {
    "duration": 224,
    "start_time": "2023-05-21T09:09:34.797Z"
   },
   {
    "duration": 8,
    "start_time": "2023-05-21T09:09:35.022Z"
   },
   {
    "duration": 298,
    "start_time": "2023-05-21T09:09:35.031Z"
   },
   {
    "duration": 7,
    "start_time": "2023-05-21T09:09:35.330Z"
   },
   {
    "duration": 7,
    "start_time": "2023-05-21T09:09:35.338Z"
   },
   {
    "duration": 154,
    "start_time": "2023-05-21T09:09:35.347Z"
   },
   {
    "duration": 4,
    "start_time": "2023-05-21T09:09:35.502Z"
   },
   {
    "duration": 11,
    "start_time": "2023-05-21T09:09:35.516Z"
   },
   {
    "duration": 160,
    "start_time": "2023-05-21T09:09:35.529Z"
   },
   {
    "duration": 4,
    "start_time": "2023-05-21T09:09:35.690Z"
   },
   {
    "duration": 87,
    "start_time": "2023-05-21T09:09:35.695Z"
   },
   {
    "duration": 77,
    "start_time": "2023-05-21T09:09:35.784Z"
   },
   {
    "duration": 7,
    "start_time": "2023-05-21T09:09:35.862Z"
   },
   {
    "duration": 8,
    "start_time": "2023-05-21T09:09:35.870Z"
   },
   {
    "duration": 108,
    "start_time": "2023-05-21T09:09:35.879Z"
   },
   {
    "duration": 50,
    "start_time": "2023-05-21T09:09:35.989Z"
   },
   {
    "duration": 40,
    "start_time": "2023-05-21T09:09:36.041Z"
   },
   {
    "duration": 85,
    "start_time": "2023-05-21T09:09:36.083Z"
   },
   {
    "duration": 19,
    "start_time": "2023-05-21T09:09:36.169Z"
   },
   {
    "duration": 5,
    "start_time": "2023-05-21T09:09:36.189Z"
   },
   {
    "duration": 4,
    "start_time": "2023-05-21T09:09:36.196Z"
   },
   {
    "duration": 32,
    "start_time": "2023-05-21T09:09:36.202Z"
   },
   {
    "duration": 14,
    "start_time": "2023-05-21T09:09:36.236Z"
   },
   {
    "duration": 5,
    "start_time": "2023-05-21T09:09:36.252Z"
   },
   {
    "duration": 6,
    "start_time": "2023-05-21T09:09:36.258Z"
   },
   {
    "duration": 6,
    "start_time": "2023-05-21T09:09:36.265Z"
   },
   {
    "duration": 5,
    "start_time": "2023-05-21T09:09:36.273Z"
   },
   {
    "duration": 5,
    "start_time": "2023-05-21T09:09:36.280Z"
   },
   {
    "duration": 43,
    "start_time": "2023-05-21T09:09:36.286Z"
   },
   {
    "duration": 8,
    "start_time": "2023-05-21T09:09:36.330Z"
   },
   {
    "duration": 9,
    "start_time": "2023-05-21T09:09:36.339Z"
   },
   {
    "duration": 11,
    "start_time": "2023-05-21T09:10:46.197Z"
   },
   {
    "duration": 74,
    "start_time": "2023-05-21T09:13:35.087Z"
   },
   {
    "duration": 6,
    "start_time": "2023-05-21T09:14:03.062Z"
   },
   {
    "duration": 3,
    "start_time": "2023-05-21T09:16:44.258Z"
   },
   {
    "duration": 111,
    "start_time": "2023-05-21T09:16:53.005Z"
   },
   {
    "duration": 7,
    "start_time": "2023-05-21T09:20:05.256Z"
   },
   {
    "duration": 12,
    "start_time": "2023-05-21T09:25:29.868Z"
   },
   {
    "duration": 12,
    "start_time": "2023-05-21T09:25:55.899Z"
   },
   {
    "duration": 13,
    "start_time": "2023-05-21T09:27:10.848Z"
   },
   {
    "duration": 70,
    "start_time": "2023-05-21T09:28:42.585Z"
   },
   {
    "duration": 12,
    "start_time": "2023-05-21T09:29:13.616Z"
   },
   {
    "duration": 11,
    "start_time": "2023-05-21T09:29:32.418Z"
   },
   {
    "duration": 29,
    "start_time": "2023-05-21T09:32:09.745Z"
   },
   {
    "duration": 4,
    "start_time": "2023-05-21T09:36:23.607Z"
   },
   {
    "duration": 8,
    "start_time": "2023-05-21T09:36:35.066Z"
   },
   {
    "duration": 9,
    "start_time": "2023-05-21T09:38:15.713Z"
   },
   {
    "duration": 18,
    "start_time": "2023-05-21T09:38:27.858Z"
   },
   {
    "duration": 20,
    "start_time": "2023-05-21T09:39:50.834Z"
   },
   {
    "duration": 9,
    "start_time": "2023-05-21T09:40:48.816Z"
   },
   {
    "duration": 14,
    "start_time": "2023-05-21T09:41:00.272Z"
   },
   {
    "duration": 5,
    "start_time": "2023-05-21T09:42:40.467Z"
   },
   {
    "duration": 10,
    "start_time": "2023-05-21T09:42:48.313Z"
   },
   {
    "duration": 1255,
    "start_time": "2023-05-21T09:43:36.960Z"
   },
   {
    "duration": 93,
    "start_time": "2023-05-21T09:43:38.219Z"
   },
   {
    "duration": 22,
    "start_time": "2023-05-21T09:43:38.313Z"
   },
   {
    "duration": 22,
    "start_time": "2023-05-21T09:43:38.337Z"
   },
   {
    "duration": 27,
    "start_time": "2023-05-21T09:43:38.361Z"
   },
   {
    "duration": 14,
    "start_time": "2023-05-21T09:43:38.390Z"
   },
   {
    "duration": 22,
    "start_time": "2023-05-21T09:43:38.406Z"
   },
   {
    "duration": 32,
    "start_time": "2023-05-21T09:43:38.430Z"
   },
   {
    "duration": 16,
    "start_time": "2023-05-21T09:43:38.464Z"
   },
   {
    "duration": 9,
    "start_time": "2023-05-21T09:43:38.484Z"
   },
   {
    "duration": 5,
    "start_time": "2023-05-21T09:43:38.495Z"
   },
   {
    "duration": 13,
    "start_time": "2023-05-21T09:43:38.501Z"
   },
   {
    "duration": 44,
    "start_time": "2023-05-21T09:43:38.516Z"
   },
   {
    "duration": 10,
    "start_time": "2023-05-21T09:43:38.562Z"
   },
   {
    "duration": 87,
    "start_time": "2023-05-21T09:43:38.574Z"
   },
   {
    "duration": 4,
    "start_time": "2023-05-21T09:43:38.663Z"
   },
   {
    "duration": 17,
    "start_time": "2023-05-21T09:43:38.669Z"
   },
   {
    "duration": 19,
    "start_time": "2023-05-21T09:43:38.688Z"
   },
   {
    "duration": 14,
    "start_time": "2023-05-21T09:43:38.709Z"
   },
   {
    "duration": 44,
    "start_time": "2023-05-21T09:43:38.725Z"
   },
   {
    "duration": 14,
    "start_time": "2023-05-21T09:43:38.771Z"
   },
   {
    "duration": 34,
    "start_time": "2023-05-21T09:43:38.788Z"
   },
   {
    "duration": 28,
    "start_time": "2023-05-21T09:43:38.823Z"
   },
   {
    "duration": 27,
    "start_time": "2023-05-21T09:43:38.852Z"
   },
   {
    "duration": 19,
    "start_time": "2023-05-21T09:43:38.881Z"
   },
   {
    "duration": 6,
    "start_time": "2023-05-21T09:43:38.902Z"
   },
   {
    "duration": 14,
    "start_time": "2023-05-21T09:43:38.910Z"
   },
   {
    "duration": 33,
    "start_time": "2023-05-21T09:43:38.929Z"
   },
   {
    "duration": 194,
    "start_time": "2023-05-21T09:43:38.964Z"
   },
   {
    "duration": 168,
    "start_time": "2023-05-21T09:43:39.159Z"
   },
   {
    "duration": 6,
    "start_time": "2023-05-21T09:43:39.329Z"
   },
   {
    "duration": 26,
    "start_time": "2023-05-21T09:43:39.337Z"
   },
   {
    "duration": 13,
    "start_time": "2023-05-21T09:43:39.364Z"
   },
   {
    "duration": 39,
    "start_time": "2023-05-21T09:43:39.379Z"
   },
   {
    "duration": 39,
    "start_time": "2023-05-21T09:43:39.420Z"
   },
   {
    "duration": 433,
    "start_time": "2023-05-21T09:43:39.461Z"
   },
   {
    "duration": 259,
    "start_time": "2023-05-21T09:43:39.896Z"
   },
   {
    "duration": 10,
    "start_time": "2023-05-21T09:43:40.156Z"
   },
   {
    "duration": 310,
    "start_time": "2023-05-21T09:43:40.168Z"
   },
   {
    "duration": 3,
    "start_time": "2023-05-21T09:43:40.480Z"
   },
   {
    "duration": 14,
    "start_time": "2023-05-21T09:43:40.485Z"
   },
   {
    "duration": 264,
    "start_time": "2023-05-21T09:43:40.500Z"
   },
   {
    "duration": 8,
    "start_time": "2023-05-21T09:43:40.766Z"
   },
   {
    "duration": 335,
    "start_time": "2023-05-21T09:43:40.776Z"
   },
   {
    "duration": 8,
    "start_time": "2023-05-21T09:43:41.113Z"
   },
   {
    "duration": 39,
    "start_time": "2023-05-21T09:43:41.122Z"
   },
   {
    "duration": 205,
    "start_time": "2023-05-21T09:43:41.162Z"
   },
   {
    "duration": 5,
    "start_time": "2023-05-21T09:43:41.369Z"
   },
   {
    "duration": 14,
    "start_time": "2023-05-21T09:43:41.375Z"
   },
   {
    "duration": 186,
    "start_time": "2023-05-21T09:43:41.390Z"
   },
   {
    "duration": 4,
    "start_time": "2023-05-21T09:43:41.578Z"
   },
   {
    "duration": 88,
    "start_time": "2023-05-21T09:43:41.583Z"
   },
   {
    "duration": 81,
    "start_time": "2023-05-21T09:43:41.672Z"
   },
   {
    "duration": 10,
    "start_time": "2023-05-21T09:43:41.754Z"
   },
   {
    "duration": 6,
    "start_time": "2023-05-21T09:43:41.765Z"
   },
   {
    "duration": 133,
    "start_time": "2023-05-21T09:43:41.773Z"
   },
   {
    "duration": 64,
    "start_time": "2023-05-21T09:43:41.908Z"
   },
   {
    "duration": 25,
    "start_time": "2023-05-21T09:43:41.974Z"
   },
   {
    "duration": 113,
    "start_time": "2023-05-21T09:43:42.001Z"
   },
   {
    "duration": 44,
    "start_time": "2023-05-21T09:43:42.116Z"
   },
   {
    "duration": 8,
    "start_time": "2023-05-21T09:43:42.162Z"
   },
   {
    "duration": 12,
    "start_time": "2023-05-21T09:43:42.172Z"
   },
   {
    "duration": 41,
    "start_time": "2023-05-21T09:43:42.186Z"
   },
   {
    "duration": 12,
    "start_time": "2023-05-21T09:43:42.229Z"
   },
   {
    "duration": 25,
    "start_time": "2023-05-21T09:43:42.243Z"
   },
   {
    "duration": 7,
    "start_time": "2023-05-21T09:43:42.269Z"
   },
   {
    "duration": 5,
    "start_time": "2023-05-21T09:43:42.277Z"
   },
   {
    "duration": 6,
    "start_time": "2023-05-21T09:43:42.284Z"
   },
   {
    "duration": 7,
    "start_time": "2023-05-21T09:43:42.292Z"
   },
   {
    "duration": 48,
    "start_time": "2023-05-21T09:43:42.300Z"
   },
   {
    "duration": 10,
    "start_time": "2023-05-21T09:43:42.349Z"
   },
   {
    "duration": 10,
    "start_time": "2023-05-21T09:43:42.361Z"
   },
   {
    "duration": 117,
    "start_time": "2023-05-21T09:54:29.378Z"
   },
   {
    "duration": 24,
    "start_time": "2023-05-21T09:54:54.795Z"
   },
   {
    "duration": 5,
    "start_time": "2023-05-21T09:55:08.951Z"
   },
   {
    "duration": 7,
    "start_time": "2023-05-21T10:18:41.805Z"
   },
   {
    "duration": 7,
    "start_time": "2023-05-21T10:18:45.778Z"
   },
   {
    "duration": 3,
    "start_time": "2023-05-21T10:18:55.072Z"
   },
   {
    "duration": 46,
    "start_time": "2023-05-21T10:24:47.764Z"
   },
   {
    "duration": 40,
    "start_time": "2023-05-21T10:49:53.091Z"
   },
   {
    "duration": 64,
    "start_time": "2023-05-21T10:59:34.544Z"
   },
   {
    "duration": 5,
    "start_time": "2023-05-21T11:03:17.578Z"
   },
   {
    "duration": 9,
    "start_time": "2023-05-21T11:03:38.209Z"
   },
   {
    "duration": 11,
    "start_time": "2023-05-21T11:04:36.939Z"
   },
   {
    "duration": 10,
    "start_time": "2023-05-21T11:05:49.579Z"
   },
   {
    "duration": 48,
    "start_time": "2023-05-21T11:06:28.948Z"
   },
   {
    "duration": 50,
    "start_time": "2023-05-21T11:06:54.368Z"
   },
   {
    "duration": 3,
    "start_time": "2023-05-21T11:07:55.886Z"
   },
   {
    "duration": 10,
    "start_time": "2023-05-21T11:08:14.295Z"
   },
   {
    "duration": 1111,
    "start_time": "2023-05-21T11:08:54.922Z"
   },
   {
    "duration": 77,
    "start_time": "2023-05-21T11:08:56.035Z"
   },
   {
    "duration": 14,
    "start_time": "2023-05-21T11:08:56.114Z"
   },
   {
    "duration": 32,
    "start_time": "2023-05-21T11:08:56.130Z"
   },
   {
    "duration": 37,
    "start_time": "2023-05-21T11:08:56.163Z"
   },
   {
    "duration": 7,
    "start_time": "2023-05-21T11:08:56.202Z"
   },
   {
    "duration": 31,
    "start_time": "2023-05-21T11:08:56.210Z"
   },
   {
    "duration": 9,
    "start_time": "2023-05-21T11:08:56.243Z"
   },
   {
    "duration": 35,
    "start_time": "2023-05-21T11:08:56.253Z"
   },
   {
    "duration": 10,
    "start_time": "2023-05-21T11:08:56.290Z"
   },
   {
    "duration": 11,
    "start_time": "2023-05-21T11:08:56.302Z"
   },
   {
    "duration": 29,
    "start_time": "2023-05-21T11:08:56.315Z"
   },
   {
    "duration": 15,
    "start_time": "2023-05-21T11:08:56.346Z"
   },
   {
    "duration": 10,
    "start_time": "2023-05-21T11:08:56.363Z"
   },
   {
    "duration": 68,
    "start_time": "2023-05-21T11:08:56.375Z"
   },
   {
    "duration": 4,
    "start_time": "2023-05-21T11:08:56.445Z"
   },
   {
    "duration": 45,
    "start_time": "2023-05-21T11:08:56.451Z"
   },
   {
    "duration": 29,
    "start_time": "2023-05-21T11:08:56.497Z"
   },
   {
    "duration": 16,
    "start_time": "2023-05-21T11:08:56.528Z"
   },
   {
    "duration": 21,
    "start_time": "2023-05-21T11:08:56.545Z"
   },
   {
    "duration": 20,
    "start_time": "2023-05-21T11:08:56.567Z"
   },
   {
    "duration": 27,
    "start_time": "2023-05-21T11:08:56.589Z"
   },
   {
    "duration": 10,
    "start_time": "2023-05-21T11:08:56.618Z"
   },
   {
    "duration": 26,
    "start_time": "2023-05-21T11:08:56.630Z"
   },
   {
    "duration": 24,
    "start_time": "2023-05-21T11:08:56.658Z"
   },
   {
    "duration": 13,
    "start_time": "2023-05-21T11:08:56.684Z"
   },
   {
    "duration": 170,
    "start_time": "2023-05-21T11:08:56.698Z"
   },
   {
    "duration": 122,
    "start_time": "2023-05-21T11:08:56.872Z"
   },
   {
    "duration": 23,
    "start_time": "2023-05-21T11:08:56.996Z"
   },
   {
    "duration": 16,
    "start_time": "2023-05-21T11:08:57.021Z"
   },
   {
    "duration": 14,
    "start_time": "2023-05-21T11:08:57.038Z"
   },
   {
    "duration": 8,
    "start_time": "2023-05-21T11:08:57.053Z"
   },
   {
    "duration": 9,
    "start_time": "2023-05-21T11:08:57.063Z"
   },
   {
    "duration": 318,
    "start_time": "2023-05-21T11:08:57.073Z"
   },
   {
    "duration": 212,
    "start_time": "2023-05-21T11:08:57.393Z"
   },
   {
    "duration": 13,
    "start_time": "2023-05-21T11:08:57.607Z"
   },
   {
    "duration": 322,
    "start_time": "2023-05-21T11:08:57.622Z"
   },
   {
    "duration": 4,
    "start_time": "2023-05-21T11:08:57.945Z"
   },
   {
    "duration": 6,
    "start_time": "2023-05-21T11:08:57.950Z"
   },
   {
    "duration": 223,
    "start_time": "2023-05-21T11:08:57.957Z"
   },
   {
    "duration": 9,
    "start_time": "2023-05-21T11:08:58.182Z"
   },
   {
    "duration": 340,
    "start_time": "2023-05-21T11:08:58.192Z"
   },
   {
    "duration": 6,
    "start_time": "2023-05-21T11:08:58.534Z"
   },
   {
    "duration": 3,
    "start_time": "2023-05-21T11:08:58.542Z"
   },
   {
    "duration": 153,
    "start_time": "2023-05-21T11:08:58.547Z"
   },
   {
    "duration": 4,
    "start_time": "2023-05-21T11:08:58.702Z"
   },
   {
    "duration": 10,
    "start_time": "2023-05-21T11:08:58.717Z"
   },
   {
    "duration": 172,
    "start_time": "2023-05-21T11:08:58.728Z"
   },
   {
    "duration": 4,
    "start_time": "2023-05-21T11:08:58.902Z"
   },
   {
    "duration": 77,
    "start_time": "2023-05-21T11:08:58.907Z"
   },
   {
    "duration": 84,
    "start_time": "2023-05-21T11:08:58.986Z"
   },
   {
    "duration": 7,
    "start_time": "2023-05-21T11:08:59.072Z"
   },
   {
    "duration": 10,
    "start_time": "2023-05-21T11:08:59.080Z"
   },
   {
    "duration": 116,
    "start_time": "2023-05-21T11:08:59.092Z"
   },
   {
    "duration": 48,
    "start_time": "2023-05-21T11:08:59.210Z"
   },
   {
    "duration": 24,
    "start_time": "2023-05-21T11:08:59.259Z"
   },
   {
    "duration": 106,
    "start_time": "2023-05-21T11:08:59.285Z"
   },
   {
    "duration": 35,
    "start_time": "2023-05-21T11:08:59.392Z"
   },
   {
    "duration": 7,
    "start_time": "2023-05-21T11:08:59.429Z"
   },
   {
    "duration": 6,
    "start_time": "2023-05-21T11:08:59.438Z"
   },
   {
    "duration": 37,
    "start_time": "2023-05-21T11:08:59.446Z"
   },
   {
    "duration": 35,
    "start_time": "2023-05-21T11:08:59.485Z"
   },
   {
    "duration": 8,
    "start_time": "2023-05-21T11:08:59.522Z"
   },
   {
    "duration": 7,
    "start_time": "2023-05-21T11:08:59.532Z"
   },
   {
    "duration": 14,
    "start_time": "2023-05-21T11:08:59.541Z"
   },
   {
    "duration": 7,
    "start_time": "2023-05-21T11:08:59.557Z"
   },
   {
    "duration": 7,
    "start_time": "2023-05-21T11:08:59.565Z"
   },
   {
    "duration": 58,
    "start_time": "2023-05-21T11:08:59.573Z"
   },
   {
    "duration": 11,
    "start_time": "2023-05-21T11:08:59.633Z"
   },
   {
    "duration": 12,
    "start_time": "2023-05-21T11:08:59.646Z"
   },
   {
    "duration": 8,
    "start_time": "2023-05-21T11:13:28.838Z"
   },
   {
    "duration": 9,
    "start_time": "2023-05-21T11:14:14.988Z"
   },
   {
    "duration": 5,
    "start_time": "2023-05-21T11:15:48.875Z"
   },
   {
    "duration": 10,
    "start_time": "2023-05-21T11:16:12.104Z"
   },
   {
    "duration": 66,
    "start_time": "2023-05-21T11:16:33.216Z"
   },
   {
    "duration": 51,
    "start_time": "2023-05-21T11:17:06.145Z"
   },
   {
    "duration": 10,
    "start_time": "2023-05-21T11:17:15.649Z"
   },
   {
    "duration": 48,
    "start_time": "2023-05-21T11:19:05.742Z"
   },
   {
    "duration": 89,
    "start_time": "2023-05-21T11:20:07.409Z"
   },
   {
    "duration": 129,
    "start_time": "2023-05-21T11:22:05.978Z"
   },
   {
    "duration": 11,
    "start_time": "2023-05-21T11:22:42.290Z"
   },
   {
    "duration": 10,
    "start_time": "2023-05-21T11:23:21.525Z"
   },
   {
    "duration": 10,
    "start_time": "2023-05-21T11:25:39.964Z"
   },
   {
    "duration": 57,
    "start_time": "2023-05-21T11:27:52.840Z"
   },
   {
    "duration": 8,
    "start_time": "2023-05-21T11:28:14.392Z"
   },
   {
    "duration": 17,
    "start_time": "2023-05-21T11:28:23.267Z"
   },
   {
    "duration": 9,
    "start_time": "2023-05-21T11:29:14.245Z"
   },
   {
    "duration": 10,
    "start_time": "2023-05-21T11:29:41.499Z"
   },
   {
    "duration": 18,
    "start_time": "2023-05-21T11:31:11.929Z"
   },
   {
    "duration": 17,
    "start_time": "2023-05-21T11:31:29.594Z"
   },
   {
    "duration": 10,
    "start_time": "2023-05-21T11:31:41.506Z"
   },
   {
    "duration": 13,
    "start_time": "2023-05-21T11:33:12.099Z"
   },
   {
    "duration": 57,
    "start_time": "2023-05-21T11:38:40.989Z"
   },
   {
    "duration": 125,
    "start_time": "2023-05-21T12:08:24.030Z"
   },
   {
    "duration": 1183,
    "start_time": "2023-05-21T12:17:42.164Z"
   },
   {
    "duration": 80,
    "start_time": "2023-05-21T12:17:43.349Z"
   },
   {
    "duration": 20,
    "start_time": "2023-05-21T12:17:43.431Z"
   },
   {
    "duration": 18,
    "start_time": "2023-05-21T12:17:43.454Z"
   },
   {
    "duration": 28,
    "start_time": "2023-05-21T12:17:43.474Z"
   },
   {
    "duration": 9,
    "start_time": "2023-05-21T12:17:43.504Z"
   },
   {
    "duration": 44,
    "start_time": "2023-05-21T12:17:43.515Z"
   },
   {
    "duration": 10,
    "start_time": "2023-05-21T12:17:43.561Z"
   },
   {
    "duration": 19,
    "start_time": "2023-05-21T12:17:43.572Z"
   },
   {
    "duration": 8,
    "start_time": "2023-05-21T12:17:43.593Z"
   },
   {
    "duration": 9,
    "start_time": "2023-05-21T12:17:43.602Z"
   },
   {
    "duration": 58,
    "start_time": "2023-05-21T12:17:43.612Z"
   },
   {
    "duration": 5,
    "start_time": "2023-05-21T12:17:43.672Z"
   },
   {
    "duration": 8,
    "start_time": "2023-05-21T12:17:43.680Z"
   },
   {
    "duration": 69,
    "start_time": "2023-05-21T12:17:43.689Z"
   },
   {
    "duration": 9,
    "start_time": "2023-05-21T12:17:43.759Z"
   },
   {
    "duration": 17,
    "start_time": "2023-05-21T12:17:43.770Z"
   },
   {
    "duration": 11,
    "start_time": "2023-05-21T12:17:43.788Z"
   },
   {
    "duration": 8,
    "start_time": "2023-05-21T12:17:43.800Z"
   },
   {
    "duration": 51,
    "start_time": "2023-05-21T12:17:43.810Z"
   },
   {
    "duration": 14,
    "start_time": "2023-05-21T12:17:43.863Z"
   },
   {
    "duration": 11,
    "start_time": "2023-05-21T12:17:43.879Z"
   },
   {
    "duration": 7,
    "start_time": "2023-05-21T12:17:43.891Z"
   },
   {
    "duration": 9,
    "start_time": "2023-05-21T12:17:43.900Z"
   },
   {
    "duration": 29,
    "start_time": "2023-05-21T12:17:43.910Z"
   },
   {
    "duration": 24,
    "start_time": "2023-05-21T12:17:43.948Z"
   },
   {
    "duration": 176,
    "start_time": "2023-05-21T12:17:43.974Z"
   },
   {
    "duration": 133,
    "start_time": "2023-05-21T12:17:44.152Z"
   },
   {
    "duration": 7,
    "start_time": "2023-05-21T12:17:44.287Z"
   },
   {
    "duration": 15,
    "start_time": "2023-05-21T12:17:44.295Z"
   },
   {
    "duration": 33,
    "start_time": "2023-05-21T12:17:44.312Z"
   },
   {
    "duration": 6,
    "start_time": "2023-05-21T12:17:44.360Z"
   },
   {
    "duration": 7,
    "start_time": "2023-05-21T12:17:44.369Z"
   },
   {
    "duration": 324,
    "start_time": "2023-05-21T12:17:44.378Z"
   },
   {
    "duration": 268,
    "start_time": "2023-05-21T12:17:44.704Z"
   },
   {
    "duration": 8,
    "start_time": "2023-05-21T12:17:44.974Z"
   },
   {
    "duration": 411,
    "start_time": "2023-05-21T12:17:44.984Z"
   },
   {
    "duration": 5,
    "start_time": "2023-05-21T12:17:45.396Z"
   },
   {
    "duration": 8,
    "start_time": "2023-05-21T12:17:45.402Z"
   },
   {
    "duration": 263,
    "start_time": "2023-05-21T12:17:45.420Z"
   },
   {
    "duration": 7,
    "start_time": "2023-05-21T12:17:45.688Z"
   },
   {
    "duration": 383,
    "start_time": "2023-05-21T12:17:45.696Z"
   },
   {
    "duration": 8,
    "start_time": "2023-05-21T12:17:46.081Z"
   },
   {
    "duration": 5,
    "start_time": "2023-05-21T12:17:46.091Z"
   },
   {
    "duration": 220,
    "start_time": "2023-05-21T12:17:46.097Z"
   },
   {
    "duration": 13,
    "start_time": "2023-05-21T12:17:46.333Z"
   },
   {
    "duration": 26,
    "start_time": "2023-05-21T12:17:46.347Z"
   },
   {
    "duration": 192,
    "start_time": "2023-05-21T12:17:46.375Z"
   },
   {
    "duration": 5,
    "start_time": "2023-05-21T12:17:46.570Z"
   },
   {
    "duration": 86,
    "start_time": "2023-05-21T12:17:46.577Z"
   },
   {
    "duration": 99,
    "start_time": "2023-05-21T12:17:46.665Z"
   },
   {
    "duration": 7,
    "start_time": "2023-05-21T12:17:46.766Z"
   },
   {
    "duration": 20,
    "start_time": "2023-05-21T12:17:46.775Z"
   },
   {
    "duration": 150,
    "start_time": "2023-05-21T12:17:46.797Z"
   },
   {
    "duration": 50,
    "start_time": "2023-05-21T12:17:46.952Z"
   },
   {
    "duration": 35,
    "start_time": "2023-05-21T12:17:47.004Z"
   },
   {
    "duration": 127,
    "start_time": "2023-05-21T12:17:47.041Z"
   },
   {
    "duration": 20,
    "start_time": "2023-05-21T12:17:47.170Z"
   },
   {
    "duration": 6,
    "start_time": "2023-05-21T12:17:47.192Z"
   },
   {
    "duration": 33,
    "start_time": "2023-05-21T12:17:47.199Z"
   },
   {
    "duration": 32,
    "start_time": "2023-05-21T12:17:47.233Z"
   },
   {
    "duration": 10,
    "start_time": "2023-05-21T12:17:47.267Z"
   },
   {
    "duration": 6,
    "start_time": "2023-05-21T12:17:47.279Z"
   },
   {
    "duration": 5,
    "start_time": "2023-05-21T12:17:47.287Z"
   },
   {
    "duration": 4,
    "start_time": "2023-05-21T12:17:47.293Z"
   },
   {
    "duration": 7,
    "start_time": "2023-05-21T12:17:47.298Z"
   },
   {
    "duration": 30,
    "start_time": "2023-05-21T12:17:47.306Z"
   },
   {
    "duration": 43,
    "start_time": "2023-05-21T12:17:47.337Z"
   },
   {
    "duration": 8,
    "start_time": "2023-05-21T12:17:47.382Z"
   },
   {
    "duration": 11,
    "start_time": "2023-05-21T12:17:47.391Z"
   },
   {
    "duration": 1105,
    "start_time": "2023-05-21T12:37:17.113Z"
   },
   {
    "duration": 77,
    "start_time": "2023-05-21T12:37:18.219Z"
   },
   {
    "duration": 12,
    "start_time": "2023-05-21T12:37:18.297Z"
   },
   {
    "duration": 8,
    "start_time": "2023-05-21T12:37:18.310Z"
   },
   {
    "duration": 22,
    "start_time": "2023-05-21T12:37:18.319Z"
   },
   {
    "duration": 7,
    "start_time": "2023-05-21T12:37:18.342Z"
   },
   {
    "duration": 10,
    "start_time": "2023-05-21T12:37:18.350Z"
   },
   {
    "duration": 17,
    "start_time": "2023-05-21T12:37:18.361Z"
   },
   {
    "duration": 13,
    "start_time": "2023-05-21T12:37:18.380Z"
   },
   {
    "duration": 8,
    "start_time": "2023-05-21T12:37:18.395Z"
   },
   {
    "duration": 4,
    "start_time": "2023-05-21T12:37:18.404Z"
   },
   {
    "duration": 14,
    "start_time": "2023-05-21T12:37:18.409Z"
   },
   {
    "duration": 3,
    "start_time": "2023-05-21T12:37:18.424Z"
   },
   {
    "duration": 6,
    "start_time": "2023-05-21T12:37:18.429Z"
   },
   {
    "duration": 76,
    "start_time": "2023-05-21T12:37:18.436Z"
   },
   {
    "duration": 4,
    "start_time": "2023-05-21T12:37:18.513Z"
   },
   {
    "duration": 12,
    "start_time": "2023-05-21T12:37:18.518Z"
   },
   {
    "duration": 9,
    "start_time": "2023-05-21T12:37:18.532Z"
   },
   {
    "duration": 6,
    "start_time": "2023-05-21T12:37:18.543Z"
   },
   {
    "duration": 26,
    "start_time": "2023-05-21T12:37:18.551Z"
   },
   {
    "duration": 6,
    "start_time": "2023-05-21T12:37:18.579Z"
   },
   {
    "duration": 9,
    "start_time": "2023-05-21T12:37:18.586Z"
   },
   {
    "duration": 7,
    "start_time": "2023-05-21T12:37:18.596Z"
   },
   {
    "duration": 7,
    "start_time": "2023-05-21T12:37:18.604Z"
   },
   {
    "duration": 7,
    "start_time": "2023-05-21T12:37:18.612Z"
   },
   {
    "duration": 19,
    "start_time": "2023-05-21T12:37:18.620Z"
   },
   {
    "duration": 189,
    "start_time": "2023-05-21T12:37:18.640Z"
   },
   {
    "duration": 118,
    "start_time": "2023-05-21T12:37:18.832Z"
   },
   {
    "duration": 5,
    "start_time": "2023-05-21T12:37:18.952Z"
   },
   {
    "duration": 18,
    "start_time": "2023-05-21T12:37:18.958Z"
   },
   {
    "duration": 11,
    "start_time": "2023-05-21T12:37:18.977Z"
   },
   {
    "duration": 10,
    "start_time": "2023-05-21T12:37:18.989Z"
   },
   {
    "duration": 28,
    "start_time": "2023-05-21T12:37:19.001Z"
   },
   {
    "duration": 284,
    "start_time": "2023-05-21T12:37:19.030Z"
   },
   {
    "duration": 221,
    "start_time": "2023-05-21T12:37:19.315Z"
   },
   {
    "duration": 6,
    "start_time": "2023-05-21T12:37:19.538Z"
   },
   {
    "duration": 335,
    "start_time": "2023-05-21T12:37:19.545Z"
   },
   {
    "duration": 4,
    "start_time": "2023-05-21T12:37:19.882Z"
   },
   {
    "duration": 7,
    "start_time": "2023-05-21T12:37:19.887Z"
   },
   {
    "duration": 235,
    "start_time": "2023-05-21T12:37:19.895Z"
   },
   {
    "duration": 8,
    "start_time": "2023-05-21T12:37:20.131Z"
   },
   {
    "duration": 329,
    "start_time": "2023-05-21T12:37:20.140Z"
   },
   {
    "duration": 7,
    "start_time": "2023-05-21T12:37:20.475Z"
   },
   {
    "duration": 5,
    "start_time": "2023-05-21T12:37:20.484Z"
   },
   {
    "duration": 141,
    "start_time": "2023-05-21T12:37:20.491Z"
   },
   {
    "duration": 4,
    "start_time": "2023-05-21T12:37:20.633Z"
   },
   {
    "duration": 20,
    "start_time": "2023-05-21T12:37:20.639Z"
   },
   {
    "duration": 166,
    "start_time": "2023-05-21T12:37:20.661Z"
   },
   {
    "duration": 5,
    "start_time": "2023-05-21T12:37:20.828Z"
   },
   {
    "duration": 74,
    "start_time": "2023-05-21T12:37:20.834Z"
   },
   {
    "duration": 86,
    "start_time": "2023-05-21T12:37:20.910Z"
   },
   {
    "duration": 7,
    "start_time": "2023-05-21T12:37:20.997Z"
   },
   {
    "duration": 16,
    "start_time": "2023-05-21T12:37:21.006Z"
   },
   {
    "duration": 136,
    "start_time": "2023-05-21T12:37:21.024Z"
   },
   {
    "duration": 47,
    "start_time": "2023-05-21T12:37:21.161Z"
   },
   {
    "duration": 29,
    "start_time": "2023-05-21T12:37:21.210Z"
   },
   {
    "duration": 93,
    "start_time": "2023-05-21T12:37:21.241Z"
   },
   {
    "duration": 20,
    "start_time": "2023-05-21T12:37:21.336Z"
   },
   {
    "duration": 19,
    "start_time": "2023-05-21T12:37:21.358Z"
   },
   {
    "duration": 5,
    "start_time": "2023-05-21T12:37:21.379Z"
   },
   {
    "duration": 24,
    "start_time": "2023-05-21T12:37:21.386Z"
   },
   {
    "duration": 11,
    "start_time": "2023-05-21T12:37:21.412Z"
   },
   {
    "duration": 17,
    "start_time": "2023-05-21T12:37:21.424Z"
   },
   {
    "duration": 7,
    "start_time": "2023-05-21T12:37:21.442Z"
   },
   {
    "duration": 19,
    "start_time": "2023-05-21T12:37:21.450Z"
   },
   {
    "duration": 7,
    "start_time": "2023-05-21T12:37:21.471Z"
   },
   {
    "duration": 12,
    "start_time": "2023-05-21T12:37:21.479Z"
   },
   {
    "duration": 24,
    "start_time": "2023-05-21T12:37:21.492Z"
   },
   {
    "duration": 9,
    "start_time": "2023-05-21T12:37:21.517Z"
   },
   {
    "duration": 17,
    "start_time": "2023-05-21T12:37:21.527Z"
   },
   {
    "duration": 1104,
    "start_time": "2023-05-21T12:49:22.005Z"
   },
   {
    "duration": 77,
    "start_time": "2023-05-21T12:49:23.111Z"
   },
   {
    "duration": 12,
    "start_time": "2023-05-21T12:49:23.189Z"
   },
   {
    "duration": 5,
    "start_time": "2023-05-21T12:49:23.202Z"
   },
   {
    "duration": 18,
    "start_time": "2023-05-21T12:49:23.209Z"
   },
   {
    "duration": 7,
    "start_time": "2023-05-21T12:49:23.229Z"
   },
   {
    "duration": 10,
    "start_time": "2023-05-21T12:49:23.238Z"
   },
   {
    "duration": 26,
    "start_time": "2023-05-21T12:49:23.250Z"
   },
   {
    "duration": 15,
    "start_time": "2023-05-21T12:49:23.278Z"
   },
   {
    "duration": 8,
    "start_time": "2023-05-21T12:49:23.295Z"
   },
   {
    "duration": 6,
    "start_time": "2023-05-21T12:49:23.304Z"
   },
   {
    "duration": 13,
    "start_time": "2023-05-21T12:49:23.311Z"
   },
   {
    "duration": 5,
    "start_time": "2023-05-21T12:49:23.325Z"
   },
   {
    "duration": 15,
    "start_time": "2023-05-21T12:49:23.333Z"
   },
   {
    "duration": 66,
    "start_time": "2023-05-21T12:49:23.350Z"
   },
   {
    "duration": 3,
    "start_time": "2023-05-21T12:49:23.418Z"
   },
   {
    "duration": 14,
    "start_time": "2023-05-21T12:49:23.422Z"
   },
   {
    "duration": 20,
    "start_time": "2023-05-21T12:49:23.438Z"
   },
   {
    "duration": 16,
    "start_time": "2023-05-21T12:49:23.459Z"
   },
   {
    "duration": 5,
    "start_time": "2023-05-21T12:49:23.476Z"
   },
   {
    "duration": 6,
    "start_time": "2023-05-21T12:49:23.482Z"
   },
   {
    "duration": 8,
    "start_time": "2023-05-21T12:49:23.489Z"
   },
   {
    "duration": 8,
    "start_time": "2023-05-21T12:49:23.498Z"
   },
   {
    "duration": 8,
    "start_time": "2023-05-21T12:49:23.507Z"
   },
   {
    "duration": 7,
    "start_time": "2023-05-21T12:49:23.516Z"
   },
   {
    "duration": 9,
    "start_time": "2023-05-21T12:49:23.524Z"
   },
   {
    "duration": 191,
    "start_time": "2023-05-21T12:49:23.534Z"
   },
   {
    "duration": 126,
    "start_time": "2023-05-21T12:49:23.726Z"
   },
   {
    "duration": 21,
    "start_time": "2023-05-21T12:49:23.854Z"
   },
   {
    "duration": 3,
    "start_time": "2023-05-21T12:49:23.876Z"
   },
   {
    "duration": 11,
    "start_time": "2023-05-21T12:49:23.880Z"
   },
   {
    "duration": 5,
    "start_time": "2023-05-21T12:49:23.892Z"
   },
   {
    "duration": 4,
    "start_time": "2023-05-21T12:49:23.898Z"
   },
   {
    "duration": 367,
    "start_time": "2023-05-21T12:49:23.904Z"
   },
   {
    "duration": 207,
    "start_time": "2023-05-21T12:49:24.273Z"
   },
   {
    "duration": 6,
    "start_time": "2023-05-21T12:49:24.481Z"
   },
   {
    "duration": 327,
    "start_time": "2023-05-21T12:49:24.488Z"
   },
   {
    "duration": 5,
    "start_time": "2023-05-21T12:49:24.817Z"
   },
   {
    "duration": 6,
    "start_time": "2023-05-21T12:49:24.823Z"
   },
   {
    "duration": 222,
    "start_time": "2023-05-21T12:49:24.831Z"
   },
   {
    "duration": 18,
    "start_time": "2023-05-21T12:49:25.058Z"
   },
   {
    "duration": 309,
    "start_time": "2023-05-21T12:49:25.078Z"
   },
   {
    "duration": 7,
    "start_time": "2023-05-21T12:49:25.388Z"
   },
   {
    "duration": 4,
    "start_time": "2023-05-21T12:49:25.397Z"
   },
   {
    "duration": 149,
    "start_time": "2023-05-21T12:49:25.402Z"
   },
   {
    "duration": 3,
    "start_time": "2023-05-21T12:49:25.553Z"
   },
   {
    "duration": 21,
    "start_time": "2023-05-21T12:49:25.558Z"
   },
   {
    "duration": 159,
    "start_time": "2023-05-21T12:49:25.581Z"
   },
   {
    "duration": 4,
    "start_time": "2023-05-21T12:49:25.741Z"
   },
   {
    "duration": 67,
    "start_time": "2023-05-21T12:49:25.746Z"
   },
   {
    "duration": 77,
    "start_time": "2023-05-21T12:49:25.815Z"
   },
   {
    "duration": 6,
    "start_time": "2023-05-21T12:49:25.894Z"
   },
   {
    "duration": 9,
    "start_time": "2023-05-21T12:49:25.901Z"
   },
   {
    "duration": 126,
    "start_time": "2023-05-21T12:49:25.911Z"
   },
   {
    "duration": 56,
    "start_time": "2023-05-21T12:49:26.038Z"
   },
   {
    "duration": 24,
    "start_time": "2023-05-21T12:49:26.096Z"
   },
   {
    "duration": 98,
    "start_time": "2023-05-21T12:49:26.122Z"
   },
   {
    "duration": 24,
    "start_time": "2023-05-21T12:49:26.222Z"
   },
   {
    "duration": 6,
    "start_time": "2023-05-21T12:49:26.248Z"
   },
   {
    "duration": 21,
    "start_time": "2023-05-21T12:49:26.255Z"
   },
   {
    "duration": 29,
    "start_time": "2023-05-21T12:49:26.278Z"
   },
   {
    "duration": 11,
    "start_time": "2023-05-21T12:49:26.308Z"
   },
   {
    "duration": 6,
    "start_time": "2023-05-21T12:49:26.320Z"
   },
   {
    "duration": 6,
    "start_time": "2023-05-21T12:49:26.328Z"
   },
   {
    "duration": 4,
    "start_time": "2023-05-21T12:49:26.336Z"
   },
   {
    "duration": 36,
    "start_time": "2023-05-21T12:49:26.342Z"
   },
   {
    "duration": 8,
    "start_time": "2023-05-21T12:49:26.379Z"
   },
   {
    "duration": 23,
    "start_time": "2023-05-21T12:49:26.388Z"
   },
   {
    "duration": 8,
    "start_time": "2023-05-21T12:49:26.412Z"
   },
   {
    "duration": 15,
    "start_time": "2023-05-21T12:49:26.422Z"
   },
   {
    "duration": 65,
    "start_time": "2023-05-21T13:48:16.249Z"
   },
   {
    "duration": 1155,
    "start_time": "2023-05-21T13:51:09.807Z"
   },
   {
    "duration": 77,
    "start_time": "2023-05-21T13:51:10.964Z"
   },
   {
    "duration": 13,
    "start_time": "2023-05-21T13:51:11.042Z"
   },
   {
    "duration": 7,
    "start_time": "2023-05-21T13:51:11.058Z"
   },
   {
    "duration": 22,
    "start_time": "2023-05-21T13:51:11.066Z"
   },
   {
    "duration": 6,
    "start_time": "2023-05-21T13:51:11.089Z"
   },
   {
    "duration": 9,
    "start_time": "2023-05-21T13:51:11.097Z"
   },
   {
    "duration": 13,
    "start_time": "2023-05-21T13:51:11.108Z"
   },
   {
    "duration": 15,
    "start_time": "2023-05-21T13:51:11.123Z"
   },
   {
    "duration": 7,
    "start_time": "2023-05-21T13:51:11.141Z"
   },
   {
    "duration": 9,
    "start_time": "2023-05-21T13:51:11.150Z"
   },
   {
    "duration": 20,
    "start_time": "2023-05-21T13:51:11.161Z"
   },
   {
    "duration": 9,
    "start_time": "2023-05-21T13:51:11.182Z"
   },
   {
    "duration": 14,
    "start_time": "2023-05-21T13:51:11.193Z"
   },
   {
    "duration": 59,
    "start_time": "2023-05-21T13:51:11.209Z"
   },
   {
    "duration": 4,
    "start_time": "2023-05-21T13:51:11.270Z"
   },
   {
    "duration": 15,
    "start_time": "2023-05-21T13:51:11.276Z"
   },
   {
    "duration": 23,
    "start_time": "2023-05-21T13:51:11.293Z"
   },
   {
    "duration": 5,
    "start_time": "2023-05-21T13:51:11.318Z"
   },
   {
    "duration": 14,
    "start_time": "2023-05-21T13:51:11.324Z"
   },
   {
    "duration": 10,
    "start_time": "2023-05-21T13:51:11.340Z"
   },
   {
    "duration": 11,
    "start_time": "2023-05-21T13:51:11.352Z"
   },
   {
    "duration": 24,
    "start_time": "2023-05-21T13:51:11.364Z"
   },
   {
    "duration": 10,
    "start_time": "2023-05-21T13:51:11.389Z"
   },
   {
    "duration": 7,
    "start_time": "2023-05-21T13:51:11.401Z"
   },
   {
    "duration": 7,
    "start_time": "2023-05-21T13:51:11.409Z"
   },
   {
    "duration": 154,
    "start_time": "2023-05-21T13:51:11.417Z"
   },
   {
    "duration": 121,
    "start_time": "2023-05-21T13:51:11.574Z"
   },
   {
    "duration": 6,
    "start_time": "2023-05-21T13:51:11.697Z"
   },
   {
    "duration": 12,
    "start_time": "2023-05-21T13:51:11.705Z"
   },
   {
    "duration": 9,
    "start_time": "2023-05-21T13:51:11.718Z"
   },
   {
    "duration": 4,
    "start_time": "2023-05-21T13:51:11.729Z"
   },
   {
    "duration": 5,
    "start_time": "2023-05-21T13:51:11.735Z"
   },
   {
    "duration": 292,
    "start_time": "2023-05-21T13:51:11.742Z"
   },
   {
    "duration": 219,
    "start_time": "2023-05-21T13:51:12.036Z"
   },
   {
    "duration": 5,
    "start_time": "2023-05-21T13:51:12.257Z"
   },
   {
    "duration": 284,
    "start_time": "2023-05-21T13:51:12.264Z"
   },
   {
    "duration": 3,
    "start_time": "2023-05-21T13:51:12.550Z"
   },
   {
    "duration": 6,
    "start_time": "2023-05-21T13:51:12.554Z"
   },
   {
    "duration": 223,
    "start_time": "2023-05-21T13:51:12.562Z"
   },
   {
    "duration": 8,
    "start_time": "2023-05-21T13:51:12.787Z"
   },
   {
    "duration": 322,
    "start_time": "2023-05-21T13:51:12.797Z"
   },
   {
    "duration": 8,
    "start_time": "2023-05-21T13:51:13.121Z"
   },
   {
    "duration": 11,
    "start_time": "2023-05-21T13:51:13.130Z"
   },
   {
    "duration": 139,
    "start_time": "2023-05-21T13:51:13.143Z"
   },
   {
    "duration": 4,
    "start_time": "2023-05-21T13:51:13.284Z"
   },
   {
    "duration": 13,
    "start_time": "2023-05-21T13:51:13.290Z"
   },
   {
    "duration": 172,
    "start_time": "2023-05-21T13:51:13.318Z"
   },
   {
    "duration": 5,
    "start_time": "2023-05-21T13:51:13.492Z"
   },
   {
    "duration": 78,
    "start_time": "2023-05-21T13:51:13.498Z"
   },
   {
    "duration": 85,
    "start_time": "2023-05-21T13:51:13.578Z"
   },
   {
    "duration": 6,
    "start_time": "2023-05-21T13:51:13.665Z"
   },
   {
    "duration": 24,
    "start_time": "2023-05-21T13:51:13.673Z"
   },
   {
    "duration": 103,
    "start_time": "2023-05-21T13:51:13.698Z"
   },
   {
    "duration": 46,
    "start_time": "2023-05-21T13:51:13.803Z"
   },
   {
    "duration": 28,
    "start_time": "2023-05-21T13:51:13.850Z"
   },
   {
    "duration": 87,
    "start_time": "2023-05-21T13:51:13.879Z"
   },
   {
    "duration": 20,
    "start_time": "2023-05-21T13:51:13.968Z"
   },
   {
    "duration": 5,
    "start_time": "2023-05-21T13:51:13.990Z"
   },
   {
    "duration": 22,
    "start_time": "2023-05-21T13:51:13.997Z"
   },
   {
    "duration": 28,
    "start_time": "2023-05-21T13:51:14.020Z"
   },
   {
    "duration": 10,
    "start_time": "2023-05-21T13:51:14.049Z"
   },
   {
    "duration": 5,
    "start_time": "2023-05-21T13:51:14.061Z"
   },
   {
    "duration": 7,
    "start_time": "2023-05-21T13:51:14.067Z"
   },
   {
    "duration": 10,
    "start_time": "2023-05-21T13:51:14.075Z"
   },
   {
    "duration": 12,
    "start_time": "2023-05-21T13:51:14.086Z"
   },
   {
    "duration": 21,
    "start_time": "2023-05-21T13:51:14.100Z"
   },
   {
    "duration": 23,
    "start_time": "2023-05-21T13:51:14.123Z"
   },
   {
    "duration": 8,
    "start_time": "2023-05-21T13:51:14.148Z"
   },
   {
    "duration": 10,
    "start_time": "2023-05-21T13:51:14.158Z"
   },
   {
    "duration": 1306,
    "start_time": "2023-05-21T23:28:17.128Z"
   },
   {
    "duration": 81,
    "start_time": "2023-05-21T23:28:18.437Z"
   },
   {
    "duration": 15,
    "start_time": "2023-05-21T23:28:18.520Z"
   },
   {
    "duration": 10,
    "start_time": "2023-05-21T23:28:18.536Z"
   },
   {
    "duration": 26,
    "start_time": "2023-05-21T23:28:18.549Z"
   },
   {
    "duration": 9,
    "start_time": "2023-05-21T23:28:18.576Z"
   },
   {
    "duration": 11,
    "start_time": "2023-05-21T23:28:18.587Z"
   },
   {
    "duration": 17,
    "start_time": "2023-05-21T23:28:18.600Z"
   },
   {
    "duration": 21,
    "start_time": "2023-05-21T23:28:18.620Z"
   },
   {
    "duration": 12,
    "start_time": "2023-05-21T23:28:18.670Z"
   },
   {
    "duration": 10,
    "start_time": "2023-05-21T23:28:18.683Z"
   },
   {
    "duration": 43,
    "start_time": "2023-05-21T23:28:18.696Z"
   },
   {
    "duration": 16,
    "start_time": "2023-05-21T23:28:18.742Z"
   },
   {
    "duration": 13,
    "start_time": "2023-05-21T23:28:18.762Z"
   },
   {
    "duration": 60,
    "start_time": "2023-05-21T23:28:18.777Z"
   },
   {
    "duration": 4,
    "start_time": "2023-05-21T23:28:18.839Z"
   },
   {
    "duration": 31,
    "start_time": "2023-05-21T23:28:18.845Z"
   },
   {
    "duration": 32,
    "start_time": "2023-05-21T23:28:18.878Z"
   },
   {
    "duration": 20,
    "start_time": "2023-05-21T23:28:18.912Z"
   },
   {
    "duration": 14,
    "start_time": "2023-05-21T23:28:18.934Z"
   },
   {
    "duration": 22,
    "start_time": "2023-05-21T23:28:18.950Z"
   },
   {
    "duration": 14,
    "start_time": "2023-05-21T23:28:18.974Z"
   },
   {
    "duration": 11,
    "start_time": "2023-05-21T23:28:18.990Z"
   },
   {
    "duration": 10,
    "start_time": "2023-05-21T23:28:19.002Z"
   },
   {
    "duration": 25,
    "start_time": "2023-05-21T23:28:19.014Z"
   },
   {
    "duration": 19,
    "start_time": "2023-05-21T23:28:19.041Z"
   },
   {
    "duration": 189,
    "start_time": "2023-05-21T23:28:19.072Z"
   },
   {
    "duration": 145,
    "start_time": "2023-05-21T23:28:19.270Z"
   },
   {
    "duration": 8,
    "start_time": "2023-05-21T23:28:19.417Z"
   },
   {
    "duration": 7,
    "start_time": "2023-05-21T23:28:19.428Z"
   },
   {
    "duration": 21,
    "start_time": "2023-05-21T23:28:19.437Z"
   },
   {
    "duration": 13,
    "start_time": "2023-05-21T23:28:19.472Z"
   },
   {
    "duration": 8,
    "start_time": "2023-05-21T23:28:19.487Z"
   },
   {
    "duration": 334,
    "start_time": "2023-05-21T23:28:19.497Z"
   },
   {
    "duration": 252,
    "start_time": "2023-05-21T23:28:19.833Z"
   },
   {
    "duration": 7,
    "start_time": "2023-05-21T23:28:20.087Z"
   },
   {
    "duration": 328,
    "start_time": "2023-05-21T23:28:20.096Z"
   },
   {
    "duration": 4,
    "start_time": "2023-05-21T23:28:20.427Z"
   },
   {
    "duration": 11,
    "start_time": "2023-05-21T23:28:20.433Z"
   },
   {
    "duration": 263,
    "start_time": "2023-05-21T23:28:20.446Z"
   },
   {
    "duration": 9,
    "start_time": "2023-05-21T23:28:20.714Z"
   },
   {
    "duration": 371,
    "start_time": "2023-05-21T23:28:20.725Z"
   },
   {
    "duration": 7,
    "start_time": "2023-05-21T23:28:21.098Z"
   },
   {
    "duration": 6,
    "start_time": "2023-05-21T23:28:21.107Z"
   },
   {
    "duration": 177,
    "start_time": "2023-05-21T23:28:21.114Z"
   },
   {
    "duration": 5,
    "start_time": "2023-05-21T23:28:21.294Z"
   },
   {
    "duration": 15,
    "start_time": "2023-05-21T23:28:21.301Z"
   },
   {
    "duration": 205,
    "start_time": "2023-05-21T23:28:21.318Z"
   },
   {
    "duration": 5,
    "start_time": "2023-05-21T23:28:21.525Z"
   },
   {
    "duration": 82,
    "start_time": "2023-05-21T23:28:21.532Z"
   },
   {
    "duration": 93,
    "start_time": "2023-05-21T23:28:21.616Z"
   },
   {
    "duration": 8,
    "start_time": "2023-05-21T23:28:21.712Z"
   },
   {
    "duration": 17,
    "start_time": "2023-05-21T23:28:21.722Z"
   },
   {
    "duration": 179,
    "start_time": "2023-05-21T23:28:21.740Z"
   },
   {
    "duration": 60,
    "start_time": "2023-05-21T23:28:21.921Z"
   },
   {
    "duration": 34,
    "start_time": "2023-05-21T23:28:21.983Z"
   },
   {
    "duration": 115,
    "start_time": "2023-05-21T23:28:22.019Z"
   },
   {
    "duration": 39,
    "start_time": "2023-05-21T23:28:22.135Z"
   },
   {
    "duration": 7,
    "start_time": "2023-05-21T23:28:22.176Z"
   },
   {
    "duration": 11,
    "start_time": "2023-05-21T23:28:22.185Z"
   },
   {
    "duration": 24,
    "start_time": "2023-05-21T23:28:22.198Z"
   },
   {
    "duration": 12,
    "start_time": "2023-05-21T23:28:22.225Z"
   },
   {
    "duration": 37,
    "start_time": "2023-05-21T23:28:22.239Z"
   },
   {
    "duration": 9,
    "start_time": "2023-05-21T23:28:22.278Z"
   },
   {
    "duration": 6,
    "start_time": "2023-05-21T23:28:22.289Z"
   },
   {
    "duration": 8,
    "start_time": "2023-05-21T23:28:22.298Z"
   },
   {
    "duration": 10,
    "start_time": "2023-05-21T23:28:22.308Z"
   },
   {
    "duration": 54,
    "start_time": "2023-05-21T23:28:22.320Z"
   },
   {
    "duration": 9,
    "start_time": "2023-05-21T23:28:22.376Z"
   },
   {
    "duration": 14,
    "start_time": "2023-05-21T23:28:22.387Z"
   }
  ],
  "kernelspec": {
   "display_name": "Python 3 (ipykernel)",
   "language": "python",
   "name": "python3"
  },
  "language_info": {
   "codemirror_mode": {
    "name": "ipython",
    "version": 3
   },
   "file_extension": ".py",
   "mimetype": "text/x-python",
   "name": "python",
   "nbconvert_exporter": "python",
   "pygments_lexer": "ipython3",
   "version": "3.9.5"
  },
  "toc": {
   "base_numbering": 1,
   "nav_menu": {},
   "number_sections": true,
   "sideBar": true,
   "skip_h1_title": true,
   "title_cell": "Table of Contents",
   "title_sidebar": "Contents",
   "toc_cell": false,
   "toc_position": {},
   "toc_section_display": true,
   "toc_window_display": false
  }
 },
 "nbformat": 4,
 "nbformat_minor": 2
}
