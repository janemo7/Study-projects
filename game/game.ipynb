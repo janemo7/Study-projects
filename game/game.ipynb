{
 "cells": [
  {
   "cell_type": "markdown",
   "metadata": {},
   "source": [
    "# Исследование рынка компьютерных игр. #\n",
    "**Нужно провести исследование всемирного рынка компьютерных игр, что бы определить закономерности определяющие успешность игры и выбрать потенциально популярный продукт, что бы спланировать рекламную компанию на 2017 год для Интернет – магазина «Стримчик» который продает по всему миру компьютерные игры. \n",
    "Данные взяты из открытых источников по декабрь 2016 года.** \n",
    "\n",
    "**Цель исследования** — проверить  две гипотезы:\n",
    "\n",
    "•\tГипотеза 1: Средние пользовательские рейтинги платформ Xbox One и PC одинаковые \n",
    "\n",
    "•\tГипотеза 2: Средние пользовательские рейтинги жанров Action и Sports разные \n",
    "\n",
    "**Ход исследования**\n",
    "1. Обзор данных.\n",
    "2. Предобработка данных.\n",
    "3. Исследовательский анализ\n",
    "4. Составление портрета пользователя каждого региона\n",
    "5. Проверка гипотез\n",
    "6. Общий вывод\n"
   ]
  },
  {
   "cell_type": "code",
   "execution_count": 1,
   "metadata": {},
   "outputs": [],
   "source": [
    "import pandas as pd\n",
    "import numpy as np\n",
    "import matplotlib.pyplot as plt\n",
    "import seaborn as sns\n",
    "from scipy import stats as st\n",
    "import warnings\n",
    "warnings.filterwarnings('ignore')"
   ]
  },
  {
   "cell_type": "markdown",
   "metadata": {},
   "source": [
    "<h2> Шаг. Изучим общую информацию "
   ]
  },
  {
   "cell_type": "code",
   "execution_count": 2,
   "metadata": {},
   "outputs": [
    {
     "data": {
      "text/html": [
       "<div>\n",
       "<style scoped>\n",
       "    .dataframe tbody tr th:only-of-type {\n",
       "        vertical-align: middle;\n",
       "    }\n",
       "\n",
       "    .dataframe tbody tr th {\n",
       "        vertical-align: top;\n",
       "    }\n",
       "\n",
       "    .dataframe thead th {\n",
       "        text-align: right;\n",
       "    }\n",
       "</style>\n",
       "<table border=\"1\" class=\"dataframe\">\n",
       "  <thead>\n",
       "    <tr style=\"text-align: right;\">\n",
       "      <th></th>\n",
       "      <th>Name</th>\n",
       "      <th>Platform</th>\n",
       "      <th>Year_of_Release</th>\n",
       "      <th>Genre</th>\n",
       "      <th>NA_sales</th>\n",
       "      <th>EU_sales</th>\n",
       "      <th>JP_sales</th>\n",
       "      <th>Other_sales</th>\n",
       "      <th>Critic_Score</th>\n",
       "      <th>User_Score</th>\n",
       "      <th>Rating</th>\n",
       "    </tr>\n",
       "  </thead>\n",
       "  <tbody>\n",
       "    <tr>\n",
       "      <th>0</th>\n",
       "      <td>Wii Sports</td>\n",
       "      <td>Wii</td>\n",
       "      <td>2006.0</td>\n",
       "      <td>Sports</td>\n",
       "      <td>41.36</td>\n",
       "      <td>28.96</td>\n",
       "      <td>3.77</td>\n",
       "      <td>8.45</td>\n",
       "      <td>76.0</td>\n",
       "      <td>8</td>\n",
       "      <td>E</td>\n",
       "    </tr>\n",
       "    <tr>\n",
       "      <th>1</th>\n",
       "      <td>Super Mario Bros.</td>\n",
       "      <td>NES</td>\n",
       "      <td>1985.0</td>\n",
       "      <td>Platform</td>\n",
       "      <td>29.08</td>\n",
       "      <td>3.58</td>\n",
       "      <td>6.81</td>\n",
       "      <td>0.77</td>\n",
       "      <td>NaN</td>\n",
       "      <td>NaN</td>\n",
       "      <td>NaN</td>\n",
       "    </tr>\n",
       "    <tr>\n",
       "      <th>2</th>\n",
       "      <td>Mario Kart Wii</td>\n",
       "      <td>Wii</td>\n",
       "      <td>2008.0</td>\n",
       "      <td>Racing</td>\n",
       "      <td>15.68</td>\n",
       "      <td>12.76</td>\n",
       "      <td>3.79</td>\n",
       "      <td>3.29</td>\n",
       "      <td>82.0</td>\n",
       "      <td>8.3</td>\n",
       "      <td>E</td>\n",
       "    </tr>\n",
       "    <tr>\n",
       "      <th>3</th>\n",
       "      <td>Wii Sports Resort</td>\n",
       "      <td>Wii</td>\n",
       "      <td>2009.0</td>\n",
       "      <td>Sports</td>\n",
       "      <td>15.61</td>\n",
       "      <td>10.93</td>\n",
       "      <td>3.28</td>\n",
       "      <td>2.95</td>\n",
       "      <td>80.0</td>\n",
       "      <td>8</td>\n",
       "      <td>E</td>\n",
       "    </tr>\n",
       "    <tr>\n",
       "      <th>4</th>\n",
       "      <td>Pokemon Red/Pokemon Blue</td>\n",
       "      <td>GB</td>\n",
       "      <td>1996.0</td>\n",
       "      <td>Role-Playing</td>\n",
       "      <td>11.27</td>\n",
       "      <td>8.89</td>\n",
       "      <td>10.22</td>\n",
       "      <td>1.00</td>\n",
       "      <td>NaN</td>\n",
       "      <td>NaN</td>\n",
       "      <td>NaN</td>\n",
       "    </tr>\n",
       "    <tr>\n",
       "      <th>5</th>\n",
       "      <td>Tetris</td>\n",
       "      <td>GB</td>\n",
       "      <td>1989.0</td>\n",
       "      <td>Puzzle</td>\n",
       "      <td>23.20</td>\n",
       "      <td>2.26</td>\n",
       "      <td>4.22</td>\n",
       "      <td>0.58</td>\n",
       "      <td>NaN</td>\n",
       "      <td>NaN</td>\n",
       "      <td>NaN</td>\n",
       "    </tr>\n",
       "    <tr>\n",
       "      <th>6</th>\n",
       "      <td>New Super Mario Bros.</td>\n",
       "      <td>DS</td>\n",
       "      <td>2006.0</td>\n",
       "      <td>Platform</td>\n",
       "      <td>11.28</td>\n",
       "      <td>9.14</td>\n",
       "      <td>6.50</td>\n",
       "      <td>2.88</td>\n",
       "      <td>89.0</td>\n",
       "      <td>8.5</td>\n",
       "      <td>E</td>\n",
       "    </tr>\n",
       "  </tbody>\n",
       "</table>\n",
       "</div>"
      ],
      "text/plain": [
       "                       Name Platform  Year_of_Release         Genre  NA_sales  \\\n",
       "0                Wii Sports      Wii           2006.0        Sports     41.36   \n",
       "1         Super Mario Bros.      NES           1985.0      Platform     29.08   \n",
       "2            Mario Kart Wii      Wii           2008.0        Racing     15.68   \n",
       "3         Wii Sports Resort      Wii           2009.0        Sports     15.61   \n",
       "4  Pokemon Red/Pokemon Blue       GB           1996.0  Role-Playing     11.27   \n",
       "5                    Tetris       GB           1989.0        Puzzle     23.20   \n",
       "6     New Super Mario Bros.       DS           2006.0      Platform     11.28   \n",
       "\n",
       "   EU_sales  JP_sales  Other_sales  Critic_Score User_Score Rating  \n",
       "0     28.96      3.77         8.45          76.0          8      E  \n",
       "1      3.58      6.81         0.77           NaN        NaN    NaN  \n",
       "2     12.76      3.79         3.29          82.0        8.3      E  \n",
       "3     10.93      3.28         2.95          80.0          8      E  \n",
       "4      8.89     10.22         1.00           NaN        NaN    NaN  \n",
       "5      2.26      4.22         0.58           NaN        NaN    NaN  \n",
       "6      9.14      6.50         2.88          89.0        8.5      E  "
      ]
     },
     "execution_count": 2,
     "metadata": {},
     "output_type": "execute_result"
    }
   ],
   "source": [
    "df = pd.read_csv('/datasets/games.csv')\n",
    "df.head(7)"
   ]
  },
  {
   "cell_type": "code",
   "execution_count": 3,
   "metadata": {},
   "outputs": [
    {
     "data": {
      "text/html": [
       "<div>\n",
       "<style scoped>\n",
       "    .dataframe tbody tr th:only-of-type {\n",
       "        vertical-align: middle;\n",
       "    }\n",
       "\n",
       "    .dataframe tbody tr th {\n",
       "        vertical-align: top;\n",
       "    }\n",
       "\n",
       "    .dataframe thead th {\n",
       "        text-align: right;\n",
       "    }\n",
       "</style>\n",
       "<table border=\"1\" class=\"dataframe\">\n",
       "  <thead>\n",
       "    <tr style=\"text-align: right;\">\n",
       "      <th></th>\n",
       "      <th>Name</th>\n",
       "      <th>Platform</th>\n",
       "      <th>Year_of_Release</th>\n",
       "      <th>Genre</th>\n",
       "      <th>NA_sales</th>\n",
       "      <th>EU_sales</th>\n",
       "      <th>JP_sales</th>\n",
       "      <th>Other_sales</th>\n",
       "      <th>Critic_Score</th>\n",
       "      <th>User_Score</th>\n",
       "      <th>Rating</th>\n",
       "    </tr>\n",
       "  </thead>\n",
       "  <tbody>\n",
       "    <tr>\n",
       "      <th>4276</th>\n",
       "      <td>2 Games in 1: SpongeBob SquarePants: SuperSpon...</td>\n",
       "      <td>GBA</td>\n",
       "      <td>2005.0</td>\n",
       "      <td>Platform</td>\n",
       "      <td>0.33</td>\n",
       "      <td>0.12</td>\n",
       "      <td>0.00</td>\n",
       "      <td>0.01</td>\n",
       "      <td>NaN</td>\n",
       "      <td>NaN</td>\n",
       "      <td>NaN</td>\n",
       "    </tr>\n",
       "    <tr>\n",
       "      <th>4757</th>\n",
       "      <td>NFL GameDay 2002</td>\n",
       "      <td>PS</td>\n",
       "      <td>2001.0</td>\n",
       "      <td>Sports</td>\n",
       "      <td>0.23</td>\n",
       "      <td>0.15</td>\n",
       "      <td>0.00</td>\n",
       "      <td>0.03</td>\n",
       "      <td>62.0</td>\n",
       "      <td>8.8</td>\n",
       "      <td>E</td>\n",
       "    </tr>\n",
       "    <tr>\n",
       "      <th>3789</th>\n",
       "      <td>G-Force</td>\n",
       "      <td>DS</td>\n",
       "      <td>2009.0</td>\n",
       "      <td>Action</td>\n",
       "      <td>0.26</td>\n",
       "      <td>0.21</td>\n",
       "      <td>0.00</td>\n",
       "      <td>0.05</td>\n",
       "      <td>NaN</td>\n",
       "      <td>9</td>\n",
       "      <td>E10+</td>\n",
       "    </tr>\n",
       "    <tr>\n",
       "      <th>11492</th>\n",
       "      <td>The King of Fighters '96</td>\n",
       "      <td>PS</td>\n",
       "      <td>1997.0</td>\n",
       "      <td>Fighting</td>\n",
       "      <td>0.00</td>\n",
       "      <td>0.00</td>\n",
       "      <td>0.07</td>\n",
       "      <td>0.01</td>\n",
       "      <td>NaN</td>\n",
       "      <td>NaN</td>\n",
       "      <td>NaN</td>\n",
       "    </tr>\n",
       "    <tr>\n",
       "      <th>8183</th>\n",
       "      <td>Backyard Basketball</td>\n",
       "      <td>GBA</td>\n",
       "      <td>2004.0</td>\n",
       "      <td>Sports</td>\n",
       "      <td>0.13</td>\n",
       "      <td>0.05</td>\n",
       "      <td>0.00</td>\n",
       "      <td>0.00</td>\n",
       "      <td>NaN</td>\n",
       "      <td>tbd</td>\n",
       "      <td>E</td>\n",
       "    </tr>\n",
       "    <tr>\n",
       "      <th>9061</th>\n",
       "      <td>Zetta Hero Project: Unlosing Ranger vs. Darkde...</td>\n",
       "      <td>PSP</td>\n",
       "      <td>2010.0</td>\n",
       "      <td>Role-Playing</td>\n",
       "      <td>0.07</td>\n",
       "      <td>0.00</td>\n",
       "      <td>0.06</td>\n",
       "      <td>0.01</td>\n",
       "      <td>NaN</td>\n",
       "      <td>NaN</td>\n",
       "      <td>NaN</td>\n",
       "    </tr>\n",
       "    <tr>\n",
       "      <th>15640</th>\n",
       "      <td>Snow Portable</td>\n",
       "      <td>PSP</td>\n",
       "      <td>2007.0</td>\n",
       "      <td>Adventure</td>\n",
       "      <td>0.00</td>\n",
       "      <td>0.00</td>\n",
       "      <td>0.02</td>\n",
       "      <td>0.00</td>\n",
       "      <td>NaN</td>\n",
       "      <td>NaN</td>\n",
       "      <td>NaN</td>\n",
       "    </tr>\n",
       "  </tbody>\n",
       "</table>\n",
       "</div>"
      ],
      "text/plain": [
       "                                                    Name Platform  \\\n",
       "4276   2 Games in 1: SpongeBob SquarePants: SuperSpon...      GBA   \n",
       "4757                                    NFL GameDay 2002       PS   \n",
       "3789                                             G-Force       DS   \n",
       "11492                           The King of Fighters '96       PS   \n",
       "8183                                 Backyard Basketball      GBA   \n",
       "9061   Zetta Hero Project: Unlosing Ranger vs. Darkde...      PSP   \n",
       "15640                                      Snow Portable      PSP   \n",
       "\n",
       "       Year_of_Release         Genre  NA_sales  EU_sales  JP_sales  \\\n",
       "4276            2005.0      Platform      0.33      0.12      0.00   \n",
       "4757            2001.0        Sports      0.23      0.15      0.00   \n",
       "3789            2009.0        Action      0.26      0.21      0.00   \n",
       "11492           1997.0      Fighting      0.00      0.00      0.07   \n",
       "8183            2004.0        Sports      0.13      0.05      0.00   \n",
       "9061            2010.0  Role-Playing      0.07      0.00      0.06   \n",
       "15640           2007.0     Adventure      0.00      0.00      0.02   \n",
       "\n",
       "       Other_sales  Critic_Score User_Score Rating  \n",
       "4276          0.01           NaN        NaN    NaN  \n",
       "4757          0.03          62.0        8.8      E  \n",
       "3789          0.05           NaN          9   E10+  \n",
       "11492         0.01           NaN        NaN    NaN  \n",
       "8183          0.00           NaN        tbd      E  \n",
       "9061          0.01           NaN        NaN    NaN  \n",
       "15640         0.00           NaN        NaN    NaN  "
      ]
     },
     "execution_count": 3,
     "metadata": {},
     "output_type": "execute_result"
    }
   ],
   "source": [
    "df.sample(7)"
   ]
  },
  {
   "cell_type": "code",
   "execution_count": 4,
   "metadata": {
    "scrolled": true
   },
   "outputs": [
    {
     "name": "stdout",
     "output_type": "stream",
     "text": [
      "<class 'pandas.core.frame.DataFrame'>\n",
      "RangeIndex: 16715 entries, 0 to 16714\n",
      "Data columns (total 11 columns):\n",
      " #   Column           Non-Null Count  Dtype  \n",
      "---  ------           --------------  -----  \n",
      " 0   Name             16713 non-null  object \n",
      " 1   Platform         16715 non-null  object \n",
      " 2   Year_of_Release  16446 non-null  float64\n",
      " 3   Genre            16713 non-null  object \n",
      " 4   NA_sales         16715 non-null  float64\n",
      " 5   EU_sales         16715 non-null  float64\n",
      " 6   JP_sales         16715 non-null  float64\n",
      " 7   Other_sales      16715 non-null  float64\n",
      " 8   Critic_Score     8137 non-null   float64\n",
      " 9   User_Score       10014 non-null  object \n",
      " 10  Rating           9949 non-null   object \n",
      "dtypes: float64(6), object(5)\n",
      "memory usage: 1.4+ MB\n"
     ]
    }
   ],
   "source": [
    "df.info()"
   ]
  },
  {
   "cell_type": "markdown",
   "metadata": {},
   "source": [
    "<h2> Подготовим данные"
   ]
  },
  {
   "cell_type": "markdown",
   "metadata": {},
   "source": [
    "**Приведем название столбцов к единому виду в нижнем регистре**"
   ]
  },
  {
   "cell_type": "code",
   "execution_count": 5,
   "metadata": {},
   "outputs": [],
   "source": [
    "df.columns = df.columns.str.lower()"
   ]
  },
  {
   "cell_type": "markdown",
   "metadata": {},
   "source": [
    "**Функция, которая охарактеризует значения в каждом столбце для исследования**"
   ]
  },
  {
   "cell_type": "code",
   "execution_count": 6,
   "metadata": {},
   "outputs": [],
   "source": [
    "def disp_column (column):\n",
    "    print('Количество пропусков:', column.isna().sum())\n",
    "    print(column.describe())\n",
    "    print('Уникальные значения:',column.unique())"
   ]
  },
  {
   "cell_type": "markdown",
   "metadata": {},
   "source": [
    "**Доля пропущенных значений в столбцах**"
   ]
  },
  {
   "cell_type": "code",
   "execution_count": 7,
   "metadata": {
    "scrolled": false
   },
   "outputs": [
    {
     "data": {
      "text/plain": [
       "name               0.000120\n",
       "platform           0.000000\n",
       "year_of_release    0.016093\n",
       "genre              0.000120\n",
       "na_sales           0.000000\n",
       "eu_sales           0.000000\n",
       "jp_sales           0.000000\n",
       "other_sales        0.000000\n",
       "critic_score       0.513192\n",
       "user_score         0.400897\n",
       "rating             0.404786\n",
       "dtype: float64"
      ]
     },
     "execution_count": 7,
     "metadata": {},
     "output_type": "execute_result"
    }
   ],
   "source": [
    "df.isna().mean()"
   ]
  },
  {
   "cell_type": "markdown",
   "metadata": {},
   "source": [
    "**Проверим таблицу на наличие дубликатов** "
   ]
  },
  {
   "cell_type": "code",
   "execution_count": 8,
   "metadata": {
    "scrolled": true
   },
   "outputs": [
    {
     "data": {
      "text/plain": [
       "name               0\n",
       "platform           0\n",
       "year_of_release    0\n",
       "genre              0\n",
       "na_sales           0\n",
       "eu_sales           0\n",
       "jp_sales           0\n",
       "other_sales        0\n",
       "critic_score       0\n",
       "user_score         0\n",
       "rating             0\n",
       "dtype: int64"
      ]
     },
     "execution_count": 8,
     "metadata": {},
     "output_type": "execute_result"
    }
   ],
   "source": [
    "df[df.duplicated()].count()"
   ]
  },
  {
   "cell_type": "markdown",
   "metadata": {},
   "source": [
    "**Рассмотрим данные в таблице более подробно** "
   ]
  },
  {
   "cell_type": "code",
   "execution_count": 9,
   "metadata": {
    "scrolled": true
   },
   "outputs": [
    {
     "name": "stdout",
     "output_type": "stream",
     "text": [
      "Количество пропусков: 2\n",
      "count                           16713\n",
      "unique                          11559\n",
      "top       Need for Speed: Most Wanted\n",
      "freq                               12\n",
      "Name: name, dtype: object\n",
      "Уникальные значения: ['Wii Sports' 'Super Mario Bros.' 'Mario Kart Wii' ...\n",
      " 'Woody Woodpecker in Crazy Castle 5' 'LMA Manager 2007'\n",
      " 'Haitaka no Psychedelica']\n"
     ]
    }
   ],
   "source": [
    "disp_column(df['name'])"
   ]
  },
  {
   "cell_type": "code",
   "execution_count": 10,
   "metadata": {
    "scrolled": false
   },
   "outputs": [
    {
     "data": {
      "text/html": [
       "<div>\n",
       "<style scoped>\n",
       "    .dataframe tbody tr th:only-of-type {\n",
       "        vertical-align: middle;\n",
       "    }\n",
       "\n",
       "    .dataframe tbody tr th {\n",
       "        vertical-align: top;\n",
       "    }\n",
       "\n",
       "    .dataframe thead th {\n",
       "        text-align: right;\n",
       "    }\n",
       "</style>\n",
       "<table border=\"1\" class=\"dataframe\">\n",
       "  <thead>\n",
       "    <tr style=\"text-align: right;\">\n",
       "      <th></th>\n",
       "      <th>name</th>\n",
       "      <th>platform</th>\n",
       "      <th>year_of_release</th>\n",
       "      <th>genre</th>\n",
       "      <th>na_sales</th>\n",
       "      <th>eu_sales</th>\n",
       "      <th>jp_sales</th>\n",
       "      <th>other_sales</th>\n",
       "      <th>critic_score</th>\n",
       "      <th>user_score</th>\n",
       "      <th>rating</th>\n",
       "    </tr>\n",
       "  </thead>\n",
       "  <tbody>\n",
       "    <tr>\n",
       "      <th>659</th>\n",
       "      <td>NaN</td>\n",
       "      <td>GEN</td>\n",
       "      <td>1993.0</td>\n",
       "      <td>NaN</td>\n",
       "      <td>1.78</td>\n",
       "      <td>0.53</td>\n",
       "      <td>0.00</td>\n",
       "      <td>0.08</td>\n",
       "      <td>NaN</td>\n",
       "      <td>NaN</td>\n",
       "      <td>NaN</td>\n",
       "    </tr>\n",
       "    <tr>\n",
       "      <th>14244</th>\n",
       "      <td>NaN</td>\n",
       "      <td>GEN</td>\n",
       "      <td>1993.0</td>\n",
       "      <td>NaN</td>\n",
       "      <td>0.00</td>\n",
       "      <td>0.00</td>\n",
       "      <td>0.03</td>\n",
       "      <td>0.00</td>\n",
       "      <td>NaN</td>\n",
       "      <td>NaN</td>\n",
       "      <td>NaN</td>\n",
       "    </tr>\n",
       "  </tbody>\n",
       "</table>\n",
       "</div>"
      ],
      "text/plain": [
       "      name platform  year_of_release genre  na_sales  eu_sales  jp_sales  \\\n",
       "659    NaN      GEN           1993.0   NaN      1.78      0.53      0.00   \n",
       "14244  NaN      GEN           1993.0   NaN      0.00      0.00      0.03   \n",
       "\n",
       "       other_sales  critic_score user_score rating  \n",
       "659           0.08           NaN        NaN    NaN  \n",
       "14244         0.00           NaN        NaN    NaN  "
      ]
     },
     "execution_count": 10,
     "metadata": {},
     "output_type": "execute_result"
    }
   ],
   "source": [
    "df[df['name'].isna()]"
   ]
  },
  {
   "cell_type": "markdown",
   "metadata": {},
   "source": [
    "**Данный столбец отвечает за название компьютерной игры. Имеет строчный тип данных. Пропущено всего два значения, возможно у игры нет названия. Можно удалить эти строки, так как никакой ключевой информации они не имеют.** "
   ]
  },
  {
   "cell_type": "code",
   "execution_count": 11,
   "metadata": {},
   "outputs": [
    {
     "name": "stdout",
     "output_type": "stream",
     "text": [
      "Количество пропусков: 0\n",
      "count     16715\n",
      "unique       31\n",
      "top         PS2\n",
      "freq       2161\n",
      "Name: platform, dtype: object\n",
      "Уникальные значения: ['Wii' 'NES' 'GB' 'DS' 'X360' 'PS3' 'PS2' 'SNES' 'GBA' 'PS4' '3DS' 'N64'\n",
      " 'PS' 'XB' 'PC' '2600' 'PSP' 'XOne' 'WiiU' 'GC' 'GEN' 'DC' 'PSV' 'SAT'\n",
      " 'SCD' 'WS' 'NG' 'TG16' '3DO' 'GG' 'PCFX']\n"
     ]
    }
   ],
   "source": [
    "disp_column(df['platform'])"
   ]
  },
  {
   "cell_type": "markdown",
   "metadata": {},
   "source": [
    "**Данный столбец содержит сведения об игровых платформах. Всего платформ 31, чаще всего упоминается PS2. Тип данных строки, пропусков нет.**"
   ]
  },
  {
   "cell_type": "code",
   "execution_count": 12,
   "metadata": {
    "scrolled": true
   },
   "outputs": [
    {
     "name": "stdout",
     "output_type": "stream",
     "text": [
      "Количество пропусков: 269\n",
      "count    16446.000000\n",
      "mean      2006.484616\n",
      "std          5.877050\n",
      "min       1980.000000\n",
      "25%       2003.000000\n",
      "50%       2007.000000\n",
      "75%       2010.000000\n",
      "max       2016.000000\n",
      "Name: year_of_release, dtype: float64\n",
      "Уникальные значения: [2006. 1985. 2008. 2009. 1996. 1989. 1984. 2005. 1999. 2007. 2010. 2013.\n",
      " 2004. 1990. 1988. 2002. 2001. 2011. 1998. 2015. 2012. 2014. 1992. 1997.\n",
      " 1993. 1994. 1982. 2016. 2003. 1986. 2000.   nan 1995. 1991. 1981. 1987.\n",
      " 1980. 1983.]\n"
     ]
    }
   ],
   "source": [
    "disp_column(df['year_of_release'])"
   ]
  },
  {
   "cell_type": "code",
   "execution_count": 13,
   "metadata": {
    "scrolled": true
   },
   "outputs": [
    {
     "data": {
      "text/html": [
       "<div>\n",
       "<style scoped>\n",
       "    .dataframe tbody tr th:only-of-type {\n",
       "        vertical-align: middle;\n",
       "    }\n",
       "\n",
       "    .dataframe tbody tr th {\n",
       "        vertical-align: top;\n",
       "    }\n",
       "\n",
       "    .dataframe thead th {\n",
       "        text-align: right;\n",
       "    }\n",
       "</style>\n",
       "<table border=\"1\" class=\"dataframe\">\n",
       "  <thead>\n",
       "    <tr style=\"text-align: right;\">\n",
       "      <th></th>\n",
       "      <th>name</th>\n",
       "      <th>platform</th>\n",
       "      <th>year_of_release</th>\n",
       "      <th>genre</th>\n",
       "      <th>na_sales</th>\n",
       "      <th>eu_sales</th>\n",
       "      <th>jp_sales</th>\n",
       "      <th>other_sales</th>\n",
       "      <th>critic_score</th>\n",
       "      <th>user_score</th>\n",
       "      <th>rating</th>\n",
       "    </tr>\n",
       "  </thead>\n",
       "  <tbody>\n",
       "    <tr>\n",
       "      <th>183</th>\n",
       "      <td>Madden NFL 2004</td>\n",
       "      <td>PS2</td>\n",
       "      <td>NaN</td>\n",
       "      <td>Sports</td>\n",
       "      <td>4.26</td>\n",
       "      <td>0.26</td>\n",
       "      <td>0.01</td>\n",
       "      <td>0.71</td>\n",
       "      <td>94.0</td>\n",
       "      <td>8.5</td>\n",
       "      <td>E</td>\n",
       "    </tr>\n",
       "    <tr>\n",
       "      <th>377</th>\n",
       "      <td>FIFA Soccer 2004</td>\n",
       "      <td>PS2</td>\n",
       "      <td>NaN</td>\n",
       "      <td>Sports</td>\n",
       "      <td>0.59</td>\n",
       "      <td>2.36</td>\n",
       "      <td>0.04</td>\n",
       "      <td>0.51</td>\n",
       "      <td>84.0</td>\n",
       "      <td>6.4</td>\n",
       "      <td>E</td>\n",
       "    </tr>\n",
       "    <tr>\n",
       "      <th>456</th>\n",
       "      <td>LEGO Batman: The Videogame</td>\n",
       "      <td>Wii</td>\n",
       "      <td>NaN</td>\n",
       "      <td>Action</td>\n",
       "      <td>1.80</td>\n",
       "      <td>0.97</td>\n",
       "      <td>0.00</td>\n",
       "      <td>0.29</td>\n",
       "      <td>74.0</td>\n",
       "      <td>7.9</td>\n",
       "      <td>E10+</td>\n",
       "    </tr>\n",
       "    <tr>\n",
       "      <th>475</th>\n",
       "      <td>wwe Smackdown vs. Raw 2006</td>\n",
       "      <td>PS2</td>\n",
       "      <td>NaN</td>\n",
       "      <td>Fighting</td>\n",
       "      <td>1.57</td>\n",
       "      <td>1.02</td>\n",
       "      <td>0.00</td>\n",
       "      <td>0.41</td>\n",
       "      <td>NaN</td>\n",
       "      <td>NaN</td>\n",
       "      <td>NaN</td>\n",
       "    </tr>\n",
       "    <tr>\n",
       "      <th>609</th>\n",
       "      <td>Space Invaders</td>\n",
       "      <td>2600</td>\n",
       "      <td>NaN</td>\n",
       "      <td>Shooter</td>\n",
       "      <td>2.36</td>\n",
       "      <td>0.14</td>\n",
       "      <td>0.00</td>\n",
       "      <td>0.03</td>\n",
       "      <td>NaN</td>\n",
       "      <td>NaN</td>\n",
       "      <td>NaN</td>\n",
       "    </tr>\n",
       "    <tr>\n",
       "      <th>627</th>\n",
       "      <td>Rock Band</td>\n",
       "      <td>X360</td>\n",
       "      <td>NaN</td>\n",
       "      <td>Misc</td>\n",
       "      <td>1.93</td>\n",
       "      <td>0.33</td>\n",
       "      <td>0.00</td>\n",
       "      <td>0.21</td>\n",
       "      <td>92.0</td>\n",
       "      <td>8.2</td>\n",
       "      <td>T</td>\n",
       "    </tr>\n",
       "    <tr>\n",
       "      <th>657</th>\n",
       "      <td>Frogger's Adventures: Temple of the Frog</td>\n",
       "      <td>GBA</td>\n",
       "      <td>NaN</td>\n",
       "      <td>Adventure</td>\n",
       "      <td>2.15</td>\n",
       "      <td>0.18</td>\n",
       "      <td>0.00</td>\n",
       "      <td>0.07</td>\n",
       "      <td>73.0</td>\n",
       "      <td>tbd</td>\n",
       "      <td>E</td>\n",
       "    </tr>\n",
       "    <tr>\n",
       "      <th>678</th>\n",
       "      <td>LEGO Indiana Jones: The Original Adventures</td>\n",
       "      <td>Wii</td>\n",
       "      <td>NaN</td>\n",
       "      <td>Action</td>\n",
       "      <td>1.51</td>\n",
       "      <td>0.61</td>\n",
       "      <td>0.00</td>\n",
       "      <td>0.21</td>\n",
       "      <td>78.0</td>\n",
       "      <td>6.6</td>\n",
       "      <td>E10+</td>\n",
       "    </tr>\n",
       "    <tr>\n",
       "      <th>719</th>\n",
       "      <td>Call of Duty 3</td>\n",
       "      <td>Wii</td>\n",
       "      <td>NaN</td>\n",
       "      <td>Shooter</td>\n",
       "      <td>1.17</td>\n",
       "      <td>0.84</td>\n",
       "      <td>0.00</td>\n",
       "      <td>0.23</td>\n",
       "      <td>69.0</td>\n",
       "      <td>6.7</td>\n",
       "      <td>T</td>\n",
       "    </tr>\n",
       "    <tr>\n",
       "      <th>805</th>\n",
       "      <td>Rock Band</td>\n",
       "      <td>Wii</td>\n",
       "      <td>NaN</td>\n",
       "      <td>Misc</td>\n",
       "      <td>1.33</td>\n",
       "      <td>0.56</td>\n",
       "      <td>0.00</td>\n",
       "      <td>0.20</td>\n",
       "      <td>80.0</td>\n",
       "      <td>6.3</td>\n",
       "      <td>T</td>\n",
       "    </tr>\n",
       "    <tr>\n",
       "      <th>1131</th>\n",
       "      <td>Call of Duty: Black Ops</td>\n",
       "      <td>PC</td>\n",
       "      <td>NaN</td>\n",
       "      <td>Shooter</td>\n",
       "      <td>0.58</td>\n",
       "      <td>0.81</td>\n",
       "      <td>0.00</td>\n",
       "      <td>0.23</td>\n",
       "      <td>81.0</td>\n",
       "      <td>5.2</td>\n",
       "      <td>M</td>\n",
       "    </tr>\n",
       "    <tr>\n",
       "      <th>1142</th>\n",
       "      <td>Rock Band</td>\n",
       "      <td>PS3</td>\n",
       "      <td>NaN</td>\n",
       "      <td>Misc</td>\n",
       "      <td>0.99</td>\n",
       "      <td>0.41</td>\n",
       "      <td>0.00</td>\n",
       "      <td>0.22</td>\n",
       "      <td>92.0</td>\n",
       "      <td>8.4</td>\n",
       "      <td>T</td>\n",
       "    </tr>\n",
       "    <tr>\n",
       "      <th>1301</th>\n",
       "      <td>Triple Play 99</td>\n",
       "      <td>PS</td>\n",
       "      <td>NaN</td>\n",
       "      <td>Sports</td>\n",
       "      <td>0.81</td>\n",
       "      <td>0.55</td>\n",
       "      <td>0.00</td>\n",
       "      <td>0.10</td>\n",
       "      <td>NaN</td>\n",
       "      <td>NaN</td>\n",
       "      <td>NaN</td>\n",
       "    </tr>\n",
       "    <tr>\n",
       "      <th>1506</th>\n",
       "      <td>Adventure</td>\n",
       "      <td>2600</td>\n",
       "      <td>NaN</td>\n",
       "      <td>Adventure</td>\n",
       "      <td>1.21</td>\n",
       "      <td>0.08</td>\n",
       "      <td>0.00</td>\n",
       "      <td>0.01</td>\n",
       "      <td>NaN</td>\n",
       "      <td>NaN</td>\n",
       "      <td>NaN</td>\n",
       "    </tr>\n",
       "    <tr>\n",
       "      <th>1538</th>\n",
       "      <td>LEGO Batman: The Videogame</td>\n",
       "      <td>PSP</td>\n",
       "      <td>NaN</td>\n",
       "      <td>Action</td>\n",
       "      <td>0.57</td>\n",
       "      <td>0.44</td>\n",
       "      <td>0.00</td>\n",
       "      <td>0.27</td>\n",
       "      <td>73.0</td>\n",
       "      <td>7.4</td>\n",
       "      <td>E10+</td>\n",
       "    </tr>\n",
       "    <tr>\n",
       "      <th>1585</th>\n",
       "      <td>Combat</td>\n",
       "      <td>2600</td>\n",
       "      <td>NaN</td>\n",
       "      <td>Action</td>\n",
       "      <td>1.17</td>\n",
       "      <td>0.07</td>\n",
       "      <td>0.00</td>\n",
       "      <td>0.01</td>\n",
       "      <td>NaN</td>\n",
       "      <td>NaN</td>\n",
       "      <td>NaN</td>\n",
       "    </tr>\n",
       "    <tr>\n",
       "      <th>1609</th>\n",
       "      <td>LEGO Harry Potter: Years 5-7</td>\n",
       "      <td>Wii</td>\n",
       "      <td>NaN</td>\n",
       "      <td>Action</td>\n",
       "      <td>0.69</td>\n",
       "      <td>0.42</td>\n",
       "      <td>0.00</td>\n",
       "      <td>0.12</td>\n",
       "      <td>76.0</td>\n",
       "      <td>7.8</td>\n",
       "      <td>E10+</td>\n",
       "    </tr>\n",
       "    <tr>\n",
       "      <th>1650</th>\n",
       "      <td>NASCAR Thunder 2003</td>\n",
       "      <td>PS2</td>\n",
       "      <td>NaN</td>\n",
       "      <td>Racing</td>\n",
       "      <td>0.60</td>\n",
       "      <td>0.46</td>\n",
       "      <td>0.00</td>\n",
       "      <td>0.16</td>\n",
       "      <td>84.0</td>\n",
       "      <td>8.7</td>\n",
       "      <td>E</td>\n",
       "    </tr>\n",
       "    <tr>\n",
       "      <th>1699</th>\n",
       "      <td>Hitman 2: Silent Assassin</td>\n",
       "      <td>XB</td>\n",
       "      <td>NaN</td>\n",
       "      <td>Action</td>\n",
       "      <td>0.76</td>\n",
       "      <td>0.38</td>\n",
       "      <td>0.00</td>\n",
       "      <td>0.05</td>\n",
       "      <td>84.0</td>\n",
       "      <td>8</td>\n",
       "      <td>M</td>\n",
       "    </tr>\n",
       "    <tr>\n",
       "      <th>1840</th>\n",
       "      <td>Rock Band</td>\n",
       "      <td>PS2</td>\n",
       "      <td>NaN</td>\n",
       "      <td>Misc</td>\n",
       "      <td>0.71</td>\n",
       "      <td>0.06</td>\n",
       "      <td>0.00</td>\n",
       "      <td>0.35</td>\n",
       "      <td>82.0</td>\n",
       "      <td>6.8</td>\n",
       "      <td>T</td>\n",
       "    </tr>\n",
       "    <tr>\n",
       "      <th>1984</th>\n",
       "      <td>Legacy of Kain: Soul Reaver</td>\n",
       "      <td>PS</td>\n",
       "      <td>NaN</td>\n",
       "      <td>Action</td>\n",
       "      <td>0.58</td>\n",
       "      <td>0.40</td>\n",
       "      <td>0.00</td>\n",
       "      <td>0.07</td>\n",
       "      <td>91.0</td>\n",
       "      <td>9</td>\n",
       "      <td>T</td>\n",
       "    </tr>\n",
       "    <tr>\n",
       "      <th>2010</th>\n",
       "      <td>Donkey Kong Land III</td>\n",
       "      <td>GB</td>\n",
       "      <td>NaN</td>\n",
       "      <td>Platform</td>\n",
       "      <td>0.68</td>\n",
       "      <td>0.31</td>\n",
       "      <td>0.00</td>\n",
       "      <td>0.04</td>\n",
       "      <td>NaN</td>\n",
       "      <td>NaN</td>\n",
       "      <td>NaN</td>\n",
       "    </tr>\n",
       "    <tr>\n",
       "      <th>2106</th>\n",
       "      <td>Air-Sea Battle</td>\n",
       "      <td>2600</td>\n",
       "      <td>NaN</td>\n",
       "      <td>Shooter</td>\n",
       "      <td>0.91</td>\n",
       "      <td>0.06</td>\n",
       "      <td>0.00</td>\n",
       "      <td>0.01</td>\n",
       "      <td>NaN</td>\n",
       "      <td>NaN</td>\n",
       "      <td>NaN</td>\n",
       "    </tr>\n",
       "    <tr>\n",
       "      <th>2108</th>\n",
       "      <td>Suikoden III</td>\n",
       "      <td>PS2</td>\n",
       "      <td>NaN</td>\n",
       "      <td>Role-Playing</td>\n",
       "      <td>0.29</td>\n",
       "      <td>0.23</td>\n",
       "      <td>0.38</td>\n",
       "      <td>0.08</td>\n",
       "      <td>86.0</td>\n",
       "      <td>7.7</td>\n",
       "      <td>T</td>\n",
       "    </tr>\n",
       "    <tr>\n",
       "      <th>2132</th>\n",
       "      <td>LEGO Harry Potter: Years 5-7</td>\n",
       "      <td>X360</td>\n",
       "      <td>NaN</td>\n",
       "      <td>Action</td>\n",
       "      <td>0.51</td>\n",
       "      <td>0.37</td>\n",
       "      <td>0.00</td>\n",
       "      <td>0.09</td>\n",
       "      <td>77.0</td>\n",
       "      <td>7.9</td>\n",
       "      <td>E10+</td>\n",
       "    </tr>\n",
       "    <tr>\n",
       "      <th>2157</th>\n",
       "      <td>Wheel of Fortune</td>\n",
       "      <td>PS2</td>\n",
       "      <td>NaN</td>\n",
       "      <td>Misc</td>\n",
       "      <td>0.47</td>\n",
       "      <td>0.36</td>\n",
       "      <td>0.00</td>\n",
       "      <td>0.12</td>\n",
       "      <td>NaN</td>\n",
       "      <td>tbd</td>\n",
       "      <td>E</td>\n",
       "    </tr>\n",
       "    <tr>\n",
       "      <th>2169</th>\n",
       "      <td>Yakuza 4</td>\n",
       "      <td>PS3</td>\n",
       "      <td>NaN</td>\n",
       "      <td>Action</td>\n",
       "      <td>0.15</td>\n",
       "      <td>0.13</td>\n",
       "      <td>0.63</td>\n",
       "      <td>0.05</td>\n",
       "      <td>78.0</td>\n",
       "      <td>8</td>\n",
       "      <td>M</td>\n",
       "    </tr>\n",
       "    <tr>\n",
       "      <th>2273</th>\n",
       "      <td>LEGO Harry Potter: Years 5-7</td>\n",
       "      <td>PS3</td>\n",
       "      <td>NaN</td>\n",
       "      <td>Action</td>\n",
       "      <td>0.36</td>\n",
       "      <td>0.41</td>\n",
       "      <td>0.00</td>\n",
       "      <td>0.15</td>\n",
       "      <td>76.0</td>\n",
       "      <td>8.3</td>\n",
       "      <td>E10+</td>\n",
       "    </tr>\n",
       "    <tr>\n",
       "      <th>2281</th>\n",
       "      <td>Namco Museum</td>\n",
       "      <td>XB</td>\n",
       "      <td>NaN</td>\n",
       "      <td>Misc</td>\n",
       "      <td>0.77</td>\n",
       "      <td>0.11</td>\n",
       "      <td>0.00</td>\n",
       "      <td>0.04</td>\n",
       "      <td>59.0</td>\n",
       "      <td>tbd</td>\n",
       "      <td>E</td>\n",
       "    </tr>\n",
       "    <tr>\n",
       "      <th>2361</th>\n",
       "      <td>Rhythm Heaven</td>\n",
       "      <td>Wii</td>\n",
       "      <td>NaN</td>\n",
       "      <td>Misc</td>\n",
       "      <td>0.11</td>\n",
       "      <td>0.00</td>\n",
       "      <td>0.77</td>\n",
       "      <td>0.01</td>\n",
       "      <td>NaN</td>\n",
       "      <td>NaN</td>\n",
       "      <td>NaN</td>\n",
       "    </tr>\n",
       "    <tr>\n",
       "      <th>2453</th>\n",
       "      <td>The Lord of the Rings: War in the North</td>\n",
       "      <td>X360</td>\n",
       "      <td>NaN</td>\n",
       "      <td>Action</td>\n",
       "      <td>0.52</td>\n",
       "      <td>0.24</td>\n",
       "      <td>0.00</td>\n",
       "      <td>0.08</td>\n",
       "      <td>61.0</td>\n",
       "      <td>7.4</td>\n",
       "      <td>M</td>\n",
       "    </tr>\n",
       "    <tr>\n",
       "      <th>2479</th>\n",
       "      <td>Madden NFL 07</td>\n",
       "      <td>PSP</td>\n",
       "      <td>NaN</td>\n",
       "      <td>Sports</td>\n",
       "      <td>0.77</td>\n",
       "      <td>0.03</td>\n",
       "      <td>0.00</td>\n",
       "      <td>0.04</td>\n",
       "      <td>78.0</td>\n",
       "      <td>6.6</td>\n",
       "      <td>E</td>\n",
       "    </tr>\n",
       "    <tr>\n",
       "      <th>2492</th>\n",
       "      <td>MLB SlugFest 20-03</td>\n",
       "      <td>PS2</td>\n",
       "      <td>NaN</td>\n",
       "      <td>Sports</td>\n",
       "      <td>0.41</td>\n",
       "      <td>0.32</td>\n",
       "      <td>0.00</td>\n",
       "      <td>0.11</td>\n",
       "      <td>77.0</td>\n",
       "      <td>8.2</td>\n",
       "      <td>E</td>\n",
       "    </tr>\n",
       "    <tr>\n",
       "      <th>2522</th>\n",
       "      <td>The Lord of the Rings: War in the North</td>\n",
       "      <td>PS3</td>\n",
       "      <td>NaN</td>\n",
       "      <td>Action</td>\n",
       "      <td>0.25</td>\n",
       "      <td>0.42</td>\n",
       "      <td>0.01</td>\n",
       "      <td>0.13</td>\n",
       "      <td>63.0</td>\n",
       "      <td>7</td>\n",
       "      <td>M</td>\n",
       "    </tr>\n",
       "    <tr>\n",
       "      <th>2536</th>\n",
       "      <td>Shaun White Snowboarding</td>\n",
       "      <td>X360</td>\n",
       "      <td>NaN</td>\n",
       "      <td>Sports</td>\n",
       "      <td>0.48</td>\n",
       "      <td>0.25</td>\n",
       "      <td>0.00</td>\n",
       "      <td>0.08</td>\n",
       "      <td>60.0</td>\n",
       "      <td>7.6</td>\n",
       "      <td>T</td>\n",
       "    </tr>\n",
       "    <tr>\n",
       "      <th>2572</th>\n",
       "      <td>PES 2009: Pro Evolution Soccer</td>\n",
       "      <td>PSP</td>\n",
       "      <td>NaN</td>\n",
       "      <td>Sports</td>\n",
       "      <td>0.04</td>\n",
       "      <td>0.33</td>\n",
       "      <td>0.26</td>\n",
       "      <td>0.17</td>\n",
       "      <td>NaN</td>\n",
       "      <td>NaN</td>\n",
       "      <td>NaN</td>\n",
       "    </tr>\n",
       "    <tr>\n",
       "      <th>2773</th>\n",
       "      <td>WarioWare: Twisted!</td>\n",
       "      <td>GBA</td>\n",
       "      <td>NaN</td>\n",
       "      <td>Puzzle</td>\n",
       "      <td>0.16</td>\n",
       "      <td>0.06</td>\n",
       "      <td>0.50</td>\n",
       "      <td>0.02</td>\n",
       "      <td>NaN</td>\n",
       "      <td>NaN</td>\n",
       "      <td>NaN</td>\n",
       "    </tr>\n",
       "    <tr>\n",
       "      <th>2849</th>\n",
       "      <td>Madden NFL 11</td>\n",
       "      <td>Wii</td>\n",
       "      <td>NaN</td>\n",
       "      <td>Sports</td>\n",
       "      <td>0.68</td>\n",
       "      <td>0.00</td>\n",
       "      <td>0.00</td>\n",
       "      <td>0.04</td>\n",
       "      <td>75.0</td>\n",
       "      <td>5.4</td>\n",
       "      <td>E</td>\n",
       "    </tr>\n",
       "    <tr>\n",
       "      <th>2969</th>\n",
       "      <td>Test Drive Unlimited 2</td>\n",
       "      <td>X360</td>\n",
       "      <td>NaN</td>\n",
       "      <td>Racing</td>\n",
       "      <td>0.30</td>\n",
       "      <td>0.31</td>\n",
       "      <td>0.00</td>\n",
       "      <td>0.07</td>\n",
       "      <td>68.0</td>\n",
       "      <td>6.4</td>\n",
       "      <td>T</td>\n",
       "    </tr>\n",
       "    <tr>\n",
       "      <th>3024</th>\n",
       "      <td>The Chronicles of Narnia: The Lion, The Witch ...</td>\n",
       "      <td>GBA</td>\n",
       "      <td>NaN</td>\n",
       "      <td>Action</td>\n",
       "      <td>0.48</td>\n",
       "      <td>0.18</td>\n",
       "      <td>0.00</td>\n",
       "      <td>0.01</td>\n",
       "      <td>66.0</td>\n",
       "      <td>6.8</td>\n",
       "      <td>E</td>\n",
       "    </tr>\n",
       "    <tr>\n",
       "      <th>3081</th>\n",
       "      <td>LEGO Harry Potter: Years 5-7</td>\n",
       "      <td>DS</td>\n",
       "      <td>NaN</td>\n",
       "      <td>Action</td>\n",
       "      <td>0.34</td>\n",
       "      <td>0.25</td>\n",
       "      <td>0.00</td>\n",
       "      <td>0.07</td>\n",
       "      <td>69.0</td>\n",
       "      <td>tbd</td>\n",
       "      <td>E10+</td>\n",
       "    </tr>\n",
       "    <tr>\n",
       "      <th>3187</th>\n",
       "      <td>Monster Hunter 2</td>\n",
       "      <td>PS2</td>\n",
       "      <td>NaN</td>\n",
       "      <td>Role-Playing</td>\n",
       "      <td>0.00</td>\n",
       "      <td>0.00</td>\n",
       "      <td>0.63</td>\n",
       "      <td>0.00</td>\n",
       "      <td>NaN</td>\n",
       "      <td>NaN</td>\n",
       "      <td>NaN</td>\n",
       "    </tr>\n",
       "    <tr>\n",
       "      <th>3223</th>\n",
       "      <td>Metal Gear Solid 2: Substance</td>\n",
       "      <td>XB</td>\n",
       "      <td>NaN</td>\n",
       "      <td>Action</td>\n",
       "      <td>0.38</td>\n",
       "      <td>0.22</td>\n",
       "      <td>0.00</td>\n",
       "      <td>0.03</td>\n",
       "      <td>87.0</td>\n",
       "      <td>8.5</td>\n",
       "      <td>M</td>\n",
       "    </tr>\n",
       "    <tr>\n",
       "      <th>3233</th>\n",
       "      <td>Test Drive Unlimited 2</td>\n",
       "      <td>PS3</td>\n",
       "      <td>NaN</td>\n",
       "      <td>Racing</td>\n",
       "      <td>0.16</td>\n",
       "      <td>0.34</td>\n",
       "      <td>0.01</td>\n",
       "      <td>0.12</td>\n",
       "      <td>70.0</td>\n",
       "      <td>6.1</td>\n",
       "      <td>T</td>\n",
       "    </tr>\n",
       "    <tr>\n",
       "      <th>3289</th>\n",
       "      <td>Advance Wars: Days of Ruin</td>\n",
       "      <td>DS</td>\n",
       "      <td>NaN</td>\n",
       "      <td>Strategy</td>\n",
       "      <td>0.43</td>\n",
       "      <td>0.12</td>\n",
       "      <td>0.00</td>\n",
       "      <td>0.05</td>\n",
       "      <td>86.0</td>\n",
       "      <td>8.7</td>\n",
       "      <td>E10+</td>\n",
       "    </tr>\n",
       "    <tr>\n",
       "      <th>3352</th>\n",
       "      <td>The Golden Compass</td>\n",
       "      <td>Wii</td>\n",
       "      <td>NaN</td>\n",
       "      <td>Action</td>\n",
       "      <td>0.26</td>\n",
       "      <td>0.28</td>\n",
       "      <td>0.00</td>\n",
       "      <td>0.07</td>\n",
       "      <td>35.0</td>\n",
       "      <td>6.8</td>\n",
       "      <td>E10+</td>\n",
       "    </tr>\n",
       "    <tr>\n",
       "      <th>3413</th>\n",
       "      <td>Madden NFL 06</td>\n",
       "      <td>X360</td>\n",
       "      <td>NaN</td>\n",
       "      <td>Sports</td>\n",
       "      <td>0.54</td>\n",
       "      <td>0.00</td>\n",
       "      <td>0.01</td>\n",
       "      <td>0.03</td>\n",
       "      <td>74.0</td>\n",
       "      <td>4.9</td>\n",
       "      <td>E</td>\n",
       "    </tr>\n",
       "    <tr>\n",
       "      <th>3459</th>\n",
       "      <td>NASCAR: Dirt to Daytona</td>\n",
       "      <td>PS2</td>\n",
       "      <td>NaN</td>\n",
       "      <td>Racing</td>\n",
       "      <td>0.28</td>\n",
       "      <td>0.22</td>\n",
       "      <td>0.00</td>\n",
       "      <td>0.07</td>\n",
       "      <td>84.0</td>\n",
       "      <td>8.8</td>\n",
       "      <td>E</td>\n",
       "    </tr>\n",
       "    <tr>\n",
       "      <th>3486</th>\n",
       "      <td>Madden NFL 2002</td>\n",
       "      <td>XB</td>\n",
       "      <td>NaN</td>\n",
       "      <td>Sports</td>\n",
       "      <td>0.53</td>\n",
       "      <td>0.02</td>\n",
       "      <td>0.00</td>\n",
       "      <td>0.03</td>\n",
       "      <td>90.0</td>\n",
       "      <td>8.1</td>\n",
       "      <td>E</td>\n",
       "    </tr>\n",
       "    <tr>\n",
       "      <th>3704</th>\n",
       "      <td>Def Jam: Fight for NY</td>\n",
       "      <td>XB</td>\n",
       "      <td>NaN</td>\n",
       "      <td>Fighting</td>\n",
       "      <td>0.43</td>\n",
       "      <td>0.10</td>\n",
       "      <td>0.00</td>\n",
       "      <td>0.02</td>\n",
       "      <td>84.0</td>\n",
       "      <td>8.5</td>\n",
       "      <td>M</td>\n",
       "    </tr>\n",
       "  </tbody>\n",
       "</table>\n",
       "</div>"
      ],
      "text/plain": [
       "                                                   name platform  \\\n",
       "183                                     Madden NFL 2004      PS2   \n",
       "377                                    FIFA Soccer 2004      PS2   \n",
       "456                          LEGO Batman: The Videogame      Wii   \n",
       "475                          wwe Smackdown vs. Raw 2006      PS2   \n",
       "609                                      Space Invaders     2600   \n",
       "627                                           Rock Band     X360   \n",
       "657            Frogger's Adventures: Temple of the Frog      GBA   \n",
       "678         LEGO Indiana Jones: The Original Adventures      Wii   \n",
       "719                                      Call of Duty 3      Wii   \n",
       "805                                           Rock Band      Wii   \n",
       "1131                            Call of Duty: Black Ops       PC   \n",
       "1142                                          Rock Band      PS3   \n",
       "1301                                     Triple Play 99       PS   \n",
       "1506                                          Adventure     2600   \n",
       "1538                         LEGO Batman: The Videogame      PSP   \n",
       "1585                                             Combat     2600   \n",
       "1609                       LEGO Harry Potter: Years 5-7      Wii   \n",
       "1650                                NASCAR Thunder 2003      PS2   \n",
       "1699                          Hitman 2: Silent Assassin       XB   \n",
       "1840                                          Rock Band      PS2   \n",
       "1984                        Legacy of Kain: Soul Reaver       PS   \n",
       "2010                               Donkey Kong Land III       GB   \n",
       "2106                                     Air-Sea Battle     2600   \n",
       "2108                                       Suikoden III      PS2   \n",
       "2132                       LEGO Harry Potter: Years 5-7     X360   \n",
       "2157                                   Wheel of Fortune      PS2   \n",
       "2169                                           Yakuza 4      PS3   \n",
       "2273                       LEGO Harry Potter: Years 5-7      PS3   \n",
       "2281                                       Namco Museum       XB   \n",
       "2361                                      Rhythm Heaven      Wii   \n",
       "2453            The Lord of the Rings: War in the North     X360   \n",
       "2479                                      Madden NFL 07      PSP   \n",
       "2492                                 MLB SlugFest 20-03      PS2   \n",
       "2522            The Lord of the Rings: War in the North      PS3   \n",
       "2536                           Shaun White Snowboarding     X360   \n",
       "2572                     PES 2009: Pro Evolution Soccer      PSP   \n",
       "2773                                WarioWare: Twisted!      GBA   \n",
       "2849                                      Madden NFL 11      Wii   \n",
       "2969                             Test Drive Unlimited 2     X360   \n",
       "3024  The Chronicles of Narnia: The Lion, The Witch ...      GBA   \n",
       "3081                       LEGO Harry Potter: Years 5-7       DS   \n",
       "3187                                   Monster Hunter 2      PS2   \n",
       "3223                      Metal Gear Solid 2: Substance       XB   \n",
       "3233                             Test Drive Unlimited 2      PS3   \n",
       "3289                         Advance Wars: Days of Ruin       DS   \n",
       "3352                                 The Golden Compass      Wii   \n",
       "3413                                      Madden NFL 06     X360   \n",
       "3459                            NASCAR: Dirt to Daytona      PS2   \n",
       "3486                                    Madden NFL 2002       XB   \n",
       "3704                              Def Jam: Fight for NY       XB   \n",
       "\n",
       "      year_of_release         genre  na_sales  eu_sales  jp_sales  \\\n",
       "183               NaN        Sports      4.26      0.26      0.01   \n",
       "377               NaN        Sports      0.59      2.36      0.04   \n",
       "456               NaN        Action      1.80      0.97      0.00   \n",
       "475               NaN      Fighting      1.57      1.02      0.00   \n",
       "609               NaN       Shooter      2.36      0.14      0.00   \n",
       "627               NaN          Misc      1.93      0.33      0.00   \n",
       "657               NaN     Adventure      2.15      0.18      0.00   \n",
       "678               NaN        Action      1.51      0.61      0.00   \n",
       "719               NaN       Shooter      1.17      0.84      0.00   \n",
       "805               NaN          Misc      1.33      0.56      0.00   \n",
       "1131              NaN       Shooter      0.58      0.81      0.00   \n",
       "1142              NaN          Misc      0.99      0.41      0.00   \n",
       "1301              NaN        Sports      0.81      0.55      0.00   \n",
       "1506              NaN     Adventure      1.21      0.08      0.00   \n",
       "1538              NaN        Action      0.57      0.44      0.00   \n",
       "1585              NaN        Action      1.17      0.07      0.00   \n",
       "1609              NaN        Action      0.69      0.42      0.00   \n",
       "1650              NaN        Racing      0.60      0.46      0.00   \n",
       "1699              NaN        Action      0.76      0.38      0.00   \n",
       "1840              NaN          Misc      0.71      0.06      0.00   \n",
       "1984              NaN        Action      0.58      0.40      0.00   \n",
       "2010              NaN      Platform      0.68      0.31      0.00   \n",
       "2106              NaN       Shooter      0.91      0.06      0.00   \n",
       "2108              NaN  Role-Playing      0.29      0.23      0.38   \n",
       "2132              NaN        Action      0.51      0.37      0.00   \n",
       "2157              NaN          Misc      0.47      0.36      0.00   \n",
       "2169              NaN        Action      0.15      0.13      0.63   \n",
       "2273              NaN        Action      0.36      0.41      0.00   \n",
       "2281              NaN          Misc      0.77      0.11      0.00   \n",
       "2361              NaN          Misc      0.11      0.00      0.77   \n",
       "2453              NaN        Action      0.52      0.24      0.00   \n",
       "2479              NaN        Sports      0.77      0.03      0.00   \n",
       "2492              NaN        Sports      0.41      0.32      0.00   \n",
       "2522              NaN        Action      0.25      0.42      0.01   \n",
       "2536              NaN        Sports      0.48      0.25      0.00   \n",
       "2572              NaN        Sports      0.04      0.33      0.26   \n",
       "2773              NaN        Puzzle      0.16      0.06      0.50   \n",
       "2849              NaN        Sports      0.68      0.00      0.00   \n",
       "2969              NaN        Racing      0.30      0.31      0.00   \n",
       "3024              NaN        Action      0.48      0.18      0.00   \n",
       "3081              NaN        Action      0.34      0.25      0.00   \n",
       "3187              NaN  Role-Playing      0.00      0.00      0.63   \n",
       "3223              NaN        Action      0.38      0.22      0.00   \n",
       "3233              NaN        Racing      0.16      0.34      0.01   \n",
       "3289              NaN      Strategy      0.43      0.12      0.00   \n",
       "3352              NaN        Action      0.26      0.28      0.00   \n",
       "3413              NaN        Sports      0.54      0.00      0.01   \n",
       "3459              NaN        Racing      0.28      0.22      0.00   \n",
       "3486              NaN        Sports      0.53      0.02      0.00   \n",
       "3704              NaN      Fighting      0.43      0.10      0.00   \n",
       "\n",
       "      other_sales  critic_score user_score rating  \n",
       "183          0.71          94.0        8.5      E  \n",
       "377          0.51          84.0        6.4      E  \n",
       "456          0.29          74.0        7.9   E10+  \n",
       "475          0.41           NaN        NaN    NaN  \n",
       "609          0.03           NaN        NaN    NaN  \n",
       "627          0.21          92.0        8.2      T  \n",
       "657          0.07          73.0        tbd      E  \n",
       "678          0.21          78.0        6.6   E10+  \n",
       "719          0.23          69.0        6.7      T  \n",
       "805          0.20          80.0        6.3      T  \n",
       "1131         0.23          81.0        5.2      M  \n",
       "1142         0.22          92.0        8.4      T  \n",
       "1301         0.10           NaN        NaN    NaN  \n",
       "1506         0.01           NaN        NaN    NaN  \n",
       "1538         0.27          73.0        7.4   E10+  \n",
       "1585         0.01           NaN        NaN    NaN  \n",
       "1609         0.12          76.0        7.8   E10+  \n",
       "1650         0.16          84.0        8.7      E  \n",
       "1699         0.05          84.0          8      M  \n",
       "1840         0.35          82.0        6.8      T  \n",
       "1984         0.07          91.0          9      T  \n",
       "2010         0.04           NaN        NaN    NaN  \n",
       "2106         0.01           NaN        NaN    NaN  \n",
       "2108         0.08          86.0        7.7      T  \n",
       "2132         0.09          77.0        7.9   E10+  \n",
       "2157         0.12           NaN        tbd      E  \n",
       "2169         0.05          78.0          8      M  \n",
       "2273         0.15          76.0        8.3   E10+  \n",
       "2281         0.04          59.0        tbd      E  \n",
       "2361         0.01           NaN        NaN    NaN  \n",
       "2453         0.08          61.0        7.4      M  \n",
       "2479         0.04          78.0        6.6      E  \n",
       "2492         0.11          77.0        8.2      E  \n",
       "2522         0.13          63.0          7      M  \n",
       "2536         0.08          60.0        7.6      T  \n",
       "2572         0.17           NaN        NaN    NaN  \n",
       "2773         0.02           NaN        NaN    NaN  \n",
       "2849         0.04          75.0        5.4      E  \n",
       "2969         0.07          68.0        6.4      T  \n",
       "3024         0.01          66.0        6.8      E  \n",
       "3081         0.07          69.0        tbd   E10+  \n",
       "3187         0.00           NaN        NaN    NaN  \n",
       "3223         0.03          87.0        8.5      M  \n",
       "3233         0.12          70.0        6.1      T  \n",
       "3289         0.05          86.0        8.7   E10+  \n",
       "3352         0.07          35.0        6.8   E10+  \n",
       "3413         0.03          74.0        4.9      E  \n",
       "3459         0.07          84.0        8.8      E  \n",
       "3486         0.03          90.0        8.1      E  \n",
       "3704         0.02          84.0        8.5      M  "
      ]
     },
     "execution_count": 13,
     "metadata": {},
     "output_type": "execute_result"
    }
   ],
   "source": [
    "df[df['year_of_release'].isna()].head(50)"
   ]
  },
  {
   "cell_type": "markdown",
   "metadata": {},
   "source": [
    "**Данный столбец содержит информацию о годе выхода игры. Тип данных числовой, пропущено 269 значений. Причина пропуска может быть некорректное заполнение, так как в некоторых случаях в названии игры указан год выхода. Пропуски в этом столбце невозможно заполнить корректно, так как в некоторых названиях игры указано только имя без указания года. Удалять эти строки тоже нет необходимости, так как столбец числовой и тип float64.**"
   ]
  },
  {
   "cell_type": "code",
   "execution_count": 14,
   "metadata": {},
   "outputs": [],
   "source": [
    "df.dropna(subset=['year_of_release'],inplace = True)"
   ]
  },
  {
   "cell_type": "code",
   "execution_count": 15,
   "metadata": {},
   "outputs": [],
   "source": [
    "df['year_of_release'] = df['year_of_release'].astype(int)"
   ]
  },
  {
   "cell_type": "code",
   "execution_count": 16,
   "metadata": {
    "scrolled": true
   },
   "outputs": [
    {
     "name": "stdout",
     "output_type": "stream",
     "text": [
      "Количество пропусков: 2\n",
      "count      16444\n",
      "unique        12\n",
      "top       Action\n",
      "freq        3307\n",
      "Name: genre, dtype: object\n",
      "Уникальные значения: ['Sports' 'Platform' 'Racing' 'Role-Playing' 'Puzzle' 'Misc' 'Shooter'\n",
      " 'Simulation' 'Action' 'Fighting' 'Adventure' 'Strategy' nan]\n"
     ]
    }
   ],
   "source": [
    "disp_column(df['genre'])"
   ]
  },
  {
   "cell_type": "code",
   "execution_count": 17,
   "metadata": {
    "scrolled": true
   },
   "outputs": [
    {
     "data": {
      "text/html": [
       "<div>\n",
       "<style scoped>\n",
       "    .dataframe tbody tr th:only-of-type {\n",
       "        vertical-align: middle;\n",
       "    }\n",
       "\n",
       "    .dataframe tbody tr th {\n",
       "        vertical-align: top;\n",
       "    }\n",
       "\n",
       "    .dataframe thead th {\n",
       "        text-align: right;\n",
       "    }\n",
       "</style>\n",
       "<table border=\"1\" class=\"dataframe\">\n",
       "  <thead>\n",
       "    <tr style=\"text-align: right;\">\n",
       "      <th></th>\n",
       "      <th>name</th>\n",
       "      <th>platform</th>\n",
       "      <th>year_of_release</th>\n",
       "      <th>genre</th>\n",
       "      <th>na_sales</th>\n",
       "      <th>eu_sales</th>\n",
       "      <th>jp_sales</th>\n",
       "      <th>other_sales</th>\n",
       "      <th>critic_score</th>\n",
       "      <th>user_score</th>\n",
       "      <th>rating</th>\n",
       "    </tr>\n",
       "  </thead>\n",
       "  <tbody>\n",
       "    <tr>\n",
       "      <th>659</th>\n",
       "      <td>NaN</td>\n",
       "      <td>GEN</td>\n",
       "      <td>1993</td>\n",
       "      <td>NaN</td>\n",
       "      <td>1.78</td>\n",
       "      <td>0.53</td>\n",
       "      <td>0.00</td>\n",
       "      <td>0.08</td>\n",
       "      <td>NaN</td>\n",
       "      <td>NaN</td>\n",
       "      <td>NaN</td>\n",
       "    </tr>\n",
       "    <tr>\n",
       "      <th>14244</th>\n",
       "      <td>NaN</td>\n",
       "      <td>GEN</td>\n",
       "      <td>1993</td>\n",
       "      <td>NaN</td>\n",
       "      <td>0.00</td>\n",
       "      <td>0.00</td>\n",
       "      <td>0.03</td>\n",
       "      <td>0.00</td>\n",
       "      <td>NaN</td>\n",
       "      <td>NaN</td>\n",
       "      <td>NaN</td>\n",
       "    </tr>\n",
       "  </tbody>\n",
       "</table>\n",
       "</div>"
      ],
      "text/plain": [
       "      name platform  year_of_release genre  na_sales  eu_sales  jp_sales  \\\n",
       "659    NaN      GEN             1993   NaN      1.78      0.53      0.00   \n",
       "14244  NaN      GEN             1993   NaN      0.00      0.00      0.03   \n",
       "\n",
       "       other_sales  critic_score user_score rating  \n",
       "659           0.08           NaN        NaN    NaN  \n",
       "14244         0.00           NaN        NaN    NaN  "
      ]
     },
     "execution_count": 17,
     "metadata": {},
     "output_type": "execute_result"
    }
   ],
   "source": [
    "df[df['genre'].isna()]"
   ]
  },
  {
   "cell_type": "markdown",
   "metadata": {},
   "source": [
    "**Данный столбец содержит информацию о жанре игры. Имеет строчный тип данных. Пропущены те же значения что и в столбце с названиями игр. Эти стоки удалятся.**"
   ]
  },
  {
   "cell_type": "code",
   "execution_count": 18,
   "metadata": {},
   "outputs": [
    {
     "name": "stdout",
     "output_type": "stream",
     "text": [
      "Количество пропусков: 8463\n",
      "count    7983.000000\n",
      "mean       68.994363\n",
      "std        13.920060\n",
      "min        13.000000\n",
      "25%        60.000000\n",
      "50%        71.000000\n",
      "75%        79.000000\n",
      "max        98.000000\n",
      "Name: critic_score, dtype: float64\n",
      "Уникальные значения: [76. nan 82. 80. 89. 58. 87. 91. 61. 97. 95. 77. 88. 83. 94. 93. 85. 86.\n",
      " 98. 96. 90. 84. 73. 74. 78. 92. 71. 72. 68. 62. 49. 67. 81. 66. 56. 79.\n",
      " 70. 59. 64. 75. 60. 63. 69. 50. 25. 42. 44. 55. 48. 57. 29. 47. 65. 54.\n",
      " 20. 53. 37. 38. 33. 52. 30. 32. 43. 45. 51. 40. 46. 39. 34. 41. 36. 31.\n",
      " 27. 35. 26. 19. 28. 23. 24. 21. 17. 13.]\n"
     ]
    }
   ],
   "source": [
    "disp_column(df['critic_score'])"
   ]
  },
  {
   "cell_type": "code",
   "execution_count": 19,
   "metadata": {
    "scrolled": true
   },
   "outputs": [
    {
     "data": {
      "text/html": [
       "<div>\n",
       "<style scoped>\n",
       "    .dataframe tbody tr th:only-of-type {\n",
       "        vertical-align: middle;\n",
       "    }\n",
       "\n",
       "    .dataframe tbody tr th {\n",
       "        vertical-align: top;\n",
       "    }\n",
       "\n",
       "    .dataframe thead th {\n",
       "        text-align: right;\n",
       "    }\n",
       "</style>\n",
       "<table border=\"1\" class=\"dataframe\">\n",
       "  <thead>\n",
       "    <tr style=\"text-align: right;\">\n",
       "      <th></th>\n",
       "      <th>name</th>\n",
       "      <th>platform</th>\n",
       "      <th>year_of_release</th>\n",
       "      <th>genre</th>\n",
       "      <th>na_sales</th>\n",
       "      <th>eu_sales</th>\n",
       "      <th>jp_sales</th>\n",
       "      <th>other_sales</th>\n",
       "      <th>critic_score</th>\n",
       "      <th>user_score</th>\n",
       "      <th>rating</th>\n",
       "    </tr>\n",
       "  </thead>\n",
       "  <tbody>\n",
       "    <tr>\n",
       "      <th>1</th>\n",
       "      <td>Super Mario Bros.</td>\n",
       "      <td>NES</td>\n",
       "      <td>1985</td>\n",
       "      <td>Platform</td>\n",
       "      <td>29.08</td>\n",
       "      <td>3.58</td>\n",
       "      <td>6.81</td>\n",
       "      <td>0.77</td>\n",
       "      <td>NaN</td>\n",
       "      <td>NaN</td>\n",
       "      <td>NaN</td>\n",
       "    </tr>\n",
       "    <tr>\n",
       "      <th>4</th>\n",
       "      <td>Pokemon Red/Pokemon Blue</td>\n",
       "      <td>GB</td>\n",
       "      <td>1996</td>\n",
       "      <td>Role-Playing</td>\n",
       "      <td>11.27</td>\n",
       "      <td>8.89</td>\n",
       "      <td>10.22</td>\n",
       "      <td>1.00</td>\n",
       "      <td>NaN</td>\n",
       "      <td>NaN</td>\n",
       "      <td>NaN</td>\n",
       "    </tr>\n",
       "    <tr>\n",
       "      <th>5</th>\n",
       "      <td>Tetris</td>\n",
       "      <td>GB</td>\n",
       "      <td>1989</td>\n",
       "      <td>Puzzle</td>\n",
       "      <td>23.20</td>\n",
       "      <td>2.26</td>\n",
       "      <td>4.22</td>\n",
       "      <td>0.58</td>\n",
       "      <td>NaN</td>\n",
       "      <td>NaN</td>\n",
       "      <td>NaN</td>\n",
       "    </tr>\n",
       "    <tr>\n",
       "      <th>9</th>\n",
       "      <td>Duck Hunt</td>\n",
       "      <td>NES</td>\n",
       "      <td>1984</td>\n",
       "      <td>Shooter</td>\n",
       "      <td>26.93</td>\n",
       "      <td>0.63</td>\n",
       "      <td>0.28</td>\n",
       "      <td>0.47</td>\n",
       "      <td>NaN</td>\n",
       "      <td>NaN</td>\n",
       "      <td>NaN</td>\n",
       "    </tr>\n",
       "    <tr>\n",
       "      <th>10</th>\n",
       "      <td>Nintendogs</td>\n",
       "      <td>DS</td>\n",
       "      <td>2005</td>\n",
       "      <td>Simulation</td>\n",
       "      <td>9.05</td>\n",
       "      <td>10.95</td>\n",
       "      <td>1.93</td>\n",
       "      <td>2.74</td>\n",
       "      <td>NaN</td>\n",
       "      <td>NaN</td>\n",
       "      <td>NaN</td>\n",
       "    </tr>\n",
       "    <tr>\n",
       "      <th>...</th>\n",
       "      <td>...</td>\n",
       "      <td>...</td>\n",
       "      <td>...</td>\n",
       "      <td>...</td>\n",
       "      <td>...</td>\n",
       "      <td>...</td>\n",
       "      <td>...</td>\n",
       "      <td>...</td>\n",
       "      <td>...</td>\n",
       "      <td>...</td>\n",
       "      <td>...</td>\n",
       "    </tr>\n",
       "    <tr>\n",
       "      <th>16710</th>\n",
       "      <td>Samurai Warriors: Sanada Maru</td>\n",
       "      <td>PS3</td>\n",
       "      <td>2016</td>\n",
       "      <td>Action</td>\n",
       "      <td>0.00</td>\n",
       "      <td>0.00</td>\n",
       "      <td>0.01</td>\n",
       "      <td>0.00</td>\n",
       "      <td>NaN</td>\n",
       "      <td>NaN</td>\n",
       "      <td>NaN</td>\n",
       "    </tr>\n",
       "    <tr>\n",
       "      <th>16711</th>\n",
       "      <td>LMA Manager 2007</td>\n",
       "      <td>X360</td>\n",
       "      <td>2006</td>\n",
       "      <td>Sports</td>\n",
       "      <td>0.00</td>\n",
       "      <td>0.01</td>\n",
       "      <td>0.00</td>\n",
       "      <td>0.00</td>\n",
       "      <td>NaN</td>\n",
       "      <td>NaN</td>\n",
       "      <td>NaN</td>\n",
       "    </tr>\n",
       "    <tr>\n",
       "      <th>16712</th>\n",
       "      <td>Haitaka no Psychedelica</td>\n",
       "      <td>PSV</td>\n",
       "      <td>2016</td>\n",
       "      <td>Adventure</td>\n",
       "      <td>0.00</td>\n",
       "      <td>0.00</td>\n",
       "      <td>0.01</td>\n",
       "      <td>0.00</td>\n",
       "      <td>NaN</td>\n",
       "      <td>NaN</td>\n",
       "      <td>NaN</td>\n",
       "    </tr>\n",
       "    <tr>\n",
       "      <th>16713</th>\n",
       "      <td>Spirits &amp; Spells</td>\n",
       "      <td>GBA</td>\n",
       "      <td>2003</td>\n",
       "      <td>Platform</td>\n",
       "      <td>0.01</td>\n",
       "      <td>0.00</td>\n",
       "      <td>0.00</td>\n",
       "      <td>0.00</td>\n",
       "      <td>NaN</td>\n",
       "      <td>NaN</td>\n",
       "      <td>NaN</td>\n",
       "    </tr>\n",
       "    <tr>\n",
       "      <th>16714</th>\n",
       "      <td>Winning Post 8 2016</td>\n",
       "      <td>PSV</td>\n",
       "      <td>2016</td>\n",
       "      <td>Simulation</td>\n",
       "      <td>0.00</td>\n",
       "      <td>0.00</td>\n",
       "      <td>0.01</td>\n",
       "      <td>0.00</td>\n",
       "      <td>NaN</td>\n",
       "      <td>NaN</td>\n",
       "      <td>NaN</td>\n",
       "    </tr>\n",
       "  </tbody>\n",
       "</table>\n",
       "<p>8463 rows × 11 columns</p>\n",
       "</div>"
      ],
      "text/plain": [
       "                                name platform  year_of_release         genre  \\\n",
       "1                  Super Mario Bros.      NES             1985      Platform   \n",
       "4           Pokemon Red/Pokemon Blue       GB             1996  Role-Playing   \n",
       "5                             Tetris       GB             1989        Puzzle   \n",
       "9                          Duck Hunt      NES             1984       Shooter   \n",
       "10                        Nintendogs       DS             2005    Simulation   \n",
       "...                              ...      ...              ...           ...   \n",
       "16710  Samurai Warriors: Sanada Maru      PS3             2016        Action   \n",
       "16711               LMA Manager 2007     X360             2006        Sports   \n",
       "16712        Haitaka no Psychedelica      PSV             2016     Adventure   \n",
       "16713               Spirits & Spells      GBA             2003      Platform   \n",
       "16714            Winning Post 8 2016      PSV             2016    Simulation   \n",
       "\n",
       "       na_sales  eu_sales  jp_sales  other_sales  critic_score user_score  \\\n",
       "1         29.08      3.58      6.81         0.77           NaN        NaN   \n",
       "4         11.27      8.89     10.22         1.00           NaN        NaN   \n",
       "5         23.20      2.26      4.22         0.58           NaN        NaN   \n",
       "9         26.93      0.63      0.28         0.47           NaN        NaN   \n",
       "10         9.05     10.95      1.93         2.74           NaN        NaN   \n",
       "...         ...       ...       ...          ...           ...        ...   \n",
       "16710      0.00      0.00      0.01         0.00           NaN        NaN   \n",
       "16711      0.00      0.01      0.00         0.00           NaN        NaN   \n",
       "16712      0.00      0.00      0.01         0.00           NaN        NaN   \n",
       "16713      0.01      0.00      0.00         0.00           NaN        NaN   \n",
       "16714      0.00      0.00      0.01         0.00           NaN        NaN   \n",
       "\n",
       "      rating  \n",
       "1        NaN  \n",
       "4        NaN  \n",
       "5        NaN  \n",
       "9        NaN  \n",
       "10       NaN  \n",
       "...      ...  \n",
       "16710    NaN  \n",
       "16711    NaN  \n",
       "16712    NaN  \n",
       "16713    NaN  \n",
       "16714    NaN  \n",
       "\n",
       "[8463 rows x 11 columns]"
      ]
     },
     "execution_count": 19,
     "metadata": {},
     "output_type": "execute_result"
    }
   ],
   "source": [
    "df[df['critic_score'].isna()]"
   ]
  },
  {
   "cell_type": "markdown",
   "metadata": {},
   "source": [
    "**Данный столбец содержит информацию с оценкой игр критиками. Пропусков тут больше половины данных 8578 возможно оценочная система существовала не всегда, поэтому в столбце много пропусков. Заполнить пропуски на адекватные значения невозможно, поэтому оставим пропуски как есть. Тип данных числовой, при необходимости их можно отфильтровать.** "
   ]
  },
  {
   "cell_type": "code",
   "execution_count": 20,
   "metadata": {},
   "outputs": [
    {
     "name": "stdout",
     "output_type": "stream",
     "text": [
      "Количество пропусков: 6607\n",
      "count     9839\n",
      "unique      96\n",
      "top        tbd\n",
      "freq      2376\n",
      "Name: user_score, dtype: object\n",
      "Уникальные значения: ['8' nan '8.3' '8.5' '6.6' '8.4' '8.6' '7.7' '6.3' '7.4' '8.2' '9' '7.9'\n",
      " '8.1' '8.7' '7.1' '3.4' '5.3' '4.8' '3.2' '8.9' '6.4' '7.8' '7.5' '2.6'\n",
      " '7.2' '9.2' '7' '7.3' '4.3' '7.6' '5.7' '5' '9.1' '6.5' 'tbd' '8.8' '6.9'\n",
      " '9.4' '6.8' '6.1' '6.7' '5.4' '4' '4.9' '4.5' '9.3' '6.2' '4.2' '6' '3.7'\n",
      " '4.1' '5.8' '5.6' '5.5' '4.4' '4.6' '5.9' '3.9' '3.1' '2.9' '5.2' '3.3'\n",
      " '4.7' '5.1' '3.5' '2.5' '1.9' '3' '2.7' '2.2' '2' '9.5' '2.1' '3.6' '2.8'\n",
      " '1.8' '3.8' '0' '1.6' '9.6' '2.4' '1.7' '1.1' '0.3' '1.5' '0.7' '1.2'\n",
      " '2.3' '0.5' '1.3' '0.2' '0.6' '1.4' '0.9' '1' '9.7']\n"
     ]
    }
   ],
   "source": [
    "disp_column(df['user_score'])"
   ]
  },
  {
   "cell_type": "code",
   "execution_count": 21,
   "metadata": {
    "scrolled": true
   },
   "outputs": [
    {
     "data": {
      "text/html": [
       "<div>\n",
       "<style scoped>\n",
       "    .dataframe tbody tr th:only-of-type {\n",
       "        vertical-align: middle;\n",
       "    }\n",
       "\n",
       "    .dataframe tbody tr th {\n",
       "        vertical-align: top;\n",
       "    }\n",
       "\n",
       "    .dataframe thead th {\n",
       "        text-align: right;\n",
       "    }\n",
       "</style>\n",
       "<table border=\"1\" class=\"dataframe\">\n",
       "  <thead>\n",
       "    <tr style=\"text-align: right;\">\n",
       "      <th></th>\n",
       "      <th>name</th>\n",
       "      <th>platform</th>\n",
       "      <th>year_of_release</th>\n",
       "      <th>genre</th>\n",
       "      <th>na_sales</th>\n",
       "      <th>eu_sales</th>\n",
       "      <th>jp_sales</th>\n",
       "      <th>other_sales</th>\n",
       "      <th>critic_score</th>\n",
       "      <th>user_score</th>\n",
       "      <th>rating</th>\n",
       "    </tr>\n",
       "  </thead>\n",
       "  <tbody>\n",
       "    <tr>\n",
       "      <th>1</th>\n",
       "      <td>Super Mario Bros.</td>\n",
       "      <td>NES</td>\n",
       "      <td>1985</td>\n",
       "      <td>Platform</td>\n",
       "      <td>29.08</td>\n",
       "      <td>3.58</td>\n",
       "      <td>6.81</td>\n",
       "      <td>0.77</td>\n",
       "      <td>NaN</td>\n",
       "      <td>NaN</td>\n",
       "      <td>NaN</td>\n",
       "    </tr>\n",
       "    <tr>\n",
       "      <th>4</th>\n",
       "      <td>Pokemon Red/Pokemon Blue</td>\n",
       "      <td>GB</td>\n",
       "      <td>1996</td>\n",
       "      <td>Role-Playing</td>\n",
       "      <td>11.27</td>\n",
       "      <td>8.89</td>\n",
       "      <td>10.22</td>\n",
       "      <td>1.00</td>\n",
       "      <td>NaN</td>\n",
       "      <td>NaN</td>\n",
       "      <td>NaN</td>\n",
       "    </tr>\n",
       "    <tr>\n",
       "      <th>5</th>\n",
       "      <td>Tetris</td>\n",
       "      <td>GB</td>\n",
       "      <td>1989</td>\n",
       "      <td>Puzzle</td>\n",
       "      <td>23.20</td>\n",
       "      <td>2.26</td>\n",
       "      <td>4.22</td>\n",
       "      <td>0.58</td>\n",
       "      <td>NaN</td>\n",
       "      <td>NaN</td>\n",
       "      <td>NaN</td>\n",
       "    </tr>\n",
       "    <tr>\n",
       "      <th>9</th>\n",
       "      <td>Duck Hunt</td>\n",
       "      <td>NES</td>\n",
       "      <td>1984</td>\n",
       "      <td>Shooter</td>\n",
       "      <td>26.93</td>\n",
       "      <td>0.63</td>\n",
       "      <td>0.28</td>\n",
       "      <td>0.47</td>\n",
       "      <td>NaN</td>\n",
       "      <td>NaN</td>\n",
       "      <td>NaN</td>\n",
       "    </tr>\n",
       "    <tr>\n",
       "      <th>10</th>\n",
       "      <td>Nintendogs</td>\n",
       "      <td>DS</td>\n",
       "      <td>2005</td>\n",
       "      <td>Simulation</td>\n",
       "      <td>9.05</td>\n",
       "      <td>10.95</td>\n",
       "      <td>1.93</td>\n",
       "      <td>2.74</td>\n",
       "      <td>NaN</td>\n",
       "      <td>NaN</td>\n",
       "      <td>NaN</td>\n",
       "    </tr>\n",
       "    <tr>\n",
       "      <th>...</th>\n",
       "      <td>...</td>\n",
       "      <td>...</td>\n",
       "      <td>...</td>\n",
       "      <td>...</td>\n",
       "      <td>...</td>\n",
       "      <td>...</td>\n",
       "      <td>...</td>\n",
       "      <td>...</td>\n",
       "      <td>...</td>\n",
       "      <td>...</td>\n",
       "      <td>...</td>\n",
       "    </tr>\n",
       "    <tr>\n",
       "      <th>16710</th>\n",
       "      <td>Samurai Warriors: Sanada Maru</td>\n",
       "      <td>PS3</td>\n",
       "      <td>2016</td>\n",
       "      <td>Action</td>\n",
       "      <td>0.00</td>\n",
       "      <td>0.00</td>\n",
       "      <td>0.01</td>\n",
       "      <td>0.00</td>\n",
       "      <td>NaN</td>\n",
       "      <td>NaN</td>\n",
       "      <td>NaN</td>\n",
       "    </tr>\n",
       "    <tr>\n",
       "      <th>16711</th>\n",
       "      <td>LMA Manager 2007</td>\n",
       "      <td>X360</td>\n",
       "      <td>2006</td>\n",
       "      <td>Sports</td>\n",
       "      <td>0.00</td>\n",
       "      <td>0.01</td>\n",
       "      <td>0.00</td>\n",
       "      <td>0.00</td>\n",
       "      <td>NaN</td>\n",
       "      <td>NaN</td>\n",
       "      <td>NaN</td>\n",
       "    </tr>\n",
       "    <tr>\n",
       "      <th>16712</th>\n",
       "      <td>Haitaka no Psychedelica</td>\n",
       "      <td>PSV</td>\n",
       "      <td>2016</td>\n",
       "      <td>Adventure</td>\n",
       "      <td>0.00</td>\n",
       "      <td>0.00</td>\n",
       "      <td>0.01</td>\n",
       "      <td>0.00</td>\n",
       "      <td>NaN</td>\n",
       "      <td>NaN</td>\n",
       "      <td>NaN</td>\n",
       "    </tr>\n",
       "    <tr>\n",
       "      <th>16713</th>\n",
       "      <td>Spirits &amp; Spells</td>\n",
       "      <td>GBA</td>\n",
       "      <td>2003</td>\n",
       "      <td>Platform</td>\n",
       "      <td>0.01</td>\n",
       "      <td>0.00</td>\n",
       "      <td>0.00</td>\n",
       "      <td>0.00</td>\n",
       "      <td>NaN</td>\n",
       "      <td>NaN</td>\n",
       "      <td>NaN</td>\n",
       "    </tr>\n",
       "    <tr>\n",
       "      <th>16714</th>\n",
       "      <td>Winning Post 8 2016</td>\n",
       "      <td>PSV</td>\n",
       "      <td>2016</td>\n",
       "      <td>Simulation</td>\n",
       "      <td>0.00</td>\n",
       "      <td>0.00</td>\n",
       "      <td>0.01</td>\n",
       "      <td>0.00</td>\n",
       "      <td>NaN</td>\n",
       "      <td>NaN</td>\n",
       "      <td>NaN</td>\n",
       "    </tr>\n",
       "  </tbody>\n",
       "</table>\n",
       "<p>6607 rows × 11 columns</p>\n",
       "</div>"
      ],
      "text/plain": [
       "                                name platform  year_of_release         genre  \\\n",
       "1                  Super Mario Bros.      NES             1985      Platform   \n",
       "4           Pokemon Red/Pokemon Blue       GB             1996  Role-Playing   \n",
       "5                             Tetris       GB             1989        Puzzle   \n",
       "9                          Duck Hunt      NES             1984       Shooter   \n",
       "10                        Nintendogs       DS             2005    Simulation   \n",
       "...                              ...      ...              ...           ...   \n",
       "16710  Samurai Warriors: Sanada Maru      PS3             2016        Action   \n",
       "16711               LMA Manager 2007     X360             2006        Sports   \n",
       "16712        Haitaka no Psychedelica      PSV             2016     Adventure   \n",
       "16713               Spirits & Spells      GBA             2003      Platform   \n",
       "16714            Winning Post 8 2016      PSV             2016    Simulation   \n",
       "\n",
       "       na_sales  eu_sales  jp_sales  other_sales  critic_score user_score  \\\n",
       "1         29.08      3.58      6.81         0.77           NaN        NaN   \n",
       "4         11.27      8.89     10.22         1.00           NaN        NaN   \n",
       "5         23.20      2.26      4.22         0.58           NaN        NaN   \n",
       "9         26.93      0.63      0.28         0.47           NaN        NaN   \n",
       "10         9.05     10.95      1.93         2.74           NaN        NaN   \n",
       "...         ...       ...       ...          ...           ...        ...   \n",
       "16710      0.00      0.00      0.01         0.00           NaN        NaN   \n",
       "16711      0.00      0.01      0.00         0.00           NaN        NaN   \n",
       "16712      0.00      0.00      0.01         0.00           NaN        NaN   \n",
       "16713      0.01      0.00      0.00         0.00           NaN        NaN   \n",
       "16714      0.00      0.00      0.01         0.00           NaN        NaN   \n",
       "\n",
       "      rating  \n",
       "1        NaN  \n",
       "4        NaN  \n",
       "5        NaN  \n",
       "9        NaN  \n",
       "10       NaN  \n",
       "...      ...  \n",
       "16710    NaN  \n",
       "16711    NaN  \n",
       "16712    NaN  \n",
       "16713    NaN  \n",
       "16714    NaN  \n",
       "\n",
       "[6607 rows x 11 columns]"
      ]
     },
     "execution_count": 21,
     "metadata": {},
     "output_type": "execute_result"
    }
   ],
   "source": [
    "df[df['user_score'].isna()]"
   ]
  },
  {
   "cell_type": "markdown",
   "metadata": {},
   "source": [
    "**Данный столбец содержит информацию с оценкой игр игроками. Пропусков тут 6701. Столбец имеет тип строки, хотя значения в ней цифровые. На это повлияло значение (tbd) Аббревиатура \"tbd\" означает, что игра еще не оценена достаточным количеством пользователей. Расшифровывается с английского \"to be defined\". Пропущенные значения, заполнить актуальными данными, тоже не получиться, но столбец нужно преобразовать к числовому типу заменив строки на отсутствующие значения.**"
   ]
  },
  {
   "cell_type": "code",
   "execution_count": 22,
   "metadata": {},
   "outputs": [
    {
     "name": "stdout",
     "output_type": "stream",
     "text": [
      "Количество пропусков: 6678\n",
      "count     9768\n",
      "unique       8\n",
      "top          E\n",
      "freq      3921\n",
      "Name: rating, dtype: object\n",
      "Уникальные значения: ['E' nan 'M' 'T' 'E10+' 'K-A' 'AO' 'EC' 'RP']\n"
     ]
    }
   ],
   "source": [
    "disp_column(df['rating'])"
   ]
  },
  {
   "cell_type": "markdown",
   "metadata": {},
   "source": [
    "**Данный столбец содержит информацию по рейтингу. Чтобы помочь определить, какие игры подходят для разных возрастов, в США, Канаде и Мексике используется система ESRB (Совет по рейтингу развлекательного программного обеспечения), а в Великобритании и большинстве европейских стран - система PEGI (Европейская система классификации игр)  Возрастными рейтингами для игр в Японии занимается CERO. Пропуски в данных, возможно, связаны именно с этим. Заменим 6766 пропущенных значений на строки Unknown.**"
   ]
  },
  {
   "cell_type": "code",
   "execution_count": 23,
   "metadata": {},
   "outputs": [],
   "source": [
    "df['rating'] = df['rating'].fillna('Unknown')"
   ]
  },
  {
   "cell_type": "code",
   "execution_count": 24,
   "metadata": {},
   "outputs": [],
   "source": [
    "df['user_score'] = df['user_score'].replace('tbd', np.NaN)"
   ]
  },
  {
   "cell_type": "code",
   "execution_count": 25,
   "metadata": {},
   "outputs": [],
   "source": [
    "df['user_score'] = df['user_score'].astype(float)"
   ]
  },
  {
   "cell_type": "code",
   "execution_count": 26,
   "metadata": {},
   "outputs": [],
   "source": [
    "df.dropna(subset = ['name', 'genre'], inplace = True)"
   ]
  },
  {
   "cell_type": "markdown",
   "metadata": {},
   "source": [
    "**Посчитаем суммарные продажи во всех регионах и добавим столбец в таблицу**"
   ]
  },
  {
   "cell_type": "code",
   "execution_count": 27,
   "metadata": {},
   "outputs": [],
   "source": [
    "df['total_sales'] = df['na_sales'] + df['eu_sales'] + df['jp_sales'] + df['other_sales']"
   ]
  },
  {
   "cell_type": "markdown",
   "metadata": {},
   "source": [
    "<div class=\"alert alert-info\" style=\"border-radius: 10px; box-shadow: 2px 2px 2px; border: 1px solid; padding: 10px \"> \n",
    "<b>Комментарий студента</b> \n",
    "    \n",
    "Спасибо😊\n",
    "\n",
    "</div>"
   ]
  },
  {
   "cell_type": "code",
   "execution_count": 28,
   "metadata": {},
   "outputs": [
    {
     "data": {
      "text/plain": [
       "name                  0\n",
       "platform              0\n",
       "year_of_release       0\n",
       "genre                 0\n",
       "na_sales              0\n",
       "eu_sales              0\n",
       "jp_sales              0\n",
       "other_sales           0\n",
       "critic_score       8461\n",
       "user_score         8981\n",
       "rating                0\n",
       "total_sales           0\n",
       "dtype: int64"
      ]
     },
     "execution_count": 28,
     "metadata": {},
     "output_type": "execute_result"
    }
   ],
   "source": [
    "df.isna().sum()"
   ]
  },
  {
   "cell_type": "code",
   "execution_count": 29,
   "metadata": {},
   "outputs": [
    {
     "name": "stdout",
     "output_type": "stream",
     "text": [
      "<class 'pandas.core.frame.DataFrame'>\n",
      "Int64Index: 16444 entries, 0 to 16714\n",
      "Data columns (total 12 columns):\n",
      " #   Column           Non-Null Count  Dtype  \n",
      "---  ------           --------------  -----  \n",
      " 0   name             16444 non-null  object \n",
      " 1   platform         16444 non-null  object \n",
      " 2   year_of_release  16444 non-null  int64  \n",
      " 3   genre            16444 non-null  object \n",
      " 4   na_sales         16444 non-null  float64\n",
      " 5   eu_sales         16444 non-null  float64\n",
      " 6   jp_sales         16444 non-null  float64\n",
      " 7   other_sales      16444 non-null  float64\n",
      " 8   critic_score     7983 non-null   float64\n",
      " 9   user_score       7463 non-null   float64\n",
      " 10  rating           16444 non-null  object \n",
      " 11  total_sales      16444 non-null  float64\n",
      "dtypes: float64(7), int64(1), object(4)\n",
      "memory usage: 1.6+ MB\n"
     ]
    }
   ],
   "source": [
    "df.info()"
   ]
  },
  {
   "cell_type": "markdown",
   "metadata": {},
   "source": [
    "<h2> Шаг. Проведем исследовательский анализ данных "
   ]
  },
  {
   "cell_type": "markdown",
   "metadata": {},
   "source": [
    "**Посмотрим сколько игр вышло в разные года.**"
   ]
  },
  {
   "cell_type": "code",
   "execution_count": 30,
   "metadata": {
    "scrolled": false
   },
   "outputs": [
    {
     "data": {
      "text/plain": [
       "year_of_release\n",
       "2008    1427\n",
       "2009    1426\n",
       "2010    1255\n",
       "2007    1197\n",
       "2011    1136\n",
       "2006    1006\n",
       "2005     939\n",
       "2002     829\n",
       "2003     775\n",
       "2004     762\n",
       "2012     653\n",
       "2015     606\n",
       "2014     581\n",
       "2013     544\n",
       "2016     502\n",
       "2001     482\n",
       "1998     379\n",
       "2000     350\n",
       "1999     338\n",
       "1997     289\n",
       "1996     263\n",
       "1995     219\n",
       "1994     121\n",
       "1993      60\n",
       "1981      46\n",
       "1992      43\n",
       "1991      41\n",
       "1982      36\n",
       "1986      21\n",
       "1989      17\n",
       "1983      17\n",
       "1990      16\n",
       "1987      16\n",
       "1988      15\n",
       "1985      14\n",
       "1984      14\n",
       "1980       9\n",
       "Name: name, dtype: int64"
      ]
     },
     "execution_count": 30,
     "metadata": {},
     "output_type": "execute_result"
    }
   ],
   "source": [
    "df.groupby('year_of_release')['name'].count().sort_values(ascending=False)"
   ]
  },
  {
   "cell_type": "code",
   "execution_count": 31,
   "metadata": {
    "scrolled": true
   },
   "outputs": [
    {
     "data": {
      "text/html": [
       "<div>\n",
       "<style scoped>\n",
       "    .dataframe tbody tr th:only-of-type {\n",
       "        vertical-align: middle;\n",
       "    }\n",
       "\n",
       "    .dataframe tbody tr th {\n",
       "        vertical-align: top;\n",
       "    }\n",
       "\n",
       "    .dataframe thead th {\n",
       "        text-align: right;\n",
       "    }\n",
       "</style>\n",
       "<table border=\"1\" class=\"dataframe\">\n",
       "  <thead>\n",
       "    <tr style=\"text-align: right;\">\n",
       "      <th></th>\n",
       "      <th>name</th>\n",
       "      <th>platform</th>\n",
       "      <th>year_of_release</th>\n",
       "      <th>genre</th>\n",
       "      <th>na_sales</th>\n",
       "      <th>eu_sales</th>\n",
       "      <th>jp_sales</th>\n",
       "      <th>other_sales</th>\n",
       "      <th>critic_score</th>\n",
       "      <th>user_score</th>\n",
       "      <th>rating</th>\n",
       "      <th>total_sales</th>\n",
       "    </tr>\n",
       "  </thead>\n",
       "  <tbody>\n",
       "    <tr>\n",
       "      <th>34</th>\n",
       "      <td>Call of Duty: Black Ops II</td>\n",
       "      <td>PS3</td>\n",
       "      <td>2012</td>\n",
       "      <td>Shooter</td>\n",
       "      <td>4.99</td>\n",
       "      <td>5.73</td>\n",
       "      <td>0.65</td>\n",
       "      <td>2.42</td>\n",
       "      <td>83.0</td>\n",
       "      <td>5.3</td>\n",
       "      <td>M</td>\n",
       "      <td>13.79</td>\n",
       "    </tr>\n",
       "    <tr>\n",
       "      <th>35</th>\n",
       "      <td>Call of Duty: Black Ops II</td>\n",
       "      <td>X360</td>\n",
       "      <td>2012</td>\n",
       "      <td>Shooter</td>\n",
       "      <td>8.25</td>\n",
       "      <td>4.24</td>\n",
       "      <td>0.07</td>\n",
       "      <td>1.12</td>\n",
       "      <td>83.0</td>\n",
       "      <td>4.8</td>\n",
       "      <td>M</td>\n",
       "      <td>13.68</td>\n",
       "    </tr>\n",
       "    <tr>\n",
       "      <th>62</th>\n",
       "      <td>New Super Mario Bros. 2</td>\n",
       "      <td>3DS</td>\n",
       "      <td>2012</td>\n",
       "      <td>Platform</td>\n",
       "      <td>3.66</td>\n",
       "      <td>3.14</td>\n",
       "      <td>2.47</td>\n",
       "      <td>0.63</td>\n",
       "      <td>78.0</td>\n",
       "      <td>7.2</td>\n",
       "      <td>E</td>\n",
       "      <td>9.90</td>\n",
       "    </tr>\n",
       "    <tr>\n",
       "      <th>66</th>\n",
       "      <td>Halo 4</td>\n",
       "      <td>X360</td>\n",
       "      <td>2012</td>\n",
       "      <td>Shooter</td>\n",
       "      <td>6.65</td>\n",
       "      <td>2.28</td>\n",
       "      <td>0.04</td>\n",
       "      <td>0.74</td>\n",
       "      <td>87.0</td>\n",
       "      <td>7.0</td>\n",
       "      <td>M</td>\n",
       "      <td>9.71</td>\n",
       "    </tr>\n",
       "    <tr>\n",
       "      <th>73</th>\n",
       "      <td>Animal Crossing: New Leaf</td>\n",
       "      <td>3DS</td>\n",
       "      <td>2012</td>\n",
       "      <td>Simulation</td>\n",
       "      <td>2.03</td>\n",
       "      <td>2.36</td>\n",
       "      <td>4.39</td>\n",
       "      <td>0.39</td>\n",
       "      <td>88.0</td>\n",
       "      <td>8.7</td>\n",
       "      <td>E</td>\n",
       "      <td>9.17</td>\n",
       "    </tr>\n",
       "    <tr>\n",
       "      <th>81</th>\n",
       "      <td>FIFA Soccer 13</td>\n",
       "      <td>PS3</td>\n",
       "      <td>2012</td>\n",
       "      <td>Action</td>\n",
       "      <td>1.06</td>\n",
       "      <td>5.01</td>\n",
       "      <td>0.13</td>\n",
       "      <td>1.97</td>\n",
       "      <td>88.0</td>\n",
       "      <td>6.6</td>\n",
       "      <td>E</td>\n",
       "      <td>8.17</td>\n",
       "    </tr>\n",
       "    <tr>\n",
       "      <th>83</th>\n",
       "      <td>Pokemon Black 2/Pokemon White 2</td>\n",
       "      <td>DS</td>\n",
       "      <td>2012</td>\n",
       "      <td>Role-Playing</td>\n",
       "      <td>2.79</td>\n",
       "      <td>1.72</td>\n",
       "      <td>3.14</td>\n",
       "      <td>0.41</td>\n",
       "      <td>NaN</td>\n",
       "      <td>NaN</td>\n",
       "      <td>Unknown</td>\n",
       "      <td>8.06</td>\n",
       "    </tr>\n",
       "    <tr>\n",
       "      <th>116</th>\n",
       "      <td>Just Dance 4</td>\n",
       "      <td>Wii</td>\n",
       "      <td>2012</td>\n",
       "      <td>Misc</td>\n",
       "      <td>4.05</td>\n",
       "      <td>2.16</td>\n",
       "      <td>0.00</td>\n",
       "      <td>0.55</td>\n",
       "      <td>74.0</td>\n",
       "      <td>7.3</td>\n",
       "      <td>E10+</td>\n",
       "      <td>6.76</td>\n",
       "    </tr>\n",
       "    <tr>\n",
       "      <th>127</th>\n",
       "      <td>Assassin's Creed III</td>\n",
       "      <td>PS3</td>\n",
       "      <td>2012</td>\n",
       "      <td>Action</td>\n",
       "      <td>2.64</td>\n",
       "      <td>2.52</td>\n",
       "      <td>0.16</td>\n",
       "      <td>1.12</td>\n",
       "      <td>85.0</td>\n",
       "      <td>6.9</td>\n",
       "      <td>M</td>\n",
       "      <td>6.44</td>\n",
       "    </tr>\n",
       "    <tr>\n",
       "      <th>176</th>\n",
       "      <td>Assassin's Creed III</td>\n",
       "      <td>X360</td>\n",
       "      <td>2012</td>\n",
       "      <td>Action</td>\n",
       "      <td>3.13</td>\n",
       "      <td>1.69</td>\n",
       "      <td>0.03</td>\n",
       "      <td>0.44</td>\n",
       "      <td>84.0</td>\n",
       "      <td>6.7</td>\n",
       "      <td>M</td>\n",
       "      <td>5.29</td>\n",
       "    </tr>\n",
       "    <tr>\n",
       "      <th>185</th>\n",
       "      <td>New Super Mario Bros. U</td>\n",
       "      <td>WiiU</td>\n",
       "      <td>2012</td>\n",
       "      <td>Platform</td>\n",
       "      <td>2.30</td>\n",
       "      <td>1.34</td>\n",
       "      <td>1.27</td>\n",
       "      <td>0.32</td>\n",
       "      <td>84.0</td>\n",
       "      <td>8.1</td>\n",
       "      <td>E</td>\n",
       "      <td>5.23</td>\n",
       "    </tr>\n",
       "    <tr>\n",
       "      <th>190</th>\n",
       "      <td>FIFA Soccer 13</td>\n",
       "      <td>X360</td>\n",
       "      <td>2012</td>\n",
       "      <td>Action</td>\n",
       "      <td>1.09</td>\n",
       "      <td>3.47</td>\n",
       "      <td>0.03</td>\n",
       "      <td>0.57</td>\n",
       "      <td>90.0</td>\n",
       "      <td>6.1</td>\n",
       "      <td>E</td>\n",
       "      <td>5.16</td>\n",
       "    </tr>\n",
       "    <tr>\n",
       "      <th>192</th>\n",
       "      <td>Diablo III</td>\n",
       "      <td>PC</td>\n",
       "      <td>2012</td>\n",
       "      <td>Role-Playing</td>\n",
       "      <td>2.44</td>\n",
       "      <td>2.16</td>\n",
       "      <td>0.00</td>\n",
       "      <td>0.54</td>\n",
       "      <td>88.0</td>\n",
       "      <td>4.0</td>\n",
       "      <td>M</td>\n",
       "      <td>5.14</td>\n",
       "    </tr>\n",
       "    <tr>\n",
       "      <th>248</th>\n",
       "      <td>Nintendo Land</td>\n",
       "      <td>WiiU</td>\n",
       "      <td>2012</td>\n",
       "      <td>Misc</td>\n",
       "      <td>2.52</td>\n",
       "      <td>1.11</td>\n",
       "      <td>0.46</td>\n",
       "      <td>0.33</td>\n",
       "      <td>77.0</td>\n",
       "      <td>7.9</td>\n",
       "      <td>E10+</td>\n",
       "      <td>4.42</td>\n",
       "    </tr>\n",
       "    <tr>\n",
       "      <th>401</th>\n",
       "      <td>Far Cry 3</td>\n",
       "      <td>PS3</td>\n",
       "      <td>2012</td>\n",
       "      <td>Shooter</td>\n",
       "      <td>0.88</td>\n",
       "      <td>1.70</td>\n",
       "      <td>0.10</td>\n",
       "      <td>0.67</td>\n",
       "      <td>90.0</td>\n",
       "      <td>8.5</td>\n",
       "      <td>M</td>\n",
       "      <td>3.35</td>\n",
       "    </tr>\n",
       "    <tr>\n",
       "      <th>439</th>\n",
       "      <td>Mario Party 9</td>\n",
       "      <td>Wii</td>\n",
       "      <td>2012</td>\n",
       "      <td>Misc</td>\n",
       "      <td>1.06</td>\n",
       "      <td>1.09</td>\n",
       "      <td>0.76</td>\n",
       "      <td>0.22</td>\n",
       "      <td>73.0</td>\n",
       "      <td>6.8</td>\n",
       "      <td>E</td>\n",
       "      <td>3.13</td>\n",
       "    </tr>\n",
       "    <tr>\n",
       "      <th>449</th>\n",
       "      <td>Resident Evil 6</td>\n",
       "      <td>PS3</td>\n",
       "      <td>2012</td>\n",
       "      <td>Shooter</td>\n",
       "      <td>0.88</td>\n",
       "      <td>0.94</td>\n",
       "      <td>0.88</td>\n",
       "      <td>0.40</td>\n",
       "      <td>74.0</td>\n",
       "      <td>5.4</td>\n",
       "      <td>M</td>\n",
       "      <td>3.10</td>\n",
       "    </tr>\n",
       "    <tr>\n",
       "      <th>459</th>\n",
       "      <td>Borderlands 2</td>\n",
       "      <td>X360</td>\n",
       "      <td>2012</td>\n",
       "      <td>Shooter</td>\n",
       "      <td>1.89</td>\n",
       "      <td>0.88</td>\n",
       "      <td>0.04</td>\n",
       "      <td>0.25</td>\n",
       "      <td>89.0</td>\n",
       "      <td>8.2</td>\n",
       "      <td>M</td>\n",
       "      <td>3.06</td>\n",
       "    </tr>\n",
       "    <tr>\n",
       "      <th>462</th>\n",
       "      <td>Mass Effect 3</td>\n",
       "      <td>X360</td>\n",
       "      <td>2012</td>\n",
       "      <td>Role-Playing</td>\n",
       "      <td>1.94</td>\n",
       "      <td>0.84</td>\n",
       "      <td>0.03</td>\n",
       "      <td>0.24</td>\n",
       "      <td>93.0</td>\n",
       "      <td>5.8</td>\n",
       "      <td>M</td>\n",
       "      <td>3.05</td>\n",
       "    </tr>\n",
       "    <tr>\n",
       "      <th>471</th>\n",
       "      <td>Far Cry 3</td>\n",
       "      <td>X360</td>\n",
       "      <td>2012</td>\n",
       "      <td>Shooter</td>\n",
       "      <td>1.38</td>\n",
       "      <td>1.32</td>\n",
       "      <td>0.02</td>\n",
       "      <td>0.28</td>\n",
       "      <td>91.0</td>\n",
       "      <td>8.6</td>\n",
       "      <td>M</td>\n",
       "      <td>3.00</td>\n",
       "    </tr>\n",
       "    <tr>\n",
       "      <th>473</th>\n",
       "      <td>NBA 2K13</td>\n",
       "      <td>X360</td>\n",
       "      <td>2012</td>\n",
       "      <td>Sports</td>\n",
       "      <td>2.60</td>\n",
       "      <td>0.20</td>\n",
       "      <td>0.01</td>\n",
       "      <td>0.19</td>\n",
       "      <td>88.0</td>\n",
       "      <td>7.2</td>\n",
       "      <td>E</td>\n",
       "      <td>3.00</td>\n",
       "    </tr>\n",
       "    <tr>\n",
       "      <th>507</th>\n",
       "      <td>Madden NFL 13</td>\n",
       "      <td>X360</td>\n",
       "      <td>2012</td>\n",
       "      <td>Sports</td>\n",
       "      <td>2.53</td>\n",
       "      <td>0.15</td>\n",
       "      <td>0.00</td>\n",
       "      <td>0.17</td>\n",
       "      <td>81.0</td>\n",
       "      <td>5.8</td>\n",
       "      <td>E</td>\n",
       "      <td>2.85</td>\n",
       "    </tr>\n",
       "    <tr>\n",
       "      <th>523</th>\n",
       "      <td>Need for Speed: Most Wanted</td>\n",
       "      <td>PS3</td>\n",
       "      <td>2012</td>\n",
       "      <td>Racing</td>\n",
       "      <td>0.71</td>\n",
       "      <td>1.46</td>\n",
       "      <td>0.06</td>\n",
       "      <td>0.58</td>\n",
       "      <td>NaN</td>\n",
       "      <td>NaN</td>\n",
       "      <td>Unknown</td>\n",
       "      <td>2.81</td>\n",
       "    </tr>\n",
       "    <tr>\n",
       "      <th>604</th>\n",
       "      <td>Madden NFL 13</td>\n",
       "      <td>PS3</td>\n",
       "      <td>2012</td>\n",
       "      <td>Sports</td>\n",
       "      <td>2.11</td>\n",
       "      <td>0.22</td>\n",
       "      <td>0.00</td>\n",
       "      <td>0.23</td>\n",
       "      <td>83.0</td>\n",
       "      <td>5.5</td>\n",
       "      <td>E</td>\n",
       "      <td>2.56</td>\n",
       "    </tr>\n",
       "    <tr>\n",
       "      <th>614</th>\n",
       "      <td>Skylanders Giants</td>\n",
       "      <td>Wii</td>\n",
       "      <td>2012</td>\n",
       "      <td>Action</td>\n",
       "      <td>1.48</td>\n",
       "      <td>0.83</td>\n",
       "      <td>0.00</td>\n",
       "      <td>0.21</td>\n",
       "      <td>78.0</td>\n",
       "      <td>7.0</td>\n",
       "      <td>E10+</td>\n",
       "      <td>2.52</td>\n",
       "    </tr>\n",
       "    <tr>\n",
       "      <th>628</th>\n",
       "      <td>NBA 2K13</td>\n",
       "      <td>PS3</td>\n",
       "      <td>2012</td>\n",
       "      <td>Sports</td>\n",
       "      <td>1.73</td>\n",
       "      <td>0.43</td>\n",
       "      <td>0.05</td>\n",
       "      <td>0.27</td>\n",
       "      <td>90.0</td>\n",
       "      <td>8.0</td>\n",
       "      <td>E</td>\n",
       "      <td>2.48</td>\n",
       "    </tr>\n",
       "    <tr>\n",
       "      <th>688</th>\n",
       "      <td>Guild Wars 2</td>\n",
       "      <td>PC</td>\n",
       "      <td>2012</td>\n",
       "      <td>Action</td>\n",
       "      <td>0.96</td>\n",
       "      <td>1.07</td>\n",
       "      <td>0.00</td>\n",
       "      <td>0.27</td>\n",
       "      <td>90.0</td>\n",
       "      <td>7.9</td>\n",
       "      <td>T</td>\n",
       "      <td>2.30</td>\n",
       "    </tr>\n",
       "    <tr>\n",
       "      <th>690</th>\n",
       "      <td>Paper Mario: Sticker Star</td>\n",
       "      <td>3DS</td>\n",
       "      <td>2012</td>\n",
       "      <td>Role-Playing</td>\n",
       "      <td>1.12</td>\n",
       "      <td>0.41</td>\n",
       "      <td>0.64</td>\n",
       "      <td>0.14</td>\n",
       "      <td>75.0</td>\n",
       "      <td>5.6</td>\n",
       "      <td>E</td>\n",
       "      <td>2.31</td>\n",
       "    </tr>\n",
       "    <tr>\n",
       "      <th>727</th>\n",
       "      <td>Borderlands 2</td>\n",
       "      <td>PS3</td>\n",
       "      <td>2012</td>\n",
       "      <td>Shooter</td>\n",
       "      <td>1.05</td>\n",
       "      <td>0.72</td>\n",
       "      <td>0.10</td>\n",
       "      <td>0.35</td>\n",
       "      <td>91.0</td>\n",
       "      <td>8.2</td>\n",
       "      <td>M</td>\n",
       "      <td>2.22</td>\n",
       "    </tr>\n",
       "    <tr>\n",
       "      <th>768</th>\n",
       "      <td>Hitman: Absolution</td>\n",
       "      <td>PS3</td>\n",
       "      <td>2012</td>\n",
       "      <td>Action</td>\n",
       "      <td>0.59</td>\n",
       "      <td>1.05</td>\n",
       "      <td>0.07</td>\n",
       "      <td>0.44</td>\n",
       "      <td>83.0</td>\n",
       "      <td>7.5</td>\n",
       "      <td>M</td>\n",
       "      <td>2.15</td>\n",
       "    </tr>\n",
       "    <tr>\n",
       "      <th>848</th>\n",
       "      <td>Fire Emblem: Awakening</td>\n",
       "      <td>3DS</td>\n",
       "      <td>2012</td>\n",
       "      <td>Role-Playing</td>\n",
       "      <td>0.90</td>\n",
       "      <td>0.45</td>\n",
       "      <td>0.54</td>\n",
       "      <td>0.13</td>\n",
       "      <td>92.0</td>\n",
       "      <td>9.1</td>\n",
       "      <td>T</td>\n",
       "      <td>2.02</td>\n",
       "    </tr>\n",
       "    <tr>\n",
       "      <th>871</th>\n",
       "      <td>Forza Horizon</td>\n",
       "      <td>X360</td>\n",
       "      <td>2012</td>\n",
       "      <td>Racing</td>\n",
       "      <td>0.82</td>\n",
       "      <td>0.93</td>\n",
       "      <td>0.04</td>\n",
       "      <td>0.18</td>\n",
       "      <td>85.0</td>\n",
       "      <td>8.4</td>\n",
       "      <td>T</td>\n",
       "      <td>1.97</td>\n",
       "    </tr>\n",
       "    <tr>\n",
       "      <th>874</th>\n",
       "      <td>Resident Evil 6</td>\n",
       "      <td>X360</td>\n",
       "      <td>2012</td>\n",
       "      <td>Shooter</td>\n",
       "      <td>1.12</td>\n",
       "      <td>0.60</td>\n",
       "      <td>0.07</td>\n",
       "      <td>0.16</td>\n",
       "      <td>67.0</td>\n",
       "      <td>5.0</td>\n",
       "      <td>M</td>\n",
       "      <td>1.95</td>\n",
       "    </tr>\n",
       "    <tr>\n",
       "      <th>943</th>\n",
       "      <td>Max Payne 3</td>\n",
       "      <td>PS3</td>\n",
       "      <td>2012</td>\n",
       "      <td>Shooter</td>\n",
       "      <td>0.59</td>\n",
       "      <td>0.89</td>\n",
       "      <td>0.06</td>\n",
       "      <td>0.30</td>\n",
       "      <td>87.0</td>\n",
       "      <td>7.8</td>\n",
       "      <td>M</td>\n",
       "      <td>1.84</td>\n",
       "    </tr>\n",
       "    <tr>\n",
       "      <th>959</th>\n",
       "      <td>World of Warcraft: Mists of Pandaria</td>\n",
       "      <td>PC</td>\n",
       "      <td>2012</td>\n",
       "      <td>Role-Playing</td>\n",
       "      <td>0.84</td>\n",
       "      <td>0.76</td>\n",
       "      <td>0.00</td>\n",
       "      <td>0.22</td>\n",
       "      <td>82.0</td>\n",
       "      <td>4.8</td>\n",
       "      <td>T</td>\n",
       "      <td>1.82</td>\n",
       "    </tr>\n",
       "    <tr>\n",
       "      <th>1022</th>\n",
       "      <td>Kinect Star Wars</td>\n",
       "      <td>X360</td>\n",
       "      <td>2012</td>\n",
       "      <td>Action</td>\n",
       "      <td>1.05</td>\n",
       "      <td>0.52</td>\n",
       "      <td>0.03</td>\n",
       "      <td>0.14</td>\n",
       "      <td>55.0</td>\n",
       "      <td>3.5</td>\n",
       "      <td>T</td>\n",
       "      <td>1.74</td>\n",
       "    </tr>\n",
       "    <tr>\n",
       "      <th>1023</th>\n",
       "      <td>Dragon's Dogma</td>\n",
       "      <td>PS3</td>\n",
       "      <td>2012</td>\n",
       "      <td>Role-Playing</td>\n",
       "      <td>0.41</td>\n",
       "      <td>0.44</td>\n",
       "      <td>0.72</td>\n",
       "      <td>0.17</td>\n",
       "      <td>78.0</td>\n",
       "      <td>8.3</td>\n",
       "      <td>M</td>\n",
       "      <td>1.74</td>\n",
       "    </tr>\n",
       "    <tr>\n",
       "      <th>1033</th>\n",
       "      <td>Hitman: Absolution</td>\n",
       "      <td>X360</td>\n",
       "      <td>2012</td>\n",
       "      <td>Action</td>\n",
       "      <td>0.68</td>\n",
       "      <td>0.88</td>\n",
       "      <td>0.01</td>\n",
       "      <td>0.17</td>\n",
       "      <td>79.0</td>\n",
       "      <td>7.1</td>\n",
       "      <td>M</td>\n",
       "      <td>1.74</td>\n",
       "    </tr>\n",
       "    <tr>\n",
       "      <th>1041</th>\n",
       "      <td>Dishonored</td>\n",
       "      <td>X360</td>\n",
       "      <td>2012</td>\n",
       "      <td>Action</td>\n",
       "      <td>1.06</td>\n",
       "      <td>0.50</td>\n",
       "      <td>0.01</td>\n",
       "      <td>0.14</td>\n",
       "      <td>88.0</td>\n",
       "      <td>7.9</td>\n",
       "      <td>M</td>\n",
       "      <td>1.71</td>\n",
       "    </tr>\n",
       "    <tr>\n",
       "      <th>1105</th>\n",
       "      <td>LEGO Batman 2: DC Super Heroes</td>\n",
       "      <td>X360</td>\n",
       "      <td>2012</td>\n",
       "      <td>Action</td>\n",
       "      <td>0.90</td>\n",
       "      <td>0.61</td>\n",
       "      <td>0.00</td>\n",
       "      <td>0.15</td>\n",
       "      <td>79.0</td>\n",
       "      <td>7.2</td>\n",
       "      <td>E10+</td>\n",
       "      <td>1.66</td>\n",
       "    </tr>\n",
       "    <tr>\n",
       "      <th>1134</th>\n",
       "      <td>Max Payne 3</td>\n",
       "      <td>X360</td>\n",
       "      <td>2012</td>\n",
       "      <td>Shooter</td>\n",
       "      <td>0.86</td>\n",
       "      <td>0.62</td>\n",
       "      <td>0.01</td>\n",
       "      <td>0.13</td>\n",
       "      <td>86.0</td>\n",
       "      <td>7.8</td>\n",
       "      <td>M</td>\n",
       "      <td>1.62</td>\n",
       "    </tr>\n",
       "    <tr>\n",
       "      <th>1168</th>\n",
       "      <td>Kingdom Hearts 3D: Dream Drop Distance</td>\n",
       "      <td>3DS</td>\n",
       "      <td>2012</td>\n",
       "      <td>Action</td>\n",
       "      <td>0.88</td>\n",
       "      <td>0.26</td>\n",
       "      <td>0.34</td>\n",
       "      <td>0.10</td>\n",
       "      <td>75.0</td>\n",
       "      <td>8.2</td>\n",
       "      <td>E10+</td>\n",
       "      <td>1.58</td>\n",
       "    </tr>\n",
       "    <tr>\n",
       "      <th>1190</th>\n",
       "      <td>Need for Speed: Most Wanted</td>\n",
       "      <td>X360</td>\n",
       "      <td>2012</td>\n",
       "      <td>Racing</td>\n",
       "      <td>0.62</td>\n",
       "      <td>0.78</td>\n",
       "      <td>0.01</td>\n",
       "      <td>0.15</td>\n",
       "      <td>83.0</td>\n",
       "      <td>8.5</td>\n",
       "      <td>T</td>\n",
       "      <td>1.56</td>\n",
       "    </tr>\n",
       "    <tr>\n",
       "      <th>1221</th>\n",
       "      <td>Pro Evolution Soccer 2013</td>\n",
       "      <td>PS3</td>\n",
       "      <td>2012</td>\n",
       "      <td>Sports</td>\n",
       "      <td>0.18</td>\n",
       "      <td>0.63</td>\n",
       "      <td>0.49</td>\n",
       "      <td>0.24</td>\n",
       "      <td>82.0</td>\n",
       "      <td>6.7</td>\n",
       "      <td>E</td>\n",
       "      <td>1.54</td>\n",
       "    </tr>\n",
       "    <tr>\n",
       "      <th>1224</th>\n",
       "      <td>Dishonored</td>\n",
       "      <td>PS3</td>\n",
       "      <td>2012</td>\n",
       "      <td>Action</td>\n",
       "      <td>0.72</td>\n",
       "      <td>0.52</td>\n",
       "      <td>0.04</td>\n",
       "      <td>0.25</td>\n",
       "      <td>89.0</td>\n",
       "      <td>7.9</td>\n",
       "      <td>M</td>\n",
       "      <td>1.53</td>\n",
       "    </tr>\n",
       "    <tr>\n",
       "      <th>1227</th>\n",
       "      <td>Call of Duty: Black Ops II</td>\n",
       "      <td>PC</td>\n",
       "      <td>2012</td>\n",
       "      <td>Shooter</td>\n",
       "      <td>0.64</td>\n",
       "      <td>0.69</td>\n",
       "      <td>0.00</td>\n",
       "      <td>0.19</td>\n",
       "      <td>74.0</td>\n",
       "      <td>4.2</td>\n",
       "      <td>M</td>\n",
       "      <td>1.52</td>\n",
       "    </tr>\n",
       "    <tr>\n",
       "      <th>1294</th>\n",
       "      <td>Call of Duty Black Ops: Declassified</td>\n",
       "      <td>PSV</td>\n",
       "      <td>2012</td>\n",
       "      <td>Action</td>\n",
       "      <td>0.71</td>\n",
       "      <td>0.43</td>\n",
       "      <td>0.07</td>\n",
       "      <td>0.26</td>\n",
       "      <td>33.0</td>\n",
       "      <td>4.8</td>\n",
       "      <td>M</td>\n",
       "      <td>1.47</td>\n",
       "    </tr>\n",
       "    <tr>\n",
       "      <th>1295</th>\n",
       "      <td>Tom Clancy's Ghost Recon: Future Soldier</td>\n",
       "      <td>X360</td>\n",
       "      <td>2012</td>\n",
       "      <td>Shooter</td>\n",
       "      <td>0.93</td>\n",
       "      <td>0.40</td>\n",
       "      <td>0.02</td>\n",
       "      <td>0.12</td>\n",
       "      <td>79.0</td>\n",
       "      <td>7.2</td>\n",
       "      <td>M</td>\n",
       "      <td>1.47</td>\n",
       "    </tr>\n",
       "    <tr>\n",
       "      <th>1348</th>\n",
       "      <td>Mass Effect 3</td>\n",
       "      <td>PS3</td>\n",
       "      <td>2012</td>\n",
       "      <td>Role-Playing</td>\n",
       "      <td>0.63</td>\n",
       "      <td>0.56</td>\n",
       "      <td>0.03</td>\n",
       "      <td>0.20</td>\n",
       "      <td>93.0</td>\n",
       "      <td>5.5</td>\n",
       "      <td>M</td>\n",
       "      <td>1.42</td>\n",
       "    </tr>\n",
       "    <tr>\n",
       "      <th>1364</th>\n",
       "      <td>Medal of Honor: Warfighter</td>\n",
       "      <td>PS3</td>\n",
       "      <td>2012</td>\n",
       "      <td>Action</td>\n",
       "      <td>0.48</td>\n",
       "      <td>0.62</td>\n",
       "      <td>0.06</td>\n",
       "      <td>0.26</td>\n",
       "      <td>55.0</td>\n",
       "      <td>6.0</td>\n",
       "      <td>M</td>\n",
       "      <td>1.42</td>\n",
       "    </tr>\n",
       "  </tbody>\n",
       "</table>\n",
       "</div>"
      ],
      "text/plain": [
       "                                          name platform  year_of_release  \\\n",
       "34                  Call of Duty: Black Ops II      PS3             2012   \n",
       "35                  Call of Duty: Black Ops II     X360             2012   \n",
       "62                     New Super Mario Bros. 2      3DS             2012   \n",
       "66                                      Halo 4     X360             2012   \n",
       "73                   Animal Crossing: New Leaf      3DS             2012   \n",
       "81                              FIFA Soccer 13      PS3             2012   \n",
       "83             Pokemon Black 2/Pokemon White 2       DS             2012   \n",
       "116                               Just Dance 4      Wii             2012   \n",
       "127                       Assassin's Creed III      PS3             2012   \n",
       "176                       Assassin's Creed III     X360             2012   \n",
       "185                    New Super Mario Bros. U     WiiU             2012   \n",
       "190                             FIFA Soccer 13     X360             2012   \n",
       "192                                 Diablo III       PC             2012   \n",
       "248                              Nintendo Land     WiiU             2012   \n",
       "401                                  Far Cry 3      PS3             2012   \n",
       "439                              Mario Party 9      Wii             2012   \n",
       "449                            Resident Evil 6      PS3             2012   \n",
       "459                              Borderlands 2     X360             2012   \n",
       "462                              Mass Effect 3     X360             2012   \n",
       "471                                  Far Cry 3     X360             2012   \n",
       "473                                   NBA 2K13     X360             2012   \n",
       "507                              Madden NFL 13     X360             2012   \n",
       "523                Need for Speed: Most Wanted      PS3             2012   \n",
       "604                              Madden NFL 13      PS3             2012   \n",
       "614                          Skylanders Giants      Wii             2012   \n",
       "628                                   NBA 2K13      PS3             2012   \n",
       "688                               Guild Wars 2       PC             2012   \n",
       "690                  Paper Mario: Sticker Star      3DS             2012   \n",
       "727                              Borderlands 2      PS3             2012   \n",
       "768                         Hitman: Absolution      PS3             2012   \n",
       "848                     Fire Emblem: Awakening      3DS             2012   \n",
       "871                              Forza Horizon     X360             2012   \n",
       "874                            Resident Evil 6     X360             2012   \n",
       "943                                Max Payne 3      PS3             2012   \n",
       "959       World of Warcraft: Mists of Pandaria       PC             2012   \n",
       "1022                          Kinect Star Wars     X360             2012   \n",
       "1023                            Dragon's Dogma      PS3             2012   \n",
       "1033                        Hitman: Absolution     X360             2012   \n",
       "1041                                Dishonored     X360             2012   \n",
       "1105            LEGO Batman 2: DC Super Heroes     X360             2012   \n",
       "1134                               Max Payne 3     X360             2012   \n",
       "1168    Kingdom Hearts 3D: Dream Drop Distance      3DS             2012   \n",
       "1190               Need for Speed: Most Wanted     X360             2012   \n",
       "1221                 Pro Evolution Soccer 2013      PS3             2012   \n",
       "1224                                Dishonored      PS3             2012   \n",
       "1227                Call of Duty: Black Ops II       PC             2012   \n",
       "1294      Call of Duty Black Ops: Declassified      PSV             2012   \n",
       "1295  Tom Clancy's Ghost Recon: Future Soldier     X360             2012   \n",
       "1348                             Mass Effect 3      PS3             2012   \n",
       "1364                Medal of Honor: Warfighter      PS3             2012   \n",
       "\n",
       "             genre  na_sales  eu_sales  jp_sales  other_sales  critic_score  \\\n",
       "34         Shooter      4.99      5.73      0.65         2.42          83.0   \n",
       "35         Shooter      8.25      4.24      0.07         1.12          83.0   \n",
       "62        Platform      3.66      3.14      2.47         0.63          78.0   \n",
       "66         Shooter      6.65      2.28      0.04         0.74          87.0   \n",
       "73      Simulation      2.03      2.36      4.39         0.39          88.0   \n",
       "81          Action      1.06      5.01      0.13         1.97          88.0   \n",
       "83    Role-Playing      2.79      1.72      3.14         0.41           NaN   \n",
       "116           Misc      4.05      2.16      0.00         0.55          74.0   \n",
       "127         Action      2.64      2.52      0.16         1.12          85.0   \n",
       "176         Action      3.13      1.69      0.03         0.44          84.0   \n",
       "185       Platform      2.30      1.34      1.27         0.32          84.0   \n",
       "190         Action      1.09      3.47      0.03         0.57          90.0   \n",
       "192   Role-Playing      2.44      2.16      0.00         0.54          88.0   \n",
       "248           Misc      2.52      1.11      0.46         0.33          77.0   \n",
       "401        Shooter      0.88      1.70      0.10         0.67          90.0   \n",
       "439           Misc      1.06      1.09      0.76         0.22          73.0   \n",
       "449        Shooter      0.88      0.94      0.88         0.40          74.0   \n",
       "459        Shooter      1.89      0.88      0.04         0.25          89.0   \n",
       "462   Role-Playing      1.94      0.84      0.03         0.24          93.0   \n",
       "471        Shooter      1.38      1.32      0.02         0.28          91.0   \n",
       "473         Sports      2.60      0.20      0.01         0.19          88.0   \n",
       "507         Sports      2.53      0.15      0.00         0.17          81.0   \n",
       "523         Racing      0.71      1.46      0.06         0.58           NaN   \n",
       "604         Sports      2.11      0.22      0.00         0.23          83.0   \n",
       "614         Action      1.48      0.83      0.00         0.21          78.0   \n",
       "628         Sports      1.73      0.43      0.05         0.27          90.0   \n",
       "688         Action      0.96      1.07      0.00         0.27          90.0   \n",
       "690   Role-Playing      1.12      0.41      0.64         0.14          75.0   \n",
       "727        Shooter      1.05      0.72      0.10         0.35          91.0   \n",
       "768         Action      0.59      1.05      0.07         0.44          83.0   \n",
       "848   Role-Playing      0.90      0.45      0.54         0.13          92.0   \n",
       "871         Racing      0.82      0.93      0.04         0.18          85.0   \n",
       "874        Shooter      1.12      0.60      0.07         0.16          67.0   \n",
       "943        Shooter      0.59      0.89      0.06         0.30          87.0   \n",
       "959   Role-Playing      0.84      0.76      0.00         0.22          82.0   \n",
       "1022        Action      1.05      0.52      0.03         0.14          55.0   \n",
       "1023  Role-Playing      0.41      0.44      0.72         0.17          78.0   \n",
       "1033        Action      0.68      0.88      0.01         0.17          79.0   \n",
       "1041        Action      1.06      0.50      0.01         0.14          88.0   \n",
       "1105        Action      0.90      0.61      0.00         0.15          79.0   \n",
       "1134       Shooter      0.86      0.62      0.01         0.13          86.0   \n",
       "1168        Action      0.88      0.26      0.34         0.10          75.0   \n",
       "1190        Racing      0.62      0.78      0.01         0.15          83.0   \n",
       "1221        Sports      0.18      0.63      0.49         0.24          82.0   \n",
       "1224        Action      0.72      0.52      0.04         0.25          89.0   \n",
       "1227       Shooter      0.64      0.69      0.00         0.19          74.0   \n",
       "1294        Action      0.71      0.43      0.07         0.26          33.0   \n",
       "1295       Shooter      0.93      0.40      0.02         0.12          79.0   \n",
       "1348  Role-Playing      0.63      0.56      0.03         0.20          93.0   \n",
       "1364        Action      0.48      0.62      0.06         0.26          55.0   \n",
       "\n",
       "      user_score   rating  total_sales  \n",
       "34           5.3        M        13.79  \n",
       "35           4.8        M        13.68  \n",
       "62           7.2        E         9.90  \n",
       "66           7.0        M         9.71  \n",
       "73           8.7        E         9.17  \n",
       "81           6.6        E         8.17  \n",
       "83           NaN  Unknown         8.06  \n",
       "116          7.3     E10+         6.76  \n",
       "127          6.9        M         6.44  \n",
       "176          6.7        M         5.29  \n",
       "185          8.1        E         5.23  \n",
       "190          6.1        E         5.16  \n",
       "192          4.0        M         5.14  \n",
       "248          7.9     E10+         4.42  \n",
       "401          8.5        M         3.35  \n",
       "439          6.8        E         3.13  \n",
       "449          5.4        M         3.10  \n",
       "459          8.2        M         3.06  \n",
       "462          5.8        M         3.05  \n",
       "471          8.6        M         3.00  \n",
       "473          7.2        E         3.00  \n",
       "507          5.8        E         2.85  \n",
       "523          NaN  Unknown         2.81  \n",
       "604          5.5        E         2.56  \n",
       "614          7.0     E10+         2.52  \n",
       "628          8.0        E         2.48  \n",
       "688          7.9        T         2.30  \n",
       "690          5.6        E         2.31  \n",
       "727          8.2        M         2.22  \n",
       "768          7.5        M         2.15  \n",
       "848          9.1        T         2.02  \n",
       "871          8.4        T         1.97  \n",
       "874          5.0        M         1.95  \n",
       "943          7.8        M         1.84  \n",
       "959          4.8        T         1.82  \n",
       "1022         3.5        T         1.74  \n",
       "1023         8.3        M         1.74  \n",
       "1033         7.1        M         1.74  \n",
       "1041         7.9        M         1.71  \n",
       "1105         7.2     E10+         1.66  \n",
       "1134         7.8        M         1.62  \n",
       "1168         8.2     E10+         1.58  \n",
       "1190         8.5        T         1.56  \n",
       "1221         6.7        E         1.54  \n",
       "1224         7.9        M         1.53  \n",
       "1227         4.2        M         1.52  \n",
       "1294         4.8        M         1.47  \n",
       "1295         7.2        M         1.47  \n",
       "1348         5.5        M         1.42  \n",
       "1364         6.0        M         1.42  "
      ]
     },
     "execution_count": 31,
     "metadata": {},
     "output_type": "execute_result"
    }
   ],
   "source": [
    "df[df['year_of_release'] == 2012.0].head(50) "
   ]
  },
  {
   "cell_type": "code",
   "execution_count": 32,
   "metadata": {
    "scrolled": true
   },
   "outputs": [
    {
     "data": {
      "image/png": "[encoded data removed]",
      "text/plain": [
       "<Figure size 720x288 with 1 Axes>"
      ]
     },
     "metadata": {
      "needs_background": "light"
     },
     "output_type": "display_data"
    }
   ],
   "source": [
    "df.pivot_table(index='year_of_release', values='platform', aggfunc=['count']).plot(figsize=(10,4), kind='bar')\n",
    "plt.title('Количество игр в разные года')\n",
    "plt.legend(['Количество игр'])\n",
    "plt.show()"
   ]
  },
  {
   "cell_type": "markdown",
   "metadata": {},
   "source": [
    "**Статистика продаж игр начинается с 1980 года Atari 2600, появилась к Рождеству 1977 года и стала доминирующей игровой приставкой конца 1970-х — начала 1980-х. В течение 10 лет выпуск новых игр не большой 20-30 в год. Пик приходится на 1981 год.  В 90-х годах появляется Game Boy — 8-битная портативная игровая система, разработанная и произведённая компанией Nintendo. Super Nintendo Entertainment System — 16-разрядная игровая приставка, выпущенная компанией Nintendo в США, Бразилии, Европе и Австралии. PlayStation — игровая приставка пятого поколения, разработанная компанией Sony Computer Entertainment и до 2002 года. Выпуск новых игр растет за период с 1990-2000года в среднем выпускается 170 игр в год. Пик приходится на 1998 год. С 2000-2010 год выпускается самое большое количество новых игр. С 2008-2009 выпускается по 1400 новых игр в год. В 2012 году производство игр резко сократилось. И к 2016 откатилось до 500 игр в год.** "
   ]
  },
  {
   "cell_type": "markdown",
   "metadata": {},
   "source": [
    "*Посмотрим, как менялись продажи по платформам. Найдем платформы с наибольшими суммарными продажами и построим распределение по годам.*"
   ]
  },
  {
   "cell_type": "code",
   "execution_count": 33,
   "metadata": {
    "scrolled": true
   },
   "outputs": [
    {
     "data": {
      "text/plain": [
       "platform  name                                     \n",
       "X360      Need for Speed: Most Wanted                  2\n",
       "PS3       Madden NFL 13                                2\n",
       "PC        Need for Speed: Most Wanted                  2\n",
       "PSP       Field Commander                              1\n",
       "          Final Fantasy IV: The Complete Collection    1\n",
       "                                                      ..\n",
       "PC        The Sims                                     1\n",
       "          The Sims 2                                   1\n",
       "          The Sims 2: Apartment Life                   1\n",
       "          The Sims 2: Bon Voyage                       1\n",
       "XOne      Zumba Fitness: World Party                   1\n",
       "Name: year_of_release, Length: 16441, dtype: int64"
      ]
     },
     "execution_count": 33,
     "metadata": {},
     "output_type": "execute_result"
    }
   ],
   "source": [
    "df.groupby(['platform','name'])['year_of_release'].count().sort_values(ascending=False)"
   ]
  },
  {
   "cell_type": "code",
   "execution_count": 34,
   "metadata": {
    "scrolled": true
   },
   "outputs": [
    {
     "data": {
      "image/png": "[encoded data removed]",
      "text/plain": [
       "<Figure size 1080x360 with 1 Axes>"
      ]
     },
     "metadata": {
      "needs_background": "light"
     },
     "output_type": "display_data"
    }
   ],
   "source": [
    "df.pivot_table(index='platform', columns='year_of_release', values='total_sales', aggfunc=['sum']).plot(figsize=(15,5), kind='bar')\n",
    "plt.title('Сумарные продажи по каждой платформе')\n",
    "plt.legend(['миллионы проданных копий'])\n",
    "plt.show()"
   ]
  },
  {
   "cell_type": "markdown",
   "metadata": {},
   "source": [
    "**По продажам лидируют 6 платформ, рассмотрим их продажи по годам.**  "
   ]
  },
  {
   "cell_type": "code",
   "execution_count": 35,
   "metadata": {
    "scrolled": true
   },
   "outputs": [
    {
     "data": {
      "image/png": "[encoded data removed]",
      "text/plain": [
       "<Figure size 432x288 with 1 Axes>"
      ]
     },
     "metadata": {
      "needs_background": "light"
     },
     "output_type": "display_data"
    }
   ],
   "source": [
    "df[df['platform'] == 'PS2'].pivot_table(index='year_of_release', values='total_sales', aggfunc=['sum']).plot(kind='bar')\n",
    "plt.title('Platform PS2')\n",
    "plt.legend(['Продажи'])\n",
    "plt.show()"
   ]
  },
  {
   "cell_type": "markdown",
   "metadata": {},
   "source": [
    "**PlayStation 2 (PS2) - это домашняя игровая приставка, разработанная и продаваемая компанией Sony Computer Entertainment. Впервые он был выпущен в Японии 4 марта 2000 года.**\n",
    "*Это самая крупная платформа по продажам игр. С 2000 года начались первые продажи и за 2-3 года, достигло топоых значений, за которыми последовал плавный спад, через 10 лет своего существования платформа исчезла.*"
   ]
  },
  {
   "cell_type": "code",
   "execution_count": 36,
   "metadata": {},
   "outputs": [
    {
     "data": {
      "image/png": "[encoded data removed]",
      "text/plain": [
       "<Figure size 432x288 with 1 Axes>"
      ]
     },
     "metadata": {
      "needs_background": "light"
     },
     "output_type": "display_data"
    }
   ],
   "source": [
    "df[df['platform'] == 'X360'].pivot_table(index='year_of_release', values='total_sales', aggfunc=['sum']).plot(kind='bar')\n",
    "plt.title('Platform X360')\n",
    "plt.legend(['Продажи'])\n",
    "plt.show()"
   ]
  },
  {
   "cell_type": "markdown",
   "metadata": {},
   "source": [
    "**Xbox 360 — вторая по счёту игровая приставка компании Microsoft, которая последовала за Xbox. Конкурентами Xbox 360 среди игровых платформ седьмого поколения. Продажи начинаются с 2005 года.**\n",
    "*За 4-5 лет достигают пика продаж, за которым следует плавный спад. Так же через 10 лет платформа исчезла.* "
   ]
  },
  {
   "cell_type": "code",
   "execution_count": 37,
   "metadata": {
    "scrolled": true
   },
   "outputs": [
    {
     "data": {
      "image/png": "[encoded data removed]",
      "text/plain": [
       "<Figure size 432x288 with 1 Axes>"
      ]
     },
     "metadata": {
      "needs_background": "light"
     },
     "output_type": "display_data"
    }
   ],
   "source": [
    "df[df['platform'] == 'PS3'].pivot_table(index='year_of_release', values='total_sales', aggfunc=['sum']).plot(kind='bar')\n",
    "plt.title('Platform PS3')\n",
    "plt.legend(['Продажи'])\n",
    "plt.show()"
   ]
  },
  {
   "cell_type": "markdown",
   "metadata": {},
   "source": [
    "**PlayStation 3 (PS3) - это домашняя игровая консоль, разработанная компанией Sony Computer Entertainment. Он является преемником PlayStation 2и является частью бренда консолей PlayStation. Впервые он был выпущен 11 ноября 2006 года в Японии,17 ноября 2006 года в Северной Америке и 23 марта 2007 года в Европе и Австралии. PlayStation 3 конкурировала в основном с Microsoft Xbox 360 и Nintendo Wii в рамках седьмого поколения игровых консолей.**\n",
    "*За 4-5 лет достигают пика продаж, за которым следует плавный спад. Так же через 10 лет платформа исчезла.* "
   ]
  },
  {
   "cell_type": "code",
   "execution_count": 38,
   "metadata": {
    "scrolled": true
   },
   "outputs": [
    {
     "data": {
      "image/png": "[encoded data removed]",
      "text/plain": [
       "<Figure size 432x288 with 1 Axes>"
      ]
     },
     "metadata": {
      "needs_background": "light"
     },
     "output_type": "display_data"
    }
   ],
   "source": [
    "df[df['platform'] == 'Wii'].pivot_table(index='year_of_release', values='total_sales', aggfunc=['sum']).plot(kind='bar')\n",
    "plt.title('Platform Wii')\n",
    "plt.legend(['Продажи'])\n",
    "plt.show()"
   ]
  },
  {
   "cell_type": "markdown",
   "metadata": {},
   "source": [
    "**Wii (/wiː/ WEE) - это домашняя игровая консоль, разработанная и продаваемая Nintendo. Впервые он был выпущен 19 ноября 2006 года в Северной Америке и в декабре 2006 года для большинства других регионов.**\n",
    "*За 4-5 лет достигают пика продаж, за которым следует плавный спад. Так же через 10 лет платформа исчезла.*"
   ]
  },
  {
   "cell_type": "code",
   "execution_count": 39,
   "metadata": {},
   "outputs": [
    {
     "data": {
      "image/png": "[encoded data removed]",
      "text/plain": [
       "<Figure size 432x288 with 1 Axes>"
      ]
     },
     "metadata": {
      "needs_background": "light"
     },
     "output_type": "display_data"
    }
   ],
   "source": [
    "df[df['platform'] == 'DS'].pivot_table(index='year_of_release', values='total_sales', aggfunc=['sum']).plot(kind='bar')\n",
    "plt.title('Platform DS')\n",
    "plt.legend(['Продажи'])\n",
    "plt.show()"
   ]
  },
  {
   "cell_type": "markdown",
   "metadata": {},
   "source": [
    "**Nintendo DS — следующее поколение карманных игровых консолей компании Nintendo после Game Boy Advance SP. Консоль была выпущена в 2004 году в Канаде, США и Японии.**\n",
    "*За 4-5 лет достигают пика продаж, за которым следует плавный спад. Так же через 10 лет платформа исчезла.*"
   ]
  },
  {
   "cell_type": "code",
   "execution_count": 40,
   "metadata": {},
   "outputs": [
    {
     "data": {
      "image/png": "[encoded data removed]",
      "text/plain": [
       "<Figure size 432x288 with 1 Axes>"
      ]
     },
     "metadata": {
      "needs_background": "light"
     },
     "output_type": "display_data"
    }
   ],
   "source": [
    "df[df['platform'] == 'PS'].pivot_table(index='year_of_release', values='total_sales', aggfunc=['sum']).plot(kind='bar')\n",
    "plt.title('Platform PS')\n",
    "plt.legend(['Продажи'])\n",
    "plt.show()"
   ]
  },
  {
   "cell_type": "markdown",
   "metadata": {},
   "source": [
    "**PlayStation — игровая приставка пятого поколения, разработанная компанией Sony Computer Entertainment под руководством Кэна Кутараги.** \n",
    "*За 3-4 лет достигают пика продаж, за которым следует плавный спад. Так же через 10 лет платформа*"
   ]
  },
  {
   "cell_type": "markdown",
   "metadata": {},
   "source": [
    "# Вывод: "
   ]
  },
  {
   "cell_type": "markdown",
   "metadata": {},
   "source": [
    "**Новые платформы появляются с периодичностью раз в год иногда два. За 3-4 года платформа достигает роста продаж, за которым следует спад. Через 10 лет платформы исчезают.** "
   ]
  },
  {
   "cell_type": "markdown",
   "metadata": {},
   "source": [
    "**Для построения прогноза на 2017 лучше взять актуальный период 3 года. С 2014 по 2016  года. Так как данные за 2016 год не полные, а прежние года уже не актуальны, учитывая как быстро платформы достигают своего пика продаж.\n",
    "Посмотрим, какие платформы лидируют по продажам, что бы выбрать несколько потенциально прибыльных платформ для анализа.**\n"
   ]
  },
  {
   "cell_type": "code",
   "execution_count": 41,
   "metadata": {
    "scrolled": true
   },
   "outputs": [],
   "source": [
    "actual_per = df.query('year_of_release >= 2014')"
   ]
  },
  {
   "cell_type": "code",
   "execution_count": 42,
   "metadata": {},
   "outputs": [
    {
     "data": {
      "text/plain": [
       "platform\n",
       "PS4     288.15\n",
       "XOne    140.36\n",
       "3DS      86.68\n",
       "PS3      68.18\n",
       "X360     48.22\n",
       "WiiU     42.98\n",
       "PC       27.05\n",
       "PSV      22.40\n",
       "Wii       5.07\n",
       "PSP       0.36\n",
       "Name: total_sales, dtype: float64"
      ]
     },
     "execution_count": 42,
     "metadata": {},
     "output_type": "execute_result"
    }
   ],
   "source": [
    "actual_per.groupby(['platform'])['total_sales'].sum()\\\n",
    ".sort_values(ascending=False)\n"
   ]
  },
  {
   "cell_type": "code",
   "execution_count": 43,
   "metadata": {
    "scrolled": false
   },
   "outputs": [
    {
     "data": {
      "image/png": "[encoded data removed]",
      "text/plain": [
       "<Figure size 720x360 with 1 Axes>"
      ]
     },
     "metadata": {
      "needs_background": "light"
     },
     "output_type": "display_data"
    }
   ],
   "source": [
    "actual_per.pivot_table(index='platform', columns='year_of_release',\\\n",
    "values='total_sales', aggfunc=['sum']).reset_index(level='platform').plot(x='platform', y='sum',\\\n",
    "kind='bar', figsize=(10,5))\n",
    "plt.title('Лидеры продаж с 2014 по 2016 годы')\n",
    "plt.show()"
   ]
  },
  {
   "cell_type": "markdown",
   "metadata": {},
   "source": [
    "**По продажам за актуальный период лидирует PS4 с падающим ростом продаж. На втором месте XOne. Видно что на всех платвормах продажи падают.**"
   ]
  },
  {
   "cell_type": "markdown",
   "metadata": {},
   "source": [
    "**Построим график «ящик с усами» по глобальным продажам игр в разбивке по платформам.**"
   ]
  },
  {
   "cell_type": "code",
   "execution_count": 44,
   "metadata": {},
   "outputs": [
    {
     "data": {
      "text/html": [
       "<div>\n",
       "<style scoped>\n",
       "    .dataframe tbody tr th:only-of-type {\n",
       "        vertical-align: middle;\n",
       "    }\n",
       "\n",
       "    .dataframe tbody tr th {\n",
       "        vertical-align: top;\n",
       "    }\n",
       "\n",
       "    .dataframe thead th {\n",
       "        text-align: right;\n",
       "    }\n",
       "</style>\n",
       "<table border=\"1\" class=\"dataframe\">\n",
       "  <thead>\n",
       "    <tr style=\"text-align: right;\">\n",
       "      <th></th>\n",
       "      <th>count</th>\n",
       "      <th>mean</th>\n",
       "      <th>std</th>\n",
       "      <th>min</th>\n",
       "      <th>25%</th>\n",
       "      <th>50%</th>\n",
       "      <th>75%</th>\n",
       "      <th>max</th>\n",
       "    </tr>\n",
       "    <tr>\n",
       "      <th>platform</th>\n",
       "      <th></th>\n",
       "      <th></th>\n",
       "      <th></th>\n",
       "      <th></th>\n",
       "      <th></th>\n",
       "      <th></th>\n",
       "      <th></th>\n",
       "      <th></th>\n",
       "    </tr>\n",
       "  </thead>\n",
       "  <tbody>\n",
       "    <tr>\n",
       "      <th>3DS</th>\n",
       "      <td>212.0</td>\n",
       "      <td>0.408868</td>\n",
       "      <td>1.188368</td>\n",
       "      <td>0.01</td>\n",
       "      <td>0.0300</td>\n",
       "      <td>0.090</td>\n",
       "      <td>0.2500</td>\n",
       "      <td>11.68</td>\n",
       "    </tr>\n",
       "    <tr>\n",
       "      <th>PC</th>\n",
       "      <td>151.0</td>\n",
       "      <td>0.179139</td>\n",
       "      <td>0.329359</td>\n",
       "      <td>0.01</td>\n",
       "      <td>0.0200</td>\n",
       "      <td>0.060</td>\n",
       "      <td>0.2000</td>\n",
       "      <td>3.05</td>\n",
       "    </tr>\n",
       "    <tr>\n",
       "      <th>PS3</th>\n",
       "      <td>219.0</td>\n",
       "      <td>0.311324</td>\n",
       "      <td>0.633059</td>\n",
       "      <td>0.01</td>\n",
       "      <td>0.0400</td>\n",
       "      <td>0.110</td>\n",
       "      <td>0.3250</td>\n",
       "      <td>5.27</td>\n",
       "    </tr>\n",
       "    <tr>\n",
       "      <th>PS4</th>\n",
       "      <td>376.0</td>\n",
       "      <td>0.766356</td>\n",
       "      <td>1.614969</td>\n",
       "      <td>0.01</td>\n",
       "      <td>0.0575</td>\n",
       "      <td>0.185</td>\n",
       "      <td>0.6900</td>\n",
       "      <td>14.63</td>\n",
       "    </tr>\n",
       "    <tr>\n",
       "      <th>PSP</th>\n",
       "      <td>13.0</td>\n",
       "      <td>0.027692</td>\n",
       "      <td>0.027735</td>\n",
       "      <td>0.01</td>\n",
       "      <td>0.0100</td>\n",
       "      <td>0.020</td>\n",
       "      <td>0.0200</td>\n",
       "      <td>0.09</td>\n",
       "    </tr>\n",
       "    <tr>\n",
       "      <th>PSV</th>\n",
       "      <td>295.0</td>\n",
       "      <td>0.075932</td>\n",
       "      <td>0.141591</td>\n",
       "      <td>0.01</td>\n",
       "      <td>0.0200</td>\n",
       "      <td>0.040</td>\n",
       "      <td>0.0900</td>\n",
       "      <td>1.96</td>\n",
       "    </tr>\n",
       "    <tr>\n",
       "      <th>Wii</th>\n",
       "      <td>11.0</td>\n",
       "      <td>0.460909</td>\n",
       "      <td>0.625451</td>\n",
       "      <td>0.01</td>\n",
       "      <td>0.0350</td>\n",
       "      <td>0.180</td>\n",
       "      <td>0.7550</td>\n",
       "      <td>2.01</td>\n",
       "    </tr>\n",
       "    <tr>\n",
       "      <th>WiiU</th>\n",
       "      <td>73.0</td>\n",
       "      <td>0.588767</td>\n",
       "      <td>1.161467</td>\n",
       "      <td>0.01</td>\n",
       "      <td>0.0500</td>\n",
       "      <td>0.190</td>\n",
       "      <td>0.5700</td>\n",
       "      <td>7.09</td>\n",
       "    </tr>\n",
       "    <tr>\n",
       "      <th>X360</th>\n",
       "      <td>111.0</td>\n",
       "      <td>0.434414</td>\n",
       "      <td>0.628967</td>\n",
       "      <td>0.01</td>\n",
       "      <td>0.0700</td>\n",
       "      <td>0.180</td>\n",
       "      <td>0.5050</td>\n",
       "      <td>4.28</td>\n",
       "    </tr>\n",
       "    <tr>\n",
       "      <th>XOne</th>\n",
       "      <td>228.0</td>\n",
       "      <td>0.615614</td>\n",
       "      <td>1.046513</td>\n",
       "      <td>0.01</td>\n",
       "      <td>0.0500</td>\n",
       "      <td>0.205</td>\n",
       "      <td>0.6325</td>\n",
       "      <td>7.39</td>\n",
       "    </tr>\n",
       "  </tbody>\n",
       "</table>\n",
       "</div>"
      ],
      "text/plain": [
       "          count      mean       std   min     25%    50%     75%    max\n",
       "platform                                                               \n",
       "3DS       212.0  0.408868  1.188368  0.01  0.0300  0.090  0.2500  11.68\n",
       "PC        151.0  0.179139  0.329359  0.01  0.0200  0.060  0.2000   3.05\n",
       "PS3       219.0  0.311324  0.633059  0.01  0.0400  0.110  0.3250   5.27\n",
       "PS4       376.0  0.766356  1.614969  0.01  0.0575  0.185  0.6900  14.63\n",
       "PSP        13.0  0.027692  0.027735  0.01  0.0100  0.020  0.0200   0.09\n",
       "PSV       295.0  0.075932  0.141591  0.01  0.0200  0.040  0.0900   1.96\n",
       "Wii        11.0  0.460909  0.625451  0.01  0.0350  0.180  0.7550   2.01\n",
       "WiiU       73.0  0.588767  1.161467  0.01  0.0500  0.190  0.5700   7.09\n",
       "X360      111.0  0.434414  0.628967  0.01  0.0700  0.180  0.5050   4.28\n",
       "XOne      228.0  0.615614  1.046513  0.01  0.0500  0.205  0.6325   7.39"
      ]
     },
     "execution_count": 44,
     "metadata": {},
     "output_type": "execute_result"
    }
   ],
   "source": [
    "actual_per.groupby('platform')['total_sales'].describe()"
   ]
  },
  {
   "cell_type": "code",
   "execution_count": 45,
   "metadata": {},
   "outputs": [
    {
     "data": {
      "image/png": "[encoded data removed]",
      "text/plain": [
       "<Figure size 936x576 with 1 Axes>"
      ]
     },
     "metadata": {
      "needs_background": "light"
     },
     "output_type": "display_data"
    }
   ],
   "source": [
    "plt.figure(figsize=(13, 8))\n",
    "sns.boxplot(x='platform', y='total_sales', data=actual_per)\\\n",
    ".set(title = 'Все платформы', xlabel = 'Платформы', ylabel = 'Общие продажи', ylim=(0, 3))\n",
    "plt.show()"
   ]
  },
  {
   "cell_type": "markdown",
   "metadata": {},
   "source": [
    "**Видно, что распределение на всех рассматриваемых  платформах неравномерное идет перекос в сторону больших значений, у всех есть выбросы.**"
   ]
  },
  {
   "cell_type": "markdown",
   "metadata": {},
   "source": [
    "**Посмотрим, как влияют на продажи внутри одной популярной платформы отзывы пользователей и критиков.**"
   ]
  },
  {
   "cell_type": "code",
   "execution_count": 46,
   "metadata": {},
   "outputs": [
    {
     "data": {
      "text/plain": [
       "user_score     -0.040132\n",
       "critic_score    0.402661\n",
       "total_sales     1.000000\n",
       "Name: total_sales, dtype: float64"
      ]
     },
     "execution_count": 46,
     "metadata": {},
     "output_type": "execute_result"
    }
   ],
   "source": [
    "ps_4 = actual_per.query('platform == \"PS4\"')\n",
    "ps_4[['user_score','critic_score','total_sales']].corr()['total_sales']"
   ]
  },
  {
   "cell_type": "code",
   "execution_count": 47,
   "metadata": {
    "scrolled": true
   },
   "outputs": [
    {
     "data": {
      "image/png": "[encoded data removed]",
      "text/plain": [
       "<Figure size 432x288 with 1 Axes>"
      ]
     },
     "metadata": {
      "needs_background": "light"
     },
     "output_type": "display_data"
    }
   ],
   "source": [
    "ps_4.plot(x='critic_score', y='total_sales', kind='scatter')\n",
    "plt.title('Зависимость цены от оценки критиков')\n",
    "plt.show()"
   ]
  },
  {
   "cell_type": "code",
   "execution_count": 48,
   "metadata": {
    "scrolled": true
   },
   "outputs": [
    {
     "data": {
      "image/png": "[encoded data removed]",
      "text/plain": [
       "<Figure size 432x288 with 1 Axes>"
      ]
     },
     "metadata": {
      "needs_background": "light"
     },
     "output_type": "display_data"
    }
   ],
   "source": [
    "ps_4.plot(x='user_score', y='total_sales', kind='scatter')\n",
    "plt.title('Зависимость цены от оценки пользователей')\n",
    "plt.show()"
   ]
  },
  {
   "cell_type": "markdown",
   "metadata": {},
   "source": [
    "**Оценки игр критиков и пользователей в основном располагаются на позициях выше среднего. При этом из диаграммы видна отрицательная корреляция, по отзывам покупателей и слабоположительная корреляция, по отзывам критиков** "
   ]
  },
  {
   "cell_type": "markdown",
   "metadata": {},
   "source": [
    "*Соотнесем выводы с продажами игр на других платформах.*"
   ]
  },
  {
   "cell_type": "code",
   "execution_count": 49,
   "metadata": {},
   "outputs": [
    {
     "data": {
      "text/plain": [
       "user_score     -0.138445\n",
       "critic_score    0.525723\n",
       "total_sales     1.000000\n",
       "Name: total_sales, dtype: float64"
      ]
     },
     "execution_count": 49,
     "metadata": {},
     "output_type": "execute_result"
    }
   ],
   "source": [
    "X360 = actual_per.query('platform == \"X360\"')\n",
    "X360[['user_score','critic_score','total_sales']].corr()['total_sales']"
   ]
  },
  {
   "cell_type": "code",
   "execution_count": 50,
   "metadata": {
    "scrolled": true
   },
   "outputs": [
    {
     "data": {
      "text/plain": [
       "user_score     -0.070384\n",
       "critic_score    0.428677\n",
       "total_sales     1.000000\n",
       "Name: total_sales, dtype: float64"
      ]
     },
     "execution_count": 50,
     "metadata": {},
     "output_type": "execute_result"
    }
   ],
   "source": [
    "XOne = actual_per.query('platform == \"XOne\"')\n",
    "XOne[['user_score','critic_score','total_sales']].corr()['total_sales']"
   ]
  },
  {
   "cell_type": "code",
   "execution_count": 51,
   "metadata": {},
   "outputs": [
    {
     "data": {
      "text/plain": [
       "user_score      0.215193\n",
       "critic_score    0.314117\n",
       "total_sales     1.000000\n",
       "Name: total_sales, dtype: float64"
      ]
     },
     "execution_count": 51,
     "metadata": {},
     "output_type": "execute_result"
    }
   ],
   "source": [
    "DS3 = actual_per.query('platform == \"3DS\"')\n",
    "DS3[['user_score','critic_score','total_sales']].corr()['total_sales']"
   ]
  },
  {
   "cell_type": "code",
   "execution_count": 52,
   "metadata": {},
   "outputs": [
    {
     "data": {
      "text/plain": [
       "user_score      0.407926\n",
       "critic_score    0.370201\n",
       "total_sales     1.000000\n",
       "Name: total_sales, dtype: float64"
      ]
     },
     "execution_count": 52,
     "metadata": {},
     "output_type": "execute_result"
    }
   ],
   "source": [
    "WiiU = actual_per.query('platform == \"WiiU\"')\n",
    "WiiU[['user_score','critic_score','total_sales']].corr()['total_sales']"
   ]
  },
  {
   "cell_type": "code",
   "execution_count": 53,
   "metadata": {},
   "outputs": [
    {
     "data": {
      "image/png": "[encoded data removed]",
      "text/plain": [
       "<Figure size 432x288 with 1 Axes>"
      ]
     },
     "metadata": {
      "needs_background": "light"
     },
     "output_type": "display_data"
    }
   ],
   "source": [
    "WiiU.plot(x='user_score', y='total_sales', kind='scatter')\n",
    "plt.title('Зависимость цены от оценки критиков')\n",
    "plt.show()"
   ]
  },
  {
   "cell_type": "code",
   "execution_count": 54,
   "metadata": {
    "scrolled": true
   },
   "outputs": [
    {
     "data": {
      "text/plain": [
       "user_score      1.0\n",
       "critic_score    NaN\n",
       "total_sales     1.0\n",
       "Name: total_sales, dtype: float64"
      ]
     },
     "execution_count": 54,
     "metadata": {},
     "output_type": "execute_result"
    }
   ],
   "source": [
    "Wii = actual_per.query('platform == \"Wii\"')\n",
    "Wii[['user_score','critic_score','total_sales']].corr()['total_sales']"
   ]
  },
  {
   "cell_type": "code",
   "execution_count": 55,
   "metadata": {},
   "outputs": [
    {
     "data": {
      "image/png": "[encoded data removed]",
      "text/plain": [
       "<Figure size 432x288 with 1 Axes>"
      ]
     },
     "metadata": {
      "needs_background": "light"
     },
     "output_type": "display_data"
    }
   ],
   "source": [
    "Wii.plot(x='user_score', y='total_sales', kind='scatter')\n",
    "plt.title('Зависимость цены от оценки критиков')\n",
    "plt.show()"
   ]
  },
  {
   "cell_type": "markdown",
   "metadata": {},
   "source": [
    "**На всех платформах нет явной зависимости продаж от оценки критиков и пользователей.**"
   ]
  },
  {
   "cell_type": "markdown",
   "metadata": {},
   "source": [
    "\n",
    "Можно сказать, что оценка критиков имеет слабое влияние на продажи, оценка пользователей на продажи не влияет. \n"
   ]
  },
  {
   "cell_type": "markdown",
   "metadata": {},
   "source": [
    "*Посмотрим на общее распределение игр по жанрам.* "
   ]
  },
  {
   "cell_type": "code",
   "execution_count": 56,
   "metadata": {},
   "outputs": [
    {
     "data": {
      "text/html": [
       "<div>\n",
       "<style scoped>\n",
       "    .dataframe tbody tr th:only-of-type {\n",
       "        vertical-align: middle;\n",
       "    }\n",
       "\n",
       "    .dataframe tbody tr th {\n",
       "        vertical-align: top;\n",
       "    }\n",
       "\n",
       "    .dataframe thead th {\n",
       "        text-align: right;\n",
       "    }\n",
       "</style>\n",
       "<table border=\"1\" class=\"dataframe\">\n",
       "  <thead>\n",
       "    <tr style=\"text-align: right;\">\n",
       "      <th></th>\n",
       "      <th>count</th>\n",
       "      <th>mean</th>\n",
       "      <th>std</th>\n",
       "      <th>min</th>\n",
       "      <th>25%</th>\n",
       "      <th>50%</th>\n",
       "      <th>75%</th>\n",
       "      <th>max</th>\n",
       "    </tr>\n",
       "    <tr>\n",
       "      <th>genre</th>\n",
       "      <th></th>\n",
       "      <th></th>\n",
       "      <th></th>\n",
       "      <th></th>\n",
       "      <th></th>\n",
       "      <th></th>\n",
       "      <th></th>\n",
       "      <th></th>\n",
       "    </tr>\n",
       "  </thead>\n",
       "  <tbody>\n",
       "    <tr>\n",
       "      <th>Action</th>\n",
       "      <td>619.0</td>\n",
       "      <td>0.322068</td>\n",
       "      <td>0.798181</td>\n",
       "      <td>0.01</td>\n",
       "      <td>0.0300</td>\n",
       "      <td>0.090</td>\n",
       "      <td>0.2800</td>\n",
       "      <td>12.62</td>\n",
       "    </tr>\n",
       "    <tr>\n",
       "      <th>Adventure</th>\n",
       "      <td>185.0</td>\n",
       "      <td>0.094865</td>\n",
       "      <td>0.203147</td>\n",
       "      <td>0.01</td>\n",
       "      <td>0.0200</td>\n",
       "      <td>0.030</td>\n",
       "      <td>0.0800</td>\n",
       "      <td>1.66</td>\n",
       "    </tr>\n",
       "    <tr>\n",
       "      <th>Fighting</th>\n",
       "      <td>60.0</td>\n",
       "      <td>0.470333</td>\n",
       "      <td>1.188053</td>\n",
       "      <td>0.01</td>\n",
       "      <td>0.0600</td>\n",
       "      <td>0.125</td>\n",
       "      <td>0.3200</td>\n",
       "      <td>7.55</td>\n",
       "    </tr>\n",
       "    <tr>\n",
       "      <th>Misc</th>\n",
       "      <td>113.0</td>\n",
       "      <td>0.332301</td>\n",
       "      <td>0.736999</td>\n",
       "      <td>0.01</td>\n",
       "      <td>0.0300</td>\n",
       "      <td>0.090</td>\n",
       "      <td>0.3200</td>\n",
       "      <td>5.27</td>\n",
       "    </tr>\n",
       "    <tr>\n",
       "      <th>Platform</th>\n",
       "      <td>38.0</td>\n",
       "      <td>0.476053</td>\n",
       "      <td>0.722561</td>\n",
       "      <td>0.01</td>\n",
       "      <td>0.0625</td>\n",
       "      <td>0.140</td>\n",
       "      <td>0.4675</td>\n",
       "      <td>3.21</td>\n",
       "    </tr>\n",
       "    <tr>\n",
       "      <th>Puzzle</th>\n",
       "      <td>14.0</td>\n",
       "      <td>0.157857</td>\n",
       "      <td>0.320629</td>\n",
       "      <td>0.01</td>\n",
       "      <td>0.0200</td>\n",
       "      <td>0.045</td>\n",
       "      <td>0.1000</td>\n",
       "      <td>1.19</td>\n",
       "    </tr>\n",
       "    <tr>\n",
       "      <th>Racing</th>\n",
       "      <td>69.0</td>\n",
       "      <td>0.398841</td>\n",
       "      <td>0.963716</td>\n",
       "      <td>0.01</td>\n",
       "      <td>0.0300</td>\n",
       "      <td>0.090</td>\n",
       "      <td>0.2500</td>\n",
       "      <td>7.09</td>\n",
       "    </tr>\n",
       "    <tr>\n",
       "      <th>Role-Playing</th>\n",
       "      <td>221.0</td>\n",
       "      <td>0.459005</td>\n",
       "      <td>1.177284</td>\n",
       "      <td>0.01</td>\n",
       "      <td>0.0500</td>\n",
       "      <td>0.110</td>\n",
       "      <td>0.3600</td>\n",
       "      <td>11.68</td>\n",
       "    </tr>\n",
       "    <tr>\n",
       "      <th>Shooter</th>\n",
       "      <td>128.0</td>\n",
       "      <td>1.335469</td>\n",
       "      <td>2.050567</td>\n",
       "      <td>0.01</td>\n",
       "      <td>0.1725</td>\n",
       "      <td>0.515</td>\n",
       "      <td>1.6175</td>\n",
       "      <td>14.63</td>\n",
       "    </tr>\n",
       "    <tr>\n",
       "      <th>Simulation</th>\n",
       "      <td>44.0</td>\n",
       "      <td>0.298409</td>\n",
       "      <td>0.646925</td>\n",
       "      <td>0.01</td>\n",
       "      <td>0.0200</td>\n",
       "      <td>0.100</td>\n",
       "      <td>0.3275</td>\n",
       "      <td>3.05</td>\n",
       "    </tr>\n",
       "    <tr>\n",
       "      <th>Sports</th>\n",
       "      <td>161.0</td>\n",
       "      <td>0.680000</td>\n",
       "      <td>1.239736</td>\n",
       "      <td>0.01</td>\n",
       "      <td>0.0600</td>\n",
       "      <td>0.180</td>\n",
       "      <td>0.6400</td>\n",
       "      <td>8.58</td>\n",
       "    </tr>\n",
       "    <tr>\n",
       "      <th>Strategy</th>\n",
       "      <td>37.0</td>\n",
       "      <td>0.107027</td>\n",
       "      <td>0.118412</td>\n",
       "      <td>0.01</td>\n",
       "      <td>0.0300</td>\n",
       "      <td>0.060</td>\n",
       "      <td>0.1400</td>\n",
       "      <td>0.52</td>\n",
       "    </tr>\n",
       "  </tbody>\n",
       "</table>\n",
       "</div>"
      ],
      "text/plain": [
       "              count      mean       std   min     25%    50%     75%    max\n",
       "genre                                                                      \n",
       "Action        619.0  0.322068  0.798181  0.01  0.0300  0.090  0.2800  12.62\n",
       "Adventure     185.0  0.094865  0.203147  0.01  0.0200  0.030  0.0800   1.66\n",
       "Fighting       60.0  0.470333  1.188053  0.01  0.0600  0.125  0.3200   7.55\n",
       "Misc          113.0  0.332301  0.736999  0.01  0.0300  0.090  0.3200   5.27\n",
       "Platform       38.0  0.476053  0.722561  0.01  0.0625  0.140  0.4675   3.21\n",
       "Puzzle         14.0  0.157857  0.320629  0.01  0.0200  0.045  0.1000   1.19\n",
       "Racing         69.0  0.398841  0.963716  0.01  0.0300  0.090  0.2500   7.09\n",
       "Role-Playing  221.0  0.459005  1.177284  0.01  0.0500  0.110  0.3600  11.68\n",
       "Shooter       128.0  1.335469  2.050567  0.01  0.1725  0.515  1.6175  14.63\n",
       "Simulation     44.0  0.298409  0.646925  0.01  0.0200  0.100  0.3275   3.05\n",
       "Sports        161.0  0.680000  1.239736  0.01  0.0600  0.180  0.6400   8.58\n",
       "Strategy       37.0  0.107027  0.118412  0.01  0.0300  0.060  0.1400   0.52"
      ]
     },
     "execution_count": 56,
     "metadata": {},
     "output_type": "execute_result"
    }
   ],
   "source": [
    "actual_per.groupby('genre')['total_sales'].describe()"
   ]
  },
  {
   "cell_type": "code",
   "execution_count": 57,
   "metadata": {
    "scrolled": true
   },
   "outputs": [
    {
     "data": {
      "image/png": "[encoded data removed]",
      "text/plain": [
       "<Figure size 936x360 with 1 Axes>"
      ]
     },
     "metadata": {
      "needs_background": "light"
     },
     "output_type": "display_data"
    }
   ],
   "source": [
    "plt.figure(figsize=(13, 5))\n",
    "sns.boxplot(x='genre', y='total_sales', data=actual_per).set(title = 'Все жанры', xlabel = 'Жанры', ylabel = 'Общие продажи', ylim=(0, 5))\n",
    "plt.show()"
   ]
  },
  {
   "cell_type": "markdown",
   "metadata": {},
   "source": [
    "**В распределении продаж по жанрам видим очень существенные выбросы. Вероятнее всего на распределение влияют какие то конкретные игры а не сам жанр. посмотрим на медианное значение.**"
   ]
  },
  {
   "cell_type": "code",
   "execution_count": 58,
   "metadata": {},
   "outputs": [
    {
     "data": {
      "image/png": "[encoded data removed]",
      "text/plain": [
       "<Figure size 504x216 with 1 Axes>"
      ]
     },
     "metadata": {
      "needs_background": "light"
     },
     "output_type": "display_data"
    }
   ],
   "source": [
    "actual_per.groupby('genre')['total_sales'].median().sort_values(ascending=False).plot(x='genre', y='median',\\\n",
    "kind='bar', figsize=(7,3))\n",
    "plt.title('Медианное значение по жанрам игр с 2014 по 2016 годы')\n",
    "plt.show()"
   ]
  },
  {
   "cell_type": "markdown",
   "metadata": {},
   "source": [
    "**Самый продаваемый жанр Shooter за ним идет Sports. А самые низкие продажи у жанров Puzzle и Adventure**"
   ]
  },
  {
   "cell_type": "markdown",
   "metadata": {},
   "source": [
    "<h2>Шаг. Составление портрета пользователя каждого региона"
   ]
  },
  {
   "cell_type": "markdown",
   "metadata": {},
   "source": [
    "Определим для пользователя каждого региона:\n",
    "\n",
    "* самые популярные платформы (топ-5)\n",
    "\n",
    "* самые популярные жанры (топ-5)\n",
    "\n",
    "* Влияет ли рейтинг ESRB на продажи в отдельном регионе"
   ]
  },
  {
   "cell_type": "code",
   "execution_count": 59,
   "metadata": {
    "scrolled": false
   },
   "outputs": [
    {
     "data": {
      "image/png": "[encoded data removed]",
      "text/plain": [
       "<Figure size 1080x360 with 3 Axes>"
      ]
     },
     "metadata": {},
     "output_type": "display_data"
    }
   ],
   "source": [
    "fig, axes = plt.subplots(1, 3, figsize=(15, 5))\n",
    "axes = axes.ravel()\n",
    "fig.suptitle('Топ 5 платформ по реионам продаж')\n",
    "i=0\n",
    " \n",
    "for i, reg in enumerate(['na_sales', 'eu_sales', 'jp_sales']):\n",
    "    all_platforms = actual_per.groupby('platform').agg({reg: 'sum'}).sort_values(by=reg, ascending=False)\n",
    "    top_5_platform = all_platforms.head(5)\n",
    "    other = pd.DataFrame(\n",
    "        all_platforms.reset_index()[all_platforms.reset_index().index > 4][reg].sum(), index=['Other'], columns=[reg])\n",
    "    top_6_platform = pd.concat([top_5_platform, other])\n",
    "    axes[i].pie(top_6_platform[reg], labels=top_6_platform.index, autopct='%.0f%%')\n",
    "    axes[i].set_title(reg)\n",
    "plt.show()"
   ]
  },
  {
   "cell_type": "markdown",
   "metadata": {},
   "source": [
    "**В Северной Америке и Европе лидируют  PS4,Xbox One,за ними идут PS3, Xbox 360, Nintendo 3DS. В Европе так же популярна  платформа РС. Другие платформы занимают в этих регионах 10-13% рынка. \n",
    "В Японии другие предпочтения, лидер Nintendo 3DS дальше  идут PS4, PS3, PS Vita，Nintendo WiiU, другие платформы занимают лишь 1%.**\n"
   ]
  },
  {
   "cell_type": "code",
   "execution_count": 60,
   "metadata": {},
   "outputs": [
    {
     "data": {
      "image/png": "[encoded data removed]",
      "text/plain": [
       "<Figure size 1080x360 with 3 Axes>"
      ]
     },
     "metadata": {},
     "output_type": "display_data"
    }
   ],
   "source": [
    "fig, axes = plt.subplots(1, 3, figsize=(15, 5))\n",
    "axes = axes.ravel()\n",
    "fig.suptitle('Топ 5 жанров по реионам продаж')\n",
    "i=0\n",
    " \n",
    "for i, reg in enumerate(['na_sales', 'eu_sales', 'jp_sales']):\n",
    "    all_genre = actual_per.groupby('genre').agg({reg: 'sum'}).sort_values(by=reg, ascending=False)\n",
    "    top_5_genre = all_genre.head(5)\n",
    "    other_ganre = pd.DataFrame(\n",
    "        all_genre.reset_index()[all_genre.reset_index().index > 4][reg].sum(), index=['Other'], columns=[reg])\n",
    "    top_6_ganre = pd.concat([ top_5_genre, other_ganre])\n",
    "    axes[i].pie(top_6_ganre[reg], labels=top_6_ganre.index, normalize=True, autopct='%.0f%%')\n",
    "    axes[i].set_title(reg)\n",
    "plt.axis() \n",
    "plt.show()"
   ]
  },
  {
   "cell_type": "markdown",
   "metadata": {},
   "source": [
    "**В Северной Америке и Европе популярный жанр игр Shooter, потом Sports и Platform. Racing популярнее в Европе, чем в Северной Америке. Fighting в Америке, а в Европе Simulation. Доля других жанров не долее 2%.\n",
    "В Японии лидирует жанр Role-Playing затем  Fighting , Puzzle, Adventure и Action.**\n"
   ]
  },
  {
   "cell_type": "code",
   "execution_count": 61,
   "metadata": {
    "scrolled": true
   },
   "outputs": [
    {
     "data": {
      "image/png": "[encoded data removed]",
      "text/plain": [
       "<Figure size 1080x360 with 3 Axes>"
      ]
     },
     "metadata": {},
     "output_type": "display_data"
    }
   ],
   "source": [
    "fig, axes = plt.subplots(1, 3, figsize=(15, 5))\n",
    "axes = axes.ravel()\n",
    "fig.suptitle('Топ 5 рейтинг ESRB')\n",
    "i=0\n",
    " \n",
    "for i, reg in enumerate(['na_sales', 'eu_sales', 'jp_sales']):\n",
    "    all_rating = actual_per.groupby('rating').agg({reg: 'sum'}).sort_values(by=reg, ascending=False)\n",
    "    top_5_rating = all_rating.head(5)\n",
    "    other_rating = pd.DataFrame(\n",
    "        all_rating.reset_index()[all_rating.reset_index().index > 4][reg].sum(), index=['Other'], columns=[reg])\n",
    "    top_6_rating = pd.concat([ top_5_rating, other_rating])\n",
    "    axes[i].pie(top_6_rating[reg], labels=top_6_rating.index, normalize=True, autopct='%.0f%%')\n",
    "    axes[i].set_title(reg)\n",
    "plt.axis() \n",
    "plt.show()"
   ]
  },
  {
   "cell_type": "markdown",
   "metadata": {},
   "source": [
    "# Вывод #  \n",
    "**Пользователи  Северной Америки и Европы очень схожи, так, к примеру, преимуществом в этих регионах пользуются платформы PS4 и XOne, жанр Shooter, с рейтингом ESRB М – от 17+ так же есть игры, у которых рейтинг по ESRB не определён. \n",
    "Японские пользователи имеют другие предпочтения, здесь половину рынка занимает платформа 3DS  и PS4 тоже продается, но на нее приходится всего 15%. Популярны жанры Role-Playing, Fighting, Puzzle занимает 23% рынка. По рейтингу ESRB больше половины отсутствуют, видимо по тому, что японская система рейтинга  CERO имеет другие возрастные критерии.** \n"
   ]
  },
  {
   "cell_type": "markdown",
   "metadata": {},
   "source": [
    "# 5. Проверка гипотез #"
   ]
  },
  {
   "cell_type": "markdown",
   "metadata": {},
   "source": [
    "* cредние пользовательские рейтинги платформ Xbox One и PC одинаковые\n",
    "* cредние пользовательские рейтинги жанров Action и Sports разные"
   ]
  },
  {
   "cell_type": "markdown",
   "metadata": {},
   "source": [
    "**Проверим гипотезы:**\n",
    "* H0: средние рейтинги по платформам одинаковые Xbox One и PC одинаковые\n",
    "* H1: средние рейтинги по платформам Xbox One и PC разные\n"
   ]
  },
  {
   "cell_type": "code",
   "execution_count": 62,
   "metadata": {},
   "outputs": [],
   "source": [
    "actual_per = actual_per.dropna(subset=['user_score'])"
   ]
  },
  {
   "cell_type": "code",
   "execution_count": 63,
   "metadata": {},
   "outputs": [
    {
     "name": "stdout",
     "output_type": "stream",
     "text": [
      "<class 'pandas.core.frame.DataFrame'>\n",
      "Int64Index: 16444 entries, 0 to 16714\n",
      "Data columns (total 12 columns):\n",
      " #   Column           Non-Null Count  Dtype  \n",
      "---  ------           --------------  -----  \n",
      " 0   name             16444 non-null  object \n",
      " 1   platform         16444 non-null  object \n",
      " 2   year_of_release  16444 non-null  int64  \n",
      " 3   genre            16444 non-null  object \n",
      " 4   na_sales         16444 non-null  float64\n",
      " 5   eu_sales         16444 non-null  float64\n",
      " 6   jp_sales         16444 non-null  float64\n",
      " 7   other_sales      16444 non-null  float64\n",
      " 8   critic_score     7983 non-null   float64\n",
      " 9   user_score       7463 non-null   float64\n",
      " 10  rating           16444 non-null  object \n",
      " 11  total_sales      16444 non-null  float64\n",
      "dtypes: float64(7), int64(1), object(4)\n",
      "memory usage: 1.6+ MB\n"
     ]
    }
   ],
   "source": [
    "df.info()"
   ]
  },
  {
   "cell_type": "code",
   "execution_count": 64,
   "metadata": {},
   "outputs": [],
   "source": [
    "x_one = actual_per[actual_per['platform'] == 'XOne']['user_score']\n",
    "pc = actual_per[actual_per['platform'] == 'PC']['user_score']"
   ]
  },
  {
   "cell_type": "code",
   "execution_count": 65,
   "metadata": {},
   "outputs": [
    {
     "data": {
      "text/plain": [
       "name                 0\n",
       "platform             0\n",
       "year_of_release      0\n",
       "genre                0\n",
       "na_sales             0\n",
       "eu_sales             0\n",
       "jp_sales             0\n",
       "other_sales          0\n",
       "critic_score       184\n",
       "user_score           0\n",
       "rating               0\n",
       "total_sales          0\n",
       "dtype: int64"
      ]
     },
     "execution_count": 65,
     "metadata": {},
     "output_type": "execute_result"
    }
   ],
   "source": [
    "actual_per.isna().sum()"
   ]
  },
  {
   "cell_type": "code",
   "execution_count": 66,
   "metadata": {},
   "outputs": [
    {
     "name": "stdout",
     "output_type": "stream",
     "text": [
      "p-значение: 0.11601398086668832\n",
      "Не получилось отвергнуть нулевую гипотезу\n"
     ]
    }
   ],
   "source": [
    "alpha = .05\n",
    "results = st.ttest_ind(x_one,pc, equal_var=False)\n",
    "print('p-значение:', results.pvalue)\n",
    "if (results.pvalue < alpha):\n",
    "    print(\"Отвергаем нулевую гипотезу\")\n",
    "else:\n",
    "    print(\"Не получилось отвергнуть нулевую гипотезу\")"
   ]
  },
  {
   "cell_type": "markdown",
   "metadata": {},
   "source": [
    "* H0: средние рейтинги по жанрам Action и Sports одинаковые\n",
    "* H1: средние рейтинги по жанрам Action и Sports разные"
   ]
  },
  {
   "cell_type": "code",
   "execution_count": 67,
   "metadata": {},
   "outputs": [],
   "source": [
    "action = actual_per[actual_per['genre'] == 'Action'] ['user_score']\n",
    "sports =  actual_per[actual_per['genre'] ==  'Sports']['user_score']"
   ]
  },
  {
   "cell_type": "code",
   "execution_count": 68,
   "metadata": {},
   "outputs": [
    {
     "name": "stdout",
     "output_type": "stream",
     "text": [
      "p-value: 1.1825550382644557e-14\n",
      "Отвергаем нулевую гипотезу\n"
     ]
    }
   ],
   "source": [
    "\n",
    "alpha = .05\n",
    "\n",
    "results = st.ttest_ind(action,sports, equal_var=False)\n",
    "print('p-value:', results.pvalue)\n",
    "if results.pvalue < alpha:\n",
    "    print(\"Отвергаем нулевую гипотезу\")\n",
    "else:\n",
    "    print(\"Не получилось отвергнуть нулевую гипотезу\") "
   ]
  },
  {
   "cell_type": "markdown",
   "metadata": {},
   "source": [
    "<h1> Общий вывод"
   ]
  },
  {
   "cell_type": "markdown",
   "metadata": {},
   "source": [
    "**Было проведено исследование всемирного рынка компьютерных игр, с целью выявить закономерности определяющие успешность игры и выбрать потенциально популярный продукт, что бы спланировать рекламную компанию на 2017 год для Интернет – магазина «Стримчик» который продает по всему миру компьютерные игры. Данные взяты из открытых источников с 1980 по 2016 года. Перед проведением исследования были поставлены несколько гипотез.**\n",
    " * Гипотеза 1: Средние пользовательские рейтинги платформ Xbox One и PC одинаковые\n",
    "Гипотеза не подтвердилась. Средние пользовательские рейтинги платформ Xbox One и PC разные. \n",
    " * Гипотеза 2: Средние пользовательские рейтинги жанров Action и Sports разные\n",
    "Гипотеза подтвердилась. Средние пользовательские рейтинги жанров Action и Sports разные\n",
    "\n",
    "*В результате исследования удалось выяснить*\n",
    "**Актуальный период для построения прогноза на 2017 год.**\n",
    "Проанализировав продажи за все время выяснилось, что в среднем платформы достигают своего пика за 3-5 лет с момента появления на рынке. Срок жизни платформы 10 лет. Поэтому актуальный период для анализа 2014-2016 год.\n",
    "В данном периоде только 10 платформ имели продажи. Лидер продаж платформа **PlayStation  PS4** \n",
    "- Европа 48% рынка\n",
    "- Северная Америка 35%  рынка\n",
    "- Япония 16% Рынка\n",
    "\n",
    " **Xbox One** \n",
    " \n",
    "- Северная Америка 29%  рынка\n",
    "- Европа 17% рынка\n",
    "\n",
    "**Если рассматривать Японию как отдельный сегмент, нужно обратить внимание на \n",
    "Nintendo 3DS**\n",
    "\n",
    "- Япония 48% Рынка\n",
    "Но не нужно забывать, что пика продаж платформа достигла в 2016 году, и в  2017 году, возможно,  будет терять позиции. \n",
    "\n",
    "**Среди игровых жанров явный лидер Шу́тер (Стрелялка, англ. shooter — «стрелок»)**\n",
    "\n",
    "- Европа 53% рынка\n",
    "- Северная Америка 51%  рынка\n",
    "- Япония не популярен\n",
    "\n",
    "**Sports (Спортивный симулятор — это видеоигра, которая имитирует занятия спортом.)**\n",
    "\n",
    "- Европа 12% рынка\n",
    "- Северная Америка 16%  рынка\n",
    "- Япония не популярен\n",
    "\n",
    "Если рассматривать Японию как отдельный сегмент, нужно обратить внимание на жанр\n",
    "Ролевая игра представляет собой моделирование событий, происходящих в определённом мире в определённое время\n",
    "\n",
    "- Япония 38% Рынка\n",
    "\n",
    "Возрастной рейтинг от организации ESRB можно твердо считать категорию M «Для взрослых»: Материалы игры не подходят для подростков младше 17 лет.\n",
    "\n",
    "# Общие рекомендации #\n",
    "    \n",
    "\n",
    "В 2017 году можно сделать ставку на платформу сделать ставку **PlayStation 4** — игровая приставка восьмого поколения, выпускаемая японской компанией Sony. PlayStation 4 входит в семейство игровых приставок PlayStation и была выпущена на смену PlayStation 3 — предыдущей домашней игровой консоли той же компании. Официальный анонс PlayStation 4 состоялся на конференции PlayStation Meeting 2013 в феврале 2013 года, продажи начались в ноябре 2013 года в США, Европе, Южной Америке, России и Австралии и в феврале 2014 года в Японии[7]. Осенью 2016 года Sony выпустила две новые аппаратные версии приставки: PlayStation 4 Slim, обладающую уменьшенными габаритами, и PlayStation 4 Pro, оснащённую более мощными основным и графическим процессором с расчётом на возможность вывода изображения и потокового видео в разрешении 4K. \n",
    "**Жанры**\n",
    ":\n",
    "*Шу́тер (Стрелялка, англ. shooter — «стрелок»)* \n",
    "*Sports (Спортивный симулятор — это видеоигра, которая имитирует занятия спортом.)* \n",
    "\n",
    "**Возрастной рейтинг от организации ESRB M** \n",
    "\n",
    "**Рынок Японии нужно рассматривать как отдельный сегмент**\n"
   ]
  }
 ],
 "metadata": {
  "ExecuteTimeLog": [
   {
    "duration": 45,
    "start_time": "2023-03-13T09:02:07.848Z"
   },
   {
    "duration": 1252,
    "start_time": "2023-03-13T09:02:15.153Z"
   },
   {
    "duration": 200,
    "start_time": "2023-03-13T09:02:16.598Z"
   },
   {
    "duration": 1546,
    "start_time": "2023-03-13T09:03:10.780Z"
   },
   {
    "duration": 46,
    "start_time": "2023-03-13T09:03:43.166Z"
   },
   {
    "duration": 59,
    "start_time": "2023-03-13T09:04:36.147Z"
   },
   {
    "duration": 13,
    "start_time": "2023-03-13T09:06:52.195Z"
   },
   {
    "duration": 14,
    "start_time": "2023-03-13T09:07:25.980Z"
   },
   {
    "duration": 832,
    "start_time": "2023-03-13T09:10:18.614Z"
   },
   {
    "duration": 72,
    "start_time": "2023-03-13T09:21:19.567Z"
   },
   {
    "duration": 1425,
    "start_time": "2023-03-13T09:21:53.148Z"
   },
   {
    "duration": 77,
    "start_time": "2023-03-13T09:22:30.883Z"
   },
   {
    "duration": 1433,
    "start_time": "2023-03-13T09:23:43.360Z"
   },
   {
    "duration": 57,
    "start_time": "2023-03-13T09:24:03.898Z"
   },
   {
    "duration": 3,
    "start_time": "2023-03-13T09:24:29.006Z"
   },
   {
    "duration": 56,
    "start_time": "2023-03-13T09:24:30.384Z"
   },
   {
    "duration": 2,
    "start_time": "2023-03-13T09:31:22.743Z"
   },
   {
    "duration": 2,
    "start_time": "2023-03-13T09:32:00.078Z"
   },
   {
    "duration": 3,
    "start_time": "2023-03-13T09:32:43.730Z"
   },
   {
    "duration": 72,
    "start_time": "2023-03-13T09:32:45.572Z"
   },
   {
    "duration": 12,
    "start_time": "2023-03-13T09:33:27.731Z"
   },
   {
    "duration": 13,
    "start_time": "2023-03-13T09:37:26.303Z"
   },
   {
    "duration": 18,
    "start_time": "2023-03-13T09:37:49.050Z"
   },
   {
    "duration": 9,
    "start_time": "2023-03-13T09:48:08.357Z"
   },
   {
    "duration": 11,
    "start_time": "2023-03-13T09:48:46.395Z"
   },
   {
    "duration": 3,
    "start_time": "2023-03-13T09:52:25.130Z"
   },
   {
    "duration": 18,
    "start_time": "2023-03-13T09:52:34.727Z"
   },
   {
    "duration": 10,
    "start_time": "2023-03-13T10:26:27.106Z"
   },
   {
    "duration": 5,
    "start_time": "2023-03-13T10:27:47.645Z"
   },
   {
    "duration": 11,
    "start_time": "2023-03-13T10:27:57.391Z"
   },
   {
    "duration": 12,
    "start_time": "2023-03-13T10:28:13.455Z"
   },
   {
    "duration": 11,
    "start_time": "2023-03-13T10:30:25.974Z"
   },
   {
    "duration": 11,
    "start_time": "2023-03-13T10:30:31.570Z"
   },
   {
    "duration": 11,
    "start_time": "2023-03-13T10:31:53.833Z"
   },
   {
    "duration": 12,
    "start_time": "2023-03-13T10:32:03.537Z"
   },
   {
    "duration": 12,
    "start_time": "2023-03-13T10:32:37.717Z"
   },
   {
    "duration": 1186,
    "start_time": "2023-03-13T10:32:57.516Z"
   },
   {
    "duration": 74,
    "start_time": "2023-03-13T10:32:58.704Z"
   },
   {
    "duration": 16,
    "start_time": "2023-03-13T10:32:58.779Z"
   },
   {
    "duration": 15,
    "start_time": "2023-03-13T10:32:58.797Z"
   },
   {
    "duration": 3,
    "start_time": "2023-03-13T10:32:58.813Z"
   },
   {
    "duration": 21,
    "start_time": "2023-03-13T10:33:12.529Z"
   },
   {
    "duration": 121,
    "start_time": "2023-03-13T10:55:17.936Z"
   },
   {
    "duration": 11,
    "start_time": "2023-03-13T10:57:29.918Z"
   },
   {
    "duration": 4,
    "start_time": "2023-03-13T11:02:11.760Z"
   },
   {
    "duration": 16,
    "start_time": "2023-03-13T11:03:23.856Z"
   },
   {
    "duration": 1257,
    "start_time": "2023-03-13T11:04:31.672Z"
   },
   {
    "duration": 10,
    "start_time": "2023-03-13T11:04:59.313Z"
   },
   {
    "duration": 9,
    "start_time": "2023-03-13T11:05:43.379Z"
   },
   {
    "duration": 15,
    "start_time": "2023-03-13T11:06:02.521Z"
   },
   {
    "duration": 3,
    "start_time": "2023-03-13T11:07:00.177Z"
   },
   {
    "duration": 4,
    "start_time": "2023-03-13T11:07:05.399Z"
   },
   {
    "duration": 10,
    "start_time": "2023-03-13T11:07:10.880Z"
   },
   {
    "duration": 17,
    "start_time": "2023-03-13T11:07:43.130Z"
   },
   {
    "duration": 6,
    "start_time": "2023-03-13T11:09:45.095Z"
   },
   {
    "duration": 24,
    "start_time": "2023-03-13T11:11:00.191Z"
   },
   {
    "duration": 40,
    "start_time": "2023-03-13T11:12:51.862Z"
   },
   {
    "duration": 34,
    "start_time": "2023-03-13T11:13:03.335Z"
   },
   {
    "duration": 23,
    "start_time": "2023-03-13T11:13:44.398Z"
   },
   {
    "duration": 26,
    "start_time": "2023-03-13T11:14:20.502Z"
   },
   {
    "duration": 42,
    "start_time": "2023-03-13T11:15:13.467Z"
   },
   {
    "duration": 10,
    "start_time": "2023-03-13T11:16:02.000Z"
   },
   {
    "duration": 10,
    "start_time": "2023-03-13T11:16:11.250Z"
   },
   {
    "duration": 20,
    "start_time": "2023-03-13T11:24:19.109Z"
   },
   {
    "duration": 20,
    "start_time": "2023-03-13T11:25:54.200Z"
   },
   {
    "duration": 9,
    "start_time": "2023-03-13T11:31:37.965Z"
   },
   {
    "duration": 9,
    "start_time": "2023-03-13T11:35:52.704Z"
   },
   {
    "duration": 8,
    "start_time": "2023-03-13T11:36:01.511Z"
   },
   {
    "duration": 8,
    "start_time": "2023-03-13T11:36:40.015Z"
   },
   {
    "duration": 8,
    "start_time": "2023-03-13T11:36:56.661Z"
   },
   {
    "duration": 10,
    "start_time": "2023-03-13T11:37:08.912Z"
   },
   {
    "duration": 64,
    "start_time": "2023-03-13T11:37:33.055Z"
   },
   {
    "duration": 22,
    "start_time": "2023-03-13T11:38:19.172Z"
   },
   {
    "duration": 25,
    "start_time": "2023-03-13T11:38:42.523Z"
   },
   {
    "duration": 29,
    "start_time": "2023-03-13T11:39:12.531Z"
   },
   {
    "duration": 27,
    "start_time": "2023-03-13T11:40:02.111Z"
   },
   {
    "duration": 4,
    "start_time": "2023-03-13T11:41:19.971Z"
   },
   {
    "duration": 6,
    "start_time": "2023-03-13T11:41:45.626Z"
   },
   {
    "duration": 4,
    "start_time": "2023-03-13T11:42:25.210Z"
   },
   {
    "duration": 1168,
    "start_time": "2023-03-13T11:43:47.766Z"
   },
   {
    "duration": 19,
    "start_time": "2023-03-13T11:44:16.805Z"
   },
   {
    "duration": 13,
    "start_time": "2023-03-13T11:47:03.382Z"
   },
   {
    "duration": 20,
    "start_time": "2023-03-13T11:47:26.343Z"
   },
   {
    "duration": 46,
    "start_time": "2023-03-13T15:49:11.772Z"
   },
   {
    "duration": 1339,
    "start_time": "2023-03-13T15:49:37.537Z"
   },
   {
    "duration": 120,
    "start_time": "2023-03-13T15:49:38.878Z"
   },
   {
    "duration": 14,
    "start_time": "2023-03-13T15:49:39.000Z"
   },
   {
    "duration": 46,
    "start_time": "2023-03-13T15:49:39.017Z"
   },
   {
    "duration": 35,
    "start_time": "2023-03-13T15:49:39.065Z"
   },
   {
    "duration": 27,
    "start_time": "2023-03-13T15:49:39.102Z"
   },
   {
    "duration": 42,
    "start_time": "2023-03-13T15:49:39.130Z"
   },
   {
    "duration": 59,
    "start_time": "2023-03-13T15:49:39.174Z"
   },
   {
    "duration": 38,
    "start_time": "2023-03-13T15:49:39.235Z"
   },
   {
    "duration": 49,
    "start_time": "2023-03-13T15:49:39.276Z"
   },
   {
    "duration": 10,
    "start_time": "2023-03-13T15:50:45.535Z"
   },
   {
    "duration": 11,
    "start_time": "2023-03-13T15:52:12.552Z"
   },
   {
    "duration": 14,
    "start_time": "2023-03-13T15:53:06.542Z"
   },
   {
    "duration": 10,
    "start_time": "2023-03-13T15:54:13.896Z"
   },
   {
    "duration": 5,
    "start_time": "2023-03-13T16:01:28.440Z"
   },
   {
    "duration": 720,
    "start_time": "2023-03-13T16:17:34.895Z"
   },
   {
    "duration": 4,
    "start_time": "2023-03-13T16:50:08.055Z"
   },
   {
    "duration": 11,
    "start_time": "2023-03-13T16:50:12.995Z"
   },
   {
    "duration": 5,
    "start_time": "2023-03-13T16:55:57.440Z"
   },
   {
    "duration": 15,
    "start_time": "2023-03-13T16:56:18.874Z"
   },
   {
    "duration": 4,
    "start_time": "2023-03-13T16:56:39.601Z"
   },
   {
    "duration": 9,
    "start_time": "2023-03-13T16:56:44.096Z"
   },
   {
    "duration": 4,
    "start_time": "2023-03-13T16:57:02.260Z"
   },
   {
    "duration": 3,
    "start_time": "2023-03-13T16:57:04.068Z"
   },
   {
    "duration": 8,
    "start_time": "2023-03-13T16:57:08.028Z"
   },
   {
    "duration": 3,
    "start_time": "2023-03-13T16:57:54.618Z"
   },
   {
    "duration": 5,
    "start_time": "2023-03-13T16:58:02.700Z"
   },
   {
    "duration": 9,
    "start_time": "2023-03-13T16:58:05.810Z"
   },
   {
    "duration": 12,
    "start_time": "2023-03-13T16:58:28.581Z"
   },
   {
    "duration": 4,
    "start_time": "2023-03-13T17:00:03.423Z"
   },
   {
    "duration": 12,
    "start_time": "2023-03-13T17:00:05.807Z"
   },
   {
    "duration": 4,
    "start_time": "2023-03-13T17:00:19.046Z"
   },
   {
    "duration": 4,
    "start_time": "2023-03-13T17:00:20.306Z"
   },
   {
    "duration": 10,
    "start_time": "2023-03-13T17:00:21.405Z"
   },
   {
    "duration": 10,
    "start_time": "2023-03-13T17:01:19.323Z"
   },
   {
    "duration": 4,
    "start_time": "2023-03-13T17:02:14.919Z"
   },
   {
    "duration": 9,
    "start_time": "2023-03-13T17:02:19.111Z"
   },
   {
    "duration": 1103,
    "start_time": "2023-03-13T17:02:29.893Z"
   },
   {
    "duration": 67,
    "start_time": "2023-03-13T17:02:30.998Z"
   },
   {
    "duration": 16,
    "start_time": "2023-03-13T17:02:31.066Z"
   },
   {
    "duration": 33,
    "start_time": "2023-03-13T17:02:31.084Z"
   },
   {
    "duration": 757,
    "start_time": "2023-03-13T17:02:31.119Z"
   },
   {
    "duration": 4,
    "start_time": "2023-03-13T17:02:31.878Z"
   },
   {
    "duration": 6,
    "start_time": "2023-03-13T17:02:31.883Z"
   },
   {
    "duration": 13,
    "start_time": "2023-03-13T17:02:31.890Z"
   },
   {
    "duration": 15,
    "start_time": "2023-03-13T17:02:31.905Z"
   },
   {
    "duration": 10,
    "start_time": "2023-03-13T17:02:31.922Z"
   },
   {
    "duration": 38,
    "start_time": "2023-03-13T17:02:31.933Z"
   },
   {
    "duration": 10,
    "start_time": "2023-03-13T17:02:31.973Z"
   },
   {
    "duration": 10,
    "start_time": "2023-03-13T17:02:31.985Z"
   },
   {
    "duration": 20,
    "start_time": "2023-03-13T17:02:31.998Z"
   },
   {
    "duration": 28,
    "start_time": "2023-03-13T17:02:32.020Z"
   },
   {
    "duration": 3,
    "start_time": "2023-03-13T17:03:39.894Z"
   },
   {
    "duration": 8,
    "start_time": "2023-03-13T17:03:41.256Z"
   },
   {
    "duration": 104,
    "start_time": "2023-03-13T17:08:21.318Z"
   },
   {
    "duration": 9,
    "start_time": "2023-03-13T17:08:39.994Z"
   },
   {
    "duration": 5,
    "start_time": "2023-03-13T17:10:18.840Z"
   },
   {
    "duration": 18,
    "start_time": "2023-03-13T17:10:24.096Z"
   },
   {
    "duration": 10,
    "start_time": "2023-03-13T17:11:05.006Z"
   },
   {
    "duration": 10,
    "start_time": "2023-03-13T17:11:09.534Z"
   },
   {
    "duration": 10,
    "start_time": "2023-03-13T17:22:36.516Z"
   },
   {
    "duration": 21,
    "start_time": "2023-03-13T17:34:12.729Z"
   },
   {
    "duration": 11,
    "start_time": "2023-03-13T17:34:28.675Z"
   },
   {
    "duration": 1068,
    "start_time": "2023-03-13T17:35:29.178Z"
   },
   {
    "duration": 68,
    "start_time": "2023-03-13T17:35:30.248Z"
   },
   {
    "duration": 14,
    "start_time": "2023-03-13T17:35:30.317Z"
   },
   {
    "duration": 40,
    "start_time": "2023-03-13T17:35:30.333Z"
   },
   {
    "duration": 723,
    "start_time": "2023-03-13T17:35:30.376Z"
   },
   {
    "duration": 4,
    "start_time": "2023-03-13T17:35:31.100Z"
   },
   {
    "duration": 30,
    "start_time": "2023-03-13T17:35:31.105Z"
   },
   {
    "duration": 23,
    "start_time": "2023-03-13T17:35:31.137Z"
   },
   {
    "duration": 39,
    "start_time": "2023-03-13T17:35:31.162Z"
   },
   {
    "duration": 24,
    "start_time": "2023-03-13T17:35:31.203Z"
   },
   {
    "duration": 33,
    "start_time": "2023-03-13T17:35:31.229Z"
   },
   {
    "duration": 31,
    "start_time": "2023-03-13T17:35:31.263Z"
   },
   {
    "duration": 8,
    "start_time": "2023-03-13T17:35:31.295Z"
   },
   {
    "duration": 109,
    "start_time": "2023-03-13T17:35:31.305Z"
   },
   {
    "duration": 0,
    "start_time": "2023-03-13T17:35:31.416Z"
   },
   {
    "duration": 0,
    "start_time": "2023-03-13T17:35:31.418Z"
   },
   {
    "duration": 0,
    "start_time": "2023-03-13T17:35:31.419Z"
   },
   {
    "duration": 8,
    "start_time": "2023-03-13T17:38:47.746Z"
   },
   {
    "duration": 9,
    "start_time": "2023-03-13T17:38:54.587Z"
   },
   {
    "duration": 5,
    "start_time": "2023-03-13T17:39:20.195Z"
   },
   {
    "duration": 18,
    "start_time": "2023-03-13T17:39:45.347Z"
   },
   {
    "duration": 7,
    "start_time": "2023-03-13T17:44:41.027Z"
   },
   {
    "duration": 5,
    "start_time": "2023-03-13T17:46:44.310Z"
   },
   {
    "duration": 8,
    "start_time": "2023-03-13T17:46:45.776Z"
   },
   {
    "duration": 4,
    "start_time": "2023-03-13T17:49:15.039Z"
   },
   {
    "duration": 10,
    "start_time": "2023-03-13T17:49:19.401Z"
   },
   {
    "duration": 23,
    "start_time": "2023-03-13T17:55:46.619Z"
   },
   {
    "duration": 13,
    "start_time": "2023-03-13T17:56:21.429Z"
   },
   {
    "duration": 3,
    "start_time": "2023-03-13T17:57:54.186Z"
   },
   {
    "duration": 13,
    "start_time": "2023-03-13T17:57:57.626Z"
   },
   {
    "duration": 13,
    "start_time": "2023-03-13T17:58:03.091Z"
   },
   {
    "duration": 2,
    "start_time": "2023-03-13T17:58:41.210Z"
   },
   {
    "duration": 9,
    "start_time": "2023-03-13T17:58:43.952Z"
   },
   {
    "duration": 4,
    "start_time": "2023-03-13T17:58:52.698Z"
   },
   {
    "duration": 3,
    "start_time": "2023-03-13T18:05:54.513Z"
   },
   {
    "duration": 13,
    "start_time": "2023-03-13T18:06:01.241Z"
   },
   {
    "duration": 7,
    "start_time": "2023-03-13T18:06:09.687Z"
   },
   {
    "duration": 10,
    "start_time": "2023-03-13T18:07:05.090Z"
   },
   {
    "duration": 9,
    "start_time": "2023-03-13T18:07:53.434Z"
   },
   {
    "duration": 1206,
    "start_time": "2023-03-13T18:08:09.593Z"
   },
   {
    "duration": 71,
    "start_time": "2023-03-13T18:08:10.801Z"
   },
   {
    "duration": 20,
    "start_time": "2023-03-13T18:08:10.874Z"
   },
   {
    "duration": 16,
    "start_time": "2023-03-13T18:08:10.896Z"
   },
   {
    "duration": 782,
    "start_time": "2023-03-13T18:08:10.914Z"
   },
   {
    "duration": 3,
    "start_time": "2023-03-13T18:08:11.698Z"
   },
   {
    "duration": 8,
    "start_time": "2023-03-13T18:08:11.703Z"
   },
   {
    "duration": 21,
    "start_time": "2023-03-13T18:08:11.712Z"
   },
   {
    "duration": 15,
    "start_time": "2023-03-13T18:08:11.734Z"
   },
   {
    "duration": 25,
    "start_time": "2023-03-13T18:08:11.751Z"
   },
   {
    "duration": 27,
    "start_time": "2023-03-13T18:08:11.778Z"
   },
   {
    "duration": 10,
    "start_time": "2023-03-13T18:08:11.807Z"
   },
   {
    "duration": 110,
    "start_time": "2023-03-13T18:08:11.819Z"
   },
   {
    "duration": 0,
    "start_time": "2023-03-13T18:08:11.931Z"
   },
   {
    "duration": 0,
    "start_time": "2023-03-13T18:08:11.932Z"
   },
   {
    "duration": 0,
    "start_time": "2023-03-13T18:08:11.934Z"
   },
   {
    "duration": 0,
    "start_time": "2023-03-13T18:08:11.935Z"
   },
   {
    "duration": 0,
    "start_time": "2023-03-13T18:08:11.936Z"
   },
   {
    "duration": 8,
    "start_time": "2023-03-13T18:08:55.410Z"
   },
   {
    "duration": 4,
    "start_time": "2023-03-13T18:08:58.930Z"
   },
   {
    "duration": 14,
    "start_time": "2023-03-13T18:09:00.809Z"
   },
   {
    "duration": 10,
    "start_time": "2023-03-13T18:09:05.426Z"
   },
   {
    "duration": 7,
    "start_time": "2023-03-13T18:22:33.430Z"
   },
   {
    "duration": 3,
    "start_time": "2023-03-13T18:22:40.216Z"
   },
   {
    "duration": 8,
    "start_time": "2023-03-13T18:22:41.596Z"
   },
   {
    "duration": 11,
    "start_time": "2023-03-13T18:25:01.789Z"
   },
   {
    "duration": 1069,
    "start_time": "2023-03-13T18:25:13.090Z"
   },
   {
    "duration": 67,
    "start_time": "2023-03-13T18:25:14.161Z"
   },
   {
    "duration": 14,
    "start_time": "2023-03-13T18:25:14.229Z"
   },
   {
    "duration": 14,
    "start_time": "2023-03-13T18:25:14.245Z"
   },
   {
    "duration": 708,
    "start_time": "2023-03-13T18:25:14.261Z"
   },
   {
    "duration": 3,
    "start_time": "2023-03-13T18:25:14.971Z"
   },
   {
    "duration": 5,
    "start_time": "2023-03-13T18:25:14.976Z"
   },
   {
    "duration": 13,
    "start_time": "2023-03-13T18:25:14.982Z"
   },
   {
    "duration": 15,
    "start_time": "2023-03-13T18:25:14.996Z"
   },
   {
    "duration": 24,
    "start_time": "2023-03-13T18:25:15.014Z"
   },
   {
    "duration": 26,
    "start_time": "2023-03-13T18:25:15.040Z"
   },
   {
    "duration": 3,
    "start_time": "2023-03-13T18:25:15.067Z"
   },
   {
    "duration": 31,
    "start_time": "2023-03-13T18:25:15.071Z"
   },
   {
    "duration": 6,
    "start_time": "2023-03-13T18:25:15.103Z"
   },
   {
    "duration": 15,
    "start_time": "2023-03-13T18:25:15.111Z"
   },
   {
    "duration": 7,
    "start_time": "2023-03-13T18:25:15.128Z"
   },
   {
    "duration": 13,
    "start_time": "2023-03-13T18:25:15.137Z"
   },
   {
    "duration": 20,
    "start_time": "2023-03-13T18:25:15.152Z"
   },
   {
    "duration": 20,
    "start_time": "2023-03-13T18:25:15.173Z"
   },
   {
    "duration": 32,
    "start_time": "2023-03-13T18:37:45.798Z"
   },
   {
    "duration": 29,
    "start_time": "2023-03-13T18:42:49.799Z"
   },
   {
    "duration": 16,
    "start_time": "2023-03-13T18:43:34.690Z"
   },
   {
    "duration": 15,
    "start_time": "2023-03-13T18:50:39.948Z"
   },
   {
    "duration": 21,
    "start_time": "2023-03-13T18:51:50.723Z"
   },
   {
    "duration": 15,
    "start_time": "2023-03-13T18:52:07.738Z"
   },
   {
    "duration": 17,
    "start_time": "2023-03-13T18:53:51.573Z"
   },
   {
    "duration": 13,
    "start_time": "2023-03-13T18:56:01.430Z"
   },
   {
    "duration": 16,
    "start_time": "2023-03-13T18:58:18.205Z"
   },
   {
    "duration": 14,
    "start_time": "2023-03-13T18:59:31.834Z"
   },
   {
    "duration": 9,
    "start_time": "2023-03-13T19:00:25.915Z"
   },
   {
    "duration": 20,
    "start_time": "2023-03-13T19:01:33.906Z"
   },
   {
    "duration": 24,
    "start_time": "2023-03-13T19:03:43.496Z"
   },
   {
    "duration": 92,
    "start_time": "2023-03-13T19:21:57.698Z"
   },
   {
    "duration": 211,
    "start_time": "2023-03-13T19:22:50.497Z"
   },
   {
    "duration": 186,
    "start_time": "2023-03-13T19:27:44.403Z"
   },
   {
    "duration": 14,
    "start_time": "2023-03-13T19:55:59.642Z"
   },
   {
    "duration": 16,
    "start_time": "2023-03-13T19:56:40.588Z"
   },
   {
    "duration": 16,
    "start_time": "2023-03-13T20:02:53.600Z"
   },
   {
    "duration": 14,
    "start_time": "2023-03-13T20:03:59.273Z"
   },
   {
    "duration": 2,
    "start_time": "2023-03-13T20:07:30.888Z"
   },
   {
    "duration": 16,
    "start_time": "2023-03-13T20:09:59.791Z"
   },
   {
    "duration": 13,
    "start_time": "2023-03-13T20:11:39.237Z"
   },
   {
    "duration": 14,
    "start_time": "2023-03-13T20:12:10.336Z"
   },
   {
    "duration": 14,
    "start_time": "2023-03-13T20:13:01.545Z"
   },
   {
    "duration": 16,
    "start_time": "2023-03-13T20:15:14.746Z"
   },
   {
    "duration": 13,
    "start_time": "2023-03-13T20:17:03.992Z"
   },
   {
    "duration": 14,
    "start_time": "2023-03-13T20:18:09.908Z"
   },
   {
    "duration": 9,
    "start_time": "2023-03-13T20:22:17.677Z"
   },
   {
    "duration": 8,
    "start_time": "2023-03-13T20:22:46.883Z"
   },
   {
    "duration": 9,
    "start_time": "2023-03-13T20:22:51.975Z"
   },
   {
    "duration": 8,
    "start_time": "2023-03-13T20:24:22.621Z"
   },
   {
    "duration": 10,
    "start_time": "2023-03-13T20:24:38.492Z"
   },
   {
    "duration": 54,
    "start_time": "2023-03-13T20:44:56.118Z"
   },
   {
    "duration": 45,
    "start_time": "2023-03-13T20:45:14.055Z"
   },
   {
    "duration": 46,
    "start_time": "2023-03-13T20:46:02.192Z"
   },
   {
    "duration": 47,
    "start_time": "2023-03-13T20:46:14.540Z"
   },
   {
    "duration": 56,
    "start_time": "2023-03-13T20:46:45.492Z"
   },
   {
    "duration": 43,
    "start_time": "2023-03-13T20:47:28.976Z"
   },
   {
    "duration": 40,
    "start_time": "2023-03-13T20:48:19.213Z"
   },
   {
    "duration": 38,
    "start_time": "2023-03-13T20:48:25.992Z"
   },
   {
    "duration": 45,
    "start_time": "2023-03-13T20:49:54.817Z"
   },
   {
    "duration": 47,
    "start_time": "2023-03-13T20:50:12.626Z"
   },
   {
    "duration": 45,
    "start_time": "2023-03-13T20:50:30.767Z"
   },
   {
    "duration": 49,
    "start_time": "2023-03-13T20:51:14.593Z"
   },
   {
    "duration": 44,
    "start_time": "2023-03-13T20:52:38.941Z"
   },
   {
    "duration": 50,
    "start_time": "2023-03-13T20:53:01.939Z"
   },
   {
    "duration": 46,
    "start_time": "2023-03-13T20:53:09.215Z"
   },
   {
    "duration": 48,
    "start_time": "2023-03-13T20:53:50.571Z"
   },
   {
    "duration": 37,
    "start_time": "2023-03-13T20:54:14.608Z"
   },
   {
    "duration": 46,
    "start_time": "2023-03-14T08:13:38.154Z"
   },
   {
    "duration": 1351,
    "start_time": "2023-03-14T08:13:45.904Z"
   },
   {
    "duration": 237,
    "start_time": "2023-03-14T08:13:47.258Z"
   },
   {
    "duration": 17,
    "start_time": "2023-03-14T08:13:47.497Z"
   },
   {
    "duration": 39,
    "start_time": "2023-03-14T08:13:47.516Z"
   },
   {
    "duration": 802,
    "start_time": "2023-03-14T08:13:47.558Z"
   },
   {
    "duration": 3,
    "start_time": "2023-03-14T08:13:48.362Z"
   },
   {
    "duration": 6,
    "start_time": "2023-03-14T08:13:48.367Z"
   },
   {
    "duration": 13,
    "start_time": "2023-03-14T08:13:48.374Z"
   },
   {
    "duration": 20,
    "start_time": "2023-03-14T08:13:48.390Z"
   },
   {
    "duration": 43,
    "start_time": "2023-03-14T08:13:48.412Z"
   },
   {
    "duration": 10,
    "start_time": "2023-03-14T08:13:48.458Z"
   },
   {
    "duration": 2,
    "start_time": "2023-03-14T08:13:48.470Z"
   },
   {
    "duration": 46,
    "start_time": "2023-03-14T08:13:48.474Z"
   },
   {
    "duration": 34,
    "start_time": "2023-03-14T08:13:48.523Z"
   },
   {
    "duration": 27,
    "start_time": "2023-03-14T08:13:48.559Z"
   },
   {
    "duration": 15,
    "start_time": "2023-03-14T08:13:48.587Z"
   },
   {
    "duration": 96,
    "start_time": "2023-03-14T08:13:48.604Z"
   },
   {
    "duration": 0,
    "start_time": "2023-03-14T08:13:48.702Z"
   },
   {
    "duration": 0,
    "start_time": "2023-03-14T08:13:48.703Z"
   },
   {
    "duration": 0,
    "start_time": "2023-03-14T08:13:48.704Z"
   },
   {
    "duration": 0,
    "start_time": "2023-03-14T08:13:48.705Z"
   },
   {
    "duration": 0,
    "start_time": "2023-03-14T08:13:48.706Z"
   },
   {
    "duration": 0,
    "start_time": "2023-03-14T08:13:48.707Z"
   },
   {
    "duration": 0,
    "start_time": "2023-03-14T08:13:48.708Z"
   },
   {
    "duration": 0,
    "start_time": "2023-03-14T08:13:48.709Z"
   },
   {
    "duration": 0,
    "start_time": "2023-03-14T08:13:48.710Z"
   },
   {
    "duration": 0,
    "start_time": "2023-03-14T08:13:48.711Z"
   },
   {
    "duration": 0,
    "start_time": "2023-03-14T08:13:48.712Z"
   },
   {
    "duration": 0,
    "start_time": "2023-03-14T08:13:48.714Z"
   },
   {
    "duration": 41,
    "start_time": "2023-03-14T08:18:58.736Z"
   },
   {
    "duration": 3,
    "start_time": "2023-03-14T08:20:26.270Z"
   },
   {
    "duration": 15,
    "start_time": "2023-03-14T08:20:27.420Z"
   },
   {
    "duration": 15,
    "start_time": "2023-03-14T08:20:29.097Z"
   },
   {
    "duration": 16,
    "start_time": "2023-03-14T08:20:29.966Z"
   },
   {
    "duration": 28,
    "start_time": "2023-03-14T08:20:30.834Z"
   },
   {
    "duration": 20,
    "start_time": "2023-03-14T08:20:31.600Z"
   },
   {
    "duration": 33,
    "start_time": "2023-03-14T08:20:32.433Z"
   },
   {
    "duration": 2,
    "start_time": "2023-03-14T08:20:33.177Z"
   },
   {
    "duration": 12,
    "start_time": "2023-03-14T08:20:33.871Z"
   },
   {
    "duration": 9,
    "start_time": "2023-03-14T08:20:34.697Z"
   },
   {
    "duration": 11,
    "start_time": "2023-03-14T08:20:36.265Z"
   },
   {
    "duration": 11,
    "start_time": "2023-03-14T08:26:58.266Z"
   },
   {
    "duration": 26,
    "start_time": "2023-03-14T08:27:13.663Z"
   },
   {
    "duration": 110,
    "start_time": "2023-03-14T08:30:08.583Z"
   },
   {
    "duration": 14,
    "start_time": "2023-03-14T08:30:31.531Z"
   },
   {
    "duration": 10,
    "start_time": "2023-03-14T08:30:36.462Z"
   },
   {
    "duration": 82,
    "start_time": "2023-03-14T08:30:58.499Z"
   },
   {
    "duration": 7,
    "start_time": "2023-03-14T08:32:10.203Z"
   },
   {
    "duration": 5,
    "start_time": "2023-03-14T08:32:48.499Z"
   },
   {
    "duration": 5,
    "start_time": "2023-03-14T08:32:52.771Z"
   },
   {
    "duration": 24,
    "start_time": "2023-03-14T08:33:04.296Z"
   },
   {
    "duration": 26,
    "start_time": "2023-03-14T08:33:32.860Z"
   },
   {
    "duration": 5,
    "start_time": "2023-03-14T08:56:07.711Z"
   },
   {
    "duration": 5,
    "start_time": "2023-03-14T08:56:15.958Z"
   },
   {
    "duration": 22,
    "start_time": "2023-03-14T08:56:36.724Z"
   },
   {
    "duration": 20,
    "start_time": "2023-03-14T08:56:53.397Z"
   },
   {
    "duration": 10,
    "start_time": "2023-03-14T09:01:13.215Z"
   },
   {
    "duration": 28,
    "start_time": "2023-03-14T09:01:25.462Z"
   },
   {
    "duration": 9,
    "start_time": "2023-03-14T09:07:01.552Z"
   },
   {
    "duration": 14,
    "start_time": "2023-03-14T09:07:24.442Z"
   },
   {
    "duration": 15,
    "start_time": "2023-03-14T09:07:37.658Z"
   },
   {
    "duration": 9,
    "start_time": "2023-03-14T09:08:05.640Z"
   },
   {
    "duration": 16,
    "start_time": "2023-03-14T09:08:49.661Z"
   },
   {
    "duration": 23,
    "start_time": "2023-03-14T09:09:03.191Z"
   },
   {
    "duration": 9,
    "start_time": "2023-03-14T09:10:52.144Z"
   },
   {
    "duration": 9,
    "start_time": "2023-03-14T09:11:09.023Z"
   },
   {
    "duration": 29,
    "start_time": "2023-03-14T09:11:19.737Z"
   },
   {
    "duration": 18,
    "start_time": "2023-03-14T09:12:20.006Z"
   },
   {
    "duration": 10,
    "start_time": "2023-03-14T09:12:28.662Z"
   },
   {
    "duration": 19,
    "start_time": "2023-03-14T09:13:19.393Z"
   },
   {
    "duration": 12,
    "start_time": "2023-03-14T09:30:06.799Z"
   },
   {
    "duration": 9,
    "start_time": "2023-03-14T09:33:04.695Z"
   },
   {
    "duration": 12,
    "start_time": "2023-03-14T09:33:26.427Z"
   },
   {
    "duration": 14,
    "start_time": "2023-03-14T09:35:06.903Z"
   },
   {
    "duration": 11,
    "start_time": "2023-03-14T09:36:21.215Z"
   },
   {
    "duration": 14,
    "start_time": "2023-03-14T09:38:02.253Z"
   },
   {
    "duration": 26,
    "start_time": "2023-03-14T09:39:51.923Z"
   },
   {
    "duration": 12,
    "start_time": "2023-03-14T09:51:59.109Z"
   },
   {
    "duration": 10,
    "start_time": "2023-03-14T09:52:15.616Z"
   },
   {
    "duration": 28,
    "start_time": "2023-03-14T09:52:51.472Z"
   },
   {
    "duration": 20,
    "start_time": "2023-03-14T09:53:59.152Z"
   },
   {
    "duration": 19,
    "start_time": "2023-03-14T09:54:21.420Z"
   },
   {
    "duration": 4,
    "start_time": "2023-03-14T09:57:31.563Z"
   },
   {
    "duration": 12,
    "start_time": "2023-03-14T09:58:34.501Z"
   },
   {
    "duration": 13,
    "start_time": "2023-03-14T10:07:31.262Z"
   },
   {
    "duration": 5,
    "start_time": "2023-03-14T10:18:06.227Z"
   },
   {
    "duration": 20,
    "start_time": "2023-03-14T10:18:11.504Z"
   },
   {
    "duration": 12,
    "start_time": "2023-03-14T10:22:27.415Z"
   },
   {
    "duration": 12,
    "start_time": "2023-03-14T10:24:00.207Z"
   },
   {
    "duration": 9,
    "start_time": "2023-03-14T10:24:10.896Z"
   },
   {
    "duration": 11,
    "start_time": "2023-03-14T10:30:16.894Z"
   },
   {
    "duration": 42,
    "start_time": "2023-03-14T12:19:56.946Z"
   },
   {
    "duration": 4,
    "start_time": "2023-03-14T12:21:57.190Z"
   },
   {
    "duration": 57,
    "start_time": "2023-03-14T12:31:10.282Z"
   },
   {
    "duration": 65,
    "start_time": "2023-03-14T12:32:12.984Z"
   },
   {
    "duration": 35,
    "start_time": "2023-03-14T12:34:41.957Z"
   },
   {
    "duration": 18,
    "start_time": "2023-03-14T12:38:49.902Z"
   },
   {
    "duration": 829,
    "start_time": "2023-03-14T12:39:49.400Z"
   },
   {
    "duration": 185,
    "start_time": "2023-03-14T12:40:26.206Z"
   },
   {
    "duration": 9,
    "start_time": "2023-03-14T12:40:50.805Z"
   },
   {
    "duration": 15,
    "start_time": "2023-03-14T12:42:20.169Z"
   },
   {
    "duration": 40,
    "start_time": "2023-03-14T12:42:54.775Z"
   },
   {
    "duration": 25,
    "start_time": "2023-03-14T12:43:06.651Z"
   },
   {
    "duration": 20,
    "start_time": "2023-03-14T12:43:17.935Z"
   },
   {
    "duration": 5,
    "start_time": "2023-03-14T12:49:21.522Z"
   },
   {
    "duration": 14,
    "start_time": "2023-03-14T12:51:23.306Z"
   },
   {
    "duration": 4,
    "start_time": "2023-03-14T12:51:31.842Z"
   },
   {
    "duration": 5,
    "start_time": "2023-03-14T12:52:12.119Z"
   },
   {
    "duration": 37,
    "start_time": "2023-03-14T12:56:53.283Z"
   },
   {
    "duration": 33,
    "start_time": "2023-03-14T12:57:27.503Z"
   },
   {
    "duration": 36,
    "start_time": "2023-03-14T12:57:46.382Z"
   },
   {
    "duration": 8,
    "start_time": "2023-03-14T13:00:46.200Z"
   },
   {
    "duration": 10,
    "start_time": "2023-03-14T13:02:08.105Z"
   },
   {
    "duration": 14,
    "start_time": "2023-03-14T13:02:13.449Z"
   },
   {
    "duration": 69,
    "start_time": "2023-03-14T13:06:30.312Z"
   },
   {
    "duration": 126,
    "start_time": "2023-03-14T13:09:21.489Z"
   },
   {
    "duration": 113,
    "start_time": "2023-03-14T13:10:39.701Z"
   },
   {
    "duration": 128,
    "start_time": "2023-03-14T13:11:16.536Z"
   },
   {
    "duration": 148,
    "start_time": "2023-03-14T13:13:02.463Z"
   },
   {
    "duration": 51,
    "start_time": "2023-03-14T13:15:46.239Z"
   },
   {
    "duration": 41,
    "start_time": "2023-03-14T13:17:15.363Z"
   },
   {
    "duration": 156,
    "start_time": "2023-03-14T13:18:30.836Z"
   },
   {
    "duration": 43,
    "start_time": "2023-03-14T13:18:54.883Z"
   },
   {
    "duration": 121,
    "start_time": "2023-03-14T13:21:56.306Z"
   },
   {
    "duration": 119,
    "start_time": "2023-03-14T13:23:01.112Z"
   },
   {
    "duration": 100,
    "start_time": "2023-03-14T13:23:07.172Z"
   },
   {
    "duration": 102,
    "start_time": "2023-03-14T13:25:03.509Z"
   },
   {
    "duration": 41,
    "start_time": "2023-03-14T13:27:02.170Z"
   },
   {
    "duration": 22,
    "start_time": "2023-03-14T13:28:31.608Z"
   },
   {
    "duration": 31,
    "start_time": "2023-03-14T13:29:26.728Z"
   },
   {
    "duration": 23,
    "start_time": "2023-03-14T13:29:49.601Z"
   },
   {
    "duration": 19,
    "start_time": "2023-03-14T13:33:44.609Z"
   },
   {
    "duration": 21,
    "start_time": "2023-03-14T13:34:09.411Z"
   },
   {
    "duration": 1701,
    "start_time": "2023-03-14T13:39:14.374Z"
   },
   {
    "duration": 2009,
    "start_time": "2023-03-14T13:41:13.120Z"
   },
   {
    "duration": 25,
    "start_time": "2023-03-14T13:43:54.162Z"
   },
   {
    "duration": 31,
    "start_time": "2023-03-14T13:44:53.265Z"
   },
   {
    "duration": 10,
    "start_time": "2023-03-14T13:45:34.318Z"
   },
   {
    "duration": 32,
    "start_time": "2023-03-14T13:45:59.031Z"
   },
   {
    "duration": 9,
    "start_time": "2023-03-14T13:46:24.987Z"
   },
   {
    "duration": 25,
    "start_time": "2023-03-14T13:47:01.869Z"
   },
   {
    "duration": 374,
    "start_time": "2023-03-14T13:51:22.541Z"
   },
   {
    "duration": 3,
    "start_time": "2023-03-14T13:52:04.411Z"
   },
   {
    "duration": 11,
    "start_time": "2023-03-14T13:52:28.813Z"
   },
   {
    "duration": 8,
    "start_time": "2023-03-14T13:54:18.160Z"
   },
   {
    "duration": 9,
    "start_time": "2023-03-14T13:54:19.128Z"
   },
   {
    "duration": 14,
    "start_time": "2023-03-14T13:55:06.454Z"
   },
   {
    "duration": 12,
    "start_time": "2023-03-14T13:55:23.324Z"
   },
   {
    "duration": 14,
    "start_time": "2023-03-14T13:55:49.532Z"
   },
   {
    "duration": 20,
    "start_time": "2023-03-14T13:55:51.031Z"
   },
   {
    "duration": 10,
    "start_time": "2023-03-14T13:56:42.917Z"
   },
   {
    "duration": 27,
    "start_time": "2023-03-14T14:01:26.465Z"
   },
   {
    "duration": 3,
    "start_time": "2023-03-14T14:01:27.623Z"
   },
   {
    "duration": 21,
    "start_time": "2023-03-14T14:01:29.943Z"
   },
   {
    "duration": 16,
    "start_time": "2023-03-14T14:02:34.493Z"
   },
   {
    "duration": 17,
    "start_time": "2023-03-14T14:28:03.254Z"
   },
   {
    "duration": 11,
    "start_time": "2023-03-14T14:28:51.915Z"
   },
   {
    "duration": 221,
    "start_time": "2023-03-14T14:35:31.037Z"
   },
   {
    "duration": 113,
    "start_time": "2023-03-14T14:36:54.091Z"
   },
   {
    "duration": 10,
    "start_time": "2023-03-14T14:37:20.771Z"
   },
   {
    "duration": 411,
    "start_time": "2023-03-14T14:37:44.506Z"
   },
   {
    "duration": 9,
    "start_time": "2023-03-14T14:44:17.585Z"
   },
   {
    "duration": 13,
    "start_time": "2023-03-14T14:45:05.959Z"
   },
   {
    "duration": 9,
    "start_time": "2023-03-14T14:46:15.725Z"
   },
   {
    "duration": 21,
    "start_time": "2023-03-14T14:55:05.673Z"
   },
   {
    "duration": 54,
    "start_time": "2023-03-15T07:32:20.727Z"
   },
   {
    "duration": 6,
    "start_time": "2023-03-15T07:32:44.917Z"
   },
   {
    "duration": 1393,
    "start_time": "2023-03-15T07:32:55.542Z"
   },
   {
    "duration": 115,
    "start_time": "2023-03-15T07:32:56.937Z"
   },
   {
    "duration": 15,
    "start_time": "2023-03-15T07:32:57.054Z"
   },
   {
    "duration": 25,
    "start_time": "2023-03-15T07:32:57.071Z"
   },
   {
    "duration": 772,
    "start_time": "2023-03-15T07:32:57.098Z"
   },
   {
    "duration": 3,
    "start_time": "2023-03-15T07:32:57.873Z"
   },
   {
    "duration": 20,
    "start_time": "2023-03-15T07:32:57.877Z"
   },
   {
    "duration": 10,
    "start_time": "2023-03-15T07:32:57.898Z"
   },
   {
    "duration": 10,
    "start_time": "2023-03-15T07:32:57.909Z"
   },
   {
    "duration": 20,
    "start_time": "2023-03-15T07:32:57.921Z"
   },
   {
    "duration": 18,
    "start_time": "2023-03-15T07:32:57.943Z"
   },
   {
    "duration": 16,
    "start_time": "2023-03-15T07:32:57.963Z"
   },
   {
    "duration": 14,
    "start_time": "2023-03-15T07:32:57.991Z"
   },
   {
    "duration": 17,
    "start_time": "2023-03-15T07:32:58.007Z"
   },
   {
    "duration": 9,
    "start_time": "2023-03-15T07:32:58.026Z"
   },
   {
    "duration": 13,
    "start_time": "2023-03-15T07:32:58.037Z"
   },
   {
    "duration": 49,
    "start_time": "2023-03-15T07:32:58.051Z"
   },
   {
    "duration": 21,
    "start_time": "2023-03-15T07:32:58.102Z"
   },
   {
    "duration": 19,
    "start_time": "2023-03-15T07:32:58.125Z"
   },
   {
    "duration": 4,
    "start_time": "2023-03-15T07:32:58.146Z"
   },
   {
    "duration": 45,
    "start_time": "2023-03-15T07:32:58.152Z"
   },
   {
    "duration": 26,
    "start_time": "2023-03-15T07:32:58.199Z"
   },
   {
    "duration": 17,
    "start_time": "2023-03-15T07:32:58.227Z"
   },
   {
    "duration": 16,
    "start_time": "2023-03-15T07:32:58.246Z"
   },
   {
    "duration": 39,
    "start_time": "2023-03-15T07:32:58.263Z"
   },
   {
    "duration": 17,
    "start_time": "2023-03-15T07:32:58.304Z"
   },
   {
    "duration": 6,
    "start_time": "2023-03-15T07:32:58.323Z"
   },
   {
    "duration": 15,
    "start_time": "2023-03-15T07:32:58.332Z"
   },
   {
    "duration": 9,
    "start_time": "2023-03-15T07:32:58.349Z"
   },
   {
    "duration": 41,
    "start_time": "2023-03-15T07:32:58.359Z"
   },
   {
    "duration": 16,
    "start_time": "2023-03-15T07:32:58.401Z"
   },
   {
    "duration": 15,
    "start_time": "2023-03-15T07:32:58.419Z"
   },
   {
    "duration": 22,
    "start_time": "2023-03-15T07:32:58.436Z"
   },
   {
    "duration": 11,
    "start_time": "2023-03-15T07:32:58.489Z"
   },
   {
    "duration": 95,
    "start_time": "2023-03-15T07:32:58.502Z"
   },
   {
    "duration": 10,
    "start_time": "2023-03-15T07:32:58.599Z"
   },
   {
    "duration": 32,
    "start_time": "2023-03-15T07:32:58.611Z"
   },
   {
    "duration": 4,
    "start_time": "2023-03-15T07:32:58.645Z"
   },
   {
    "duration": 32,
    "start_time": "2023-03-15T07:32:58.651Z"
   },
   {
    "duration": 12,
    "start_time": "2023-03-15T07:32:58.689Z"
   },
   {
    "duration": 5,
    "start_time": "2023-03-15T07:32:58.702Z"
   },
   {
    "duration": 20,
    "start_time": "2023-03-15T07:32:58.708Z"
   },
   {
    "duration": 10,
    "start_time": "2023-03-15T07:32:58.729Z"
   },
   {
    "duration": 114,
    "start_time": "2023-03-15T07:32:58.740Z"
   },
   {
    "duration": 0,
    "start_time": "2023-03-15T07:32:58.856Z"
   },
   {
    "duration": 0,
    "start_time": "2023-03-15T07:32:58.857Z"
   },
   {
    "duration": 0,
    "start_time": "2023-03-15T07:32:58.858Z"
   },
   {
    "duration": 0,
    "start_time": "2023-03-15T07:32:58.859Z"
   },
   {
    "duration": 0,
    "start_time": "2023-03-15T07:32:58.861Z"
   },
   {
    "duration": 0,
    "start_time": "2023-03-15T07:32:58.861Z"
   },
   {
    "duration": 0,
    "start_time": "2023-03-15T07:32:58.862Z"
   },
   {
    "duration": 0,
    "start_time": "2023-03-15T07:32:58.864Z"
   },
   {
    "duration": 0,
    "start_time": "2023-03-15T07:32:58.865Z"
   },
   {
    "duration": 0,
    "start_time": "2023-03-15T07:32:58.866Z"
   },
   {
    "duration": 0,
    "start_time": "2023-03-15T07:32:58.890Z"
   },
   {
    "duration": 8,
    "start_time": "2023-03-15T07:37:38.826Z"
   },
   {
    "duration": 18,
    "start_time": "2023-03-15T07:41:08.357Z"
   },
   {
    "duration": 16,
    "start_time": "2023-03-15T07:44:30.501Z"
   },
   {
    "duration": 216,
    "start_time": "2023-03-15T07:47:07.905Z"
   },
   {
    "duration": 3,
    "start_time": "2023-03-15T07:47:40.567Z"
   },
   {
    "duration": 3,
    "start_time": "2023-03-15T07:47:45.119Z"
   },
   {
    "duration": 10,
    "start_time": "2023-03-15T07:48:16.058Z"
   },
   {
    "duration": 10,
    "start_time": "2023-03-15T07:49:16.145Z"
   },
   {
    "duration": 56,
    "start_time": "2023-03-15T07:50:00.703Z"
   },
   {
    "duration": 43,
    "start_time": "2023-03-15T07:50:06.133Z"
   },
   {
    "duration": 9,
    "start_time": "2023-03-15T07:50:10.703Z"
   },
   {
    "duration": 15,
    "start_time": "2023-03-15T07:51:53.316Z"
   },
   {
    "duration": 3,
    "start_time": "2023-03-15T07:51:54.874Z"
   },
   {
    "duration": 4,
    "start_time": "2023-03-15T07:54:12.442Z"
   },
   {
    "duration": 167,
    "start_time": "2023-03-15T07:56:03.122Z"
   },
   {
    "duration": 951,
    "start_time": "2023-03-15T07:56:38.111Z"
   },
   {
    "duration": 10,
    "start_time": "2023-03-15T07:57:16.894Z"
   },
   {
    "duration": 212,
    "start_time": "2023-03-15T07:58:32.007Z"
   },
   {
    "duration": 10,
    "start_time": "2023-03-15T08:01:28.814Z"
   },
   {
    "duration": 193,
    "start_time": "2023-03-15T08:01:58.409Z"
   },
   {
    "duration": 192,
    "start_time": "2023-03-15T08:03:41.994Z"
   },
   {
    "duration": 268,
    "start_time": "2023-03-15T08:05:15.727Z"
   },
   {
    "duration": 195,
    "start_time": "2023-03-15T08:05:30.115Z"
   },
   {
    "duration": 207,
    "start_time": "2023-03-15T08:06:55.609Z"
   },
   {
    "duration": 193,
    "start_time": "2023-03-15T08:07:18.160Z"
   },
   {
    "duration": 204,
    "start_time": "2023-03-15T08:20:27.373Z"
   },
   {
    "duration": 187,
    "start_time": "2023-03-15T08:20:42.752Z"
   },
   {
    "duration": 235,
    "start_time": "2023-03-15T08:21:47.944Z"
   },
   {
    "duration": 219,
    "start_time": "2023-03-15T08:23:24.074Z"
   },
   {
    "duration": 268,
    "start_time": "2023-03-15T08:23:38.355Z"
   },
   {
    "duration": 216,
    "start_time": "2023-03-15T08:26:41.446Z"
   },
   {
    "duration": 208,
    "start_time": "2023-03-15T08:30:11.308Z"
   },
   {
    "duration": 302,
    "start_time": "2023-03-15T08:30:13.607Z"
   },
   {
    "duration": 212,
    "start_time": "2023-03-15T08:30:15.252Z"
   },
   {
    "duration": 252,
    "start_time": "2023-03-15T08:49:10.911Z"
   },
   {
    "duration": 83,
    "start_time": "2023-03-15T08:52:31.118Z"
   },
   {
    "duration": 45,
    "start_time": "2023-03-15T08:53:04.008Z"
   },
   {
    "duration": 58,
    "start_time": "2023-03-15T08:53:25.110Z"
   },
   {
    "duration": 61,
    "start_time": "2023-03-15T08:53:45.110Z"
   },
   {
    "duration": 50,
    "start_time": "2023-03-15T08:54:16.133Z"
   },
   {
    "duration": 43,
    "start_time": "2023-03-15T08:56:31.894Z"
   },
   {
    "duration": 158,
    "start_time": "2023-03-15T08:56:51.179Z"
   },
   {
    "duration": 50,
    "start_time": "2023-03-15T08:57:22.754Z"
   },
   {
    "duration": 4608,
    "start_time": "2023-03-15T08:57:35.420Z"
   },
   {
    "duration": 156,
    "start_time": "2023-03-15T08:58:51.694Z"
   },
   {
    "duration": 32,
    "start_time": "2023-03-15T08:59:38.978Z"
   },
   {
    "duration": 25,
    "start_time": "2023-03-15T09:01:59.978Z"
   },
   {
    "duration": 21,
    "start_time": "2023-03-15T09:02:30.558Z"
   },
   {
    "duration": 25,
    "start_time": "2023-03-15T09:03:14.558Z"
   },
   {
    "duration": 305,
    "start_time": "2023-03-15T09:04:06.422Z"
   },
   {
    "duration": 166,
    "start_time": "2023-03-15T09:05:14.174Z"
   },
   {
    "duration": 20,
    "start_time": "2023-03-15T09:05:52.053Z"
   },
   {
    "duration": 15,
    "start_time": "2023-03-15T09:07:18.838Z"
   },
   {
    "duration": 19,
    "start_time": "2023-03-15T09:08:16.806Z"
   },
   {
    "duration": 25,
    "start_time": "2023-03-15T09:09:06.868Z"
   },
   {
    "duration": 18,
    "start_time": "2023-03-15T09:09:35.373Z"
   },
   {
    "duration": 24,
    "start_time": "2023-03-15T09:11:38.524Z"
   },
   {
    "duration": 37,
    "start_time": "2023-03-15T09:14:47.614Z"
   },
   {
    "duration": 8,
    "start_time": "2023-03-15T09:16:40.065Z"
   },
   {
    "duration": 18,
    "start_time": "2023-03-15T09:16:54.471Z"
   },
   {
    "duration": 17,
    "start_time": "2023-03-15T09:18:44.426Z"
   },
   {
    "duration": 48,
    "start_time": "2023-03-15T09:19:02.530Z"
   },
   {
    "duration": 328,
    "start_time": "2023-03-15T09:22:31.960Z"
   },
   {
    "duration": 696,
    "start_time": "2023-03-15T09:24:05.906Z"
   },
   {
    "duration": 472,
    "start_time": "2023-03-15T09:24:25.358Z"
   },
   {
    "duration": 341,
    "start_time": "2023-03-15T09:24:46.734Z"
   },
   {
    "duration": 25,
    "start_time": "2023-03-15T10:17:45.661Z"
   },
   {
    "duration": 20,
    "start_time": "2023-03-15T10:19:50.330Z"
   },
   {
    "duration": 14,
    "start_time": "2023-03-15T10:20:22.454Z"
   },
   {
    "duration": 43,
    "start_time": "2023-03-15T10:22:59.556Z"
   },
   {
    "duration": 15,
    "start_time": "2023-03-15T10:23:47.330Z"
   },
   {
    "duration": 17,
    "start_time": "2023-03-15T10:26:26.212Z"
   },
   {
    "duration": 11,
    "start_time": "2023-03-15T10:27:05.934Z"
   },
   {
    "duration": 4,
    "start_time": "2023-03-15T10:27:15.642Z"
   },
   {
    "duration": 11,
    "start_time": "2023-03-15T10:28:48.636Z"
   },
   {
    "duration": 5,
    "start_time": "2023-03-15T10:28:50.419Z"
   },
   {
    "duration": 5,
    "start_time": "2023-03-15T10:29:00.607Z"
   },
   {
    "duration": 8,
    "start_time": "2023-03-15T10:40:18.812Z"
   },
   {
    "duration": 7,
    "start_time": "2023-03-15T10:42:31.829Z"
   },
   {
    "duration": 8,
    "start_time": "2023-03-15T10:43:51.473Z"
   },
   {
    "duration": 12,
    "start_time": "2023-03-15T10:52:17.303Z"
   },
   {
    "duration": 21,
    "start_time": "2023-03-15T10:52:44.453Z"
   },
   {
    "duration": 12,
    "start_time": "2023-03-15T10:53:05.891Z"
   },
   {
    "duration": 5,
    "start_time": "2023-03-15T10:53:15.507Z"
   },
   {
    "duration": 12,
    "start_time": "2023-03-15T10:54:13.955Z"
   },
   {
    "duration": 4,
    "start_time": "2023-03-15T10:54:15.203Z"
   },
   {
    "duration": 12,
    "start_time": "2023-03-15T10:54:59.523Z"
   },
   {
    "duration": 8,
    "start_time": "2023-03-15T10:55:04.464Z"
   },
   {
    "duration": 9,
    "start_time": "2023-03-15T10:55:47.407Z"
   },
   {
    "duration": 5,
    "start_time": "2023-03-15T10:55:50.003Z"
   },
   {
    "duration": 40,
    "start_time": "2023-03-15T10:56:17.515Z"
   },
   {
    "duration": 30,
    "start_time": "2023-03-15T10:56:53.949Z"
   },
   {
    "duration": 24,
    "start_time": "2023-03-15T10:59:32.152Z"
   },
   {
    "duration": 16,
    "start_time": "2023-03-15T11:00:04.502Z"
   },
   {
    "duration": 15,
    "start_time": "2023-03-15T11:00:34.237Z"
   },
   {
    "duration": 12,
    "start_time": "2023-03-15T11:00:56.436Z"
   },
   {
    "duration": 764,
    "start_time": "2023-03-15T11:02:59.410Z"
   },
   {
    "duration": 4,
    "start_time": "2023-03-15T11:03:42.203Z"
   },
   {
    "duration": 5,
    "start_time": "2023-03-15T11:04:09.712Z"
   },
   {
    "duration": 10,
    "start_time": "2023-03-15T11:04:34.375Z"
   },
   {
    "duration": 4,
    "start_time": "2023-03-15T11:04:35.630Z"
   },
   {
    "duration": 6,
    "start_time": "2023-03-15T11:04:36.403Z"
   },
   {
    "duration": 5,
    "start_time": "2023-03-15T11:05:14.202Z"
   },
   {
    "duration": 25,
    "start_time": "2023-03-15T11:05:38.306Z"
   },
   {
    "duration": 11,
    "start_time": "2023-03-15T11:05:54.303Z"
   },
   {
    "duration": 28,
    "start_time": "2023-03-15T11:08:15.773Z"
   },
   {
    "duration": 11,
    "start_time": "2023-03-15T11:08:35.903Z"
   },
   {
    "duration": 8,
    "start_time": "2023-03-15T11:08:41.005Z"
   },
   {
    "duration": 6,
    "start_time": "2023-03-15T11:09:11.856Z"
   },
   {
    "duration": 8,
    "start_time": "2023-03-15T11:09:31.258Z"
   },
   {
    "duration": 63,
    "start_time": "2023-03-15T15:19:23.801Z"
   },
   {
    "duration": 1390,
    "start_time": "2023-03-15T15:19:37.135Z"
   },
   {
    "duration": 204,
    "start_time": "2023-03-15T15:19:38.528Z"
   },
   {
    "duration": 17,
    "start_time": "2023-03-15T15:19:38.734Z"
   },
   {
    "duration": 15,
    "start_time": "2023-03-15T15:19:38.753Z"
   },
   {
    "duration": 832,
    "start_time": "2023-03-15T15:19:38.770Z"
   },
   {
    "duration": 4,
    "start_time": "2023-03-15T15:19:39.604Z"
   },
   {
    "duration": 20,
    "start_time": "2023-03-15T15:19:39.610Z"
   },
   {
    "duration": 13,
    "start_time": "2023-03-15T15:19:39.632Z"
   },
   {
    "duration": 10,
    "start_time": "2023-03-15T15:19:39.647Z"
   },
   {
    "duration": 29,
    "start_time": "2023-03-15T15:19:39.659Z"
   },
   {
    "duration": 17,
    "start_time": "2023-03-15T15:19:39.690Z"
   },
   {
    "duration": 29,
    "start_time": "2023-03-15T15:19:39.709Z"
   },
   {
    "duration": 19,
    "start_time": "2023-03-15T15:19:39.739Z"
   },
   {
    "duration": 14,
    "start_time": "2023-03-15T15:19:39.759Z"
   },
   {
    "duration": 18,
    "start_time": "2023-03-15T15:19:39.775Z"
   },
   {
    "duration": 2,
    "start_time": "2023-03-15T15:19:39.794Z"
   },
   {
    "duration": 38,
    "start_time": "2023-03-15T15:19:39.798Z"
   },
   {
    "duration": 20,
    "start_time": "2023-03-15T15:19:39.837Z"
   },
   {
    "duration": 17,
    "start_time": "2023-03-15T15:19:39.858Z"
   },
   {
    "duration": 2,
    "start_time": "2023-03-15T15:19:39.877Z"
   },
   {
    "duration": 17,
    "start_time": "2023-03-15T15:19:39.880Z"
   },
   {
    "duration": 38,
    "start_time": "2023-03-15T15:19:39.898Z"
   },
   {
    "duration": 13,
    "start_time": "2023-03-15T15:19:39.937Z"
   },
   {
    "duration": 14,
    "start_time": "2023-03-15T15:19:39.952Z"
   },
   {
    "duration": 15,
    "start_time": "2023-03-15T15:19:39.967Z"
   },
   {
    "duration": 13,
    "start_time": "2023-03-15T15:19:39.983Z"
   },
   {
    "duration": 27,
    "start_time": "2023-03-15T15:19:39.998Z"
   },
   {
    "duration": 23,
    "start_time": "2023-03-15T15:19:40.029Z"
   },
   {
    "duration": 14,
    "start_time": "2023-03-15T15:19:40.054Z"
   },
   {
    "duration": 18,
    "start_time": "2023-03-15T15:19:40.070Z"
   },
   {
    "duration": 16,
    "start_time": "2023-03-15T15:19:40.090Z"
   },
   {
    "duration": 22,
    "start_time": "2023-03-15T15:19:40.107Z"
   },
   {
    "duration": 22,
    "start_time": "2023-03-15T15:19:40.130Z"
   },
   {
    "duration": 9,
    "start_time": "2023-03-15T15:19:40.153Z"
   },
   {
    "duration": 28,
    "start_time": "2023-03-15T15:19:40.164Z"
   },
   {
    "duration": 34,
    "start_time": "2023-03-15T15:19:40.194Z"
   },
   {
    "duration": 30,
    "start_time": "2023-03-15T15:19:40.230Z"
   },
   {
    "duration": 4,
    "start_time": "2023-03-15T15:19:40.262Z"
   },
   {
    "duration": 27,
    "start_time": "2023-03-15T15:19:40.268Z"
   },
   {
    "duration": 12,
    "start_time": "2023-03-15T15:19:40.297Z"
   },
   {
    "duration": 14,
    "start_time": "2023-03-15T15:19:40.310Z"
   },
   {
    "duration": 5,
    "start_time": "2023-03-15T15:19:40.326Z"
   },
   {
    "duration": 10,
    "start_time": "2023-03-15T15:19:40.333Z"
   },
   {
    "duration": 16,
    "start_time": "2023-03-15T15:19:40.344Z"
   },
   {
    "duration": 8,
    "start_time": "2023-03-15T15:19:40.361Z"
   },
   {
    "duration": 13,
    "start_time": "2023-03-15T15:19:40.370Z"
   },
   {
    "duration": 373,
    "start_time": "2023-03-15T15:19:40.385Z"
   },
   {
    "duration": 11,
    "start_time": "2023-03-15T15:19:40.759Z"
   },
   {
    "duration": 169,
    "start_time": "2023-03-15T15:19:40.772Z"
   },
   {
    "duration": 226,
    "start_time": "2023-03-15T15:19:40.943Z"
   },
   {
    "duration": 323,
    "start_time": "2023-03-15T15:19:41.171Z"
   },
   {
    "duration": 200,
    "start_time": "2023-03-15T15:19:41.497Z"
   },
   {
    "duration": 183,
    "start_time": "2023-03-15T15:19:41.699Z"
   },
   {
    "duration": 195,
    "start_time": "2023-03-15T15:19:41.884Z"
   },
   {
    "duration": 203,
    "start_time": "2023-03-15T15:19:42.081Z"
   },
   {
    "duration": 113,
    "start_time": "2023-03-15T15:19:42.286Z"
   },
   {
    "duration": 0,
    "start_time": "2023-03-15T15:19:42.401Z"
   },
   {
    "duration": 0,
    "start_time": "2023-03-15T15:19:42.403Z"
   },
   {
    "duration": 0,
    "start_time": "2023-03-15T15:19:42.404Z"
   },
   {
    "duration": 0,
    "start_time": "2023-03-15T15:19:42.404Z"
   },
   {
    "duration": 0,
    "start_time": "2023-03-15T15:19:42.406Z"
   },
   {
    "duration": 0,
    "start_time": "2023-03-15T15:19:42.406Z"
   },
   {
    "duration": 0,
    "start_time": "2023-03-15T15:19:42.408Z"
   },
   {
    "duration": 0,
    "start_time": "2023-03-15T15:19:42.409Z"
   },
   {
    "duration": 11,
    "start_time": "2023-03-15T15:23:39.573Z"
   },
   {
    "duration": 74,
    "start_time": "2023-03-15T15:24:04.289Z"
   },
   {
    "duration": 3,
    "start_time": "2023-03-15T15:25:06.942Z"
   },
   {
    "duration": 4,
    "start_time": "2023-03-15T15:25:27.569Z"
   },
   {
    "duration": 96,
    "start_time": "2023-03-15T15:25:38.751Z"
   },
   {
    "duration": 22,
    "start_time": "2023-03-15T15:25:55.649Z"
   },
   {
    "duration": 10,
    "start_time": "2023-03-15T15:26:29.979Z"
   },
   {
    "duration": 13,
    "start_time": "2023-03-15T15:27:17.945Z"
   },
   {
    "duration": 150,
    "start_time": "2023-03-15T15:28:19.274Z"
   },
   {
    "duration": 167,
    "start_time": "2023-03-15T15:30:41.551Z"
   },
   {
    "duration": 28,
    "start_time": "2023-03-15T15:33:46.517Z"
   },
   {
    "duration": 11,
    "start_time": "2023-03-15T15:34:17.309Z"
   },
   {
    "duration": 27,
    "start_time": "2023-03-15T15:35:30.132Z"
   },
   {
    "duration": 11,
    "start_time": "2023-03-15T15:35:56.507Z"
   },
   {
    "duration": 16,
    "start_time": "2023-03-15T15:36:23.855Z"
   },
   {
    "duration": 153,
    "start_time": "2023-03-15T15:37:23.049Z"
   },
   {
    "duration": 78,
    "start_time": "2023-03-15T15:41:28.733Z"
   },
   {
    "duration": 67,
    "start_time": "2023-03-15T15:42:16.546Z"
   },
   {
    "duration": 20,
    "start_time": "2023-03-15T15:43:35.091Z"
   },
   {
    "duration": 21,
    "start_time": "2023-03-15T15:44:13.201Z"
   },
   {
    "duration": 340,
    "start_time": "2023-03-15T15:47:06.010Z"
   },
   {
    "duration": 362,
    "start_time": "2023-03-15T16:16:28.800Z"
   },
   {
    "duration": 292,
    "start_time": "2023-03-15T16:17:06.758Z"
   },
   {
    "duration": 282,
    "start_time": "2023-03-15T16:17:59.363Z"
   },
   {
    "duration": 315,
    "start_time": "2023-03-15T16:24:54.983Z"
   },
   {
    "duration": 10,
    "start_time": "2023-03-15T16:26:45.176Z"
   },
   {
    "duration": 2001,
    "start_time": "2023-03-15T16:26:56.541Z"
   },
   {
    "duration": 3505,
    "start_time": "2023-03-15T16:27:45.276Z"
   },
   {
    "duration": 21,
    "start_time": "2023-03-15T16:31:07.822Z"
   },
   {
    "duration": 73,
    "start_time": "2023-03-15T16:37:32.672Z"
   },
   {
    "duration": 1109,
    "start_time": "2023-03-15T16:37:51.951Z"
   },
   {
    "duration": 22,
    "start_time": "2023-03-15T16:38:40.765Z"
   },
   {
    "duration": 1115,
    "start_time": "2023-03-15T16:39:13.604Z"
   },
   {
    "duration": 71,
    "start_time": "2023-03-15T16:41:53.408Z"
   },
   {
    "duration": 2983,
    "start_time": "2023-03-15T16:42:17.514Z"
   },
   {
    "duration": 1151,
    "start_time": "2023-03-15T16:42:57.084Z"
   },
   {
    "duration": 25,
    "start_time": "2023-03-15T16:43:37.043Z"
   },
   {
    "duration": 26,
    "start_time": "2023-03-15T16:43:45.748Z"
   },
   {
    "duration": 1301,
    "start_time": "2023-03-15T16:44:40.566Z"
   },
   {
    "duration": 2711,
    "start_time": "2023-03-15T16:45:31.749Z"
   },
   {
    "duration": 2662,
    "start_time": "2023-03-15T16:46:10.671Z"
   },
   {
    "duration": 1187,
    "start_time": "2023-03-15T16:51:45.622Z"
   },
   {
    "duration": 1030,
    "start_time": "2023-03-15T16:52:07.717Z"
   },
   {
    "duration": 275,
    "start_time": "2023-03-15T16:56:56.588Z"
   },
   {
    "duration": 18,
    "start_time": "2023-03-15T16:57:41.273Z"
   },
   {
    "duration": 18,
    "start_time": "2023-03-15T16:58:13.632Z"
   },
   {
    "duration": 23,
    "start_time": "2023-03-15T17:04:25.553Z"
   },
   {
    "duration": 20,
    "start_time": "2023-03-15T17:06:43.415Z"
   },
   {
    "duration": 13,
    "start_time": "2023-03-15T17:07:24.813Z"
   },
   {
    "duration": 14,
    "start_time": "2023-03-15T17:08:10.070Z"
   },
   {
    "duration": 34,
    "start_time": "2023-03-15T17:10:36.916Z"
   },
   {
    "duration": 2777,
    "start_time": "2023-03-15T17:11:34.163Z"
   },
   {
    "duration": 301,
    "start_time": "2023-03-15T17:14:45.357Z"
   },
   {
    "duration": 454,
    "start_time": "2023-03-15T17:37:30.834Z"
   },
   {
    "duration": 360,
    "start_time": "2023-03-15T18:18:49.903Z"
   },
   {
    "duration": 370,
    "start_time": "2023-03-15T18:19:11.302Z"
   },
   {
    "duration": 338,
    "start_time": "2023-03-15T18:31:49.140Z"
   },
   {
    "duration": 423,
    "start_time": "2023-03-15T18:32:38.766Z"
   },
   {
    "duration": 304,
    "start_time": "2023-03-15T18:34:56.412Z"
   },
   {
    "duration": 391,
    "start_time": "2023-03-15T18:37:03.440Z"
   },
   {
    "duration": 179,
    "start_time": "2023-03-15T18:39:06.231Z"
   },
   {
    "duration": 194,
    "start_time": "2023-03-15T18:39:17.763Z"
   },
   {
    "duration": 194,
    "start_time": "2023-03-15T18:40:43.858Z"
   },
   {
    "duration": 179,
    "start_time": "2023-03-15T18:40:53.947Z"
   },
   {
    "duration": 171,
    "start_time": "2023-03-15T18:41:03.721Z"
   },
   {
    "duration": 229,
    "start_time": "2023-03-15T18:41:16.234Z"
   },
   {
    "duration": 2174,
    "start_time": "2023-03-15T18:43:51.477Z"
   },
   {
    "duration": 24,
    "start_time": "2023-03-15T18:44:11.439Z"
   },
   {
    "duration": 61,
    "start_time": "2023-03-15T18:44:43.672Z"
   },
   {
    "duration": 15,
    "start_time": "2023-03-15T18:45:33.030Z"
   },
   {
    "duration": 24,
    "start_time": "2023-03-15T18:45:47.057Z"
   },
   {
    "duration": 24,
    "start_time": "2023-03-15T18:47:26.005Z"
   },
   {
    "duration": 19,
    "start_time": "2023-03-15T18:48:18.603Z"
   },
   {
    "duration": 66,
    "start_time": "2023-03-15T18:49:58.376Z"
   },
   {
    "duration": 31,
    "start_time": "2023-03-15T18:50:29.568Z"
   },
   {
    "duration": 34,
    "start_time": "2023-03-15T18:52:34.313Z"
   },
   {
    "duration": 73,
    "start_time": "2023-03-15T18:53:03.185Z"
   },
   {
    "duration": 32,
    "start_time": "2023-03-15T18:53:13.037Z"
   },
   {
    "duration": 25,
    "start_time": "2023-03-15T18:53:33.710Z"
   },
   {
    "duration": 33,
    "start_time": "2023-03-15T18:54:59.507Z"
   },
   {
    "duration": 21,
    "start_time": "2023-03-15T18:55:43.244Z"
   },
   {
    "duration": 17,
    "start_time": "2023-03-15T18:56:27.327Z"
   },
   {
    "duration": 20,
    "start_time": "2023-03-15T18:56:53.038Z"
   },
   {
    "duration": 19,
    "start_time": "2023-03-15T18:59:03.377Z"
   },
   {
    "duration": 19,
    "start_time": "2023-03-15T18:59:44.127Z"
   },
   {
    "duration": 82,
    "start_time": "2023-03-15T19:00:37.191Z"
   },
   {
    "duration": 24,
    "start_time": "2023-03-15T19:00:48.606Z"
   },
   {
    "duration": 25,
    "start_time": "2023-03-15T19:01:21.629Z"
   },
   {
    "duration": 15,
    "start_time": "2023-03-15T19:02:33.564Z"
   },
   {
    "duration": 24,
    "start_time": "2023-03-15T19:07:24.393Z"
   },
   {
    "duration": 29,
    "start_time": "2023-03-15T19:08:24.971Z"
   },
   {
    "duration": 81,
    "start_time": "2023-03-15T20:02:04.746Z"
   },
   {
    "duration": 32,
    "start_time": "2023-03-15T20:02:34.275Z"
   },
   {
    "duration": 274,
    "start_time": "2023-03-15T20:03:29.343Z"
   },
   {
    "duration": 23,
    "start_time": "2023-03-15T20:08:41.339Z"
   },
   {
    "duration": 318,
    "start_time": "2023-03-15T20:11:24.999Z"
   },
   {
    "duration": 320,
    "start_time": "2023-03-15T20:15:29.273Z"
   },
   {
    "duration": 317,
    "start_time": "2023-03-15T20:15:40.433Z"
   },
   {
    "duration": 346,
    "start_time": "2023-03-15T20:16:46.895Z"
   },
   {
    "duration": 37,
    "start_time": "2023-03-15T20:17:13.621Z"
   },
   {
    "duration": 28,
    "start_time": "2023-03-15T20:17:56.713Z"
   },
   {
    "duration": 26,
    "start_time": "2023-03-15T20:18:18.817Z"
   },
   {
    "duration": 26,
    "start_time": "2023-03-15T20:18:33.944Z"
   },
   {
    "duration": 27,
    "start_time": "2023-03-15T20:21:03.195Z"
   },
   {
    "duration": 26,
    "start_time": "2023-03-15T20:21:34.592Z"
   },
   {
    "duration": 22,
    "start_time": "2023-03-15T20:21:57.951Z"
   },
   {
    "duration": 31,
    "start_time": "2023-03-15T20:22:23.640Z"
   },
   {
    "duration": 25,
    "start_time": "2023-03-15T20:22:54.712Z"
   },
   {
    "duration": 30,
    "start_time": "2023-03-15T20:23:15.292Z"
   },
   {
    "duration": 1223,
    "start_time": "2023-03-15T20:26:52.366Z"
   },
   {
    "duration": 402,
    "start_time": "2023-03-15T20:27:49.061Z"
   },
   {
    "duration": 307,
    "start_time": "2023-03-15T20:31:35.180Z"
   },
   {
    "duration": 294,
    "start_time": "2023-03-15T20:34:32.676Z"
   },
   {
    "duration": 58,
    "start_time": "2023-03-16T07:49:09.147Z"
   },
   {
    "duration": 1449,
    "start_time": "2023-03-16T07:49:22.602Z"
   },
   {
    "duration": 122,
    "start_time": "2023-03-16T07:49:24.054Z"
   },
   {
    "duration": 18,
    "start_time": "2023-03-16T07:49:24.177Z"
   },
   {
    "duration": 35,
    "start_time": "2023-03-16T07:49:24.197Z"
   },
   {
    "duration": 968,
    "start_time": "2023-03-16T07:49:24.234Z"
   },
   {
    "duration": 4,
    "start_time": "2023-03-16T07:49:25.204Z"
   },
   {
    "duration": 16,
    "start_time": "2023-03-16T07:49:25.210Z"
   },
   {
    "duration": 6,
    "start_time": "2023-03-16T07:49:25.228Z"
   },
   {
    "duration": 28,
    "start_time": "2023-03-16T07:49:25.236Z"
   },
   {
    "duration": 13,
    "start_time": "2023-03-16T07:49:25.267Z"
   },
   {
    "duration": 20,
    "start_time": "2023-03-16T07:49:25.283Z"
   },
   {
    "duration": 17,
    "start_time": "2023-03-16T07:49:25.305Z"
   },
   {
    "duration": 45,
    "start_time": "2023-03-16T07:49:25.324Z"
   },
   {
    "duration": 14,
    "start_time": "2023-03-16T07:49:25.371Z"
   },
   {
    "duration": 11,
    "start_time": "2023-03-16T07:49:25.387Z"
   },
   {
    "duration": 13,
    "start_time": "2023-03-16T07:49:25.401Z"
   },
   {
    "duration": 69,
    "start_time": "2023-03-16T07:49:25.416Z"
   },
   {
    "duration": 24,
    "start_time": "2023-03-16T07:49:25.487Z"
   },
   {
    "duration": 24,
    "start_time": "2023-03-16T07:49:25.513Z"
   },
   {
    "duration": 10,
    "start_time": "2023-03-16T07:49:25.539Z"
   },
   {
    "duration": 29,
    "start_time": "2023-03-16T07:49:25.551Z"
   },
   {
    "duration": 24,
    "start_time": "2023-03-16T07:49:25.582Z"
   },
   {
    "duration": 21,
    "start_time": "2023-03-16T07:49:25.608Z"
   },
   {
    "duration": 40,
    "start_time": "2023-03-16T07:49:25.631Z"
   },
   {
    "duration": 30,
    "start_time": "2023-03-16T07:49:25.673Z"
   },
   {
    "duration": 26,
    "start_time": "2023-03-16T07:49:25.705Z"
   },
   {
    "duration": 4,
    "start_time": "2023-03-16T07:49:25.733Z"
   },
   {
    "duration": 32,
    "start_time": "2023-03-16T07:49:25.741Z"
   },
   {
    "duration": 10,
    "start_time": "2023-03-16T07:49:25.775Z"
   },
   {
    "duration": 14,
    "start_time": "2023-03-16T07:49:25.787Z"
   },
   {
    "duration": 23,
    "start_time": "2023-03-16T07:49:25.803Z"
   },
   {
    "duration": 36,
    "start_time": "2023-03-16T07:49:25.828Z"
   },
   {
    "duration": 23,
    "start_time": "2023-03-16T07:49:25.867Z"
   },
   {
    "duration": 12,
    "start_time": "2023-03-16T07:49:25.892Z"
   },
   {
    "duration": 23,
    "start_time": "2023-03-16T07:49:25.906Z"
   },
   {
    "duration": 16,
    "start_time": "2023-03-16T07:49:25.963Z"
   },
   {
    "duration": 33,
    "start_time": "2023-03-16T07:49:25.982Z"
   },
   {
    "duration": 6,
    "start_time": "2023-03-16T07:49:26.017Z"
   },
   {
    "duration": 39,
    "start_time": "2023-03-16T07:49:26.025Z"
   },
   {
    "duration": 15,
    "start_time": "2023-03-16T07:49:26.066Z"
   },
   {
    "duration": 7,
    "start_time": "2023-03-16T07:49:26.083Z"
   },
   {
    "duration": 11,
    "start_time": "2023-03-16T07:49:26.092Z"
   },
   {
    "duration": 16,
    "start_time": "2023-03-16T07:49:26.106Z"
   },
   {
    "duration": 409,
    "start_time": "2023-03-16T07:49:26.124Z"
   },
   {
    "duration": 49,
    "start_time": "2023-03-16T07:49:26.535Z"
   },
   {
    "duration": 31,
    "start_time": "2023-03-16T07:49:26.587Z"
   },
   {
    "duration": 2482,
    "start_time": "2023-03-16T07:49:26.620Z"
   },
   {
    "duration": 9,
    "start_time": "2023-03-16T07:49:29.105Z"
   },
   {
    "duration": 220,
    "start_time": "2023-03-16T07:49:29.116Z"
   },
   {
    "duration": 235,
    "start_time": "2023-03-16T07:49:29.338Z"
   },
   {
    "duration": 215,
    "start_time": "2023-03-16T07:49:29.575Z"
   },
   {
    "duration": 235,
    "start_time": "2023-03-16T07:49:29.793Z"
   },
   {
    "duration": 221,
    "start_time": "2023-03-16T07:49:30.030Z"
   },
   {
    "duration": 226,
    "start_time": "2023-03-16T07:49:30.254Z"
   },
   {
    "duration": 19,
    "start_time": "2023-03-16T07:49:30.482Z"
   },
   {
    "duration": 129,
    "start_time": "2023-03-16T07:49:30.503Z"
   },
   {
    "duration": 0,
    "start_time": "2023-03-16T07:49:30.634Z"
   },
   {
    "duration": 0,
    "start_time": "2023-03-16T07:49:30.636Z"
   },
   {
    "duration": 0,
    "start_time": "2023-03-16T07:49:30.637Z"
   },
   {
    "duration": 0,
    "start_time": "2023-03-16T07:49:30.639Z"
   },
   {
    "duration": 0,
    "start_time": "2023-03-16T07:49:30.640Z"
   },
   {
    "duration": 0,
    "start_time": "2023-03-16T07:49:30.642Z"
   },
   {
    "duration": 0,
    "start_time": "2023-03-16T07:49:30.643Z"
   },
   {
    "duration": 0,
    "start_time": "2023-03-16T07:49:30.644Z"
   },
   {
    "duration": 318,
    "start_time": "2023-03-16T07:50:17.215Z"
   },
   {
    "duration": 44,
    "start_time": "2023-03-16T07:52:49.939Z"
   },
   {
    "duration": 22,
    "start_time": "2023-03-16T07:54:00.163Z"
   },
   {
    "duration": 16,
    "start_time": "2023-03-16T07:55:26.802Z"
   },
   {
    "duration": 31,
    "start_time": "2023-03-16T07:58:29.615Z"
   },
   {
    "duration": 442,
    "start_time": "2023-03-16T07:59:51.952Z"
   },
   {
    "duration": 20,
    "start_time": "2023-03-16T08:00:42.197Z"
   },
   {
    "duration": 35,
    "start_time": "2023-03-16T08:00:53.835Z"
   },
   {
    "duration": 29,
    "start_time": "2023-03-16T08:03:02.281Z"
   },
   {
    "duration": 929,
    "start_time": "2023-03-16T08:04:07.107Z"
   },
   {
    "duration": 14,
    "start_time": "2023-03-16T08:08:24.140Z"
   },
   {
    "duration": 564,
    "start_time": "2023-03-16T08:15:17.354Z"
   },
   {
    "duration": 15,
    "start_time": "2023-03-16T08:18:27.795Z"
   },
   {
    "duration": 16,
    "start_time": "2023-03-16T08:26:42.894Z"
   },
   {
    "duration": 21,
    "start_time": "2023-03-16T08:27:09.618Z"
   },
   {
    "duration": 8,
    "start_time": "2023-03-16T08:29:55.931Z"
   },
   {
    "duration": 29,
    "start_time": "2023-03-16T08:29:56.857Z"
   },
   {
    "duration": 16,
    "start_time": "2023-03-16T08:29:59.799Z"
   },
   {
    "duration": 2164,
    "start_time": "2023-03-16T08:31:01.127Z"
   },
   {
    "duration": 362,
    "start_time": "2023-03-16T08:32:33.828Z"
   },
   {
    "duration": 25,
    "start_time": "2023-03-16T08:45:46.643Z"
   },
   {
    "duration": 453,
    "start_time": "2023-03-16T08:46:30.919Z"
   },
   {
    "duration": 234,
    "start_time": "2023-03-16T08:47:14.139Z"
   },
   {
    "duration": 1006,
    "start_time": "2023-03-16T08:47:42.483Z"
   },
   {
    "duration": 1053,
    "start_time": "2023-03-16T08:48:25.227Z"
   },
   {
    "duration": 418,
    "start_time": "2023-03-16T08:48:53.971Z"
   },
   {
    "duration": 538,
    "start_time": "2023-03-16T08:49:29.674Z"
   },
   {
    "duration": 402,
    "start_time": "2023-03-16T08:50:52.214Z"
   },
   {
    "duration": 420,
    "start_time": "2023-03-16T08:51:29.636Z"
   },
   {
    "duration": 395,
    "start_time": "2023-03-16T08:53:37.842Z"
   },
   {
    "duration": 419,
    "start_time": "2023-03-16T08:54:01.882Z"
   },
   {
    "duration": 417,
    "start_time": "2023-03-16T08:54:45.306Z"
   },
   {
    "duration": 424,
    "start_time": "2023-03-16T08:55:02.115Z"
   },
   {
    "duration": 450,
    "start_time": "2023-03-16T08:55:16.324Z"
   },
   {
    "duration": 564,
    "start_time": "2023-03-16T08:56:41.795Z"
   },
   {
    "duration": 3,
    "start_time": "2023-03-16T09:03:27.722Z"
   },
   {
    "duration": 31,
    "start_time": "2023-03-16T09:03:28.548Z"
   },
   {
    "duration": 7,
    "start_time": "2023-03-16T09:16:56.791Z"
   },
   {
    "duration": 7,
    "start_time": "2023-03-16T09:18:29.202Z"
   },
   {
    "duration": 8,
    "start_time": "2023-03-16T09:19:08.444Z"
   },
   {
    "duration": 9,
    "start_time": "2023-03-16T09:19:19.211Z"
   },
   {
    "duration": 6,
    "start_time": "2023-03-16T09:19:47.216Z"
   },
   {
    "duration": 25,
    "start_time": "2023-03-16T09:19:49.409Z"
   },
   {
    "duration": 6,
    "start_time": "2023-03-16T09:20:17.195Z"
   },
   {
    "duration": 9,
    "start_time": "2023-03-16T09:20:20.402Z"
   },
   {
    "duration": 25,
    "start_time": "2023-03-16T09:21:36.811Z"
   },
   {
    "duration": 6,
    "start_time": "2023-03-16T09:22:56.949Z"
   },
   {
    "duration": 9,
    "start_time": "2023-03-16T09:22:58.727Z"
   },
   {
    "duration": 4,
    "start_time": "2023-03-16T09:33:25.114Z"
   },
   {
    "duration": 6,
    "start_time": "2023-03-16T09:35:00.735Z"
   },
   {
    "duration": 28,
    "start_time": "2023-03-16T09:35:02.119Z"
   },
   {
    "duration": 13,
    "start_time": "2023-03-16T09:35:56.390Z"
   },
   {
    "duration": 5,
    "start_time": "2023-03-16T09:36:04.044Z"
   },
   {
    "duration": 6,
    "start_time": "2023-03-16T09:36:05.031Z"
   },
   {
    "duration": 31,
    "start_time": "2023-03-16T09:36:07.883Z"
   },
   {
    "duration": 300,
    "start_time": "2023-03-16T09:36:34.623Z"
   },
   {
    "duration": 273,
    "start_time": "2023-03-16T09:36:46.148Z"
   },
   {
    "duration": 270,
    "start_time": "2023-03-16T09:36:55.525Z"
   },
   {
    "duration": 269,
    "start_time": "2023-03-16T09:39:30.271Z"
   },
   {
    "duration": 286,
    "start_time": "2023-03-16T09:41:18.859Z"
   },
   {
    "duration": 244,
    "start_time": "2023-03-16T09:42:19.026Z"
   },
   {
    "duration": 234,
    "start_time": "2023-03-16T09:43:35.914Z"
   },
   {
    "duration": 228,
    "start_time": "2023-03-16T09:50:11.315Z"
   },
   {
    "duration": 28,
    "start_time": "2023-03-16T12:13:49.096Z"
   },
   {
    "duration": 322,
    "start_time": "2023-03-16T12:14:14.031Z"
   },
   {
    "duration": 345,
    "start_time": "2023-03-16T12:14:45.257Z"
   },
   {
    "duration": 316,
    "start_time": "2023-03-16T12:15:03.305Z"
   },
   {
    "duration": 350,
    "start_time": "2023-03-16T12:15:20.502Z"
   },
   {
    "duration": 332,
    "start_time": "2023-03-16T12:45:10.815Z"
   },
   {
    "duration": 60,
    "start_time": "2023-03-16T15:19:23.608Z"
   },
   {
    "duration": 1359,
    "start_time": "2023-03-16T15:19:32.516Z"
   },
   {
    "duration": 125,
    "start_time": "2023-03-16T15:19:33.876Z"
   },
   {
    "duration": 15,
    "start_time": "2023-03-16T15:19:34.002Z"
   },
   {
    "duration": 16,
    "start_time": "2023-03-16T15:19:34.019Z"
   },
   {
    "duration": 805,
    "start_time": "2023-03-16T15:19:34.037Z"
   },
   {
    "duration": 3,
    "start_time": "2023-03-16T15:19:34.844Z"
   },
   {
    "duration": 21,
    "start_time": "2023-03-16T15:19:34.848Z"
   },
   {
    "duration": 9,
    "start_time": "2023-03-16T15:19:34.875Z"
   },
   {
    "duration": 6,
    "start_time": "2023-03-16T15:19:34.885Z"
   },
   {
    "duration": 12,
    "start_time": "2023-03-16T15:19:34.893Z"
   },
   {
    "duration": 16,
    "start_time": "2023-03-16T15:19:34.907Z"
   },
   {
    "duration": 33,
    "start_time": "2023-03-16T15:19:34.924Z"
   },
   {
    "duration": 18,
    "start_time": "2023-03-16T15:19:34.959Z"
   },
   {
    "duration": 11,
    "start_time": "2023-03-16T15:19:34.978Z"
   },
   {
    "duration": 11,
    "start_time": "2023-03-16T15:19:34.990Z"
   },
   {
    "duration": 2,
    "start_time": "2023-03-16T15:19:35.003Z"
   },
   {
    "duration": 62,
    "start_time": "2023-03-16T15:19:35.007Z"
   },
   {
    "duration": 31,
    "start_time": "2023-03-16T15:19:35.071Z"
   },
   {
    "duration": 26,
    "start_time": "2023-03-16T15:19:35.104Z"
   },
   {
    "duration": 23,
    "start_time": "2023-03-16T15:19:35.132Z"
   },
   {
    "duration": 39,
    "start_time": "2023-03-16T15:19:35.157Z"
   },
   {
    "duration": 23,
    "start_time": "2023-03-16T15:19:35.199Z"
   },
   {
    "duration": 20,
    "start_time": "2023-03-16T15:19:35.224Z"
   },
   {
    "duration": 19,
    "start_time": "2023-03-16T15:19:35.245Z"
   },
   {
    "duration": 25,
    "start_time": "2023-03-16T15:19:35.266Z"
   },
   {
    "duration": 16,
    "start_time": "2023-03-16T15:19:35.293Z"
   },
   {
    "duration": 13,
    "start_time": "2023-03-16T15:19:35.311Z"
   },
   {
    "duration": 36,
    "start_time": "2023-03-16T15:19:35.330Z"
   },
   {
    "duration": 33,
    "start_time": "2023-03-16T15:19:35.369Z"
   },
   {
    "duration": 18,
    "start_time": "2023-03-16T15:19:35.404Z"
   },
   {
    "duration": 26,
    "start_time": "2023-03-16T15:19:35.424Z"
   },
   {
    "duration": 50,
    "start_time": "2023-03-16T15:19:35.452Z"
   },
   {
    "duration": 44,
    "start_time": "2023-03-16T15:19:35.505Z"
   },
   {
    "duration": 39,
    "start_time": "2023-03-16T15:19:35.551Z"
   },
   {
    "duration": 52,
    "start_time": "2023-03-16T15:19:35.592Z"
   },
   {
    "duration": 18,
    "start_time": "2023-03-16T15:19:35.646Z"
   },
   {
    "duration": 44,
    "start_time": "2023-03-16T15:19:35.666Z"
   },
   {
    "duration": 14,
    "start_time": "2023-03-16T15:19:35.712Z"
   },
   {
    "duration": 38,
    "start_time": "2023-03-16T15:19:35.728Z"
   },
   {
    "duration": 40,
    "start_time": "2023-03-16T15:19:35.768Z"
   },
   {
    "duration": 5,
    "start_time": "2023-03-16T15:19:35.809Z"
   },
   {
    "duration": 11,
    "start_time": "2023-03-16T15:19:35.815Z"
   },
   {
    "duration": 19,
    "start_time": "2023-03-16T15:19:35.827Z"
   },
   {
    "duration": 337,
    "start_time": "2023-03-16T15:19:35.848Z"
   },
   {
    "duration": 24,
    "start_time": "2023-03-16T15:19:36.187Z"
   },
   {
    "duration": 19,
    "start_time": "2023-03-16T15:19:36.212Z"
   },
   {
    "duration": 2173,
    "start_time": "2023-03-16T15:19:36.232Z"
   },
   {
    "duration": 11,
    "start_time": "2023-03-16T15:19:38.407Z"
   },
   {
    "duration": 208,
    "start_time": "2023-03-16T15:19:38.419Z"
   },
   {
    "duration": 216,
    "start_time": "2023-03-16T15:19:38.628Z"
   },
   {
    "duration": 193,
    "start_time": "2023-03-16T15:19:38.846Z"
   },
   {
    "duration": 219,
    "start_time": "2023-03-16T15:19:39.041Z"
   },
   {
    "duration": 188,
    "start_time": "2023-03-16T15:19:39.263Z"
   },
   {
    "duration": 183,
    "start_time": "2023-03-16T15:19:39.453Z"
   },
   {
    "duration": 5,
    "start_time": "2023-03-16T15:19:39.638Z"
   },
   {
    "duration": 35,
    "start_time": "2023-03-16T15:19:39.645Z"
   },
   {
    "duration": 271,
    "start_time": "2023-03-16T15:19:39.682Z"
   },
   {
    "duration": 3,
    "start_time": "2023-03-16T15:19:39.955Z"
   },
   {
    "duration": 24,
    "start_time": "2023-03-16T15:19:39.959Z"
   },
   {
    "duration": 28,
    "start_time": "2023-03-16T15:19:39.985Z"
   },
   {
    "duration": 107,
    "start_time": "2023-03-16T15:19:40.014Z"
   },
   {
    "duration": 0,
    "start_time": "2023-03-16T15:19:40.123Z"
   },
   {
    "duration": 0,
    "start_time": "2023-03-16T15:19:40.124Z"
   },
   {
    "duration": 0,
    "start_time": "2023-03-16T15:19:40.125Z"
   },
   {
    "duration": 0,
    "start_time": "2023-03-16T15:19:40.126Z"
   },
   {
    "duration": 0,
    "start_time": "2023-03-16T15:19:40.127Z"
   },
   {
    "duration": 0,
    "start_time": "2023-03-16T15:19:40.128Z"
   },
   {
    "duration": 0,
    "start_time": "2023-03-16T15:19:40.129Z"
   },
   {
    "duration": 0,
    "start_time": "2023-03-16T15:19:40.130Z"
   },
   {
    "duration": 0,
    "start_time": "2023-03-16T15:19:40.131Z"
   },
   {
    "duration": 0,
    "start_time": "2023-03-16T15:19:40.132Z"
   },
   {
    "duration": 3,
    "start_time": "2023-03-16T15:20:37.503Z"
   },
   {
    "duration": 536,
    "start_time": "2023-03-16T15:20:41.694Z"
   },
   {
    "duration": 6,
    "start_time": "2023-03-16T15:21:25.704Z"
   },
   {
    "duration": 34,
    "start_time": "2023-03-16T15:21:27.680Z"
   },
   {
    "duration": 326,
    "start_time": "2023-03-16T15:21:29.806Z"
   },
   {
    "duration": 294,
    "start_time": "2023-03-16T15:21:54.288Z"
   },
   {
    "duration": 6,
    "start_time": "2023-03-16T15:22:53.754Z"
   },
   {
    "duration": 22,
    "start_time": "2023-03-16T15:22:56.094Z"
   },
   {
    "duration": 281,
    "start_time": "2023-03-16T15:23:00.544Z"
   },
   {
    "duration": 348,
    "start_time": "2023-03-16T15:23:28.180Z"
   },
   {
    "duration": 6,
    "start_time": "2023-03-16T15:26:28.826Z"
   },
   {
    "duration": 23,
    "start_time": "2023-03-16T15:26:30.117Z"
   },
   {
    "duration": 243,
    "start_time": "2023-03-16T15:26:32.380Z"
   },
   {
    "duration": 3,
    "start_time": "2023-03-16T15:26:35.824Z"
   },
   {
    "duration": 366,
    "start_time": "2023-03-16T15:26:44.861Z"
   },
   {
    "duration": 5,
    "start_time": "2023-03-16T15:28:08.813Z"
   },
   {
    "duration": 29,
    "start_time": "2023-03-16T15:28:12.022Z"
   },
   {
    "duration": 281,
    "start_time": "2023-03-16T15:28:16.758Z"
   },
   {
    "duration": 315,
    "start_time": "2023-03-16T15:28:25.994Z"
   },
   {
    "duration": 247,
    "start_time": "2023-03-16T16:30:37.963Z"
   },
   {
    "duration": 6,
    "start_time": "2023-03-16T16:39:14.839Z"
   },
   {
    "duration": 21,
    "start_time": "2023-03-16T16:39:18.169Z"
   },
   {
    "duration": 261,
    "start_time": "2023-03-16T16:39:34.753Z"
   },
   {
    "duration": 254,
    "start_time": "2023-03-16T16:40:12.289Z"
   },
   {
    "duration": 29,
    "start_time": "2023-03-16T17:13:44.880Z"
   },
   {
    "duration": 23,
    "start_time": "2023-03-16T17:14:09.674Z"
   },
   {
    "duration": 31,
    "start_time": "2023-03-16T17:14:39.742Z"
   },
   {
    "duration": 65,
    "start_time": "2023-03-16T17:48:58.207Z"
   },
   {
    "duration": 72,
    "start_time": "2023-03-16T17:49:15.469Z"
   },
   {
    "duration": 51,
    "start_time": "2023-03-16T17:49:24.401Z"
   },
   {
    "duration": 49,
    "start_time": "2023-03-16T17:49:28.477Z"
   },
   {
    "duration": 16,
    "start_time": "2023-03-16T17:49:48.552Z"
   },
   {
    "duration": 343,
    "start_time": "2023-03-16T17:50:16.243Z"
   },
   {
    "duration": 235,
    "start_time": "2023-03-16T17:50:47.670Z"
   },
   {
    "duration": 237,
    "start_time": "2023-03-16T17:51:04.475Z"
   },
   {
    "duration": 8,
    "start_time": "2023-03-16T17:57:21.295Z"
   },
   {
    "duration": 170,
    "start_time": "2023-03-16T17:59:14.202Z"
   },
   {
    "duration": 150,
    "start_time": "2023-03-16T18:01:01.269Z"
   },
   {
    "duration": 132,
    "start_time": "2023-03-16T18:04:07.824Z"
   },
   {
    "duration": 140,
    "start_time": "2023-03-16T18:05:04.283Z"
   },
   {
    "duration": 6,
    "start_time": "2023-03-16T18:06:02.684Z"
   },
   {
    "duration": 117,
    "start_time": "2023-03-16T18:06:08.443Z"
   },
   {
    "duration": 41,
    "start_time": "2023-03-16T18:16:44.118Z"
   },
   {
    "duration": 13,
    "start_time": "2023-03-16T18:17:02.140Z"
   },
   {
    "duration": 14,
    "start_time": "2023-03-16T18:18:01.985Z"
   },
   {
    "duration": 16,
    "start_time": "2023-03-16T18:18:56.939Z"
   },
   {
    "duration": 9,
    "start_time": "2023-03-16T18:19:43.174Z"
   },
   {
    "duration": 9,
    "start_time": "2023-03-16T18:21:40.384Z"
   },
   {
    "duration": 9,
    "start_time": "2023-03-16T18:25:05.474Z"
   },
   {
    "duration": 9,
    "start_time": "2023-03-16T18:26:25.494Z"
   },
   {
    "duration": 9,
    "start_time": "2023-03-16T18:27:49.171Z"
   },
   {
    "duration": 8,
    "start_time": "2023-03-16T18:29:15.899Z"
   },
   {
    "duration": 114,
    "start_time": "2023-03-16T18:30:45.783Z"
   },
   {
    "duration": 147,
    "start_time": "2023-03-16T18:31:59.636Z"
   },
   {
    "duration": 157,
    "start_time": "2023-03-16T18:32:55.643Z"
   },
   {
    "duration": 219,
    "start_time": "2023-03-16T18:34:08.039Z"
   },
   {
    "duration": 151,
    "start_time": "2023-03-16T18:35:27.470Z"
   },
   {
    "duration": 133,
    "start_time": "2023-03-16T18:37:23.008Z"
   },
   {
    "duration": 52,
    "start_time": "2023-03-16T19:00:59.363Z"
   },
   {
    "duration": 17,
    "start_time": "2023-03-16T19:07:24.801Z"
   },
   {
    "duration": 218,
    "start_time": "2023-03-16T19:08:16.247Z"
   },
   {
    "duration": 1180,
    "start_time": "2023-03-16T19:09:42.278Z"
   },
   {
    "duration": 325,
    "start_time": "2023-03-16T19:10:55.811Z"
   },
   {
    "duration": 954,
    "start_time": "2023-03-16T19:26:22.110Z"
   },
   {
    "duration": 682,
    "start_time": "2023-03-16T19:26:48.932Z"
   },
   {
    "duration": 741,
    "start_time": "2023-03-16T19:27:06.035Z"
   },
   {
    "duration": 651,
    "start_time": "2023-03-16T19:27:16.749Z"
   },
   {
    "duration": 845,
    "start_time": "2023-03-16T19:27:25.433Z"
   },
   {
    "duration": 12,
    "start_time": "2023-03-16T19:33:07.367Z"
   },
   {
    "duration": 5,
    "start_time": "2023-03-16T19:33:50.529Z"
   },
   {
    "duration": 11,
    "start_time": "2023-03-16T19:34:30.479Z"
   },
   {
    "duration": 282,
    "start_time": "2023-03-16T19:34:43.212Z"
   },
   {
    "duration": 158,
    "start_time": "2023-03-16T19:35:17.521Z"
   },
   {
    "duration": 10,
    "start_time": "2023-03-16T19:39:25.635Z"
   },
   {
    "duration": 4,
    "start_time": "2023-03-16T19:41:13.025Z"
   },
   {
    "duration": 11,
    "start_time": "2023-03-16T19:42:54.796Z"
   },
   {
    "duration": 3,
    "start_time": "2023-03-16T19:42:58.107Z"
   },
   {
    "duration": 160,
    "start_time": "2023-03-16T19:42:59.507Z"
   },
   {
    "duration": 161,
    "start_time": "2023-03-16T20:21:40.107Z"
   },
   {
    "duration": 5,
    "start_time": "2023-03-16T20:22:11.760Z"
   },
   {
    "duration": 158,
    "start_time": "2023-03-16T20:22:12.924Z"
   },
   {
    "duration": 211,
    "start_time": "2023-03-16T20:28:37.540Z"
   },
   {
    "duration": 1182,
    "start_time": "2023-03-16T20:47:17.462Z"
   },
   {
    "duration": 64,
    "start_time": "2023-03-16T20:47:18.646Z"
   },
   {
    "duration": 15,
    "start_time": "2023-03-16T20:47:18.711Z"
   },
   {
    "duration": 17,
    "start_time": "2023-03-16T20:47:18.728Z"
   },
   {
    "duration": 532,
    "start_time": "2023-03-16T20:47:18.746Z"
   },
   {
    "duration": 4,
    "start_time": "2023-03-16T20:47:19.279Z"
   },
   {
    "duration": 11,
    "start_time": "2023-03-16T20:47:19.284Z"
   },
   {
    "duration": 13,
    "start_time": "2023-03-16T20:47:19.296Z"
   },
   {
    "duration": 5,
    "start_time": "2023-03-16T20:47:19.311Z"
   },
   {
    "duration": 12,
    "start_time": "2023-03-16T20:47:19.319Z"
   },
   {
    "duration": 32,
    "start_time": "2023-03-16T20:47:19.332Z"
   },
   {
    "duration": 14,
    "start_time": "2023-03-16T20:47:19.365Z"
   },
   {
    "duration": 12,
    "start_time": "2023-03-16T20:47:19.380Z"
   },
   {
    "duration": 11,
    "start_time": "2023-03-16T20:47:19.394Z"
   },
   {
    "duration": 9,
    "start_time": "2023-03-16T20:47:19.407Z"
   },
   {
    "duration": 3,
    "start_time": "2023-03-16T20:47:19.418Z"
   },
   {
    "duration": 72,
    "start_time": "2023-03-16T20:47:19.422Z"
   },
   {
    "duration": 20,
    "start_time": "2023-03-16T20:47:19.496Z"
   },
   {
    "duration": 16,
    "start_time": "2023-03-16T20:47:19.518Z"
   },
   {
    "duration": 23,
    "start_time": "2023-03-16T20:47:19.535Z"
   },
   {
    "duration": 19,
    "start_time": "2023-03-16T20:47:19.559Z"
   },
   {
    "duration": 15,
    "start_time": "2023-03-16T20:47:19.579Z"
   },
   {
    "duration": 16,
    "start_time": "2023-03-16T20:47:19.596Z"
   },
   {
    "duration": 13,
    "start_time": "2023-03-16T20:47:19.614Z"
   },
   {
    "duration": 16,
    "start_time": "2023-03-16T20:47:19.658Z"
   },
   {
    "duration": 15,
    "start_time": "2023-03-16T20:47:19.675Z"
   },
   {
    "duration": 7,
    "start_time": "2023-03-16T20:47:19.692Z"
   },
   {
    "duration": 13,
    "start_time": "2023-03-16T20:47:19.702Z"
   },
   {
    "duration": 42,
    "start_time": "2023-03-16T20:47:19.716Z"
   },
   {
    "duration": 10,
    "start_time": "2023-03-16T20:47:19.759Z"
   },
   {
    "duration": 15,
    "start_time": "2023-03-16T20:47:19.771Z"
   },
   {
    "duration": 14,
    "start_time": "2023-03-16T20:47:19.788Z"
   },
   {
    "duration": 18,
    "start_time": "2023-03-16T20:47:19.803Z"
   },
   {
    "duration": 40,
    "start_time": "2023-03-16T20:47:19.822Z"
   },
   {
    "duration": 17,
    "start_time": "2023-03-16T20:47:19.864Z"
   },
   {
    "duration": 9,
    "start_time": "2023-03-16T20:47:19.883Z"
   },
   {
    "duration": 22,
    "start_time": "2023-03-16T20:47:19.894Z"
   },
   {
    "duration": 6,
    "start_time": "2023-03-16T20:47:19.919Z"
   },
   {
    "duration": 15,
    "start_time": "2023-03-16T20:47:19.958Z"
   },
   {
    "duration": 19,
    "start_time": "2023-03-16T20:47:19.976Z"
   },
   {
    "duration": 5,
    "start_time": "2023-03-16T20:47:19.997Z"
   },
   {
    "duration": 24,
    "start_time": "2023-03-16T20:47:20.004Z"
   },
   {
    "duration": 14,
    "start_time": "2023-03-16T20:47:20.031Z"
   },
   {
    "duration": 333,
    "start_time": "2023-03-16T20:47:20.047Z"
   },
   {
    "duration": 23,
    "start_time": "2023-03-16T20:47:20.382Z"
   },
   {
    "duration": 21,
    "start_time": "2023-03-16T20:47:20.407Z"
   },
   {
    "duration": 2238,
    "start_time": "2023-03-16T20:47:20.429Z"
   },
   {
    "duration": 8,
    "start_time": "2023-03-16T20:47:22.669Z"
   },
   {
    "duration": 186,
    "start_time": "2023-03-16T20:47:22.678Z"
   },
   {
    "duration": 178,
    "start_time": "2023-03-16T20:47:22.866Z"
   },
   {
    "duration": 179,
    "start_time": "2023-03-16T20:47:23.046Z"
   },
   {
    "duration": 180,
    "start_time": "2023-03-16T20:47:23.227Z"
   },
   {
    "duration": 174,
    "start_time": "2023-03-16T20:47:23.409Z"
   },
   {
    "duration": 182,
    "start_time": "2023-03-16T20:47:23.585Z"
   },
   {
    "duration": 6,
    "start_time": "2023-03-16T20:47:23.768Z"
   },
   {
    "duration": 32,
    "start_time": "2023-03-16T20:47:23.776Z"
   },
   {
    "duration": 219,
    "start_time": "2023-03-16T20:47:23.810Z"
   },
   {
    "duration": 2,
    "start_time": "2023-03-16T20:47:24.031Z"
   },
   {
    "duration": 11,
    "start_time": "2023-03-16T20:47:24.035Z"
   },
   {
    "duration": 36,
    "start_time": "2023-03-16T20:47:24.047Z"
   },
   {
    "duration": 394,
    "start_time": "2023-03-16T20:47:24.085Z"
   },
   {
    "duration": 9,
    "start_time": "2023-03-16T20:47:24.481Z"
   },
   {
    "duration": 145,
    "start_time": "2023-03-16T20:47:24.491Z"
   },
   {
    "duration": 138,
    "start_time": "2023-03-16T20:47:24.638Z"
   },
   {
    "duration": 9,
    "start_time": "2023-03-16T20:47:24.777Z"
   },
   {
    "duration": 11,
    "start_time": "2023-03-16T20:47:24.788Z"
   },
   {
    "duration": 9,
    "start_time": "2023-03-16T20:47:24.801Z"
   },
   {
    "duration": 14,
    "start_time": "2023-03-16T20:47:24.811Z"
   },
   {
    "duration": 30,
    "start_time": "2023-03-16T20:47:24.827Z"
   },
   {
    "duration": 128,
    "start_time": "2023-03-16T20:47:24.859Z"
   },
   {
    "duration": 9,
    "start_time": "2023-03-16T20:47:24.989Z"
   },
   {
    "duration": 143,
    "start_time": "2023-03-16T20:47:24.999Z"
   },
   {
    "duration": 245,
    "start_time": "2023-03-16T20:47:25.144Z"
   },
   {
    "duration": 5,
    "start_time": "2023-03-16T20:48:08.909Z"
   },
   {
    "duration": 186,
    "start_time": "2023-03-16T20:48:08.916Z"
   },
   {
    "duration": 107,
    "start_time": "2023-03-16T20:48:09.103Z"
   },
   {
    "duration": 0,
    "start_time": "2023-03-16T20:48:09.212Z"
   },
   {
    "duration": 0,
    "start_time": "2023-03-16T20:48:09.213Z"
   },
   {
    "duration": 0,
    "start_time": "2023-03-16T20:48:09.214Z"
   },
   {
    "duration": 0,
    "start_time": "2023-03-16T20:48:09.215Z"
   },
   {
    "duration": 0,
    "start_time": "2023-03-16T20:48:09.217Z"
   },
   {
    "duration": 0,
    "start_time": "2023-03-16T20:48:09.218Z"
   },
   {
    "duration": 0,
    "start_time": "2023-03-16T20:48:09.219Z"
   },
   {
    "duration": 0,
    "start_time": "2023-03-16T20:48:09.220Z"
   },
   {
    "duration": 0,
    "start_time": "2023-03-16T20:48:09.221Z"
   },
   {
    "duration": 0,
    "start_time": "2023-03-16T20:48:09.223Z"
   },
   {
    "duration": 1100,
    "start_time": "2023-03-16T20:49:46.966Z"
   },
   {
    "duration": 68,
    "start_time": "2023-03-16T20:49:48.068Z"
   },
   {
    "duration": 14,
    "start_time": "2023-03-16T20:49:48.138Z"
   },
   {
    "duration": 17,
    "start_time": "2023-03-16T20:49:48.153Z"
   },
   {
    "duration": 550,
    "start_time": "2023-03-16T20:49:48.171Z"
   },
   {
    "duration": 4,
    "start_time": "2023-03-16T20:49:48.722Z"
   },
   {
    "duration": 24,
    "start_time": "2023-03-16T20:49:48.727Z"
   },
   {
    "duration": 5,
    "start_time": "2023-03-16T20:49:48.752Z"
   },
   {
    "duration": 6,
    "start_time": "2023-03-16T20:49:48.758Z"
   },
   {
    "duration": 16,
    "start_time": "2023-03-16T20:49:48.766Z"
   },
   {
    "duration": 31,
    "start_time": "2023-03-16T20:49:48.783Z"
   },
   {
    "duration": 13,
    "start_time": "2023-03-16T20:49:48.816Z"
   },
   {
    "duration": 15,
    "start_time": "2023-03-16T20:49:48.831Z"
   },
   {
    "duration": 21,
    "start_time": "2023-03-16T20:49:48.847Z"
   },
   {
    "duration": 8,
    "start_time": "2023-03-16T20:49:48.869Z"
   },
   {
    "duration": 5,
    "start_time": "2023-03-16T20:49:48.879Z"
   },
   {
    "duration": 33,
    "start_time": "2023-03-16T20:49:48.886Z"
   },
   {
    "duration": 18,
    "start_time": "2023-03-16T20:49:48.920Z"
   },
   {
    "duration": 15,
    "start_time": "2023-03-16T20:49:48.956Z"
   },
   {
    "duration": 5,
    "start_time": "2023-03-16T20:49:48.972Z"
   },
   {
    "duration": 17,
    "start_time": "2023-03-16T20:49:48.978Z"
   },
   {
    "duration": 14,
    "start_time": "2023-03-16T20:49:48.996Z"
   },
   {
    "duration": 15,
    "start_time": "2023-03-16T20:49:49.012Z"
   },
   {
    "duration": 37,
    "start_time": "2023-03-16T20:49:49.028Z"
   },
   {
    "duration": 14,
    "start_time": "2023-03-16T20:49:49.067Z"
   },
   {
    "duration": 14,
    "start_time": "2023-03-16T20:49:49.083Z"
   },
   {
    "duration": 9,
    "start_time": "2023-03-16T20:49:49.098Z"
   },
   {
    "duration": 17,
    "start_time": "2023-03-16T20:49:49.111Z"
   },
   {
    "duration": 29,
    "start_time": "2023-03-16T20:49:49.131Z"
   },
   {
    "duration": 9,
    "start_time": "2023-03-16T20:49:49.161Z"
   },
   {
    "duration": 19,
    "start_time": "2023-03-16T20:49:49.172Z"
   },
   {
    "duration": 10,
    "start_time": "2023-03-16T20:49:49.193Z"
   },
   {
    "duration": 18,
    "start_time": "2023-03-16T20:49:49.204Z"
   },
   {
    "duration": 41,
    "start_time": "2023-03-16T20:49:49.223Z"
   },
   {
    "duration": 24,
    "start_time": "2023-03-16T20:49:49.265Z"
   },
   {
    "duration": 10,
    "start_time": "2023-03-16T20:49:49.290Z"
   },
   {
    "duration": 27,
    "start_time": "2023-03-16T20:49:49.301Z"
   },
   {
    "duration": 31,
    "start_time": "2023-03-16T20:49:49.330Z"
   },
   {
    "duration": 12,
    "start_time": "2023-03-16T20:49:49.362Z"
   },
   {
    "duration": 12,
    "start_time": "2023-03-16T20:49:49.376Z"
   },
   {
    "duration": 4,
    "start_time": "2023-03-16T20:49:49.390Z"
   },
   {
    "duration": 9,
    "start_time": "2023-03-16T20:49:49.395Z"
   },
   {
    "duration": 10,
    "start_time": "2023-03-16T20:49:49.405Z"
   },
   {
    "duration": 336,
    "start_time": "2023-03-16T20:49:49.417Z"
   },
   {
    "duration": 24,
    "start_time": "2023-03-16T20:49:49.757Z"
   },
   {
    "duration": 19,
    "start_time": "2023-03-16T20:49:49.782Z"
   },
   {
    "duration": 2045,
    "start_time": "2023-03-16T20:49:49.803Z"
   },
   {
    "duration": 12,
    "start_time": "2023-03-16T20:49:51.849Z"
   },
   {
    "duration": 203,
    "start_time": "2023-03-16T20:49:51.863Z"
   },
   {
    "duration": 201,
    "start_time": "2023-03-16T20:49:52.068Z"
   },
   {
    "duration": 178,
    "start_time": "2023-03-16T20:49:52.271Z"
   },
   {
    "duration": 185,
    "start_time": "2023-03-16T20:49:52.450Z"
   },
   {
    "duration": 177,
    "start_time": "2023-03-16T20:49:52.637Z"
   },
   {
    "duration": 184,
    "start_time": "2023-03-16T20:49:52.817Z"
   },
   {
    "duration": 6,
    "start_time": "2023-03-16T20:49:53.003Z"
   },
   {
    "duration": 22,
    "start_time": "2023-03-16T20:49:53.011Z"
   },
   {
    "duration": 275,
    "start_time": "2023-03-16T20:49:53.035Z"
   },
   {
    "duration": 4,
    "start_time": "2023-03-16T20:49:53.312Z"
   },
   {
    "duration": 11,
    "start_time": "2023-03-16T20:49:53.317Z"
   },
   {
    "duration": 31,
    "start_time": "2023-03-16T20:49:53.330Z"
   },
   {
    "duration": 400,
    "start_time": "2023-03-16T20:49:53.363Z"
   },
   {
    "duration": 9,
    "start_time": "2023-03-16T20:49:53.765Z"
   },
   {
    "duration": 145,
    "start_time": "2023-03-16T20:49:53.776Z"
   },
   {
    "duration": 138,
    "start_time": "2023-03-16T20:49:53.922Z"
   },
   {
    "duration": 11,
    "start_time": "2023-03-16T20:49:54.062Z"
   },
   {
    "duration": 15,
    "start_time": "2023-03-16T20:49:54.074Z"
   },
   {
    "duration": 10,
    "start_time": "2023-03-16T20:49:54.091Z"
   },
   {
    "duration": 10,
    "start_time": "2023-03-16T20:49:54.103Z"
   },
   {
    "duration": 10,
    "start_time": "2023-03-16T20:49:54.114Z"
   },
   {
    "duration": 164,
    "start_time": "2023-03-16T20:49:54.126Z"
   },
   {
    "duration": 12,
    "start_time": "2023-03-16T20:49:54.293Z"
   },
   {
    "duration": 141,
    "start_time": "2023-03-16T20:49:54.307Z"
   },
   {
    "duration": 243,
    "start_time": "2023-03-16T20:49:54.449Z"
   },
   {
    "duration": 191,
    "start_time": "2023-03-16T20:49:54.693Z"
   },
   {
    "duration": 4,
    "start_time": "2023-03-16T20:49:54.885Z"
   },
   {
    "duration": 157,
    "start_time": "2023-03-16T20:49:54.891Z"
   },
   {
    "duration": 121,
    "start_time": "2023-03-16T20:49:55.050Z"
   },
   {
    "duration": 0,
    "start_time": "2023-03-16T20:49:55.173Z"
   },
   {
    "duration": 0,
    "start_time": "2023-03-16T20:49:55.174Z"
   },
   {
    "duration": 0,
    "start_time": "2023-03-16T20:49:55.175Z"
   },
   {
    "duration": 0,
    "start_time": "2023-03-16T20:49:55.177Z"
   },
   {
    "duration": 0,
    "start_time": "2023-03-16T20:49:55.178Z"
   },
   {
    "duration": 0,
    "start_time": "2023-03-16T20:49:55.179Z"
   },
   {
    "duration": 0,
    "start_time": "2023-03-16T20:49:55.180Z"
   },
   {
    "duration": 0,
    "start_time": "2023-03-16T20:49:55.181Z"
   },
   {
    "duration": 0,
    "start_time": "2023-03-16T20:49:55.182Z"
   },
   {
    "duration": 3,
    "start_time": "2023-03-16T20:55:00.796Z"
   },
   {
    "duration": 4,
    "start_time": "2023-03-16T20:55:10.592Z"
   },
   {
    "duration": 22,
    "start_time": "2023-03-16T20:55:31.993Z"
   },
   {
    "duration": 303,
    "start_time": "2023-03-16T20:56:28.702Z"
   },
   {
    "duration": 219,
    "start_time": "2023-03-16T20:58:27.857Z"
   },
   {
    "duration": 57,
    "start_time": "2023-03-17T14:29:12.374Z"
   },
   {
    "duration": 1423,
    "start_time": "2023-03-17T14:29:20.649Z"
   },
   {
    "duration": 518,
    "start_time": "2023-03-17T14:29:22.074Z"
   },
   {
    "duration": 22,
    "start_time": "2023-03-17T14:29:22.609Z"
   },
   {
    "duration": 32,
    "start_time": "2023-03-17T14:29:22.634Z"
   },
   {
    "duration": 690,
    "start_time": "2023-03-17T14:29:22.668Z"
   },
   {
    "duration": 3,
    "start_time": "2023-03-17T14:29:23.360Z"
   },
   {
    "duration": 17,
    "start_time": "2023-03-17T14:29:23.364Z"
   },
   {
    "duration": 19,
    "start_time": "2023-03-17T14:29:23.382Z"
   },
   {
    "duration": 4,
    "start_time": "2023-03-17T14:29:23.404Z"
   },
   {
    "duration": 10,
    "start_time": "2023-03-17T14:29:23.411Z"
   },
   {
    "duration": 25,
    "start_time": "2023-03-17T14:29:23.423Z"
   },
   {
    "duration": 15,
    "start_time": "2023-03-17T14:29:23.449Z"
   },
   {
    "duration": 45,
    "start_time": "2023-03-17T14:29:23.466Z"
   },
   {
    "duration": 13,
    "start_time": "2023-03-17T14:29:23.513Z"
   },
   {
    "duration": 14,
    "start_time": "2023-03-17T14:29:23.528Z"
   },
   {
    "duration": 4,
    "start_time": "2023-03-17T14:29:23.544Z"
   },
   {
    "duration": 61,
    "start_time": "2023-03-17T14:29:23.550Z"
   },
   {
    "duration": 58,
    "start_time": "2023-03-17T14:29:23.613Z"
   },
   {
    "duration": 70,
    "start_time": "2023-03-17T14:29:23.674Z"
   },
   {
    "duration": 76,
    "start_time": "2023-03-17T14:29:23.746Z"
   },
   {
    "duration": 44,
    "start_time": "2023-03-17T14:29:23.824Z"
   },
   {
    "duration": 43,
    "start_time": "2023-03-17T14:29:23.869Z"
   },
   {
    "duration": 33,
    "start_time": "2023-03-17T14:29:23.914Z"
   },
   {
    "duration": 24,
    "start_time": "2023-03-17T14:29:23.949Z"
   },
   {
    "duration": 49,
    "start_time": "2023-03-17T14:29:23.975Z"
   },
   {
    "duration": 23,
    "start_time": "2023-03-17T14:29:24.026Z"
   },
   {
    "duration": 49,
    "start_time": "2023-03-17T14:29:24.051Z"
   },
   {
    "duration": 26,
    "start_time": "2023-03-17T14:29:24.105Z"
   },
   {
    "duration": 10,
    "start_time": "2023-03-17T14:29:24.133Z"
   },
   {
    "duration": 16,
    "start_time": "2023-03-17T14:29:24.144Z"
   },
   {
    "duration": 32,
    "start_time": "2023-03-17T14:29:24.162Z"
   },
   {
    "duration": 10,
    "start_time": "2023-03-17T14:29:24.199Z"
   },
   {
    "duration": 29,
    "start_time": "2023-03-17T14:29:24.211Z"
   },
   {
    "duration": 9,
    "start_time": "2023-03-17T14:29:24.242Z"
   },
   {
    "duration": 20,
    "start_time": "2023-03-17T14:29:24.253Z"
   },
   {
    "duration": 31,
    "start_time": "2023-03-17T14:29:24.275Z"
   },
   {
    "duration": 42,
    "start_time": "2023-03-17T14:29:24.308Z"
   },
   {
    "duration": 5,
    "start_time": "2023-03-17T14:29:24.352Z"
   },
   {
    "duration": 26,
    "start_time": "2023-03-17T14:29:24.359Z"
   },
   {
    "duration": 23,
    "start_time": "2023-03-17T14:29:24.387Z"
   },
   {
    "duration": 4,
    "start_time": "2023-03-17T14:29:24.412Z"
   },
   {
    "duration": 7,
    "start_time": "2023-03-17T14:29:24.417Z"
   },
   {
    "duration": 18,
    "start_time": "2023-03-17T14:29:24.426Z"
   },
   {
    "duration": 395,
    "start_time": "2023-03-17T14:29:24.446Z"
   },
   {
    "duration": 28,
    "start_time": "2023-03-17T14:29:24.842Z"
   },
   {
    "duration": 39,
    "start_time": "2023-03-17T14:29:24.872Z"
   },
   {
    "duration": 2590,
    "start_time": "2023-03-17T14:29:24.913Z"
   },
   {
    "duration": 8,
    "start_time": "2023-03-17T14:29:27.506Z"
   },
   {
    "duration": 252,
    "start_time": "2023-03-17T14:29:27.516Z"
   },
   {
    "duration": 310,
    "start_time": "2023-03-17T14:29:27.771Z"
   },
   {
    "duration": 254,
    "start_time": "2023-03-17T14:29:28.086Z"
   },
   {
    "duration": 243,
    "start_time": "2023-03-17T14:29:28.342Z"
   },
   {
    "duration": 255,
    "start_time": "2023-03-17T14:29:28.588Z"
   },
   {
    "duration": 222,
    "start_time": "2023-03-17T14:29:28.846Z"
   },
   {
    "duration": 6,
    "start_time": "2023-03-17T14:29:29.070Z"
   },
   {
    "duration": 34,
    "start_time": "2023-03-17T14:29:29.078Z"
   },
   {
    "duration": 269,
    "start_time": "2023-03-17T14:29:29.114Z"
   },
   {
    "duration": 16,
    "start_time": "2023-03-17T14:29:29.385Z"
   },
   {
    "duration": 7,
    "start_time": "2023-03-17T14:29:29.404Z"
   },
   {
    "duration": 27,
    "start_time": "2023-03-17T14:29:29.412Z"
   },
   {
    "duration": 494,
    "start_time": "2023-03-17T14:29:29.441Z"
   },
   {
    "duration": 9,
    "start_time": "2023-03-17T14:29:29.937Z"
   },
   {
    "duration": 194,
    "start_time": "2023-03-17T14:29:29.947Z"
   },
   {
    "duration": 168,
    "start_time": "2023-03-17T14:29:30.143Z"
   },
   {
    "duration": 10,
    "start_time": "2023-03-17T14:29:30.313Z"
   },
   {
    "duration": 79,
    "start_time": "2023-03-17T14:29:30.325Z"
   },
   {
    "duration": 56,
    "start_time": "2023-03-17T14:29:30.408Z"
   },
   {
    "duration": 74,
    "start_time": "2023-03-17T14:29:30.466Z"
   },
   {
    "duration": 74,
    "start_time": "2023-03-17T14:29:30.542Z"
   },
   {
    "duration": 204,
    "start_time": "2023-03-17T14:29:30.618Z"
   },
   {
    "duration": 9,
    "start_time": "2023-03-17T14:29:30.823Z"
   },
   {
    "duration": 212,
    "start_time": "2023-03-17T14:29:30.834Z"
   },
   {
    "duration": 360,
    "start_time": "2023-03-17T14:29:31.047Z"
   },
   {
    "duration": 252,
    "start_time": "2023-03-17T14:29:31.409Z"
   },
   {
    "duration": 5,
    "start_time": "2023-03-17T14:29:31.663Z"
   },
   {
    "duration": 184,
    "start_time": "2023-03-17T14:29:31.670Z"
   },
   {
    "duration": 128,
    "start_time": "2023-03-17T14:29:31.855Z"
   },
   {
    "duration": 0,
    "start_time": "2023-03-17T14:29:31.985Z"
   },
   {
    "duration": 0,
    "start_time": "2023-03-17T14:29:31.993Z"
   },
   {
    "duration": 0,
    "start_time": "2023-03-17T14:29:31.994Z"
   },
   {
    "duration": 0,
    "start_time": "2023-03-17T14:29:31.995Z"
   },
   {
    "duration": 0,
    "start_time": "2023-03-17T14:29:31.996Z"
   },
   {
    "duration": 0,
    "start_time": "2023-03-17T14:29:31.997Z"
   },
   {
    "duration": 0,
    "start_time": "2023-03-17T14:29:31.998Z"
   },
   {
    "duration": 0,
    "start_time": "2023-03-17T14:29:31.998Z"
   },
   {
    "duration": 0,
    "start_time": "2023-03-17T14:29:31.999Z"
   },
   {
    "duration": 241,
    "start_time": "2023-03-17T14:31:20.316Z"
   },
   {
    "duration": 210,
    "start_time": "2023-03-17T14:39:00.221Z"
   },
   {
    "duration": 25,
    "start_time": "2023-03-17T15:50:51.152Z"
   },
   {
    "duration": 15,
    "start_time": "2023-03-17T15:53:57.323Z"
   },
   {
    "duration": 5,
    "start_time": "2023-03-17T15:54:47.357Z"
   },
   {
    "duration": 281,
    "start_time": "2023-03-17T15:54:49.281Z"
   },
   {
    "duration": 213,
    "start_time": "2023-03-17T15:58:21.277Z"
   },
   {
    "duration": 17,
    "start_time": "2023-03-17T16:01:22.919Z"
   },
   {
    "duration": 100,
    "start_time": "2023-03-17T16:02:07.337Z"
   },
   {
    "duration": 13,
    "start_time": "2023-03-17T16:02:17.321Z"
   },
   {
    "duration": 75,
    "start_time": "2023-03-17T16:02:46.401Z"
   },
   {
    "duration": 5,
    "start_time": "2023-03-17T16:03:31.117Z"
   },
   {
    "duration": 6,
    "start_time": "2023-03-17T16:03:39.410Z"
   },
   {
    "duration": 4,
    "start_time": "2023-03-17T16:03:54.715Z"
   },
   {
    "duration": 13,
    "start_time": "2023-03-17T16:03:55.844Z"
   },
   {
    "duration": 107,
    "start_time": "2023-03-17T16:08:06.579Z"
   },
   {
    "duration": 19,
    "start_time": "2023-03-17T16:08:25.203Z"
   },
   {
    "duration": 7,
    "start_time": "2023-03-17T16:09:31.423Z"
   },
   {
    "duration": 5,
    "start_time": "2023-03-17T16:09:37.269Z"
   },
   {
    "duration": 118,
    "start_time": "2023-03-17T16:11:26.514Z"
   },
   {
    "duration": 133,
    "start_time": "2023-03-17T16:14:02.751Z"
   },
   {
    "duration": 15,
    "start_time": "2023-03-17T16:14:31.821Z"
   },
   {
    "duration": 13,
    "start_time": "2023-03-17T16:14:48.511Z"
   },
   {
    "duration": 16,
    "start_time": "2023-03-17T16:17:29.368Z"
   },
   {
    "duration": 21,
    "start_time": "2023-03-17T16:17:45.927Z"
   },
   {
    "duration": 70,
    "start_time": "2023-03-17T16:19:22.913Z"
   },
   {
    "duration": 19,
    "start_time": "2023-03-17T16:19:44.562Z"
   },
   {
    "duration": 25,
    "start_time": "2023-03-17T16:21:00.279Z"
   },
   {
    "duration": 27,
    "start_time": "2023-03-17T16:21:37.716Z"
   },
   {
    "duration": 21,
    "start_time": "2023-03-17T16:21:54.614Z"
   },
   {
    "duration": 26,
    "start_time": "2023-03-17T16:22:53.285Z"
   },
   {
    "duration": 20,
    "start_time": "2023-03-17T16:23:08.476Z"
   },
   {
    "duration": 18,
    "start_time": "2023-03-17T16:23:48.280Z"
   },
   {
    "duration": 19,
    "start_time": "2023-03-17T16:24:14.923Z"
   },
   {
    "duration": 6,
    "start_time": "2023-03-17T16:26:56.314Z"
   },
   {
    "duration": 10,
    "start_time": "2023-03-17T16:27:13.302Z"
   },
   {
    "duration": 1145,
    "start_time": "2023-03-17T16:53:11.005Z"
   },
   {
    "duration": 3,
    "start_time": "2023-03-17T16:53:45.529Z"
   },
   {
    "duration": 12,
    "start_time": "2023-03-17T16:54:03.948Z"
   },
   {
    "duration": 68,
    "start_time": "2023-03-17T17:01:02.735Z"
   },
   {
    "duration": 100,
    "start_time": "2023-03-17T17:02:26.005Z"
   },
   {
    "duration": 92,
    "start_time": "2023-03-17T17:02:53.474Z"
   },
   {
    "duration": 76,
    "start_time": "2023-03-17T17:03:41.058Z"
   },
   {
    "duration": 17,
    "start_time": "2023-03-17T17:04:00.751Z"
   },
   {
    "duration": 19,
    "start_time": "2023-03-17T17:05:38.049Z"
   },
   {
    "duration": 18,
    "start_time": "2023-03-17T17:06:23.979Z"
   },
   {
    "duration": 20,
    "start_time": "2023-03-17T17:07:21.569Z"
   },
   {
    "duration": 170,
    "start_time": "2023-03-17T17:09:59.467Z"
   },
   {
    "duration": 170,
    "start_time": "2023-03-17T17:10:35.521Z"
   },
   {
    "duration": 280,
    "start_time": "2023-03-17T17:11:44.338Z"
   },
   {
    "duration": 246,
    "start_time": "2023-03-17T17:12:19.845Z"
   },
   {
    "duration": 235,
    "start_time": "2023-03-17T17:12:34.362Z"
   },
   {
    "duration": 1587,
    "start_time": "2023-03-17T17:13:49.267Z"
   },
   {
    "duration": 243,
    "start_time": "2023-03-17T17:14:37.936Z"
   },
   {
    "duration": 223,
    "start_time": "2023-03-17T17:17:33.891Z"
   },
   {
    "duration": 261,
    "start_time": "2023-03-17T17:18:24.248Z"
   },
   {
    "duration": 242,
    "start_time": "2023-03-17T17:20:11.708Z"
   },
   {
    "duration": 1586,
    "start_time": "2023-03-17T17:21:35.752Z"
   },
   {
    "duration": 1592,
    "start_time": "2023-03-17T17:29:54.493Z"
   },
   {
    "duration": 71,
    "start_time": "2023-03-17T17:36:44.799Z"
   },
   {
    "duration": 1633,
    "start_time": "2023-03-17T17:39:01.159Z"
   },
   {
    "duration": 2137,
    "start_time": "2023-03-17T17:40:18.279Z"
   },
   {
    "duration": 1776,
    "start_time": "2023-03-17T17:40:38.267Z"
   },
   {
    "duration": 1688,
    "start_time": "2023-03-17T17:41:19.275Z"
   },
   {
    "duration": 2002,
    "start_time": "2023-03-17T17:41:34.013Z"
   },
   {
    "duration": 1626,
    "start_time": "2023-03-17T17:41:55.560Z"
   },
   {
    "duration": 1442,
    "start_time": "2023-03-17T17:44:49.377Z"
   },
   {
    "duration": 1703,
    "start_time": "2023-03-17T17:45:10.189Z"
   },
   {
    "duration": 1333,
    "start_time": "2023-03-17T17:45:30.230Z"
   },
   {
    "duration": 74,
    "start_time": "2023-03-17T17:46:48.760Z"
   },
   {
    "duration": 68,
    "start_time": "2023-03-17T17:47:41.051Z"
   },
   {
    "duration": 68,
    "start_time": "2023-03-17T17:47:52.679Z"
   },
   {
    "duration": 1470,
    "start_time": "2023-03-17T17:48:36.854Z"
   },
   {
    "duration": 1193,
    "start_time": "2023-03-17T17:48:59.303Z"
   },
   {
    "duration": 1732,
    "start_time": "2023-03-17T17:49:27.918Z"
   },
   {
    "duration": 1233,
    "start_time": "2023-03-17T17:49:53.230Z"
   },
   {
    "duration": 1283,
    "start_time": "2023-03-17T17:50:34.006Z"
   },
   {
    "duration": 1485,
    "start_time": "2023-03-17T17:50:56.299Z"
   },
   {
    "duration": 1912,
    "start_time": "2023-03-17T17:52:18.845Z"
   },
   {
    "duration": 355,
    "start_time": "2023-03-17T18:15:26.316Z"
   },
   {
    "duration": 293,
    "start_time": "2023-03-17T18:17:13.601Z"
   },
   {
    "duration": 21,
    "start_time": "2023-03-17T18:18:19.780Z"
   },
   {
    "duration": 20,
    "start_time": "2023-03-17T18:19:19.062Z"
   },
   {
    "duration": 1152,
    "start_time": "2023-03-17T18:23:06.942Z"
   },
   {
    "duration": 1258,
    "start_time": "2023-03-17T18:23:29.304Z"
   },
   {
    "duration": 69,
    "start_time": "2023-03-17T18:26:10.907Z"
   },
   {
    "duration": 79,
    "start_time": "2023-03-17T18:26:27.214Z"
   },
   {
    "duration": 15,
    "start_time": "2023-03-17T18:26:37.481Z"
   },
   {
    "duration": 18,
    "start_time": "2023-03-17T18:26:53.341Z"
   },
   {
    "duration": 1147,
    "start_time": "2023-03-17T18:27:37.405Z"
   },
   {
    "duration": 21,
    "start_time": "2023-03-17T18:28:42.973Z"
   },
   {
    "duration": 76,
    "start_time": "2023-03-17T18:30:21.976Z"
   },
   {
    "duration": 22,
    "start_time": "2023-03-17T18:30:45.730Z"
   },
   {
    "duration": 24,
    "start_time": "2023-03-17T18:32:58.508Z"
   },
   {
    "duration": 72,
    "start_time": "2023-03-17T18:33:25.568Z"
   },
   {
    "duration": 24,
    "start_time": "2023-03-17T18:33:41.527Z"
   },
   {
    "duration": 22,
    "start_time": "2023-03-17T18:34:23.344Z"
   },
   {
    "duration": 1218,
    "start_time": "2023-03-17T18:35:26.197Z"
   },
   {
    "duration": 25,
    "start_time": "2023-03-17T18:35:48.561Z"
   },
   {
    "duration": 20,
    "start_time": "2023-03-17T18:36:35.722Z"
   },
   {
    "duration": 19,
    "start_time": "2023-03-17T18:36:54.264Z"
   },
   {
    "duration": 17,
    "start_time": "2023-03-17T18:38:32.358Z"
   },
   {
    "duration": 1192,
    "start_time": "2023-03-17T18:38:49.345Z"
   },
   {
    "duration": 89,
    "start_time": "2023-03-17T18:57:17.369Z"
   },
   {
    "duration": 21,
    "start_time": "2023-03-17T18:58:57.773Z"
   },
   {
    "duration": 73,
    "start_time": "2023-03-17T18:59:46.118Z"
   },
   {
    "duration": 92,
    "start_time": "2023-03-17T19:00:20.501Z"
   },
   {
    "duration": 24,
    "start_time": "2023-03-17T19:00:38.411Z"
   },
   {
    "duration": 19,
    "start_time": "2023-03-17T19:01:06.065Z"
   },
   {
    "duration": 24,
    "start_time": "2023-03-17T19:03:11.321Z"
   },
   {
    "duration": 360,
    "start_time": "2023-03-17T19:04:56.322Z"
   },
   {
    "duration": 27,
    "start_time": "2023-03-17T19:05:39.896Z"
   },
   {
    "duration": 22,
    "start_time": "2023-03-17T19:07:27.374Z"
   },
   {
    "duration": 14,
    "start_time": "2023-03-17T19:23:53.967Z"
   },
   {
    "duration": 19,
    "start_time": "2023-03-17T19:28:14.448Z"
   },
   {
    "duration": 3,
    "start_time": "2023-03-17T19:29:53.199Z"
   },
   {
    "duration": 4,
    "start_time": "2023-03-17T19:30:06.858Z"
   },
   {
    "duration": 7,
    "start_time": "2023-03-17T19:30:40.127Z"
   },
   {
    "duration": 6,
    "start_time": "2023-03-17T19:31:41.408Z"
   },
   {
    "duration": 8,
    "start_time": "2023-03-17T19:33:59.855Z"
   },
   {
    "duration": 10,
    "start_time": "2023-03-17T19:49:30.725Z"
   },
   {
    "duration": 10,
    "start_time": "2023-03-17T19:49:44.654Z"
   },
   {
    "duration": 9,
    "start_time": "2023-03-17T19:49:56.605Z"
   },
   {
    "duration": 10,
    "start_time": "2023-03-17T19:50:05.130Z"
   },
   {
    "duration": 302,
    "start_time": "2023-03-17T19:51:17.144Z"
   },
   {
    "duration": 271,
    "start_time": "2023-03-17T19:51:33.599Z"
   },
   {
    "duration": 266,
    "start_time": "2023-03-17T19:51:54.213Z"
   },
   {
    "duration": 263,
    "start_time": "2023-03-17T19:52:32.201Z"
   },
   {
    "duration": 6998,
    "start_time": "2023-03-17T19:52:51.304Z"
   },
   {
    "duration": 279,
    "start_time": "2023-03-17T19:53:33.084Z"
   },
   {
    "duration": 1520,
    "start_time": "2023-03-17T19:53:58.132Z"
   },
   {
    "duration": 344,
    "start_time": "2023-03-17T19:54:17.817Z"
   },
   {
    "duration": 587,
    "start_time": "2023-03-17T19:55:54.563Z"
   },
   {
    "duration": 436,
    "start_time": "2023-03-17T19:57:11.240Z"
   },
   {
    "duration": 371,
    "start_time": "2023-03-17T19:57:50.628Z"
   },
   {
    "duration": 434,
    "start_time": "2023-03-17T19:58:30.542Z"
   },
   {
    "duration": 340,
    "start_time": "2023-03-17T19:59:00.943Z"
   },
   {
    "duration": 437,
    "start_time": "2023-03-17T19:59:18.422Z"
   },
   {
    "duration": 508,
    "start_time": "2023-03-17T19:59:46.650Z"
   },
   {
    "duration": 578,
    "start_time": "2023-03-17T20:00:07.430Z"
   },
   {
    "duration": 562,
    "start_time": "2023-03-17T20:01:07.956Z"
   },
   {
    "duration": 828,
    "start_time": "2023-03-17T20:02:30.103Z"
   },
   {
    "duration": 577,
    "start_time": "2023-03-17T20:02:48.759Z"
   },
   {
    "duration": 627,
    "start_time": "2023-03-17T20:03:18.767Z"
   },
   {
    "duration": 557,
    "start_time": "2023-03-17T20:05:11.983Z"
   },
   {
    "duration": 622,
    "start_time": "2023-03-17T20:06:44.742Z"
   },
   {
    "duration": 651,
    "start_time": "2023-03-17T20:07:55.365Z"
   },
   {
    "duration": 1399,
    "start_time": "2023-03-17T20:08:16.881Z"
   },
   {
    "duration": 5,
    "start_time": "2023-03-17T20:18:39.938Z"
   },
   {
    "duration": 7,
    "start_time": "2023-03-17T20:19:15.710Z"
   },
   {
    "duration": 7,
    "start_time": "2023-03-17T20:19:45.975Z"
   },
   {
    "duration": 8,
    "start_time": "2023-03-17T20:20:33.303Z"
   },
   {
    "duration": 16,
    "start_time": "2023-03-17T20:20:50.686Z"
   },
   {
    "duration": 11,
    "start_time": "2023-03-17T20:21:28.460Z"
   },
   {
    "duration": 338,
    "start_time": "2023-03-17T20:21:32.820Z"
   },
   {
    "duration": 316,
    "start_time": "2023-03-17T20:22:29.971Z"
   },
   {
    "duration": 334,
    "start_time": "2023-03-17T20:24:14.919Z"
   },
   {
    "duration": 5,
    "start_time": "2023-03-17T20:26:01.003Z"
   },
   {
    "duration": 357,
    "start_time": "2023-03-17T20:30:55.007Z"
   },
   {
    "duration": 12,
    "start_time": "2023-03-17T20:31:15.773Z"
   },
   {
    "duration": 11,
    "start_time": "2023-03-17T20:32:37.816Z"
   },
   {
    "duration": 388,
    "start_time": "2023-03-17T20:32:48.980Z"
   },
   {
    "duration": 14,
    "start_time": "2023-03-17T20:33:26.598Z"
   },
   {
    "duration": 474,
    "start_time": "2023-03-17T20:33:27.882Z"
   },
   {
    "duration": 423,
    "start_time": "2023-03-17T20:38:11.950Z"
   },
   {
    "duration": 371,
    "start_time": "2023-03-17T20:38:51.777Z"
   },
   {
    "duration": 378,
    "start_time": "2023-03-17T20:40:06.809Z"
   },
   {
    "duration": 344,
    "start_time": "2023-03-17T20:41:03.107Z"
   },
   {
    "duration": 358,
    "start_time": "2023-03-17T20:41:30.735Z"
   },
   {
    "duration": 387,
    "start_time": "2023-03-17T20:42:00.936Z"
   },
   {
    "duration": 339,
    "start_time": "2023-03-17T20:42:20.838Z"
   },
   {
    "duration": 333,
    "start_time": "2023-03-17T20:42:44.398Z"
   },
   {
    "duration": 342,
    "start_time": "2023-03-17T20:43:41.507Z"
   },
   {
    "duration": 47,
    "start_time": "2023-03-18T08:00:52.848Z"
   },
   {
    "duration": 1358,
    "start_time": "2023-03-18T08:01:06.311Z"
   },
   {
    "duration": 205,
    "start_time": "2023-03-18T08:01:07.672Z"
   },
   {
    "duration": 17,
    "start_time": "2023-03-18T08:01:07.879Z"
   },
   {
    "duration": 17,
    "start_time": "2023-03-18T08:01:07.898Z"
   },
   {
    "duration": 666,
    "start_time": "2023-03-18T08:01:07.917Z"
   },
   {
    "duration": 3,
    "start_time": "2023-03-18T08:01:08.584Z"
   },
   {
    "duration": 16,
    "start_time": "2023-03-18T08:01:08.589Z"
   },
   {
    "duration": 5,
    "start_time": "2023-03-18T08:01:08.606Z"
   },
   {
    "duration": 4,
    "start_time": "2023-03-18T08:01:08.613Z"
   },
   {
    "duration": 13,
    "start_time": "2023-03-18T08:01:08.619Z"
   },
   {
    "duration": 36,
    "start_time": "2023-03-18T08:01:08.634Z"
   },
   {
    "duration": 16,
    "start_time": "2023-03-18T08:01:08.671Z"
   },
   {
    "duration": 13,
    "start_time": "2023-03-18T08:01:08.688Z"
   },
   {
    "duration": 10,
    "start_time": "2023-03-18T08:01:08.703Z"
   },
   {
    "duration": 9,
    "start_time": "2023-03-18T08:01:08.714Z"
   },
   {
    "duration": 2,
    "start_time": "2023-03-18T08:01:08.725Z"
   },
   {
    "duration": 39,
    "start_time": "2023-03-18T08:01:08.762Z"
   },
   {
    "duration": 22,
    "start_time": "2023-03-18T08:01:08.802Z"
   },
   {
    "duration": 125,
    "start_time": "2023-03-18T08:01:08.826Z"
   },
   {
    "duration": 4,
    "start_time": "2023-03-18T08:01:08.953Z"
   },
   {
    "duration": 17,
    "start_time": "2023-03-18T08:01:08.958Z"
   },
   {
    "duration": 17,
    "start_time": "2023-03-18T08:01:08.976Z"
   },
   {
    "duration": 15,
    "start_time": "2023-03-18T08:01:08.994Z"
   },
   {
    "duration": 15,
    "start_time": "2023-03-18T08:01:09.011Z"
   },
   {
    "duration": 38,
    "start_time": "2023-03-18T08:01:09.027Z"
   },
   {
    "duration": 16,
    "start_time": "2023-03-18T08:01:09.067Z"
   },
   {
    "duration": 6,
    "start_time": "2023-03-18T08:01:09.084Z"
   },
   {
    "duration": 17,
    "start_time": "2023-03-18T08:01:09.094Z"
   },
   {
    "duration": 9,
    "start_time": "2023-03-18T08:01:09.113Z"
   },
   {
    "duration": 9,
    "start_time": "2023-03-18T08:01:09.123Z"
   },
   {
    "duration": 42,
    "start_time": "2023-03-18T08:01:09.133Z"
   },
   {
    "duration": 13,
    "start_time": "2023-03-18T08:01:09.177Z"
   },
   {
    "duration": 21,
    "start_time": "2023-03-18T08:01:09.192Z"
   },
   {
    "duration": 10,
    "start_time": "2023-03-18T08:01:09.215Z"
   },
   {
    "duration": 48,
    "start_time": "2023-03-18T08:01:09.227Z"
   },
   {
    "duration": 10,
    "start_time": "2023-03-18T08:01:09.277Z"
   },
   {
    "duration": 31,
    "start_time": "2023-03-18T08:01:09.289Z"
   },
   {
    "duration": 4,
    "start_time": "2023-03-18T08:01:09.322Z"
   },
   {
    "duration": 34,
    "start_time": "2023-03-18T08:01:09.328Z"
   },
   {
    "duration": 13,
    "start_time": "2023-03-18T08:01:09.364Z"
   },
   {
    "duration": 7,
    "start_time": "2023-03-18T08:01:09.378Z"
   },
   {
    "duration": 5,
    "start_time": "2023-03-18T08:01:09.387Z"
   },
   {
    "duration": 9,
    "start_time": "2023-03-18T08:01:09.393Z"
   },
   {
    "duration": 370,
    "start_time": "2023-03-18T08:01:09.404Z"
   },
   {
    "duration": 26,
    "start_time": "2023-03-18T08:01:09.776Z"
   },
   {
    "duration": 22,
    "start_time": "2023-03-18T08:01:09.806Z"
   },
   {
    "duration": 2284,
    "start_time": "2023-03-18T08:01:09.829Z"
   },
   {
    "duration": 8,
    "start_time": "2023-03-18T08:01:12.115Z"
   },
   {
    "duration": 217,
    "start_time": "2023-03-18T08:01:12.125Z"
   },
   {
    "duration": 210,
    "start_time": "2023-03-18T08:01:12.344Z"
   },
   {
    "duration": 189,
    "start_time": "2023-03-18T08:01:12.562Z"
   },
   {
    "duration": 183,
    "start_time": "2023-03-18T08:01:12.753Z"
   },
   {
    "duration": 192,
    "start_time": "2023-03-18T08:01:12.938Z"
   },
   {
    "duration": 186,
    "start_time": "2023-03-18T08:01:13.131Z"
   },
   {
    "duration": 7,
    "start_time": "2023-03-18T08:01:13.318Z"
   },
   {
    "duration": 36,
    "start_time": "2023-03-18T08:01:13.326Z"
   },
   {
    "duration": 253,
    "start_time": "2023-03-18T08:01:13.364Z"
   },
   {
    "duration": 2,
    "start_time": "2023-03-18T08:01:13.619Z"
   },
   {
    "duration": 5,
    "start_time": "2023-03-18T08:01:13.623Z"
   },
   {
    "duration": 34,
    "start_time": "2023-03-18T08:01:13.629Z"
   },
   {
    "duration": 500,
    "start_time": "2023-03-18T08:01:13.665Z"
   },
   {
    "duration": 10,
    "start_time": "2023-03-18T08:01:14.167Z"
   },
   {
    "duration": 167,
    "start_time": "2023-03-18T08:01:14.179Z"
   },
   {
    "duration": 145,
    "start_time": "2023-03-18T08:01:14.348Z"
   },
   {
    "duration": 10,
    "start_time": "2023-03-18T08:01:14.495Z"
   },
   {
    "duration": 14,
    "start_time": "2023-03-18T08:01:14.507Z"
   },
   {
    "duration": 9,
    "start_time": "2023-03-18T08:01:14.524Z"
   },
   {
    "duration": 29,
    "start_time": "2023-03-18T08:01:14.535Z"
   },
   {
    "duration": 9,
    "start_time": "2023-03-18T08:01:14.566Z"
   },
   {
    "duration": 152,
    "start_time": "2023-03-18T08:01:14.576Z"
   },
   {
    "duration": 9,
    "start_time": "2023-03-18T08:01:14.730Z"
   },
   {
    "duration": 168,
    "start_time": "2023-03-18T08:01:14.741Z"
   },
   {
    "duration": 299,
    "start_time": "2023-03-18T08:01:14.911Z"
   },
   {
    "duration": 222,
    "start_time": "2023-03-18T08:01:15.212Z"
   },
   {
    "duration": 10,
    "start_time": "2023-03-18T08:01:15.436Z"
   },
   {
    "duration": 360,
    "start_time": "2023-03-18T08:01:15.447Z"
   },
   {
    "duration": 9,
    "start_time": "2023-03-18T08:01:15.808Z"
   },
   {
    "duration": 19,
    "start_time": "2023-03-18T08:01:15.819Z"
   },
   {
    "duration": 129,
    "start_time": "2023-03-18T08:01:15.840Z"
   },
   {
    "duration": 0,
    "start_time": "2023-03-18T08:01:15.972Z"
   },
   {
    "duration": 0,
    "start_time": "2023-03-18T08:01:15.973Z"
   },
   {
    "duration": 0,
    "start_time": "2023-03-18T08:01:15.975Z"
   },
   {
    "duration": 0,
    "start_time": "2023-03-18T08:01:15.977Z"
   },
   {
    "duration": 0,
    "start_time": "2023-03-18T08:01:15.978Z"
   },
   {
    "duration": 0,
    "start_time": "2023-03-18T08:01:15.979Z"
   },
   {
    "duration": 0,
    "start_time": "2023-03-18T08:01:15.981Z"
   },
   {
    "duration": 0,
    "start_time": "2023-03-18T08:01:15.982Z"
   },
   {
    "duration": 0,
    "start_time": "2023-03-18T08:01:15.984Z"
   },
   {
    "duration": 0,
    "start_time": "2023-03-18T08:01:15.986Z"
   },
   {
    "duration": 0,
    "start_time": "2023-03-18T08:01:15.987Z"
   },
   {
    "duration": 0,
    "start_time": "2023-03-18T08:01:15.989Z"
   },
   {
    "duration": 0,
    "start_time": "2023-03-18T08:01:15.990Z"
   },
   {
    "duration": 0,
    "start_time": "2023-03-18T08:01:15.992Z"
   },
   {
    "duration": 0,
    "start_time": "2023-03-18T08:01:15.993Z"
   },
   {
    "duration": 0,
    "start_time": "2023-03-18T08:01:15.995Z"
   },
   {
    "duration": 0,
    "start_time": "2023-03-18T08:01:15.996Z"
   },
   {
    "duration": 415,
    "start_time": "2023-03-18T08:03:52.767Z"
   },
   {
    "duration": 15,
    "start_time": "2023-03-18T08:08:40.148Z"
   },
   {
    "duration": 10,
    "start_time": "2023-03-18T08:09:31.470Z"
   },
   {
    "duration": 11,
    "start_time": "2023-03-18T08:14:38.377Z"
   },
   {
    "duration": 20,
    "start_time": "2023-03-18T08:14:55.484Z"
   },
   {
    "duration": 21,
    "start_time": "2023-03-18T08:18:13.347Z"
   },
   {
    "duration": 393,
    "start_time": "2023-03-18T08:20:03.541Z"
   },
   {
    "duration": 15,
    "start_time": "2023-03-18T08:22:23.627Z"
   },
   {
    "duration": 15,
    "start_time": "2023-03-18T08:22:29.700Z"
   },
   {
    "duration": 20,
    "start_time": "2023-03-18T08:23:59.897Z"
   },
   {
    "duration": 20,
    "start_time": "2023-03-18T08:24:26.197Z"
   },
   {
    "duration": 14,
    "start_time": "2023-03-18T08:25:59.804Z"
   },
   {
    "duration": 25,
    "start_time": "2023-03-18T08:30:22.542Z"
   },
   {
    "duration": 23,
    "start_time": "2023-03-18T08:30:48.720Z"
   },
   {
    "duration": 22,
    "start_time": "2023-03-18T08:31:25.307Z"
   },
   {
    "duration": 344,
    "start_time": "2023-03-18T08:32:37.065Z"
   },
   {
    "duration": 53,
    "start_time": "2023-03-18T10:36:23.811Z"
   },
   {
    "duration": 1322,
    "start_time": "2023-03-18T10:36:36.236Z"
   },
   {
    "duration": 116,
    "start_time": "2023-03-18T10:36:37.560Z"
   },
   {
    "duration": 13,
    "start_time": "2023-03-18T10:36:37.678Z"
   },
   {
    "duration": 24,
    "start_time": "2023-03-18T10:36:37.692Z"
   },
   {
    "duration": 531,
    "start_time": "2023-03-18T10:36:37.717Z"
   },
   {
    "duration": 3,
    "start_time": "2023-03-18T10:36:38.249Z"
   },
   {
    "duration": 17,
    "start_time": "2023-03-18T10:36:38.257Z"
   },
   {
    "duration": 15,
    "start_time": "2023-03-18T10:36:38.276Z"
   },
   {
    "duration": 12,
    "start_time": "2023-03-18T10:36:38.293Z"
   },
   {
    "duration": 19,
    "start_time": "2023-03-18T10:36:38.308Z"
   },
   {
    "duration": 25,
    "start_time": "2023-03-18T10:36:38.329Z"
   },
   {
    "duration": 16,
    "start_time": "2023-03-18T10:36:38.356Z"
   },
   {
    "duration": 19,
    "start_time": "2023-03-18T10:36:38.373Z"
   },
   {
    "duration": 15,
    "start_time": "2023-03-18T10:36:38.393Z"
   },
   {
    "duration": 10,
    "start_time": "2023-03-18T10:36:38.409Z"
   },
   {
    "duration": 6,
    "start_time": "2023-03-18T10:36:38.420Z"
   },
   {
    "duration": 42,
    "start_time": "2023-03-18T10:36:38.429Z"
   },
   {
    "duration": 20,
    "start_time": "2023-03-18T10:36:38.473Z"
   },
   {
    "duration": 13,
    "start_time": "2023-03-18T10:36:38.495Z"
   },
   {
    "duration": 4,
    "start_time": "2023-03-18T10:36:38.509Z"
   },
   {
    "duration": 17,
    "start_time": "2023-03-18T10:36:38.515Z"
   },
   {
    "duration": 38,
    "start_time": "2023-03-18T10:36:38.533Z"
   },
   {
    "duration": 18,
    "start_time": "2023-03-18T10:36:38.572Z"
   },
   {
    "duration": 18,
    "start_time": "2023-03-18T10:36:38.592Z"
   },
   {
    "duration": 20,
    "start_time": "2023-03-18T10:36:38.612Z"
   },
   {
    "duration": 29,
    "start_time": "2023-03-18T10:36:38.633Z"
   },
   {
    "duration": 139,
    "start_time": "2023-03-18T10:36:38.663Z"
   },
   {
    "duration": 15,
    "start_time": "2023-03-18T10:36:38.806Z"
   },
   {
    "duration": 10,
    "start_time": "2023-03-18T10:36:38.824Z"
   },
   {
    "duration": 11,
    "start_time": "2023-03-18T10:36:38.836Z"
   },
   {
    "duration": 17,
    "start_time": "2023-03-18T10:36:38.848Z"
   },
   {
    "duration": 21,
    "start_time": "2023-03-18T10:36:38.867Z"
   },
   {
    "duration": 30,
    "start_time": "2023-03-18T10:36:38.889Z"
   },
   {
    "duration": 8,
    "start_time": "2023-03-18T10:36:38.921Z"
   },
   {
    "duration": 27,
    "start_time": "2023-03-18T10:36:38.931Z"
   },
   {
    "duration": 9,
    "start_time": "2023-03-18T10:36:38.959Z"
   },
   {
    "duration": 28,
    "start_time": "2023-03-18T10:36:38.970Z"
   },
   {
    "duration": 6,
    "start_time": "2023-03-18T10:36:39.000Z"
   },
   {
    "duration": 19,
    "start_time": "2023-03-18T10:36:39.008Z"
   },
   {
    "duration": 31,
    "start_time": "2023-03-18T10:36:39.029Z"
   },
   {
    "duration": 5,
    "start_time": "2023-03-18T10:36:39.062Z"
   },
   {
    "duration": 31,
    "start_time": "2023-03-18T10:36:39.068Z"
   },
   {
    "duration": 22,
    "start_time": "2023-03-18T10:36:39.101Z"
   },
   {
    "duration": 307,
    "start_time": "2023-03-18T10:36:39.125Z"
   },
   {
    "duration": 33,
    "start_time": "2023-03-18T10:36:39.434Z"
   },
   {
    "duration": 19,
    "start_time": "2023-03-18T10:36:39.468Z"
   },
   {
    "duration": 2081,
    "start_time": "2023-03-18T10:36:39.489Z"
   },
   {
    "duration": 9,
    "start_time": "2023-03-18T10:36:41.572Z"
   },
   {
    "duration": 176,
    "start_time": "2023-03-18T10:36:41.583Z"
   },
   {
    "duration": 185,
    "start_time": "2023-03-18T10:36:41.761Z"
   },
   {
    "duration": 179,
    "start_time": "2023-03-18T10:36:41.948Z"
   },
   {
    "duration": 190,
    "start_time": "2023-03-18T10:36:42.128Z"
   },
   {
    "duration": 172,
    "start_time": "2023-03-18T10:36:42.320Z"
   },
   {
    "duration": 170,
    "start_time": "2023-03-18T10:36:42.494Z"
   },
   {
    "duration": 7,
    "start_time": "2023-03-18T10:36:42.666Z"
   },
   {
    "duration": 24,
    "start_time": "2023-03-18T10:36:42.675Z"
   },
   {
    "duration": 250,
    "start_time": "2023-03-18T10:36:42.701Z"
   },
   {
    "duration": 2,
    "start_time": "2023-03-18T10:36:42.957Z"
   },
   {
    "duration": 11,
    "start_time": "2023-03-18T10:36:42.961Z"
   },
   {
    "duration": 31,
    "start_time": "2023-03-18T10:36:42.973Z"
   },
   {
    "duration": 383,
    "start_time": "2023-03-18T10:36:43.006Z"
   },
   {
    "duration": 10,
    "start_time": "2023-03-18T10:36:43.391Z"
   },
   {
    "duration": 144,
    "start_time": "2023-03-18T10:36:43.402Z"
   },
   {
    "duration": 126,
    "start_time": "2023-03-18T10:36:43.547Z"
   },
   {
    "duration": 8,
    "start_time": "2023-03-18T10:36:43.675Z"
   },
   {
    "duration": 16,
    "start_time": "2023-03-18T10:36:43.684Z"
   },
   {
    "duration": 26,
    "start_time": "2023-03-18T10:36:43.702Z"
   },
   {
    "duration": 8,
    "start_time": "2023-03-18T10:36:43.729Z"
   },
   {
    "duration": 21,
    "start_time": "2023-03-18T10:36:43.738Z"
   },
   {
    "duration": 120,
    "start_time": "2023-03-18T10:36:43.760Z"
   },
   {
    "duration": 8,
    "start_time": "2023-03-18T10:36:43.882Z"
   },
   {
    "duration": 155,
    "start_time": "2023-03-18T10:36:43.892Z"
   },
   {
    "duration": 293,
    "start_time": "2023-03-18T10:36:44.048Z"
   },
   {
    "duration": 192,
    "start_time": "2023-03-18T10:36:44.343Z"
   },
   {
    "duration": 11,
    "start_time": "2023-03-18T10:36:44.537Z"
   },
   {
    "duration": 33,
    "start_time": "2023-03-18T10:36:44.550Z"
   },
   {
    "duration": 38,
    "start_time": "2023-03-18T10:36:44.584Z"
   },
   {
    "duration": 412,
    "start_time": "2023-03-18T10:36:44.624Z"
   },
   {
    "duration": 0,
    "start_time": "2023-03-18T10:36:45.039Z"
   },
   {
    "duration": 0,
    "start_time": "2023-03-18T10:36:45.040Z"
   },
   {
    "duration": 0,
    "start_time": "2023-03-18T10:36:45.042Z"
   },
   {
    "duration": 0,
    "start_time": "2023-03-18T10:36:45.043Z"
   },
   {
    "duration": 0,
    "start_time": "2023-03-18T10:36:45.045Z"
   },
   {
    "duration": 0,
    "start_time": "2023-03-18T10:36:45.046Z"
   },
   {
    "duration": 0,
    "start_time": "2023-03-18T10:36:45.057Z"
   },
   {
    "duration": 0,
    "start_time": "2023-03-18T10:36:45.058Z"
   },
   {
    "duration": 0,
    "start_time": "2023-03-18T10:36:45.059Z"
   },
   {
    "duration": 0,
    "start_time": "2023-03-18T10:36:45.061Z"
   },
   {
    "duration": 0,
    "start_time": "2023-03-18T10:36:45.062Z"
   },
   {
    "duration": 0,
    "start_time": "2023-03-18T10:36:45.063Z"
   },
   {
    "duration": 0,
    "start_time": "2023-03-18T10:36:45.064Z"
   },
   {
    "duration": 0,
    "start_time": "2023-03-18T10:36:45.066Z"
   },
   {
    "duration": 0,
    "start_time": "2023-03-18T10:36:45.068Z"
   },
   {
    "duration": 0,
    "start_time": "2023-03-18T10:36:45.069Z"
   },
   {
    "duration": 0,
    "start_time": "2023-03-18T10:36:45.070Z"
   },
   {
    "duration": 0,
    "start_time": "2023-03-18T10:36:45.071Z"
   },
   {
    "duration": 0,
    "start_time": "2023-03-18T10:36:45.072Z"
   },
   {
    "duration": 0,
    "start_time": "2023-03-18T10:36:45.075Z"
   },
   {
    "duration": 0,
    "start_time": "2023-03-18T10:36:45.076Z"
   },
   {
    "duration": 0,
    "start_time": "2023-03-18T10:36:45.077Z"
   },
   {
    "duration": 21,
    "start_time": "2023-03-18T10:37:24.580Z"
   },
   {
    "duration": 18,
    "start_time": "2023-03-18T10:41:01.201Z"
   },
   {
    "duration": 365,
    "start_time": "2023-03-18T10:43:11.337Z"
   },
   {
    "duration": 334,
    "start_time": "2023-03-18T10:44:22.976Z"
   },
   {
    "duration": 266,
    "start_time": "2023-03-18T10:44:46.069Z"
   },
   {
    "duration": 277,
    "start_time": "2023-03-18T10:47:47.689Z"
   },
   {
    "duration": 259,
    "start_time": "2023-03-18T10:48:08.091Z"
   },
   {
    "duration": 254,
    "start_time": "2023-03-18T10:48:40.396Z"
   },
   {
    "duration": 340,
    "start_time": "2023-03-18T10:49:03.769Z"
   },
   {
    "duration": 274,
    "start_time": "2023-03-18T10:49:21.140Z"
   },
   {
    "duration": 270,
    "start_time": "2023-03-18T10:49:44.814Z"
   },
   {
    "duration": 277,
    "start_time": "2023-03-18T10:50:07.327Z"
   },
   {
    "duration": 75,
    "start_time": "2023-03-18T10:54:01.725Z"
   },
   {
    "duration": 284,
    "start_time": "2023-03-18T10:54:14.374Z"
   },
   {
    "duration": 235,
    "start_time": "2023-03-18T10:55:21.375Z"
   },
   {
    "duration": 333,
    "start_time": "2023-03-18T10:56:48.482Z"
   },
   {
    "duration": 286,
    "start_time": "2023-03-18T10:57:15.751Z"
   },
   {
    "duration": 272,
    "start_time": "2023-03-18T10:57:33.969Z"
   },
   {
    "duration": 269,
    "start_time": "2023-03-18T10:59:16.086Z"
   },
   {
    "duration": 359,
    "start_time": "2023-03-18T11:00:23.651Z"
   },
   {
    "duration": 46,
    "start_time": "2023-03-18T11:03:35.397Z"
   },
   {
    "duration": 60,
    "start_time": "2023-03-18T11:03:43.546Z"
   },
   {
    "duration": 144,
    "start_time": "2023-03-18T11:04:22.641Z"
   },
   {
    "duration": 22,
    "start_time": "2023-03-18T11:04:58.050Z"
   },
   {
    "duration": 370,
    "start_time": "2023-03-18T11:05:12.384Z"
   },
   {
    "duration": 332,
    "start_time": "2023-03-18T11:05:44.787Z"
   },
   {
    "duration": 3,
    "start_time": "2023-03-18T12:05:18.890Z"
   },
   {
    "duration": 15,
    "start_time": "2023-03-18T12:39:38.875Z"
   },
   {
    "duration": 14,
    "start_time": "2023-03-18T12:39:57.671Z"
   },
   {
    "duration": 2,
    "start_time": "2023-03-18T15:17:39.834Z"
   },
   {
    "duration": 9,
    "start_time": "2023-03-18T15:17:43.494Z"
   },
   {
    "duration": 1137,
    "start_time": "2023-03-18T15:18:19.296Z"
   },
   {
    "duration": 74,
    "start_time": "2023-03-18T15:18:20.435Z"
   },
   {
    "duration": 13,
    "start_time": "2023-03-18T15:18:20.511Z"
   },
   {
    "duration": 20,
    "start_time": "2023-03-18T15:18:20.526Z"
   },
   {
    "duration": 3,
    "start_time": "2023-03-18T15:18:20.547Z"
   },
   {
    "duration": 20,
    "start_time": "2023-03-18T15:18:20.551Z"
   },
   {
    "duration": 5,
    "start_time": "2023-03-18T15:18:20.573Z"
   },
   {
    "duration": 5,
    "start_time": "2023-03-18T15:18:20.579Z"
   },
   {
    "duration": 10,
    "start_time": "2023-03-18T15:18:20.585Z"
   },
   {
    "duration": 19,
    "start_time": "2023-03-18T15:18:20.598Z"
   },
   {
    "duration": 13,
    "start_time": "2023-03-18T15:18:20.618Z"
   },
   {
    "duration": 41,
    "start_time": "2023-03-18T15:18:20.632Z"
   },
   {
    "duration": 12,
    "start_time": "2023-03-18T15:18:20.675Z"
   },
   {
    "duration": 8,
    "start_time": "2023-03-18T15:18:20.689Z"
   },
   {
    "duration": 28,
    "start_time": "2023-03-18T15:18:20.698Z"
   },
   {
    "duration": 40,
    "start_time": "2023-03-18T15:18:20.727Z"
   },
   {
    "duration": 18,
    "start_time": "2023-03-18T15:18:20.769Z"
   },
   {
    "duration": 10,
    "start_time": "2023-03-18T15:18:20.788Z"
   },
   {
    "duration": 27,
    "start_time": "2023-03-18T15:18:20.800Z"
   },
   {
    "duration": 8,
    "start_time": "2023-03-18T15:18:20.829Z"
   },
   {
    "duration": 40,
    "start_time": "2023-03-18T15:18:20.839Z"
   },
   {
    "duration": 9,
    "start_time": "2023-03-18T15:18:20.880Z"
   },
   {
    "duration": 27,
    "start_time": "2023-03-18T15:18:20.890Z"
   },
   {
    "duration": 2,
    "start_time": "2023-03-18T15:18:20.919Z"
   },
   {
    "duration": 14,
    "start_time": "2023-03-18T15:18:20.922Z"
   },
   {
    "duration": 29,
    "start_time": "2023-03-18T15:18:20.937Z"
   },
   {
    "duration": 5,
    "start_time": "2023-03-18T15:18:20.968Z"
   },
   {
    "duration": 7,
    "start_time": "2023-03-18T15:18:20.977Z"
   },
   {
    "duration": 13,
    "start_time": "2023-03-18T15:18:20.985Z"
   },
   {
    "duration": 367,
    "start_time": "2023-03-18T15:18:20.999Z"
   },
   {
    "duration": 23,
    "start_time": "2023-03-18T15:18:21.368Z"
   },
   {
    "duration": 17,
    "start_time": "2023-03-18T15:18:21.393Z"
   },
   {
    "duration": 2093,
    "start_time": "2023-03-18T15:18:21.411Z"
   },
   {
    "duration": 9,
    "start_time": "2023-03-18T15:18:23.506Z"
   },
   {
    "duration": 196,
    "start_time": "2023-03-18T15:18:23.516Z"
   },
   {
    "duration": 309,
    "start_time": "2023-03-18T15:18:23.714Z"
   },
   {
    "duration": 178,
    "start_time": "2023-03-18T15:18:24.025Z"
   },
   {
    "duration": 183,
    "start_time": "2023-03-18T15:18:24.204Z"
   },
   {
    "duration": 185,
    "start_time": "2023-03-18T15:18:24.389Z"
   },
   {
    "duration": 211,
    "start_time": "2023-03-18T15:18:24.576Z"
   },
   {
    "duration": 7,
    "start_time": "2023-03-18T15:18:24.789Z"
   },
   {
    "duration": 24,
    "start_time": "2023-03-18T15:18:24.797Z"
   },
   {
    "duration": 272,
    "start_time": "2023-03-18T15:18:24.823Z"
   },
   {
    "duration": 3,
    "start_time": "2023-03-18T15:18:25.097Z"
   },
   {
    "duration": 7,
    "start_time": "2023-03-18T15:18:25.101Z"
   },
   {
    "duration": 24,
    "start_time": "2023-03-18T15:18:25.109Z"
   },
   {
    "duration": 279,
    "start_time": "2023-03-18T15:18:25.135Z"
   },
   {
    "duration": 9,
    "start_time": "2023-03-18T15:18:25.416Z"
   },
   {
    "duration": 211,
    "start_time": "2023-03-18T15:18:25.427Z"
   },
   {
    "duration": 202,
    "start_time": "2023-03-18T15:18:25.640Z"
   },
   {
    "duration": 19,
    "start_time": "2023-03-18T15:18:25.844Z"
   },
   {
    "duration": 16,
    "start_time": "2023-03-18T15:18:25.866Z"
   },
   {
    "duration": 11,
    "start_time": "2023-03-18T15:18:25.884Z"
   },
   {
    "duration": 11,
    "start_time": "2023-03-18T15:18:25.897Z"
   },
   {
    "duration": 10,
    "start_time": "2023-03-18T15:18:25.910Z"
   },
   {
    "duration": 161,
    "start_time": "2023-03-18T15:18:25.922Z"
   },
   {
    "duration": 9,
    "start_time": "2023-03-18T15:18:26.085Z"
   },
   {
    "duration": 241,
    "start_time": "2023-03-18T15:18:26.095Z"
   },
   {
    "duration": 318,
    "start_time": "2023-03-18T15:18:26.337Z"
   },
   {
    "duration": 217,
    "start_time": "2023-03-18T15:18:26.657Z"
   },
   {
    "duration": 12,
    "start_time": "2023-03-18T15:18:26.876Z"
   },
   {
    "duration": 30,
    "start_time": "2023-03-18T15:18:26.890Z"
   },
   {
    "duration": 286,
    "start_time": "2023-03-18T15:18:26.921Z"
   },
   {
    "duration": 305,
    "start_time": "2023-03-18T15:18:27.208Z"
   },
   {
    "duration": 51,
    "start_time": "2023-03-18T15:18:27.515Z"
   },
   {
    "duration": 9,
    "start_time": "2023-03-18T15:18:27.568Z"
   },
   {
    "duration": 272,
    "start_time": "2023-03-18T15:18:27.578Z"
   },
   {
    "duration": 9,
    "start_time": "2023-03-18T15:18:27.853Z"
   },
   {
    "duration": 251,
    "start_time": "2023-03-18T15:18:27.863Z"
   },
   {
    "duration": 18,
    "start_time": "2023-03-18T15:18:28.116Z"
   },
   {
    "duration": 31,
    "start_time": "2023-03-18T15:18:28.136Z"
   },
   {
    "duration": 122,
    "start_time": "2023-03-18T15:18:28.168Z"
   },
   {
    "duration": 0,
    "start_time": "2023-03-18T15:18:28.292Z"
   },
   {
    "duration": 0,
    "start_time": "2023-03-18T15:18:28.293Z"
   },
   {
    "duration": 0,
    "start_time": "2023-03-18T15:18:28.294Z"
   },
   {
    "duration": 0,
    "start_time": "2023-03-18T15:18:28.295Z"
   },
   {
    "duration": 0,
    "start_time": "2023-03-18T15:18:28.296Z"
   },
   {
    "duration": 0,
    "start_time": "2023-03-18T15:18:28.297Z"
   },
   {
    "duration": 0,
    "start_time": "2023-03-18T15:18:28.298Z"
   },
   {
    "duration": 0,
    "start_time": "2023-03-18T15:18:28.299Z"
   },
   {
    "duration": 0,
    "start_time": "2023-03-18T15:18:28.299Z"
   },
   {
    "duration": 0,
    "start_time": "2023-03-18T15:18:28.402Z"
   },
   {
    "duration": 0,
    "start_time": "2023-03-18T15:18:28.403Z"
   },
   {
    "duration": 0,
    "start_time": "2023-03-18T15:18:28.404Z"
   },
   {
    "duration": 0,
    "start_time": "2023-03-18T15:18:28.405Z"
   },
   {
    "duration": 0,
    "start_time": "2023-03-18T15:18:28.406Z"
   },
   {
    "duration": 0,
    "start_time": "2023-03-18T15:18:28.408Z"
   },
   {
    "duration": 0,
    "start_time": "2023-03-18T15:18:28.409Z"
   },
   {
    "duration": 0,
    "start_time": "2023-03-18T15:18:28.410Z"
   },
   {
    "duration": 4,
    "start_time": "2023-03-18T15:27:42.307Z"
   },
   {
    "duration": 3,
    "start_time": "2023-03-18T15:27:55.992Z"
   },
   {
    "duration": 12,
    "start_time": "2023-03-18T15:29:04.509Z"
   },
   {
    "duration": 6,
    "start_time": "2023-03-18T15:29:54.712Z"
   },
   {
    "duration": 4,
    "start_time": "2023-03-18T15:30:22.801Z"
   },
   {
    "duration": 5,
    "start_time": "2023-03-18T15:30:23.807Z"
   },
   {
    "duration": 5,
    "start_time": "2023-03-18T15:30:24.699Z"
   },
   {
    "duration": 12,
    "start_time": "2023-03-18T15:30:39.401Z"
   },
   {
    "duration": 3,
    "start_time": "2023-03-18T15:30:42.904Z"
   },
   {
    "duration": 4,
    "start_time": "2023-03-18T15:30:43.726Z"
   },
   {
    "duration": 6,
    "start_time": "2023-03-18T15:30:44.899Z"
   },
   {
    "duration": 5,
    "start_time": "2023-03-18T15:31:51.008Z"
   },
   {
    "duration": 1085,
    "start_time": "2023-03-18T15:33:11.499Z"
   },
   {
    "duration": 66,
    "start_time": "2023-03-18T15:33:12.586Z"
   },
   {
    "duration": 25,
    "start_time": "2023-03-18T15:33:12.653Z"
   },
   {
    "duration": 15,
    "start_time": "2023-03-18T15:33:12.680Z"
   },
   {
    "duration": 12,
    "start_time": "2023-03-18T15:33:12.698Z"
   },
   {
    "duration": 7,
    "start_time": "2023-03-18T15:33:12.712Z"
   },
   {
    "duration": 13,
    "start_time": "2023-03-18T15:33:12.720Z"
   },
   {
    "duration": 16,
    "start_time": "2023-03-18T15:33:12.735Z"
   },
   {
    "duration": 27,
    "start_time": "2023-03-18T15:33:12.753Z"
   },
   {
    "duration": 12,
    "start_time": "2023-03-18T15:33:12.781Z"
   },
   {
    "duration": 22,
    "start_time": "2023-03-18T15:33:12.795Z"
   },
   {
    "duration": 8,
    "start_time": "2023-03-18T15:33:12.819Z"
   },
   {
    "duration": 48,
    "start_time": "2023-03-18T15:33:12.829Z"
   },
   {
    "duration": 25,
    "start_time": "2023-03-18T15:33:12.879Z"
   },
   {
    "duration": 26,
    "start_time": "2023-03-18T15:33:12.905Z"
   },
   {
    "duration": 44,
    "start_time": "2023-03-18T15:33:12.933Z"
   },
   {
    "duration": 19,
    "start_time": "2023-03-18T15:33:12.979Z"
   },
   {
    "duration": 9,
    "start_time": "2023-03-18T15:33:13.000Z"
   },
   {
    "duration": 41,
    "start_time": "2023-03-18T15:33:13.010Z"
   },
   {
    "duration": 19,
    "start_time": "2023-03-18T15:33:13.052Z"
   },
   {
    "duration": 31,
    "start_time": "2023-03-18T15:33:13.073Z"
   },
   {
    "duration": 4,
    "start_time": "2023-03-18T15:33:13.105Z"
   },
   {
    "duration": 15,
    "start_time": "2023-03-18T15:33:13.111Z"
   },
   {
    "duration": 13,
    "start_time": "2023-03-18T15:33:13.127Z"
   },
   {
    "duration": 34,
    "start_time": "2023-03-18T15:33:13.141Z"
   },
   {
    "duration": 25,
    "start_time": "2023-03-18T15:33:13.177Z"
   },
   {
    "duration": 25,
    "start_time": "2023-03-18T15:33:13.203Z"
   },
   {
    "duration": 17,
    "start_time": "2023-03-18T15:33:13.229Z"
   },
   {
    "duration": 43,
    "start_time": "2023-03-18T15:33:13.247Z"
   },
   {
    "duration": 14,
    "start_time": "2023-03-18T15:33:13.292Z"
   },
   {
    "duration": 17,
    "start_time": "2023-03-18T15:33:13.308Z"
   },
   {
    "duration": 49,
    "start_time": "2023-03-18T15:33:13.327Z"
   },
   {
    "duration": 351,
    "start_time": "2023-03-18T15:33:13.377Z"
   },
   {
    "duration": 23,
    "start_time": "2023-03-18T15:33:13.729Z"
   },
   {
    "duration": 28,
    "start_time": "2023-03-18T15:33:13.753Z"
   },
   {
    "duration": 2187,
    "start_time": "2023-03-18T15:33:13.783Z"
   },
   {
    "duration": 8,
    "start_time": "2023-03-18T15:33:15.972Z"
   },
   {
    "duration": 223,
    "start_time": "2023-03-18T15:33:15.982Z"
   },
   {
    "duration": 360,
    "start_time": "2023-03-18T15:33:16.207Z"
   },
   {
    "duration": 240,
    "start_time": "2023-03-18T15:33:16.569Z"
   },
   {
    "duration": 193,
    "start_time": "2023-03-18T15:33:16.814Z"
   },
   {
    "duration": 215,
    "start_time": "2023-03-18T15:33:17.008Z"
   },
   {
    "duration": 211,
    "start_time": "2023-03-18T15:33:17.225Z"
   },
   {
    "duration": 7,
    "start_time": "2023-03-18T15:33:17.438Z"
   },
   {
    "duration": 54,
    "start_time": "2023-03-18T15:33:17.457Z"
   },
   {
    "duration": 237,
    "start_time": "2023-03-18T15:33:17.513Z"
   },
   {
    "duration": 6,
    "start_time": "2023-03-18T15:33:17.752Z"
   },
   {
    "duration": 24,
    "start_time": "2023-03-18T15:33:17.760Z"
   },
   {
    "duration": 23,
    "start_time": "2023-03-18T15:33:17.785Z"
   },
   {
    "duration": 271,
    "start_time": "2023-03-18T15:33:17.810Z"
   },
   {
    "duration": 11,
    "start_time": "2023-03-18T15:33:18.083Z"
   },
   {
    "duration": 157,
    "start_time": "2023-03-18T15:33:18.096Z"
   },
   {
    "duration": 150,
    "start_time": "2023-03-18T15:33:18.257Z"
   },
   {
    "duration": 13,
    "start_time": "2023-03-18T15:33:18.410Z"
   },
   {
    "duration": 14,
    "start_time": "2023-03-18T15:33:18.425Z"
   },
   {
    "duration": 22,
    "start_time": "2023-03-18T15:33:18.460Z"
   },
   {
    "duration": 16,
    "start_time": "2023-03-18T15:33:18.484Z"
   },
   {
    "duration": 11,
    "start_time": "2023-03-18T15:33:18.502Z"
   },
   {
    "duration": 148,
    "start_time": "2023-03-18T15:33:18.515Z"
   },
   {
    "duration": 14,
    "start_time": "2023-03-18T15:33:18.665Z"
   },
   {
    "duration": 235,
    "start_time": "2023-03-18T15:33:18.680Z"
   },
   {
    "duration": 394,
    "start_time": "2023-03-18T15:33:18.917Z"
   },
   {
    "duration": 224,
    "start_time": "2023-03-18T15:33:19.313Z"
   },
   {
    "duration": 13,
    "start_time": "2023-03-18T15:33:19.539Z"
   },
   {
    "duration": 38,
    "start_time": "2023-03-18T15:33:19.554Z"
   },
   {
    "duration": 302,
    "start_time": "2023-03-18T15:33:19.594Z"
   },
   {
    "duration": 307,
    "start_time": "2023-03-18T15:33:19.898Z"
   },
   {
    "duration": 36,
    "start_time": "2023-03-18T15:33:20.207Z"
   },
   {
    "duration": 14,
    "start_time": "2023-03-18T15:33:20.257Z"
   },
   {
    "duration": 328,
    "start_time": "2023-03-18T15:33:20.273Z"
   },
   {
    "duration": 8,
    "start_time": "2023-03-18T15:33:20.602Z"
   },
   {
    "duration": 267,
    "start_time": "2023-03-18T15:33:20.612Z"
   },
   {
    "duration": 19,
    "start_time": "2023-03-18T15:33:20.880Z"
   },
   {
    "duration": 20,
    "start_time": "2023-03-18T15:33:20.900Z"
   },
   {
    "duration": 125,
    "start_time": "2023-03-18T15:33:20.921Z"
   },
   {
    "duration": 0,
    "start_time": "2023-03-18T15:33:21.048Z"
   },
   {
    "duration": 0,
    "start_time": "2023-03-18T15:33:21.049Z"
   },
   {
    "duration": 0,
    "start_time": "2023-03-18T15:33:21.050Z"
   },
   {
    "duration": 0,
    "start_time": "2023-03-18T15:33:21.052Z"
   },
   {
    "duration": 1,
    "start_time": "2023-03-18T15:33:21.056Z"
   },
   {
    "duration": 0,
    "start_time": "2023-03-18T15:33:21.058Z"
   },
   {
    "duration": 0,
    "start_time": "2023-03-18T15:33:21.059Z"
   },
   {
    "duration": 0,
    "start_time": "2023-03-18T15:33:21.060Z"
   },
   {
    "duration": 0,
    "start_time": "2023-03-18T15:33:21.060Z"
   },
   {
    "duration": 0,
    "start_time": "2023-03-18T15:33:21.063Z"
   },
   {
    "duration": 0,
    "start_time": "2023-03-18T15:33:21.065Z"
   },
   {
    "duration": 0,
    "start_time": "2023-03-18T15:33:21.067Z"
   },
   {
    "duration": 0,
    "start_time": "2023-03-18T15:33:21.068Z"
   },
   {
    "duration": 0,
    "start_time": "2023-03-18T15:33:21.069Z"
   },
   {
    "duration": 0,
    "start_time": "2023-03-18T15:33:21.071Z"
   },
   {
    "duration": 0,
    "start_time": "2023-03-18T15:33:21.073Z"
   },
   {
    "duration": 0,
    "start_time": "2023-03-18T15:33:21.075Z"
   },
   {
    "duration": 11,
    "start_time": "2023-03-18T15:38:17.808Z"
   },
   {
    "duration": 13,
    "start_time": "2023-03-18T15:38:27.212Z"
   },
   {
    "duration": 5,
    "start_time": "2023-03-18T15:43:45.904Z"
   },
   {
    "duration": 3,
    "start_time": "2023-03-18T15:43:47.005Z"
   },
   {
    "duration": 4,
    "start_time": "2023-03-18T15:43:47.819Z"
   },
   {
    "duration": 13,
    "start_time": "2023-03-18T15:43:49.512Z"
   },
   {
    "duration": 8,
    "start_time": "2023-03-18T15:46:01.710Z"
   },
   {
    "duration": 12,
    "start_time": "2023-03-18T15:46:13.716Z"
   },
   {
    "duration": 8,
    "start_time": "2023-03-18T15:47:12.220Z"
   },
   {
    "duration": 5,
    "start_time": "2023-03-18T15:48:35.096Z"
   },
   {
    "duration": 4,
    "start_time": "2023-03-18T15:49:21.447Z"
   },
   {
    "duration": 1157,
    "start_time": "2023-03-18T15:49:40.592Z"
   },
   {
    "duration": 75,
    "start_time": "2023-03-18T15:49:41.751Z"
   },
   {
    "duration": 13,
    "start_time": "2023-03-18T15:49:41.828Z"
   },
   {
    "duration": 23,
    "start_time": "2023-03-18T15:49:41.843Z"
   },
   {
    "duration": 12,
    "start_time": "2023-03-18T15:49:41.867Z"
   },
   {
    "duration": 7,
    "start_time": "2023-03-18T15:49:41.881Z"
   },
   {
    "duration": 21,
    "start_time": "2023-03-18T15:49:41.890Z"
   },
   {
    "duration": 18,
    "start_time": "2023-03-18T15:49:41.913Z"
   },
   {
    "duration": 27,
    "start_time": "2023-03-18T15:49:41.933Z"
   },
   {
    "duration": 21,
    "start_time": "2023-03-18T15:49:41.969Z"
   },
   {
    "duration": 13,
    "start_time": "2023-03-18T15:49:41.991Z"
   },
   {
    "duration": 18,
    "start_time": "2023-03-18T15:49:42.006Z"
   },
   {
    "duration": 52,
    "start_time": "2023-03-18T15:49:42.026Z"
   },
   {
    "duration": 10,
    "start_time": "2023-03-18T15:49:42.079Z"
   },
   {
    "duration": 15,
    "start_time": "2023-03-18T15:49:42.090Z"
   },
   {
    "duration": 14,
    "start_time": "2023-03-18T15:49:42.106Z"
   },
   {
    "duration": 21,
    "start_time": "2023-03-18T15:49:42.122Z"
   },
   {
    "duration": 13,
    "start_time": "2023-03-18T15:49:42.166Z"
   },
   {
    "duration": 24,
    "start_time": "2023-03-18T15:49:42.181Z"
   },
   {
    "duration": 4,
    "start_time": "2023-03-18T15:49:42.207Z"
   },
   {
    "duration": 14,
    "start_time": "2023-03-18T15:49:42.212Z"
   },
   {
    "duration": 8,
    "start_time": "2023-03-18T15:49:42.227Z"
   },
   {
    "duration": 8,
    "start_time": "2023-03-18T15:49:42.236Z"
   },
   {
    "duration": 17,
    "start_time": "2023-03-18T15:49:42.245Z"
   },
   {
    "duration": 21,
    "start_time": "2023-03-18T15:49:42.263Z"
   },
   {
    "duration": 4,
    "start_time": "2023-03-18T15:49:42.286Z"
   },
   {
    "duration": 12,
    "start_time": "2023-03-18T15:49:42.292Z"
   },
   {
    "duration": 14,
    "start_time": "2023-03-18T15:49:42.308Z"
   },
   {
    "duration": 3,
    "start_time": "2023-03-18T15:49:42.324Z"
   },
   {
    "duration": 9,
    "start_time": "2023-03-18T15:49:42.328Z"
   },
   {
    "duration": 359,
    "start_time": "2023-03-18T15:49:42.339Z"
   },
   {
    "duration": 23,
    "start_time": "2023-03-18T15:49:42.700Z"
   },
   {
    "duration": 48,
    "start_time": "2023-03-18T15:49:42.725Z"
   },
   {
    "duration": 2111,
    "start_time": "2023-03-18T15:49:42.775Z"
   },
   {
    "duration": 11,
    "start_time": "2023-03-18T15:49:44.888Z"
   },
   {
    "duration": 251,
    "start_time": "2023-03-18T15:49:44.900Z"
   },
   {
    "duration": 417,
    "start_time": "2023-03-18T15:49:45.163Z"
   },
   {
    "duration": 221,
    "start_time": "2023-03-18T15:49:45.584Z"
   },
   {
    "duration": 182,
    "start_time": "2023-03-18T15:49:45.807Z"
   },
   {
    "duration": 190,
    "start_time": "2023-03-18T15:49:45.991Z"
   },
   {
    "duration": 176,
    "start_time": "2023-03-18T15:49:46.183Z"
   },
   {
    "duration": 14,
    "start_time": "2023-03-18T15:49:46.362Z"
   },
   {
    "duration": 41,
    "start_time": "2023-03-18T15:49:46.377Z"
   },
   {
    "duration": 224,
    "start_time": "2023-03-18T15:49:46.419Z"
   },
   {
    "duration": 3,
    "start_time": "2023-03-18T15:49:46.644Z"
   },
   {
    "duration": 33,
    "start_time": "2023-03-18T15:49:46.658Z"
   },
   {
    "duration": 36,
    "start_time": "2023-03-18T15:49:46.693Z"
   },
   {
    "duration": 255,
    "start_time": "2023-03-18T15:49:46.731Z"
   },
   {
    "duration": 11,
    "start_time": "2023-03-18T15:49:46.987Z"
   },
   {
    "duration": 147,
    "start_time": "2023-03-18T15:49:47.000Z"
   },
   {
    "duration": 157,
    "start_time": "2023-03-18T15:49:47.148Z"
   },
   {
    "duration": 9,
    "start_time": "2023-03-18T15:49:47.307Z"
   },
   {
    "duration": 13,
    "start_time": "2023-03-18T15:49:47.318Z"
   },
   {
    "duration": 33,
    "start_time": "2023-03-18T15:49:47.332Z"
   },
   {
    "duration": 10,
    "start_time": "2023-03-18T15:49:47.367Z"
   },
   {
    "duration": 16,
    "start_time": "2023-03-18T15:49:47.378Z"
   },
   {
    "duration": 140,
    "start_time": "2023-03-18T15:49:47.395Z"
   },
   {
    "duration": 9,
    "start_time": "2023-03-18T15:49:47.537Z"
   },
   {
    "duration": 225,
    "start_time": "2023-03-18T15:49:47.547Z"
   },
   {
    "duration": 295,
    "start_time": "2023-03-18T15:49:47.776Z"
   },
   {
    "duration": 206,
    "start_time": "2023-03-18T15:49:48.072Z"
   },
   {
    "duration": 13,
    "start_time": "2023-03-18T15:49:48.279Z"
   },
   {
    "duration": 17,
    "start_time": "2023-03-18T15:49:48.294Z"
   },
   {
    "duration": 307,
    "start_time": "2023-03-18T15:49:48.313Z"
   },
   {
    "duration": 293,
    "start_time": "2023-03-18T15:49:48.621Z"
   },
   {
    "duration": 52,
    "start_time": "2023-03-18T15:49:48.915Z"
   },
   {
    "duration": 9,
    "start_time": "2023-03-18T15:49:48.972Z"
   },
   {
    "duration": 315,
    "start_time": "2023-03-18T15:49:48.983Z"
   },
   {
    "duration": 9,
    "start_time": "2023-03-18T15:49:49.299Z"
   },
   {
    "duration": 273,
    "start_time": "2023-03-18T15:49:49.309Z"
   },
   {
    "duration": 19,
    "start_time": "2023-03-18T15:49:49.583Z"
   },
   {
    "duration": 70,
    "start_time": "2023-03-18T15:49:49.604Z"
   },
   {
    "duration": 109,
    "start_time": "2023-03-18T15:49:49.676Z"
   },
   {
    "duration": 0,
    "start_time": "2023-03-18T15:49:49.787Z"
   },
   {
    "duration": 0,
    "start_time": "2023-03-18T15:49:49.788Z"
   },
   {
    "duration": 0,
    "start_time": "2023-03-18T15:49:49.790Z"
   },
   {
    "duration": 0,
    "start_time": "2023-03-18T15:49:49.791Z"
   },
   {
    "duration": 0,
    "start_time": "2023-03-18T15:49:49.793Z"
   },
   {
    "duration": 0,
    "start_time": "2023-03-18T15:49:49.794Z"
   },
   {
    "duration": 0,
    "start_time": "2023-03-18T15:49:49.796Z"
   },
   {
    "duration": 0,
    "start_time": "2023-03-18T15:49:49.797Z"
   },
   {
    "duration": 0,
    "start_time": "2023-03-18T15:49:49.798Z"
   },
   {
    "duration": 0,
    "start_time": "2023-03-18T15:49:49.799Z"
   },
   {
    "duration": 0,
    "start_time": "2023-03-18T15:49:49.914Z"
   },
   {
    "duration": 0,
    "start_time": "2023-03-18T15:49:49.915Z"
   },
   {
    "duration": 0,
    "start_time": "2023-03-18T15:49:49.917Z"
   },
   {
    "duration": 0,
    "start_time": "2023-03-18T15:49:49.918Z"
   },
   {
    "duration": 0,
    "start_time": "2023-03-18T15:49:49.920Z"
   },
   {
    "duration": 0,
    "start_time": "2023-03-18T15:49:49.921Z"
   },
   {
    "duration": 0,
    "start_time": "2023-03-18T15:49:49.922Z"
   },
   {
    "duration": 12,
    "start_time": "2023-03-18T16:02:37.905Z"
   },
   {
    "duration": 307,
    "start_time": "2023-03-18T16:09:18.018Z"
   },
   {
    "duration": 318,
    "start_time": "2023-03-18T16:09:56.469Z"
   },
   {
    "duration": 330,
    "start_time": "2023-03-18T16:10:30.111Z"
   },
   {
    "duration": 12,
    "start_time": "2023-03-18T16:14:32.242Z"
   },
   {
    "duration": 23,
    "start_time": "2023-03-18T16:15:05.506Z"
   },
   {
    "duration": 21,
    "start_time": "2023-03-18T16:18:05.733Z"
   },
   {
    "duration": 22,
    "start_time": "2023-03-18T16:57:56.063Z"
   },
   {
    "duration": 21,
    "start_time": "2023-03-18T17:00:00.073Z"
   },
   {
    "duration": 15,
    "start_time": "2023-03-18T17:00:23.566Z"
   },
   {
    "duration": 819,
    "start_time": "2023-03-18T17:09:53.200Z"
   },
   {
    "duration": 808,
    "start_time": "2023-03-18T17:10:14.405Z"
   },
   {
    "duration": 16,
    "start_time": "2023-03-18T17:10:45.202Z"
   },
   {
    "duration": 15,
    "start_time": "2023-03-18T17:11:13.571Z"
   },
   {
    "duration": 153,
    "start_time": "2023-03-18T17:11:30.808Z"
   },
   {
    "duration": 254,
    "start_time": "2023-03-18T17:12:16.623Z"
   },
   {
    "duration": 297,
    "start_time": "2023-03-18T17:12:45.304Z"
   },
   {
    "duration": 10,
    "start_time": "2023-03-18T17:13:47.214Z"
   },
   {
    "duration": 323,
    "start_time": "2023-03-18T17:14:27.614Z"
   },
   {
    "duration": 185,
    "start_time": "2023-03-18T17:14:42.858Z"
   },
   {
    "duration": 30,
    "start_time": "2023-03-18T17:16:38.812Z"
   },
   {
    "duration": 213,
    "start_time": "2023-03-18T17:16:54.518Z"
   },
   {
    "duration": 20,
    "start_time": "2023-03-18T17:17:20.688Z"
   },
   {
    "duration": 218,
    "start_time": "2023-03-18T17:17:36.800Z"
   },
   {
    "duration": 14,
    "start_time": "2023-03-18T17:18:43.983Z"
   },
   {
    "duration": 243,
    "start_time": "2023-03-18T18:09:51.109Z"
   },
   {
    "duration": 234,
    "start_time": "2023-03-18T18:11:10.002Z"
   },
   {
    "duration": 236,
    "start_time": "2023-03-18T18:12:10.449Z"
   },
   {
    "duration": 10,
    "start_time": "2023-03-18T18:14:27.719Z"
   },
   {
    "duration": 32,
    "start_time": "2023-03-18T18:14:48.523Z"
   },
   {
    "duration": 29,
    "start_time": "2023-03-18T18:16:17.530Z"
   },
   {
    "duration": 33,
    "start_time": "2023-03-18T18:16:46.603Z"
   },
   {
    "duration": 134,
    "start_time": "2023-03-18T18:52:08.812Z"
   },
   {
    "duration": 12,
    "start_time": "2023-03-18T18:56:45.581Z"
   },
   {
    "duration": 9,
    "start_time": "2023-03-18T18:57:40.706Z"
   },
   {
    "duration": 546,
    "start_time": "2023-03-18T19:08:43.809Z"
   },
   {
    "duration": 197,
    "start_time": "2023-03-18T19:13:10.215Z"
   },
   {
    "duration": 218,
    "start_time": "2023-03-18T19:17:41.791Z"
   },
   {
    "duration": 720,
    "start_time": "2023-03-18T19:22:52.213Z"
   },
   {
    "duration": 211,
    "start_time": "2023-03-18T19:23:04.457Z"
   },
   {
    "duration": 359,
    "start_time": "2023-03-18T20:04:34.548Z"
   },
   {
    "duration": 251,
    "start_time": "2023-03-18T20:18:42.171Z"
   },
   {
    "duration": 270,
    "start_time": "2023-03-18T20:20:24.248Z"
   },
   {
    "duration": 432,
    "start_time": "2023-03-18T20:21:33.798Z"
   },
   {
    "duration": 295,
    "start_time": "2023-03-18T20:24:02.827Z"
   },
   {
    "duration": 74,
    "start_time": "2023-03-19T06:59:21.247Z"
   },
   {
    "duration": 1315,
    "start_time": "2023-03-19T06:59:33.702Z"
   },
   {
    "duration": 186,
    "start_time": "2023-03-19T06:59:35.023Z"
   },
   {
    "duration": 19,
    "start_time": "2023-03-19T06:59:35.215Z"
   },
   {
    "duration": 26,
    "start_time": "2023-03-19T06:59:35.237Z"
   },
   {
    "duration": 12,
    "start_time": "2023-03-19T06:59:35.264Z"
   },
   {
    "duration": 54,
    "start_time": "2023-03-19T06:59:35.277Z"
   },
   {
    "duration": 43,
    "start_time": "2023-03-19T06:59:35.332Z"
   },
   {
    "duration": 64,
    "start_time": "2023-03-19T06:59:35.377Z"
   },
   {
    "duration": 19,
    "start_time": "2023-03-19T06:59:35.443Z"
   },
   {
    "duration": 12,
    "start_time": "2023-03-19T06:59:35.464Z"
   },
   {
    "duration": 50,
    "start_time": "2023-03-19T06:59:35.477Z"
   },
   {
    "duration": 9,
    "start_time": "2023-03-19T06:59:35.529Z"
   },
   {
    "duration": 33,
    "start_time": "2023-03-19T06:59:35.540Z"
   },
   {
    "duration": 50,
    "start_time": "2023-03-19T06:59:35.575Z"
   },
   {
    "duration": 28,
    "start_time": "2023-03-19T06:59:35.627Z"
   },
   {
    "duration": 15,
    "start_time": "2023-03-19T06:59:35.656Z"
   },
   {
    "duration": 27,
    "start_time": "2023-03-19T06:59:35.673Z"
   },
   {
    "duration": 22,
    "start_time": "2023-03-19T06:59:35.702Z"
   },
   {
    "duration": 18,
    "start_time": "2023-03-19T06:59:35.726Z"
   },
   {
    "duration": 8,
    "start_time": "2023-03-19T06:59:35.746Z"
   },
   {
    "duration": 22,
    "start_time": "2023-03-19T06:59:35.755Z"
   },
   {
    "duration": 49,
    "start_time": "2023-03-19T06:59:35.778Z"
   },
   {
    "duration": 19,
    "start_time": "2023-03-19T06:59:35.829Z"
   },
   {
    "duration": 23,
    "start_time": "2023-03-19T06:59:35.850Z"
   },
   {
    "duration": 56,
    "start_time": "2023-03-19T06:59:35.875Z"
   },
   {
    "duration": 25,
    "start_time": "2023-03-19T06:59:35.933Z"
   },
   {
    "duration": 16,
    "start_time": "2023-03-19T06:59:35.959Z"
   },
   {
    "duration": 73,
    "start_time": "2023-03-19T06:59:35.980Z"
   },
   {
    "duration": 22,
    "start_time": "2023-03-19T06:59:36.055Z"
   },
   {
    "duration": 511,
    "start_time": "2023-03-19T06:59:36.078Z"
   },
   {
    "duration": 39,
    "start_time": "2023-03-19T06:59:36.595Z"
   },
   {
    "duration": 1990,
    "start_time": "2023-03-19T06:59:36.636Z"
   },
   {
    "duration": 187,
    "start_time": "2023-03-19T06:59:38.627Z"
   },
   {
    "duration": 298,
    "start_time": "2023-03-19T06:59:38.815Z"
   },
   {
    "duration": 211,
    "start_time": "2023-03-19T06:59:39.118Z"
   },
   {
    "duration": 289,
    "start_time": "2023-03-19T06:59:39.332Z"
   },
   {
    "duration": 210,
    "start_time": "2023-03-19T06:59:39.623Z"
   },
   {
    "duration": 222,
    "start_time": "2023-03-19T06:59:39.835Z"
   },
   {
    "duration": 7,
    "start_time": "2023-03-19T06:59:40.059Z"
   },
   {
    "duration": 52,
    "start_time": "2023-03-19T06:59:40.068Z"
   },
   {
    "duration": 39,
    "start_time": "2023-03-19T06:59:40.122Z"
   },
   {
    "duration": 295,
    "start_time": "2023-03-19T06:59:40.163Z"
   },
   {
    "duration": 53,
    "start_time": "2023-03-19T06:59:40.460Z"
   },
   {
    "duration": 339,
    "start_time": "2023-03-19T06:59:40.521Z"
   },
   {
    "duration": 25,
    "start_time": "2023-03-19T06:59:40.862Z"
   },
   {
    "duration": 230,
    "start_time": "2023-03-19T06:59:40.889Z"
   },
   {
    "duration": 215,
    "start_time": "2023-03-19T06:59:41.121Z"
   },
   {
    "duration": 11,
    "start_time": "2023-03-19T06:59:41.338Z"
   },
   {
    "duration": 13,
    "start_time": "2023-03-19T06:59:41.351Z"
   },
   {
    "duration": 25,
    "start_time": "2023-03-19T06:59:41.366Z"
   },
   {
    "duration": 46,
    "start_time": "2023-03-19T06:59:41.396Z"
   },
   {
    "duration": 208,
    "start_time": "2023-03-19T06:59:41.444Z"
   },
   {
    "duration": 14,
    "start_time": "2023-03-19T06:59:41.654Z"
   },
   {
    "duration": 292,
    "start_time": "2023-03-19T06:59:41.670Z"
   },
   {
    "duration": 252,
    "start_time": "2023-03-19T06:59:41.964Z"
   },
   {
    "duration": 25,
    "start_time": "2023-03-19T06:59:42.220Z"
   },
   {
    "duration": 423,
    "start_time": "2023-03-19T06:59:42.247Z"
   },
   {
    "duration": 49,
    "start_time": "2023-03-19T06:59:42.672Z"
   },
   {
    "duration": 345,
    "start_time": "2023-03-19T06:59:42.723Z"
   },
   {
    "duration": 57,
    "start_time": "2023-03-19T06:59:43.070Z"
   },
   {
    "duration": 27,
    "start_time": "2023-03-19T06:59:43.129Z"
   },
   {
    "duration": 391,
    "start_time": "2023-03-19T06:59:43.158Z"
   },
   {
    "duration": 7,
    "start_time": "2023-03-19T06:59:43.552Z"
   },
   {
    "duration": 383,
    "start_time": "2023-03-19T06:59:43.561Z"
   },
   {
    "duration": 22,
    "start_time": "2023-03-19T06:59:43.946Z"
   },
   {
    "duration": 63,
    "start_time": "2023-03-19T06:59:43.970Z"
   },
   {
    "duration": 205,
    "start_time": "2023-03-19T06:59:44.037Z"
   },
   {
    "duration": 0,
    "start_time": "2023-03-19T06:59:44.244Z"
   },
   {
    "duration": 0,
    "start_time": "2023-03-19T06:59:44.246Z"
   },
   {
    "duration": 0,
    "start_time": "2023-03-19T06:59:44.248Z"
   },
   {
    "duration": 0,
    "start_time": "2023-03-19T06:59:44.249Z"
   },
   {
    "duration": 0,
    "start_time": "2023-03-19T06:59:44.250Z"
   },
   {
    "duration": 0,
    "start_time": "2023-03-19T06:59:44.251Z"
   },
   {
    "duration": 0,
    "start_time": "2023-03-19T06:59:44.252Z"
   },
   {
    "duration": 0,
    "start_time": "2023-03-19T06:59:44.253Z"
   },
   {
    "duration": 0,
    "start_time": "2023-03-19T06:59:44.254Z"
   },
   {
    "duration": 0,
    "start_time": "2023-03-19T06:59:44.255Z"
   },
   {
    "duration": 0,
    "start_time": "2023-03-19T06:59:44.257Z"
   },
   {
    "duration": 0,
    "start_time": "2023-03-19T06:59:44.259Z"
   },
   {
    "duration": 0,
    "start_time": "2023-03-19T06:59:44.260Z"
   },
   {
    "duration": 0,
    "start_time": "2023-03-19T06:59:44.262Z"
   },
   {
    "duration": 0,
    "start_time": "2023-03-19T06:59:44.294Z"
   },
   {
    "duration": 0,
    "start_time": "2023-03-19T06:59:44.295Z"
   },
   {
    "duration": 0,
    "start_time": "2023-03-19T06:59:44.296Z"
   },
   {
    "duration": 35,
    "start_time": "2023-03-19T07:02:46.775Z"
   },
   {
    "duration": 17,
    "start_time": "2023-03-19T07:09:52.346Z"
   },
   {
    "duration": 39,
    "start_time": "2023-03-19T07:13:04.759Z"
   },
   {
    "duration": 24,
    "start_time": "2023-03-19T07:14:50.427Z"
   },
   {
    "duration": 20,
    "start_time": "2023-03-19T07:15:23.220Z"
   },
   {
    "duration": 32,
    "start_time": "2023-03-19T07:18:13.726Z"
   },
   {
    "duration": 43,
    "start_time": "2023-03-19T07:25:14.866Z"
   },
   {
    "duration": 33,
    "start_time": "2023-03-19T07:26:18.164Z"
   },
   {
    "duration": 29,
    "start_time": "2023-03-19T07:26:34.443Z"
   },
   {
    "duration": 33,
    "start_time": "2023-03-19T07:28:40.813Z"
   },
   {
    "duration": 481,
    "start_time": "2023-03-19T07:29:10.605Z"
   },
   {
    "duration": 22,
    "start_time": "2023-03-19T07:32:17.821Z"
   },
   {
    "duration": 15,
    "start_time": "2023-03-19T07:34:12.706Z"
   },
   {
    "duration": 7,
    "start_time": "2023-03-19T07:34:44.926Z"
   },
   {
    "duration": 280,
    "start_time": "2023-03-19T07:37:47.670Z"
   },
   {
    "duration": 305,
    "start_time": "2023-03-19T07:38:50.520Z"
   },
   {
    "duration": 8,
    "start_time": "2023-03-19T07:39:15.452Z"
   },
   {
    "duration": 28,
    "start_time": "2023-03-19T07:40:14.902Z"
   },
   {
    "duration": 325,
    "start_time": "2023-03-19T07:41:10.977Z"
   },
   {
    "duration": 1089,
    "start_time": "2023-03-19T07:43:55.043Z"
   },
   {
    "duration": 1194,
    "start_time": "2023-03-19T07:45:17.643Z"
   },
   {
    "duration": 951,
    "start_time": "2023-03-19T07:47:56.989Z"
   },
   {
    "duration": 24,
    "start_time": "2023-03-19T07:48:23.180Z"
   },
   {
    "duration": 237,
    "start_time": "2023-03-19T07:54:04.234Z"
   },
   {
    "duration": 360,
    "start_time": "2023-03-19T07:54:57.349Z"
   },
   {
    "duration": 330,
    "start_time": "2023-03-19T07:55:22.444Z"
   },
   {
    "duration": 31,
    "start_time": "2023-03-19T07:55:30.786Z"
   },
   {
    "duration": 139,
    "start_time": "2023-03-19T07:55:35.702Z"
   },
   {
    "duration": 200,
    "start_time": "2023-03-19T07:55:37.548Z"
   },
   {
    "duration": 9,
    "start_time": "2023-03-19T07:55:42.857Z"
   },
   {
    "duration": 9,
    "start_time": "2023-03-19T07:55:49.806Z"
   },
   {
    "duration": 8,
    "start_time": "2023-03-19T07:55:51.443Z"
   },
   {
    "duration": 8,
    "start_time": "2023-03-19T07:55:53.018Z"
   },
   {
    "duration": 123,
    "start_time": "2023-03-19T07:55:55.502Z"
   },
   {
    "duration": 10,
    "start_time": "2023-03-19T07:55:57.007Z"
   },
   {
    "duration": 115,
    "start_time": "2023-03-19T07:55:59.123Z"
   },
   {
    "duration": 361,
    "start_time": "2023-03-19T07:59:16.065Z"
   },
   {
    "duration": 383,
    "start_time": "2023-03-19T08:00:16.061Z"
   },
   {
    "duration": 197,
    "start_time": "2023-03-19T08:00:24.944Z"
   },
   {
    "duration": 312,
    "start_time": "2023-03-19T08:00:37.527Z"
   },
   {
    "duration": 313,
    "start_time": "2023-03-19T08:00:56.512Z"
   },
   {
    "duration": 299,
    "start_time": "2023-03-19T08:01:14.774Z"
   },
   {
    "duration": 325,
    "start_time": "2023-03-19T08:01:33.406Z"
   },
   {
    "duration": 258,
    "start_time": "2023-03-19T08:01:58.318Z"
   },
   {
    "duration": 351,
    "start_time": "2023-03-19T08:02:17.206Z"
   },
   {
    "duration": 280,
    "start_time": "2023-03-19T08:02:45.618Z"
   },
   {
    "duration": 1680,
    "start_time": "2023-03-19T08:06:03.178Z"
   },
   {
    "duration": 198,
    "start_time": "2023-03-19T08:06:55.306Z"
   },
   {
    "duration": 67,
    "start_time": "2023-03-19T08:09:05.705Z"
   },
   {
    "duration": 16,
    "start_time": "2023-03-19T08:09:16.544Z"
   },
   {
    "duration": 16,
    "start_time": "2023-03-19T08:09:37.505Z"
   },
   {
    "duration": 186,
    "start_time": "2023-03-19T08:09:59.903Z"
   },
   {
    "duration": 175,
    "start_time": "2023-03-19T08:10:32.580Z"
   },
   {
    "duration": 40,
    "start_time": "2023-03-19T08:11:35.670Z"
   },
   {
    "duration": 187,
    "start_time": "2023-03-19T08:12:01.173Z"
   },
   {
    "duration": 186,
    "start_time": "2023-03-19T08:12:14.053Z"
   },
   {
    "duration": 233,
    "start_time": "2023-03-19T08:13:13.610Z"
   },
   {
    "duration": 30,
    "start_time": "2023-03-19T08:13:27.073Z"
   },
   {
    "duration": 204,
    "start_time": "2023-03-19T08:14:10.805Z"
   },
   {
    "duration": 8,
    "start_time": "2023-03-19T08:14:22.010Z"
   },
   {
    "duration": 8,
    "start_time": "2023-03-19T08:15:45.917Z"
   },
   {
    "duration": 148,
    "start_time": "2023-03-19T08:16:32.222Z"
   },
   {
    "duration": 11,
    "start_time": "2023-03-19T08:16:42.452Z"
   },
   {
    "duration": 40,
    "start_time": "2023-03-19T08:16:58.467Z"
   },
   {
    "duration": 261,
    "start_time": "2023-03-19T08:17:30.068Z"
   },
   {
    "duration": 350,
    "start_time": "2023-03-19T08:18:55.463Z"
   },
   {
    "duration": 255,
    "start_time": "2023-03-19T08:19:15.273Z"
   },
   {
    "duration": 216,
    "start_time": "2023-03-19T08:19:31.818Z"
   },
   {
    "duration": 198,
    "start_time": "2023-03-19T08:19:44.710Z"
   },
   {
    "duration": 19,
    "start_time": "2023-03-19T08:20:37.650Z"
   },
   {
    "duration": 16,
    "start_time": "2023-03-19T08:21:47.309Z"
   },
   {
    "duration": 7,
    "start_time": "2023-03-19T08:23:22.965Z"
   },
   {
    "duration": 4,
    "start_time": "2023-03-19T08:23:56.126Z"
   },
   {
    "duration": 3,
    "start_time": "2023-03-19T08:24:03.558Z"
   },
   {
    "duration": 9,
    "start_time": "2023-03-19T08:24:26.814Z"
   },
   {
    "duration": 15,
    "start_time": "2023-03-19T08:25:36.419Z"
   },
   {
    "duration": 11,
    "start_time": "2023-03-19T08:25:59.249Z"
   },
   {
    "duration": 21,
    "start_time": "2023-03-19T08:26:09.408Z"
   },
   {
    "duration": 249,
    "start_time": "2023-03-19T08:26:59.123Z"
   },
   {
    "duration": 280,
    "start_time": "2023-03-19T09:46:05.214Z"
   },
   {
    "duration": 24,
    "start_time": "2023-03-19T09:47:10.878Z"
   },
   {
    "duration": 258,
    "start_time": "2023-03-19T09:48:18.004Z"
   },
   {
    "duration": 237,
    "start_time": "2023-03-19T09:53:59.913Z"
   },
   {
    "duration": 326,
    "start_time": "2023-03-19T09:54:50.543Z"
   },
   {
    "duration": 298,
    "start_time": "2023-03-19T09:55:59.657Z"
   },
   {
    "duration": 276,
    "start_time": "2023-03-19T09:56:54.657Z"
   },
   {
    "duration": 253,
    "start_time": "2023-03-19T09:57:37.160Z"
   },
   {
    "duration": 261,
    "start_time": "2023-03-19T10:11:39.132Z"
   },
   {
    "duration": 76,
    "start_time": "2023-03-19T10:40:35.821Z"
   },
   {
    "duration": 657,
    "start_time": "2023-03-19T10:40:52.205Z"
   },
   {
    "duration": 398,
    "start_time": "2023-03-19T10:41:24.610Z"
   },
   {
    "duration": 388,
    "start_time": "2023-03-19T10:41:43.904Z"
   },
   {
    "duration": 401,
    "start_time": "2023-03-19T10:43:32.564Z"
   },
   {
    "duration": 7,
    "start_time": "2023-03-19T10:43:53.750Z"
   },
   {
    "duration": 385,
    "start_time": "2023-03-19T10:44:18.955Z"
   },
   {
    "duration": 435,
    "start_time": "2023-03-19T10:44:46.304Z"
   },
   {
    "duration": 448,
    "start_time": "2023-03-19T10:45:01.876Z"
   },
   {
    "duration": 341,
    "start_time": "2023-03-19T10:50:26.878Z"
   },
   {
    "duration": 236,
    "start_time": "2023-03-19T10:52:39.136Z"
   },
   {
    "duration": 393,
    "start_time": "2023-03-19T10:52:49.630Z"
   },
   {
    "duration": 9,
    "start_time": "2023-03-19T11:26:49.304Z"
   },
   {
    "duration": 8,
    "start_time": "2023-03-19T12:07:01.413Z"
   },
   {
    "duration": 26,
    "start_time": "2023-03-19T12:07:16.780Z"
   },
   {
    "duration": 8,
    "start_time": "2023-03-19T12:09:46.895Z"
   },
   {
    "duration": 5,
    "start_time": "2023-03-19T12:13:55.603Z"
   },
   {
    "duration": 3,
    "start_time": "2023-03-19T12:16:56.828Z"
   },
   {
    "duration": 73,
    "start_time": "2023-03-19T12:36:54.173Z"
   },
   {
    "duration": 5,
    "start_time": "2023-03-19T12:37:43.996Z"
   },
   {
    "duration": 5,
    "start_time": "2023-03-19T12:38:07.301Z"
   },
   {
    "duration": 5,
    "start_time": "2023-03-19T12:38:08.896Z"
   },
   {
    "duration": 3,
    "start_time": "2023-03-19T12:38:10.267Z"
   },
   {
    "duration": 4,
    "start_time": "2023-03-19T12:38:12.499Z"
   },
   {
    "duration": 21,
    "start_time": "2023-03-19T12:39:30.169Z"
   },
   {
    "duration": 8,
    "start_time": "2023-03-19T12:39:45.316Z"
   },
   {
    "duration": 10,
    "start_time": "2023-03-19T12:41:05.800Z"
   },
   {
    "duration": 5,
    "start_time": "2023-03-19T12:41:53.398Z"
   },
   {
    "duration": 9,
    "start_time": "2023-03-19T12:41:56.634Z"
   },
   {
    "duration": 6,
    "start_time": "2023-03-19T12:43:32.549Z"
   },
   {
    "duration": 8,
    "start_time": "2023-03-19T12:44:04.856Z"
   },
   {
    "duration": 5,
    "start_time": "2023-03-19T12:44:06.181Z"
   },
   {
    "duration": 2,
    "start_time": "2023-03-19T12:44:07.223Z"
   },
   {
    "duration": 4,
    "start_time": "2023-03-19T12:44:08.539Z"
   },
   {
    "duration": 9,
    "start_time": "2023-03-19T12:47:40.458Z"
   },
   {
    "duration": 5,
    "start_time": "2023-03-19T12:48:24.946Z"
   },
   {
    "duration": 20,
    "start_time": "2023-03-19T12:48:27.611Z"
   },
   {
    "duration": 35,
    "start_time": "2023-03-19T12:48:42.037Z"
   },
   {
    "duration": 3,
    "start_time": "2023-03-19T12:48:59.298Z"
   },
   {
    "duration": 6,
    "start_time": "2023-03-19T12:49:00.698Z"
   },
   {
    "duration": 69,
    "start_time": "2023-03-19T16:36:28.634Z"
   },
   {
    "duration": 41,
    "start_time": "2023-03-19T16:36:51.003Z"
   },
   {
    "duration": 55,
    "start_time": "2023-03-19T16:37:17.796Z"
   },
   {
    "duration": 54,
    "start_time": "2023-03-19T16:37:49.355Z"
   },
   {
    "duration": 1446,
    "start_time": "2023-03-19T16:38:14.694Z"
   },
   {
    "duration": 130,
    "start_time": "2023-03-19T16:38:16.143Z"
   },
   {
    "duration": 26,
    "start_time": "2023-03-19T16:38:16.275Z"
   },
   {
    "duration": 29,
    "start_time": "2023-03-19T16:38:16.303Z"
   },
   {
    "duration": 3,
    "start_time": "2023-03-19T16:38:16.334Z"
   },
   {
    "duration": 7,
    "start_time": "2023-03-19T16:38:16.339Z"
   },
   {
    "duration": 13,
    "start_time": "2023-03-19T16:38:16.347Z"
   },
   {
    "duration": 40,
    "start_time": "2023-03-19T16:38:16.361Z"
   },
   {
    "duration": 28,
    "start_time": "2023-03-19T16:38:16.404Z"
   },
   {
    "duration": 26,
    "start_time": "2023-03-19T16:38:16.433Z"
   },
   {
    "duration": 32,
    "start_time": "2023-03-19T16:38:16.461Z"
   },
   {
    "duration": 26,
    "start_time": "2023-03-19T16:38:16.496Z"
   },
   {
    "duration": 32,
    "start_time": "2023-03-19T16:38:16.524Z"
   },
   {
    "duration": 14,
    "start_time": "2023-03-19T16:38:16.559Z"
   },
   {
    "duration": 47,
    "start_time": "2023-03-19T16:38:16.575Z"
   },
   {
    "duration": 14,
    "start_time": "2023-03-19T16:38:16.623Z"
   },
   {
    "duration": 22,
    "start_time": "2023-03-19T16:38:16.638Z"
   },
   {
    "duration": 10,
    "start_time": "2023-03-19T16:38:16.662Z"
   },
   {
    "duration": 47,
    "start_time": "2023-03-19T16:38:16.673Z"
   },
   {
    "duration": 26,
    "start_time": "2023-03-19T16:38:16.722Z"
   },
   {
    "duration": 12,
    "start_time": "2023-03-19T16:38:16.751Z"
   },
   {
    "duration": 18,
    "start_time": "2023-03-19T16:38:16.765Z"
   },
   {
    "duration": 25,
    "start_time": "2023-03-19T16:38:16.789Z"
   },
   {
    "duration": 32,
    "start_time": "2023-03-19T16:38:16.816Z"
   },
   {
    "duration": 6,
    "start_time": "2023-03-19T16:38:16.851Z"
   },
   {
    "duration": 19,
    "start_time": "2023-03-19T16:38:16.859Z"
   },
   {
    "duration": 50,
    "start_time": "2023-03-19T16:38:16.881Z"
   },
   {
    "duration": 9,
    "start_time": "2023-03-19T16:38:16.933Z"
   },
   {
    "duration": 32,
    "start_time": "2023-03-19T16:38:16.943Z"
   },
   {
    "duration": 414,
    "start_time": "2023-03-19T16:38:16.977Z"
   },
   {
    "duration": 28,
    "start_time": "2023-03-19T16:38:17.394Z"
   },
   {
    "duration": 2521,
    "start_time": "2023-03-19T16:38:17.424Z"
   },
   {
    "duration": 357,
    "start_time": "2023-03-19T16:38:19.947Z"
   },
   {
    "duration": 213,
    "start_time": "2023-03-19T16:38:20.307Z"
   },
   {
    "duration": 213,
    "start_time": "2023-03-19T16:38:20.522Z"
   },
   {
    "duration": 231,
    "start_time": "2023-03-19T16:38:20.737Z"
   },
   {
    "duration": 234,
    "start_time": "2023-03-19T16:38:20.970Z"
   },
   {
    "duration": 228,
    "start_time": "2023-03-19T16:38:21.207Z"
   },
   {
    "duration": 8,
    "start_time": "2023-03-19T16:38:21.437Z"
   },
   {
    "duration": 31,
    "start_time": "2023-03-19T16:38:21.447Z"
   },
   {
    "duration": 24,
    "start_time": "2023-03-19T16:38:21.491Z"
   },
   {
    "duration": 288,
    "start_time": "2023-03-19T16:38:21.517Z"
   },
   {
    "duration": 40,
    "start_time": "2023-03-19T16:38:21.807Z"
   },
   {
    "duration": 349,
    "start_time": "2023-03-19T16:38:21.849Z"
   },
   {
    "duration": 10,
    "start_time": "2023-03-19T16:38:22.203Z"
   },
   {
    "duration": 183,
    "start_time": "2023-03-19T16:38:22.214Z"
   },
   {
    "duration": 312,
    "start_time": "2023-03-19T16:38:22.398Z"
   },
   {
    "duration": 11,
    "start_time": "2023-03-19T16:38:22.712Z"
   },
   {
    "duration": 29,
    "start_time": "2023-03-19T16:38:22.725Z"
   },
   {
    "duration": 47,
    "start_time": "2023-03-19T16:38:22.757Z"
   },
   {
    "duration": 23,
    "start_time": "2023-03-19T16:38:22.806Z"
   },
   {
    "duration": 182,
    "start_time": "2023-03-19T16:38:22.831Z"
   },
   {
    "duration": 10,
    "start_time": "2023-03-19T16:38:23.015Z"
   },
   {
    "duration": 183,
    "start_time": "2023-03-19T16:38:23.027Z"
   },
   {
    "duration": 331,
    "start_time": "2023-03-19T16:38:23.212Z"
   },
   {
    "duration": 185,
    "start_time": "2023-03-19T16:38:23.545Z"
   },
   {
    "duration": 332,
    "start_time": "2023-03-19T16:38:23.732Z"
   },
   {
    "duration": 359,
    "start_time": "2023-03-19T16:38:24.066Z"
   },
   {
    "duration": 447,
    "start_time": "2023-03-19T16:38:24.427Z"
   },
   {
    "duration": 11,
    "start_time": "2023-03-19T16:38:24.878Z"
   },
   {
    "duration": 38,
    "start_time": "2023-03-19T16:38:24.894Z"
   },
   {
    "duration": 8,
    "start_time": "2023-03-19T16:38:24.933Z"
   },
   {
    "duration": 8,
    "start_time": "2023-03-19T16:38:24.943Z"
   },
   {
    "duration": 46,
    "start_time": "2023-03-19T16:38:24.952Z"
   },
   {
    "duration": 79,
    "start_time": "2023-03-19T16:38:25.000Z"
   },
   {
    "duration": 0,
    "start_time": "2023-03-19T16:38:25.083Z"
   },
   {
    "duration": 0,
    "start_time": "2023-03-19T16:38:25.084Z"
   },
   {
    "duration": 0,
    "start_time": "2023-03-19T16:38:25.090Z"
   },
   {
    "duration": 0,
    "start_time": "2023-03-19T16:38:25.091Z"
   },
   {
    "duration": 0,
    "start_time": "2023-03-19T16:38:25.092Z"
   },
   {
    "duration": 0,
    "start_time": "2023-03-19T16:38:25.094Z"
   },
   {
    "duration": 0,
    "start_time": "2023-03-19T16:38:25.095Z"
   },
   {
    "duration": 0,
    "start_time": "2023-03-19T16:38:25.096Z"
   },
   {
    "duration": 0,
    "start_time": "2023-03-19T16:38:25.097Z"
   },
   {
    "duration": 0,
    "start_time": "2023-03-19T16:38:25.100Z"
   },
   {
    "duration": 0,
    "start_time": "2023-03-19T16:38:25.101Z"
   },
   {
    "duration": 0,
    "start_time": "2023-03-19T16:38:25.103Z"
   },
   {
    "duration": 0,
    "start_time": "2023-03-19T16:38:25.104Z"
   },
   {
    "duration": 0,
    "start_time": "2023-03-19T16:38:25.105Z"
   },
   {
    "duration": 0,
    "start_time": "2023-03-19T16:38:25.107Z"
   },
   {
    "duration": 0,
    "start_time": "2023-03-19T16:38:25.110Z"
   },
   {
    "duration": 0,
    "start_time": "2023-03-19T16:38:25.112Z"
   },
   {
    "duration": 0,
    "start_time": "2023-03-19T16:38:25.113Z"
   },
   {
    "duration": 0,
    "start_time": "2023-03-19T16:38:25.114Z"
   },
   {
    "duration": 0,
    "start_time": "2023-03-19T16:38:25.117Z"
   },
   {
    "duration": 0,
    "start_time": "2023-03-19T16:38:25.118Z"
   },
   {
    "duration": 0,
    "start_time": "2023-03-19T16:38:25.120Z"
   },
   {
    "duration": 0,
    "start_time": "2023-03-19T16:38:25.122Z"
   },
   {
    "duration": 0,
    "start_time": "2023-03-19T16:38:25.124Z"
   },
   {
    "duration": 0,
    "start_time": "2023-03-19T16:38:25.125Z"
   },
   {
    "duration": 9,
    "start_time": "2023-03-19T16:39:11.820Z"
   },
   {
    "duration": 9,
    "start_time": "2023-03-19T16:39:18.445Z"
   },
   {
    "duration": 12,
    "start_time": "2023-03-19T16:40:10.010Z"
   },
   {
    "duration": 9,
    "start_time": "2023-03-19T16:41:18.188Z"
   },
   {
    "duration": 23,
    "start_time": "2023-03-19T16:41:20.105Z"
   },
   {
    "duration": 13,
    "start_time": "2023-03-19T16:41:48.087Z"
   },
   {
    "duration": 6,
    "start_time": "2023-03-19T16:42:25.520Z"
   },
   {
    "duration": 24,
    "start_time": "2023-03-19T16:42:27.998Z"
   },
   {
    "duration": 24,
    "start_time": "2023-03-19T16:42:50.624Z"
   },
   {
    "duration": 6,
    "start_time": "2023-03-19T16:44:37.329Z"
   },
   {
    "duration": 4,
    "start_time": "2023-03-19T16:45:14.840Z"
   },
   {
    "duration": 43,
    "start_time": "2023-03-19T16:46:14.603Z"
   },
   {
    "duration": 60,
    "start_time": "2023-03-19T16:46:38.498Z"
   },
   {
    "duration": 68,
    "start_time": "2023-03-19T16:46:54.340Z"
   },
   {
    "duration": 6,
    "start_time": "2023-03-19T16:47:34.718Z"
   },
   {
    "duration": 6,
    "start_time": "2023-03-19T16:52:28.536Z"
   },
   {
    "duration": 6,
    "start_time": "2023-03-19T16:52:35.630Z"
   },
   {
    "duration": 6,
    "start_time": "2023-03-19T16:53:22.276Z"
   },
   {
    "duration": 7,
    "start_time": "2023-03-19T16:55:55.154Z"
   },
   {
    "duration": 7,
    "start_time": "2023-03-19T16:56:37.901Z"
   },
   {
    "duration": 6,
    "start_time": "2023-03-19T16:57:33.703Z"
   },
   {
    "duration": 22,
    "start_time": "2023-03-19T19:35:40.925Z"
   },
   {
    "duration": 18,
    "start_time": "2023-03-19T19:36:23.442Z"
   },
   {
    "duration": 1190,
    "start_time": "2023-03-19T19:37:06.522Z"
   },
   {
    "duration": 72,
    "start_time": "2023-03-19T19:37:07.714Z"
   },
   {
    "duration": 16,
    "start_time": "2023-03-19T19:37:07.788Z"
   },
   {
    "duration": 30,
    "start_time": "2023-03-19T19:37:07.806Z"
   },
   {
    "duration": 9,
    "start_time": "2023-03-19T19:37:07.838Z"
   },
   {
    "duration": 10,
    "start_time": "2023-03-19T19:37:07.849Z"
   },
   {
    "duration": 25,
    "start_time": "2023-03-19T19:37:07.860Z"
   },
   {
    "duration": 30,
    "start_time": "2023-03-19T19:37:07.887Z"
   },
   {
    "duration": 15,
    "start_time": "2023-03-19T19:37:07.919Z"
   },
   {
    "duration": 26,
    "start_time": "2023-03-19T19:37:07.938Z"
   },
   {
    "duration": 17,
    "start_time": "2023-03-19T19:37:07.966Z"
   },
   {
    "duration": 29,
    "start_time": "2023-03-19T19:37:07.984Z"
   },
   {
    "duration": 53,
    "start_time": "2023-03-19T19:37:08.015Z"
   },
   {
    "duration": 20,
    "start_time": "2023-03-19T19:37:08.069Z"
   },
   {
    "duration": 20,
    "start_time": "2023-03-19T19:37:08.091Z"
   },
   {
    "duration": 81,
    "start_time": "2023-03-19T19:37:08.113Z"
   },
   {
    "duration": 191,
    "start_time": "2023-03-19T19:37:08.196Z"
   },
   {
    "duration": 48,
    "start_time": "2023-03-19T19:37:08.389Z"
   },
   {
    "duration": 93,
    "start_time": "2023-03-19T19:37:08.439Z"
   },
   {
    "duration": 48,
    "start_time": "2023-03-19T19:37:08.534Z"
   },
   {
    "duration": 78,
    "start_time": "2023-03-19T19:37:08.584Z"
   },
   {
    "duration": 85,
    "start_time": "2023-03-19T19:37:08.664Z"
   },
   {
    "duration": 71,
    "start_time": "2023-03-19T19:37:08.750Z"
   },
   {
    "duration": 47,
    "start_time": "2023-03-19T19:37:08.823Z"
   },
   {
    "duration": 31,
    "start_time": "2023-03-19T19:37:08.872Z"
   },
   {
    "duration": 72,
    "start_time": "2023-03-19T19:37:08.905Z"
   },
   {
    "duration": 59,
    "start_time": "2023-03-19T19:37:08.979Z"
   },
   {
    "duration": 37,
    "start_time": "2023-03-19T19:37:09.043Z"
   },
   {
    "duration": 411,
    "start_time": "2023-03-19T19:37:09.082Z"
   },
   {
    "duration": 25,
    "start_time": "2023-03-19T19:37:09.495Z"
   },
   {
    "duration": 2368,
    "start_time": "2023-03-19T19:37:09.522Z"
   },
   {
    "duration": 213,
    "start_time": "2023-03-19T19:37:11.892Z"
   },
   {
    "duration": 377,
    "start_time": "2023-03-19T19:37:12.107Z"
   },
   {
    "duration": 245,
    "start_time": "2023-03-19T19:37:12.486Z"
   },
   {
    "duration": 213,
    "start_time": "2023-03-19T19:37:12.733Z"
   },
   {
    "duration": 206,
    "start_time": "2023-03-19T19:37:12.948Z"
   },
   {
    "duration": 207,
    "start_time": "2023-03-19T19:37:13.155Z"
   },
   {
    "duration": 14,
    "start_time": "2023-03-19T19:37:13.364Z"
   },
   {
    "duration": 25,
    "start_time": "2023-03-19T19:37:13.380Z"
   },
   {
    "duration": 39,
    "start_time": "2023-03-19T19:37:13.407Z"
   },
   {
    "duration": 251,
    "start_time": "2023-03-19T19:37:13.448Z"
   },
   {
    "duration": 36,
    "start_time": "2023-03-19T19:37:13.701Z"
   },
   {
    "duration": 277,
    "start_time": "2023-03-19T19:37:13.739Z"
   },
   {
    "duration": 12,
    "start_time": "2023-03-19T19:37:14.018Z"
   },
   {
    "duration": 190,
    "start_time": "2023-03-19T19:37:14.032Z"
   },
   {
    "duration": 157,
    "start_time": "2023-03-19T19:37:14.224Z"
   },
   {
    "duration": 10,
    "start_time": "2023-03-19T19:37:14.383Z"
   },
   {
    "duration": 31,
    "start_time": "2023-03-19T19:37:14.394Z"
   },
   {
    "duration": 27,
    "start_time": "2023-03-19T19:37:14.427Z"
   },
   {
    "duration": 14,
    "start_time": "2023-03-19T19:37:14.456Z"
   },
   {
    "duration": 156,
    "start_time": "2023-03-19T19:37:14.472Z"
   },
   {
    "duration": 10,
    "start_time": "2023-03-19T19:37:14.629Z"
   },
   {
    "duration": 252,
    "start_time": "2023-03-19T19:37:14.641Z"
   },
   {
    "duration": 289,
    "start_time": "2023-03-19T19:37:14.895Z"
   },
   {
    "duration": 171,
    "start_time": "2023-03-19T19:37:15.185Z"
   },
   {
    "duration": 309,
    "start_time": "2023-03-19T19:37:15.358Z"
   },
   {
    "duration": 329,
    "start_time": "2023-03-19T19:37:15.669Z"
   },
   {
    "duration": 317,
    "start_time": "2023-03-19T19:37:16.000Z"
   },
   {
    "duration": 9,
    "start_time": "2023-03-19T19:37:16.319Z"
   },
   {
    "duration": 23,
    "start_time": "2023-03-19T19:37:16.330Z"
   },
   {
    "duration": 17,
    "start_time": "2023-03-19T19:37:16.354Z"
   },
   {
    "duration": 16,
    "start_time": "2023-03-19T19:37:16.373Z"
   },
   {
    "duration": 28,
    "start_time": "2023-03-19T19:37:16.391Z"
   },
   {
    "duration": 24,
    "start_time": "2023-03-19T19:37:16.421Z"
   },
   {
    "duration": 25,
    "start_time": "2023-03-19T19:37:16.446Z"
   },
   {
    "duration": 121,
    "start_time": "2023-03-19T19:37:16.473Z"
   },
   {
    "duration": 0,
    "start_time": "2023-03-19T19:37:16.596Z"
   },
   {
    "duration": 51,
    "start_time": "2023-03-20T07:14:46.433Z"
   },
   {
    "duration": 1486,
    "start_time": "2023-03-20T07:14:59.063Z"
   },
   {
    "duration": 216,
    "start_time": "2023-03-20T07:15:00.551Z"
   },
   {
    "duration": 17,
    "start_time": "2023-03-20T07:15:00.769Z"
   },
   {
    "duration": 50,
    "start_time": "2023-03-20T07:15:00.788Z"
   },
   {
    "duration": 40,
    "start_time": "2023-03-20T07:15:00.839Z"
   },
   {
    "duration": 58,
    "start_time": "2023-03-20T07:15:00.881Z"
   },
   {
    "duration": 47,
    "start_time": "2023-03-20T07:15:00.941Z"
   },
   {
    "duration": 58,
    "start_time": "2023-03-20T07:15:00.990Z"
   },
   {
    "duration": 19,
    "start_time": "2023-03-20T07:15:01.050Z"
   },
   {
    "duration": 47,
    "start_time": "2023-03-20T07:15:01.072Z"
   },
   {
    "duration": 48,
    "start_time": "2023-03-20T07:15:01.120Z"
   },
   {
    "duration": 47,
    "start_time": "2023-03-20T07:15:01.170Z"
   },
   {
    "duration": 49,
    "start_time": "2023-03-20T07:15:01.218Z"
   },
   {
    "duration": 35,
    "start_time": "2023-03-20T07:15:01.269Z"
   },
   {
    "duration": 46,
    "start_time": "2023-03-20T07:15:01.306Z"
   },
   {
    "duration": 41,
    "start_time": "2023-03-20T07:15:01.353Z"
   },
   {
    "duration": 82,
    "start_time": "2023-03-20T07:15:01.396Z"
   },
   {
    "duration": 11,
    "start_time": "2023-03-20T07:15:01.480Z"
   },
   {
    "duration": 37,
    "start_time": "2023-03-20T07:15:01.493Z"
   },
   {
    "duration": 23,
    "start_time": "2023-03-20T07:15:01.532Z"
   },
   {
    "duration": 21,
    "start_time": "2023-03-20T07:15:01.557Z"
   },
   {
    "duration": 11,
    "start_time": "2023-03-20T07:15:01.580Z"
   },
   {
    "duration": 36,
    "start_time": "2023-03-20T07:15:01.593Z"
   },
   {
    "duration": 27,
    "start_time": "2023-03-20T07:15:01.631Z"
   },
   {
    "duration": 15,
    "start_time": "2023-03-20T07:15:01.660Z"
   },
   {
    "duration": 13,
    "start_time": "2023-03-20T07:15:01.677Z"
   },
   {
    "duration": 39,
    "start_time": "2023-03-20T07:15:01.691Z"
   },
   {
    "duration": 26,
    "start_time": "2023-03-20T07:15:01.733Z"
   },
   {
    "duration": 57,
    "start_time": "2023-03-20T07:15:01.760Z"
   },
   {
    "duration": 390,
    "start_time": "2023-03-20T07:15:01.818Z"
   },
   {
    "duration": 23,
    "start_time": "2023-03-20T07:15:02.210Z"
   },
   {
    "duration": 2362,
    "start_time": "2023-03-20T07:15:02.234Z"
   },
   {
    "duration": 271,
    "start_time": "2023-03-20T07:15:04.598Z"
   },
   {
    "duration": 420,
    "start_time": "2023-03-20T07:15:04.871Z"
   },
   {
    "duration": 205,
    "start_time": "2023-03-20T07:15:05.293Z"
   },
   {
    "duration": 204,
    "start_time": "2023-03-20T07:15:05.501Z"
   },
   {
    "duration": 191,
    "start_time": "2023-03-20T07:15:05.707Z"
   },
   {
    "duration": 191,
    "start_time": "2023-03-20T07:15:05.900Z"
   },
   {
    "duration": 6,
    "start_time": "2023-03-20T07:15:06.093Z"
   },
   {
    "duration": 22,
    "start_time": "2023-03-20T07:15:06.100Z"
   },
   {
    "duration": 32,
    "start_time": "2023-03-20T07:15:06.124Z"
   },
   {
    "duration": 232,
    "start_time": "2023-03-20T07:15:06.157Z"
   },
   {
    "duration": 33,
    "start_time": "2023-03-20T07:15:06.391Z"
   },
   {
    "duration": 265,
    "start_time": "2023-03-20T07:15:06.426Z"
   },
   {
    "duration": 9,
    "start_time": "2023-03-20T07:15:06.693Z"
   },
   {
    "duration": 175,
    "start_time": "2023-03-20T07:15:06.703Z"
   },
   {
    "duration": 167,
    "start_time": "2023-03-20T07:15:06.880Z"
   },
   {
    "duration": 10,
    "start_time": "2023-03-20T07:15:07.048Z"
   },
   {
    "duration": 10,
    "start_time": "2023-03-20T07:15:07.060Z"
   },
   {
    "duration": 10,
    "start_time": "2023-03-20T07:15:07.089Z"
   },
   {
    "duration": 9,
    "start_time": "2023-03-20T07:15:07.101Z"
   },
   {
    "duration": 179,
    "start_time": "2023-03-20T07:15:07.112Z"
   },
   {
    "duration": 9,
    "start_time": "2023-03-20T07:15:07.293Z"
   },
   {
    "duration": 308,
    "start_time": "2023-03-20T07:15:07.304Z"
   },
   {
    "duration": 302,
    "start_time": "2023-03-20T07:15:07.615Z"
   },
   {
    "duration": 176,
    "start_time": "2023-03-20T07:15:07.919Z"
   },
   {
    "duration": 320,
    "start_time": "2023-03-20T07:15:08.097Z"
   },
   {
    "duration": 333,
    "start_time": "2023-03-20T07:15:08.418Z"
   },
   {
    "duration": 315,
    "start_time": "2023-03-20T07:15:08.753Z"
   },
   {
    "duration": 7,
    "start_time": "2023-03-20T07:15:09.070Z"
   },
   {
    "duration": 21,
    "start_time": "2023-03-20T07:15:09.088Z"
   },
   {
    "duration": 9,
    "start_time": "2023-03-20T07:15:09.111Z"
   },
   {
    "duration": 15,
    "start_time": "2023-03-20T07:15:09.122Z"
   },
   {
    "duration": 11,
    "start_time": "2023-03-20T07:15:09.139Z"
   },
   {
    "duration": 6,
    "start_time": "2023-03-20T07:15:09.152Z"
   },
   {
    "duration": 6,
    "start_time": "2023-03-20T07:15:09.160Z"
   },
   {
    "duration": 112,
    "start_time": "2023-03-20T07:15:09.168Z"
   },
   {
    "duration": 0,
    "start_time": "2023-03-20T07:15:09.281Z"
   },
   {
    "duration": 10,
    "start_time": "2023-03-20T07:17:07.985Z"
   },
   {
    "duration": 10,
    "start_time": "2023-03-20T07:17:16.895Z"
   },
   {
    "duration": 9,
    "start_time": "2023-03-20T07:17:49.921Z"
   },
   {
    "duration": 14,
    "start_time": "2023-03-20T07:18:09.946Z"
   },
   {
    "duration": 10,
    "start_time": "2023-03-20T07:19:10.778Z"
   },
   {
    "duration": 10,
    "start_time": "2023-03-20T07:19:30.686Z"
   },
   {
    "duration": 10,
    "start_time": "2023-03-20T07:19:50.252Z"
   },
   {
    "duration": 15,
    "start_time": "2023-03-20T07:20:06.084Z"
   },
   {
    "duration": 9,
    "start_time": "2023-03-20T07:20:23.033Z"
   },
   {
    "duration": 9,
    "start_time": "2023-03-20T07:20:36.834Z"
   },
   {
    "duration": 9,
    "start_time": "2023-03-20T07:20:52.874Z"
   },
   {
    "duration": 10,
    "start_time": "2023-03-20T07:21:16.063Z"
   },
   {
    "duration": 15,
    "start_time": "2023-03-20T07:21:36.302Z"
   },
   {
    "duration": 9,
    "start_time": "2023-03-20T07:22:40.797Z"
   },
   {
    "duration": 37,
    "start_time": "2023-03-20T07:23:12.049Z"
   },
   {
    "duration": 15,
    "start_time": "2023-03-20T07:26:23.328Z"
   },
   {
    "duration": 10,
    "start_time": "2023-03-20T07:28:41.281Z"
   },
   {
    "duration": 14,
    "start_time": "2023-03-20T07:29:10.000Z"
   },
   {
    "duration": 11,
    "start_time": "2023-03-20T07:29:27.936Z"
   },
   {
    "duration": 19,
    "start_time": "2023-03-20T07:29:52.916Z"
   },
   {
    "duration": 2,
    "start_time": "2023-03-20T07:31:34.973Z"
   },
   {
    "duration": 17,
    "start_time": "2023-03-20T07:31:52.377Z"
   },
   {
    "duration": 12,
    "start_time": "2023-03-20T07:32:04.289Z"
   },
   {
    "duration": 1283,
    "start_time": "2023-03-20T07:32:15.852Z"
   },
   {
    "duration": 76,
    "start_time": "2023-03-20T07:32:17.137Z"
   },
   {
    "duration": 17,
    "start_time": "2023-03-20T07:32:17.215Z"
   },
   {
    "duration": 16,
    "start_time": "2023-03-20T07:32:17.235Z"
   },
   {
    "duration": 3,
    "start_time": "2023-03-20T07:32:17.253Z"
   },
   {
    "duration": 32,
    "start_time": "2023-03-20T07:32:17.258Z"
   },
   {
    "duration": 12,
    "start_time": "2023-03-20T07:32:17.292Z"
   },
   {
    "duration": 19,
    "start_time": "2023-03-20T07:32:17.306Z"
   },
   {
    "duration": 18,
    "start_time": "2023-03-20T07:32:17.327Z"
   },
   {
    "duration": 43,
    "start_time": "2023-03-20T07:32:17.348Z"
   },
   {
    "duration": 14,
    "start_time": "2023-03-20T07:32:17.394Z"
   },
   {
    "duration": 11,
    "start_time": "2023-03-20T07:32:17.411Z"
   },
   {
    "duration": 85,
    "start_time": "2023-03-20T07:32:17.424Z"
   },
   {
    "duration": 16,
    "start_time": "2023-03-20T07:32:17.511Z"
   },
   {
    "duration": 24,
    "start_time": "2023-03-20T07:32:17.530Z"
   },
   {
    "duration": 35,
    "start_time": "2023-03-20T07:32:17.556Z"
   },
   {
    "duration": 30,
    "start_time": "2023-03-20T07:32:17.593Z"
   },
   {
    "duration": 15,
    "start_time": "2023-03-20T07:32:17.625Z"
   },
   {
    "duration": 63,
    "start_time": "2023-03-20T07:32:17.642Z"
   },
   {
    "duration": 15,
    "start_time": "2023-03-20T07:32:17.707Z"
   },
   {
    "duration": 7,
    "start_time": "2023-03-20T07:32:17.725Z"
   },
   {
    "duration": 8,
    "start_time": "2023-03-20T07:32:17.734Z"
   },
   {
    "duration": 12,
    "start_time": "2023-03-20T07:32:17.745Z"
   },
   {
    "duration": 12,
    "start_time": "2023-03-20T07:32:17.789Z"
   },
   {
    "duration": 8,
    "start_time": "2023-03-20T07:32:17.803Z"
   },
   {
    "duration": 44,
    "start_time": "2023-03-20T07:32:17.813Z"
   },
   {
    "duration": 24,
    "start_time": "2023-03-20T07:32:17.859Z"
   },
   {
    "duration": 13,
    "start_time": "2023-03-20T07:32:17.888Z"
   },
   {
    "duration": 33,
    "start_time": "2023-03-20T07:32:17.904Z"
   },
   {
    "duration": 450,
    "start_time": "2023-03-20T07:32:17.939Z"
   },
   {
    "duration": 34,
    "start_time": "2023-03-20T07:32:18.391Z"
   },
   {
    "duration": 2272,
    "start_time": "2023-03-20T07:32:18.428Z"
   },
   {
    "duration": 214,
    "start_time": "2023-03-20T07:32:20.703Z"
   },
   {
    "duration": 323,
    "start_time": "2023-03-20T07:32:20.919Z"
   },
   {
    "duration": 202,
    "start_time": "2023-03-20T07:32:21.243Z"
   },
   {
    "duration": 209,
    "start_time": "2023-03-20T07:32:21.447Z"
   },
   {
    "duration": 186,
    "start_time": "2023-03-20T07:32:21.658Z"
   },
   {
    "duration": 196,
    "start_time": "2023-03-20T07:32:21.845Z"
   },
   {
    "duration": 6,
    "start_time": "2023-03-20T07:32:22.043Z"
   },
   {
    "duration": 23,
    "start_time": "2023-03-20T07:32:22.050Z"
   },
   {
    "duration": 31,
    "start_time": "2023-03-20T07:32:22.075Z"
   },
   {
    "duration": 248,
    "start_time": "2023-03-20T07:32:22.108Z"
   },
   {
    "duration": 46,
    "start_time": "2023-03-20T07:32:22.358Z"
   },
   {
    "duration": 269,
    "start_time": "2023-03-20T07:32:22.406Z"
   },
   {
    "duration": 16,
    "start_time": "2023-03-20T07:32:22.676Z"
   },
   {
    "duration": 242,
    "start_time": "2023-03-20T07:32:22.694Z"
   },
   {
    "duration": 186,
    "start_time": "2023-03-20T07:32:22.938Z"
   },
   {
    "duration": 12,
    "start_time": "2023-03-20T07:32:23.126Z"
   },
   {
    "duration": 34,
    "start_time": "2023-03-20T07:32:23.140Z"
   },
   {
    "duration": 17,
    "start_time": "2023-03-20T07:32:23.176Z"
   },
   {
    "duration": 51,
    "start_time": "2023-03-20T07:32:23.195Z"
   },
   {
    "duration": 213,
    "start_time": "2023-03-20T07:32:23.248Z"
   },
   {
    "duration": 9,
    "start_time": "2023-03-20T07:32:23.463Z"
   },
   {
    "duration": 296,
    "start_time": "2023-03-20T07:32:23.474Z"
   },
   {
    "duration": 346,
    "start_time": "2023-03-20T07:32:23.773Z"
   },
   {
    "duration": 173,
    "start_time": "2023-03-20T07:32:24.121Z"
   },
   {
    "duration": 304,
    "start_time": "2023-03-20T07:32:24.296Z"
   },
   {
    "duration": 337,
    "start_time": "2023-03-20T07:32:24.602Z"
   },
   {
    "duration": 319,
    "start_time": "2023-03-20T07:32:24.942Z"
   },
   {
    "duration": 3,
    "start_time": "2023-03-20T07:32:25.262Z"
   },
   {
    "duration": 24,
    "start_time": "2023-03-20T07:32:25.267Z"
   },
   {
    "duration": 7,
    "start_time": "2023-03-20T07:32:25.293Z"
   },
   {
    "duration": 8,
    "start_time": "2023-03-20T07:32:25.302Z"
   },
   {
    "duration": 10,
    "start_time": "2023-03-20T07:32:25.312Z"
   },
   {
    "duration": 21,
    "start_time": "2023-03-20T07:32:25.323Z"
   },
   {
    "duration": 30,
    "start_time": "2023-03-20T07:32:25.346Z"
   },
   {
    "duration": 119,
    "start_time": "2023-03-20T07:32:25.378Z"
   },
   {
    "duration": 0,
    "start_time": "2023-03-20T07:32:25.499Z"
   },
   {
    "duration": 17,
    "start_time": "2023-03-20T07:34:00.951Z"
   },
   {
    "duration": 31,
    "start_time": "2023-03-20T07:34:36.221Z"
   },
   {
    "duration": 28,
    "start_time": "2023-03-20T07:41:50.010Z"
   },
   {
    "duration": 28,
    "start_time": "2023-03-20T07:42:55.785Z"
   },
   {
    "duration": 25,
    "start_time": "2023-03-20T07:43:20.382Z"
   },
   {
    "duration": 23,
    "start_time": "2023-03-20T07:43:40.113Z"
   },
   {
    "duration": 34,
    "start_time": "2023-03-20T07:44:30.586Z"
   },
   {
    "duration": 17,
    "start_time": "2023-03-20T07:45:23.703Z"
   },
   {
    "duration": 37,
    "start_time": "2023-03-20T07:46:35.680Z"
   },
   {
    "duration": 20,
    "start_time": "2023-03-20T07:47:25.749Z"
   },
   {
    "duration": 21,
    "start_time": "2023-03-20T07:49:38.796Z"
   },
   {
    "duration": 30,
    "start_time": "2023-03-20T07:50:13.282Z"
   },
   {
    "duration": 23,
    "start_time": "2023-03-20T07:50:23.963Z"
   },
   {
    "duration": 24,
    "start_time": "2023-03-20T07:58:28.217Z"
   },
   {
    "duration": 21,
    "start_time": "2023-03-20T07:58:48.709Z"
   },
   {
    "duration": 24,
    "start_time": "2023-03-20T08:04:20.806Z"
   },
   {
    "duration": 23,
    "start_time": "2023-03-20T08:04:52.297Z"
   },
   {
    "duration": 22,
    "start_time": "2023-03-20T08:05:12.058Z"
   },
   {
    "duration": 23,
    "start_time": "2023-03-20T08:06:31.875Z"
   },
   {
    "duration": 22,
    "start_time": "2023-03-20T08:06:59.779Z"
   },
   {
    "duration": 24,
    "start_time": "2023-03-20T08:09:56.316Z"
   },
   {
    "duration": 26,
    "start_time": "2023-03-20T08:10:46.601Z"
   },
   {
    "duration": 21,
    "start_time": "2023-03-20T08:11:18.962Z"
   },
   {
    "duration": 27,
    "start_time": "2023-03-20T08:15:08.504Z"
   },
   {
    "duration": 39,
    "start_time": "2023-03-20T08:18:26.725Z"
   },
   {
    "duration": 24,
    "start_time": "2023-03-20T08:19:09.455Z"
   },
   {
    "duration": 26,
    "start_time": "2023-03-20T08:19:57.822Z"
   },
   {
    "duration": 31,
    "start_time": "2023-03-20T08:21:10.971Z"
   },
   {
    "duration": 40,
    "start_time": "2023-03-20T08:25:45.113Z"
   },
   {
    "duration": 38,
    "start_time": "2023-03-20T08:29:14.308Z"
   },
   {
    "duration": 41,
    "start_time": "2023-03-20T08:47:46.056Z"
   },
   {
    "duration": 48,
    "start_time": "2023-03-20T08:52:26.618Z"
   },
   {
    "duration": 14,
    "start_time": "2023-03-20T09:03:40.568Z"
   },
   {
    "duration": 13,
    "start_time": "2023-03-20T09:04:28.828Z"
   },
   {
    "duration": 10,
    "start_time": "2023-03-20T09:04:42.336Z"
   },
   {
    "duration": 89,
    "start_time": "2023-03-20T09:06:41.475Z"
   },
   {
    "duration": 2646,
    "start_time": "2023-03-20T09:09:48.067Z"
   },
   {
    "duration": 2636,
    "start_time": "2023-03-20T09:10:13.015Z"
   },
   {
    "duration": 2769,
    "start_time": "2023-03-20T09:10:30.269Z"
   },
   {
    "duration": 231,
    "start_time": "2023-03-20T09:35:53.053Z"
   },
   {
    "duration": 218,
    "start_time": "2023-03-20T09:36:29.810Z"
   },
   {
    "duration": 192,
    "start_time": "2023-03-20T09:37:14.923Z"
   },
   {
    "duration": 256,
    "start_time": "2023-03-20T09:37:27.278Z"
   },
   {
    "duration": 9,
    "start_time": "2023-03-20T10:06:43.830Z"
   },
   {
    "duration": 12,
    "start_time": "2023-03-20T10:07:47.558Z"
   },
   {
    "duration": 8,
    "start_time": "2023-03-20T10:08:05.751Z"
   },
   {
    "duration": 23,
    "start_time": "2023-03-20T10:10:34.959Z"
   },
   {
    "duration": 14,
    "start_time": "2023-03-20T10:19:52.033Z"
   },
   {
    "duration": 14,
    "start_time": "2023-03-20T10:20:31.457Z"
   },
   {
    "duration": 8,
    "start_time": "2023-03-20T10:20:48.748Z"
   },
   {
    "duration": 16,
    "start_time": "2023-03-20T10:21:52.336Z"
   },
   {
    "duration": 9,
    "start_time": "2023-03-20T10:23:11.426Z"
   },
   {
    "duration": 4,
    "start_time": "2023-03-20T10:31:40.402Z"
   },
   {
    "duration": 39,
    "start_time": "2023-03-20T10:31:48.301Z"
   },
   {
    "duration": 35,
    "start_time": "2023-03-20T10:32:47.652Z"
   },
   {
    "duration": 231,
    "start_time": "2023-03-20T10:37:50.914Z"
   },
   {
    "duration": 203,
    "start_time": "2023-03-20T10:39:13.740Z"
   },
   {
    "duration": 14,
    "start_time": "2023-03-20T10:39:43.576Z"
   },
   {
    "duration": 435,
    "start_time": "2023-03-20T10:39:54.139Z"
   },
   {
    "duration": 18,
    "start_time": "2023-03-20T10:42:13.667Z"
   },
   {
    "duration": 59,
    "start_time": "2023-03-20T10:42:28.170Z"
   },
   {
    "duration": 8,
    "start_time": "2023-03-20T10:50:24.284Z"
   },
   {
    "duration": 12,
    "start_time": "2023-03-20T10:50:25.373Z"
   },
   {
    "duration": 16,
    "start_time": "2023-03-20T10:50:26.482Z"
   },
   {
    "duration": 6,
    "start_time": "2023-03-20T10:50:27.928Z"
   },
   {
    "duration": 9,
    "start_time": "2023-03-20T10:50:30.810Z"
   },
   {
    "duration": 7,
    "start_time": "2023-03-20T10:50:31.762Z"
   },
   {
    "duration": 1230,
    "start_time": "2023-03-20T12:44:54.949Z"
   },
   {
    "duration": 79,
    "start_time": "2023-03-20T12:44:56.181Z"
   },
   {
    "duration": 22,
    "start_time": "2023-03-20T12:44:56.262Z"
   },
   {
    "duration": 24,
    "start_time": "2023-03-20T12:44:56.286Z"
   },
   {
    "duration": 3,
    "start_time": "2023-03-20T12:44:56.312Z"
   },
   {
    "duration": 21,
    "start_time": "2023-03-20T12:44:56.317Z"
   },
   {
    "duration": 25,
    "start_time": "2023-03-20T12:44:56.339Z"
   },
   {
    "duration": 20,
    "start_time": "2023-03-20T12:44:56.366Z"
   },
   {
    "duration": 24,
    "start_time": "2023-03-20T12:44:56.388Z"
   },
   {
    "duration": 15,
    "start_time": "2023-03-20T12:44:56.415Z"
   },
   {
    "duration": 17,
    "start_time": "2023-03-20T12:44:56.431Z"
   },
   {
    "duration": 11,
    "start_time": "2023-03-20T12:44:56.450Z"
   },
   {
    "duration": 65,
    "start_time": "2023-03-20T12:44:56.463Z"
   },
   {
    "duration": 15,
    "start_time": "2023-03-20T12:44:56.530Z"
   },
   {
    "duration": 40,
    "start_time": "2023-03-20T12:44:56.547Z"
   },
   {
    "duration": 24,
    "start_time": "2023-03-20T12:44:56.589Z"
   },
   {
    "duration": 29,
    "start_time": "2023-03-20T12:44:56.615Z"
   },
   {
    "duration": 16,
    "start_time": "2023-03-20T12:44:56.646Z"
   },
   {
    "duration": 46,
    "start_time": "2023-03-20T12:44:56.664Z"
   },
   {
    "duration": 14,
    "start_time": "2023-03-20T12:44:56.712Z"
   },
   {
    "duration": 21,
    "start_time": "2023-03-20T12:44:56.728Z"
   },
   {
    "duration": 17,
    "start_time": "2023-03-20T12:44:56.752Z"
   },
   {
    "duration": 34,
    "start_time": "2023-03-20T12:44:56.771Z"
   },
   {
    "duration": 22,
    "start_time": "2023-03-20T12:44:56.807Z"
   },
   {
    "duration": 11,
    "start_time": "2023-03-20T12:44:56.831Z"
   },
   {
    "duration": 23,
    "start_time": "2023-03-20T12:44:56.844Z"
   },
   {
    "duration": 25,
    "start_time": "2023-03-20T12:44:56.869Z"
   },
   {
    "duration": 13,
    "start_time": "2023-03-20T12:44:56.901Z"
   },
   {
    "duration": 68,
    "start_time": "2023-03-20T12:44:56.917Z"
   },
   {
    "duration": 409,
    "start_time": "2023-03-20T12:44:56.987Z"
   },
   {
    "duration": 27,
    "start_time": "2023-03-20T12:44:57.398Z"
   },
   {
    "duration": 2582,
    "start_time": "2023-03-20T12:44:57.427Z"
   },
   {
    "duration": 218,
    "start_time": "2023-03-20T12:45:00.011Z"
   },
   {
    "duration": 399,
    "start_time": "2023-03-20T12:45:00.231Z"
   },
   {
    "duration": 222,
    "start_time": "2023-03-20T12:45:00.632Z"
   },
   {
    "duration": 225,
    "start_time": "2023-03-20T12:45:00.856Z"
   },
   {
    "duration": 223,
    "start_time": "2023-03-20T12:45:01.082Z"
   },
   {
    "duration": 281,
    "start_time": "2023-03-20T12:45:01.307Z"
   },
   {
    "duration": 16,
    "start_time": "2023-03-20T12:45:01.591Z"
   },
   {
    "duration": 36,
    "start_time": "2023-03-20T12:45:01.609Z"
   },
   {
    "duration": 316,
    "start_time": "2023-03-20T12:45:01.646Z"
   },
   {
    "duration": 54,
    "start_time": "2023-03-20T12:45:01.964Z"
   },
   {
    "duration": 342,
    "start_time": "2023-03-20T12:45:02.020Z"
   },
   {
    "duration": 8,
    "start_time": "2023-03-20T12:45:02.364Z"
   },
   {
    "duration": 185,
    "start_time": "2023-03-20T12:45:02.374Z"
   },
   {
    "duration": 216,
    "start_time": "2023-03-20T12:45:02.561Z"
   },
   {
    "duration": 22,
    "start_time": "2023-03-20T12:45:02.780Z"
   },
   {
    "duration": 22,
    "start_time": "2023-03-20T12:45:02.806Z"
   },
   {
    "duration": 11,
    "start_time": "2023-03-20T12:45:02.830Z"
   },
   {
    "duration": 22,
    "start_time": "2023-03-20T12:45:02.843Z"
   },
   {
    "duration": 183,
    "start_time": "2023-03-20T12:45:02.867Z"
   },
   {
    "duration": 9,
    "start_time": "2023-03-20T12:45:03.052Z"
   },
   {
    "duration": 247,
    "start_time": "2023-03-20T12:45:03.063Z"
   },
   {
    "duration": 41,
    "start_time": "2023-03-20T12:45:03.312Z"
   },
   {
    "duration": 318,
    "start_time": "2023-03-20T12:45:03.355Z"
   },
   {
    "duration": 198,
    "start_time": "2023-03-20T12:45:03.676Z"
   },
   {
    "duration": 337,
    "start_time": "2023-03-20T12:45:03.876Z"
   },
   {
    "duration": 331,
    "start_time": "2023-03-20T12:45:04.215Z"
   },
   {
    "duration": 329,
    "start_time": "2023-03-20T12:45:04.547Z"
   },
   {
    "duration": 19,
    "start_time": "2023-03-20T12:45:04.879Z"
   },
   {
    "duration": 18,
    "start_time": "2023-03-20T12:45:04.899Z"
   },
   {
    "duration": 18,
    "start_time": "2023-03-20T12:45:04.919Z"
   },
   {
    "duration": 20,
    "start_time": "2023-03-20T12:45:04.939Z"
   },
   {
    "duration": 20,
    "start_time": "2023-03-20T12:45:04.961Z"
   },
   {
    "duration": 13,
    "start_time": "2023-03-20T12:45:04.983Z"
   },
   {
    "duration": 1151,
    "start_time": "2023-03-20T17:49:07.114Z"
   },
   {
    "duration": 62,
    "start_time": "2023-03-20T17:49:08.266Z"
   },
   {
    "duration": 15,
    "start_time": "2023-03-20T17:49:08.330Z"
   },
   {
    "duration": 14,
    "start_time": "2023-03-20T17:49:08.347Z"
   },
   {
    "duration": 12,
    "start_time": "2023-03-20T17:49:08.362Z"
   },
   {
    "duration": 4,
    "start_time": "2023-03-20T17:49:08.376Z"
   },
   {
    "duration": 16,
    "start_time": "2023-03-20T17:49:08.381Z"
   },
   {
    "duration": 17,
    "start_time": "2023-03-20T17:49:08.398Z"
   },
   {
    "duration": 14,
    "start_time": "2023-03-20T17:49:08.416Z"
   },
   {
    "duration": 53,
    "start_time": "2023-03-20T17:49:08.432Z"
   },
   {
    "duration": 10,
    "start_time": "2023-03-20T17:49:08.486Z"
   },
   {
    "duration": 9,
    "start_time": "2023-03-20T17:49:08.498Z"
   },
   {
    "duration": 30,
    "start_time": "2023-03-20T17:49:08.508Z"
   },
   {
    "duration": 41,
    "start_time": "2023-03-20T17:49:08.540Z"
   },
   {
    "duration": 13,
    "start_time": "2023-03-20T17:49:08.583Z"
   },
   {
    "duration": 10,
    "start_time": "2023-03-20T17:49:08.598Z"
   },
   {
    "duration": 20,
    "start_time": "2023-03-20T17:49:08.609Z"
   },
   {
    "duration": 10,
    "start_time": "2023-03-20T17:49:08.631Z"
   },
   {
    "duration": 22,
    "start_time": "2023-03-20T17:49:08.675Z"
   },
   {
    "duration": 8,
    "start_time": "2023-03-20T17:49:08.699Z"
   },
   {
    "duration": 4,
    "start_time": "2023-03-20T17:49:08.709Z"
   },
   {
    "duration": 5,
    "start_time": "2023-03-20T17:49:08.715Z"
   },
   {
    "duration": 5,
    "start_time": "2023-03-20T17:49:08.722Z"
   },
   {
    "duration": 13,
    "start_time": "2023-03-20T17:49:08.729Z"
   },
   {
    "duration": 32,
    "start_time": "2023-03-20T17:49:08.743Z"
   },
   {
    "duration": 9,
    "start_time": "2023-03-20T17:49:08.777Z"
   },
   {
    "duration": 11,
    "start_time": "2023-03-20T17:49:08.788Z"
   },
   {
    "duration": 7,
    "start_time": "2023-03-20T17:49:08.802Z"
   },
   {
    "duration": 34,
    "start_time": "2023-03-20T17:49:08.810Z"
   },
   {
    "duration": 338,
    "start_time": "2023-03-20T17:49:08.874Z"
   },
   {
    "duration": 22,
    "start_time": "2023-03-20T17:49:09.213Z"
   },
   {
    "duration": 2005,
    "start_time": "2023-03-20T17:49:09.236Z"
   },
   {
    "duration": 185,
    "start_time": "2023-03-20T17:49:11.242Z"
   },
   {
    "duration": 316,
    "start_time": "2023-03-20T17:49:11.428Z"
   },
   {
    "duration": 178,
    "start_time": "2023-03-20T17:49:11.745Z"
   },
   {
    "duration": 169,
    "start_time": "2023-03-20T17:49:11.924Z"
   },
   {
    "duration": 165,
    "start_time": "2023-03-20T17:49:12.094Z"
   },
   {
    "duration": 185,
    "start_time": "2023-03-20T17:49:12.260Z"
   },
   {
    "duration": 5,
    "start_time": "2023-03-20T17:49:12.447Z"
   },
   {
    "duration": 9,
    "start_time": "2023-03-20T17:49:12.453Z"
   },
   {
    "duration": 223,
    "start_time": "2023-03-20T17:49:12.474Z"
   },
   {
    "duration": 32,
    "start_time": "2023-03-20T17:49:12.699Z"
   },
   {
    "duration": 247,
    "start_time": "2023-03-20T17:49:12.733Z"
   },
   {
    "duration": 10,
    "start_time": "2023-03-20T17:49:12.982Z"
   },
   {
    "duration": 146,
    "start_time": "2023-03-20T17:49:12.993Z"
   },
   {
    "duration": 136,
    "start_time": "2023-03-20T17:49:13.140Z"
   },
   {
    "duration": 9,
    "start_time": "2023-03-20T17:49:13.278Z"
   },
   {
    "duration": 8,
    "start_time": "2023-03-20T17:49:13.289Z"
   },
   {
    "duration": 10,
    "start_time": "2023-03-20T17:49:13.299Z"
   },
   {
    "duration": 10,
    "start_time": "2023-03-20T17:49:13.311Z"
   },
   {
    "duration": 157,
    "start_time": "2023-03-20T17:49:13.322Z"
   },
   {
    "duration": 8,
    "start_time": "2023-03-20T17:49:13.481Z"
   },
   {
    "duration": 217,
    "start_time": "2023-03-20T17:49:13.490Z"
   },
   {
    "duration": 35,
    "start_time": "2023-03-20T17:49:13.709Z"
   },
   {
    "duration": 257,
    "start_time": "2023-03-20T17:49:13.746Z"
   },
   {
    "duration": 200,
    "start_time": "2023-03-20T17:49:14.005Z"
   },
   {
    "duration": 354,
    "start_time": "2023-03-20T17:49:14.207Z"
   },
   {
    "duration": 337,
    "start_time": "2023-03-20T17:49:14.563Z"
   },
   {
    "duration": 295,
    "start_time": "2023-03-20T17:49:14.902Z"
   },
   {
    "duration": 7,
    "start_time": "2023-03-20T17:49:15.198Z"
   },
   {
    "duration": 9,
    "start_time": "2023-03-20T17:49:15.207Z"
   },
   {
    "duration": 7,
    "start_time": "2023-03-20T17:49:15.218Z"
   },
   {
    "duration": 7,
    "start_time": "2023-03-20T17:49:15.228Z"
   },
   {
    "duration": 7,
    "start_time": "2023-03-20T17:49:15.237Z"
   },
   {
    "duration": 35,
    "start_time": "2023-03-20T17:49:15.246Z"
   },
   {
    "duration": 92,
    "start_time": "2023-03-20T18:53:33.600Z"
   },
   {
    "duration": 153,
    "start_time": "2023-03-20T18:54:08.029Z"
   },
   {
    "duration": 70,
    "start_time": "2023-03-20T18:54:12.045Z"
   },
   {
    "duration": 80,
    "start_time": "2023-03-20T18:55:32.698Z"
   },
   {
    "duration": 69,
    "start_time": "2023-03-20T18:56:43.713Z"
   },
   {
    "duration": 42,
    "start_time": "2023-03-20T19:09:21.952Z"
   },
   {
    "duration": 1410,
    "start_time": "2023-03-20T19:09:35.849Z"
   },
   {
    "duration": 225,
    "start_time": "2023-03-20T19:09:37.261Z"
   },
   {
    "duration": 15,
    "start_time": "2023-03-20T19:09:37.487Z"
   },
   {
    "duration": 21,
    "start_time": "2023-03-20T19:09:37.504Z"
   },
   {
    "duration": 3,
    "start_time": "2023-03-20T19:09:37.527Z"
   },
   {
    "duration": 41,
    "start_time": "2023-03-20T19:09:37.531Z"
   },
   {
    "duration": 16,
    "start_time": "2023-03-20T19:09:37.573Z"
   },
   {
    "duration": 17,
    "start_time": "2023-03-20T19:09:37.591Z"
   },
   {
    "duration": 14,
    "start_time": "2023-03-20T19:09:37.610Z"
   },
   {
    "duration": 14,
    "start_time": "2023-03-20T19:09:37.626Z"
   },
   {
    "duration": 26,
    "start_time": "2023-03-20T19:09:37.642Z"
   },
   {
    "duration": 10,
    "start_time": "2023-03-20T19:09:37.670Z"
   },
   {
    "duration": 34,
    "start_time": "2023-03-20T19:09:37.681Z"
   },
   {
    "duration": 13,
    "start_time": "2023-03-20T19:09:37.717Z"
   },
   {
    "duration": 30,
    "start_time": "2023-03-20T19:09:37.732Z"
   },
   {
    "duration": 14,
    "start_time": "2023-03-20T19:09:37.763Z"
   },
   {
    "duration": 25,
    "start_time": "2023-03-20T19:09:37.779Z"
   },
   {
    "duration": 28,
    "start_time": "2023-03-20T19:09:37.806Z"
   },
   {
    "duration": 11,
    "start_time": "2023-03-20T19:09:37.835Z"
   },
   {
    "duration": 24,
    "start_time": "2023-03-20T19:09:37.861Z"
   },
   {
    "duration": 16,
    "start_time": "2023-03-20T19:09:37.886Z"
   },
   {
    "duration": 13,
    "start_time": "2023-03-20T19:09:37.904Z"
   },
   {
    "duration": 17,
    "start_time": "2023-03-20T19:09:37.919Z"
   },
   {
    "duration": 9,
    "start_time": "2023-03-20T19:09:37.938Z"
   },
   {
    "duration": 19,
    "start_time": "2023-03-20T19:09:37.949Z"
   },
   {
    "duration": 5,
    "start_time": "2023-03-20T19:09:37.970Z"
   },
   {
    "duration": 17,
    "start_time": "2023-03-20T19:09:37.977Z"
   },
   {
    "duration": 13,
    "start_time": "2023-03-20T19:09:37.998Z"
   },
   {
    "duration": 9,
    "start_time": "2023-03-20T19:09:38.013Z"
   },
   {
    "duration": 57,
    "start_time": "2023-03-20T19:09:38.023Z"
   },
   {
    "duration": 384,
    "start_time": "2023-03-20T19:09:38.082Z"
   },
   {
    "duration": 25,
    "start_time": "2023-03-20T19:09:38.468Z"
   },
   {
    "duration": 2393,
    "start_time": "2023-03-20T19:09:38.495Z"
   },
   {
    "duration": 203,
    "start_time": "2023-03-20T19:09:40.890Z"
   },
   {
    "duration": 356,
    "start_time": "2023-03-20T19:09:41.095Z"
   },
   {
    "duration": 211,
    "start_time": "2023-03-20T19:09:41.453Z"
   },
   {
    "duration": 199,
    "start_time": "2023-03-20T19:09:41.666Z"
   },
   {
    "duration": 185,
    "start_time": "2023-03-20T19:09:41.867Z"
   },
   {
    "duration": 194,
    "start_time": "2023-03-20T19:09:42.053Z"
   },
   {
    "duration": 14,
    "start_time": "2023-03-20T19:09:42.249Z"
   },
   {
    "duration": 20,
    "start_time": "2023-03-20T19:09:42.265Z"
   },
   {
    "duration": 248,
    "start_time": "2023-03-20T19:09:42.288Z"
   },
   {
    "duration": 50,
    "start_time": "2023-03-20T19:09:42.538Z"
   },
   {
    "duration": 299,
    "start_time": "2023-03-20T19:09:42.590Z"
   },
   {
    "duration": 9,
    "start_time": "2023-03-20T19:09:42.891Z"
   },
   {
    "duration": 167,
    "start_time": "2023-03-20T19:09:42.902Z"
   },
   {
    "duration": 171,
    "start_time": "2023-03-20T19:09:43.071Z"
   },
   {
    "duration": 18,
    "start_time": "2023-03-20T19:09:43.244Z"
   },
   {
    "duration": 10,
    "start_time": "2023-03-20T19:09:43.264Z"
   },
   {
    "duration": 19,
    "start_time": "2023-03-20T19:09:43.276Z"
   },
   {
    "duration": 19,
    "start_time": "2023-03-20T19:09:43.297Z"
   },
   {
    "duration": 164,
    "start_time": "2023-03-20T19:09:43.318Z"
   },
   {
    "duration": 10,
    "start_time": "2023-03-20T19:09:43.484Z"
   },
   {
    "duration": 240,
    "start_time": "2023-03-20T19:09:43.495Z"
   },
   {
    "duration": 46,
    "start_time": "2023-03-20T19:09:43.737Z"
   },
   {
    "duration": 284,
    "start_time": "2023-03-20T19:09:43.784Z"
   },
   {
    "duration": 187,
    "start_time": "2023-03-20T19:09:44.070Z"
   },
   {
    "duration": 406,
    "start_time": "2023-03-20T19:09:44.261Z"
   },
   {
    "duration": 332,
    "start_time": "2023-03-20T19:09:44.670Z"
   },
   {
    "duration": 307,
    "start_time": "2023-03-20T19:09:45.004Z"
   },
   {
    "duration": 5,
    "start_time": "2023-03-20T19:09:45.313Z"
   },
   {
    "duration": 13,
    "start_time": "2023-03-20T19:09:45.320Z"
   },
   {
    "duration": 10,
    "start_time": "2023-03-20T19:09:45.335Z"
   },
   {
    "duration": 19,
    "start_time": "2023-03-20T19:09:45.347Z"
   },
   {
    "duration": 12,
    "start_time": "2023-03-20T19:09:45.368Z"
   },
   {
    "duration": 9,
    "start_time": "2023-03-20T19:09:45.381Z"
   },
   {
    "duration": 111,
    "start_time": "2023-03-20T19:10:40.009Z"
   },
   {
    "duration": 8,
    "start_time": "2023-03-20T19:10:54.070Z"
   },
   {
    "duration": 6,
    "start_time": "2023-03-20T19:11:01.610Z"
   },
   {
    "duration": 5,
    "start_time": "2023-03-20T19:12:12.227Z"
   },
   {
    "duration": 13,
    "start_time": "2023-03-20T19:18:45.564Z"
   },
   {
    "duration": 3,
    "start_time": "2023-03-20T19:38:14.530Z"
   },
   {
    "duration": 1290,
    "start_time": "2023-03-20T19:39:02.134Z"
   },
   {
    "duration": 83,
    "start_time": "2023-03-20T19:39:03.426Z"
   },
   {
    "duration": 18,
    "start_time": "2023-03-20T19:39:03.511Z"
   },
   {
    "duration": 37,
    "start_time": "2023-03-20T19:39:03.531Z"
   },
   {
    "duration": 8,
    "start_time": "2023-03-20T19:39:03.570Z"
   },
   {
    "duration": 18,
    "start_time": "2023-03-20T19:39:03.581Z"
   },
   {
    "duration": 14,
    "start_time": "2023-03-20T19:39:03.601Z"
   },
   {
    "duration": 30,
    "start_time": "2023-03-20T19:39:03.617Z"
   },
   {
    "duration": 35,
    "start_time": "2023-03-20T19:39:03.649Z"
   },
   {
    "duration": 16,
    "start_time": "2023-03-20T19:39:03.687Z"
   },
   {
    "duration": 9,
    "start_time": "2023-03-20T19:39:03.705Z"
   },
   {
    "duration": 10,
    "start_time": "2023-03-20T19:39:03.716Z"
   },
   {
    "duration": 72,
    "start_time": "2023-03-20T19:39:03.728Z"
   },
   {
    "duration": 8,
    "start_time": "2023-03-20T19:39:03.802Z"
   },
   {
    "duration": 5,
    "start_time": "2023-03-20T19:39:03.811Z"
   },
   {
    "duration": 16,
    "start_time": "2023-03-20T19:39:03.817Z"
   },
   {
    "duration": 10,
    "start_time": "2023-03-20T19:39:03.835Z"
   },
   {
    "duration": 21,
    "start_time": "2023-03-20T19:39:03.863Z"
   },
   {
    "duration": 16,
    "start_time": "2023-03-20T19:39:03.887Z"
   },
   {
    "duration": 27,
    "start_time": "2023-03-20T19:39:03.905Z"
   },
   {
    "duration": 20,
    "start_time": "2023-03-20T19:39:03.966Z"
   },
   {
    "duration": 25,
    "start_time": "2023-03-20T19:39:03.988Z"
   },
   {
    "duration": 13,
    "start_time": "2023-03-20T19:39:04.015Z"
   },
   {
    "duration": 6,
    "start_time": "2023-03-20T19:39:04.031Z"
   },
   {
    "duration": 7,
    "start_time": "2023-03-20T19:39:04.064Z"
   },
   {
    "duration": 13,
    "start_time": "2023-03-20T19:39:04.073Z"
   },
   {
    "duration": 13,
    "start_time": "2023-03-20T19:39:04.088Z"
   },
   {
    "duration": 6,
    "start_time": "2023-03-20T19:39:04.105Z"
   },
   {
    "duration": 11,
    "start_time": "2023-03-20T19:39:04.113Z"
   },
   {
    "duration": 51,
    "start_time": "2023-03-20T19:39:04.126Z"
   },
   {
    "duration": 11,
    "start_time": "2023-03-20T19:39:04.180Z"
   },
   {
    "duration": 77,
    "start_time": "2023-03-20T19:39:04.193Z"
   },
   {
    "duration": 420,
    "start_time": "2023-03-20T19:39:04.272Z"
   },
   {
    "duration": 26,
    "start_time": "2023-03-20T19:39:04.694Z"
   },
   {
    "duration": 2534,
    "start_time": "2023-03-20T19:39:04.721Z"
   },
   {
    "duration": 218,
    "start_time": "2023-03-20T19:39:07.266Z"
   },
   {
    "duration": 393,
    "start_time": "2023-03-20T19:39:07.486Z"
   },
   {
    "duration": 214,
    "start_time": "2023-03-20T19:39:07.881Z"
   },
   {
    "duration": 233,
    "start_time": "2023-03-20T19:39:08.097Z"
   },
   {
    "duration": 239,
    "start_time": "2023-03-20T19:39:08.332Z"
   },
   {
    "duration": 242,
    "start_time": "2023-03-20T19:39:08.574Z"
   },
   {
    "duration": 8,
    "start_time": "2023-03-20T19:39:08.818Z"
   },
   {
    "duration": 9,
    "start_time": "2023-03-20T19:39:08.828Z"
   },
   {
    "duration": 314,
    "start_time": "2023-03-20T19:39:08.839Z"
   },
   {
    "duration": 49,
    "start_time": "2023-03-20T19:39:09.161Z"
   },
   {
    "duration": 362,
    "start_time": "2023-03-20T19:39:09.212Z"
   },
   {
    "duration": 16,
    "start_time": "2023-03-20T19:39:09.580Z"
   },
   {
    "duration": 212,
    "start_time": "2023-03-20T19:39:09.604Z"
   },
   {
    "duration": 189,
    "start_time": "2023-03-20T19:39:09.819Z"
   },
   {
    "duration": 10,
    "start_time": "2023-03-20T19:39:10.010Z"
   },
   {
    "duration": 20,
    "start_time": "2023-03-20T19:39:10.022Z"
   },
   {
    "duration": 23,
    "start_time": "2023-03-20T19:39:10.044Z"
   },
   {
    "duration": 16,
    "start_time": "2023-03-20T19:39:10.069Z"
   },
   {
    "duration": 201,
    "start_time": "2023-03-20T19:39:10.087Z"
   },
   {
    "duration": 11,
    "start_time": "2023-03-20T19:39:10.289Z"
   },
   {
    "duration": 316,
    "start_time": "2023-03-20T19:39:10.302Z"
   },
   {
    "duration": 73,
    "start_time": "2023-03-20T19:39:10.620Z"
   },
   {
    "duration": 331,
    "start_time": "2023-03-20T19:39:10.695Z"
   },
   {
    "duration": 210,
    "start_time": "2023-03-20T19:39:11.028Z"
   },
   {
    "duration": 348,
    "start_time": "2023-03-20T19:39:11.239Z"
   },
   {
    "duration": 379,
    "start_time": "2023-03-20T19:39:11.590Z"
   },
   {
    "duration": 340,
    "start_time": "2023-03-20T19:39:11.971Z"
   },
   {
    "duration": 3,
    "start_time": "2023-03-20T19:39:12.313Z"
   },
   {
    "duration": 45,
    "start_time": "2023-03-20T19:39:12.317Z"
   },
   {
    "duration": 11,
    "start_time": "2023-03-20T19:39:12.374Z"
   },
   {
    "duration": 9,
    "start_time": "2023-03-20T19:39:12.388Z"
   },
   {
    "duration": 18,
    "start_time": "2023-03-20T19:39:12.399Z"
   },
   {
    "duration": 25,
    "start_time": "2023-03-20T19:39:12.419Z"
   },
   {
    "duration": 73,
    "start_time": "2023-03-20T19:47:44.823Z"
   },
   {
    "duration": 423,
    "start_time": "2023-03-20T19:56:09.838Z"
   },
   {
    "duration": 9,
    "start_time": "2023-03-20T19:57:48.639Z"
   },
   {
    "duration": 7,
    "start_time": "2023-03-20T19:58:45.861Z"
   },
   {
    "duration": 5,
    "start_time": "2023-03-20T19:58:55.167Z"
   },
   {
    "duration": 9,
    "start_time": "2023-03-20T19:59:08.429Z"
   },
   {
    "duration": 11,
    "start_time": "2023-03-20T19:59:09.807Z"
   },
   {
    "duration": 7,
    "start_time": "2023-03-20T19:59:11.114Z"
   },
   {
    "duration": 6,
    "start_time": "2023-03-20T19:59:13.244Z"
   },
   {
    "duration": 5,
    "start_time": "2023-03-20T20:00:26.539Z"
   },
   {
    "duration": 1159,
    "start_time": "2023-03-20T20:00:54.318Z"
   },
   {
    "duration": 69,
    "start_time": "2023-03-20T20:00:55.479Z"
   },
   {
    "duration": 15,
    "start_time": "2023-03-20T20:00:55.550Z"
   },
   {
    "duration": 20,
    "start_time": "2023-03-20T20:00:55.568Z"
   },
   {
    "duration": 5,
    "start_time": "2023-03-20T20:00:55.590Z"
   },
   {
    "duration": 7,
    "start_time": "2023-03-20T20:00:55.596Z"
   },
   {
    "duration": 13,
    "start_time": "2023-03-20T20:00:55.605Z"
   },
   {
    "duration": 47,
    "start_time": "2023-03-20T20:00:55.620Z"
   },
   {
    "duration": 17,
    "start_time": "2023-03-20T20:00:55.669Z"
   },
   {
    "duration": 21,
    "start_time": "2023-03-20T20:00:55.690Z"
   },
   {
    "duration": 12,
    "start_time": "2023-03-20T20:00:55.713Z"
   },
   {
    "duration": 40,
    "start_time": "2023-03-20T20:00:55.727Z"
   },
   {
    "duration": 32,
    "start_time": "2023-03-20T20:00:55.769Z"
   },
   {
    "duration": 19,
    "start_time": "2023-03-20T20:00:55.802Z"
   },
   {
    "duration": 6,
    "start_time": "2023-03-20T20:00:55.823Z"
   },
   {
    "duration": 41,
    "start_time": "2023-03-20T20:00:55.831Z"
   },
   {
    "duration": 14,
    "start_time": "2023-03-20T20:00:55.875Z"
   },
   {
    "duration": 21,
    "start_time": "2023-03-20T20:00:55.891Z"
   },
   {
    "duration": 12,
    "start_time": "2023-03-20T20:00:55.913Z"
   },
   {
    "duration": 50,
    "start_time": "2023-03-20T20:00:55.927Z"
   },
   {
    "duration": 12,
    "start_time": "2023-03-20T20:00:55.978Z"
   },
   {
    "duration": 27,
    "start_time": "2023-03-20T20:00:55.992Z"
   },
   {
    "duration": 8,
    "start_time": "2023-03-20T20:00:56.021Z"
   },
   {
    "duration": 43,
    "start_time": "2023-03-20T20:00:56.031Z"
   },
   {
    "duration": 10,
    "start_time": "2023-03-20T20:00:56.076Z"
   },
   {
    "duration": 6,
    "start_time": "2023-03-20T20:00:56.088Z"
   },
   {
    "duration": 10,
    "start_time": "2023-03-20T20:00:56.096Z"
   },
   {
    "duration": 8,
    "start_time": "2023-03-20T20:00:56.111Z"
   },
   {
    "duration": 39,
    "start_time": "2023-03-20T20:00:56.121Z"
   },
   {
    "duration": 14,
    "start_time": "2023-03-20T20:00:56.162Z"
   },
   {
    "duration": 9,
    "start_time": "2023-03-20T20:00:56.178Z"
   },
   {
    "duration": 39,
    "start_time": "2023-03-20T20:00:56.188Z"
   },
   {
    "duration": 428,
    "start_time": "2023-03-20T20:00:56.229Z"
   },
   {
    "duration": 23,
    "start_time": "2023-03-20T20:00:56.662Z"
   },
   {
    "duration": 2292,
    "start_time": "2023-03-20T20:00:56.687Z"
   },
   {
    "duration": 204,
    "start_time": "2023-03-20T20:00:58.981Z"
   },
   {
    "duration": 346,
    "start_time": "2023-03-20T20:00:59.187Z"
   },
   {
    "duration": 206,
    "start_time": "2023-03-20T20:00:59.535Z"
   },
   {
    "duration": 194,
    "start_time": "2023-03-20T20:00:59.743Z"
   },
   {
    "duration": 192,
    "start_time": "2023-03-20T20:00:59.939Z"
   },
   {
    "duration": 204,
    "start_time": "2023-03-20T20:01:00.133Z"
   },
   {
    "duration": 8,
    "start_time": "2023-03-20T20:01:00.339Z"
   },
   {
    "duration": 46,
    "start_time": "2023-03-20T20:01:00.349Z"
   },
   {
    "duration": 287,
    "start_time": "2023-03-20T20:01:00.396Z"
   },
   {
    "duration": 39,
    "start_time": "2023-03-20T20:01:00.685Z"
   },
   {
    "duration": 304,
    "start_time": "2023-03-20T20:01:00.726Z"
   },
   {
    "duration": 12,
    "start_time": "2023-03-20T20:01:01.032Z"
   },
   {
    "duration": 210,
    "start_time": "2023-03-20T20:01:01.046Z"
   },
   {
    "duration": 169,
    "start_time": "2023-03-20T20:01:01.257Z"
   },
   {
    "duration": 13,
    "start_time": "2023-03-20T20:01:01.428Z"
   },
   {
    "duration": 25,
    "start_time": "2023-03-20T20:01:01.443Z"
   },
   {
    "duration": 73,
    "start_time": "2023-03-20T20:01:01.470Z"
   },
   {
    "duration": 46,
    "start_time": "2023-03-20T20:01:01.545Z"
   },
   {
    "duration": 190,
    "start_time": "2023-03-20T20:01:01.593Z"
   },
   {
    "duration": 12,
    "start_time": "2023-03-20T20:01:01.785Z"
   },
   {
    "duration": 279,
    "start_time": "2023-03-20T20:01:01.799Z"
   },
   {
    "duration": 51,
    "start_time": "2023-03-20T20:01:02.080Z"
   },
   {
    "duration": 311,
    "start_time": "2023-03-20T20:01:02.133Z"
   },
   {
    "duration": 189,
    "start_time": "2023-03-20T20:01:02.446Z"
   },
   {
    "duration": 310,
    "start_time": "2023-03-20T20:01:02.638Z"
   },
   {
    "duration": 329,
    "start_time": "2023-03-20T20:01:02.950Z"
   },
   {
    "duration": 327,
    "start_time": "2023-03-20T20:01:03.282Z"
   },
   {
    "duration": 7,
    "start_time": "2023-03-20T20:01:03.610Z"
   },
   {
    "duration": 14,
    "start_time": "2023-03-20T20:01:03.619Z"
   },
   {
    "duration": 5,
    "start_time": "2023-03-20T20:01:03.635Z"
   },
   {
    "duration": 30,
    "start_time": "2023-03-20T20:01:03.642Z"
   },
   {
    "duration": 14,
    "start_time": "2023-03-20T20:01:03.674Z"
   },
   {
    "duration": 13,
    "start_time": "2023-03-20T20:01:03.690Z"
   },
   {
    "duration": 23,
    "start_time": "2023-03-20T20:01:03.705Z"
   },
   {
    "duration": 7,
    "start_time": "2023-03-20T20:01:58.868Z"
   },
   {
    "duration": 12,
    "start_time": "2023-03-20T20:02:25.893Z"
   },
   {
    "duration": 6,
    "start_time": "2023-03-20T20:03:47.125Z"
   },
   {
    "duration": 7,
    "start_time": "2023-03-20T20:03:57.761Z"
   },
   {
    "duration": 102,
    "start_time": "2023-03-20T20:10:04.892Z"
   },
   {
    "duration": 201,
    "start_time": "2023-03-20T20:10:18.099Z"
   },
   {
    "duration": 7,
    "start_time": "2023-03-20T20:12:19.677Z"
   },
   {
    "duration": 103,
    "start_time": "2023-03-20T20:12:21.491Z"
   },
   {
    "duration": 12,
    "start_time": "2023-03-20T20:12:50.629Z"
   },
   {
    "duration": 11,
    "start_time": "2023-03-20T20:12:58.327Z"
   },
   {
    "duration": 4,
    "start_time": "2023-03-20T20:13:48.529Z"
   },
   {
    "duration": 11,
    "start_time": "2023-03-20T20:13:56.825Z"
   },
   {
    "duration": 9,
    "start_time": "2023-03-20T20:14:15.326Z"
   },
   {
    "duration": 12,
    "start_time": "2023-03-20T20:14:55.123Z"
   },
   {
    "duration": 1404,
    "start_time": "2023-03-20T20:15:21.984Z"
   },
   {
    "duration": 74,
    "start_time": "2023-03-20T20:15:23.391Z"
   },
   {
    "duration": 22,
    "start_time": "2023-03-20T20:15:23.467Z"
   },
   {
    "duration": 22,
    "start_time": "2023-03-20T20:15:23.491Z"
   },
   {
    "duration": 4,
    "start_time": "2023-03-20T20:15:23.516Z"
   },
   {
    "duration": 3,
    "start_time": "2023-03-20T20:15:23.523Z"
   },
   {
    "duration": 41,
    "start_time": "2023-03-20T20:15:23.529Z"
   },
   {
    "duration": 31,
    "start_time": "2023-03-20T20:15:23.572Z"
   },
   {
    "duration": 24,
    "start_time": "2023-03-20T20:15:23.605Z"
   },
   {
    "duration": 44,
    "start_time": "2023-03-20T20:15:23.633Z"
   },
   {
    "duration": 14,
    "start_time": "2023-03-20T20:15:23.679Z"
   },
   {
    "duration": 12,
    "start_time": "2023-03-20T20:15:23.695Z"
   },
   {
    "duration": 76,
    "start_time": "2023-03-20T20:15:23.710Z"
   },
   {
    "duration": 8,
    "start_time": "2023-03-20T20:15:23.789Z"
   },
   {
    "duration": 196,
    "start_time": "2023-03-20T20:15:23.800Z"
   },
   {
    "duration": 0,
    "start_time": "2023-03-20T20:15:24.000Z"
   },
   {
    "duration": 0,
    "start_time": "2023-03-20T20:15:24.003Z"
   },
   {
    "duration": 0,
    "start_time": "2023-03-20T20:15:24.004Z"
   },
   {
    "duration": 0,
    "start_time": "2023-03-20T20:15:24.005Z"
   },
   {
    "duration": 0,
    "start_time": "2023-03-20T20:15:24.007Z"
   },
   {
    "duration": 0,
    "start_time": "2023-03-20T20:15:24.009Z"
   },
   {
    "duration": 0,
    "start_time": "2023-03-20T20:15:24.010Z"
   },
   {
    "duration": 0,
    "start_time": "2023-03-20T20:15:24.012Z"
   },
   {
    "duration": 0,
    "start_time": "2023-03-20T20:15:24.013Z"
   },
   {
    "duration": 0,
    "start_time": "2023-03-20T20:15:24.014Z"
   },
   {
    "duration": 0,
    "start_time": "2023-03-20T20:15:24.016Z"
   },
   {
    "duration": 0,
    "start_time": "2023-03-20T20:15:24.017Z"
   },
   {
    "duration": 0,
    "start_time": "2023-03-20T20:15:24.018Z"
   },
   {
    "duration": 0,
    "start_time": "2023-03-20T20:15:24.020Z"
   },
   {
    "duration": 0,
    "start_time": "2023-03-20T20:15:24.021Z"
   },
   {
    "duration": 0,
    "start_time": "2023-03-20T20:15:24.023Z"
   },
   {
    "duration": 0,
    "start_time": "2023-03-20T20:15:24.024Z"
   },
   {
    "duration": 0,
    "start_time": "2023-03-20T20:15:24.025Z"
   },
   {
    "duration": 0,
    "start_time": "2023-03-20T20:15:24.061Z"
   },
   {
    "duration": 0,
    "start_time": "2023-03-20T20:15:24.063Z"
   },
   {
    "duration": 0,
    "start_time": "2023-03-20T20:15:24.065Z"
   },
   {
    "duration": 0,
    "start_time": "2023-03-20T20:15:24.066Z"
   },
   {
    "duration": 0,
    "start_time": "2023-03-20T20:15:24.068Z"
   },
   {
    "duration": 0,
    "start_time": "2023-03-20T20:15:24.070Z"
   },
   {
    "duration": 0,
    "start_time": "2023-03-20T20:15:24.071Z"
   },
   {
    "duration": 0,
    "start_time": "2023-03-20T20:15:24.072Z"
   },
   {
    "duration": 0,
    "start_time": "2023-03-20T20:15:24.075Z"
   },
   {
    "duration": 0,
    "start_time": "2023-03-20T20:15:24.077Z"
   },
   {
    "duration": 0,
    "start_time": "2023-03-20T20:15:24.078Z"
   },
   {
    "duration": 0,
    "start_time": "2023-03-20T20:15:24.080Z"
   },
   {
    "duration": 0,
    "start_time": "2023-03-20T20:15:24.081Z"
   },
   {
    "duration": 0,
    "start_time": "2023-03-20T20:15:24.083Z"
   },
   {
    "duration": 0,
    "start_time": "2023-03-20T20:15:24.084Z"
   },
   {
    "duration": 0,
    "start_time": "2023-03-20T20:15:24.086Z"
   },
   {
    "duration": 0,
    "start_time": "2023-03-20T20:15:24.087Z"
   },
   {
    "duration": 0,
    "start_time": "2023-03-20T20:15:24.088Z"
   },
   {
    "duration": 0,
    "start_time": "2023-03-20T20:15:24.090Z"
   },
   {
    "duration": 0,
    "start_time": "2023-03-20T20:15:24.091Z"
   },
   {
    "duration": 1,
    "start_time": "2023-03-20T20:15:24.092Z"
   },
   {
    "duration": 0,
    "start_time": "2023-03-20T20:15:24.094Z"
   },
   {
    "duration": 0,
    "start_time": "2023-03-20T20:15:24.095Z"
   },
   {
    "duration": 0,
    "start_time": "2023-03-20T20:15:24.097Z"
   },
   {
    "duration": 0,
    "start_time": "2023-03-20T20:15:24.097Z"
   },
   {
    "duration": 0,
    "start_time": "2023-03-20T20:15:24.098Z"
   },
   {
    "duration": 0,
    "start_time": "2023-03-20T20:15:24.099Z"
   },
   {
    "duration": 0,
    "start_time": "2023-03-20T20:15:24.100Z"
   },
   {
    "duration": 0,
    "start_time": "2023-03-20T20:15:24.100Z"
   },
   {
    "duration": 0,
    "start_time": "2023-03-20T20:15:24.101Z"
   },
   {
    "duration": 0,
    "start_time": "2023-03-20T20:15:24.102Z"
   },
   {
    "duration": 0,
    "start_time": "2023-03-20T20:15:24.104Z"
   },
   {
    "duration": 0,
    "start_time": "2023-03-20T20:15:24.105Z"
   },
   {
    "duration": 0,
    "start_time": "2023-03-20T20:15:24.107Z"
   },
   {
    "duration": 0,
    "start_time": "2023-03-20T20:15:24.108Z"
   },
   {
    "duration": 0,
    "start_time": "2023-03-20T20:15:24.109Z"
   },
   {
    "duration": 11,
    "start_time": "2023-03-20T20:16:14.360Z"
   },
   {
    "duration": 10,
    "start_time": "2023-03-20T20:18:22.923Z"
   },
   {
    "duration": 11,
    "start_time": "2023-03-20T20:19:18.549Z"
   },
   {
    "duration": 11,
    "start_time": "2023-03-20T20:19:44.089Z"
   },
   {
    "duration": 12,
    "start_time": "2023-03-20T20:21:35.061Z"
   },
   {
    "duration": 8,
    "start_time": "2023-03-20T20:21:38.752Z"
   },
   {
    "duration": 10,
    "start_time": "2023-03-20T20:22:33.672Z"
   },
   {
    "duration": 1429,
    "start_time": "2023-03-20T20:22:50.023Z"
   },
   {
    "duration": 96,
    "start_time": "2023-03-20T20:22:51.460Z"
   },
   {
    "duration": 19,
    "start_time": "2023-03-20T20:22:51.559Z"
   },
   {
    "duration": 22,
    "start_time": "2023-03-20T20:22:51.581Z"
   },
   {
    "duration": 5,
    "start_time": "2023-03-20T20:22:51.606Z"
   },
   {
    "duration": 12,
    "start_time": "2023-03-20T20:22:51.613Z"
   },
   {
    "duration": 39,
    "start_time": "2023-03-20T20:22:51.627Z"
   },
   {
    "duration": 24,
    "start_time": "2023-03-20T20:22:51.669Z"
   },
   {
    "duration": 21,
    "start_time": "2023-03-20T20:22:51.695Z"
   },
   {
    "duration": 48,
    "start_time": "2023-03-20T20:22:51.719Z"
   },
   {
    "duration": 15,
    "start_time": "2023-03-20T20:22:51.770Z"
   },
   {
    "duration": 13,
    "start_time": "2023-03-20T20:22:51.787Z"
   },
   {
    "duration": 67,
    "start_time": "2023-03-20T20:22:51.803Z"
   },
   {
    "duration": 16,
    "start_time": "2023-03-20T20:22:51.873Z"
   },
   {
    "duration": 14,
    "start_time": "2023-03-20T20:22:51.892Z"
   },
   {
    "duration": 17,
    "start_time": "2023-03-20T20:22:51.908Z"
   },
   {
    "duration": 14,
    "start_time": "2023-03-20T20:22:51.962Z"
   },
   {
    "duration": 35,
    "start_time": "2023-03-20T20:22:51.978Z"
   },
   {
    "duration": 47,
    "start_time": "2023-03-20T20:22:52.015Z"
   },
   {
    "duration": 30,
    "start_time": "2023-03-20T20:22:52.064Z"
   },
   {
    "duration": 14,
    "start_time": "2023-03-20T20:22:52.096Z"
   },
   {
    "duration": 9,
    "start_time": "2023-03-20T20:22:52.112Z"
   },
   {
    "duration": 43,
    "start_time": "2023-03-20T20:22:52.123Z"
   },
   {
    "duration": 19,
    "start_time": "2023-03-20T20:22:52.168Z"
   },
   {
    "duration": 17,
    "start_time": "2023-03-20T20:22:52.190Z"
   },
   {
    "duration": 7,
    "start_time": "2023-03-20T20:22:52.210Z"
   },
   {
    "duration": 13,
    "start_time": "2023-03-20T20:22:52.219Z"
   },
   {
    "duration": 20,
    "start_time": "2023-03-20T20:22:52.261Z"
   },
   {
    "duration": 16,
    "start_time": "2023-03-20T20:22:52.283Z"
   },
   {
    "duration": 76,
    "start_time": "2023-03-20T20:22:52.301Z"
   },
   {
    "duration": 473,
    "start_time": "2023-03-20T20:22:52.379Z"
   },
   {
    "duration": 28,
    "start_time": "2023-03-20T20:22:52.853Z"
   },
   {
    "duration": 2421,
    "start_time": "2023-03-20T20:22:52.882Z"
   },
   {
    "duration": 271,
    "start_time": "2023-03-20T20:22:55.305Z"
   },
   {
    "duration": 354,
    "start_time": "2023-03-20T20:22:55.578Z"
   },
   {
    "duration": 215,
    "start_time": "2023-03-20T20:22:55.934Z"
   },
   {
    "duration": 256,
    "start_time": "2023-03-20T20:22:56.150Z"
   },
   {
    "duration": 249,
    "start_time": "2023-03-20T20:22:56.409Z"
   },
   {
    "duration": 259,
    "start_time": "2023-03-20T20:22:56.661Z"
   },
   {
    "duration": 8,
    "start_time": "2023-03-20T20:22:56.923Z"
   },
   {
    "duration": 11,
    "start_time": "2023-03-20T20:22:56.934Z"
   },
   {
    "duration": 334,
    "start_time": "2023-03-20T20:22:56.965Z"
   },
   {
    "duration": 49,
    "start_time": "2023-03-20T20:22:57.301Z"
   },
   {
    "duration": 338,
    "start_time": "2023-03-20T20:22:57.363Z"
   },
   {
    "duration": 13,
    "start_time": "2023-03-20T20:22:57.703Z"
   },
   {
    "duration": 216,
    "start_time": "2023-03-20T20:22:57.718Z"
   },
   {
    "duration": 198,
    "start_time": "2023-03-20T20:22:57.936Z"
   },
   {
    "duration": 10,
    "start_time": "2023-03-20T20:22:58.136Z"
   },
   {
    "duration": 13,
    "start_time": "2023-03-20T20:22:58.161Z"
   },
   {
    "duration": 10,
    "start_time": "2023-03-20T20:22:58.176Z"
   },
   {
    "duration": 11,
    "start_time": "2023-03-20T20:22:58.188Z"
   },
   {
    "duration": 192,
    "start_time": "2023-03-20T20:22:58.201Z"
   },
   {
    "duration": 9,
    "start_time": "2023-03-20T20:22:58.394Z"
   },
   {
    "duration": 234,
    "start_time": "2023-03-20T20:22:58.405Z"
   },
   {
    "duration": 51,
    "start_time": "2023-03-20T20:22:58.641Z"
   },
   {
    "duration": 303,
    "start_time": "2023-03-20T20:22:58.694Z"
   },
   {
    "duration": 203,
    "start_time": "2023-03-20T20:22:58.999Z"
   },
   {
    "duration": 432,
    "start_time": "2023-03-20T20:22:59.204Z"
   },
   {
    "duration": 367,
    "start_time": "2023-03-20T20:22:59.639Z"
   },
   {
    "duration": 355,
    "start_time": "2023-03-20T20:23:00.010Z"
   },
   {
    "duration": 10,
    "start_time": "2023-03-20T20:23:00.371Z"
   },
   {
    "duration": 40,
    "start_time": "2023-03-20T20:23:00.385Z"
   },
   {
    "duration": 74,
    "start_time": "2023-03-20T20:23:00.426Z"
   },
   {
    "duration": 35,
    "start_time": "2023-03-20T20:23:00.502Z"
   },
   {
    "duration": 67,
    "start_time": "2023-03-20T20:23:00.539Z"
   },
   {
    "duration": 23,
    "start_time": "2023-03-20T20:23:00.608Z"
   },
   {
    "duration": 21,
    "start_time": "2023-03-20T20:23:00.634Z"
   },
   {
    "duration": 8,
    "start_time": "2023-03-20T20:26:02.295Z"
   },
   {
    "duration": 36,
    "start_time": "2023-03-20T20:27:59.423Z"
   },
   {
    "duration": 7,
    "start_time": "2023-03-20T20:30:07.877Z"
   },
   {
    "duration": 129,
    "start_time": "2023-03-20T20:30:13.056Z"
   },
   {
    "duration": 10,
    "start_time": "2023-03-20T20:30:38.747Z"
   },
   {
    "duration": 10,
    "start_time": "2023-03-20T20:30:49.659Z"
   },
   {
    "duration": 9,
    "start_time": "2023-03-20T20:34:28.085Z"
   },
   {
    "duration": 15,
    "start_time": "2023-03-20T20:34:29.851Z"
   },
   {
    "duration": 1384,
    "start_time": "2023-03-20T20:34:43.683Z"
   },
   {
    "duration": 81,
    "start_time": "2023-03-20T20:34:45.069Z"
   },
   {
    "duration": 21,
    "start_time": "2023-03-20T20:34:45.152Z"
   },
   {
    "duration": 28,
    "start_time": "2023-03-20T20:34:45.175Z"
   },
   {
    "duration": 4,
    "start_time": "2023-03-20T20:34:45.208Z"
   },
   {
    "duration": 5,
    "start_time": "2023-03-20T20:34:45.214Z"
   },
   {
    "duration": 13,
    "start_time": "2023-03-20T20:34:45.222Z"
   },
   {
    "duration": 48,
    "start_time": "2023-03-20T20:34:45.237Z"
   },
   {
    "duration": 17,
    "start_time": "2023-03-20T20:34:45.286Z"
   },
   {
    "duration": 15,
    "start_time": "2023-03-20T20:34:45.305Z"
   },
   {
    "duration": 15,
    "start_time": "2023-03-20T20:34:45.322Z"
   },
   {
    "duration": 11,
    "start_time": "2023-03-20T20:34:45.362Z"
   },
   {
    "duration": 34,
    "start_time": "2023-03-20T20:34:45.375Z"
   },
   {
    "duration": 14,
    "start_time": "2023-03-20T20:34:45.412Z"
   },
   {
    "duration": 40,
    "start_time": "2023-03-20T20:34:45.427Z"
   },
   {
    "duration": 17,
    "start_time": "2023-03-20T20:34:45.470Z"
   },
   {
    "duration": 10,
    "start_time": "2023-03-20T20:34:45.490Z"
   },
   {
    "duration": 21,
    "start_time": "2023-03-20T20:34:45.501Z"
   },
   {
    "duration": 12,
    "start_time": "2023-03-20T20:34:45.562Z"
   },
   {
    "duration": 24,
    "start_time": "2023-03-20T20:34:45.576Z"
   },
   {
    "duration": 10,
    "start_time": "2023-03-20T20:34:45.601Z"
   },
   {
    "duration": 6,
    "start_time": "2023-03-20T20:34:45.613Z"
   },
   {
    "duration": 6,
    "start_time": "2023-03-20T20:34:45.621Z"
   },
   {
    "duration": 38,
    "start_time": "2023-03-20T20:34:45.629Z"
   },
   {
    "duration": 11,
    "start_time": "2023-03-20T20:34:45.670Z"
   },
   {
    "duration": 5,
    "start_time": "2023-03-20T20:34:45.684Z"
   },
   {
    "duration": 9,
    "start_time": "2023-03-20T20:34:45.692Z"
   },
   {
    "duration": 21,
    "start_time": "2023-03-20T20:34:45.703Z"
   },
   {
    "duration": 47,
    "start_time": "2023-03-20T20:34:45.727Z"
   },
   {
    "duration": 48,
    "start_time": "2023-03-20T20:34:45.776Z"
   },
   {
    "duration": 407,
    "start_time": "2023-03-20T20:34:45.826Z"
   },
   {
    "duration": 39,
    "start_time": "2023-03-20T20:34:46.235Z"
   },
   {
    "duration": 2518,
    "start_time": "2023-03-20T20:34:46.276Z"
   },
   {
    "duration": 248,
    "start_time": "2023-03-20T20:34:48.796Z"
   },
   {
    "duration": 440,
    "start_time": "2023-03-20T20:34:49.047Z"
   },
   {
    "duration": 250,
    "start_time": "2023-03-20T20:34:49.489Z"
   },
   {
    "duration": 235,
    "start_time": "2023-03-20T20:34:49.741Z"
   },
   {
    "duration": 252,
    "start_time": "2023-03-20T20:34:49.980Z"
   },
   {
    "duration": 271,
    "start_time": "2023-03-20T20:34:50.233Z"
   },
   {
    "duration": 8,
    "start_time": "2023-03-20T20:34:50.506Z"
   },
   {
    "duration": 9,
    "start_time": "2023-03-20T20:34:50.519Z"
   },
   {
    "duration": 327,
    "start_time": "2023-03-20T20:34:50.530Z"
   },
   {
    "duration": 46,
    "start_time": "2023-03-20T20:34:50.858Z"
   },
   {
    "duration": 381,
    "start_time": "2023-03-20T20:34:50.907Z"
   },
   {
    "duration": 11,
    "start_time": "2023-03-20T20:34:51.291Z"
   },
   {
    "duration": 227,
    "start_time": "2023-03-20T20:34:51.304Z"
   },
   {
    "duration": 189,
    "start_time": "2023-03-20T20:34:51.534Z"
   },
   {
    "duration": 11,
    "start_time": "2023-03-20T20:34:51.725Z"
   },
   {
    "duration": 28,
    "start_time": "2023-03-20T20:34:51.737Z"
   },
   {
    "duration": 12,
    "start_time": "2023-03-20T20:34:51.767Z"
   },
   {
    "duration": 21,
    "start_time": "2023-03-20T20:34:51.781Z"
   },
   {
    "duration": 198,
    "start_time": "2023-03-20T20:34:51.804Z"
   },
   {
    "duration": 10,
    "start_time": "2023-03-20T20:34:52.004Z"
   },
   {
    "duration": 287,
    "start_time": "2023-03-20T20:34:52.016Z"
   },
   {
    "duration": 59,
    "start_time": "2023-03-20T20:34:52.305Z"
   },
   {
    "duration": 321,
    "start_time": "2023-03-20T20:34:52.366Z"
   },
   {
    "duration": 210,
    "start_time": "2023-03-20T20:34:52.690Z"
   },
   {
    "duration": 325,
    "start_time": "2023-03-20T20:34:52.902Z"
   },
   {
    "duration": 360,
    "start_time": "2023-03-20T20:34:53.229Z"
   },
   {
    "duration": 323,
    "start_time": "2023-03-20T20:34:53.591Z"
   },
   {
    "duration": 8,
    "start_time": "2023-03-20T20:34:53.916Z"
   },
   {
    "duration": 16,
    "start_time": "2023-03-20T20:34:53.926Z"
   },
   {
    "duration": 6,
    "start_time": "2023-03-20T20:34:53.963Z"
   },
   {
    "duration": 37,
    "start_time": "2023-03-20T20:34:53.971Z"
   },
   {
    "duration": 7,
    "start_time": "2023-03-20T20:34:54.010Z"
   },
   {
    "duration": 26,
    "start_time": "2023-03-20T20:34:54.019Z"
   },
   {
    "duration": 6,
    "start_time": "2023-03-20T20:34:54.047Z"
   },
   {
    "duration": 7,
    "start_time": "2023-03-20T20:37:25.857Z"
   },
   {
    "duration": 12,
    "start_time": "2023-03-20T20:37:59.767Z"
   },
   {
    "duration": 5,
    "start_time": "2023-03-20T20:38:01.231Z"
   },
   {
    "duration": 7,
    "start_time": "2023-03-20T20:38:04.149Z"
   },
   {
    "duration": 7,
    "start_time": "2023-03-20T20:38:46.155Z"
   },
   {
    "duration": 17,
    "start_time": "2023-03-20T20:40:12.961Z"
   },
   {
    "duration": 7,
    "start_time": "2023-03-20T20:42:05.994Z"
   },
   {
    "duration": 10,
    "start_time": "2023-03-20T20:42:48.549Z"
   },
   {
    "duration": 4,
    "start_time": "2023-03-20T20:44:11.014Z"
   },
   {
    "duration": 11,
    "start_time": "2023-03-20T20:44:25.732Z"
   },
   {
    "duration": 11,
    "start_time": "2023-03-20T20:44:34.258Z"
   },
   {
    "duration": 10,
    "start_time": "2023-03-20T20:44:39.822Z"
   },
   {
    "duration": 23,
    "start_time": "2023-03-20T20:44:41.878Z"
   },
   {
    "duration": 14,
    "start_time": "2023-03-20T20:44:54.764Z"
   },
   {
    "duration": 10,
    "start_time": "2023-03-20T20:44:56.333Z"
   },
   {
    "duration": 8,
    "start_time": "2023-03-20T20:45:02.635Z"
   },
   {
    "duration": 6,
    "start_time": "2023-03-20T20:45:06.773Z"
   },
   {
    "duration": 4,
    "start_time": "2023-03-20T20:45:11.292Z"
   },
   {
    "duration": 4,
    "start_time": "2023-03-20T20:45:14.900Z"
   },
   {
    "duration": 6,
    "start_time": "2023-03-20T20:45:16.732Z"
   },
   {
    "duration": 74,
    "start_time": "2023-03-20T20:47:10.224Z"
   },
   {
    "duration": 8,
    "start_time": "2023-03-20T20:47:19.053Z"
   },
   {
    "duration": 4,
    "start_time": "2023-03-20T20:47:21.297Z"
   },
   {
    "duration": 9,
    "start_time": "2023-03-20T20:47:29.731Z"
   },
   {
    "duration": 9,
    "start_time": "2023-03-20T20:47:37.538Z"
   },
   {
    "duration": 10,
    "start_time": "2023-03-20T20:47:44.418Z"
   },
   {
    "duration": 30,
    "start_time": "2023-03-20T20:47:46.216Z"
   },
   {
    "duration": 14,
    "start_time": "2023-03-20T20:48:02.876Z"
   },
   {
    "duration": 1300,
    "start_time": "2023-03-20T20:48:36.439Z"
   },
   {
    "duration": 76,
    "start_time": "2023-03-20T20:48:37.741Z"
   },
   {
    "duration": 18,
    "start_time": "2023-03-20T20:48:37.819Z"
   },
   {
    "duration": 27,
    "start_time": "2023-03-20T20:48:37.839Z"
   },
   {
    "duration": 5,
    "start_time": "2023-03-20T20:48:37.869Z"
   },
   {
    "duration": 4,
    "start_time": "2023-03-20T20:48:37.876Z"
   },
   {
    "duration": 11,
    "start_time": "2023-03-20T20:48:37.881Z"
   },
   {
    "duration": 20,
    "start_time": "2023-03-20T20:48:37.894Z"
   },
   {
    "duration": 55,
    "start_time": "2023-03-20T20:48:37.916Z"
   },
   {
    "duration": 16,
    "start_time": "2023-03-20T20:48:37.975Z"
   },
   {
    "duration": 10,
    "start_time": "2023-03-20T20:48:37.993Z"
   },
   {
    "duration": 11,
    "start_time": "2023-03-20T20:48:38.005Z"
   },
   {
    "duration": 66,
    "start_time": "2023-03-20T20:48:38.017Z"
   },
   {
    "duration": 9,
    "start_time": "2023-03-20T20:48:38.085Z"
   },
   {
    "duration": 4,
    "start_time": "2023-03-20T20:48:38.096Z"
   },
   {
    "duration": 14,
    "start_time": "2023-03-20T20:48:38.102Z"
   },
   {
    "duration": 13,
    "start_time": "2023-03-20T20:48:38.118Z"
   },
   {
    "duration": 38,
    "start_time": "2023-03-20T20:48:38.133Z"
   },
   {
    "duration": 21,
    "start_time": "2023-03-20T20:48:38.173Z"
   },
   {
    "duration": 10,
    "start_time": "2023-03-20T20:48:38.195Z"
   },
   {
    "duration": 25,
    "start_time": "2023-03-20T20:48:38.207Z"
   },
   {
    "duration": 38,
    "start_time": "2023-03-20T20:48:38.233Z"
   },
   {
    "duration": 8,
    "start_time": "2023-03-20T20:48:38.273Z"
   },
   {
    "duration": 6,
    "start_time": "2023-03-20T20:48:38.284Z"
   },
   {
    "duration": 11,
    "start_time": "2023-03-20T20:48:38.291Z"
   },
   {
    "duration": 12,
    "start_time": "2023-03-20T20:48:38.304Z"
   },
   {
    "duration": 6,
    "start_time": "2023-03-20T20:48:38.318Z"
   },
   {
    "duration": 41,
    "start_time": "2023-03-20T20:48:38.329Z"
   },
   {
    "duration": 20,
    "start_time": "2023-03-20T20:48:38.373Z"
   },
   {
    "duration": 7,
    "start_time": "2023-03-20T20:48:38.395Z"
   },
   {
    "duration": 73,
    "start_time": "2023-03-20T20:48:38.404Z"
   },
   {
    "duration": 409,
    "start_time": "2023-03-20T20:48:38.480Z"
   },
   {
    "duration": 23,
    "start_time": "2023-03-20T20:48:38.891Z"
   },
   {
    "duration": 2268,
    "start_time": "2023-03-20T20:48:38.916Z"
   },
   {
    "duration": 198,
    "start_time": "2023-03-20T20:48:41.186Z"
   },
   {
    "duration": 364,
    "start_time": "2023-03-20T20:48:41.385Z"
   },
   {
    "duration": 247,
    "start_time": "2023-03-20T20:48:41.752Z"
   },
   {
    "duration": 206,
    "start_time": "2023-03-20T20:48:42.001Z"
   },
   {
    "duration": 219,
    "start_time": "2023-03-20T20:48:42.209Z"
   },
   {
    "duration": 206,
    "start_time": "2023-03-20T20:48:42.430Z"
   },
   {
    "duration": 7,
    "start_time": "2023-03-20T20:48:42.637Z"
   },
   {
    "duration": 25,
    "start_time": "2023-03-20T20:48:42.646Z"
   },
   {
    "duration": 269,
    "start_time": "2023-03-20T20:48:42.674Z"
   },
   {
    "duration": 56,
    "start_time": "2023-03-20T20:48:42.944Z"
   },
   {
    "duration": 298,
    "start_time": "2023-03-20T20:48:43.002Z"
   },
   {
    "duration": 10,
    "start_time": "2023-03-20T20:48:43.302Z"
   },
   {
    "duration": 204,
    "start_time": "2023-03-20T20:48:43.314Z"
   },
   {
    "duration": 180,
    "start_time": "2023-03-20T20:48:43.520Z"
   },
   {
    "duration": 11,
    "start_time": "2023-03-20T20:48:43.703Z"
   },
   {
    "duration": 10,
    "start_time": "2023-03-20T20:48:43.717Z"
   },
   {
    "duration": 33,
    "start_time": "2023-03-20T20:48:43.729Z"
   },
   {
    "duration": 14,
    "start_time": "2023-03-20T20:48:43.764Z"
   },
   {
    "duration": 202,
    "start_time": "2023-03-20T20:48:43.780Z"
   },
   {
    "duration": 11,
    "start_time": "2023-03-20T20:48:43.984Z"
   },
   {
    "duration": 295,
    "start_time": "2023-03-20T20:48:43.997Z"
   },
   {
    "duration": 55,
    "start_time": "2023-03-20T20:48:44.294Z"
   },
   {
    "duration": 362,
    "start_time": "2023-03-20T20:48:44.352Z"
   },
   {
    "duration": 183,
    "start_time": "2023-03-20T20:48:44.716Z"
   },
   {
    "duration": 350,
    "start_time": "2023-03-20T20:48:44.901Z"
   },
   {
    "duration": 350,
    "start_time": "2023-03-20T20:48:45.252Z"
   },
   {
    "duration": 335,
    "start_time": "2023-03-20T20:48:45.604Z"
   },
   {
    "duration": 8,
    "start_time": "2023-03-20T20:48:45.940Z"
   },
   {
    "duration": 34,
    "start_time": "2023-03-20T20:48:45.950Z"
   },
   {
    "duration": 7,
    "start_time": "2023-03-20T20:48:45.987Z"
   },
   {
    "duration": 11,
    "start_time": "2023-03-20T20:48:45.995Z"
   },
   {
    "duration": 5,
    "start_time": "2023-03-20T20:48:46.008Z"
   },
   {
    "duration": 9,
    "start_time": "2023-03-20T20:48:46.015Z"
   },
   {
    "duration": 43,
    "start_time": "2023-03-20T20:48:46.025Z"
   },
   {
    "duration": 5,
    "start_time": "2023-03-20T20:55:29.408Z"
   },
   {
    "duration": 16,
    "start_time": "2023-03-20T20:55:39.763Z"
   },
   {
    "duration": 8,
    "start_time": "2023-03-20T20:56:11.965Z"
   },
   {
    "duration": 6,
    "start_time": "2023-03-20T20:56:16.742Z"
   },
   {
    "duration": 8,
    "start_time": "2023-03-20T20:58:39.820Z"
   },
   {
    "duration": 23,
    "start_time": "2023-03-20T20:58:41.780Z"
   },
   {
    "duration": 7,
    "start_time": "2023-03-20T20:58:46.732Z"
   },
   {
    "duration": 10,
    "start_time": "2023-03-20T20:58:48.717Z"
   },
   {
    "duration": 6,
    "start_time": "2023-03-20T20:58:53.156Z"
   },
   {
    "duration": 7,
    "start_time": "2023-03-20T20:59:35.139Z"
   },
   {
    "duration": 15,
    "start_time": "2023-03-20T20:59:36.356Z"
   },
   {
    "duration": 8,
    "start_time": "2023-03-20T20:59:39.661Z"
   },
   {
    "duration": 12,
    "start_time": "2023-03-20T20:59:40.978Z"
   },
   {
    "duration": 8,
    "start_time": "2023-03-20T20:59:51.747Z"
   },
   {
    "duration": 1382,
    "start_time": "2023-03-20T21:00:08.816Z"
   },
   {
    "duration": 75,
    "start_time": "2023-03-20T21:00:10.201Z"
   },
   {
    "duration": 29,
    "start_time": "2023-03-20T21:00:10.279Z"
   },
   {
    "duration": 21,
    "start_time": "2023-03-20T21:00:10.311Z"
   },
   {
    "duration": 3,
    "start_time": "2023-03-20T21:00:10.335Z"
   },
   {
    "duration": 4,
    "start_time": "2023-03-20T21:00:10.361Z"
   },
   {
    "duration": 14,
    "start_time": "2023-03-20T21:00:10.367Z"
   },
   {
    "duration": 24,
    "start_time": "2023-03-20T21:00:10.384Z"
   },
   {
    "duration": 53,
    "start_time": "2023-03-20T21:00:10.410Z"
   },
   {
    "duration": 17,
    "start_time": "2023-03-20T21:00:10.467Z"
   },
   {
    "duration": 14,
    "start_time": "2023-03-20T21:00:10.485Z"
   },
   {
    "duration": 14,
    "start_time": "2023-03-20T21:00:10.502Z"
   },
   {
    "duration": 70,
    "start_time": "2023-03-20T21:00:10.519Z"
   },
   {
    "duration": 10,
    "start_time": "2023-03-20T21:00:10.591Z"
   },
   {
    "duration": 4,
    "start_time": "2023-03-20T21:00:10.604Z"
   },
   {
    "duration": 16,
    "start_time": "2023-03-20T21:00:10.610Z"
   },
   {
    "duration": 46,
    "start_time": "2023-03-20T21:00:10.628Z"
   },
   {
    "duration": 11,
    "start_time": "2023-03-20T21:00:10.678Z"
   },
   {
    "duration": 23,
    "start_time": "2023-03-20T21:00:10.690Z"
   },
   {
    "duration": 18,
    "start_time": "2023-03-20T21:00:10.715Z"
   },
   {
    "duration": 53,
    "start_time": "2023-03-20T21:00:10.735Z"
   },
   {
    "duration": 11,
    "start_time": "2023-03-20T21:00:10.790Z"
   },
   {
    "duration": 8,
    "start_time": "2023-03-20T21:00:10.802Z"
   },
   {
    "duration": 10,
    "start_time": "2023-03-20T21:00:10.812Z"
   },
   {
    "duration": 12,
    "start_time": "2023-03-20T21:00:10.823Z"
   },
   {
    "duration": 28,
    "start_time": "2023-03-20T21:00:10.837Z"
   },
   {
    "duration": 9,
    "start_time": "2023-03-20T21:00:10.867Z"
   },
   {
    "duration": 13,
    "start_time": "2023-03-20T21:00:10.881Z"
   },
   {
    "duration": 20,
    "start_time": "2023-03-20T21:00:10.896Z"
   },
   {
    "duration": 10,
    "start_time": "2023-03-20T21:00:10.917Z"
   },
   {
    "duration": 71,
    "start_time": "2023-03-20T21:00:10.929Z"
   },
   {
    "duration": 425,
    "start_time": "2023-03-20T21:00:11.002Z"
   },
   {
    "duration": 45,
    "start_time": "2023-03-20T21:00:11.429Z"
   },
   {
    "duration": 2918,
    "start_time": "2023-03-20T21:00:11.476Z"
   },
   {
    "duration": 232,
    "start_time": "2023-03-20T21:00:14.396Z"
   },
   {
    "duration": 425,
    "start_time": "2023-03-20T21:00:14.630Z"
   },
   {
    "duration": 234,
    "start_time": "2023-03-20T21:00:15.062Z"
   },
   {
    "duration": 212,
    "start_time": "2023-03-20T21:00:15.297Z"
   },
   {
    "duration": 221,
    "start_time": "2023-03-20T21:00:15.511Z"
   },
   {
    "duration": 262,
    "start_time": "2023-03-20T21:00:15.734Z"
   },
   {
    "duration": 9,
    "start_time": "2023-03-20T21:00:15.998Z"
   },
   {
    "duration": 10,
    "start_time": "2023-03-20T21:00:16.009Z"
   },
   {
    "duration": 303,
    "start_time": "2023-03-20T21:00:16.021Z"
   },
   {
    "duration": 59,
    "start_time": "2023-03-20T21:00:16.326Z"
   },
   {
    "duration": 314,
    "start_time": "2023-03-20T21:00:16.387Z"
   },
   {
    "duration": 9,
    "start_time": "2023-03-20T21:00:16.704Z"
   },
   {
    "duration": 182,
    "start_time": "2023-03-20T21:00:16.715Z"
   },
   {
    "duration": 191,
    "start_time": "2023-03-20T21:00:16.900Z"
   },
   {
    "duration": 16,
    "start_time": "2023-03-20T21:00:17.093Z"
   },
   {
    "duration": 12,
    "start_time": "2023-03-20T21:00:17.111Z"
   },
   {
    "duration": 12,
    "start_time": "2023-03-20T21:00:17.126Z"
   },
   {
    "duration": 14,
    "start_time": "2023-03-20T21:00:17.164Z"
   },
   {
    "duration": 213,
    "start_time": "2023-03-20T21:00:17.184Z"
   },
   {
    "duration": 11,
    "start_time": "2023-03-20T21:00:17.399Z"
   },
   {
    "duration": 308,
    "start_time": "2023-03-20T21:00:17.412Z"
   },
   {
    "duration": 67,
    "start_time": "2023-03-20T21:00:17.721Z"
   },
   {
    "duration": 334,
    "start_time": "2023-03-20T21:00:17.790Z"
   },
   {
    "duration": 208,
    "start_time": "2023-03-20T21:00:18.126Z"
   },
   {
    "duration": 363,
    "start_time": "2023-03-20T21:00:18.336Z"
   },
   {
    "duration": 388,
    "start_time": "2023-03-20T21:00:18.701Z"
   },
   {
    "duration": 382,
    "start_time": "2023-03-20T21:00:19.091Z"
   },
   {
    "duration": 9,
    "start_time": "2023-03-20T21:00:19.474Z"
   },
   {
    "duration": 17,
    "start_time": "2023-03-20T21:00:19.485Z"
   },
   {
    "duration": 7,
    "start_time": "2023-03-20T21:00:19.504Z"
   },
   {
    "duration": 8,
    "start_time": "2023-03-20T21:00:19.513Z"
   },
   {
    "duration": 40,
    "start_time": "2023-03-20T21:00:19.523Z"
   },
   {
    "duration": 12,
    "start_time": "2023-03-20T21:00:19.565Z"
   },
   {
    "duration": 10,
    "start_time": "2023-03-20T21:00:19.579Z"
   },
   {
    "duration": 41,
    "start_time": "2023-03-20T21:02:45.413Z"
   },
   {
    "duration": 18,
    "start_time": "2023-03-20T21:03:24.159Z"
   },
   {
    "duration": 20,
    "start_time": "2023-03-20T21:03:28.228Z"
   },
   {
    "duration": 6,
    "start_time": "2023-03-20T21:03:38.834Z"
   },
   {
    "duration": 13,
    "start_time": "2023-03-20T21:03:41.889Z"
   },
   {
    "duration": 7,
    "start_time": "2023-03-20T21:03:47.339Z"
   },
   {
    "duration": 10,
    "start_time": "2023-03-20T21:05:03.520Z"
   },
   {
    "duration": 10,
    "start_time": "2023-03-20T21:05:58.661Z"
   },
   {
    "duration": 19,
    "start_time": "2023-03-20T21:06:00.528Z"
   },
   {
    "duration": 5,
    "start_time": "2023-03-20T21:06:04.645Z"
   },
   {
    "duration": 8,
    "start_time": "2023-03-20T21:06:06.491Z"
   },
   {
    "duration": 7,
    "start_time": "2023-03-20T21:06:10.181Z"
   },
   {
    "duration": 8,
    "start_time": "2023-03-20T21:06:27.947Z"
   },
   {
    "duration": 6,
    "start_time": "2023-03-20T21:06:29.698Z"
   },
   {
    "duration": 100,
    "start_time": "2023-03-20T21:09:34.119Z"
   },
   {
    "duration": 76,
    "start_time": "2023-03-20T21:41:26.781Z"
   },
   {
    "duration": 83,
    "start_time": "2023-03-20T21:50:28.143Z"
   },
   {
    "duration": 1201,
    "start_time": "2023-03-21T04:10:47.787Z"
   },
   {
    "duration": 132,
    "start_time": "2023-03-21T04:10:48.990Z"
   },
   {
    "duration": 16,
    "start_time": "2023-03-21T04:10:49.123Z"
   },
   {
    "duration": 33,
    "start_time": "2023-03-21T04:10:49.141Z"
   },
   {
    "duration": 11,
    "start_time": "2023-03-21T04:10:49.176Z"
   },
   {
    "duration": 18,
    "start_time": "2023-03-21T04:10:49.189Z"
   },
   {
    "duration": 22,
    "start_time": "2023-03-21T04:10:49.210Z"
   },
   {
    "duration": 24,
    "start_time": "2023-03-21T04:10:49.234Z"
   },
   {
    "duration": 25,
    "start_time": "2023-03-21T04:10:49.262Z"
   },
   {
    "duration": 17,
    "start_time": "2023-03-21T04:10:49.291Z"
   },
   {
    "duration": 26,
    "start_time": "2023-03-21T04:10:49.310Z"
   },
   {
    "duration": 30,
    "start_time": "2023-03-21T04:10:49.338Z"
   },
   {
    "duration": 41,
    "start_time": "2023-03-21T04:10:49.370Z"
   },
   {
    "duration": 11,
    "start_time": "2023-03-21T04:10:49.413Z"
   },
   {
    "duration": 10,
    "start_time": "2023-03-21T04:10:49.426Z"
   },
   {
    "duration": 32,
    "start_time": "2023-03-21T04:10:49.437Z"
   },
   {
    "duration": 24,
    "start_time": "2023-03-21T04:10:49.471Z"
   },
   {
    "duration": 14,
    "start_time": "2023-03-21T04:10:49.497Z"
   },
   {
    "duration": 26,
    "start_time": "2023-03-21T04:10:49.513Z"
   },
   {
    "duration": 26,
    "start_time": "2023-03-21T04:10:49.545Z"
   },
   {
    "duration": 31,
    "start_time": "2023-03-21T04:10:49.572Z"
   },
   {
    "duration": 11,
    "start_time": "2023-03-21T04:10:49.605Z"
   },
   {
    "duration": 7,
    "start_time": "2023-03-21T04:10:49.618Z"
   },
   {
    "duration": 7,
    "start_time": "2023-03-21T04:10:49.627Z"
   },
   {
    "duration": 27,
    "start_time": "2023-03-21T04:10:49.636Z"
   },
   {
    "duration": 19,
    "start_time": "2023-03-21T04:10:49.665Z"
   },
   {
    "duration": 6,
    "start_time": "2023-03-21T04:10:49.686Z"
   },
   {
    "duration": 14,
    "start_time": "2023-03-21T04:10:49.697Z"
   },
   {
    "duration": 18,
    "start_time": "2023-03-21T04:10:49.713Z"
   },
   {
    "duration": 14,
    "start_time": "2023-03-21T04:10:49.733Z"
   },
   {
    "duration": 60,
    "start_time": "2023-03-21T04:10:49.753Z"
   },
   {
    "duration": 387,
    "start_time": "2023-03-21T04:10:49.815Z"
   },
   {
    "duration": 49,
    "start_time": "2023-03-21T04:10:50.203Z"
   },
   {
    "duration": 2460,
    "start_time": "2023-03-21T04:10:50.254Z"
   },
   {
    "duration": 209,
    "start_time": "2023-03-21T04:10:52.716Z"
   },
   {
    "duration": 405,
    "start_time": "2023-03-21T04:10:52.928Z"
   },
   {
    "duration": 222,
    "start_time": "2023-03-21T04:10:53.335Z"
   },
   {
    "duration": 225,
    "start_time": "2023-03-21T04:10:53.559Z"
   },
   {
    "duration": 274,
    "start_time": "2023-03-21T04:10:53.785Z"
   },
   {
    "duration": 221,
    "start_time": "2023-03-21T04:10:54.062Z"
   },
   {
    "duration": 9,
    "start_time": "2023-03-21T04:10:54.286Z"
   },
   {
    "duration": 32,
    "start_time": "2023-03-21T04:10:54.297Z"
   },
   {
    "duration": 278,
    "start_time": "2023-03-21T04:10:54.331Z"
   },
   {
    "duration": 66,
    "start_time": "2023-03-21T04:10:54.611Z"
   },
   {
    "duration": 297,
    "start_time": "2023-03-21T04:10:54.679Z"
   },
   {
    "duration": 11,
    "start_time": "2023-03-21T04:10:54.978Z"
   },
   {
    "duration": 185,
    "start_time": "2023-03-21T04:10:54.991Z"
   },
   {
    "duration": 187,
    "start_time": "2023-03-21T04:10:55.178Z"
   },
   {
    "duration": 9,
    "start_time": "2023-03-21T04:10:55.367Z"
   },
   {
    "duration": 20,
    "start_time": "2023-03-21T04:10:55.378Z"
   },
   {
    "duration": 11,
    "start_time": "2023-03-21T04:10:55.400Z"
   },
   {
    "duration": 19,
    "start_time": "2023-03-21T04:10:55.413Z"
   },
   {
    "duration": 156,
    "start_time": "2023-03-21T04:10:55.442Z"
   },
   {
    "duration": 14,
    "start_time": "2023-03-21T04:10:55.601Z"
   },
   {
    "duration": 283,
    "start_time": "2023-03-21T04:10:55.617Z"
   },
   {
    "duration": 70,
    "start_time": "2023-03-21T04:10:55.902Z"
   },
   {
    "duration": 325,
    "start_time": "2023-03-21T04:10:55.975Z"
   },
   {
    "duration": 211,
    "start_time": "2023-03-21T04:10:56.302Z"
   },
   {
    "duration": 351,
    "start_time": "2023-03-21T04:10:56.515Z"
   },
   {
    "duration": 438,
    "start_time": "2023-03-21T04:10:56.868Z"
   },
   {
    "duration": 323,
    "start_time": "2023-03-21T04:10:57.308Z"
   },
   {
    "duration": 18,
    "start_time": "2023-03-21T04:10:57.632Z"
   },
   {
    "duration": 32,
    "start_time": "2023-03-21T04:10:57.652Z"
   },
   {
    "duration": 4,
    "start_time": "2023-03-21T04:10:57.686Z"
   },
   {
    "duration": 10,
    "start_time": "2023-03-21T04:10:57.692Z"
   },
   {
    "duration": 7,
    "start_time": "2023-03-21T04:10:57.704Z"
   },
   {
    "duration": 18,
    "start_time": "2023-03-21T04:10:57.712Z"
   },
   {
    "duration": 12,
    "start_time": "2023-03-21T04:10:57.732Z"
   }
  ],
  "kernelspec": {
   "display_name": "Python 3 (ipykernel)",
   "language": "python",
   "name": "python3"
  },
  "language_info": {
   "codemirror_mode": {
    "name": "ipython",
    "version": 3
   },
   "file_extension": ".py",
   "mimetype": "text/x-python",
   "name": "python",
   "nbconvert_exporter": "python",
   "pygments_lexer": "ipython3",
   "version": "3.9.5"
  },
  "toc": {
   "base_numbering": 1,
   "nav_menu": {},
   "number_sections": true,
   "sideBar": true,
   "skip_h1_title": true,
   "title_cell": "Table of Contents",
   "title_sidebar": "Contents",
   "toc_cell": false,
   "toc_position": {},
   "toc_section_display": true,
   "toc_window_display": false
  }
 },
 "nbformat": 4,
 "nbformat_minor": 2
}
