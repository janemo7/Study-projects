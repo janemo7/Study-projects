{
 "cells": [
  {
   "cell_type": "markdown",
   "metadata": {
    "deletable": false,
    "editable": false,
    "id": "E0vqbgi9ay0H"
   },
   "source": [
    "# Яндекс Музыка"
   ]
  },
  {
   "cell_type": "markdown",
   "metadata": {
    "deletable": false,
    "editable": false,
    "id": "VUC88oWjTJw2"
   },
   "source": [
    "Сравнение Москвы и Петербурга окружено мифами. Например:\n",
    " * Москва — мегаполис, подчинённый жёсткому ритму рабочей недели;\n",
    " * Петербург — культурная столица, со своими вкусами.\n",
    "\n",
    "На данных Яндекс Музыки вы сравните поведение пользователей двух столиц.\n",
    "\n",
    "**Цель исследования** — проверьте три гипотезы:\n",
    "1. Активность пользователей зависит от дня недели. Причём в Москве и Петербурге это проявляется по-разному.\n",
    "2. В понедельник утром в Москве преобладают одни жанры, а в Петербурге — другие. Так же и вечером пятницы преобладают разные жанры — в зависимости от города. \n",
    "3. Москва и Петербург предпочитают разные жанры музыки. В Москве чаще слушают поп-музыку, в Петербурге — русский рэп.\n",
    "\n",
    "**Ход исследования**\n",
    "\n",
    "Данные о поведении пользователей вы получите из файла `yandex_music_project.csv`. О качестве данных ничего не известно. Поэтому перед проверкой гипотез понадобится обзор данных. \n",
    "\n",
    "Вы проверите данные на ошибки и оцените их влияние на исследование. Затем, на этапе предобработки вы поищете возможность исправить самые критичные ошибки данных.\n",
    " \n",
    "Таким образом, исследование пройдёт в три этапа:\n",
    " 1. Обзор данных.\n",
    " 2. Предобработка данных.\n",
    " 3. Проверка гипотез.\n",
    "\n"
   ]
  },
  {
   "cell_type": "markdown",
   "metadata": {
    "deletable": false,
    "editable": false,
    "id": "Ml1hmfXC_Zcs"
   },
   "source": [
    "## Обзор данных\n",
    "\n",
    "Составьте первое представление о данных Яндекс Музыки.\n",
    "\n",
    "\n"
   ]
  },
  {
   "cell_type": "markdown",
   "metadata": {
    "deletable": false,
    "editable": false,
    "id": "57eAOGIz_Zcs",
    "tags": [
     "start_task"
    ]
   },
   "source": [
    "**Задание 1**\n",
    "\n",
    "Основной инструмент аналитика — `pandas`. Импортируйте эту библиотеку."
   ]
  },
  {
   "cell_type": "code",
   "execution_count": 1,
   "metadata": {
    "deletable": false,
    "id": "AXN7PHPN_Zcs"
   },
   "outputs": [],
   "source": [
    "import pandas as pd# импорт библиотеки pandas"
   ]
  },
  {
   "cell_type": "markdown",
   "metadata": {
    "deletable": false,
    "editable": false,
    "id": "SG23P8tt_Zcs",
    "tags": [
     "start_task"
    ]
   },
   "source": [
    "**Задание 2**\n",
    "\n",
    "Прочитайте файл `yandex_music_project.csv` из папки `/datasets` и сохраните его в переменной `df`:"
   ]
  },
  {
   "cell_type": "code",
   "execution_count": 2,
   "metadata": {
    "deletable": false,
    "id": "fFVu7vqh_Zct"
   },
   "outputs": [],
   "source": [
    "df = pd.read_csv('/datasets/yandex_music_project.csv')# чтение файла с данными и сохранение в df"
   ]
  },
  {
   "cell_type": "markdown",
   "metadata": {
    "deletable": false,
    "editable": false,
    "id": "rDoOMd3uTqnZ",
    "tags": [
     "start_task"
    ]
   },
   "source": [
    "**Задание 3**\n",
    "\n",
    "\n",
    "Выведите на экран первые десять строк таблицы:"
   ]
  },
  {
   "cell_type": "code",
   "execution_count": 3,
   "metadata": {
    "deletable": false,
    "id": "oWTVX3gW_Zct"
   },
   "outputs": [
    {
     "data": {
      "text/html": [
       "<div>\n",
       "<style scoped>\n",
       "    .dataframe tbody tr th:only-of-type {\n",
       "        vertical-align: middle;\n",
       "    }\n",
       "\n",
       "    .dataframe tbody tr th {\n",
       "        vertical-align: top;\n",
       "    }\n",
       "\n",
       "    .dataframe thead th {\n",
       "        text-align: right;\n",
       "    }\n",
       "</style>\n",
       "<table border=\"1\" class=\"dataframe\">\n",
       "  <thead>\n",
       "    <tr style=\"text-align: right;\">\n",
       "      <th></th>\n",
       "      <th>userID</th>\n",
       "      <th>Track</th>\n",
       "      <th>artist</th>\n",
       "      <th>genre</th>\n",
       "      <th>City</th>\n",
       "      <th>time</th>\n",
       "      <th>Day</th>\n",
       "    </tr>\n",
       "  </thead>\n",
       "  <tbody>\n",
       "    <tr>\n",
       "      <th>0</th>\n",
       "      <td>FFB692EC</td>\n",
       "      <td>Kamigata To Boots</td>\n",
       "      <td>The Mass Missile</td>\n",
       "      <td>rock</td>\n",
       "      <td>Saint-Petersburg</td>\n",
       "      <td>20:28:33</td>\n",
       "      <td>Wednesday</td>\n",
       "    </tr>\n",
       "    <tr>\n",
       "      <th>1</th>\n",
       "      <td>55204538</td>\n",
       "      <td>Delayed Because of Accident</td>\n",
       "      <td>Andreas Rönnberg</td>\n",
       "      <td>rock</td>\n",
       "      <td>Moscow</td>\n",
       "      <td>14:07:09</td>\n",
       "      <td>Friday</td>\n",
       "    </tr>\n",
       "    <tr>\n",
       "      <th>2</th>\n",
       "      <td>20EC38</td>\n",
       "      <td>Funiculì funiculà</td>\n",
       "      <td>Mario Lanza</td>\n",
       "      <td>pop</td>\n",
       "      <td>Saint-Petersburg</td>\n",
       "      <td>20:58:07</td>\n",
       "      <td>Wednesday</td>\n",
       "    </tr>\n",
       "    <tr>\n",
       "      <th>3</th>\n",
       "      <td>A3DD03C9</td>\n",
       "      <td>Dragons in the Sunset</td>\n",
       "      <td>Fire + Ice</td>\n",
       "      <td>folk</td>\n",
       "      <td>Saint-Petersburg</td>\n",
       "      <td>08:37:09</td>\n",
       "      <td>Monday</td>\n",
       "    </tr>\n",
       "    <tr>\n",
       "      <th>4</th>\n",
       "      <td>E2DC1FAE</td>\n",
       "      <td>Soul People</td>\n",
       "      <td>Space Echo</td>\n",
       "      <td>dance</td>\n",
       "      <td>Moscow</td>\n",
       "      <td>08:34:34</td>\n",
       "      <td>Monday</td>\n",
       "    </tr>\n",
       "    <tr>\n",
       "      <th>5</th>\n",
       "      <td>842029A1</td>\n",
       "      <td>Преданная</td>\n",
       "      <td>IMPERVTOR</td>\n",
       "      <td>rusrap</td>\n",
       "      <td>Saint-Petersburg</td>\n",
       "      <td>13:09:41</td>\n",
       "      <td>Friday</td>\n",
       "    </tr>\n",
       "    <tr>\n",
       "      <th>6</th>\n",
       "      <td>4CB90AA5</td>\n",
       "      <td>True</td>\n",
       "      <td>Roman Messer</td>\n",
       "      <td>dance</td>\n",
       "      <td>Moscow</td>\n",
       "      <td>13:00:07</td>\n",
       "      <td>Wednesday</td>\n",
       "    </tr>\n",
       "    <tr>\n",
       "      <th>7</th>\n",
       "      <td>F03E1C1F</td>\n",
       "      <td>Feeling This Way</td>\n",
       "      <td>Polina Griffith</td>\n",
       "      <td>dance</td>\n",
       "      <td>Moscow</td>\n",
       "      <td>20:47:49</td>\n",
       "      <td>Wednesday</td>\n",
       "    </tr>\n",
       "    <tr>\n",
       "      <th>8</th>\n",
       "      <td>8FA1D3BE</td>\n",
       "      <td>И вновь продолжается бой</td>\n",
       "      <td>NaN</td>\n",
       "      <td>ruspop</td>\n",
       "      <td>Moscow</td>\n",
       "      <td>09:17:40</td>\n",
       "      <td>Friday</td>\n",
       "    </tr>\n",
       "    <tr>\n",
       "      <th>9</th>\n",
       "      <td>E772D5C0</td>\n",
       "      <td>Pessimist</td>\n",
       "      <td>NaN</td>\n",
       "      <td>dance</td>\n",
       "      <td>Saint-Petersburg</td>\n",
       "      <td>21:20:49</td>\n",
       "      <td>Wednesday</td>\n",
       "    </tr>\n",
       "  </tbody>\n",
       "</table>\n",
       "</div>"
      ],
      "text/plain": [
       "     userID                        Track            artist   genre  \\\n",
       "0  FFB692EC            Kamigata To Boots  The Mass Missile    rock   \n",
       "1  55204538  Delayed Because of Accident  Andreas Rönnberg    rock   \n",
       "2    20EC38            Funiculì funiculà       Mario Lanza     pop   \n",
       "3  A3DD03C9        Dragons in the Sunset        Fire + Ice    folk   \n",
       "4  E2DC1FAE                  Soul People        Space Echo   dance   \n",
       "5  842029A1                    Преданная         IMPERVTOR  rusrap   \n",
       "6  4CB90AA5                         True      Roman Messer   dance   \n",
       "7  F03E1C1F             Feeling This Way   Polina Griffith   dance   \n",
       "8  8FA1D3BE     И вновь продолжается бой               NaN  ruspop   \n",
       "9  E772D5C0                    Pessimist               NaN   dance   \n",
       "\n",
       "             City        time        Day  \n",
       "0  Saint-Petersburg  20:28:33  Wednesday  \n",
       "1            Moscow  14:07:09     Friday  \n",
       "2  Saint-Petersburg  20:58:07  Wednesday  \n",
       "3  Saint-Petersburg  08:37:09     Monday  \n",
       "4            Moscow  08:34:34     Monday  \n",
       "5  Saint-Petersburg  13:09:41     Friday  \n",
       "6            Moscow  13:00:07  Wednesday  \n",
       "7            Moscow  20:47:49  Wednesday  \n",
       "8            Moscow  09:17:40     Friday  \n",
       "9  Saint-Petersburg  21:20:49  Wednesday  "
      ]
     },
     "execution_count": 3,
     "metadata": {},
     "output_type": "execute_result"
    }
   ],
   "source": [
    "df.head(10)# получение первых 10 строк таблицы df"
   ]
  },
  {
   "cell_type": "markdown",
   "metadata": {
    "deletable": false,
    "editable": false,
    "id": "EO73Kwic_Zct",
    "tags": [
     "start_task"
    ]
   },
   "source": [
    "**Задание 4**\n",
    "\n",
    "\n",
    "Одной командой получить общую информацию о таблице c помощью метода `info()`:"
   ]
  },
  {
   "cell_type": "code",
   "execution_count": 4,
   "metadata": {
    "deletable": false,
    "id": "DSf2kIb-_Zct"
   },
   "outputs": [
    {
     "name": "stdout",
     "output_type": "stream",
     "text": [
      "<class 'pandas.core.frame.DataFrame'>\n",
      "RangeIndex: 65079 entries, 0 to 65078\n",
      "Data columns (total 7 columns):\n",
      " #   Column    Non-Null Count  Dtype \n",
      "---  ------    --------------  ----- \n",
      " 0     userID  65079 non-null  object\n",
      " 1   Track     63848 non-null  object\n",
      " 2   artist    57876 non-null  object\n",
      " 3   genre     63881 non-null  object\n",
      " 4     City    65079 non-null  object\n",
      " 5   time      65079 non-null  object\n",
      " 6   Day       65079 non-null  object\n",
      "dtypes: object(7)\n",
      "memory usage: 3.5+ MB\n"
     ]
    }
   ],
   "source": [
    "df.info()# получение общей информации о данных в таблице df"
   ]
  },
  {
   "cell_type": "markdown",
   "metadata": {
    "deletable": false,
    "editable": false,
    "id": "TaQ2Iwbr_Zct"
   },
   "source": [
    "Итак, в таблице семь столбцов. Тип данных во всех столбцах — `object`.\n",
    "\n",
    "Согласно документации к данным:\n",
    "* `userID` — идентификатор пользователя;\n",
    "* `Track` — название трека;  \n",
    "* `artist` — имя исполнителя;\n",
    "* `genre` — название жанра;\n",
    "* `City` — город пользователя;\n",
    "* `time` — время начала прослушивания;\n",
    "* `Day` — день недели.\n",
    "\n",
    "Количество значений в столбцах различается. Значит, в данных есть пропущенные значения."
   ]
  },
  {
   "cell_type": "markdown",
   "metadata": {
    "deletable": false,
    "editable": false,
    "id": "rAfziTBDmf2h",
    "tags": [
     "start_task"
    ]
   },
   "source": [
    "**Задание 5**\n",
    "\n",
    "**Вопрос со свободной формой ответа**\n",
    "\n",
    "В названиях колонок видны нарушения стиля:\n",
    "* Строчные буквы сочетаются с прописными.\n",
    "* Встречаются пробелы.\n",
    "\n",
    "Какое третье нарушение?"
   ]
  },
  {
   "cell_type": "code",
   "execution_count": 5,
   "metadata": {
    "id": "jD8EXEIvmf2h"
   },
   "outputs": [],
   "source": [
    "#Несколько слов разделяются нижним подчеркиваем # Напишите ваш ответ здесь комментарием. Не удаляйте символ #. Не меняйте тип этой ячейки на Markdown."
   ]
  },
  {
   "cell_type": "markdown",
   "metadata": {
    "deletable": false,
    "editable": false,
    "id": "MCB6-dXG_Zct"
   },
   "source": [
    "**Выводы**\n",
    "\n",
    "В каждой строке таблицы — данные о прослушанном треке. Часть колонок описывает саму композицию: название, исполнителя и жанр. Остальные данные рассказывают о пользователе: из какого он города, когда он слушал музыку. \n",
    "\n",
    "Предварительно можно утверждать, что данных достаточно для проверки гипотез. Но встречаются пропуски в данных, а в названиях колонок — расхождения с хорошим стилем.\n",
    "\n",
    "Чтобы двигаться дальше, нужно устранить проблемы в данных."
   ]
  },
  {
   "cell_type": "markdown",
   "metadata": {
    "deletable": false,
    "editable": false,
    "id": "SjYF6Ub9_Zct"
   },
   "source": [
    "## Предобработка данных\n",
    "Исправьте стиль в заголовках столбцов, исключите пропуски. Затем проверьте данные на дубликаты."
   ]
  },
  {
   "cell_type": "markdown",
   "metadata": {
    "deletable": false,
    "editable": false,
    "id": "dIaKXr29_Zct",
    "tags": [
     "start_task"
    ]
   },
   "source": [
    "### Стиль заголовков\n",
    "\n",
    "**Задание 6**\n",
    "\n",
    "Выведите на экран названия столбцов:"
   ]
  },
  {
   "cell_type": "code",
   "execution_count": 6,
   "metadata": {
    "deletable": false,
    "id": "oKOTdF_Q_Zct"
   },
   "outputs": [
    {
     "data": {
      "text/plain": [
       "Index(['  userID', 'Track', 'artist', 'genre', '  City  ', 'time', 'Day'], dtype='object')"
      ]
     },
     "execution_count": 6,
     "metadata": {},
     "output_type": "execute_result"
    }
   ],
   "source": [
    "df.columns# перечень названий столбцов таблицы df"
   ]
  },
  {
   "cell_type": "markdown",
   "metadata": {
    "deletable": false,
    "editable": false,
    "id": "zj5534cv_Zct",
    "tags": [
     "start_task"
    ]
   },
   "source": [
    "**Задание 7**\n",
    "\n",
    "\n",
    "Приведите названия в соответствие с хорошим стилем:\n",
    "* несколько слов в названии запишите в «змеином_регистре»,\n",
    "* все символы сделайте строчными,\n",
    "* устраните пробелы.\n",
    "\n",
    "Для этого переименуйте колонки так:\n",
    "* `'  userID'` → `'user_id'`;\n",
    "* `'Track'` → `'track'`;\n",
    "* `'  City  '` → `'city'`;\n",
    "* `'Day'` → `'day'`."
   ]
  },
  {
   "cell_type": "code",
   "execution_count": 7,
   "metadata": {
    "deletable": false,
    "id": "ISlFqs5y_Zct"
   },
   "outputs": [],
   "source": [
    "df = df.rename(\n",
    "columns={'  userID': 'user_id',\n",
    "        'Track': 'track',\n",
    "        '  City  ' : 'city',\n",
    "        'Day':'day'})# переименование столбцов"
   ]
  },
  {
   "cell_type": "markdown",
   "metadata": {
    "deletable": false,
    "editable": false,
    "id": "1dqbh00J_Zct",
    "tags": [
     "start_task"
    ]
   },
   "source": [
    "**Задание 8**\n",
    "\n",
    "\n",
    "Проверьте результат. Для этого ещё раз выведите на экран названия столбцов:"
   ]
  },
  {
   "cell_type": "code",
   "execution_count": 8,
   "metadata": {
    "deletable": false,
    "id": "d4NOAmTW_Zct"
   },
   "outputs": [
    {
     "data": {
      "text/plain": [
       "Index(['user_id', 'track', 'artist', 'genre', 'city', 'time', 'day'], dtype='object')"
      ]
     },
     "execution_count": 8,
     "metadata": {},
     "output_type": "execute_result"
    }
   ],
   "source": [
    "df.columns # проверка результатов - перечень названий столбцов"
   ]
  },
  {
   "cell_type": "markdown",
   "metadata": {
    "deletable": false,
    "editable": false,
    "id": "5ISfbcfY_Zct",
    "tags": [
     "start_task"
    ]
   },
   "source": [
    "### Пропуски значений\n",
    "\n",
    "**Задание 9**\n",
    "\n",
    "Сначала посчитайте, сколько в таблице пропущенных значений. Для этого достаточно двух методов `pandas`:"
   ]
  },
  {
   "cell_type": "code",
   "execution_count": 9,
   "metadata": {
    "deletable": false,
    "id": "RskX29qr_Zct"
   },
   "outputs": [
    {
     "data": {
      "text/plain": [
       "user_id       0\n",
       "track      1231\n",
       "artist     7203\n",
       "genre      1198\n",
       "city          0\n",
       "time          0\n",
       "day           0\n",
       "dtype: int64"
      ]
     },
     "execution_count": 9,
     "metadata": {},
     "output_type": "execute_result"
    }
   ],
   "source": [
    "df.isna().sum() # подсчёт пропусков"
   ]
  },
  {
   "cell_type": "markdown",
   "metadata": {
    "deletable": false,
    "editable": false,
    "id": "qubhgnlO_Zct"
   },
   "source": [
    "Не все пропущенные значения влияют на исследование. Так в `track` и `artist` пропуски не важны для вашей работы. Достаточно заменить их явными обозначениями.\n",
    "\n",
    "Но пропуски в `genre` могут помешать сравнению музыкальных вкусов в Москве и Санкт-Петербурге. На практике было бы правильно установить причину пропусков и восстановить данные. Такой возможности нет в учебном проекте. Придётся:\n",
    "* заполнить и эти пропуски явными обозначениями;\n",
    "* оценить, насколько они повредят расчётам. "
   ]
  },
  {
   "cell_type": "markdown",
   "metadata": {
    "deletable": false,
    "editable": false,
    "id": "fSv2laPA_Zct",
    "tags": [
     "start_task"
    ]
   },
   "source": [
    "**Задание 10**\n",
    "\n",
    "Замените пропущенные значения в столбцах `track`, `artist` и `genre` на строку `'unknown'`. Для этого создайте список `columns_to_replace`, переберите его элементы циклом `for` и для каждого столбца выполните замену пропущенных значений:"
   ]
  },
  {
   "cell_type": "code",
   "execution_count": 10,
   "metadata": {
    "deletable": false,
    "id": "KplB5qWs_Zct"
   },
   "outputs": [],
   "source": [
    "columns_to_replace = ['track', 'artist', 'genre']\n",
    "for column in columns_to_replace:\n",
    "    df[column] = df[column].fillna('unknown')# перебор названий столбцов в цикле и замена пропущенных значений на 'unknown'# перебор названий столбцов в цикле и замена пропущенных значений на 'unknown'# перебор названий столбцов в цикле и замена пропущенных значений на 'unknown'"
   ]
  },
  {
   "cell_type": "markdown",
   "metadata": {
    "deletable": false,
    "editable": false,
    "id": "Ilsm-MZo_Zct",
    "tags": [
     "start_task"
    ]
   },
   "source": [
    "**Задание 11**\n",
    "\n",
    "Убедитесь, что в таблице не осталось пропусков. Для этого ещё раз посчитайте пропущенные значения."
   ]
  },
  {
   "cell_type": "code",
   "execution_count": 11,
   "metadata": {
    "deletable": false,
    "id": "Tq4nYRX4_Zct"
   },
   "outputs": [
    {
     "data": {
      "text/plain": [
       "user_id    0\n",
       "track      0\n",
       "artist     0\n",
       "genre      0\n",
       "city       0\n",
       "time       0\n",
       "day        0\n",
       "dtype: int64"
      ]
     },
     "execution_count": 11,
     "metadata": {},
     "output_type": "execute_result"
    }
   ],
   "source": [
    "df.isna().sum()# подсчёт пропусков"
   ]
  },
  {
   "cell_type": "markdown",
   "metadata": {
    "deletable": false,
    "editable": false,
    "id": "BWKRtBJ3_Zct",
    "tags": [
     "start_task"
    ]
   },
   "source": [
    "### Дубликаты\n",
    "\n",
    "**Задание 12**\n",
    "\n",
    "Посчитайте явные дубликаты в таблице одной командой:"
   ]
  },
  {
   "cell_type": "code",
   "execution_count": 12,
   "metadata": {
    "deletable": false,
    "id": "36eES_S0_Zct"
   },
   "outputs": [
    {
     "data": {
      "text/plain": [
       "3826"
      ]
     },
     "execution_count": 12,
     "metadata": {},
     "output_type": "execute_result"
    }
   ],
   "source": [
    "df.duplicated().sum()# подсчёт явных дубликатов"
   ]
  },
  {
   "cell_type": "markdown",
   "metadata": {
    "deletable": false,
    "editable": false,
    "id": "Ot25h6XR_Zct",
    "tags": [
     "start_task"
    ]
   },
   "source": [
    "**Задание 13**\n",
    "\n",
    "Вызовите специальный метод `pandas`, чтобы удалить явные дубликаты:"
   ]
  },
  {
   "cell_type": "code",
   "execution_count": 13,
   "metadata": {
    "deletable": false,
    "id": "exFHq6tt_Zct",
    "scrolled": false
   },
   "outputs": [],
   "source": [
    "df = df.drop_duplicates()\n",
    "# удаление явных дубликатов"
   ]
  },
  {
   "cell_type": "markdown",
   "metadata": {
    "deletable": false,
    "editable": false,
    "id": "Im2YwBEG_Zct",
    "tags": [
     "start_task"
    ]
   },
   "source": [
    "**Задание 14**\n",
    "\n",
    "Ещё раз посчитайте явные дубликаты в таблице — убедитесь, что полностью от них избавились:"
   ]
  },
  {
   "cell_type": "code",
   "execution_count": 14,
   "metadata": {
    "deletable": false,
    "id": "-8PuNWQ0_Zct"
   },
   "outputs": [
    {
     "data": {
      "text/plain": [
       "0"
      ]
     },
     "execution_count": 14,
     "metadata": {},
     "output_type": "execute_result"
    }
   ],
   "source": [
    "df.duplicated().sum()# проверка на отсутствие дубликатов"
   ]
  },
  {
   "cell_type": "markdown",
   "metadata": {
    "deletable": false,
    "editable": false,
    "id": "QlFBsxAr_Zct"
   },
   "source": [
    "Теперь избавьтесь от неявных дубликатов в колонке `genre`. Например, название одного и того же жанра может быть записано немного по-разному. Такие ошибки тоже повлияют на результат исследования."
   ]
  },
  {
   "cell_type": "markdown",
   "metadata": {
    "deletable": false,
    "editable": false,
    "id": "eSjWwsOh_Zct",
    "tags": [
     "start_task"
    ]
   },
   "source": [
    "**Задание 15**\n",
    "\n",
    "Выведите на экран список уникальных названий жанров, отсортированный в алфавитном порядке. Для этого:\n",
    "1. извлеките нужный столбец датафрейма; \n",
    "2. примените к нему метод сортировки;\n",
    "3. для отсортированного столбца вызовите метод, который вернёт уникальные значения из столбца."
   ]
  },
  {
   "cell_type": "code",
   "execution_count": 15,
   "metadata": {
    "deletable": false,
    "id": "JIUcqzZN_Zct",
    "scrolled": false
   },
   "outputs": [
    {
     "data": {
      "text/plain": [
       "array(['acid', 'acoustic', 'action', 'adult', 'africa', 'afrikaans',\n",
       "       'alternative', 'alternativepunk', 'ambient', 'americana',\n",
       "       'animated', 'anime', 'arabesk', 'arabic', 'arena',\n",
       "       'argentinetango', 'art', 'audiobook', 'author', 'avantgarde',\n",
       "       'axé', 'baile', 'balkan', 'beats', 'bigroom', 'black', 'bluegrass',\n",
       "       'blues', 'bollywood', 'bossa', 'brazilian', 'breakbeat', 'breaks',\n",
       "       'broadway', 'cantautori', 'cantopop', 'canzone', 'caribbean',\n",
       "       'caucasian', 'celtic', 'chamber', 'chanson', 'children', 'chill',\n",
       "       'chinese', 'choral', 'christian', 'christmas', 'classical',\n",
       "       'classicmetal', 'club', 'colombian', 'comedy', 'conjazz',\n",
       "       'contemporary', 'country', 'cuban', 'dance', 'dancehall',\n",
       "       'dancepop', 'dark', 'death', 'deep', 'deutschrock', 'deutschspr',\n",
       "       'dirty', 'disco', 'dnb', 'documentary', 'downbeat', 'downtempo',\n",
       "       'drum', 'dub', 'dubstep', 'eastern', 'easy', 'electronic',\n",
       "       'electropop', 'emo', 'entehno', 'epicmetal', 'estrada', 'ethnic',\n",
       "       'eurofolk', 'european', 'experimental', 'extrememetal', 'fado',\n",
       "       'fairytail', 'film', 'fitness', 'flamenco', 'folk', 'folklore',\n",
       "       'folkmetal', 'folkrock', 'folktronica', 'forró', 'frankreich',\n",
       "       'französisch', 'french', 'funk', 'future', 'gangsta', 'garage',\n",
       "       'german', 'ghazal', 'gitarre', 'glitch', 'gospel', 'gothic',\n",
       "       'grime', 'grunge', 'gypsy', 'handsup', \"hard'n'heavy\", 'hardcore',\n",
       "       'hardstyle', 'hardtechno', 'hip', 'hip-hop', 'hiphop',\n",
       "       'historisch', 'holiday', 'hop', 'horror', 'house', 'hymn', 'idm',\n",
       "       'independent', 'indian', 'indie', 'indipop', 'industrial',\n",
       "       'inspirational', 'instrumental', 'international', 'irish', 'jam',\n",
       "       'japanese', 'jazz', 'jewish', 'jpop', 'jungle', 'k-pop',\n",
       "       'karadeniz', 'karaoke', 'kayokyoku', 'korean', 'laiko', 'latin',\n",
       "       'latino', 'leftfield', 'local', 'lounge', 'loungeelectronic',\n",
       "       'lovers', 'malaysian', 'mandopop', 'marschmusik', 'meditative',\n",
       "       'mediterranean', 'melodic', 'metal', 'metalcore', 'mexican',\n",
       "       'middle', 'minimal', 'miscellaneous', 'modern', 'mood', 'mpb',\n",
       "       'muslim', 'native', 'neoklassik', 'neue', 'new', 'newage',\n",
       "       'newwave', 'nu', 'nujazz', 'numetal', 'oceania', 'old', 'opera',\n",
       "       'orchestral', 'other', 'piano', 'podcasts', 'pop', 'popdance',\n",
       "       'popelectronic', 'popeurodance', 'poprussian', 'post',\n",
       "       'posthardcore', 'postrock', 'power', 'progmetal', 'progressive',\n",
       "       'psychedelic', 'punjabi', 'punk', 'quebecois', 'ragga', 'ram',\n",
       "       'rancheras', 'rap', 'rave', 'reggae', 'reggaeton', 'regional',\n",
       "       'relax', 'religious', 'retro', 'rhythm', 'rnb', 'rnr', 'rock',\n",
       "       'rockabilly', 'rockalternative', 'rockindie', 'rockother',\n",
       "       'romance', 'roots', 'ruspop', 'rusrap', 'rusrock', 'russian',\n",
       "       'salsa', 'samba', 'scenic', 'schlager', 'self', 'sertanejo',\n",
       "       'shanson', 'shoegazing', 'showtunes', 'singer', 'ska', 'skarock',\n",
       "       'slow', 'smooth', 'soft', 'soul', 'soulful', 'sound', 'soundtrack',\n",
       "       'southern', 'specialty', 'speech', 'spiritual', 'sport',\n",
       "       'stonerrock', 'surf', 'swing', 'synthpop', 'synthrock',\n",
       "       'sängerportrait', 'tango', 'tanzorchester', 'taraftar', 'tatar',\n",
       "       'tech', 'techno', 'teen', 'thrash', 'top', 'traditional',\n",
       "       'tradjazz', 'trance', 'tribal', 'trip', 'triphop', 'tropical',\n",
       "       'türk', 'türkçe', 'ukrrock', 'unknown', 'urban', 'uzbek',\n",
       "       'variété', 'vi', 'videogame', 'vocal', 'western', 'world',\n",
       "       'worldbeat', 'ïîï', 'электроника'], dtype=object)"
      ]
     },
     "execution_count": 15,
     "metadata": {},
     "output_type": "execute_result"
    }
   ],
   "source": [
    "df['genre'].sort_values().unique()# Просмотр уникальных названий жанров"
   ]
  },
  {
   "cell_type": "markdown",
   "metadata": {
    "deletable": false,
    "editable": false,
    "id": "qej-Qmuo_Zct",
    "tags": [
     "start_task"
    ]
   },
   "source": [
    "**Задание 16**\n",
    "\n",
    "Просмотрите список и найдите неявные дубликаты названия `hiphop`. Это могут быть названия с ошибками или альтернативные названия того же жанра.\n",
    "\n",
    "Вы увидите следующие неявные дубликаты:\n",
    "* *hip*,\n",
    "* *hop*,\n",
    "* *hip-hop*.\n",
    "\n",
    "Чтобы очистить от них таблицу используйте метод `replace()` с двумя аргументами: списком строк-дубликатов (включащий *hip*, *hop* и *hip-hop*) и строкой с правильным значением. Вам нужно исправить колонку `genre` в таблице `df`: заменить каждое значение из списка дубликатов на верное. Вместо `hip`, `hop` и `hip-hop` в таблице должно быть значение `hiphop`:"
   ]
  },
  {
   "cell_type": "code",
   "execution_count": 16,
   "metadata": {
    "deletable": false,
    "id": "ErNDkmns_Zct",
    "scrolled": false
   },
   "outputs": [],
   "source": [
    "wrong = ['hip','hop','hip-hop']\n",
    "right = 'hiphop'\n",
    "df['genre'] = df['genre'].replace(wrong, right)# Устранение неявных дубликатов"
   ]
  },
  {
   "cell_type": "markdown",
   "metadata": {
    "deletable": false,
    "editable": false,
    "id": "zQKF16_RG15m",
    "tags": [
     "start_task"
    ]
   },
   "source": [
    "**Задание 17**\n",
    "\n",
    "Проверьте, что заменили неправильные названия:\n",
    "\n",
    "*   hip,\n",
    "*   hop,\n",
    "*   hip-hop.\n",
    "\n",
    "Выведите отсортированный список уникальных значений столбца `genre`:"
   ]
  },
  {
   "cell_type": "code",
   "execution_count": 17,
   "metadata": {
    "deletable": false,
    "id": "wvixALnFG15m"
   },
   "outputs": [
    {
     "data": {
      "text/plain": [
       "array(['acid', 'acoustic', 'action', 'adult', 'africa', 'afrikaans',\n",
       "       'alternative', 'alternativepunk', 'ambient', 'americana',\n",
       "       'animated', 'anime', 'arabesk', 'arabic', 'arena',\n",
       "       'argentinetango', 'art', 'audiobook', 'author', 'avantgarde',\n",
       "       'axé', 'baile', 'balkan', 'beats', 'bigroom', 'black', 'bluegrass',\n",
       "       'blues', 'bollywood', 'bossa', 'brazilian', 'breakbeat', 'breaks',\n",
       "       'broadway', 'cantautori', 'cantopop', 'canzone', 'caribbean',\n",
       "       'caucasian', 'celtic', 'chamber', 'chanson', 'children', 'chill',\n",
       "       'chinese', 'choral', 'christian', 'christmas', 'classical',\n",
       "       'classicmetal', 'club', 'colombian', 'comedy', 'conjazz',\n",
       "       'contemporary', 'country', 'cuban', 'dance', 'dancehall',\n",
       "       'dancepop', 'dark', 'death', 'deep', 'deutschrock', 'deutschspr',\n",
       "       'dirty', 'disco', 'dnb', 'documentary', 'downbeat', 'downtempo',\n",
       "       'drum', 'dub', 'dubstep', 'eastern', 'easy', 'electronic',\n",
       "       'electropop', 'emo', 'entehno', 'epicmetal', 'estrada', 'ethnic',\n",
       "       'eurofolk', 'european', 'experimental', 'extrememetal', 'fado',\n",
       "       'fairytail', 'film', 'fitness', 'flamenco', 'folk', 'folklore',\n",
       "       'folkmetal', 'folkrock', 'folktronica', 'forró', 'frankreich',\n",
       "       'französisch', 'french', 'funk', 'future', 'gangsta', 'garage',\n",
       "       'german', 'ghazal', 'gitarre', 'glitch', 'gospel', 'gothic',\n",
       "       'grime', 'grunge', 'gypsy', 'handsup', \"hard'n'heavy\", 'hardcore',\n",
       "       'hardstyle', 'hardtechno', 'hiphop', 'historisch', 'holiday',\n",
       "       'horror', 'house', 'hymn', 'idm', 'independent', 'indian', 'indie',\n",
       "       'indipop', 'industrial', 'inspirational', 'instrumental',\n",
       "       'international', 'irish', 'jam', 'japanese', 'jazz', 'jewish',\n",
       "       'jpop', 'jungle', 'k-pop', 'karadeniz', 'karaoke', 'kayokyoku',\n",
       "       'korean', 'laiko', 'latin', 'latino', 'leftfield', 'local',\n",
       "       'lounge', 'loungeelectronic', 'lovers', 'malaysian', 'mandopop',\n",
       "       'marschmusik', 'meditative', 'mediterranean', 'melodic', 'metal',\n",
       "       'metalcore', 'mexican', 'middle', 'minimal', 'miscellaneous',\n",
       "       'modern', 'mood', 'mpb', 'muslim', 'native', 'neoklassik', 'neue',\n",
       "       'new', 'newage', 'newwave', 'nu', 'nujazz', 'numetal', 'oceania',\n",
       "       'old', 'opera', 'orchestral', 'other', 'piano', 'podcasts', 'pop',\n",
       "       'popdance', 'popelectronic', 'popeurodance', 'poprussian', 'post',\n",
       "       'posthardcore', 'postrock', 'power', 'progmetal', 'progressive',\n",
       "       'psychedelic', 'punjabi', 'punk', 'quebecois', 'ragga', 'ram',\n",
       "       'rancheras', 'rap', 'rave', 'reggae', 'reggaeton', 'regional',\n",
       "       'relax', 'religious', 'retro', 'rhythm', 'rnb', 'rnr', 'rock',\n",
       "       'rockabilly', 'rockalternative', 'rockindie', 'rockother',\n",
       "       'romance', 'roots', 'ruspop', 'rusrap', 'rusrock', 'russian',\n",
       "       'salsa', 'samba', 'scenic', 'schlager', 'self', 'sertanejo',\n",
       "       'shanson', 'shoegazing', 'showtunes', 'singer', 'ska', 'skarock',\n",
       "       'slow', 'smooth', 'soft', 'soul', 'soulful', 'sound', 'soundtrack',\n",
       "       'southern', 'specialty', 'speech', 'spiritual', 'sport',\n",
       "       'stonerrock', 'surf', 'swing', 'synthpop', 'synthrock',\n",
       "       'sängerportrait', 'tango', 'tanzorchester', 'taraftar', 'tatar',\n",
       "       'tech', 'techno', 'teen', 'thrash', 'top', 'traditional',\n",
       "       'tradjazz', 'trance', 'tribal', 'trip', 'triphop', 'tropical',\n",
       "       'türk', 'türkçe', 'ukrrock', 'unknown', 'urban', 'uzbek',\n",
       "       'variété', 'vi', 'videogame', 'vocal', 'western', 'world',\n",
       "       'worldbeat', 'ïîï', 'электроника'], dtype=object)"
      ]
     },
     "execution_count": 17,
     "metadata": {},
     "output_type": "execute_result"
    }
   ],
   "source": [
    "df['genre'].sort_values().unique()# Проверка на неявные дубликаты"
   ]
  },
  {
   "cell_type": "markdown",
   "metadata": {
    "deletable": false,
    "editable": false,
    "id": "jz6a9-7HQUDd"
   },
   "source": [
    "**Выводы**\n",
    "\n",
    "Предобработка обнаружила три проблемы в данных:\n",
    "\n",
    "- нарушения в стиле заголовков,\n",
    "- пропущенные значения,\n",
    "- дубликаты — явные и неявные.\n",
    "\n",
    "Вы исправили заголовки, чтобы упростить работу с таблицей. Без дубликатов исследование станет более точным.\n",
    "\n",
    "Пропущенные значения вы заменили на `'unknown'`. Ещё предстоит увидеть, не повредят ли исследованию пропуски в колонке `genre`.\n",
    "\n",
    "Теперь можно перейти к проверке гипотез. "
   ]
  },
  {
   "cell_type": "markdown",
   "metadata": {
    "deletable": false,
    "editable": false,
    "id": "WttZHXH0SqKk"
   },
   "source": [
    "## Проверка гипотез"
   ]
  },
  {
   "cell_type": "markdown",
   "metadata": {
    "deletable": false,
    "editable": false,
    "id": "Im936VVi_Zcu"
   },
   "source": [
    "### Сравнение поведения пользователей двух столиц"
   ]
  },
  {
   "cell_type": "markdown",
   "metadata": {
    "deletable": false,
    "editable": false,
    "id": "nwt_MuaL_Zcu"
   },
   "source": [
    "Первая гипотеза утверждает, что пользователи по-разному слушают музыку в Москве и Санкт-Петербурге. Проверьте это предположение по данным о трёх днях недели — понедельнике, среде и пятнице. Для этого:\n",
    "\n",
    "* Разделите пользователей Москвы и Санкт-Петербурга.\n",
    "* Сравните, сколько треков послушала каждая группа пользователей в понедельник, среду и пятницу.\n"
   ]
  },
  {
   "cell_type": "markdown",
   "metadata": {
    "deletable": false,
    "editable": false,
    "id": "8Dw_YMmT_Zcu",
    "tags": [
     "start_task"
    ]
   },
   "source": [
    "**Задание 18**\n",
    "\n",
    "Для тренировки сначала выполните каждый из расчётов по отдельности. \n",
    "\n",
    "Оцените активность пользователей в каждом городе. Сгруппируйте данные по городу и посчитайте прослушивания в каждой группе.\n",
    "\n"
   ]
  },
  {
   "cell_type": "code",
   "execution_count": 18,
   "metadata": {
    "deletable": false,
    "id": "0_Qs96oh_Zcu",
    "scrolled": true
   },
   "outputs": [
    {
     "data": {
      "text/plain": [
       "city\n",
       "Moscow              42741\n",
       "Saint-Petersburg    18512\n",
       "Name: genre, dtype: int64"
      ]
     },
     "execution_count": 18,
     "metadata": {},
     "output_type": "execute_result"
    }
   ],
   "source": [
    "listen_city = df.groupby('city')['genre'].count()\n",
    "\n",
    "listen_city#Подсчёт прослушиваний в каждом городе"
   ]
  },
  {
   "cell_type": "markdown",
   "metadata": {
    "deletable": false,
    "editable": false,
    "id": "dzli3w8o_Zcu",
    "tags": [
     "start_task"
    ]
   },
   "source": [
    "В Москве прослушиваний больше, чем в Петербурге. Из этого не следует, что московские пользователи чаще слушают музыку. Просто самих пользователей в Москве больше.\n",
    "\n",
    "**Задание 19**\n",
    "\n",
    "Теперь сгруппируйте данные по дню недели и посчитайте прослушивания в понедельник, среду и пятницу. Учтите, что в данных есть информация о прослушиваниях только за эти дни.\n"
   ]
  },
  {
   "cell_type": "code",
   "execution_count": 19,
   "metadata": {
    "deletable": false,
    "id": "uZMKjiJz_Zcu"
   },
   "outputs": [
    {
     "data": {
      "text/plain": [
       "day\n",
       "Friday       21840\n",
       "Monday       21354\n",
       "Wednesday    18059\n",
       "Name: genre, dtype: int64"
      ]
     },
     "execution_count": 19,
     "metadata": {},
     "output_type": "execute_result"
    }
   ],
   "source": [
    "listen_day = df.groupby('day')['genre'].count()\n",
    "listen_day# Подсчёт прослушиваний в каждый из трёх дней"
   ]
  },
  {
   "cell_type": "markdown",
   "metadata": {
    "deletable": false,
    "editable": false,
    "id": "cC2tNrlL_Zcu"
   },
   "source": [
    "В среднем пользователи из двух городов менее активны по средам. Но картина может измениться, если рассмотреть каждый город в отдельности."
   ]
  },
  {
   "cell_type": "markdown",
   "metadata": {
    "deletable": false,
    "editable": false,
    "id": "POzs8bGa_Zcu",
    "tags": [
     "start_task"
    ]
   },
   "source": [
    "**Задание 20**\n",
    "\n",
    "\n",
    "Вы видели, как работает группировка по городу и по дням недели. Теперь напишите функцию, которая объединит два эти расчёта.\n",
    "\n",
    "Создайте функцию `number_tracks()`, которая посчитает прослушивания для заданного дня и города. Ей понадобятся два параметра:\n",
    "* день недели,\n",
    "* название города.\n",
    "\n",
    "В функции сохраните в переменную строки исходной таблицы, у которых значение:\n",
    "  * в колонке `day` равно параметру `day`,\n",
    "  * в колонке `city` равно параметру `city`.\n",
    "\n",
    "Для этого примените последовательную фильтрацию с логической индексацией (или сложные логические выражения в одну строку, если вы уже знакомы с ними).\n",
    "\n",
    "Затем посчитайте значения в столбце `user_id` получившейся таблицы. Результат сохраните в новую переменную. Верните эту переменную из функции."
   ]
  },
  {
   "cell_type": "code",
   "execution_count": 20,
   "metadata": {
    "deletable": false,
    "id": "Nz3GdQB1_Zcu"
   },
   "outputs": [],
   "source": [
    "def number_tracks(day,city):\n",
    "    track_list = df[\n",
    "        (df['day'] == day) &\n",
    "        (df['city'] == city)\n",
    "    ]\n",
    "    track_list_count = track_list['user_id'].count()\n",
    "    return track_list_count\n",
    "\n",
    "        # <создание функции number_tracks()>\n",
    "# Объявляется функция с двумя параметрами: day, city.\n",
    "# В переменной track_list сохраняются те строки таблицы df, для которых \n",
    "# значение в столбце 'day' равно параметру day и одновременно значение\n",
    "# в столбце 'city' равно параметру city (используйте последовательную фильтрацию\n",
    "# с помощью логической индексации или сложные логические выражения в одну строку, если вы уже знакомы с ними).\n",
    "# В переменной track_list_count сохраняется число значений столбца 'user_id',\n",
    "# рассчитанное методом count() для таблицы track_list.\n",
    "# Функция возвращает число - значение track_list_count.\n",
    "\n",
    "# Функция для подсчёта прослушиваний для конкретного города и дня.\n",
    "# С помощью последовательной фильтрации с логической индексацией она \n",
    "# сначала получит из исходной таблицы строки с нужным днём,\n",
    "# затем из результата отфильтрует строки с нужным городом,\n",
    "# методом count() посчитает количество значений в колонке user_id. \n",
    "# Это количество функция вернёт в качестве результата"
   ]
  },
  {
   "cell_type": "markdown",
   "metadata": {
    "deletable": false,
    "editable": false,
    "id": "ytf7xFrFJQ2r",
    "tags": [
     "start_task"
    ]
   },
   "source": [
    "**Задание 21**\n",
    "\n",
    "Вызовите `number_tracks()` шесть раз, меняя значение параметров — так, чтобы получить данные для каждого города в каждый из трёх дней."
   ]
  },
  {
   "cell_type": "code",
   "execution_count": 21,
   "metadata": {
    "deletable": false,
    "id": "rJcRATNQ_Zcu"
   },
   "outputs": [
    {
     "data": {
      "text/plain": [
       "15740"
      ]
     },
     "execution_count": 21,
     "metadata": {},
     "output_type": "execute_result"
    }
   ],
   "source": [
    "number_tracks('Monday', 'Moscow')# количество прослушиваний в Москве по понедельникам"
   ]
  },
  {
   "cell_type": "code",
   "execution_count": 22,
   "metadata": {
    "deletable": false,
    "id": "hq_ncZ5T_Zcu"
   },
   "outputs": [
    {
     "data": {
      "text/plain": [
       "5614"
      ]
     },
     "execution_count": 22,
     "metadata": {},
     "output_type": "execute_result"
    }
   ],
   "source": [
    "number_tracks('Monday', 'Saint-Petersburg')# количество прослушиваний в Санкт-Петербурге по понедельникам"
   ]
  },
  {
   "cell_type": "code",
   "execution_count": 23,
   "metadata": {
    "deletable": false,
    "id": "_NTy2VPU_Zcu"
   },
   "outputs": [],
   "source": [
    "# количество прослушиваний в Москве по средам"
   ]
  },
  {
   "cell_type": "code",
   "execution_count": 24,
   "metadata": {},
   "outputs": [
    {
     "data": {
      "text/plain": [
       "11056"
      ]
     },
     "execution_count": 24,
     "metadata": {},
     "output_type": "execute_result"
    }
   ],
   "source": [
    "number_tracks('Wednesday', 'Moscow')"
   ]
  },
  {
   "cell_type": "code",
   "execution_count": 25,
   "metadata": {
    "deletable": false,
    "id": "j2y3TAwo_Zcu"
   },
   "outputs": [],
   "source": [
    "# количество прослушиваний в Санкт-Петербурге по средам"
   ]
  },
  {
   "cell_type": "code",
   "execution_count": 26,
   "metadata": {},
   "outputs": [
    {
     "data": {
      "text/plain": [
       "7003"
      ]
     },
     "execution_count": 26,
     "metadata": {},
     "output_type": "execute_result"
    }
   ],
   "source": [
    "number_tracks('Wednesday', 'Saint-Petersburg')"
   ]
  },
  {
   "cell_type": "code",
   "execution_count": 27,
   "metadata": {
    "deletable": false,
    "id": "vYDw5u_K_Zcu"
   },
   "outputs": [
    {
     "data": {
      "text/plain": [
       "15945"
      ]
     },
     "execution_count": 27,
     "metadata": {},
     "output_type": "execute_result"
    }
   ],
   "source": [
    "number_tracks('Friday', 'Moscow')# количество прослушиваний в Москве по пятницам"
   ]
  },
  {
   "cell_type": "code",
   "execution_count": 28,
   "metadata": {
    "deletable": false,
    "id": "8_yzFtW3_Zcu"
   },
   "outputs": [],
   "source": [
    "# количество прослушиваний в Санкт-Петербурге по пятницам"
   ]
  },
  {
   "cell_type": "code",
   "execution_count": 29,
   "metadata": {},
   "outputs": [
    {
     "data": {
      "text/plain": [
       "5895"
      ]
     },
     "execution_count": 29,
     "metadata": {},
     "output_type": "execute_result"
    }
   ],
   "source": [
    "number_tracks('Friday', 'Saint-Petersburg')"
   ]
  },
  {
   "cell_type": "markdown",
   "metadata": {
    "deletable": false,
    "editable": false,
    "id": "7QXffbO-_Zcu",
    "tags": [
     "start_task"
    ]
   },
   "source": [
    "**Задание 22**\n",
    "\n",
    "Создайте c помощью конструктора `pd.DataFrame` таблицу, где\n",
    "* названия колонок — `['city', 'monday', 'wednesday', 'friday']`;\n",
    "* данные — результаты, которые вы получили с помощью `number_tracks`."
   ]
  },
  {
   "cell_type": "code",
   "execution_count": 30,
   "metadata": {
    "deletable": false,
    "id": "APAcLpOr_Zcu"
   },
   "outputs": [],
   "source": [
    "# Таблица с результатами"
   ]
  },
  {
   "cell_type": "code",
   "execution_count": 31,
   "metadata": {},
   "outputs": [
    {
     "data": {
      "text/html": [
       "<div>\n",
       "<style scoped>\n",
       "    .dataframe tbody tr th:only-of-type {\n",
       "        vertical-align: middle;\n",
       "    }\n",
       "\n",
       "    .dataframe tbody tr th {\n",
       "        vertical-align: top;\n",
       "    }\n",
       "\n",
       "    .dataframe thead th {\n",
       "        text-align: right;\n",
       "    }\n",
       "</style>\n",
       "<table border=\"1\" class=\"dataframe\">\n",
       "  <thead>\n",
       "    <tr style=\"text-align: right;\">\n",
       "      <th></th>\n",
       "      <th>city</th>\n",
       "      <th>monday</th>\n",
       "      <th>wednesday</th>\n",
       "      <th>friday</th>\n",
       "    </tr>\n",
       "  </thead>\n",
       "  <tbody>\n",
       "    <tr>\n",
       "      <th>0</th>\n",
       "      <td>Москва</td>\n",
       "      <td>15740</td>\n",
       "      <td>11056</td>\n",
       "      <td>15945</td>\n",
       "    </tr>\n",
       "    <tr>\n",
       "      <th>1</th>\n",
       "      <td>Санкт-Петербург</td>\n",
       "      <td>5614</td>\n",
       "      <td>7003</td>\n",
       "      <td>5895</td>\n",
       "    </tr>\n",
       "  </tbody>\n",
       "</table>\n",
       "</div>"
      ],
      "text/plain": [
       "              city  monday  wednesday  friday\n",
       "0           Москва   15740      11056   15945\n",
       "1  Санкт-Петербург    5614       7003    5895"
      ]
     },
     "execution_count": 31,
     "metadata": {},
     "output_type": "execute_result"
    }
   ],
   "source": [
    "info = pd.DataFrame(data=[['Москва',15740, 11056, 15945], ['Санкт-Петербург', 5614, 7003, 5895]], columns=['city', 'monday', 'wednesday', 'friday'])\n",
    "info "
   ]
  },
  {
   "cell_type": "markdown",
   "metadata": {
    "deletable": false,
    "editable": false,
    "id": "-EgPIHYu_Zcu"
   },
   "source": [
    "**Выводы**\n",
    "\n",
    "Данные показывают разницу поведения пользователей:\n",
    "\n",
    "- В Москве пик прослушиваний приходится на понедельник и пятницу, а в среду заметен спад.\n",
    "- В Петербурге, наоборот, больше слушают музыку по средам. Активность в понедельник и пятницу здесь почти в равной мере уступает среде.\n",
    "\n",
    "Значит, данные говорят в пользу первой гипотезы."
   ]
  },
  {
   "cell_type": "markdown",
   "metadata": {
    "deletable": false,
    "editable": false,
    "id": "atZAxtq4_Zcu"
   },
   "source": [
    "### Музыка в начале и в конце недели"
   ]
  },
  {
   "cell_type": "markdown",
   "metadata": {
    "deletable": false,
    "editable": false,
    "id": "eXrQqXFH_Zcu"
   },
   "source": [
    "Согласно второй гипотезе, утром в понедельник в Москве преобладают одни жанры, а в Петербурге — другие. Так же и вечером пятницы преобладают разные жанры — в зависимости от города."
   ]
  },
  {
   "cell_type": "markdown",
   "metadata": {
    "deletable": false,
    "editable": false,
    "id": "S8UcW6Hw_Zcu",
    "tags": [
     "start_task"
    ]
   },
   "source": [
    "**Задание 23**\n",
    "\n",
    "Сохраните таблицы с данными в две переменные:\n",
    "* по Москве — в `moscow_general`;\n",
    "* по Санкт-Петербургу — в `spb_general`."
   ]
  },
  {
   "cell_type": "code",
   "execution_count": 32,
   "metadata": {
    "deletable": false,
    "id": "qeaFfM_P_Zcu"
   },
   "outputs": [],
   "source": [
    "# получение таблицы moscow_general из тех строк таблицы df, \n",
    "# для которых значение в столбце 'city' равно 'Moscow'\n"
   ]
  },
  {
   "cell_type": "code",
   "execution_count": 33,
   "metadata": {},
   "outputs": [],
   "source": [
    "moscow_general = df[df['city'] == 'Moscow']\n"
   ]
  },
  {
   "cell_type": "code",
   "execution_count": 34,
   "metadata": {
    "deletable": false,
    "id": "ORaVRKto_Zcu"
   },
   "outputs": [],
   "source": [
    "# получение таблицы spb_general из тех строк таблицы df,\n",
    "# для которых значение в столбце 'city' равно 'Saint-Petersburg'\n"
   ]
  },
  {
   "cell_type": "code",
   "execution_count": 35,
   "metadata": {},
   "outputs": [],
   "source": [
    "spb_general = df[df['city'] == 'Saint-Petersburg'] "
   ]
  },
  {
   "cell_type": "markdown",
   "metadata": {
    "deletable": false,
    "editable": false,
    "id": "MEJV-CX2_Zcu",
    "tags": [
     "start_task"
    ]
   },
   "source": [
    "**Задание 24**\n",
    "\n",
    "Создайте функцию `genre_weekday()` с четырьмя параметрами:\n",
    "* таблица (датафрейм) с данными,\n",
    "* день недели,\n",
    "* начальная временная метка в формате 'hh:mm', \n",
    "* последняя временная метка в формате 'hh:mm'.\n",
    "\n",
    "Функция должна вернуть информацию о топ-10 жанров тех треков, которые прослушивали в указанный день, в промежутке между двумя отметками времени."
   ]
  },
  {
   "cell_type": "code",
   "execution_count": 36,
   "metadata": {
    "deletable": false,
    "id": "laJT9BYl_Zcu"
   },
   "outputs": [],
   "source": [
    "# Объявление функции genre_weekday() с параметрами table, day, time1, time2,\n",
    "# которая возвращает информацию о самых популярных жанрах в указанный день в\n",
    "# заданное время:\n",
    "# 1) в переменную genre_df сохраняются те строки переданного датафрейма table, для\n",
    "#    которых одновременно:\n",
    "#    - значение в столбце day равно значению аргумента day\n",
    "#    - значение в столбце time больше значения аргумента time1\n",
    "#    - значение в столбце time меньше значения аргумента time2\n",
    "#    Используйте последовательную фильтрацию с помощью логической индексации.\n",
    "# 2) сгруппировать датафрейм genre_df по столбцу genre, взять один из его\n",
    "#    столбцов и посчитать методом count() количество записей для каждого из\n",
    "#    присутствующих жанров, получившийся Series записать в переменную\n",
    "#    genre_df_count\n",
    "# 3) отсортировать genre_df_count по убыванию встречаемости и сохранить\n",
    "#    в переменную genre_df_sorted\n",
    "# 4) вернуть Series из 10 первых значений genre_df_sorted, это будут топ-10\n",
    "#    популярных жанров (в указанный день, в заданное время)\n",
    "\n",
    "def genre_weekday(df, day, time1, time2):\n",
    "    # последовательная фильтрация\n",
    "    # оставляем в genre_df только те строки df, у которых день равен day\n",
    "    genre_df = df[df['day'] == day]# ваш код здесь\n",
    "    # оставляем в genre_df только те строки genre_df, у которых время меньше time2\n",
    "    genre_df = genre_df[genre_df['time'] < time2]# ваш код здесь\n",
    "    # оставляем в genre_df только те строки genre_df, у которых время больше time1\n",
    "    genre_df = genre_df[genre_df['time'] > time1]# ваш код здесь\n",
    "    # сгруппируем отфильтрованный датафрейм по столбцу с названиями жанров, возьмём столбец genre и посчитаем кол-во строк для каждого жанра методом count()\n",
    "    genre_df_grouped =  genre_df.groupby('genre') ['genre'].count()# ваш код здесь\n",
    "    # отсортируем результат по убыванию (чтобы в начале Series оказались самые популярные жанры)\n",
    "    genre_df_sorted =  genre_df_grouped.sort_values(ascending=False)# ваш код здесь\n",
    "    # вернём Series с 10 самыми популярными жанрами в указанный отрезок времени заданного дня\n",
    "    return genre_df_sorted[:10]"
   ]
  },
  {
   "cell_type": "markdown",
   "metadata": {
    "deletable": false,
    "editable": false,
    "id": "la2s2_PF_Zcu",
    "tags": [
     "start_task"
    ]
   },
   "source": [
    "**Задание 25**\n",
    "\n",
    "\n",
    "Cравните результаты функции `genre_weekday()` для Москвы и Санкт-Петербурга в понедельник утром (с 7:00 до 11:00) и в пятницу вечером (с 17:00 до 23:00):"
   ]
  },
  {
   "cell_type": "code",
   "execution_count": 37,
   "metadata": {
    "deletable": false,
    "id": "yz7itPUQ_Zcu"
   },
   "outputs": [],
   "source": [
    "# вызов функции для утра понедельника в Москве (вместо df — таблица moscow_general)\n",
    "# объекты, хранящие время, являются строками и сравниваются как строки\n",
    "# пример вызова: genre_weekday(moscow_general, 'Monday', '07:00', '11:00')"
   ]
  },
  {
   "cell_type": "code",
   "execution_count": 38,
   "metadata": {},
   "outputs": [
    {
     "data": {
      "text/plain": [
       "genre\n",
       "pop            781\n",
       "dance          549\n",
       "electronic     480\n",
       "rock           474\n",
       "hiphop         286\n",
       "ruspop         186\n",
       "world          181\n",
       "rusrap         175\n",
       "alternative    164\n",
       "unknown        161\n",
       "Name: genre, dtype: int64"
      ]
     },
     "execution_count": 38,
     "metadata": {},
     "output_type": "execute_result"
    }
   ],
   "source": [
    "genre_weekday(moscow_general, 'Monday', '07:00', '11:00')"
   ]
  },
  {
   "cell_type": "code",
   "execution_count": 39,
   "metadata": {
    "deletable": false,
    "id": "kwUcHPdy_Zcu"
   },
   "outputs": [],
   "source": [
    "# вызов функции для утра понедельника в Петербурге (вместо df — таблица spb_general)"
   ]
  },
  {
   "cell_type": "code",
   "execution_count": 40,
   "metadata": {},
   "outputs": [
    {
     "data": {
      "text/plain": [
       "genre\n",
       "pop            218\n",
       "dance          182\n",
       "rock           162\n",
       "electronic     147\n",
       "hiphop          80\n",
       "ruspop          64\n",
       "alternative     58\n",
       "rusrap          55\n",
       "jazz            44\n",
       "classical       40\n",
       "Name: genre, dtype: int64"
      ]
     },
     "execution_count": 40,
     "metadata": {},
     "output_type": "execute_result"
    }
   ],
   "source": [
    "genre_weekday(spb_general, 'Monday', '07:00', '11:00')"
   ]
  },
  {
   "cell_type": "code",
   "execution_count": 41,
   "metadata": {
    "deletable": false,
    "id": "EzXVRE1o_Zcu"
   },
   "outputs": [],
   "source": [
    "# вызов функции для вечера пятницы в Москве"
   ]
  },
  {
   "cell_type": "code",
   "execution_count": 42,
   "metadata": {},
   "outputs": [
    {
     "data": {
      "text/plain": [
       "genre\n",
       "pop            713\n",
       "rock           517\n",
       "dance          495\n",
       "electronic     482\n",
       "hiphop         273\n",
       "world          208\n",
       "ruspop         170\n",
       "alternative    163\n",
       "classical      163\n",
       "rusrap         142\n",
       "Name: genre, dtype: int64"
      ]
     },
     "execution_count": 42,
     "metadata": {},
     "output_type": "execute_result"
    }
   ],
   "source": [
    "genre_weekday(moscow_general, 'Friday', '17:00', '23:00')"
   ]
  },
  {
   "cell_type": "code",
   "execution_count": 43,
   "metadata": {
    "deletable": false,
    "id": "JZaEKu5v_Zcu"
   },
   "outputs": [],
   "source": [
    "# вызов функции для вечера пятницы в Петербурге"
   ]
  },
  {
   "cell_type": "code",
   "execution_count": 44,
   "metadata": {},
   "outputs": [
    {
     "data": {
      "text/plain": [
       "genre\n",
       "pop            256\n",
       "electronic     216\n",
       "rock           216\n",
       "dance          210\n",
       "hiphop          97\n",
       "alternative     63\n",
       "jazz            61\n",
       "classical       60\n",
       "rusrap          59\n",
       "world           54\n",
       "Name: genre, dtype: int64"
      ]
     },
     "execution_count": 44,
     "metadata": {},
     "output_type": "execute_result"
    }
   ],
   "source": [
    "genre_weekday(spb_general, 'Friday', '17:00', '23:00')"
   ]
  },
  {
   "cell_type": "markdown",
   "metadata": {
    "deletable": false,
    "editable": false,
    "id": "wrCe4MNX_Zcu"
   },
   "source": [
    "**Выводы**\n",
    "\n",
    "Если сравнить топ-10 жанров в понедельник утром, можно сделать такие выводы:\n",
    "\n",
    "1. В Москве и Петербурге слушают похожую музыку. Единственное отличие — в московский рейтинг вошёл жанр “world”, а в петербургский — джаз и классика.\n",
    "\n",
    "2. В Москве пропущенных значений оказалось так много, что значение `'unknown'` заняло десятое место среди самых популярных жанров. Значит, пропущенные значения занимают существенную долю в данных и угрожают достоверности исследования.\n",
    "\n",
    "Вечер пятницы не меняет эту картину. Некоторые жанры поднимаются немного выше, другие спускаются, но в целом топ-10 остаётся тем же самым.\n",
    "\n",
    "Таким образом, вторая гипотеза подтвердилась лишь частично:\n",
    "* Пользователи слушают похожую музыку в начале недели и в конце.\n",
    "* Разница между Москвой и Петербургом не слишком выражена. В Москве чаще слушают русскую популярную музыку, в Петербурге — джаз.\n",
    "\n",
    "Однако пропуски в данных ставят под сомнение этот результат. В Москве их так много, что рейтинг топ-10 мог бы выглядеть иначе, если бы не утерянные  данные о жанрах."
   ]
  },
  {
   "cell_type": "markdown",
   "metadata": {
    "deletable": false,
    "editable": false,
    "id": "JolODAqr_Zcu"
   },
   "source": [
    "### Жанровые предпочтения в Москве и Петербурге\n",
    "\n",
    "Гипотеза: Петербург — столица рэпа, музыку этого жанра там слушают чаще, чем в Москве.  А Москва — город контрастов, в котором, тем не менее, преобладает поп-музыка."
   ]
  },
  {
   "cell_type": "markdown",
   "metadata": {
    "deletable": false,
    "editable": false,
    "id": "DlegSvaT_Zcu",
    "tags": [
     "start_task"
    ]
   },
   "source": [
    "**Задание 26**\n",
    "\n",
    "Сгруппируйте таблицу `moscow_general` по жанру и посчитайте прослушивания треков каждого жанра методом `count()`. Затем отсортируйте результат в порядке убывания и сохраните его в таблице `moscow_genres`."
   ]
  },
  {
   "cell_type": "code",
   "execution_count": 45,
   "metadata": {
    "deletable": false,
    "id": "r19lIPke_Zcu"
   },
   "outputs": [],
   "source": [
    "# одной строкой: группировка таблицы moscow_general по столбцу 'genre', \n",
    "# подсчёт числа значений 'genre' в этой группировке методом count(), \n",
    "# сортировка получившегося Series в порядке убывания и сохранение в moscow_genres"
   ]
  },
  {
   "cell_type": "code",
   "execution_count": 46,
   "metadata": {},
   "outputs": [],
   "source": [
    "moscow_genres = moscow_general.groupby ('genre') ['genre'].count().sort_values(ascending=False)\n"
   ]
  },
  {
   "cell_type": "markdown",
   "metadata": {
    "deletable": false,
    "editable": false,
    "id": "6kMuomxTiIr8",
    "tags": [
     "start_task"
    ]
   },
   "source": [
    "**Задание 27**\n",
    "\n",
    "Выведите на экран первые десять строк `moscow_genres`:"
   ]
  },
  {
   "cell_type": "code",
   "execution_count": 47,
   "metadata": {
    "deletable": false,
    "id": "WhCSooF8_Zcv"
   },
   "outputs": [
    {
     "data": {
      "text/plain": [
       "genre\n",
       "pop            5892\n",
       "dance          4435\n",
       "rock           3965\n",
       "electronic     3786\n",
       "hiphop         2096\n",
       "classical      1616\n",
       "world          1432\n",
       "alternative    1379\n",
       "ruspop         1372\n",
       "rusrap         1161\n",
       "Name: genre, dtype: int64"
      ]
     },
     "execution_count": 47,
     "metadata": {},
     "output_type": "execute_result"
    }
   ],
   "source": [
    "moscow_genres.head(10)# просмотр первых 10 строк moscow_genres"
   ]
  },
  {
   "cell_type": "markdown",
   "metadata": {
    "deletable": false,
    "editable": false,
    "id": "cnPG2vnN_Zcv",
    "tags": [
     "start_task"
    ]
   },
   "source": [
    "**Задание 28**\n",
    "\n",
    "\n",
    "Теперь повторите то же и для Петербурга.\n",
    "\n",
    "Сгруппируйте таблицу `spb_general` по жанру. Посчитайте прослушивания треков каждого жанра. Результат отсортируйте в порядке убывания и сохраните в таблице `spb_genres`:\n"
   ]
  },
  {
   "cell_type": "code",
   "execution_count": 48,
   "metadata": {
    "deletable": false,
    "id": "gluLIpE7_Zcv"
   },
   "outputs": [],
   "source": [
    "# одной строкой: группировка таблицы spb_general по столбцу 'genre', \n",
    "# подсчёт числа значений 'genre' в этой группировке методом count(), \n",
    "# сортировка получившегося Series в порядке убывания и сохранение в spb_genres"
   ]
  },
  {
   "cell_type": "code",
   "execution_count": 49,
   "metadata": {},
   "outputs": [],
   "source": [
    "spb_genres = spb_general.groupby('genre')['genre'].count().sort_values(ascending=False)"
   ]
  },
  {
   "cell_type": "markdown",
   "metadata": {
    "deletable": false,
    "editable": false,
    "id": "5Doha_ODgyQ8",
    "tags": [
     "start_task"
    ]
   },
   "source": [
    "**Задание 29**\n",
    "\n",
    "Выведите на экран первые десять строк `spb_genres`:"
   ]
  },
  {
   "cell_type": "code",
   "execution_count": 50,
   "metadata": {
    "deletable": false,
    "id": "uaGJHjVU_Zcv"
   },
   "outputs": [],
   "source": [
    "# просмотр первых 10 строк spb_genres"
   ]
  },
  {
   "cell_type": "code",
   "execution_count": 51,
   "metadata": {},
   "outputs": [
    {
     "data": {
      "text/plain": [
       "genre\n",
       "pop            2431\n",
       "dance          1932\n",
       "rock           1879\n",
       "electronic     1736\n",
       "hiphop          960\n",
       "alternative     649\n",
       "classical       646\n",
       "rusrap          564\n",
       "ruspop          538\n",
       "world           515\n",
       "Name: genre, dtype: int64"
      ]
     },
     "execution_count": 51,
     "metadata": {},
     "output_type": "execute_result"
    }
   ],
   "source": [
    "spb_genres.head(10)"
   ]
  },
  {
   "cell_type": "markdown",
   "metadata": {
    "deletable": false,
    "editable": false,
    "id": "RY51YJYu_Zcv"
   },
   "source": [
    "**Выводы**"
   ]
  },
  {
   "cell_type": "markdown",
   "metadata": {
    "deletable": false,
    "editable": false,
    "id": "nVhnJEm__Zcv"
   },
   "source": [
    "Гипотеза частично подтвердилась:\n",
    "* Поп-музыка — самый популярный жанр в Москве, как и предполагала гипотеза. Более того, в топ-10 жанров встречается близкий жанр — русская популярная музыка.\n",
    "* Вопреки ожиданиям, рэп одинаково популярен в Москве и Петербурге. \n"
   ]
  },
  {
   "cell_type": "markdown",
   "metadata": {
    "deletable": false,
    "editable": false,
    "id": "ykKQ0N65_Zcv"
   },
   "source": [
    "## Итоги исследования"
   ]
  },
  {
   "cell_type": "markdown",
   "metadata": {
    "deletable": false,
    "editable": false,
    "id": "tjUwbHb3_Zcv"
   },
   "source": [
    "Вы проверили три гипотезы и установили:\n",
    "\n",
    "1. День недели по-разному влияет на активность пользователей в Москве и Петербурге. \n",
    "\n",
    "Первая гипотеза полностью подтвердилась.\n",
    "\n",
    "2. Музыкальные предпочтения не сильно меняются в течение недели — будь то Москва или Петербург. Небольшие различия заметны в начале недели, по понедельникам:\n",
    "* в Москве слушают музыку жанра “world”,\n",
    "* в Петербурге — джаз и классику.\n",
    "\n",
    "Таким образом, вторая гипотеза подтвердилась лишь отчасти. Этот результат мог оказаться иным, если бы не пропуски в данных.\n",
    "\n",
    "3. Во вкусах пользователей Москвы и Петербурга больше общего чем различий. Вопреки ожиданиям, предпочтения жанров в Петербурге напоминают московские.\n",
    "\n",
    "Третья гипотеза не подтвердилась. Если различия в предпочтениях и существуют, на основной массе пользователей они незаметны.\n",
    "\n",
    "**На практике исследования содержат проверки статистических гипотез.**\n",
    "Из данных одного сервиса не всегда можно сделать вывод о всех жителях города.\n",
    "Проверки статистических гипотез покажут, насколько они достоверны, исходя из имеющихся данных. \n",
    "С методами проверок гипотез вы ещё познакомитесь в следующих темах."
   ]
  }
 ],
 "metadata": {
  "ExecuteTimeLog": [
   {
    "duration": 408,
    "start_time": "2023-01-20T18:56:51.847Z"
   },
   {
    "duration": 207,
    "start_time": "2023-01-20T19:00:14.949Z"
   },
   {
    "duration": 26,
    "start_time": "2023-01-20T19:01:04.330Z"
   },
   {
    "duration": 55,
    "start_time": "2023-01-20T19:03:29.389Z"
   },
   {
    "duration": 5,
    "start_time": "2023-01-20T19:18:06.890Z"
   },
   {
    "duration": 12,
    "start_time": "2023-01-20T19:29:59.756Z"
   },
   {
    "duration": 4,
    "start_time": "2023-01-20T19:30:59.066Z"
   },
   {
    "duration": 23,
    "start_time": "2023-01-20T19:33:10.064Z"
   },
   {
    "duration": 21,
    "start_time": "2023-01-20T19:44:33.385Z"
   },
   {
    "duration": 25,
    "start_time": "2023-01-20T19:45:33.976Z"
   },
   {
    "duration": 98,
    "start_time": "2023-01-20T19:47:09.270Z"
   },
   {
    "duration": 65,
    "start_time": "2023-01-20T19:47:45.563Z"
   },
   {
    "duration": 91,
    "start_time": "2023-01-20T19:49:11.201Z"
   },
   {
    "duration": 76,
    "start_time": "2023-01-20T19:50:13.530Z"
   },
   {
    "duration": 92,
    "start_time": "2023-01-20T19:55:11.395Z"
   },
   {
    "duration": 83,
    "start_time": "2023-01-20T19:58:32.887Z"
   },
   {
    "duration": 56,
    "start_time": "2023-01-20T19:59:40.794Z"
   },
   {
    "duration": 6,
    "start_time": "2023-01-20T20:01:18.130Z"
   },
   {
    "duration": 53,
    "start_time": "2023-01-20T20:01:36.406Z"
   },
   {
    "duration": 8,
    "start_time": "2023-01-20T20:08:54.838Z"
   },
   {
    "duration": 45,
    "start_time": "2023-01-20T20:09:09.158Z"
   },
   {
    "duration": 7,
    "start_time": "2023-01-20T20:09:49.508Z"
   },
   {
    "duration": 50,
    "start_time": "2023-01-20T20:10:01.706Z"
   },
   {
    "duration": 8,
    "start_time": "2023-01-20T20:11:21.228Z"
   },
   {
    "duration": 413,
    "start_time": "2023-01-20T20:29:23.165Z"
   },
   {
    "duration": 201,
    "start_time": "2023-01-20T20:29:23.580Z"
   },
   {
    "duration": 21,
    "start_time": "2023-01-20T20:29:23.783Z"
   },
   {
    "duration": 31,
    "start_time": "2023-01-20T20:29:23.806Z"
   },
   {
    "duration": 4,
    "start_time": "2023-01-20T20:29:23.838Z"
   },
   {
    "duration": 7,
    "start_time": "2023-01-20T20:29:23.843Z"
   },
   {
    "duration": 22,
    "start_time": "2023-01-20T20:29:23.852Z"
   },
   {
    "duration": 10,
    "start_time": "2023-01-20T20:29:23.876Z"
   },
   {
    "duration": 34,
    "start_time": "2023-01-20T20:29:23.888Z"
   },
   {
    "duration": 29,
    "start_time": "2023-01-20T20:29:23.924Z"
   },
   {
    "duration": 31,
    "start_time": "2023-01-20T20:29:23.955Z"
   },
   {
    "duration": 79,
    "start_time": "2023-01-20T20:29:23.987Z"
   },
   {
    "duration": 107,
    "start_time": "2023-01-20T20:29:24.067Z"
   },
   {
    "duration": 2,
    "start_time": "2023-01-20T20:29:24.176Z"
   },
   {
    "duration": 19,
    "start_time": "2023-01-20T20:29:24.182Z"
   },
   {
    "duration": 12,
    "start_time": "2023-01-20T20:29:24.204Z"
   },
   {
    "duration": 13,
    "start_time": "2023-01-20T20:29:24.219Z"
   },
   {
    "duration": 13,
    "start_time": "2023-01-20T20:29:24.236Z"
   },
   {
    "duration": 18,
    "start_time": "2023-01-20T20:29:24.252Z"
   },
   {
    "duration": 17,
    "start_time": "2023-01-20T20:29:24.272Z"
   },
   {
    "duration": 17,
    "start_time": "2023-01-20T20:29:24.292Z"
   },
   {
    "duration": 14,
    "start_time": "2023-01-20T20:29:24.311Z"
   },
   {
    "duration": 6,
    "start_time": "2023-01-20T20:29:24.328Z"
   },
   {
    "duration": 7,
    "start_time": "2023-01-20T20:29:24.336Z"
   },
   {
    "duration": 17,
    "start_time": "2023-01-20T20:29:24.344Z"
   },
   {
    "duration": 9,
    "start_time": "2023-01-20T20:29:24.363Z"
   },
   {
    "duration": 9,
    "start_time": "2023-01-20T20:29:24.374Z"
   },
   {
    "duration": 4,
    "start_time": "2023-01-20T20:29:24.386Z"
   },
   {
    "duration": 7,
    "start_time": "2023-01-20T20:29:24.391Z"
   },
   {
    "duration": 67,
    "start_time": "2023-01-20T20:29:24.400Z"
   },
   {
    "duration": 0,
    "start_time": "2023-01-20T20:29:24.469Z"
   },
   {
    "duration": 0,
    "start_time": "2023-01-20T20:29:24.470Z"
   },
   {
    "duration": 0,
    "start_time": "2023-01-20T20:29:24.473Z"
   },
   {
    "duration": 0,
    "start_time": "2023-01-20T20:29:24.474Z"
   },
   {
    "duration": 0,
    "start_time": "2023-01-20T20:29:24.476Z"
   },
   {
    "duration": 0,
    "start_time": "2023-01-20T20:29:24.477Z"
   },
   {
    "duration": 0,
    "start_time": "2023-01-20T20:29:24.480Z"
   },
   {
    "duration": 0,
    "start_time": "2023-01-20T20:29:24.481Z"
   },
   {
    "duration": 74,
    "start_time": "2023-01-20T20:32:46.156Z"
   },
   {
    "duration": 69,
    "start_time": "2023-01-20T20:32:53.899Z"
   },
   {
    "duration": 62,
    "start_time": "2023-01-20T20:35:15.552Z"
   },
   {
    "duration": 47,
    "start_time": "2023-01-21T07:06:04.801Z"
   },
   {
    "duration": 6,
    "start_time": "2023-01-21T07:06:23.655Z"
   },
   {
    "duration": 411,
    "start_time": "2023-01-21T07:06:40.558Z"
   },
   {
    "duration": 238,
    "start_time": "2023-01-21T07:06:40.971Z"
   },
   {
    "duration": 17,
    "start_time": "2023-01-21T07:06:41.210Z"
   },
   {
    "duration": 30,
    "start_time": "2023-01-21T07:06:41.229Z"
   },
   {
    "duration": 2,
    "start_time": "2023-01-21T07:06:41.260Z"
   },
   {
    "duration": 6,
    "start_time": "2023-01-21T07:06:41.264Z"
   },
   {
    "duration": 14,
    "start_time": "2023-01-21T07:06:41.272Z"
   },
   {
    "duration": 7,
    "start_time": "2023-01-21T07:06:41.287Z"
   },
   {
    "duration": 26,
    "start_time": "2023-01-21T07:06:41.295Z"
   },
   {
    "duration": 40,
    "start_time": "2023-01-21T07:06:41.325Z"
   },
   {
    "duration": 25,
    "start_time": "2023-01-21T07:06:41.367Z"
   },
   {
    "duration": 82,
    "start_time": "2023-01-21T07:06:41.394Z"
   },
   {
    "duration": 84,
    "start_time": "2023-01-21T07:06:41.479Z"
   },
   {
    "duration": 62,
    "start_time": "2023-01-21T07:06:41.565Z"
   },
   {
    "duration": 8,
    "start_time": "2023-01-21T07:06:41.629Z"
   },
   {
    "duration": 2,
    "start_time": "2023-01-21T07:06:41.654Z"
   },
   {
    "duration": 4,
    "start_time": "2023-01-21T07:06:41.658Z"
   },
   {
    "duration": 4,
    "start_time": "2023-01-21T07:06:41.664Z"
   },
   {
    "duration": 4,
    "start_time": "2023-01-21T07:06:41.669Z"
   },
   {
    "duration": 5,
    "start_time": "2023-01-21T07:06:41.674Z"
   },
   {
    "duration": 7,
    "start_time": "2023-01-21T07:06:41.680Z"
   },
   {
    "duration": 5,
    "start_time": "2023-01-21T07:06:41.688Z"
   },
   {
    "duration": 4,
    "start_time": "2023-01-21T07:06:41.694Z"
   },
   {
    "duration": 8,
    "start_time": "2023-01-21T07:06:41.699Z"
   },
   {
    "duration": 8,
    "start_time": "2023-01-21T07:06:41.708Z"
   },
   {
    "duration": 4,
    "start_time": "2023-01-21T07:06:41.717Z"
   },
   {
    "duration": 3,
    "start_time": "2023-01-21T07:06:41.723Z"
   },
   {
    "duration": 24,
    "start_time": "2023-01-21T07:06:41.729Z"
   },
   {
    "duration": 2,
    "start_time": "2023-01-21T07:06:41.755Z"
   },
   {
    "duration": 75,
    "start_time": "2023-01-21T07:06:41.758Z"
   },
   {
    "duration": 0,
    "start_time": "2023-01-21T07:06:41.834Z"
   },
   {
    "duration": 0,
    "start_time": "2023-01-21T07:06:41.835Z"
   },
   {
    "duration": 0,
    "start_time": "2023-01-21T07:06:41.836Z"
   },
   {
    "duration": 0,
    "start_time": "2023-01-21T07:06:41.837Z"
   },
   {
    "duration": 0,
    "start_time": "2023-01-21T07:06:41.838Z"
   },
   {
    "duration": 0,
    "start_time": "2023-01-21T07:06:41.839Z"
   },
   {
    "duration": 0,
    "start_time": "2023-01-21T07:06:41.840Z"
   },
   {
    "duration": 0,
    "start_time": "2023-01-21T07:06:41.842Z"
   },
   {
    "duration": 72,
    "start_time": "2023-01-21T07:08:27.229Z"
   },
   {
    "duration": 76,
    "start_time": "2023-01-21T07:17:52.222Z"
   },
   {
    "duration": 7,
    "start_time": "2023-01-21T07:18:23.998Z"
   },
   {
    "duration": 8,
    "start_time": "2023-01-21T07:18:31.629Z"
   },
   {
    "duration": 45,
    "start_time": "2023-01-21T07:18:46.551Z"
   },
   {
    "duration": 448,
    "start_time": "2023-01-21T07:20:16.837Z"
   },
   {
    "duration": 188,
    "start_time": "2023-01-21T07:20:17.288Z"
   },
   {
    "duration": 22,
    "start_time": "2023-01-21T07:20:17.478Z"
   },
   {
    "duration": 55,
    "start_time": "2023-01-21T07:20:17.502Z"
   },
   {
    "duration": 6,
    "start_time": "2023-01-21T07:20:17.559Z"
   },
   {
    "duration": 18,
    "start_time": "2023-01-21T07:20:17.566Z"
   },
   {
    "duration": 12,
    "start_time": "2023-01-21T07:20:17.586Z"
   },
   {
    "duration": 7,
    "start_time": "2023-01-21T07:20:17.599Z"
   },
   {
    "duration": 25,
    "start_time": "2023-01-21T07:20:17.607Z"
   },
   {
    "duration": 32,
    "start_time": "2023-01-21T07:20:17.635Z"
   },
   {
    "duration": 25,
    "start_time": "2023-01-21T07:20:17.669Z"
   },
   {
    "duration": 78,
    "start_time": "2023-01-21T07:20:17.696Z"
   },
   {
    "duration": 65,
    "start_time": "2023-01-21T07:20:17.776Z"
   },
   {
    "duration": 62,
    "start_time": "2023-01-21T07:20:17.843Z"
   },
   {
    "duration": 80,
    "start_time": "2023-01-21T07:20:17.907Z"
   },
   {
    "duration": 3,
    "start_time": "2023-01-21T07:20:17.988Z"
   },
   {
    "duration": 6,
    "start_time": "2023-01-21T07:20:17.992Z"
   },
   {
    "duration": 5,
    "start_time": "2023-01-21T07:20:17.999Z"
   },
   {
    "duration": 5,
    "start_time": "2023-01-21T07:20:18.005Z"
   },
   {
    "duration": 6,
    "start_time": "2023-01-21T07:20:18.011Z"
   },
   {
    "duration": 8,
    "start_time": "2023-01-21T07:20:18.018Z"
   },
   {
    "duration": 7,
    "start_time": "2023-01-21T07:20:18.027Z"
   },
   {
    "duration": 8,
    "start_time": "2023-01-21T07:20:18.035Z"
   },
   {
    "duration": 7,
    "start_time": "2023-01-21T07:20:18.044Z"
   },
   {
    "duration": 14,
    "start_time": "2023-01-21T07:20:18.053Z"
   },
   {
    "duration": 17,
    "start_time": "2023-01-21T07:20:18.069Z"
   },
   {
    "duration": 7,
    "start_time": "2023-01-21T07:20:18.087Z"
   },
   {
    "duration": 5,
    "start_time": "2023-01-21T07:20:18.097Z"
   },
   {
    "duration": 6,
    "start_time": "2023-01-21T07:20:18.103Z"
   },
   {
    "duration": 74,
    "start_time": "2023-01-21T07:20:18.110Z"
   },
   {
    "duration": 0,
    "start_time": "2023-01-21T07:20:18.186Z"
   },
   {
    "duration": 0,
    "start_time": "2023-01-21T07:20:18.187Z"
   },
   {
    "duration": 0,
    "start_time": "2023-01-21T07:20:18.188Z"
   },
   {
    "duration": 0,
    "start_time": "2023-01-21T07:20:18.189Z"
   },
   {
    "duration": 0,
    "start_time": "2023-01-21T07:20:18.190Z"
   },
   {
    "duration": 0,
    "start_time": "2023-01-21T07:20:18.191Z"
   },
   {
    "duration": 0,
    "start_time": "2023-01-21T07:20:18.193Z"
   },
   {
    "duration": 0,
    "start_time": "2023-01-21T07:20:18.194Z"
   },
   {
    "duration": 8,
    "start_time": "2023-01-21T07:32:42.509Z"
   },
   {
    "duration": 901,
    "start_time": "2023-01-21T07:33:27.803Z"
   },
   {
    "duration": 841,
    "start_time": "2023-01-21T07:34:53.934Z"
   },
   {
    "duration": 3359,
    "start_time": "2023-01-21T07:35:13.513Z"
   },
   {
    "duration": 51,
    "start_time": "2023-01-21T07:35:34.753Z"
   },
   {
    "duration": 46,
    "start_time": "2023-01-21T07:36:13.682Z"
   },
   {
    "duration": 48,
    "start_time": "2023-01-21T07:43:37.917Z"
   },
   {
    "duration": 52,
    "start_time": "2023-01-21T07:45:08.064Z"
   },
   {
    "duration": 91,
    "start_time": "2023-01-21T08:01:11.377Z"
   },
   {
    "duration": 51,
    "start_time": "2023-01-21T08:01:54.507Z"
   },
   {
    "duration": 435,
    "start_time": "2023-01-21T08:02:07.219Z"
   },
   {
    "duration": 158,
    "start_time": "2023-01-21T08:02:07.656Z"
   },
   {
    "duration": 17,
    "start_time": "2023-01-21T08:02:07.816Z"
   },
   {
    "duration": 39,
    "start_time": "2023-01-21T08:02:07.835Z"
   },
   {
    "duration": 2,
    "start_time": "2023-01-21T08:02:07.876Z"
   },
   {
    "duration": 14,
    "start_time": "2023-01-21T08:02:07.879Z"
   },
   {
    "duration": 14,
    "start_time": "2023-01-21T08:02:07.894Z"
   },
   {
    "duration": 10,
    "start_time": "2023-01-21T08:02:07.910Z"
   },
   {
    "duration": 26,
    "start_time": "2023-01-21T08:02:07.921Z"
   },
   {
    "duration": 19,
    "start_time": "2023-01-21T08:02:07.954Z"
   },
   {
    "duration": 24,
    "start_time": "2023-01-21T08:02:07.975Z"
   },
   {
    "duration": 77,
    "start_time": "2023-01-21T08:02:08.000Z"
   },
   {
    "duration": 74,
    "start_time": "2023-01-21T08:02:08.079Z"
   },
   {
    "duration": 72,
    "start_time": "2023-01-21T08:02:08.155Z"
   },
   {
    "duration": 51,
    "start_time": "2023-01-21T08:02:08.229Z"
   },
   {
    "duration": 10,
    "start_time": "2023-01-21T08:02:08.283Z"
   },
   {
    "duration": 7,
    "start_time": "2023-01-21T08:02:08.295Z"
   },
   {
    "duration": 5,
    "start_time": "2023-01-21T08:02:08.303Z"
   },
   {
    "duration": 5,
    "start_time": "2023-01-21T08:02:08.310Z"
   },
   {
    "duration": 12,
    "start_time": "2023-01-21T08:02:08.316Z"
   },
   {
    "duration": 6,
    "start_time": "2023-01-21T08:02:08.330Z"
   },
   {
    "duration": 4,
    "start_time": "2023-01-21T08:02:08.338Z"
   },
   {
    "duration": 5,
    "start_time": "2023-01-21T08:02:08.344Z"
   },
   {
    "duration": 2,
    "start_time": "2023-01-21T08:02:08.353Z"
   },
   {
    "duration": 14,
    "start_time": "2023-01-21T08:02:08.357Z"
   },
   {
    "duration": 6,
    "start_time": "2023-01-21T08:02:08.372Z"
   },
   {
    "duration": 9,
    "start_time": "2023-01-21T08:02:08.379Z"
   },
   {
    "duration": 3,
    "start_time": "2023-01-21T08:02:08.391Z"
   },
   {
    "duration": 6,
    "start_time": "2023-01-21T08:02:08.395Z"
   },
   {
    "duration": 67,
    "start_time": "2023-01-21T08:02:08.402Z"
   },
   {
    "duration": 0,
    "start_time": "2023-01-21T08:02:08.470Z"
   },
   {
    "duration": 0,
    "start_time": "2023-01-21T08:02:08.471Z"
   },
   {
    "duration": 0,
    "start_time": "2023-01-21T08:02:08.472Z"
   },
   {
    "duration": 0,
    "start_time": "2023-01-21T08:02:08.473Z"
   },
   {
    "duration": 0,
    "start_time": "2023-01-21T08:02:08.474Z"
   },
   {
    "duration": 0,
    "start_time": "2023-01-21T08:02:08.475Z"
   },
   {
    "duration": 0,
    "start_time": "2023-01-21T08:02:08.476Z"
   },
   {
    "duration": 0,
    "start_time": "2023-01-21T08:02:08.477Z"
   },
   {
    "duration": 11,
    "start_time": "2023-01-21T08:02:25.386Z"
   },
   {
    "duration": 49,
    "start_time": "2023-01-21T08:08:08.389Z"
   },
   {
    "duration": 50,
    "start_time": "2023-01-21T08:08:29.301Z"
   },
   {
    "duration": 46,
    "start_time": "2023-01-21T08:09:35.609Z"
   },
   {
    "duration": 6,
    "start_time": "2023-01-21T08:09:39.682Z"
   },
   {
    "duration": 424,
    "start_time": "2023-01-21T08:09:50.863Z"
   },
   {
    "duration": 188,
    "start_time": "2023-01-21T08:09:51.289Z"
   },
   {
    "duration": 25,
    "start_time": "2023-01-21T08:09:51.479Z"
   },
   {
    "duration": 50,
    "start_time": "2023-01-21T08:09:51.507Z"
   },
   {
    "duration": 9,
    "start_time": "2023-01-21T08:09:51.559Z"
   },
   {
    "duration": 18,
    "start_time": "2023-01-21T08:09:51.570Z"
   },
   {
    "duration": 28,
    "start_time": "2023-01-21T08:09:51.590Z"
   },
   {
    "duration": 16,
    "start_time": "2023-01-21T08:09:51.620Z"
   },
   {
    "duration": 35,
    "start_time": "2023-01-21T08:09:51.638Z"
   },
   {
    "duration": 45,
    "start_time": "2023-01-21T08:09:51.676Z"
   },
   {
    "duration": 35,
    "start_time": "2023-01-21T08:09:51.722Z"
   },
   {
    "duration": 70,
    "start_time": "2023-01-21T08:09:51.759Z"
   },
   {
    "duration": 79,
    "start_time": "2023-01-21T08:09:51.831Z"
   },
   {
    "duration": 70,
    "start_time": "2023-01-21T08:09:51.912Z"
   },
   {
    "duration": 39,
    "start_time": "2023-01-21T08:09:51.984Z"
   },
   {
    "duration": 32,
    "start_time": "2023-01-21T08:09:52.025Z"
   },
   {
    "duration": 5,
    "start_time": "2023-01-21T08:09:52.059Z"
   },
   {
    "duration": 5,
    "start_time": "2023-01-21T08:09:52.066Z"
   },
   {
    "duration": 5,
    "start_time": "2023-01-21T08:09:52.072Z"
   },
   {
    "duration": 4,
    "start_time": "2023-01-21T08:09:52.079Z"
   },
   {
    "duration": 8,
    "start_time": "2023-01-21T08:09:52.085Z"
   },
   {
    "duration": 15,
    "start_time": "2023-01-21T08:09:52.094Z"
   },
   {
    "duration": 9,
    "start_time": "2023-01-21T08:09:52.111Z"
   },
   {
    "duration": 8,
    "start_time": "2023-01-21T08:09:52.121Z"
   },
   {
    "duration": 7,
    "start_time": "2023-01-21T08:09:52.130Z"
   },
   {
    "duration": 12,
    "start_time": "2023-01-21T08:09:52.138Z"
   },
   {
    "duration": 6,
    "start_time": "2023-01-21T08:09:52.152Z"
   },
   {
    "duration": 8,
    "start_time": "2023-01-21T08:09:52.161Z"
   },
   {
    "duration": 11,
    "start_time": "2023-01-21T08:09:52.170Z"
   },
   {
    "duration": 77,
    "start_time": "2023-01-21T08:09:52.183Z"
   },
   {
    "duration": 0,
    "start_time": "2023-01-21T08:09:52.262Z"
   },
   {
    "duration": 0,
    "start_time": "2023-01-21T08:09:52.263Z"
   },
   {
    "duration": 0,
    "start_time": "2023-01-21T08:09:52.265Z"
   },
   {
    "duration": 0,
    "start_time": "2023-01-21T08:09:52.266Z"
   },
   {
    "duration": 0,
    "start_time": "2023-01-21T08:09:52.266Z"
   },
   {
    "duration": 0,
    "start_time": "2023-01-21T08:09:52.267Z"
   },
   {
    "duration": 0,
    "start_time": "2023-01-21T08:09:52.269Z"
   },
   {
    "duration": 0,
    "start_time": "2023-01-21T08:09:52.270Z"
   },
   {
    "duration": 9,
    "start_time": "2023-01-21T08:10:07.862Z"
   },
   {
    "duration": 1218,
    "start_time": "2023-01-21T08:19:25.575Z"
   },
   {
    "duration": 59,
    "start_time": "2023-01-21T08:21:07.933Z"
   },
   {
    "duration": 410,
    "start_time": "2023-01-21T08:21:17.698Z"
   },
   {
    "duration": 173,
    "start_time": "2023-01-21T08:21:18.110Z"
   },
   {
    "duration": 16,
    "start_time": "2023-01-21T08:21:18.285Z"
   },
   {
    "duration": 44,
    "start_time": "2023-01-21T08:21:18.303Z"
   },
   {
    "duration": 22,
    "start_time": "2023-01-21T08:21:18.349Z"
   },
   {
    "duration": 22,
    "start_time": "2023-01-21T08:21:18.372Z"
   },
   {
    "duration": 25,
    "start_time": "2023-01-21T08:21:18.395Z"
   },
   {
    "duration": 30,
    "start_time": "2023-01-21T08:21:18.422Z"
   },
   {
    "duration": 63,
    "start_time": "2023-01-21T08:21:18.454Z"
   },
   {
    "duration": 42,
    "start_time": "2023-01-21T08:21:18.520Z"
   },
   {
    "duration": 35,
    "start_time": "2023-01-21T08:21:18.563Z"
   },
   {
    "duration": 86,
    "start_time": "2023-01-21T08:21:18.600Z"
   },
   {
    "duration": 73,
    "start_time": "2023-01-21T08:21:18.689Z"
   },
   {
    "duration": 67,
    "start_time": "2023-01-21T08:21:18.764Z"
   },
   {
    "duration": 73,
    "start_time": "2023-01-21T08:21:18.832Z"
   },
   {
    "duration": 12,
    "start_time": "2023-01-21T08:21:18.907Z"
   },
   {
    "duration": 1205,
    "start_time": "2023-01-21T08:21:18.920Z"
   },
   {
    "duration": 0,
    "start_time": "2023-01-21T08:21:20.127Z"
   },
   {
    "duration": 0,
    "start_time": "2023-01-21T08:21:20.128Z"
   },
   {
    "duration": 0,
    "start_time": "2023-01-21T08:21:20.129Z"
   },
   {
    "duration": 0,
    "start_time": "2023-01-21T08:21:20.130Z"
   },
   {
    "duration": 0,
    "start_time": "2023-01-21T08:21:20.131Z"
   },
   {
    "duration": 0,
    "start_time": "2023-01-21T08:21:20.132Z"
   },
   {
    "duration": 0,
    "start_time": "2023-01-21T08:21:20.134Z"
   },
   {
    "duration": 0,
    "start_time": "2023-01-21T08:21:20.135Z"
   },
   {
    "duration": 0,
    "start_time": "2023-01-21T08:21:20.136Z"
   },
   {
    "duration": 0,
    "start_time": "2023-01-21T08:21:20.137Z"
   },
   {
    "duration": 0,
    "start_time": "2023-01-21T08:21:20.139Z"
   },
   {
    "duration": 0,
    "start_time": "2023-01-21T08:21:20.139Z"
   },
   {
    "duration": 0,
    "start_time": "2023-01-21T08:21:20.141Z"
   },
   {
    "duration": 0,
    "start_time": "2023-01-21T08:21:20.142Z"
   },
   {
    "duration": 0,
    "start_time": "2023-01-21T08:21:20.143Z"
   },
   {
    "duration": 0,
    "start_time": "2023-01-21T08:21:20.144Z"
   },
   {
    "duration": 0,
    "start_time": "2023-01-21T08:21:20.145Z"
   },
   {
    "duration": 0,
    "start_time": "2023-01-21T08:21:20.147Z"
   },
   {
    "duration": 0,
    "start_time": "2023-01-21T08:21:20.148Z"
   },
   {
    "duration": 0,
    "start_time": "2023-01-21T08:21:20.151Z"
   },
   {
    "duration": 0,
    "start_time": "2023-01-21T08:21:20.153Z"
   },
   {
    "duration": 1096,
    "start_time": "2023-01-21T08:21:33.603Z"
   },
   {
    "duration": 43,
    "start_time": "2023-01-21T08:23:02.047Z"
   },
   {
    "duration": 3,
    "start_time": "2023-01-21T08:35:41.793Z"
   },
   {
    "duration": 5,
    "start_time": "2023-01-21T08:36:00.547Z"
   },
   {
    "duration": 8,
    "start_time": "2023-01-21T08:36:37.566Z"
   },
   {
    "duration": 83,
    "start_time": "2023-01-21T08:37:16.559Z"
   },
   {
    "duration": 6,
    "start_time": "2023-01-21T08:52:37.838Z"
   },
   {
    "duration": 6,
    "start_time": "2023-01-21T08:52:42.934Z"
   },
   {
    "duration": 48,
    "start_time": "2023-01-21T08:55:16.008Z"
   },
   {
    "duration": 47,
    "start_time": "2023-01-21T08:55:28.253Z"
   },
   {
    "duration": 447,
    "start_time": "2023-01-21T08:55:35.048Z"
   },
   {
    "duration": 197,
    "start_time": "2023-01-21T08:55:35.498Z"
   },
   {
    "duration": 21,
    "start_time": "2023-01-21T08:55:35.696Z"
   },
   {
    "duration": 45,
    "start_time": "2023-01-21T08:55:35.718Z"
   },
   {
    "duration": 2,
    "start_time": "2023-01-21T08:55:35.765Z"
   },
   {
    "duration": 11,
    "start_time": "2023-01-21T08:55:35.769Z"
   },
   {
    "duration": 15,
    "start_time": "2023-01-21T08:55:35.782Z"
   },
   {
    "duration": 9,
    "start_time": "2023-01-21T08:55:35.799Z"
   },
   {
    "duration": 44,
    "start_time": "2023-01-21T08:55:35.810Z"
   },
   {
    "duration": 22,
    "start_time": "2023-01-21T08:55:35.856Z"
   },
   {
    "duration": 27,
    "start_time": "2023-01-21T08:55:35.880Z"
   },
   {
    "duration": 86,
    "start_time": "2023-01-21T08:55:35.908Z"
   },
   {
    "duration": 94,
    "start_time": "2023-01-21T08:55:35.996Z"
   },
   {
    "duration": 75,
    "start_time": "2023-01-21T08:55:36.091Z"
   },
   {
    "duration": 43,
    "start_time": "2023-01-21T08:55:36.168Z"
   },
   {
    "duration": 11,
    "start_time": "2023-01-21T08:55:36.213Z"
   },
   {
    "duration": 63,
    "start_time": "2023-01-21T08:55:36.226Z"
   },
   {
    "duration": 7,
    "start_time": "2023-01-21T08:55:36.291Z"
   },
   {
    "duration": 27,
    "start_time": "2023-01-21T08:55:36.300Z"
   },
   {
    "duration": 11,
    "start_time": "2023-01-21T08:55:36.329Z"
   },
   {
    "duration": 8,
    "start_time": "2023-01-21T08:55:36.342Z"
   },
   {
    "duration": 7,
    "start_time": "2023-01-21T08:55:36.352Z"
   },
   {
    "duration": 9,
    "start_time": "2023-01-21T08:55:36.361Z"
   },
   {
    "duration": 8,
    "start_time": "2023-01-21T08:55:36.371Z"
   },
   {
    "duration": 17,
    "start_time": "2023-01-21T08:55:36.389Z"
   },
   {
    "duration": 6,
    "start_time": "2023-01-21T08:55:36.408Z"
   },
   {
    "duration": 6,
    "start_time": "2023-01-21T08:55:36.416Z"
   },
   {
    "duration": 6,
    "start_time": "2023-01-21T08:55:36.426Z"
   },
   {
    "duration": 5,
    "start_time": "2023-01-21T08:55:36.434Z"
   },
   {
    "duration": 74,
    "start_time": "2023-01-21T08:55:36.441Z"
   },
   {
    "duration": 0,
    "start_time": "2023-01-21T08:55:36.517Z"
   },
   {
    "duration": 0,
    "start_time": "2023-01-21T08:55:36.518Z"
   },
   {
    "duration": 0,
    "start_time": "2023-01-21T08:55:36.520Z"
   },
   {
    "duration": 0,
    "start_time": "2023-01-21T08:55:36.521Z"
   },
   {
    "duration": 0,
    "start_time": "2023-01-21T08:55:36.523Z"
   },
   {
    "duration": 0,
    "start_time": "2023-01-21T08:55:36.524Z"
   },
   {
    "duration": 0,
    "start_time": "2023-01-21T08:55:36.525Z"
   },
   {
    "duration": 0,
    "start_time": "2023-01-21T08:55:36.526Z"
   },
   {
    "duration": 69,
    "start_time": "2023-01-21T08:59:58.484Z"
   },
   {
    "duration": 27,
    "start_time": "2023-01-21T10:00:27.443Z"
   },
   {
    "duration": 36,
    "start_time": "2023-01-21T10:34:27.483Z"
   },
   {
    "duration": 90,
    "start_time": "2023-01-21T10:38:47.918Z"
   },
   {
    "duration": 26,
    "start_time": "2023-01-21T10:39:39.108Z"
   },
   {
    "duration": 441,
    "start_time": "2023-01-21T10:39:58.447Z"
   },
   {
    "duration": 164,
    "start_time": "2023-01-21T10:39:58.890Z"
   },
   {
    "duration": 18,
    "start_time": "2023-01-21T10:39:59.055Z"
   },
   {
    "duration": 32,
    "start_time": "2023-01-21T10:39:59.075Z"
   },
   {
    "duration": 2,
    "start_time": "2023-01-21T10:39:59.109Z"
   },
   {
    "duration": 6,
    "start_time": "2023-01-21T10:39:59.113Z"
   },
   {
    "duration": 36,
    "start_time": "2023-01-21T10:39:59.121Z"
   },
   {
    "duration": 5,
    "start_time": "2023-01-21T10:39:59.159Z"
   },
   {
    "duration": 27,
    "start_time": "2023-01-21T10:39:59.166Z"
   },
   {
    "duration": 19,
    "start_time": "2023-01-21T10:39:59.197Z"
   },
   {
    "duration": 42,
    "start_time": "2023-01-21T10:39:59.217Z"
   },
   {
    "duration": 74,
    "start_time": "2023-01-21T10:39:59.260Z"
   },
   {
    "duration": 89,
    "start_time": "2023-01-21T10:39:59.336Z"
   },
   {
    "duration": 81,
    "start_time": "2023-01-21T10:39:59.427Z"
   },
   {
    "duration": 57,
    "start_time": "2023-01-21T10:39:59.510Z"
   },
   {
    "duration": 12,
    "start_time": "2023-01-21T10:39:59.570Z"
   },
   {
    "duration": 60,
    "start_time": "2023-01-21T10:39:59.584Z"
   },
   {
    "duration": 84,
    "start_time": "2023-01-21T10:39:59.654Z"
   },
   {
    "duration": 0,
    "start_time": "2023-01-21T10:39:59.740Z"
   },
   {
    "duration": 0,
    "start_time": "2023-01-21T10:39:59.754Z"
   },
   {
    "duration": 0,
    "start_time": "2023-01-21T10:39:59.756Z"
   },
   {
    "duration": 0,
    "start_time": "2023-01-21T10:39:59.758Z"
   },
   {
    "duration": 0,
    "start_time": "2023-01-21T10:39:59.760Z"
   },
   {
    "duration": 0,
    "start_time": "2023-01-21T10:39:59.762Z"
   },
   {
    "duration": 0,
    "start_time": "2023-01-21T10:39:59.764Z"
   },
   {
    "duration": 0,
    "start_time": "2023-01-21T10:39:59.765Z"
   },
   {
    "duration": 0,
    "start_time": "2023-01-21T10:39:59.766Z"
   },
   {
    "duration": 0,
    "start_time": "2023-01-21T10:39:59.768Z"
   },
   {
    "duration": 0,
    "start_time": "2023-01-21T10:39:59.770Z"
   },
   {
    "duration": 0,
    "start_time": "2023-01-21T10:39:59.771Z"
   },
   {
    "duration": 0,
    "start_time": "2023-01-21T10:39:59.773Z"
   },
   {
    "duration": 0,
    "start_time": "2023-01-21T10:39:59.774Z"
   },
   {
    "duration": 1,
    "start_time": "2023-01-21T10:39:59.775Z"
   },
   {
    "duration": 0,
    "start_time": "2023-01-21T10:39:59.777Z"
   },
   {
    "duration": 0,
    "start_time": "2023-01-21T10:39:59.778Z"
   },
   {
    "duration": 0,
    "start_time": "2023-01-21T10:39:59.780Z"
   },
   {
    "duration": 0,
    "start_time": "2023-01-21T10:39:59.781Z"
   },
   {
    "duration": 0,
    "start_time": "2023-01-21T10:39:59.782Z"
   },
   {
    "duration": 42,
    "start_time": "2023-01-21T10:42:09.398Z"
   },
   {
    "duration": 43,
    "start_time": "2023-01-21T10:45:52.614Z"
   },
   {
    "duration": 65,
    "start_time": "2023-01-21T10:46:51.499Z"
   },
   {
    "duration": 51,
    "start_time": "2023-01-21T10:48:07.053Z"
   },
   {
    "duration": 54,
    "start_time": "2023-01-21T10:50:06.833Z"
   },
   {
    "duration": 61,
    "start_time": "2023-01-21T10:50:19.367Z"
   },
   {
    "duration": 42,
    "start_time": "2023-01-21T10:52:33.963Z"
   },
   {
    "duration": 68,
    "start_time": "2023-01-21T10:53:54.733Z"
   },
   {
    "duration": 47,
    "start_time": "2023-01-21T10:54:19.643Z"
   },
   {
    "duration": 7,
    "start_time": "2023-01-21T10:54:44.961Z"
   },
   {
    "duration": 449,
    "start_time": "2023-01-21T10:54:54.127Z"
   },
   {
    "duration": 180,
    "start_time": "2023-01-21T10:54:54.580Z"
   },
   {
    "duration": 17,
    "start_time": "2023-01-21T10:54:54.762Z"
   },
   {
    "duration": 38,
    "start_time": "2023-01-21T10:54:54.781Z"
   },
   {
    "duration": 2,
    "start_time": "2023-01-21T10:54:54.821Z"
   },
   {
    "duration": 29,
    "start_time": "2023-01-21T10:54:54.825Z"
   },
   {
    "duration": 14,
    "start_time": "2023-01-21T10:54:54.855Z"
   },
   {
    "duration": 9,
    "start_time": "2023-01-21T10:54:54.870Z"
   },
   {
    "duration": 30,
    "start_time": "2023-01-21T10:54:54.881Z"
   },
   {
    "duration": 23,
    "start_time": "2023-01-21T10:54:54.914Z"
   },
   {
    "duration": 36,
    "start_time": "2023-01-21T10:54:54.939Z"
   },
   {
    "duration": 83,
    "start_time": "2023-01-21T10:54:54.976Z"
   },
   {
    "duration": 75,
    "start_time": "2023-01-21T10:54:55.061Z"
   },
   {
    "duration": 75,
    "start_time": "2023-01-21T10:54:55.138Z"
   },
   {
    "duration": 49,
    "start_time": "2023-01-21T10:54:55.215Z"
   },
   {
    "duration": 11,
    "start_time": "2023-01-21T10:54:55.265Z"
   },
   {
    "duration": 39,
    "start_time": "2023-01-21T10:54:55.278Z"
   },
   {
    "duration": 98,
    "start_time": "2023-01-21T10:54:55.319Z"
   },
   {
    "duration": 0,
    "start_time": "2023-01-21T10:54:55.419Z"
   },
   {
    "duration": 0,
    "start_time": "2023-01-21T10:54:55.420Z"
   },
   {
    "duration": 0,
    "start_time": "2023-01-21T10:54:55.422Z"
   },
   {
    "duration": 0,
    "start_time": "2023-01-21T10:54:55.424Z"
   },
   {
    "duration": 0,
    "start_time": "2023-01-21T10:54:55.426Z"
   },
   {
    "duration": 0,
    "start_time": "2023-01-21T10:54:55.427Z"
   },
   {
    "duration": 0,
    "start_time": "2023-01-21T10:54:55.428Z"
   },
   {
    "duration": 0,
    "start_time": "2023-01-21T10:54:55.430Z"
   },
   {
    "duration": 0,
    "start_time": "2023-01-21T10:54:55.454Z"
   },
   {
    "duration": 0,
    "start_time": "2023-01-21T10:54:55.455Z"
   },
   {
    "duration": 0,
    "start_time": "2023-01-21T10:54:55.457Z"
   },
   {
    "duration": 0,
    "start_time": "2023-01-21T10:54:55.458Z"
   },
   {
    "duration": 0,
    "start_time": "2023-01-21T10:54:55.460Z"
   },
   {
    "duration": 0,
    "start_time": "2023-01-21T10:54:55.462Z"
   },
   {
    "duration": 0,
    "start_time": "2023-01-21T10:54:55.463Z"
   },
   {
    "duration": 0,
    "start_time": "2023-01-21T10:54:55.465Z"
   },
   {
    "duration": 0,
    "start_time": "2023-01-21T10:54:55.467Z"
   },
   {
    "duration": 0,
    "start_time": "2023-01-21T10:54:55.468Z"
   },
   {
    "duration": 0,
    "start_time": "2023-01-21T10:54:55.470Z"
   },
   {
    "duration": 0,
    "start_time": "2023-01-21T10:54:55.471Z"
   },
   {
    "duration": 62,
    "start_time": "2023-01-21T10:55:50.653Z"
   },
   {
    "duration": 48,
    "start_time": "2023-01-21T10:57:24.773Z"
   },
   {
    "duration": 40,
    "start_time": "2023-01-21T10:57:56.897Z"
   },
   {
    "duration": 30,
    "start_time": "2023-01-21T10:58:14.670Z"
   },
   {
    "duration": 23,
    "start_time": "2023-01-21T11:03:34.256Z"
   },
   {
    "duration": 31,
    "start_time": "2023-01-21T11:04:59.334Z"
   },
   {
    "duration": 32,
    "start_time": "2023-01-21T11:13:38.725Z"
   },
   {
    "duration": 452,
    "start_time": "2023-01-21T11:14:16.932Z"
   },
   {
    "duration": 221,
    "start_time": "2023-01-21T11:14:17.387Z"
   },
   {
    "duration": 21,
    "start_time": "2023-01-21T11:14:17.611Z"
   },
   {
    "duration": 47,
    "start_time": "2023-01-21T11:14:17.634Z"
   },
   {
    "duration": 2,
    "start_time": "2023-01-21T11:14:17.683Z"
   },
   {
    "duration": 8,
    "start_time": "2023-01-21T11:14:17.686Z"
   },
   {
    "duration": 15,
    "start_time": "2023-01-21T11:14:17.695Z"
   },
   {
    "duration": 7,
    "start_time": "2023-01-21T11:14:17.712Z"
   },
   {
    "duration": 41,
    "start_time": "2023-01-21T11:14:17.721Z"
   },
   {
    "duration": 23,
    "start_time": "2023-01-21T11:14:17.765Z"
   },
   {
    "duration": 36,
    "start_time": "2023-01-21T11:14:17.790Z"
   },
   {
    "duration": 62,
    "start_time": "2023-01-21T11:14:17.827Z"
   },
   {
    "duration": 74,
    "start_time": "2023-01-21T11:14:17.891Z"
   },
   {
    "duration": 58,
    "start_time": "2023-01-21T11:14:17.967Z"
   },
   {
    "duration": 52,
    "start_time": "2023-01-21T11:14:18.027Z"
   },
   {
    "duration": 11,
    "start_time": "2023-01-21T11:14:18.080Z"
   },
   {
    "duration": 42,
    "start_time": "2023-01-21T11:14:18.092Z"
   },
   {
    "duration": 85,
    "start_time": "2023-01-21T11:14:18.153Z"
   },
   {
    "duration": 0,
    "start_time": "2023-01-21T11:14:18.240Z"
   },
   {
    "duration": 0,
    "start_time": "2023-01-21T11:14:18.242Z"
   },
   {
    "duration": 0,
    "start_time": "2023-01-21T11:14:18.243Z"
   },
   {
    "duration": 0,
    "start_time": "2023-01-21T11:14:18.243Z"
   },
   {
    "duration": 0,
    "start_time": "2023-01-21T11:14:18.253Z"
   },
   {
    "duration": 0,
    "start_time": "2023-01-21T11:14:18.254Z"
   },
   {
    "duration": 0,
    "start_time": "2023-01-21T11:14:18.256Z"
   },
   {
    "duration": 0,
    "start_time": "2023-01-21T11:14:18.257Z"
   },
   {
    "duration": 0,
    "start_time": "2023-01-21T11:14:18.258Z"
   },
   {
    "duration": 0,
    "start_time": "2023-01-21T11:14:18.259Z"
   },
   {
    "duration": 0,
    "start_time": "2023-01-21T11:14:18.260Z"
   },
   {
    "duration": 0,
    "start_time": "2023-01-21T11:14:18.261Z"
   },
   {
    "duration": 0,
    "start_time": "2023-01-21T11:14:18.262Z"
   },
   {
    "duration": 0,
    "start_time": "2023-01-21T11:14:18.263Z"
   },
   {
    "duration": 0,
    "start_time": "2023-01-21T11:14:18.264Z"
   },
   {
    "duration": 0,
    "start_time": "2023-01-21T11:14:18.265Z"
   },
   {
    "duration": 0,
    "start_time": "2023-01-21T11:14:18.266Z"
   },
   {
    "duration": 0,
    "start_time": "2023-01-21T11:14:18.268Z"
   },
   {
    "duration": 0,
    "start_time": "2023-01-21T11:14:18.269Z"
   },
   {
    "duration": 0,
    "start_time": "2023-01-21T11:14:18.270Z"
   },
   {
    "duration": 35,
    "start_time": "2023-01-21T11:14:42.417Z"
   },
   {
    "duration": 27,
    "start_time": "2023-01-21T11:21:47.331Z"
   },
   {
    "duration": 16,
    "start_time": "2023-01-21T11:21:51.907Z"
   },
   {
    "duration": 21,
    "start_time": "2023-01-21T11:24:28.269Z"
   },
   {
    "duration": 49,
    "start_time": "2023-01-21T11:24:48.743Z"
   },
   {
    "duration": 7,
    "start_time": "2023-01-21T11:25:30.139Z"
   },
   {
    "duration": 7,
    "start_time": "2023-01-21T11:25:38.220Z"
   },
   {
    "duration": 48,
    "start_time": "2023-01-21T11:25:49.044Z"
   },
   {
    "duration": 422,
    "start_time": "2023-01-21T11:26:19.472Z"
   },
   {
    "duration": 188,
    "start_time": "2023-01-21T11:26:19.895Z"
   },
   {
    "duration": 17,
    "start_time": "2023-01-21T11:26:20.084Z"
   },
   {
    "duration": 29,
    "start_time": "2023-01-21T11:26:20.102Z"
   },
   {
    "duration": 20,
    "start_time": "2023-01-21T11:26:20.133Z"
   },
   {
    "duration": 5,
    "start_time": "2023-01-21T11:26:20.155Z"
   },
   {
    "duration": 20,
    "start_time": "2023-01-21T11:26:20.162Z"
   },
   {
    "duration": 8,
    "start_time": "2023-01-21T11:26:20.184Z"
   },
   {
    "duration": 26,
    "start_time": "2023-01-21T11:26:20.193Z"
   },
   {
    "duration": 31,
    "start_time": "2023-01-21T11:26:20.222Z"
   },
   {
    "duration": 25,
    "start_time": "2023-01-21T11:26:20.255Z"
   },
   {
    "duration": 93,
    "start_time": "2023-01-21T11:26:20.281Z"
   },
   {
    "duration": 96,
    "start_time": "2023-01-21T11:26:20.375Z"
   },
   {
    "duration": 69,
    "start_time": "2023-01-21T11:26:20.473Z"
   },
   {
    "duration": 50,
    "start_time": "2023-01-21T11:26:20.543Z"
   },
   {
    "duration": 11,
    "start_time": "2023-01-21T11:26:20.594Z"
   },
   {
    "duration": 58,
    "start_time": "2023-01-21T11:26:20.607Z"
   },
   {
    "duration": 19,
    "start_time": "2023-01-21T11:26:20.667Z"
   },
   {
    "duration": 15,
    "start_time": "2023-01-21T11:26:20.687Z"
   },
   {
    "duration": 8,
    "start_time": "2023-01-21T11:26:20.704Z"
   },
   {
    "duration": 7,
    "start_time": "2023-01-21T11:26:20.714Z"
   },
   {
    "duration": 9,
    "start_time": "2023-01-21T11:26:20.723Z"
   },
   {
    "duration": 19,
    "start_time": "2023-01-21T11:26:20.734Z"
   },
   {
    "duration": 7,
    "start_time": "2023-01-21T11:26:20.755Z"
   },
   {
    "duration": 6,
    "start_time": "2023-01-21T11:26:20.764Z"
   },
   {
    "duration": 4,
    "start_time": "2023-01-21T11:26:20.772Z"
   },
   {
    "duration": 8,
    "start_time": "2023-01-21T11:26:20.778Z"
   },
   {
    "duration": 7,
    "start_time": "2023-01-21T11:26:20.789Z"
   },
   {
    "duration": 11,
    "start_time": "2023-01-21T11:26:20.797Z"
   },
   {
    "duration": 5,
    "start_time": "2023-01-21T11:26:20.810Z"
   },
   {
    "duration": 69,
    "start_time": "2023-01-21T11:26:20.817Z"
   },
   {
    "duration": 0,
    "start_time": "2023-01-21T11:26:20.888Z"
   },
   {
    "duration": 0,
    "start_time": "2023-01-21T11:26:20.889Z"
   },
   {
    "duration": 0,
    "start_time": "2023-01-21T11:26:20.890Z"
   },
   {
    "duration": 0,
    "start_time": "2023-01-21T11:26:20.892Z"
   },
   {
    "duration": 0,
    "start_time": "2023-01-21T11:26:20.893Z"
   },
   {
    "duration": 0,
    "start_time": "2023-01-21T11:26:20.894Z"
   },
   {
    "duration": 0,
    "start_time": "2023-01-21T11:26:20.895Z"
   },
   {
    "duration": 0,
    "start_time": "2023-01-21T11:26:20.896Z"
   },
   {
    "duration": 15,
    "start_time": "2023-01-21T11:26:44.600Z"
   },
   {
    "duration": 19,
    "start_time": "2023-01-21T11:27:11.197Z"
   },
   {
    "duration": 406,
    "start_time": "2023-01-21T11:30:00.685Z"
   },
   {
    "duration": 177,
    "start_time": "2023-01-21T11:30:01.093Z"
   },
   {
    "duration": 16,
    "start_time": "2023-01-21T11:30:01.272Z"
   },
   {
    "duration": 54,
    "start_time": "2023-01-21T11:30:01.290Z"
   },
   {
    "duration": 11,
    "start_time": "2023-01-21T11:30:01.346Z"
   },
   {
    "duration": 39,
    "start_time": "2023-01-21T11:30:01.359Z"
   },
   {
    "duration": 43,
    "start_time": "2023-01-21T11:30:01.399Z"
   },
   {
    "duration": 29,
    "start_time": "2023-01-21T11:30:01.445Z"
   },
   {
    "duration": 66,
    "start_time": "2023-01-21T11:30:01.475Z"
   },
   {
    "duration": 38,
    "start_time": "2023-01-21T11:30:01.545Z"
   },
   {
    "duration": 56,
    "start_time": "2023-01-21T11:30:01.585Z"
   },
   {
    "duration": 82,
    "start_time": "2023-01-21T11:30:01.644Z"
   },
   {
    "duration": 69,
    "start_time": "2023-01-21T11:30:01.727Z"
   },
   {
    "duration": 61,
    "start_time": "2023-01-21T11:30:01.797Z"
   },
   {
    "duration": 39,
    "start_time": "2023-01-21T11:30:01.860Z"
   },
   {
    "duration": 11,
    "start_time": "2023-01-21T11:30:01.901Z"
   },
   {
    "duration": 59,
    "start_time": "2023-01-21T11:30:01.914Z"
   },
   {
    "duration": 17,
    "start_time": "2023-01-21T11:30:01.975Z"
   },
   {
    "duration": 17,
    "start_time": "2023-01-21T11:30:01.994Z"
   },
   {
    "duration": 9,
    "start_time": "2023-01-21T11:30:02.013Z"
   },
   {
    "duration": 23,
    "start_time": "2023-01-21T11:30:02.023Z"
   },
   {
    "duration": 14,
    "start_time": "2023-01-21T11:30:02.048Z"
   },
   {
    "duration": 24,
    "start_time": "2023-01-21T11:30:02.064Z"
   },
   {
    "duration": 27,
    "start_time": "2023-01-21T11:30:02.090Z"
   },
   {
    "duration": 16,
    "start_time": "2023-01-21T11:30:02.119Z"
   },
   {
    "duration": 27,
    "start_time": "2023-01-21T11:30:02.137Z"
   },
   {
    "duration": 18,
    "start_time": "2023-01-21T11:30:02.166Z"
   },
   {
    "duration": 30,
    "start_time": "2023-01-21T11:30:02.188Z"
   },
   {
    "duration": 15,
    "start_time": "2023-01-21T11:30:02.220Z"
   },
   {
    "duration": 14,
    "start_time": "2023-01-21T11:30:02.237Z"
   },
   {
    "duration": 83,
    "start_time": "2023-01-21T11:30:02.253Z"
   },
   {
    "duration": 0,
    "start_time": "2023-01-21T11:30:02.337Z"
   },
   {
    "duration": 0,
    "start_time": "2023-01-21T11:30:02.338Z"
   },
   {
    "duration": 0,
    "start_time": "2023-01-21T11:30:02.340Z"
   },
   {
    "duration": 0,
    "start_time": "2023-01-21T11:30:02.341Z"
   },
   {
    "duration": 0,
    "start_time": "2023-01-21T11:30:02.342Z"
   },
   {
    "duration": 0,
    "start_time": "2023-01-21T11:30:02.343Z"
   },
   {
    "duration": 0,
    "start_time": "2023-01-21T11:30:02.344Z"
   },
   {
    "duration": 0,
    "start_time": "2023-01-21T11:30:02.345Z"
   },
   {
    "duration": 16,
    "start_time": "2023-01-21T11:31:45.961Z"
   },
   {
    "duration": 23,
    "start_time": "2023-01-21T11:31:49.873Z"
   },
   {
    "duration": 11,
    "start_time": "2023-01-21T11:48:28.558Z"
   },
   {
    "duration": 11,
    "start_time": "2023-01-21T11:53:02.171Z"
   },
   {
    "duration": 45,
    "start_time": "2023-01-21T16:10:14.503Z"
   },
   {
    "duration": 6,
    "start_time": "2023-01-21T16:11:08.903Z"
   },
   {
    "duration": 42,
    "start_time": "2023-01-21T16:11:34.899Z"
   },
   {
    "duration": 398,
    "start_time": "2023-01-21T16:12:18.454Z"
   },
   {
    "duration": 443,
    "start_time": "2023-01-21T16:12:18.854Z"
   },
   {
    "duration": 18,
    "start_time": "2023-01-21T16:12:19.299Z"
   },
   {
    "duration": 30,
    "start_time": "2023-01-21T16:12:19.319Z"
   },
   {
    "duration": 2,
    "start_time": "2023-01-21T16:12:19.350Z"
   },
   {
    "duration": 7,
    "start_time": "2023-01-21T16:12:19.353Z"
   },
   {
    "duration": 13,
    "start_time": "2023-01-21T16:12:19.361Z"
   },
   {
    "duration": 6,
    "start_time": "2023-01-21T16:12:19.375Z"
   },
   {
    "duration": 28,
    "start_time": "2023-01-21T16:12:19.383Z"
   },
   {
    "duration": 36,
    "start_time": "2023-01-21T16:12:19.414Z"
   },
   {
    "duration": 25,
    "start_time": "2023-01-21T16:12:19.452Z"
   },
   {
    "duration": 71,
    "start_time": "2023-01-21T16:12:19.478Z"
   },
   {
    "duration": 61,
    "start_time": "2023-01-21T16:12:19.551Z"
   },
   {
    "duration": 65,
    "start_time": "2023-01-21T16:12:19.614Z"
   },
   {
    "duration": 37,
    "start_time": "2023-01-21T16:12:19.680Z"
   },
   {
    "duration": 10,
    "start_time": "2023-01-21T16:12:19.718Z"
   },
   {
    "duration": 57,
    "start_time": "2023-01-21T16:12:19.729Z"
   },
   {
    "duration": 10,
    "start_time": "2023-01-21T16:12:19.787Z"
   },
   {
    "duration": 79,
    "start_time": "2023-01-21T16:12:19.799Z"
   },
   {
    "duration": 0,
    "start_time": "2023-01-21T16:12:19.880Z"
   },
   {
    "duration": 0,
    "start_time": "2023-01-21T16:12:19.881Z"
   },
   {
    "duration": 0,
    "start_time": "2023-01-21T16:12:19.882Z"
   },
   {
    "duration": 0,
    "start_time": "2023-01-21T16:12:19.884Z"
   },
   {
    "duration": 0,
    "start_time": "2023-01-21T16:12:19.886Z"
   },
   {
    "duration": 0,
    "start_time": "2023-01-21T16:12:19.887Z"
   },
   {
    "duration": 0,
    "start_time": "2023-01-21T16:12:19.889Z"
   },
   {
    "duration": 0,
    "start_time": "2023-01-21T16:12:19.890Z"
   },
   {
    "duration": 0,
    "start_time": "2023-01-21T16:12:19.891Z"
   },
   {
    "duration": 0,
    "start_time": "2023-01-21T16:12:19.892Z"
   },
   {
    "duration": 0,
    "start_time": "2023-01-21T16:12:19.894Z"
   },
   {
    "duration": 0,
    "start_time": "2023-01-21T16:12:19.895Z"
   },
   {
    "duration": 0,
    "start_time": "2023-01-21T16:12:19.896Z"
   },
   {
    "duration": 0,
    "start_time": "2023-01-21T16:12:19.897Z"
   },
   {
    "duration": 0,
    "start_time": "2023-01-21T16:12:19.898Z"
   },
   {
    "duration": 0,
    "start_time": "2023-01-21T16:12:19.899Z"
   },
   {
    "duration": 0,
    "start_time": "2023-01-21T16:12:19.901Z"
   },
   {
    "duration": 0,
    "start_time": "2023-01-21T16:12:19.902Z"
   },
   {
    "duration": 0,
    "start_time": "2023-01-21T16:12:19.903Z"
   },
   {
    "duration": 12,
    "start_time": "2023-01-21T16:12:58.165Z"
   },
   {
    "duration": 12,
    "start_time": "2023-01-21T16:16:54.522Z"
   },
   {
    "duration": 12,
    "start_time": "2023-01-21T16:18:06.018Z"
   },
   {
    "duration": 12,
    "start_time": "2023-01-21T16:18:26.831Z"
   },
   {
    "duration": 3,
    "start_time": "2023-01-21T16:38:57.480Z"
   },
   {
    "duration": 15,
    "start_time": "2023-01-21T16:40:17.301Z"
   },
   {
    "duration": 15,
    "start_time": "2023-01-21T16:41:03.488Z"
   },
   {
    "duration": 14,
    "start_time": "2023-01-21T16:42:02.014Z"
   },
   {
    "duration": 13,
    "start_time": "2023-01-21T16:42:38.487Z"
   },
   {
    "duration": 15,
    "start_time": "2023-01-21T16:43:08.208Z"
   },
   {
    "duration": 13,
    "start_time": "2023-01-21T16:43:35.811Z"
   },
   {
    "duration": 53,
    "start_time": "2023-01-21T16:59:45.062Z"
   },
   {
    "duration": 9,
    "start_time": "2023-01-21T17:00:46.331Z"
   },
   {
    "duration": 50,
    "start_time": "2023-01-21T17:02:48.103Z"
   },
   {
    "duration": 44,
    "start_time": "2023-01-21T17:03:20.740Z"
   },
   {
    "duration": 52,
    "start_time": "2023-01-21T17:06:54.088Z"
   },
   {
    "duration": 434,
    "start_time": "2023-01-21T17:07:02.222Z"
   },
   {
    "duration": 173,
    "start_time": "2023-01-21T17:07:02.658Z"
   },
   {
    "duration": 20,
    "start_time": "2023-01-21T17:07:02.833Z"
   },
   {
    "duration": 32,
    "start_time": "2023-01-21T17:07:02.856Z"
   },
   {
    "duration": 2,
    "start_time": "2023-01-21T17:07:02.890Z"
   },
   {
    "duration": 15,
    "start_time": "2023-01-21T17:07:02.893Z"
   },
   {
    "duration": 17,
    "start_time": "2023-01-21T17:07:02.910Z"
   },
   {
    "duration": 10,
    "start_time": "2023-01-21T17:07:02.928Z"
   },
   {
    "duration": 23,
    "start_time": "2023-01-21T17:07:02.948Z"
   },
   {
    "duration": 19,
    "start_time": "2023-01-21T17:07:02.974Z"
   },
   {
    "duration": 22,
    "start_time": "2023-01-21T17:07:02.994Z"
   },
   {
    "duration": 87,
    "start_time": "2023-01-21T17:07:03.018Z"
   },
   {
    "duration": 72,
    "start_time": "2023-01-21T17:07:03.106Z"
   },
   {
    "duration": 56,
    "start_time": "2023-01-21T17:07:03.180Z"
   },
   {
    "duration": 39,
    "start_time": "2023-01-21T17:07:03.248Z"
   },
   {
    "duration": 11,
    "start_time": "2023-01-21T17:07:03.289Z"
   },
   {
    "duration": 55,
    "start_time": "2023-01-21T17:07:03.301Z"
   },
   {
    "duration": 12,
    "start_time": "2023-01-21T17:07:03.358Z"
   },
   {
    "duration": 25,
    "start_time": "2023-01-21T17:07:03.372Z"
   },
   {
    "duration": 4,
    "start_time": "2023-01-21T17:07:03.399Z"
   },
   {
    "duration": 22,
    "start_time": "2023-01-21T17:07:03.405Z"
   },
   {
    "duration": 24,
    "start_time": "2023-01-21T17:07:03.429Z"
   },
   {
    "duration": 5,
    "start_time": "2023-01-21T17:07:03.455Z"
   },
   {
    "duration": 21,
    "start_time": "2023-01-21T17:07:03.462Z"
   },
   {
    "duration": 4,
    "start_time": "2023-01-21T17:07:03.485Z"
   },
   {
    "duration": 17,
    "start_time": "2023-01-21T17:07:03.490Z"
   },
   {
    "duration": 15,
    "start_time": "2023-01-21T17:07:03.509Z"
   },
   {
    "duration": 3,
    "start_time": "2023-01-21T17:07:03.550Z"
   },
   {
    "duration": 25,
    "start_time": "2023-01-21T17:07:03.554Z"
   },
   {
    "duration": 2,
    "start_time": "2023-01-21T17:07:03.580Z"
   },
   {
    "duration": 10,
    "start_time": "2023-01-21T17:07:03.584Z"
   },
   {
    "duration": 13,
    "start_time": "2023-01-21T17:07:03.596Z"
   },
   {
    "duration": 5,
    "start_time": "2023-01-21T17:07:03.611Z"
   },
   {
    "duration": 77,
    "start_time": "2023-01-21T17:07:03.617Z"
   },
   {
    "duration": 0,
    "start_time": "2023-01-21T17:07:03.696Z"
   },
   {
    "duration": 0,
    "start_time": "2023-01-21T17:07:03.697Z"
   },
   {
    "duration": 0,
    "start_time": "2023-01-21T17:07:03.698Z"
   },
   {
    "duration": 0,
    "start_time": "2023-01-21T17:07:03.699Z"
   },
   {
    "duration": 0,
    "start_time": "2023-01-21T17:07:03.700Z"
   },
   {
    "duration": 0,
    "start_time": "2023-01-21T17:07:03.701Z"
   },
   {
    "duration": 0,
    "start_time": "2023-01-21T17:07:03.702Z"
   },
   {
    "duration": 0,
    "start_time": "2023-01-21T17:07:03.703Z"
   },
   {
    "duration": 4,
    "start_time": "2023-01-21T17:49:58.160Z"
   },
   {
    "duration": 59,
    "start_time": "2023-01-21T17:58:56.310Z"
   },
   {
    "duration": 8,
    "start_time": "2023-01-21T18:00:51.893Z"
   },
   {
    "duration": 52,
    "start_time": "2023-01-21T18:02:04.142Z"
   },
   {
    "duration": 412,
    "start_time": "2023-01-21T18:02:13.024Z"
   },
   {
    "duration": 174,
    "start_time": "2023-01-21T18:02:13.437Z"
   },
   {
    "duration": 17,
    "start_time": "2023-01-21T18:02:13.613Z"
   },
   {
    "duration": 38,
    "start_time": "2023-01-21T18:02:13.631Z"
   },
   {
    "duration": 2,
    "start_time": "2023-01-21T18:02:13.671Z"
   },
   {
    "duration": 7,
    "start_time": "2023-01-21T18:02:13.674Z"
   },
   {
    "duration": 15,
    "start_time": "2023-01-21T18:02:13.682Z"
   },
   {
    "duration": 6,
    "start_time": "2023-01-21T18:02:13.699Z"
   },
   {
    "duration": 25,
    "start_time": "2023-01-21T18:02:13.706Z"
   },
   {
    "duration": 17,
    "start_time": "2023-01-21T18:02:13.749Z"
   },
   {
    "duration": 22,
    "start_time": "2023-01-21T18:02:13.768Z"
   },
   {
    "duration": 82,
    "start_time": "2023-01-21T18:02:13.791Z"
   },
   {
    "duration": 74,
    "start_time": "2023-01-21T18:02:13.874Z"
   },
   {
    "duration": 59,
    "start_time": "2023-01-21T18:02:13.950Z"
   },
   {
    "duration": 52,
    "start_time": "2023-01-21T18:02:14.011Z"
   },
   {
    "duration": 9,
    "start_time": "2023-01-21T18:02:14.065Z"
   },
   {
    "duration": 38,
    "start_time": "2023-01-21T18:02:14.076Z"
   },
   {
    "duration": 12,
    "start_time": "2023-01-21T18:02:14.116Z"
   },
   {
    "duration": 15,
    "start_time": "2023-01-21T18:02:14.149Z"
   },
   {
    "duration": 4,
    "start_time": "2023-01-21T18:02:14.166Z"
   },
   {
    "duration": 25,
    "start_time": "2023-01-21T18:02:14.172Z"
   },
   {
    "duration": 14,
    "start_time": "2023-01-21T18:02:14.199Z"
   },
   {
    "duration": 11,
    "start_time": "2023-01-21T18:02:14.215Z"
   },
   {
    "duration": 31,
    "start_time": "2023-01-21T18:02:14.227Z"
   },
   {
    "duration": 2,
    "start_time": "2023-01-21T18:02:14.260Z"
   },
   {
    "duration": 15,
    "start_time": "2023-01-21T18:02:14.264Z"
   },
   {
    "duration": 17,
    "start_time": "2023-01-21T18:02:14.280Z"
   },
   {
    "duration": 7,
    "start_time": "2023-01-21T18:02:14.300Z"
   },
   {
    "duration": 18,
    "start_time": "2023-01-21T18:02:14.308Z"
   },
   {
    "duration": 21,
    "start_time": "2023-01-21T18:02:14.328Z"
   },
   {
    "duration": 14,
    "start_time": "2023-01-21T18:02:14.351Z"
   },
   {
    "duration": 10,
    "start_time": "2023-01-21T18:02:14.366Z"
   },
   {
    "duration": 23,
    "start_time": "2023-01-21T18:02:14.378Z"
   },
   {
    "duration": 2,
    "start_time": "2023-01-21T18:02:14.403Z"
   },
   {
    "duration": 22,
    "start_time": "2023-01-21T18:02:14.407Z"
   },
   {
    "duration": 4,
    "start_time": "2023-01-21T18:02:14.431Z"
   },
   {
    "duration": 11,
    "start_time": "2023-01-21T18:02:14.436Z"
   },
   {
    "duration": 32,
    "start_time": "2023-01-21T18:02:14.449Z"
   },
   {
    "duration": 3,
    "start_time": "2023-01-21T18:02:14.482Z"
   },
   {
    "duration": 17,
    "start_time": "2023-01-21T18:02:14.487Z"
   },
   {
    "duration": 4,
    "start_time": "2023-01-21T18:02:14.506Z"
   },
   {
    "duration": 24,
    "start_time": "2023-01-21T18:02:14.511Z"
   },
   {
    "duration": 2,
    "start_time": "2023-01-21T18:02:14.537Z"
   },
   {
    "duration": 27,
    "start_time": "2023-01-21T18:02:14.540Z"
   },
   {
    "duration": 3,
    "start_time": "2023-01-21T18:02:14.569Z"
   },
   {
    "duration": 8,
    "start_time": "2023-01-21T18:02:14.573Z"
   },
   {
    "duration": 9,
    "start_time": "2023-01-21T18:02:14.583Z"
   },
   {
    "duration": 16,
    "start_time": "2023-01-21T18:02:14.593Z"
   },
   {
    "duration": 85,
    "start_time": "2023-01-21T18:18:11.993Z"
   },
   {
    "duration": 30,
    "start_time": "2023-01-21T18:18:58.900Z"
   },
   {
    "duration": 33,
    "start_time": "2023-01-21T18:19:32.675Z"
   },
   {
    "duration": 30,
    "start_time": "2023-01-21T18:20:11.686Z"
   },
   {
    "duration": 34,
    "start_time": "2023-01-21T18:24:05.820Z"
   },
   {
    "duration": 33,
    "start_time": "2023-01-21T18:25:17.789Z"
   },
   {
    "duration": 15,
    "start_time": "2023-01-21T18:27:02.115Z"
   },
   {
    "duration": 12,
    "start_time": "2023-01-21T18:27:19.074Z"
   },
   {
    "duration": 6,
    "start_time": "2023-01-21T18:31:37.757Z"
   },
   {
    "duration": 7,
    "start_time": "2023-01-21T18:33:00.963Z"
   },
   {
    "duration": 8,
    "start_time": "2023-01-21T18:34:19.943Z"
   },
   {
    "duration": 389,
    "start_time": "2023-01-21T18:34:26.914Z"
   },
   {
    "duration": 150,
    "start_time": "2023-01-21T18:34:27.305Z"
   },
   {
    "duration": 15,
    "start_time": "2023-01-21T18:34:27.457Z"
   },
   {
    "duration": 28,
    "start_time": "2023-01-21T18:34:27.474Z"
   },
   {
    "duration": 2,
    "start_time": "2023-01-21T18:34:27.503Z"
   },
   {
    "duration": 8,
    "start_time": "2023-01-21T18:34:27.507Z"
   },
   {
    "duration": 12,
    "start_time": "2023-01-21T18:34:27.516Z"
   },
   {
    "duration": 23,
    "start_time": "2023-01-21T18:34:27.530Z"
   },
   {
    "duration": 26,
    "start_time": "2023-01-21T18:34:27.555Z"
   },
   {
    "duration": 18,
    "start_time": "2023-01-21T18:34:27.583Z"
   },
   {
    "duration": 25,
    "start_time": "2023-01-21T18:34:27.602Z"
   },
   {
    "duration": 74,
    "start_time": "2023-01-21T18:34:27.629Z"
   },
   {
    "duration": 73,
    "start_time": "2023-01-21T18:34:27.705Z"
   },
   {
    "duration": 55,
    "start_time": "2023-01-21T18:34:27.780Z"
   },
   {
    "duration": 48,
    "start_time": "2023-01-21T18:34:27.836Z"
   },
   {
    "duration": 11,
    "start_time": "2023-01-21T18:34:27.885Z"
   },
   {
    "duration": 57,
    "start_time": "2023-01-21T18:34:27.898Z"
   },
   {
    "duration": 10,
    "start_time": "2023-01-21T18:34:27.956Z"
   },
   {
    "duration": 9,
    "start_time": "2023-01-21T18:34:27.968Z"
   },
   {
    "duration": 4,
    "start_time": "2023-01-21T18:34:27.978Z"
   },
   {
    "duration": 19,
    "start_time": "2023-01-21T18:34:27.984Z"
   },
   {
    "duration": 14,
    "start_time": "2023-01-21T18:34:28.004Z"
   },
   {
    "duration": 30,
    "start_time": "2023-01-21T18:34:28.019Z"
   },
   {
    "duration": 18,
    "start_time": "2023-01-21T18:34:28.050Z"
   },
   {
    "duration": 5,
    "start_time": "2023-01-21T18:34:28.069Z"
   },
   {
    "duration": 13,
    "start_time": "2023-01-21T18:34:28.076Z"
   },
   {
    "duration": 15,
    "start_time": "2023-01-21T18:34:28.090Z"
   },
   {
    "duration": 2,
    "start_time": "2023-01-21T18:34:28.109Z"
   },
   {
    "duration": 36,
    "start_time": "2023-01-21T18:34:28.113Z"
   },
   {
    "duration": 3,
    "start_time": "2023-01-21T18:34:28.150Z"
   },
   {
    "duration": 9,
    "start_time": "2023-01-21T18:34:28.155Z"
   },
   {
    "duration": 4,
    "start_time": "2023-01-21T18:34:28.165Z"
   },
   {
    "duration": 19,
    "start_time": "2023-01-21T18:34:28.170Z"
   },
   {
    "duration": 2,
    "start_time": "2023-01-21T18:34:28.190Z"
   },
   {
    "duration": 12,
    "start_time": "2023-01-21T18:34:28.193Z"
   },
   {
    "duration": 4,
    "start_time": "2023-01-21T18:34:28.206Z"
   },
   {
    "duration": 6,
    "start_time": "2023-01-21T18:34:28.212Z"
   },
   {
    "duration": 37,
    "start_time": "2023-01-21T18:34:28.219Z"
   },
   {
    "duration": 7,
    "start_time": "2023-01-21T18:34:28.257Z"
   },
   {
    "duration": 22,
    "start_time": "2023-01-21T18:34:28.265Z"
   },
   {
    "duration": 3,
    "start_time": "2023-01-21T18:34:28.288Z"
   },
   {
    "duration": 24,
    "start_time": "2023-01-21T18:34:28.292Z"
   },
   {
    "duration": 2,
    "start_time": "2023-01-21T18:34:28.317Z"
   },
   {
    "duration": 16,
    "start_time": "2023-01-21T18:34:28.321Z"
   },
   {
    "duration": 2,
    "start_time": "2023-01-21T18:34:28.348Z"
   },
   {
    "duration": 72,
    "start_time": "2023-01-21T18:34:28.351Z"
   },
   {
    "duration": 0,
    "start_time": "2023-01-21T18:34:28.425Z"
   },
   {
    "duration": 0,
    "start_time": "2023-01-21T18:34:28.426Z"
   },
   {
    "duration": 0,
    "start_time": "2023-01-21T18:34:28.427Z"
   },
   {
    "duration": 7,
    "start_time": "2023-01-21T18:35:04.788Z"
   },
   {
    "duration": 8,
    "start_time": "2023-01-21T18:36:28.158Z"
   },
   {
    "duration": 12,
    "start_time": "2023-01-21T18:36:43.141Z"
   },
   {
    "duration": 9,
    "start_time": "2023-01-21T18:38:14.010Z"
   },
   {
    "duration": 4,
    "start_time": "2023-01-21T18:40:39.666Z"
   },
   {
    "duration": 6,
    "start_time": "2023-01-21T18:49:49.618Z"
   },
   {
    "duration": 4,
    "start_time": "2023-01-21T18:51:47.475Z"
   },
   {
    "duration": 365,
    "start_time": "2023-12-07T21:49:49.629Z"
   },
   {
    "duration": 226,
    "start_time": "2023-12-07T21:49:49.995Z"
   },
   {
    "duration": 18,
    "start_time": "2023-12-07T21:49:50.223Z"
   },
   {
    "duration": 41,
    "start_time": "2023-12-07T21:49:50.242Z"
   },
   {
    "duration": 10,
    "start_time": "2023-12-07T21:49:50.285Z"
   },
   {
    "duration": 17,
    "start_time": "2023-12-07T21:49:50.296Z"
   },
   {
    "duration": 11,
    "start_time": "2023-12-07T21:49:50.315Z"
   },
   {
    "duration": 11,
    "start_time": "2023-12-07T21:49:50.328Z"
   },
   {
    "duration": 35,
    "start_time": "2023-12-07T21:49:50.341Z"
   },
   {
    "duration": 29,
    "start_time": "2023-12-07T21:49:50.377Z"
   },
   {
    "duration": 27,
    "start_time": "2023-12-07T21:49:50.408Z"
   },
   {
    "duration": 70,
    "start_time": "2023-12-07T21:49:50.437Z"
   },
   {
    "duration": 74,
    "start_time": "2023-12-07T21:49:50.508Z"
   },
   {
    "duration": 57,
    "start_time": "2023-12-07T21:49:50.587Z"
   },
   {
    "duration": 57,
    "start_time": "2023-12-07T21:49:50.646Z"
   },
   {
    "duration": 12,
    "start_time": "2023-12-07T21:49:50.705Z"
   },
   {
    "duration": 59,
    "start_time": "2023-12-07T21:49:50.718Z"
   },
   {
    "duration": 13,
    "start_time": "2023-12-07T21:49:50.779Z"
   },
   {
    "duration": 19,
    "start_time": "2023-12-07T21:49:50.793Z"
   },
   {
    "duration": 3,
    "start_time": "2023-12-07T21:49:50.814Z"
   },
   {
    "duration": 35,
    "start_time": "2023-12-07T21:49:50.819Z"
   },
   {
    "duration": 37,
    "start_time": "2023-12-07T21:49:50.855Z"
   },
   {
    "duration": 17,
    "start_time": "2023-12-07T21:49:50.893Z"
   },
   {
    "duration": 34,
    "start_time": "2023-12-07T21:49:50.912Z"
   },
   {
    "duration": 27,
    "start_time": "2023-12-07T21:49:50.948Z"
   },
   {
    "duration": 31,
    "start_time": "2023-12-07T21:49:50.976Z"
   },
   {
    "duration": 16,
    "start_time": "2023-12-07T21:49:51.009Z"
   },
   {
    "duration": 15,
    "start_time": "2023-12-07T21:49:51.026Z"
   },
   {
    "duration": 20,
    "start_time": "2023-12-07T21:49:51.043Z"
   },
   {
    "duration": 17,
    "start_time": "2023-12-07T21:49:51.064Z"
   },
   {
    "duration": 22,
    "start_time": "2023-12-07T21:49:51.082Z"
   },
   {
    "duration": 20,
    "start_time": "2023-12-07T21:49:51.106Z"
   },
   {
    "duration": 29,
    "start_time": "2023-12-07T21:49:51.128Z"
   },
   {
    "duration": 17,
    "start_time": "2023-12-07T21:49:51.158Z"
   },
   {
    "duration": 30,
    "start_time": "2023-12-07T21:49:51.176Z"
   },
   {
    "duration": 33,
    "start_time": "2023-12-07T21:49:51.208Z"
   },
   {
    "duration": 34,
    "start_time": "2023-12-07T21:49:51.243Z"
   },
   {
    "duration": 52,
    "start_time": "2023-12-07T21:49:51.278Z"
   },
   {
    "duration": 12,
    "start_time": "2023-12-07T21:49:51.332Z"
   },
   {
    "duration": 46,
    "start_time": "2023-12-07T21:49:51.345Z"
   },
   {
    "duration": 59,
    "start_time": "2023-12-07T21:49:51.395Z"
   },
   {
    "duration": 73,
    "start_time": "2023-12-07T21:49:51.455Z"
   },
   {
    "duration": 18,
    "start_time": "2023-12-07T21:49:51.530Z"
   },
   {
    "duration": 59,
    "start_time": "2023-12-07T21:49:51.549Z"
   },
   {
    "duration": 43,
    "start_time": "2023-12-07T21:49:51.610Z"
   },
   {
    "duration": 33,
    "start_time": "2023-12-07T21:49:51.655Z"
   },
   {
    "duration": 23,
    "start_time": "2023-12-07T21:49:51.690Z"
   },
   {
    "duration": 35,
    "start_time": "2023-12-07T21:49:51.714Z"
   },
   {
    "duration": 30,
    "start_time": "2023-12-07T21:49:51.750Z"
   },
   {
    "duration": 19,
    "start_time": "2023-12-07T21:49:51.782Z"
   },
   {
    "duration": 33,
    "start_time": "2023-12-07T21:49:51.802Z"
   }
  ],
  "colab": {
   "collapsed_sections": [
    "E0vqbgi9ay0H",
    "VUC88oWjTJw2"
   ],
   "name": "automatization_template_upd4.ipynb",
   "provenance": []
  },
  "kernelspec": {
   "display_name": "Python 3 (ipykernel)",
   "language": "python",
   "name": "python3"
  },
  "language_info": {
   "codemirror_mode": {
    "name": "ipython",
    "version": 3
   },
   "file_extension": ".py",
   "mimetype": "text/x-python",
   "name": "python",
   "nbconvert_exporter": "python",
   "pygments_lexer": "ipython3",
   "version": "3.9.5"
  },
  "toc": {
   "base_numbering": 1,
   "nav_menu": {
    "height": "215px",
    "width": "403px"
   },
   "number_sections": true,
   "sideBar": true,
   "skip_h1_title": true,
   "title_cell": "Table of Contents",
   "title_sidebar": "Contents",
   "toc_cell": false,
   "toc_position": {
    "height": "calc(100% - 180px)",
    "left": "10px",
    "top": "150px",
    "width": "285.825px"
   },
   "toc_section_display": true,
   "toc_window_display": false
  }
 },
 "nbformat": 4,
 "nbformat_minor": 1
}
