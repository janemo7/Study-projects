{
 "cells": [
  {
   "cell_type": "markdown",
   "metadata": {},
   "source": [
    "# SQL проект сервис для чтения книг по подписке"
   ]
  },
  {
   "cell_type": "markdown",
   "metadata": {},
   "source": [
    "**Цель исследования:**\n",
    "\n",
    "Сформулировать ценностное предложение для нового продукта\n",
    "\n",
    "**Задача**\n",
    "\n",
    "Проанализировать базу данных .  В ней — информация о книгах, издательствах, авторах, а также пользовательские обзоры книг\n",
    "\n",
    "**Ход исследования**\n",
    "\n",
    "[1 Подключение к базе данных](#connect)\n",
    "\n",
    "[2 Исследование  таблицы— вывод первых строк](#limit)\n",
    "\n",
    "[3\tПосчитать, сколько книг вышло после 1 января 2000 года](#step1)\n",
    "\n",
    "[4\tДля каждой книги посчитать количество обзоров и среднюю оценку](#step2)\n",
    "\n",
    "[5\tОпределите издательство, которое выпустило наибольшее число книг толще 50 страниц — так  исключим из анализа брошюры](#step3)\n",
    "\n",
    "[6\tОпределить автора с самой высокой средней оценкой книг — учитывая только книги с 50 и более оценками](#step4)\n",
    "\n",
    "[7\tПосчитать среднее количество обзоров от пользователей, которые поставили больше 48 оценок.](#step5)\n",
    "\n",
    "[8 выводы ](#text)"
   ]
  },
  {
   "cell_type": "markdown",
   "metadata": {},
   "source": [
    "## Подключение к базе данных\n",
    "<a id=\"connect\"></a> "
   ]
  },
  {
   "cell_type": "code",
   "execution_count": 1,
   "metadata": {
    "scrolled": true
   },
   "outputs": [
    {
     "data": {
      "text/html": [
       "<div>\n",
       "<style scoped>\n",
       "    .dataframe tbody tr th:only-of-type {\n",
       "        vertical-align: middle;\n",
       "    }\n",
       "\n",
       "    .dataframe tbody tr th {\n",
       "        vertical-align: top;\n",
       "    }\n",
       "\n",
       "    .dataframe thead th {\n",
       "        text-align: right;\n",
       "    }\n",
       "</style>\n",
       "<table border=\"1\" class=\"dataframe\">\n",
       "  <thead>\n",
       "    <tr style=\"text-align: right;\">\n",
       "      <th></th>\n",
       "    </tr>\n",
       "  </thead>\n",
       "  <tbody>\n",
       "  </tbody>\n",
       "</table>\n",
       "</div>"
      ],
      "text/plain": [
       "Empty DataFrame\n",
       "Columns: []\n",
       "Index: []"
      ]
     },
     "execution_count": 1,
     "metadata": {},
     "output_type": "execute_result"
    }
   ],
   "source": [
    "# импортируем библиотеки\n",
    "import pandas as pd\n",
    "from sqlalchemy import text, create_engine\n",
    "\n",
    "# устанавливаем параметры\n",
    "db_config = {'user': 'praktikum_student', # имя пользователя\n",
    "'pwd': 'Sdf4$2;d-d30pp', # пароль\n",
    "'host': 'rc1b-wcoijxj3yxfsf3fs.mdb.yandexcloud.net',\n",
    "'port': 6432, # порт подключения\n",
    "'db': 'data-analyst-final-project-db'} # название базы данных\n",
    "connection_string = 'postgresql://{user}:{pwd}@{host}:{port}/{db}'.format(**db_config)\n",
    "\n",
    "# сохраняем коннектор\n",
    "engine = create_engine(connection_string, connect_args={'sslmode':'require'})\n",
    "\n",
    "# чтобы выполнить SQL-запрос, используем Pandas\n",
    "query = '''SELECT FROM books LIMIT 5'''\n",
    "\n",
    "con=engine.connect()\n",
    "\n",
    "pd.io.sql.read_sql(sql=text(query), con = con)"
   ]
  },
  {
   "cell_type": "code",
   "execution_count": 2,
   "metadata": {},
   "outputs": [],
   "source": [
    "def read(query):\n",
    "    result = pd.io.sql.read_sql(query, con = engine)\n",
    "    return result"
   ]
  },
  {
   "cell_type": "markdown",
   "metadata": {},
   "source": [
    "## Исследование  таблицы— вывод первых строк\n",
    "<a id=\"limit\"></a> "
   ]
  },
  {
   "cell_type": "code",
   "execution_count": 3,
   "metadata": {},
   "outputs": [
    {
     "data": {
      "text/html": [
       "<div>\n",
       "<style scoped>\n",
       "    .dataframe tbody tr th:only-of-type {\n",
       "        vertical-align: middle;\n",
       "    }\n",
       "\n",
       "    .dataframe tbody tr th {\n",
       "        vertical-align: top;\n",
       "    }\n",
       "\n",
       "    .dataframe thead th {\n",
       "        text-align: right;\n",
       "    }\n",
       "</style>\n",
       "<table border=\"1\" class=\"dataframe\">\n",
       "  <thead>\n",
       "    <tr style=\"text-align: right;\">\n",
       "      <th></th>\n",
       "      <th>book_id</th>\n",
       "      <th>author_id</th>\n",
       "      <th>title</th>\n",
       "      <th>num_pages</th>\n",
       "      <th>publication_date</th>\n",
       "      <th>publisher_id</th>\n",
       "    </tr>\n",
       "  </thead>\n",
       "  <tbody>\n",
       "    <tr>\n",
       "      <th>0</th>\n",
       "      <td>49</td>\n",
       "      <td>569</td>\n",
       "      <td>A Streetcar Named Desire</td>\n",
       "      <td>107</td>\n",
       "      <td>1952-12-01</td>\n",
       "      <td>97</td>\n",
       "    </tr>\n",
       "    <tr>\n",
       "      <th>1</th>\n",
       "      <td>823</td>\n",
       "      <td>20</td>\n",
       "      <td>The Philosophy of Andy Warhol (From A to B and...</td>\n",
       "      <td>272</td>\n",
       "      <td>1977-04-06</td>\n",
       "      <td>178</td>\n",
       "    </tr>\n",
       "    <tr>\n",
       "      <th>2</th>\n",
       "      <td>869</td>\n",
       "      <td>542</td>\n",
       "      <td>The Shining</td>\n",
       "      <td>659</td>\n",
       "      <td>1980-07-01</td>\n",
       "      <td>190</td>\n",
       "    </tr>\n",
       "    <tr>\n",
       "      <th>3</th>\n",
       "      <td>321</td>\n",
       "      <td>197</td>\n",
       "      <td>Homage to Catalonia</td>\n",
       "      <td>232</td>\n",
       "      <td>1980-10-22</td>\n",
       "      <td>124</td>\n",
       "    </tr>\n",
       "    <tr>\n",
       "      <th>4</th>\n",
       "      <td>126</td>\n",
       "      <td>173</td>\n",
       "      <td>Brideshead Revisited</td>\n",
       "      <td>351</td>\n",
       "      <td>1982-01-30</td>\n",
       "      <td>31</td>\n",
       "    </tr>\n",
       "  </tbody>\n",
       "</table>\n",
       "</div>"
      ],
      "text/plain": [
       "   book_id  author_id                                              title  \\\n",
       "0       49        569                           A Streetcar Named Desire   \n",
       "1      823         20  The Philosophy of Andy Warhol (From A to B and...   \n",
       "2      869        542                                        The Shining   \n",
       "3      321        197                                Homage to Catalonia   \n",
       "4      126        173                               Brideshead Revisited   \n",
       "\n",
       "   num_pages publication_date  publisher_id  \n",
       "0        107       1952-12-01            97  \n",
       "1        272       1977-04-06           178  \n",
       "2        659       1980-07-01           190  \n",
       "3        232       1980-10-22           124  \n",
       "4        351       1982-01-30            31  "
      ]
     },
     "execution_count": 3,
     "metadata": {},
     "output_type": "execute_result"
    }
   ],
   "source": [
    "books ='''SELECT * FROM books \n",
    "          ORDER BY publication_date ::date \n",
    "          LIMIT 5'''\n",
    "\n",
    "read(books)"
   ]
  },
  {
   "cell_type": "markdown",
   "metadata": {},
   "source": [
    "**Таблица `books`**\n",
    "\n",
    "Содержит данные о книгах:\n",
    "\n",
    "- `book_id` — идентификатор книги PK;\n",
    "- `author_id` — идентификатор автораFK;\n",
    "- `title` — название книги;\n",
    "- `num_pages` — количество страниц;\n",
    "- `publication_date` — дата публикации книги;\n",
    "- `publisher_id` — идентификатор издателяFK."
   ]
  },
  {
   "cell_type": "code",
   "execution_count": 4,
   "metadata": {
    "scrolled": true
   },
   "outputs": [
    {
     "data": {
      "text/html": [
       "<div>\n",
       "<style scoped>\n",
       "    .dataframe tbody tr th:only-of-type {\n",
       "        vertical-align: middle;\n",
       "    }\n",
       "\n",
       "    .dataframe tbody tr th {\n",
       "        vertical-align: top;\n",
       "    }\n",
       "\n",
       "    .dataframe thead th {\n",
       "        text-align: right;\n",
       "    }\n",
       "</style>\n",
       "<table border=\"1\" class=\"dataframe\">\n",
       "  <thead>\n",
       "    <tr style=\"text-align: right;\">\n",
       "      <th></th>\n",
       "      <th>author_id</th>\n",
       "      <th>author</th>\n",
       "    </tr>\n",
       "  </thead>\n",
       "  <tbody>\n",
       "    <tr>\n",
       "      <th>0</th>\n",
       "      <td>1</td>\n",
       "      <td>A.S. Byatt</td>\n",
       "    </tr>\n",
       "    <tr>\n",
       "      <th>1</th>\n",
       "      <td>2</td>\n",
       "      <td>Aesop/Laura Harris/Laura Gibbs</td>\n",
       "    </tr>\n",
       "    <tr>\n",
       "      <th>2</th>\n",
       "      <td>3</td>\n",
       "      <td>Agatha Christie</td>\n",
       "    </tr>\n",
       "    <tr>\n",
       "      <th>3</th>\n",
       "      <td>4</td>\n",
       "      <td>Alan Brennert</td>\n",
       "    </tr>\n",
       "    <tr>\n",
       "      <th>4</th>\n",
       "      <td>5</td>\n",
       "      <td>Alan Moore/David   Lloyd</td>\n",
       "    </tr>\n",
       "  </tbody>\n",
       "</table>\n",
       "</div>"
      ],
      "text/plain": [
       "   author_id                          author\n",
       "0          1                      A.S. Byatt\n",
       "1          2  Aesop/Laura Harris/Laura Gibbs\n",
       "2          3                 Agatha Christie\n",
       "3          4                   Alan Brennert\n",
       "4          5        Alan Moore/David   Lloyd"
      ]
     },
     "execution_count": 4,
     "metadata": {},
     "output_type": "execute_result"
    }
   ],
   "source": [
    "authors ='''SELECT  * FROM authors LIMIT 5'''\n",
    "\n",
    "read(authors)"
   ]
  },
  {
   "cell_type": "markdown",
   "metadata": {},
   "source": [
    "**Таблица `authors`**\n",
    "\n",
    "Содержит данные об авторах:\n",
    "\n",
    "- `author_id` — идентификатор автора;\n",
    "- `author` — имя автора."
   ]
  },
  {
   "cell_type": "code",
   "execution_count": 5,
   "metadata": {},
   "outputs": [
    {
     "data": {
      "text/html": [
       "<div>\n",
       "<style scoped>\n",
       "    .dataframe tbody tr th:only-of-type {\n",
       "        vertical-align: middle;\n",
       "    }\n",
       "\n",
       "    .dataframe tbody tr th {\n",
       "        vertical-align: top;\n",
       "    }\n",
       "\n",
       "    .dataframe thead th {\n",
       "        text-align: right;\n",
       "    }\n",
       "</style>\n",
       "<table border=\"1\" class=\"dataframe\">\n",
       "  <thead>\n",
       "    <tr style=\"text-align: right;\">\n",
       "      <th></th>\n",
       "      <th>publisher_id</th>\n",
       "      <th>publisher</th>\n",
       "    </tr>\n",
       "  </thead>\n",
       "  <tbody>\n",
       "    <tr>\n",
       "      <th>0</th>\n",
       "      <td>1</td>\n",
       "      <td>Ace</td>\n",
       "    </tr>\n",
       "    <tr>\n",
       "      <th>1</th>\n",
       "      <td>2</td>\n",
       "      <td>Ace Book</td>\n",
       "    </tr>\n",
       "    <tr>\n",
       "      <th>2</th>\n",
       "      <td>3</td>\n",
       "      <td>Ace Books</td>\n",
       "    </tr>\n",
       "    <tr>\n",
       "      <th>3</th>\n",
       "      <td>4</td>\n",
       "      <td>Ace Hardcover</td>\n",
       "    </tr>\n",
       "    <tr>\n",
       "      <th>4</th>\n",
       "      <td>5</td>\n",
       "      <td>Addison Wesley Publishing Company</td>\n",
       "    </tr>\n",
       "  </tbody>\n",
       "</table>\n",
       "</div>"
      ],
      "text/plain": [
       "   publisher_id                          publisher\n",
       "0             1                                Ace\n",
       "1             2                           Ace Book\n",
       "2             3                          Ace Books\n",
       "3             4                      Ace Hardcover\n",
       "4             5  Addison Wesley Publishing Company"
      ]
     },
     "execution_count": 5,
     "metadata": {},
     "output_type": "execute_result"
    }
   ],
   "source": [
    "publishers ='''SELECT * FROM publishers LIMIT 5'''\n",
    "\n",
    "read(publishers)"
   ]
  },
  {
   "cell_type": "markdown",
   "metadata": {},
   "source": [
    "**Таблица `publishers`**\n",
    "\n",
    "Содержит данные об издательствах:\n",
    "\n",
    "- `publisher_id` — идентификатор издательства;\n",
    "- `publisher` — название издательства;"
   ]
  },
  {
   "cell_type": "code",
   "execution_count": 6,
   "metadata": {},
   "outputs": [
    {
     "data": {
      "text/html": [
       "<div>\n",
       "<style scoped>\n",
       "    .dataframe tbody tr th:only-of-type {\n",
       "        vertical-align: middle;\n",
       "    }\n",
       "\n",
       "    .dataframe tbody tr th {\n",
       "        vertical-align: top;\n",
       "    }\n",
       "\n",
       "    .dataframe thead th {\n",
       "        text-align: right;\n",
       "    }\n",
       "</style>\n",
       "<table border=\"1\" class=\"dataframe\">\n",
       "  <thead>\n",
       "    <tr style=\"text-align: right;\">\n",
       "      <th></th>\n",
       "      <th>rating_id</th>\n",
       "      <th>book_id</th>\n",
       "      <th>username</th>\n",
       "      <th>rating</th>\n",
       "    </tr>\n",
       "  </thead>\n",
       "  <tbody>\n",
       "    <tr>\n",
       "      <th>0</th>\n",
       "      <td>1</td>\n",
       "      <td>1</td>\n",
       "      <td>ryanfranco</td>\n",
       "      <td>4</td>\n",
       "    </tr>\n",
       "    <tr>\n",
       "      <th>1</th>\n",
       "      <td>2</td>\n",
       "      <td>1</td>\n",
       "      <td>grantpatricia</td>\n",
       "      <td>2</td>\n",
       "    </tr>\n",
       "    <tr>\n",
       "      <th>2</th>\n",
       "      <td>3</td>\n",
       "      <td>1</td>\n",
       "      <td>brandtandrea</td>\n",
       "      <td>5</td>\n",
       "    </tr>\n",
       "    <tr>\n",
       "      <th>3</th>\n",
       "      <td>4</td>\n",
       "      <td>2</td>\n",
       "      <td>lorichen</td>\n",
       "      <td>3</td>\n",
       "    </tr>\n",
       "    <tr>\n",
       "      <th>4</th>\n",
       "      <td>5</td>\n",
       "      <td>2</td>\n",
       "      <td>mariokeller</td>\n",
       "      <td>2</td>\n",
       "    </tr>\n",
       "  </tbody>\n",
       "</table>\n",
       "</div>"
      ],
      "text/plain": [
       "   rating_id  book_id       username  rating\n",
       "0          1        1     ryanfranco       4\n",
       "1          2        1  grantpatricia       2\n",
       "2          3        1   brandtandrea       5\n",
       "3          4        2       lorichen       3\n",
       "4          5        2    mariokeller       2"
      ]
     },
     "execution_count": 6,
     "metadata": {},
     "output_type": "execute_result"
    }
   ],
   "source": [
    "ratings ='''SELECT * FROM ratings LIMIT 5'''\n",
    "\n",
    "read(ratings)"
   ]
  },
  {
   "cell_type": "markdown",
   "metadata": {},
   "source": [
    "**Таблица `ratings`**\n",
    "\n",
    "Содержит данные о пользовательских оценках книг:\n",
    "\n",
    "- `rating_id` — идентификатор оценки;\n",
    "- `book_id` — идентификатор книги;\n",
    "- `username` — имя пользователя, оставившего оценку;\n",
    "- `rating` — оценка книги."
   ]
  },
  {
   "cell_type": "code",
   "execution_count": 7,
   "metadata": {},
   "outputs": [
    {
     "data": {
      "text/html": [
       "<div>\n",
       "<style scoped>\n",
       "    .dataframe tbody tr th:only-of-type {\n",
       "        vertical-align: middle;\n",
       "    }\n",
       "\n",
       "    .dataframe tbody tr th {\n",
       "        vertical-align: top;\n",
       "    }\n",
       "\n",
       "    .dataframe thead th {\n",
       "        text-align: right;\n",
       "    }\n",
       "</style>\n",
       "<table border=\"1\" class=\"dataframe\">\n",
       "  <thead>\n",
       "    <tr style=\"text-align: right;\">\n",
       "      <th></th>\n",
       "      <th>review_id</th>\n",
       "      <th>book_id</th>\n",
       "      <th>username</th>\n",
       "      <th>text</th>\n",
       "    </tr>\n",
       "  </thead>\n",
       "  <tbody>\n",
       "    <tr>\n",
       "      <th>0</th>\n",
       "      <td>1</td>\n",
       "      <td>1</td>\n",
       "      <td>brandtandrea</td>\n",
       "      <td>Mention society tell send professor analysis. ...</td>\n",
       "    </tr>\n",
       "    <tr>\n",
       "      <th>1</th>\n",
       "      <td>2</td>\n",
       "      <td>1</td>\n",
       "      <td>ryanfranco</td>\n",
       "      <td>Foot glass pretty audience hit themselves. Amo...</td>\n",
       "    </tr>\n",
       "    <tr>\n",
       "      <th>2</th>\n",
       "      <td>3</td>\n",
       "      <td>2</td>\n",
       "      <td>lorichen</td>\n",
       "      <td>Listen treat keep worry. Miss husband tax but ...</td>\n",
       "    </tr>\n",
       "    <tr>\n",
       "      <th>3</th>\n",
       "      <td>4</td>\n",
       "      <td>3</td>\n",
       "      <td>johnsonamanda</td>\n",
       "      <td>Finally month interesting blue could nature cu...</td>\n",
       "    </tr>\n",
       "    <tr>\n",
       "      <th>4</th>\n",
       "      <td>5</td>\n",
       "      <td>3</td>\n",
       "      <td>scotttamara</td>\n",
       "      <td>Nation purpose heavy give wait song will. List...</td>\n",
       "    </tr>\n",
       "  </tbody>\n",
       "</table>\n",
       "</div>"
      ],
      "text/plain": [
       "   review_id  book_id       username  \\\n",
       "0          1        1   brandtandrea   \n",
       "1          2        1     ryanfranco   \n",
       "2          3        2       lorichen   \n",
       "3          4        3  johnsonamanda   \n",
       "4          5        3    scotttamara   \n",
       "\n",
       "                                                text  \n",
       "0  Mention society tell send professor analysis. ...  \n",
       "1  Foot glass pretty audience hit themselves. Amo...  \n",
       "2  Listen treat keep worry. Miss husband tax but ...  \n",
       "3  Finally month interesting blue could nature cu...  \n",
       "4  Nation purpose heavy give wait song will. List...  "
      ]
     },
     "execution_count": 7,
     "metadata": {},
     "output_type": "execute_result"
    }
   ],
   "source": [
    "reviews ='''SELECT * FROM reviews LIMIT 5'''\n",
    "\n",
    "read(reviews)"
   ]
  },
  {
   "cell_type": "markdown",
   "metadata": {},
   "source": [
    "**Таблица `reviews`**\n",
    "\n",
    "Содержит данные о пользовательских обзорах на книги:\n",
    "\n",
    "- `review_id` — идентификатор обзора;\n",
    "- `book_id` — идентификатор книги;\n",
    "- `username` — имя пользователя, написавшего обзор;\n",
    "- `text` — текст обзора."
   ]
  },
  {
   "cell_type": "markdown",
   "metadata": {},
   "source": [
    "## Посчитать, сколько книг вышло после 1 января 2000 года\n",
    "<a id=\"step1\"></a> "
   ]
  },
  {
   "cell_type": "code",
   "execution_count": 8,
   "metadata": {},
   "outputs": [
    {
     "data": {
      "text/html": [
       "<div>\n",
       "<style scoped>\n",
       "    .dataframe tbody tr th:only-of-type {\n",
       "        vertical-align: middle;\n",
       "    }\n",
       "\n",
       "    .dataframe tbody tr th {\n",
       "        vertical-align: top;\n",
       "    }\n",
       "\n",
       "    .dataframe thead th {\n",
       "        text-align: right;\n",
       "    }\n",
       "</style>\n",
       "<table border=\"1\" class=\"dataframe\">\n",
       "  <thead>\n",
       "    <tr style=\"text-align: right;\">\n",
       "      <th></th>\n",
       "      <th>Книги_после_1_января_2000_года</th>\n",
       "    </tr>\n",
       "  </thead>\n",
       "  <tbody>\n",
       "    <tr>\n",
       "      <th>0</th>\n",
       "      <td>819</td>\n",
       "    </tr>\n",
       "  </tbody>\n",
       "</table>\n",
       "</div>"
      ],
      "text/plain": [
       "   Книги_после_1_января_2000_года\n",
       "0                             819"
      ]
     },
     "execution_count": 8,
     "metadata": {},
     "output_type": "execute_result"
    }
   ],
   "source": [
    "count_books_after_2000 ='''SELECT COUNT(book_id) AS Книги_после_1_января_2000_года\n",
    "                           FROM books\n",
    "                           WHERE publication_date > '2000-01-01'\n",
    "                           ; '''\n",
    "read(count_books_after_2000)"
   ]
  },
  {
   "cell_type": "markdown",
   "metadata": {},
   "source": [
    "В базе содержится 819 книг, которые вышли с 1 января 2000 года"
   ]
  },
  {
   "cell_type": "markdown",
   "metadata": {},
   "source": [
    "## Для каждой книги посчитать количество обзоров и среднюю оценку\n",
    "<a id=\"step2\"></a> "
   ]
  },
  {
   "cell_type": "code",
   "execution_count": 9,
   "metadata": {},
   "outputs": [
    {
     "data": {
      "text/html": [
       "<div>\n",
       "<style scoped>\n",
       "    .dataframe tbody tr th:only-of-type {\n",
       "        vertical-align: middle;\n",
       "    }\n",
       "\n",
       "    .dataframe tbody tr th {\n",
       "        vertical-align: top;\n",
       "    }\n",
       "\n",
       "    .dataframe thead th {\n",
       "        text-align: right;\n",
       "    }\n",
       "</style>\n",
       "<table border=\"1\" class=\"dataframe\">\n",
       "  <thead>\n",
       "    <tr style=\"text-align: right;\">\n",
       "      <th></th>\n",
       "      <th>Книга</th>\n",
       "      <th>Количество_обзоров</th>\n",
       "      <th>Средний_рейтинг</th>\n",
       "    </tr>\n",
       "  </thead>\n",
       "  <tbody>\n",
       "    <tr>\n",
       "      <th>0</th>\n",
       "      <td>Twilight (Twilight  #1)</td>\n",
       "      <td>7</td>\n",
       "      <td>3.66</td>\n",
       "    </tr>\n",
       "    <tr>\n",
       "      <th>1</th>\n",
       "      <td>The Curious Incident of the Dog in the Night-Time</td>\n",
       "      <td>6</td>\n",
       "      <td>4.08</td>\n",
       "    </tr>\n",
       "    <tr>\n",
       "      <th>2</th>\n",
       "      <td>Harry Potter and the Chamber of Secrets (Harry...</td>\n",
       "      <td>6</td>\n",
       "      <td>4.29</td>\n",
       "    </tr>\n",
       "    <tr>\n",
       "      <th>3</th>\n",
       "      <td>The Da Vinci Code (Robert Langdon  #2)</td>\n",
       "      <td>6</td>\n",
       "      <td>3.83</td>\n",
       "    </tr>\n",
       "    <tr>\n",
       "      <th>4</th>\n",
       "      <td>The Glass Castle</td>\n",
       "      <td>6</td>\n",
       "      <td>4.21</td>\n",
       "    </tr>\n",
       "    <tr>\n",
       "      <th>...</th>\n",
       "      <td>...</td>\n",
       "      <td>...</td>\n",
       "      <td>...</td>\n",
       "    </tr>\n",
       "    <tr>\n",
       "      <th>995</th>\n",
       "      <td>The Cat in the Hat and Other Dr. Seuss Favorites</td>\n",
       "      <td>0</td>\n",
       "      <td>5.00</td>\n",
       "    </tr>\n",
       "    <tr>\n",
       "      <th>996</th>\n",
       "      <td>The Natural Way to Draw</td>\n",
       "      <td>0</td>\n",
       "      <td>3.00</td>\n",
       "    </tr>\n",
       "    <tr>\n",
       "      <th>997</th>\n",
       "      <td>Essential Tales and Poems</td>\n",
       "      <td>0</td>\n",
       "      <td>4.00</td>\n",
       "    </tr>\n",
       "    <tr>\n",
       "      <th>998</th>\n",
       "      <td>Leonardo's Notebooks</td>\n",
       "      <td>0</td>\n",
       "      <td>4.00</td>\n",
       "    </tr>\n",
       "    <tr>\n",
       "      <th>999</th>\n",
       "      <td>Anne Rice's The Vampire Lestat: A Graphic Novel</td>\n",
       "      <td>0</td>\n",
       "      <td>3.67</td>\n",
       "    </tr>\n",
       "  </tbody>\n",
       "</table>\n",
       "<p>1000 rows × 3 columns</p>\n",
       "</div>"
      ],
      "text/plain": [
       "                                                 Книга  Количество_обзоров  \\\n",
       "0                              Twilight (Twilight  #1)                   7   \n",
       "1    The Curious Incident of the Dog in the Night-Time                   6   \n",
       "2    Harry Potter and the Chamber of Secrets (Harry...                   6   \n",
       "3               The Da Vinci Code (Robert Langdon  #2)                   6   \n",
       "4                                     The Glass Castle                   6   \n",
       "..                                                 ...                 ...   \n",
       "995   The Cat in the Hat and Other Dr. Seuss Favorites                   0   \n",
       "996                            The Natural Way to Draw                   0   \n",
       "997                          Essential Tales and Poems                   0   \n",
       "998                               Leonardo's Notebooks                   0   \n",
       "999    Anne Rice's The Vampire Lestat: A Graphic Novel                   0   \n",
       "\n",
       "     Средний_рейтинг  \n",
       "0               3.66  \n",
       "1               4.08  \n",
       "2               4.29  \n",
       "3               3.83  \n",
       "4               4.21  \n",
       "..               ...  \n",
       "995             5.00  \n",
       "996             3.00  \n",
       "997             4.00  \n",
       "998             4.00  \n",
       "999             3.67  \n",
       "\n",
       "[1000 rows x 3 columns]"
      ]
     },
     "execution_count": 9,
     "metadata": {},
     "output_type": "execute_result"
    }
   ],
   "source": [
    "review_avg_rating ='''SELECT bk.title AS Книга,\n",
    "                             count_review AS Количество_обзоров,\n",
    "                             avg_rating AS Средний_рейтинг\n",
    "                      FROM  (SELECT b.book_id,\n",
    "                                    b.title,\n",
    "                                    COUNT(rw.review_id) AS count_review\n",
    "                             FROM books AS b\n",
    "                             LEFT JOIN reviews AS rw ON b.book_id = rw.book_id\n",
    "                             \n",
    "                             GROUP BY b.book_id) AS bk\n",
    "                      LEFT JOIN (SELECT b.book_id,\n",
    "                                        b.title,\n",
    "                                        ROUND(AVG(rng.rating),2) AS avg_rating\n",
    "                                 FROM books AS b\n",
    "                                 LEFT JOIN ratings AS rng ON b.book_id = rng.book_id\n",
    "                                 GROUP BY b.book_id) AS rat ON bk.book_id=rat.book_id\n",
    "                      ORDER BY count_review DESC\n",
    "                      ;'''\n",
    "read(review_avg_rating)"
   ]
  },
  {
   "cell_type": "markdown",
   "metadata": {},
   "source": [
    "*Больше всего обзоров написано на книгу Сумерки, но средний рейтинг книги сильно средний 3.66*\n",
    "\n",
    "*В то время как на книгу Гарри Поттер и узник Азкабана написано 6 обзоров, а средний рейтинг 4.41*\n"
   ]
  },
  {
   "cell_type": "markdown",
   "metadata": {},
   "source": [
    "## Определите издательство, которое выпустило наибольшее число книг толще 50 страниц — так  исключим из анализа брошюры\n",
    "<a id=\"step3\"></a> "
   ]
  },
  {
   "cell_type": "code",
   "execution_count": 10,
   "metadata": {
    "scrolled": true
   },
   "outputs": [
    {
     "name": "stdout",
     "output_type": "stream",
     "text": [
      "Топ-5 издательств\n"
     ]
    },
    {
     "data": {
      "text/html": [
       "<div>\n",
       "<style scoped>\n",
       "    .dataframe tbody tr th:only-of-type {\n",
       "        vertical-align: middle;\n",
       "    }\n",
       "\n",
       "    .dataframe tbody tr th {\n",
       "        vertical-align: top;\n",
       "    }\n",
       "\n",
       "    .dataframe thead th {\n",
       "        text-align: right;\n",
       "    }\n",
       "</style>\n",
       "<table border=\"1\" class=\"dataframe\">\n",
       "  <thead>\n",
       "    <tr style=\"text-align: right;\">\n",
       "      <th></th>\n",
       "      <th>Издательство</th>\n",
       "      <th>Количество_книг</th>\n",
       "    </tr>\n",
       "  </thead>\n",
       "  <tbody>\n",
       "    <tr>\n",
       "      <th>0</th>\n",
       "      <td>Penguin Books</td>\n",
       "      <td>42</td>\n",
       "    </tr>\n",
       "    <tr>\n",
       "      <th>1</th>\n",
       "      <td>Vintage</td>\n",
       "      <td>31</td>\n",
       "    </tr>\n",
       "    <tr>\n",
       "      <th>2</th>\n",
       "      <td>Grand Central Publishing</td>\n",
       "      <td>25</td>\n",
       "    </tr>\n",
       "    <tr>\n",
       "      <th>3</th>\n",
       "      <td>Penguin Classics</td>\n",
       "      <td>24</td>\n",
       "    </tr>\n",
       "    <tr>\n",
       "      <th>4</th>\n",
       "      <td>Bantam</td>\n",
       "      <td>19</td>\n",
       "    </tr>\n",
       "  </tbody>\n",
       "</table>\n",
       "</div>"
      ],
      "text/plain": [
       "               Издательство  Количество_книг\n",
       "0             Penguin Books               42\n",
       "1                   Vintage               31\n",
       "2  Grand Central Publishing               25\n",
       "3          Penguin Classics               24\n",
       "4                    Bantam               19"
      ]
     },
     "execution_count": 10,
     "metadata": {},
     "output_type": "execute_result"
    }
   ],
   "source": [
    "publishers_best = ''' SELECT publisher AS Издательство,\n",
    "                             COUNT(book_id) AS Количество_книг\n",
    "                      FROM publishers AS p\n",
    "                      FULL OUTER JOIN books AS b ON p.publisher_id = b.publisher_id\n",
    "                      WHERE num_pages > 50 \n",
    "                      GROUP BY p.publisher_id  \n",
    "                      ORDER BY COUNT(book_id) DESC\n",
    "                      LIMIT 5;'''\n",
    "print('Топ-5 издательств')\n",
    "read(publishers_best)"
   ]
  },
  {
   "cell_type": "markdown",
   "metadata": {},
   "source": [
    "*У нас в базе 334 издательства, которые выпускают книги*"
   ]
  },
  {
   "cell_type": "markdown",
   "metadata": {},
   "source": [
    "## Определить автора с самой высокой средней оценкой книг — учитывая только книги с 50 и более оценками\n",
    "<a id=\"step4\"></a> "
   ]
  },
  {
   "cell_type": "code",
   "execution_count": 11,
   "metadata": {},
   "outputs": [
    {
     "name": "stdout",
     "output_type": "stream",
     "text": [
      "Топ - 5 авторов с самым высоким средним рейтингом\n"
     ]
    },
    {
     "data": {
      "text/html": [
       "<div>\n",
       "<style scoped>\n",
       "    .dataframe tbody tr th:only-of-type {\n",
       "        vertical-align: middle;\n",
       "    }\n",
       "\n",
       "    .dataframe tbody tr th {\n",
       "        vertical-align: top;\n",
       "    }\n",
       "\n",
       "    .dataframe thead th {\n",
       "        text-align: right;\n",
       "    }\n",
       "</style>\n",
       "<table border=\"1\" class=\"dataframe\">\n",
       "  <thead>\n",
       "    <tr style=\"text-align: right;\">\n",
       "      <th></th>\n",
       "      <th>Автор</th>\n",
       "      <th>Средний_рейтинг</th>\n",
       "    </tr>\n",
       "  </thead>\n",
       "  <tbody>\n",
       "    <tr>\n",
       "      <th>0</th>\n",
       "      <td>J.K. Rowling/Mary GrandPré</td>\n",
       "      <td>4.283844</td>\n",
       "    </tr>\n",
       "    <tr>\n",
       "      <th>1</th>\n",
       "      <td>Markus Zusak/Cao Xuân Việt Khương</td>\n",
       "      <td>4.264151</td>\n",
       "    </tr>\n",
       "    <tr>\n",
       "      <th>2</th>\n",
       "      <td>J.R.R. Tolkien</td>\n",
       "      <td>4.258446</td>\n",
       "    </tr>\n",
       "    <tr>\n",
       "      <th>3</th>\n",
       "      <td>Louisa May Alcott</td>\n",
       "      <td>4.192308</td>\n",
       "    </tr>\n",
       "    <tr>\n",
       "      <th>4</th>\n",
       "      <td>Rick Riordan</td>\n",
       "      <td>4.080645</td>\n",
       "    </tr>\n",
       "  </tbody>\n",
       "</table>\n",
       "</div>"
      ],
      "text/plain": [
       "                               Автор  Средний_рейтинг\n",
       "0         J.K. Rowling/Mary GrandPré         4.283844\n",
       "1  Markus Zusak/Cao Xuân Việt Khương         4.264151\n",
       "2                     J.R.R. Tolkien         4.258446\n",
       "3                  Louisa May Alcott         4.192308\n",
       "4                       Rick Riordan         4.080645"
      ]
     },
     "execution_count": 11,
     "metadata": {},
     "output_type": "execute_result"
    }
   ],
   "source": [
    "author_best = ''' SELECT a.author AS Автор,\n",
    "                         AVG(rio.rating_avg) AS Средний_рейтинг                               \n",
    "                  FROM authors a\n",
    "                  RIGHT JOIN (SELECT rng.book_id AS book_id,\n",
    "                                     b.author_id AS author_id,\n",
    "                                     COUNT(rng.rating_id) AS ratings_sum,\n",
    "                                     AVG(rng.rating) AS rating_avg\n",
    "                              FROM ratings rng\n",
    "                              LEFT JOIN books b ON b.book_id = rng.book_id\n",
    "                              GROUP BY rng.book_id, b.author_id\n",
    "                              HAVING COUNT(rating_id) >= 50) AS rio ON a.author_id=rio.author_id\n",
    "                  GROUP BY a.author\n",
    "                  ORDER BY AVG(rio.rating_avg) DESC\n",
    "                  LIMIT 5                 \n",
    "                  ;'''\n",
    "print('Топ - 5 авторов с самым высоким средним рейтингом')\n",
    "read(author_best)"
   ]
  },
  {
   "cell_type": "markdown",
   "metadata": {},
   "source": [
    "*Оттобрали 5 авторов с самым высоким средним рейтингом набравшим не менее 50 оценок.* \n",
    "\n",
    "*Дж.К. Роулинг/Мэри ГрандПре имеет лучший рейтинг*"
   ]
  },
  {
   "cell_type": "markdown",
   "metadata": {},
   "source": [
    "## Посчитать среднее количество обзоров от пользователей, которые поставили больше 48 оценок\n",
    "<a id=\"step5\"></a> "
   ]
  },
  {
   "cell_type": "code",
   "execution_count": 12,
   "metadata": {
    "scrolled": true
   },
   "outputs": [
    {
     "data": {
      "text/html": [
       "<div>\n",
       "<style scoped>\n",
       "    .dataframe tbody tr th:only-of-type {\n",
       "        vertical-align: middle;\n",
       "    }\n",
       "\n",
       "    .dataframe tbody tr th {\n",
       "        vertical-align: top;\n",
       "    }\n",
       "\n",
       "    .dataframe thead th {\n",
       "        text-align: right;\n",
       "    }\n",
       "</style>\n",
       "<table border=\"1\" class=\"dataframe\">\n",
       "  <thead>\n",
       "    <tr style=\"text-align: right;\">\n",
       "      <th></th>\n",
       "      <th>Среднее_количество_обзоров</th>\n",
       "    </tr>\n",
       "  </thead>\n",
       "  <tbody>\n",
       "    <tr>\n",
       "      <th>0</th>\n",
       "      <td>24.0</td>\n",
       "    </tr>\n",
       "  </tbody>\n",
       "</table>\n",
       "</div>"
      ],
      "text/plain": [
       "   Среднее_количество_обзоров\n",
       "0                        24.0"
      ]
     },
     "execution_count": 12,
     "metadata": {},
     "output_type": "execute_result"
    }
   ],
   "source": [
    "R= '''SELECT AVG(c_r.count_review) AS Среднее_количество_обзоров\n",
    "      FROM (SELECT username,\n",
    "                   COUNT(review_id) AS count_review\n",
    "            FROM reviews \n",
    "            WHERE username IN (SELECT username\n",
    "                               FROM ratings\n",
    "                               GROUP BY username\n",
    "                               HAVING COUNT(rating_id) > 48)\n",
    "            GROUP BY username) AS c_r\n",
    "      ;\n",
    "                    '''\n",
    "read(R)"
   ]
  },
  {
   "cell_type": "markdown",
   "metadata": {},
   "source": [
    "*Активные пользователи пишут в среднем 24 обзора* "
   ]
  },
  {
   "cell_type": "markdown",
   "metadata": {},
   "source": [
    "## Выводы\n",
    "<a id=\"text\"></a> "
   ]
  },
  {
   "cell_type": "markdown",
   "metadata": {},
   "source": [
    "В базе хранятся книги с 1952 года. С 1 января 2000 года вышло 819 книг 80% от общего количества 1000шт. \n",
    "\n",
    "Больше всего обзоров написано на книгу Сумерки, но средний рейтинг книги сильно средний 3.66\n",
    "\n",
    "В то время как на книгу Гарри Поттер и узник Азкабана написано 6 обзоров, а средний рейтинг 4.41\n",
    "\n",
    "У нас в базе 334 издательства\n",
    "\n",
    "Больше всего книг в базе представлено издательством Penguin Books 42 шт.\n",
    "\n",
    "Книги автора  J.K. Rowling/Mary GrandPré  читалелям нравятся больше всего\n",
    "\n",
    "В среднем активные пользователи,  которые оценили более 48 книг пишут 24 образа\n"
   ]
  }
 ],
 "metadata": {
  "ExecuteTimeLog": [
   {
    "duration": 25334,
    "start_time": "2023-07-27T06:56:49.008Z"
   },
   {
    "duration": 127,
    "start_time": "2023-07-27T06:57:56.384Z"
   },
   {
    "duration": 2,
    "start_time": "2023-07-27T07:04:02.154Z"
   },
   {
    "duration": 74,
    "start_time": "2023-07-27T07:06:11.342Z"
   },
   {
    "duration": 76,
    "start_time": "2023-07-27T07:09:24.533Z"
   },
   {
    "duration": 282,
    "start_time": "2023-07-27T07:09:51.548Z"
   },
   {
    "duration": 73,
    "start_time": "2023-07-27T07:11:39.739Z"
   },
   {
    "duration": 73,
    "start_time": "2023-07-27T07:13:31.107Z"
   },
   {
    "duration": 74,
    "start_time": "2023-07-27T07:15:23.544Z"
   },
   {
    "duration": 73,
    "start_time": "2023-07-27T07:17:18.765Z"
   },
   {
    "duration": 72,
    "start_time": "2023-07-27T07:17:36.720Z"
   },
   {
    "duration": 73,
    "start_time": "2023-07-27T07:17:52.773Z"
   },
   {
    "duration": 73,
    "start_time": "2023-07-27T07:18:10.162Z"
   },
   {
    "duration": 73,
    "start_time": "2023-07-27T07:18:25.740Z"
   },
   {
    "duration": 72,
    "start_time": "2023-07-27T07:27:43.440Z"
   },
   {
    "duration": 71,
    "start_time": "2023-07-27T07:27:59.660Z"
   },
   {
    "duration": 111,
    "start_time": "2023-07-27T07:32:54.488Z"
   },
   {
    "duration": 380,
    "start_time": "2023-07-27T07:42:44.881Z"
   },
   {
    "duration": 246,
    "start_time": "2023-07-27T07:43:39.558Z"
   },
   {
    "duration": 324,
    "start_time": "2023-07-27T07:44:16.247Z"
   },
   {
    "duration": 517,
    "start_time": "2023-07-27T07:48:55.529Z"
   },
   {
    "duration": 335,
    "start_time": "2023-07-27T07:49:36.332Z"
   },
   {
    "duration": 362,
    "start_time": "2023-07-27T07:50:38.225Z"
   },
   {
    "duration": 332,
    "start_time": "2023-07-27T07:55:20.282Z"
   },
   {
    "duration": 236,
    "start_time": "2023-07-27T07:55:49.710Z"
   },
   {
    "duration": 102,
    "start_time": "2023-07-27T08:03:36.016Z"
   },
   {
    "duration": 106,
    "start_time": "2023-07-27T08:06:23.332Z"
   },
   {
    "duration": 79,
    "start_time": "2023-07-27T08:26:12.532Z"
   },
   {
    "duration": 80,
    "start_time": "2023-07-27T08:26:59.298Z"
   },
   {
    "duration": 79,
    "start_time": "2023-07-27T08:28:00.785Z"
   },
   {
    "duration": 439,
    "start_time": "2023-07-27T08:49:59.925Z"
   },
   {
    "duration": 75,
    "start_time": "2023-07-27T08:50:13.543Z"
   },
   {
    "duration": 81,
    "start_time": "2023-07-27T08:52:20.007Z"
   },
   {
    "duration": 85,
    "start_time": "2023-07-27T08:58:07.158Z"
   },
   {
    "duration": 94,
    "start_time": "2023-07-27T09:03:31.672Z"
   },
   {
    "duration": 106,
    "start_time": "2023-07-27T09:04:01.965Z"
   },
   {
    "duration": 105,
    "start_time": "2023-07-27T09:04:32.214Z"
   },
   {
    "duration": 93,
    "start_time": "2023-07-27T09:05:05.819Z"
   },
   {
    "duration": 72,
    "start_time": "2023-07-27T09:05:25.859Z"
   },
   {
    "duration": 194,
    "start_time": "2023-07-27T09:06:47.732Z"
   },
   {
    "duration": 75,
    "start_time": "2023-07-27T09:06:55.182Z"
   },
   {
    "duration": 427,
    "start_time": "2023-07-27T09:08:10.455Z"
   },
   {
    "duration": 123,
    "start_time": "2023-07-27T09:09:14.197Z"
   },
   {
    "duration": 32177,
    "start_time": "2023-07-27T09:09:26.585Z"
   },
   {
    "duration": 4,
    "start_time": "2023-07-27T09:09:58.764Z"
   },
   {
    "duration": 758,
    "start_time": "2023-07-27T09:09:58.769Z"
   },
   {
    "duration": 74,
    "start_time": "2023-07-27T09:09:59.530Z"
   },
   {
    "duration": 79,
    "start_time": "2023-07-27T09:09:59.606Z"
   },
   {
    "duration": 76,
    "start_time": "2023-07-27T09:09:59.688Z"
   },
   {
    "duration": 78,
    "start_time": "2023-07-27T09:09:59.766Z"
   },
   {
    "duration": 73,
    "start_time": "2023-07-27T09:09:59.846Z"
   },
   {
    "duration": 89,
    "start_time": "2023-07-27T09:09:59.921Z"
   },
   {
    "duration": 89,
    "start_time": "2023-07-27T09:10:00.013Z"
   },
   {
    "duration": 86,
    "start_time": "2023-07-27T09:10:32.431Z"
   },
   {
    "duration": 727,
    "start_time": "2023-07-27T09:22:08.351Z"
   },
   {
    "duration": 799,
    "start_time": "2023-07-27T09:22:45.058Z"
   },
   {
    "duration": 470,
    "start_time": "2023-07-27T09:23:32.708Z"
   },
   {
    "duration": 728,
    "start_time": "2023-07-27T09:25:49.797Z"
   },
   {
    "duration": 98,
    "start_time": "2023-07-27T10:16:45.021Z"
   },
   {
    "duration": 1195,
    "start_time": "2023-07-27T10:28:02.667Z"
   },
   {
    "duration": 245,
    "start_time": "2023-07-27T10:29:14.812Z"
   },
   {
    "duration": 443,
    "start_time": "2023-07-27T10:38:06.581Z"
   },
   {
    "duration": 197,
    "start_time": "2023-07-27T10:38:34.617Z"
   },
   {
    "duration": 75,
    "start_time": "2023-07-27T10:38:44.324Z"
   },
   {
    "duration": 212,
    "start_time": "2023-07-27T10:44:35.585Z"
   },
   {
    "duration": 352,
    "start_time": "2023-07-27T10:44:44.960Z"
   },
   {
    "duration": 230,
    "start_time": "2023-07-27T10:45:00.294Z"
   },
   {
    "duration": 255,
    "start_time": "2023-07-27T10:45:31.289Z"
   },
   {
    "duration": 283,
    "start_time": "2023-07-27T10:45:44.700Z"
   },
   {
    "duration": 373,
    "start_time": "2023-07-27T10:46:03.152Z"
   },
   {
    "duration": 78,
    "start_time": "2023-07-27T10:46:17.458Z"
   },
   {
    "duration": 375,
    "start_time": "2023-07-27T10:46:55.999Z"
   },
   {
    "duration": 81,
    "start_time": "2023-07-27T10:47:18.276Z"
   },
   {
    "duration": 78,
    "start_time": "2023-07-27T10:48:47.553Z"
   },
   {
    "duration": 475,
    "start_time": "2023-07-27T10:53:21.696Z"
   },
   {
    "duration": 325,
    "start_time": "2023-07-27T10:55:53.748Z"
   },
   {
    "duration": 80,
    "start_time": "2023-07-27T10:56:23.350Z"
   },
   {
    "duration": 310,
    "start_time": "2023-07-27T11:33:32.510Z"
   },
   {
    "duration": 349,
    "start_time": "2023-07-27T11:33:53.460Z"
   },
   {
    "duration": 86,
    "start_time": "2023-07-27T11:35:33.961Z"
   },
   {
    "duration": 789,
    "start_time": "2023-07-27T11:45:09.251Z"
   },
   {
    "duration": 560,
    "start_time": "2023-07-27T11:46:43.656Z"
   },
   {
    "duration": 573,
    "start_time": "2023-07-27T11:47:14.800Z"
   },
   {
    "duration": 364,
    "start_time": "2023-07-27T11:48:07.393Z"
   },
   {
    "duration": 94,
    "start_time": "2023-07-27T11:48:44.673Z"
   },
   {
    "duration": 85,
    "start_time": "2023-07-27T11:50:47.061Z"
   },
   {
    "duration": 287,
    "start_time": "2023-07-27T11:56:38.998Z"
   },
   {
    "duration": 692,
    "start_time": "2023-07-27T12:00:46.979Z"
   },
   {
    "duration": 815,
    "start_time": "2023-07-27T12:01:33.572Z"
   },
   {
    "duration": 655,
    "start_time": "2023-07-27T12:01:44.687Z"
   },
   {
    "duration": 496,
    "start_time": "2023-07-27T12:03:30.075Z"
   },
   {
    "duration": 586,
    "start_time": "2023-07-27T12:03:52.503Z"
   },
   {
    "duration": 632,
    "start_time": "2023-07-27T12:04:24.443Z"
   },
   {
    "duration": 88,
    "start_time": "2023-07-27T12:04:44.315Z"
   },
   {
    "duration": 259,
    "start_time": "2023-07-27T12:05:53.856Z"
   },
   {
    "duration": 515,
    "start_time": "2023-07-27T12:06:10.956Z"
   },
   {
    "duration": 904,
    "start_time": "2023-07-27T12:06:48.776Z"
   },
   {
    "duration": 460,
    "start_time": "2023-07-27T12:07:43.166Z"
   },
   {
    "duration": 566,
    "start_time": "2023-07-27T12:08:01.312Z"
   },
   {
    "duration": 100,
    "start_time": "2023-07-27T12:10:11.164Z"
   },
   {
    "duration": 80,
    "start_time": "2023-07-27T12:11:05.651Z"
   },
   {
    "duration": 90,
    "start_time": "2023-07-27T12:14:06.661Z"
   },
   {
    "duration": 89,
    "start_time": "2023-07-27T12:15:23.689Z"
   },
   {
    "duration": 77,
    "start_time": "2023-07-27T12:15:38.145Z"
   },
   {
    "duration": 83,
    "start_time": "2023-07-27T12:22:39.059Z"
   },
   {
    "duration": 78,
    "start_time": "2023-07-27T12:23:16.547Z"
   },
   {
    "duration": 80,
    "start_time": "2023-07-27T12:24:32.461Z"
   },
   {
    "duration": 87,
    "start_time": "2023-07-27T12:26:40.468Z"
   },
   {
    "duration": 96,
    "start_time": "2023-07-27T12:27:43.076Z"
   },
   {
    "duration": 11,
    "start_time": "2023-07-27T12:33:55.818Z"
   },
   {
    "duration": 747,
    "start_time": "2023-07-27T12:34:09.464Z"
   },
   {
    "duration": 79,
    "start_time": "2023-07-27T12:35:09.260Z"
   },
   {
    "duration": 91,
    "start_time": "2023-07-27T12:36:00.172Z"
   },
   {
    "duration": 332,
    "start_time": "2023-07-27T12:43:24.951Z"
   },
   {
    "duration": 75,
    "start_time": "2023-07-27T12:43:39.953Z"
   },
   {
    "duration": 426,
    "start_time": "2023-07-27T12:46:44.189Z"
   },
   {
    "duration": 74,
    "start_time": "2023-07-27T12:47:08.653Z"
   },
   {
    "duration": 75,
    "start_time": "2023-07-27T12:53:24.541Z"
   },
   {
    "duration": 216,
    "start_time": "2023-07-27T12:55:12.400Z"
   },
   {
    "duration": 227,
    "start_time": "2023-07-27T12:55:52.976Z"
   },
   {
    "duration": 262,
    "start_time": "2023-07-27T12:57:21.982Z"
   },
   {
    "duration": 860,
    "start_time": "2023-07-27T13:00:02.165Z"
   },
   {
    "duration": 552,
    "start_time": "2023-07-27T13:00:31.144Z"
   },
   {
    "duration": 613,
    "start_time": "2023-07-27T13:00:45.148Z"
   },
   {
    "duration": 440,
    "start_time": "2023-07-27T13:01:11.253Z"
   },
   {
    "duration": 77,
    "start_time": "2023-07-27T13:01:27.664Z"
   },
   {
    "duration": 367,
    "start_time": "2023-07-27T13:03:19.534Z"
   },
   {
    "duration": 81,
    "start_time": "2023-07-27T13:04:52.448Z"
   },
   {
    "duration": 76,
    "start_time": "2023-07-27T13:07:22.492Z"
   },
   {
    "duration": 99,
    "start_time": "2023-07-27T13:09:18.889Z"
   },
   {
    "duration": 208,
    "start_time": "2023-07-27T13:10:57.156Z"
   },
   {
    "duration": 76,
    "start_time": "2023-07-27T13:11:16.565Z"
   },
   {
    "duration": 76,
    "start_time": "2023-07-27T13:11:43.016Z"
   },
   {
    "duration": 396,
    "start_time": "2023-07-27T13:12:30.554Z"
   },
   {
    "duration": 345,
    "start_time": "2023-07-27T13:13:46.845Z"
   },
   {
    "duration": 75,
    "start_time": "2023-07-27T13:14:28.620Z"
   },
   {
    "duration": 76,
    "start_time": "2023-07-27T13:14:46.749Z"
   },
   {
    "duration": 349,
    "start_time": "2023-07-27T13:16:10.318Z"
   },
   {
    "duration": 449,
    "start_time": "2023-07-27T13:17:46.292Z"
   },
   {
    "duration": 75,
    "start_time": "2023-07-27T13:19:31.192Z"
   },
   {
    "duration": 74,
    "start_time": "2023-07-27T13:23:16.753Z"
   },
   {
    "duration": 74,
    "start_time": "2023-07-27T13:25:21.352Z"
   },
   {
    "duration": 599,
    "start_time": "2023-07-27T13:26:10.000Z"
   },
   {
    "duration": 74,
    "start_time": "2023-07-27T13:26:29.008Z"
   },
   {
    "duration": 408,
    "start_time": "2023-07-27T13:27:24.061Z"
   },
   {
    "duration": 460,
    "start_time": "2023-07-27T13:29:39.459Z"
   },
   {
    "duration": 453,
    "start_time": "2023-07-27T13:30:05.745Z"
   },
   {
    "duration": 790,
    "start_time": "2023-07-27T13:31:35.961Z"
   },
   {
    "duration": 76,
    "start_time": "2023-07-27T13:32:01.048Z"
   },
   {
    "duration": 298,
    "start_time": "2023-07-27T13:33:06.413Z"
   },
   {
    "duration": 77,
    "start_time": "2023-07-27T13:33:41.448Z"
   },
   {
    "duration": 642,
    "start_time": "2023-07-27T13:34:07.044Z"
   },
   {
    "duration": 444,
    "start_time": "2023-07-27T13:34:20.676Z"
   },
   {
    "duration": 623,
    "start_time": "2023-07-27T13:34:36.456Z"
   },
   {
    "duration": 77,
    "start_time": "2023-07-27T13:35:13.048Z"
   },
   {
    "duration": 75,
    "start_time": "2023-07-27T13:35:42.372Z"
   },
   {
    "duration": 256,
    "start_time": "2023-07-27T13:36:41.921Z"
   },
   {
    "duration": 86,
    "start_time": "2023-07-27T13:37:32.264Z"
   },
   {
    "duration": 73,
    "start_time": "2023-07-27T13:58:16.709Z"
   },
   {
    "duration": 73,
    "start_time": "2023-07-27T13:58:42.987Z"
   },
   {
    "duration": 318,
    "start_time": "2023-07-27T14:22:05.314Z"
   },
   {
    "duration": 373,
    "start_time": "2023-07-27T14:22:39.753Z"
   },
   {
    "duration": 75,
    "start_time": "2023-07-27T14:23:13.817Z"
   },
   {
    "duration": 76,
    "start_time": "2023-07-27T14:23:52.169Z"
   },
   {
    "duration": 235,
    "start_time": "2023-07-27T14:24:30.857Z"
   },
   {
    "duration": 371,
    "start_time": "2023-07-27T14:25:26.587Z"
   },
   {
    "duration": 320,
    "start_time": "2023-07-27T14:25:55.397Z"
   },
   {
    "duration": 77,
    "start_time": "2023-07-27T14:26:12.690Z"
   },
   {
    "duration": 197,
    "start_time": "2023-07-27T14:59:41.917Z"
   },
   {
    "duration": 75,
    "start_time": "2023-07-27T14:59:53.108Z"
   },
   {
    "duration": 19318,
    "start_time": "2023-07-27T15:00:27.099Z"
   },
   {
    "duration": 3,
    "start_time": "2023-07-27T15:00:46.419Z"
   },
   {
    "duration": 198,
    "start_time": "2023-07-27T15:00:46.423Z"
   },
   {
    "duration": 72,
    "start_time": "2023-07-27T15:00:46.623Z"
   },
   {
    "duration": 75,
    "start_time": "2023-07-27T15:00:46.698Z"
   },
   {
    "duration": 72,
    "start_time": "2023-07-27T15:00:46.775Z"
   },
   {
    "duration": 73,
    "start_time": "2023-07-27T15:00:46.848Z"
   },
   {
    "duration": 71,
    "start_time": "2023-07-27T15:00:46.923Z"
   },
   {
    "duration": 81,
    "start_time": "2023-07-27T15:00:46.996Z"
   },
   {
    "duration": 74,
    "start_time": "2023-07-27T15:00:47.079Z"
   },
   {
    "duration": 79,
    "start_time": "2023-07-27T15:00:47.154Z"
   },
   {
    "duration": 79,
    "start_time": "2023-07-27T15:00:47.234Z"
   },
   {
    "duration": 75,
    "start_time": "2023-07-27T15:00:47.314Z"
   },
   {
    "duration": 73,
    "start_time": "2023-07-27T15:01:13.710Z"
   },
   {
    "duration": 75,
    "start_time": "2023-07-27T15:01:53.262Z"
   },
   {
    "duration": 218,
    "start_time": "2023-07-27T15:05:26.882Z"
   },
   {
    "duration": 290,
    "start_time": "2023-07-27T15:06:12.952Z"
   },
   {
    "duration": 171,
    "start_time": "2023-07-27T15:07:49.787Z"
   },
   {
    "duration": 229,
    "start_time": "2023-07-27T15:09:31.875Z"
   },
   {
    "duration": 77,
    "start_time": "2023-07-27T15:09:43.327Z"
   },
   {
    "duration": 75,
    "start_time": "2023-07-27T15:12:46.655Z"
   },
   {
    "duration": 76,
    "start_time": "2023-07-27T15:15:25.587Z"
   },
   {
    "duration": 74,
    "start_time": "2023-07-27T15:17:55.258Z"
   },
   {
    "duration": 76,
    "start_time": "2023-07-27T15:17:58.350Z"
   },
   {
    "duration": 95,
    "start_time": "2023-07-27T15:18:08.729Z"
   },
   {
    "duration": 117,
    "start_time": "2023-07-27T15:31:35.869Z"
   },
   {
    "duration": 189,
    "start_time": "2023-07-27T15:35:13.976Z"
   },
   {
    "duration": 74,
    "start_time": "2023-07-27T15:35:43.512Z"
   },
   {
    "duration": 172,
    "start_time": "2023-07-27T15:37:44.648Z"
   },
   {
    "duration": 73,
    "start_time": "2023-07-27T15:38:41.452Z"
   },
   {
    "duration": 75,
    "start_time": "2023-07-27T15:41:22.097Z"
   },
   {
    "duration": 75,
    "start_time": "2023-07-27T15:47:53.820Z"
   },
   {
    "duration": 74,
    "start_time": "2023-07-27T15:48:23.454Z"
   },
   {
    "duration": 38029,
    "start_time": "2023-07-27T16:06:25.151Z"
   },
   {
    "duration": 3,
    "start_time": "2023-07-27T16:07:03.181Z"
   },
   {
    "duration": 177,
    "start_time": "2023-07-27T16:07:03.186Z"
   },
   {
    "duration": 75,
    "start_time": "2023-07-27T16:07:03.365Z"
   },
   {
    "duration": 75,
    "start_time": "2023-07-27T16:07:03.442Z"
   },
   {
    "duration": 73,
    "start_time": "2023-07-27T16:07:03.518Z"
   },
   {
    "duration": 76,
    "start_time": "2023-07-27T16:07:03.593Z"
   },
   {
    "duration": 73,
    "start_time": "2023-07-27T16:07:03.671Z"
   },
   {
    "duration": 82,
    "start_time": "2023-07-27T16:07:03.745Z"
   },
   {
    "duration": 77,
    "start_time": "2023-07-27T16:07:03.829Z"
   },
   {
    "duration": 79,
    "start_time": "2023-07-27T16:07:03.907Z"
   },
   {
    "duration": 76,
    "start_time": "2023-07-27T16:07:03.988Z"
   },
   {
    "duration": 17834,
    "start_time": "2023-07-27T16:33:41.774Z"
   },
   {
    "duration": 3,
    "start_time": "2023-07-27T16:33:59.610Z"
   },
   {
    "duration": 94,
    "start_time": "2023-07-27T16:33:59.614Z"
   },
   {
    "duration": 10,
    "start_time": "2023-07-27T16:33:59.710Z"
   },
   {
    "duration": 14,
    "start_time": "2023-07-27T16:33:59.723Z"
   },
   {
    "duration": 10,
    "start_time": "2023-07-27T16:33:59.739Z"
   },
   {
    "duration": 32,
    "start_time": "2023-07-27T16:33:59.751Z"
   },
   {
    "duration": 17,
    "start_time": "2023-07-27T16:33:59.785Z"
   },
   {
    "duration": 19,
    "start_time": "2023-07-27T16:33:59.803Z"
   },
   {
    "duration": 15,
    "start_time": "2023-07-27T16:33:59.824Z"
   },
   {
    "duration": 29,
    "start_time": "2023-07-27T16:33:59.840Z"
   },
   {
    "duration": 34,
    "start_time": "2023-07-27T16:33:59.871Z"
   },
   {
    "duration": 24,
    "start_time": "2023-07-27T16:34:57.418Z"
   },
   {
    "duration": 55,
    "start_time": "2023-07-28T06:54:33.220Z"
   },
   {
    "duration": 15195,
    "start_time": "2023-07-28T06:54:50.983Z"
   },
   {
    "duration": 3,
    "start_time": "2023-07-28T06:55:06.180Z"
   },
   {
    "duration": 95,
    "start_time": "2023-07-28T06:55:06.184Z"
   },
   {
    "duration": 12,
    "start_time": "2023-07-28T06:55:06.281Z"
   },
   {
    "duration": 41,
    "start_time": "2023-07-28T06:55:06.294Z"
   },
   {
    "duration": 12,
    "start_time": "2023-07-28T06:55:06.338Z"
   },
   {
    "duration": 27,
    "start_time": "2023-07-28T06:55:06.352Z"
   },
   {
    "duration": 18,
    "start_time": "2023-07-28T06:55:06.381Z"
   },
   {
    "duration": 42,
    "start_time": "2023-07-28T06:55:06.400Z"
   },
   {
    "duration": 169,
    "start_time": "2023-07-28T06:55:06.445Z"
   },
   {
    "duration": 0,
    "start_time": "2023-07-28T06:55:06.615Z"
   },
   {
    "duration": 0,
    "start_time": "2023-07-28T06:55:06.616Z"
   },
   {
    "duration": 0,
    "start_time": "2023-07-28T06:55:06.617Z"
   },
   {
    "duration": 15,
    "start_time": "2023-07-28T07:04:37.659Z"
   },
   {
    "duration": 19,
    "start_time": "2023-07-28T07:04:43.186Z"
   },
   {
    "duration": 17,
    "start_time": "2023-07-28T07:07:54.909Z"
   },
   {
    "duration": 12333,
    "start_time": "2023-07-28T07:18:42.178Z"
   },
   {
    "duration": 3,
    "start_time": "2023-07-28T07:18:54.512Z"
   },
   {
    "duration": 35,
    "start_time": "2023-07-28T07:18:54.517Z"
   },
   {
    "duration": 10,
    "start_time": "2023-07-28T07:18:54.555Z"
   },
   {
    "duration": 10,
    "start_time": "2023-07-28T07:18:54.567Z"
   },
   {
    "duration": 11,
    "start_time": "2023-07-28T07:18:54.578Z"
   },
   {
    "duration": 11,
    "start_time": "2023-07-28T07:18:54.590Z"
   },
   {
    "duration": 10,
    "start_time": "2023-07-28T07:18:54.602Z"
   },
   {
    "duration": 25,
    "start_time": "2023-07-28T07:18:54.613Z"
   },
   {
    "duration": 29,
    "start_time": "2023-07-28T07:18:54.640Z"
   },
   {
    "duration": 16,
    "start_time": "2023-07-28T07:18:54.671Z"
   },
   {
    "duration": 17,
    "start_time": "2023-07-28T07:18:54.689Z"
   },
   {
    "duration": 19283,
    "start_time": "2023-07-28T10:21:30.448Z"
   },
   {
    "duration": 2,
    "start_time": "2023-07-28T10:21:49.733Z"
   },
   {
    "duration": 55,
    "start_time": "2023-07-28T10:21:49.737Z"
   },
   {
    "duration": 13,
    "start_time": "2023-07-28T10:21:49.794Z"
   },
   {
    "duration": 13,
    "start_time": "2023-07-28T10:21:49.809Z"
   },
   {
    "duration": 14,
    "start_time": "2023-07-28T10:21:49.823Z"
   },
   {
    "duration": 13,
    "start_time": "2023-07-28T10:21:49.839Z"
   },
   {
    "duration": 18,
    "start_time": "2023-07-28T10:21:49.861Z"
   },
   {
    "duration": 26,
    "start_time": "2023-07-28T10:21:49.882Z"
   },
   {
    "duration": 13,
    "start_time": "2023-07-28T10:21:49.910Z"
   },
   {
    "duration": 23,
    "start_time": "2023-07-28T10:21:49.925Z"
   },
   {
    "duration": 40,
    "start_time": "2023-07-28T10:21:49.958Z"
   }
  ],
  "kernelspec": {
   "display_name": "Python 3 (ipykernel)",
   "language": "python",
   "name": "python3"
  },
  "language_info": {
   "codemirror_mode": {
    "name": "ipython",
    "version": 3
   },
   "file_extension": ".py",
   "mimetype": "text/x-python",
   "name": "python",
   "nbconvert_exporter": "python",
   "pygments_lexer": "ipython3",
   "version": "3.9.5"
  },
  "toc": {
   "base_numbering": 1,
   "nav_menu": {},
   "number_sections": true,
   "sideBar": true,
   "skip_h1_title": true,
   "title_cell": "Table of Contents",
   "title_sidebar": "Contents",
   "toc_cell": false,
   "toc_position": {},
   "toc_section_display": true,
   "toc_window_display": true
  }
 },
 "nbformat": 4,
 "nbformat_minor": 2
}
